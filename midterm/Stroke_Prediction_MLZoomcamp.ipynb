{
  "nbformat": 4,
  "nbformat_minor": 0,
  "metadata": {
    "colab": {
      "provenance": [],
      "include_colab_link": true
    },
    "kernelspec": {
      "name": "python3",
      "display_name": "Python 3"
    },
    "language_info": {
      "name": "python"
    }
  },
  "cells": [
    {
      "cell_type": "markdown",
      "metadata": {
        "id": "view-in-github",
        "colab_type": "text"
      },
      "source": [
        "<a href=\"https://colab.research.google.com/github/gregorywmorris/MLZoom2022/blob/main/midterm/Stroke_Prediction_MLZoomcamp.ipynb\" target=\"_parent\"><img src=\"https://colab.research.google.com/assets/colab-badge.svg\" alt=\"Open In Colab\"/></a>"
      ]
    },
    {
      "cell_type": "code",
      "source": [
        "#@title Auto-save / Auto-reload\n",
        "%autosave 1\n",
        "\n",
        "%load_ext autoreload\n",
        "%autoreload 2"
      ],
      "metadata": {
        "id": "JJzJI1-3ZR81",
        "cellView": "form",
        "colab": {
          "base_uri": "https://localhost:8080/",
          "height": 69
        },
        "outputId": "4eae92fa-5aa6-4fa7-ee5e-f7954ab7ac75"
      },
      "execution_count": null,
      "outputs": [
        {
          "output_type": "display_data",
          "data": {
            "application/javascript": [
              "IPython.notebook.set_autosave_interval(1000)"
            ]
          },
          "metadata": {}
        },
        {
          "output_type": "stream",
          "name": "stdout",
          "text": [
            "Autosaving every 1 seconds\n",
            "The autoreload extension is already loaded. To reload it, use:\n",
            "  %reload_ext autoreload\n"
          ]
        }
      ]
    },
    {
      "cell_type": "markdown",
      "source": [
        "# Why Predicting Stroke Likelihood Matters\n",
        "\n",
        "\n",
        "\n"
      ],
      "metadata": {
        "id": "DcHioufvXVVC"
      }
    },
    {
      "cell_type": "markdown",
      "source": [
        "### By the Numbers\n",
        "**Global**\n",
        "\n",
        "Strokes are a global epidemic. They are the second leading cause of death and have increased by 70% between 1990 to 2019, with death from strokes inceasing by 43% ([source](https://www.thelancet.com/journals/laneur/article/PIIS1474-4422(21)00252-0/fulltext)). The WHO estimates the anual cost of strokes to be over US$721 billion ([source](https://pubmed.ncbi.nlm.nih.gov/34986727/#:~:text=Abstract,%25%20of%20the%20global%20GDP))).\n",
        "\n",
        "**United States**\n",
        "\n",
        "While strokes have been declining for decades in the US, it still has a large financial burden, amounting to $53 billion anually ([source](https://www.cdc.gov/stroke/facts.htm)). Currently stroke is the 5th leading cause of death in the US ([source](https://www.cdc.gov/nchs/fastats/leading-causes-of-death.htm))."
      ],
      "metadata": {
        "id": "tXr-CBnSfIX9"
      }
    },
    {
      "cell_type": "markdown",
      "source": [
        "### Optimal Outcomes\n",
        "**Global**\n",
        "\n",
        "Predicting stroke can provide an opportunity to take corrective actions before a stroke occurs. Most importantly, resulting in fewer deaths and disabilities.\n",
        "\n",
        "Addtionally, the money lost to strokes would boost econamies. Assuming cost and stroke occurance are linear, if strokes were reduced by just 5%, that would inject $36 billion into world economies.\n",
        "\n",
        "**United States**\n",
        "\n",
        "And $2.65 billion into the US econamy."
      ],
      "metadata": {
        "id": "8A1AlTVkmEZi"
      }
    },
    {
      "cell_type": "markdown",
      "source": [
        "# Stroke Data"
      ],
      "metadata": {
        "id": "NXarKwO3Xl-S"
      }
    },
    {
      "cell_type": "markdown",
      "source": [
        "### An Appropriate Dataset\n",
        "A seach for various stroke datasets that included health factors showed that the [Kaggle dataset](https://www.kaggle.com/datasets/fedesoriano/stroke-prediction-dataset) was best suited. Numerous other stroke datasets are avaialbe but the lacked health factors needed. Datasets were often location based or even post stroke images. Neither are well suited for the the desired task."
      ],
      "metadata": {
        "id": "DJjxuNj2bIaz"
      }
    },
    {
      "cell_type": "markdown",
      "source": [
        "### Limitations\n",
        "\n",
        "* It is known that there are more factors for stroke prediction (such as [lab tests](https://www.ncbi.nlm.nih.gov/pmc/articles/PMC8686476/), lifestyle, etc.) than are avaialble in this data set.\n",
        "  * However, [the most important factors](https://www.sciencedirect.com/science/article/pii/S2772442522000090) are in the dataset\n",
        "* This data set was uploaded 2 years ago with no expectations of being updated.\n",
        "* The source and accuracy to the data is unkown, a verified healthcare organization would be an ideal source for stroke data."
      ],
      "metadata": {
        "id": "vxORJxlFbygp"
      }
    },
    {
      "cell_type": "markdown",
      "source": [
        "# Extract-Load-Transform (ELT)"
      ],
      "metadata": {
        "id": "ZwzwMggpXrPG"
      }
    },
    {
      "cell_type": "markdown",
      "source": [
        "#### The Process"
      ],
      "metadata": {
        "id": "qE5RNIrxX-nc"
      }
    },
    {
      "cell_type": "markdown",
      "source": [
        "\n",
        "**Extract:** Data is extracted from [Kaggle](https://www.kaggle.com/datasets/fedesoriano/stroke-prediction-dataset) to [GitHub](https://github.com/gregorywmorris/MLZoom2022/blob/main/midterm/healthcare-dataset-stroke-data.csvhttps://github.com/gregorywmorris/MLZoom2022/blob/main/midterm/healthcare-dataset-stroke-data.csv)\n",
        "\n",
        "**Load:** Data is loaded to the notebook\n",
        "\n",
        "**Transform:** Data is modified to suit and improve the model"
      ],
      "metadata": {
        "id": "lbr1XHIzqRzc"
      }
    },
    {
      "cell_type": "markdown",
      "source": [
        "### Load"
      ],
      "metadata": {
        "id": "6MvgqgdsYfy7"
      }
    },
    {
      "cell_type": "code",
      "source": [
        "data = 'https://raw.githubusercontent.com/gregorywmorris/MLZoom2022/main/midterm/healthcare-dataset-stroke-data.csv'"
      ],
      "metadata": {
        "id": "ZSMJkeSqY8JM"
      },
      "execution_count": null,
      "outputs": []
    },
    {
      "cell_type": "code",
      "source": [
        "!wget $data -O data.csv"
      ],
      "metadata": {
        "id": "1OTk6jOQZEl8",
        "colab": {
          "base_uri": "https://localhost:8080/"
        },
        "outputId": "bae342f2-5370-459e-e11e-7c830ae66109"
      },
      "execution_count": null,
      "outputs": [
        {
          "output_type": "stream",
          "name": "stdout",
          "text": [
            "--2022-10-25 13:53:19--  https://raw.githubusercontent.com/gregorywmorris/MLZoom2022/main/midterm/healthcare-dataset-stroke-data.csv\n",
            "Resolving raw.githubusercontent.com (raw.githubusercontent.com)... 185.199.109.133, 185.199.110.133, 185.199.108.133, ...\n",
            "Connecting to raw.githubusercontent.com (raw.githubusercontent.com)|185.199.109.133|:443... connected.\n",
            "HTTP request sent, awaiting response... 200 OK\n",
            "Length: 316971 (310K) [text/plain]\n",
            "Saving to: ‘data.csv’\n",
            "\n",
            "data.csv            100%[===================>] 309.54K  --.-KB/s    in 0.03s   \n",
            "\n",
            "2022-10-25 13:53:20 (9.10 MB/s) - ‘data.csv’ saved [316971/316971]\n",
            "\n"
          ]
        }
      ]
    },
    {
      "cell_type": "code",
      "source": [
        "import pandas as pd\n",
        "import numpy as np\n"
      ],
      "metadata": {
        "id": "LfDYbtBlQurT"
      },
      "execution_count": null,
      "outputs": []
    },
    {
      "cell_type": "code",
      "source": [
        "df = pd.read_csv('data.csv')"
      ],
      "metadata": {
        "id": "884eCyOkZKTY"
      },
      "execution_count": null,
      "outputs": []
    },
    {
      "cell_type": "markdown",
      "source": [
        "### Transform - Exploritory Data Analysis (EDA)"
      ],
      "metadata": {
        "id": "ihO7bhHoaiDq"
      }
    },
    {
      "cell_type": "markdown",
      "source": [
        "##### **Module Imports**"
      ],
      "metadata": {
        "id": "81vH6A5zm44_"
      }
    },
    {
      "cell_type": "code",
      "source": [
        "import pandas as pd\n",
        "import numpy as np\n",
        "import scipy.stats as stats\n",
        "from scipy.stats import ttest_ind\n",
        "import pylab\n",
        "import seaborn as sns\n",
        "import matplotlib.pyplot as plt"
      ],
      "metadata": {
        "id": "u6PGQsmm93yp"
      },
      "execution_count": null,
      "outputs": []
    },
    {
      "cell_type": "markdown",
      "source": [
        "##### **Overview**"
      ],
      "metadata": {
        "id": "hmwysGLp9Xf0"
      }
    },
    {
      "cell_type": "code",
      "source": [
        "df.head(3)"
      ],
      "metadata": {
        "colab": {
          "base_uri": "https://localhost:8080/",
          "height": 143
        },
        "id": "1mN-KQww0AyG",
        "outputId": "1632e53e-ea9d-42c0-d496-1bbd88467209"
      },
      "execution_count": null,
      "outputs": [
        {
          "output_type": "execute_result",
          "data": {
            "text/plain": [
              "      id  gender   age  hypertension  heart_disease ever_married  \\\n",
              "0   9046    Male  67.0             0              1          Yes   \n",
              "1  51676  Female  61.0             0              0          Yes   \n",
              "2  31112    Male  80.0             0              1          Yes   \n",
              "\n",
              "       work_type Residence_type  avg_glucose_level   bmi   smoking_status  \\\n",
              "0        Private          Urban             228.69  36.6  formerly smoked   \n",
              "1  Self-employed          Rural             202.21   NaN     never smoked   \n",
              "2        Private          Rural             105.92  32.5     never smoked   \n",
              "\n",
              "   stroke  \n",
              "0       1  \n",
              "1       1  \n",
              "2       1  "
            ],
            "text/html": [
              "\n",
              "  <div id=\"df-88bfdc56-b823-48ca-be85-9d735aa1c9dc\">\n",
              "    <div class=\"colab-df-container\">\n",
              "      <div>\n",
              "<style scoped>\n",
              "    .dataframe tbody tr th:only-of-type {\n",
              "        vertical-align: middle;\n",
              "    }\n",
              "\n",
              "    .dataframe tbody tr th {\n",
              "        vertical-align: top;\n",
              "    }\n",
              "\n",
              "    .dataframe thead th {\n",
              "        text-align: right;\n",
              "    }\n",
              "</style>\n",
              "<table border=\"1\" class=\"dataframe\">\n",
              "  <thead>\n",
              "    <tr style=\"text-align: right;\">\n",
              "      <th></th>\n",
              "      <th>id</th>\n",
              "      <th>gender</th>\n",
              "      <th>age</th>\n",
              "      <th>hypertension</th>\n",
              "      <th>heart_disease</th>\n",
              "      <th>ever_married</th>\n",
              "      <th>work_type</th>\n",
              "      <th>Residence_type</th>\n",
              "      <th>avg_glucose_level</th>\n",
              "      <th>bmi</th>\n",
              "      <th>smoking_status</th>\n",
              "      <th>stroke</th>\n",
              "    </tr>\n",
              "  </thead>\n",
              "  <tbody>\n",
              "    <tr>\n",
              "      <th>0</th>\n",
              "      <td>9046</td>\n",
              "      <td>Male</td>\n",
              "      <td>67.0</td>\n",
              "      <td>0</td>\n",
              "      <td>1</td>\n",
              "      <td>Yes</td>\n",
              "      <td>Private</td>\n",
              "      <td>Urban</td>\n",
              "      <td>228.69</td>\n",
              "      <td>36.6</td>\n",
              "      <td>formerly smoked</td>\n",
              "      <td>1</td>\n",
              "    </tr>\n",
              "    <tr>\n",
              "      <th>1</th>\n",
              "      <td>51676</td>\n",
              "      <td>Female</td>\n",
              "      <td>61.0</td>\n",
              "      <td>0</td>\n",
              "      <td>0</td>\n",
              "      <td>Yes</td>\n",
              "      <td>Self-employed</td>\n",
              "      <td>Rural</td>\n",
              "      <td>202.21</td>\n",
              "      <td>NaN</td>\n",
              "      <td>never smoked</td>\n",
              "      <td>1</td>\n",
              "    </tr>\n",
              "    <tr>\n",
              "      <th>2</th>\n",
              "      <td>31112</td>\n",
              "      <td>Male</td>\n",
              "      <td>80.0</td>\n",
              "      <td>0</td>\n",
              "      <td>1</td>\n",
              "      <td>Yes</td>\n",
              "      <td>Private</td>\n",
              "      <td>Rural</td>\n",
              "      <td>105.92</td>\n",
              "      <td>32.5</td>\n",
              "      <td>never smoked</td>\n",
              "      <td>1</td>\n",
              "    </tr>\n",
              "  </tbody>\n",
              "</table>\n",
              "</div>\n",
              "      <button class=\"colab-df-convert\" onclick=\"convertToInteractive('df-88bfdc56-b823-48ca-be85-9d735aa1c9dc')\"\n",
              "              title=\"Convert this dataframe to an interactive table.\"\n",
              "              style=\"display:none;\">\n",
              "        \n",
              "  <svg xmlns=\"http://www.w3.org/2000/svg\" height=\"24px\"viewBox=\"0 0 24 24\"\n",
              "       width=\"24px\">\n",
              "    <path d=\"M0 0h24v24H0V0z\" fill=\"none\"/>\n",
              "    <path d=\"M18.56 5.44l.94 2.06.94-2.06 2.06-.94-2.06-.94-.94-2.06-.94 2.06-2.06.94zm-11 1L8.5 8.5l.94-2.06 2.06-.94-2.06-.94L8.5 2.5l-.94 2.06-2.06.94zm10 10l.94 2.06.94-2.06 2.06-.94-2.06-.94-.94-2.06-.94 2.06-2.06.94z\"/><path d=\"M17.41 7.96l-1.37-1.37c-.4-.4-.92-.59-1.43-.59-.52 0-1.04.2-1.43.59L10.3 9.45l-7.72 7.72c-.78.78-.78 2.05 0 2.83L4 21.41c.39.39.9.59 1.41.59.51 0 1.02-.2 1.41-.59l7.78-7.78 2.81-2.81c.8-.78.8-2.07 0-2.86zM5.41 20L4 18.59l7.72-7.72 1.47 1.35L5.41 20z\"/>\n",
              "  </svg>\n",
              "      </button>\n",
              "      \n",
              "  <style>\n",
              "    .colab-df-container {\n",
              "      display:flex;\n",
              "      flex-wrap:wrap;\n",
              "      gap: 12px;\n",
              "    }\n",
              "\n",
              "    .colab-df-convert {\n",
              "      background-color: #E8F0FE;\n",
              "      border: none;\n",
              "      border-radius: 50%;\n",
              "      cursor: pointer;\n",
              "      display: none;\n",
              "      fill: #1967D2;\n",
              "      height: 32px;\n",
              "      padding: 0 0 0 0;\n",
              "      width: 32px;\n",
              "    }\n",
              "\n",
              "    .colab-df-convert:hover {\n",
              "      background-color: #E2EBFA;\n",
              "      box-shadow: 0px 1px 2px rgba(60, 64, 67, 0.3), 0px 1px 3px 1px rgba(60, 64, 67, 0.15);\n",
              "      fill: #174EA6;\n",
              "    }\n",
              "\n",
              "    [theme=dark] .colab-df-convert {\n",
              "      background-color: #3B4455;\n",
              "      fill: #D2E3FC;\n",
              "    }\n",
              "\n",
              "    [theme=dark] .colab-df-convert:hover {\n",
              "      background-color: #434B5C;\n",
              "      box-shadow: 0px 1px 3px 1px rgba(0, 0, 0, 0.15);\n",
              "      filter: drop-shadow(0px 1px 2px rgba(0, 0, 0, 0.3));\n",
              "      fill: #FFFFFF;\n",
              "    }\n",
              "  </style>\n",
              "\n",
              "      <script>\n",
              "        const buttonEl =\n",
              "          document.querySelector('#df-88bfdc56-b823-48ca-be85-9d735aa1c9dc button.colab-df-convert');\n",
              "        buttonEl.style.display =\n",
              "          google.colab.kernel.accessAllowed ? 'block' : 'none';\n",
              "\n",
              "        async function convertToInteractive(key) {\n",
              "          const element = document.querySelector('#df-88bfdc56-b823-48ca-be85-9d735aa1c9dc');\n",
              "          const dataTable =\n",
              "            await google.colab.kernel.invokeFunction('convertToInteractive',\n",
              "                                                     [key], {});\n",
              "          if (!dataTable) return;\n",
              "\n",
              "          const docLinkHtml = 'Like what you see? Visit the ' +\n",
              "            '<a target=\"_blank\" href=https://colab.research.google.com/notebooks/data_table.ipynb>data table notebook</a>'\n",
              "            + ' to learn more about interactive tables.';\n",
              "          element.innerHTML = '';\n",
              "          dataTable['output_type'] = 'display_data';\n",
              "          await google.colab.output.renderOutput(dataTable, element);\n",
              "          const docLink = document.createElement('div');\n",
              "          docLink.innerHTML = docLinkHtml;\n",
              "          element.appendChild(docLink);\n",
              "        }\n",
              "      </script>\n",
              "    </div>\n",
              "  </div>\n",
              "  "
            ]
          },
          "metadata": {},
          "execution_count": 183
        }
      ]
    },
    {
      "cell_type": "markdown",
      "source": [
        "'id' column is not needed."
      ],
      "metadata": {
        "id": "BIqYdcFP07Px"
      }
    },
    {
      "cell_type": "code",
      "source": [
        "df = df.drop(columns='id')"
      ],
      "metadata": {
        "id": "3oftCWYI0csg"
      },
      "execution_count": null,
      "outputs": []
    },
    {
      "cell_type": "code",
      "source": [
        "df.dtypes"
      ],
      "metadata": {
        "colab": {
          "base_uri": "https://localhost:8080/"
        },
        "id": "J1IYCx6A1Xb6",
        "outputId": "9f4a26d3-96f7-4287-c10f-562dde9b7149"
      },
      "execution_count": null,
      "outputs": [
        {
          "output_type": "execute_result",
          "data": {
            "text/plain": [
              "gender                object\n",
              "age                  float64\n",
              "hypertension           int64\n",
              "heart_disease          int64\n",
              "ever_married          object\n",
              "work_type             object\n",
              "Residence_type        object\n",
              "avg_glucose_level    float64\n",
              "bmi                  float64\n",
              "smoking_status        object\n",
              "stroke                 int64\n",
              "dtype: object"
            ]
          },
          "metadata": {},
          "execution_count": 185
        }
      ]
    },
    {
      "cell_type": "markdown",
      "source": [
        "Categories need to be converted to numberical values."
      ],
      "metadata": {
        "id": "xBjb2X-L1ay-"
      }
    },
    {
      "cell_type": "code",
      "source": [
        "df.isna().sum()"
      ],
      "metadata": {
        "id": "mAQ03bbOQ8G5",
        "outputId": "bc3b7362-3078-47c7-86d7-96ff70b4711f",
        "colab": {
          "base_uri": "https://localhost:8080/"
        }
      },
      "execution_count": null,
      "outputs": [
        {
          "output_type": "execute_result",
          "data": {
            "text/plain": [
              "gender                 0\n",
              "age                    0\n",
              "hypertension           0\n",
              "heart_disease          0\n",
              "ever_married           0\n",
              "work_type              0\n",
              "Residence_type         0\n",
              "avg_glucose_level      0\n",
              "bmi                  201\n",
              "smoking_status         0\n",
              "stroke                 0\n",
              "dtype: int64"
            ]
          },
          "metadata": {},
          "execution_count": 186
        }
      ]
    },
    {
      "cell_type": "markdown",
      "source": [
        "Column names are need to be normalized to all lower case (see Residence_type), bmi N/A needs to be adressed."
      ],
      "metadata": {
        "id": "yovfYigSzB1p"
      }
    },
    {
      "cell_type": "code",
      "source": [
        "col = df.columns.tolist()\n",
        "df = df.rename(str.lower, axis='columns')\n",
        "col = df.columns.tolist() # list with new column names all lower case"
      ],
      "metadata": {
        "id": "TaskSQ7rEhts"
      },
      "execution_count": null,
      "outputs": []
    },
    {
      "cell_type": "code",
      "source": [
        "# Check for zeros in columns that it would not make sense to exist in. \n",
        "\n",
        "(df[col] == 0).all()"
      ],
      "metadata": {
        "colab": {
          "base_uri": "https://localhost:8080/"
        },
        "id": "RH7CmhOFy32F",
        "outputId": "062fbace-5ed4-40f2-e4df-4cacbf223d5f"
      },
      "execution_count": null,
      "outputs": [
        {
          "output_type": "execute_result",
          "data": {
            "text/plain": [
              "gender               False\n",
              "age                  False\n",
              "hypertension         False\n",
              "heart_disease        False\n",
              "ever_married         False\n",
              "work_type            False\n",
              "residence_type       False\n",
              "avg_glucose_level    False\n",
              "bmi                  False\n",
              "smoking_status       False\n",
              "stroke               False\n",
              "dtype: bool"
            ]
          },
          "metadata": {},
          "execution_count": 188
        }
      ]
    },
    {
      "cell_type": "code",
      "source": [
        "df.describe() # statistiacal overview, look for outliers or oddities"
      ],
      "metadata": {
        "colab": {
          "base_uri": "https://localhost:8080/",
          "height": 300
        },
        "id": "PpdznRFdkKVl",
        "outputId": "2f11564b-b2fe-4d0a-ef59-d82eae496128"
      },
      "execution_count": null,
      "outputs": [
        {
          "output_type": "execute_result",
          "data": {
            "text/plain": [
              "               age  hypertension  heart_disease  avg_glucose_level  \\\n",
              "count  5110.000000   5110.000000    5110.000000        5110.000000   \n",
              "mean     43.226614      0.097456       0.054012         106.147677   \n",
              "std      22.612647      0.296607       0.226063          45.283560   \n",
              "min       0.080000      0.000000       0.000000          55.120000   \n",
              "25%      25.000000      0.000000       0.000000          77.245000   \n",
              "50%      45.000000      0.000000       0.000000          91.885000   \n",
              "75%      61.000000      0.000000       0.000000         114.090000   \n",
              "max      82.000000      1.000000       1.000000         271.740000   \n",
              "\n",
              "               bmi       stroke  \n",
              "count  4909.000000  5110.000000  \n",
              "mean     28.893237     0.048728  \n",
              "std       7.854067     0.215320  \n",
              "min      10.300000     0.000000  \n",
              "25%      23.500000     0.000000  \n",
              "50%      28.100000     0.000000  \n",
              "75%      33.100000     0.000000  \n",
              "max      97.600000     1.000000  "
            ],
            "text/html": [
              "\n",
              "  <div id=\"df-341989ea-7e75-4307-8e55-1dc25a3e8de3\">\n",
              "    <div class=\"colab-df-container\">\n",
              "      <div>\n",
              "<style scoped>\n",
              "    .dataframe tbody tr th:only-of-type {\n",
              "        vertical-align: middle;\n",
              "    }\n",
              "\n",
              "    .dataframe tbody tr th {\n",
              "        vertical-align: top;\n",
              "    }\n",
              "\n",
              "    .dataframe thead th {\n",
              "        text-align: right;\n",
              "    }\n",
              "</style>\n",
              "<table border=\"1\" class=\"dataframe\">\n",
              "  <thead>\n",
              "    <tr style=\"text-align: right;\">\n",
              "      <th></th>\n",
              "      <th>age</th>\n",
              "      <th>hypertension</th>\n",
              "      <th>heart_disease</th>\n",
              "      <th>avg_glucose_level</th>\n",
              "      <th>bmi</th>\n",
              "      <th>stroke</th>\n",
              "    </tr>\n",
              "  </thead>\n",
              "  <tbody>\n",
              "    <tr>\n",
              "      <th>count</th>\n",
              "      <td>5110.000000</td>\n",
              "      <td>5110.000000</td>\n",
              "      <td>5110.000000</td>\n",
              "      <td>5110.000000</td>\n",
              "      <td>4909.000000</td>\n",
              "      <td>5110.000000</td>\n",
              "    </tr>\n",
              "    <tr>\n",
              "      <th>mean</th>\n",
              "      <td>43.226614</td>\n",
              "      <td>0.097456</td>\n",
              "      <td>0.054012</td>\n",
              "      <td>106.147677</td>\n",
              "      <td>28.893237</td>\n",
              "      <td>0.048728</td>\n",
              "    </tr>\n",
              "    <tr>\n",
              "      <th>std</th>\n",
              "      <td>22.612647</td>\n",
              "      <td>0.296607</td>\n",
              "      <td>0.226063</td>\n",
              "      <td>45.283560</td>\n",
              "      <td>7.854067</td>\n",
              "      <td>0.215320</td>\n",
              "    </tr>\n",
              "    <tr>\n",
              "      <th>min</th>\n",
              "      <td>0.080000</td>\n",
              "      <td>0.000000</td>\n",
              "      <td>0.000000</td>\n",
              "      <td>55.120000</td>\n",
              "      <td>10.300000</td>\n",
              "      <td>0.000000</td>\n",
              "    </tr>\n",
              "    <tr>\n",
              "      <th>25%</th>\n",
              "      <td>25.000000</td>\n",
              "      <td>0.000000</td>\n",
              "      <td>0.000000</td>\n",
              "      <td>77.245000</td>\n",
              "      <td>23.500000</td>\n",
              "      <td>0.000000</td>\n",
              "    </tr>\n",
              "    <tr>\n",
              "      <th>50%</th>\n",
              "      <td>45.000000</td>\n",
              "      <td>0.000000</td>\n",
              "      <td>0.000000</td>\n",
              "      <td>91.885000</td>\n",
              "      <td>28.100000</td>\n",
              "      <td>0.000000</td>\n",
              "    </tr>\n",
              "    <tr>\n",
              "      <th>75%</th>\n",
              "      <td>61.000000</td>\n",
              "      <td>0.000000</td>\n",
              "      <td>0.000000</td>\n",
              "      <td>114.090000</td>\n",
              "      <td>33.100000</td>\n",
              "      <td>0.000000</td>\n",
              "    </tr>\n",
              "    <tr>\n",
              "      <th>max</th>\n",
              "      <td>82.000000</td>\n",
              "      <td>1.000000</td>\n",
              "      <td>1.000000</td>\n",
              "      <td>271.740000</td>\n",
              "      <td>97.600000</td>\n",
              "      <td>1.000000</td>\n",
              "    </tr>\n",
              "  </tbody>\n",
              "</table>\n",
              "</div>\n",
              "      <button class=\"colab-df-convert\" onclick=\"convertToInteractive('df-341989ea-7e75-4307-8e55-1dc25a3e8de3')\"\n",
              "              title=\"Convert this dataframe to an interactive table.\"\n",
              "              style=\"display:none;\">\n",
              "        \n",
              "  <svg xmlns=\"http://www.w3.org/2000/svg\" height=\"24px\"viewBox=\"0 0 24 24\"\n",
              "       width=\"24px\">\n",
              "    <path d=\"M0 0h24v24H0V0z\" fill=\"none\"/>\n",
              "    <path d=\"M18.56 5.44l.94 2.06.94-2.06 2.06-.94-2.06-.94-.94-2.06-.94 2.06-2.06.94zm-11 1L8.5 8.5l.94-2.06 2.06-.94-2.06-.94L8.5 2.5l-.94 2.06-2.06.94zm10 10l.94 2.06.94-2.06 2.06-.94-2.06-.94-.94-2.06-.94 2.06-2.06.94z\"/><path d=\"M17.41 7.96l-1.37-1.37c-.4-.4-.92-.59-1.43-.59-.52 0-1.04.2-1.43.59L10.3 9.45l-7.72 7.72c-.78.78-.78 2.05 0 2.83L4 21.41c.39.39.9.59 1.41.59.51 0 1.02-.2 1.41-.59l7.78-7.78 2.81-2.81c.8-.78.8-2.07 0-2.86zM5.41 20L4 18.59l7.72-7.72 1.47 1.35L5.41 20z\"/>\n",
              "  </svg>\n",
              "      </button>\n",
              "      \n",
              "  <style>\n",
              "    .colab-df-container {\n",
              "      display:flex;\n",
              "      flex-wrap:wrap;\n",
              "      gap: 12px;\n",
              "    }\n",
              "\n",
              "    .colab-df-convert {\n",
              "      background-color: #E8F0FE;\n",
              "      border: none;\n",
              "      border-radius: 50%;\n",
              "      cursor: pointer;\n",
              "      display: none;\n",
              "      fill: #1967D2;\n",
              "      height: 32px;\n",
              "      padding: 0 0 0 0;\n",
              "      width: 32px;\n",
              "    }\n",
              "\n",
              "    .colab-df-convert:hover {\n",
              "      background-color: #E2EBFA;\n",
              "      box-shadow: 0px 1px 2px rgba(60, 64, 67, 0.3), 0px 1px 3px 1px rgba(60, 64, 67, 0.15);\n",
              "      fill: #174EA6;\n",
              "    }\n",
              "\n",
              "    [theme=dark] .colab-df-convert {\n",
              "      background-color: #3B4455;\n",
              "      fill: #D2E3FC;\n",
              "    }\n",
              "\n",
              "    [theme=dark] .colab-df-convert:hover {\n",
              "      background-color: #434B5C;\n",
              "      box-shadow: 0px 1px 3px 1px rgba(0, 0, 0, 0.15);\n",
              "      filter: drop-shadow(0px 1px 2px rgba(0, 0, 0, 0.3));\n",
              "      fill: #FFFFFF;\n",
              "    }\n",
              "  </style>\n",
              "\n",
              "      <script>\n",
              "        const buttonEl =\n",
              "          document.querySelector('#df-341989ea-7e75-4307-8e55-1dc25a3e8de3 button.colab-df-convert');\n",
              "        buttonEl.style.display =\n",
              "          google.colab.kernel.accessAllowed ? 'block' : 'none';\n",
              "\n",
              "        async function convertToInteractive(key) {\n",
              "          const element = document.querySelector('#df-341989ea-7e75-4307-8e55-1dc25a3e8de3');\n",
              "          const dataTable =\n",
              "            await google.colab.kernel.invokeFunction('convertToInteractive',\n",
              "                                                     [key], {});\n",
              "          if (!dataTable) return;\n",
              "\n",
              "          const docLinkHtml = 'Like what you see? Visit the ' +\n",
              "            '<a target=\"_blank\" href=https://colab.research.google.com/notebooks/data_table.ipynb>data table notebook</a>'\n",
              "            + ' to learn more about interactive tables.';\n",
              "          element.innerHTML = '';\n",
              "          dataTable['output_type'] = 'display_data';\n",
              "          await google.colab.output.renderOutput(dataTable, element);\n",
              "          const docLink = document.createElement('div');\n",
              "          docLink.innerHTML = docLinkHtml;\n",
              "          element.appendChild(docLink);\n",
              "        }\n",
              "      </script>\n",
              "    </div>\n",
              "  </div>\n",
              "  "
            ]
          },
          "metadata": {},
          "execution_count": 189
        }
      ]
    },
    {
      "cell_type": "markdown",
      "source": [
        "Min age of 0.08, expected whole integers."
      ],
      "metadata": {
        "id": "44xJFB2U1YUI"
      }
    },
    {
      "cell_type": "code",
      "source": [
        "df.skew()"
      ],
      "metadata": {
        "colab": {
          "base_uri": "https://localhost:8080/"
        },
        "id": "6Y5SVKZq1THj",
        "outputId": "10790604-4210-4506-bfe5-e3e005397253"
      },
      "execution_count": null,
      "outputs": [
        {
          "output_type": "stream",
          "name": "stderr",
          "text": [
            "/usr/local/lib/python3.7/dist-packages/ipykernel_launcher.py:1: FutureWarning: Dropping of nuisance columns in DataFrame reductions (with 'numeric_only=None') is deprecated; in a future version this will raise TypeError.  Select only valid columns before calling the reduction.\n",
            "  \"\"\"Entry point for launching an IPython kernel.\n"
          ]
        },
        {
          "output_type": "execute_result",
          "data": {
            "text/plain": [
              "age                 -0.137059\n",
              "hypertension         2.715392\n",
              "heart_disease        3.947244\n",
              "avg_glucose_level    1.572284\n",
              "bmi                  1.055340\n",
              "stroke               4.193284\n",
              "dtype: float64"
            ]
          },
          "metadata": {},
          "execution_count": 190
        }
      ]
    },
    {
      "cell_type": "markdown",
      "source": [
        "Distribution of all features are all highly possitivley skewed except for age which is slightly negatively skewed. "
      ],
      "metadata": {
        "id": "qI9H2Q0Y9F2k"
      }
    },
    {
      "cell_type": "code",
      "source": [
        "sns.boxplot(x=df.age)"
      ],
      "metadata": {
        "colab": {
          "base_uri": "https://localhost:8080/",
          "height": 296
        },
        "id": "hyT0z2T1Y5Ul",
        "outputId": "48ec2a20-bc4c-4e64-c052-6a48fd608d66"
      },
      "execution_count": null,
      "outputs": [
        {
          "output_type": "execute_result",
          "data": {
            "text/plain": [
              "<matplotlib.axes._subplots.AxesSubplot at 0x7f8ad511d110>"
            ]
          },
          "metadata": {},
          "execution_count": 191
        },
        {
          "output_type": "display_data",
          "data": {
            "text/plain": [
              "<Figure size 432x288 with 1 Axes>"
            ],
            "image/png": "[encoded data removed]"
          },
          "metadata": {
            "needs_background": "light"
          }
        }
      ]
    },
    {
      "cell_type": "markdown",
      "source": [
        "Age is distributed as expected. "
      ],
      "metadata": {
        "id": "QLQyuaXwZP59"
      }
    },
    {
      "cell_type": "markdown",
      "source": [
        "##### **df.bmi**"
      ],
      "metadata": {
        "id": "o6m8bDDU3dMn"
      }
    },
    {
      "cell_type": "markdown",
      "source": [
        "###### **Overview**\n",
        "Average zeros based on groups of either possitive for stroke or not. Suspect possible difference in grouping."
      ],
      "metadata": {
        "id": "fIp_LOlE8VBF"
      }
    },
    {
      "cell_type": "code",
      "source": [
        "stroke_mean_0, stroke_mean_1 =df.groupby('stroke')['bmi'].mean()\n",
        "stroke_mean_0, stroke_mean_1 # 0 not a stroke and 1 is a stroke"
      ],
      "metadata": {
        "colab": {
          "base_uri": "https://localhost:8080/"
        },
        "id": "nX2n-uudPKlw",
        "outputId": "6949ff76-ea0c-4711-bb54-e7347021cfb1"
      },
      "execution_count": null,
      "outputs": [
        {
          "output_type": "execute_result",
          "data": {
            "text/plain": [
              "(28.823063829787234, 30.471291866028707)"
            ]
          },
          "metadata": {},
          "execution_count": 192
        }
      ]
    },
    {
      "cell_type": "code",
      "source": [
        "round((stroke_mean_1-stroke_mean_0)/stroke_mean_1,2)"
      ],
      "metadata": {
        "colab": {
          "base_uri": "https://localhost:8080/"
        },
        "id": "3Yk9pUbrJl7E",
        "outputId": "b54a4689-0bc7-46fd-ef5f-63510aa44680"
      },
      "execution_count": null,
      "outputs": [
        {
          "output_type": "execute_result",
          "data": {
            "text/plain": [
              "0.05"
            ]
          },
          "metadata": {},
          "execution_count": 193
        }
      ]
    },
    {
      "cell_type": "markdown",
      "source": [
        "Slight variance of 5% in bmi mean, note dtype is float64"
      ],
      "metadata": {
        "id": "Nov9bXxsJXN2"
      }
    },
    {
      "cell_type": "markdown",
      "source": [
        "Review the distribution of bmi as a total and by stroke value"
      ],
      "metadata": {
        "id": "rR9BHMzj3OwM"
      }
    },
    {
      "cell_type": "code",
      "source": [
        "stats.probplot(df.bmi,fit=True, plot=pylab )"
      ],
      "metadata": {
        "colab": {
          "base_uri": "https://localhost:8080/"
        },
        "id": "FXdlrygJ9--b",
        "outputId": "f6b1dbf9-824f-4247-9fc1-b7138e0b7667"
      },
      "execution_count": null,
      "outputs": [
        {
          "output_type": "execute_result",
          "data": {
            "text/plain": [
              "((array([-3.6412931, -3.4063133, -3.2768215, ...,  3.2768215,  3.4063133,\n",
              "          3.6412931]), array([10.3, 11.3, 11.5, ...,  nan,  nan,  nan])),\n",
              " (nan, nan, nan))"
            ]
          },
          "metadata": {},
          "execution_count": 194
        },
        {
          "output_type": "display_data",
          "data": {
            "text/plain": [
              "<Figure size 432x288 with 1 Axes>"
            ],
            "image/png": "[encoded data removed]"
          },
          "metadata": {
            "needs_background": "light"
          }
        }
      ]
    },
    {
      "cell_type": "markdown",
      "source": [
        "The probability plot shows that the bmi distribution is not normal (should show along a 45 degree line). Next step is to see if the distribution can be transformed to a normal distribuion for a p-value analysis."
      ],
      "metadata": {
        "id": "vg1k0AhJ_eft"
      }
    },
    {
      "cell_type": "markdown",
      "source": [
        "###### **Normalize df.bmi Distribution**\n",
        "\n",
        "Unable to normalize the distibution"
      ],
      "metadata": {
        "id": "p2yX0c2_BT2i"
      }
    },
    {
      "cell_type": "markdown",
      "source": [
        "[Normalization techniques](https://www.analyticsvidhya.com/blog/2021/05/how-to-transform-features-into-normal-gaussian-distribution/)"
      ],
      "metadata": {
        "id": "RUzwdToLHeKU"
      }
    },
    {
      "cell_type": "code",
      "source": [
        "def normality(data,feature):\n",
        "    plt.figure(figsize=(10,5))\n",
        "    plt.subplot(1,2,1)\n",
        "    sns.kdeplot(data[feature])\n",
        "    plt.subplot(1,2,2)\n",
        "    stats.probplot(data[feature],plot=pylab)\n",
        "    plt.show()"
      ],
      "metadata": {
        "id": "Ok6d8x8r_BYT"
      },
      "execution_count": null,
      "outputs": []
    },
    {
      "cell_type": "code",
      "source": [
        "df_cp = df.copy() #must reimport data if this is ran after changes are made."
      ],
      "metadata": {
        "id": "3uvQSdigdjE7"
      },
      "execution_count": null,
      "outputs": []
    },
    {
      "cell_type": "code",
      "source": [
        "#performing logarithmic transformation on the feature\n",
        "df2 = df_cp.copy()\n",
        "df2.bmi=np.log(df.bmi)\n",
        "normality(df2,'bmi')\n",
        "df2.bmi.skew()"
      ],
      "metadata": {
        "colab": {
          "base_uri": "https://localhost:8080/"
        },
        "id": "neu-_rrd-nlu",
        "outputId": "8e86bc02-9364-41c0-c8c5-9883923a4274"
      },
      "execution_count": null,
      "outputs": [
        {
          "output_type": "display_data",
          "data": {
            "text/plain": [
              "<Figure size 720x360 with 2 Axes>"
            ],
            "image/png": "[encoded data removed]"
          },
          "metadata": {
            "needs_background": "light"
          }
        },
        {
          "output_type": "execute_result",
          "data": {
            "text/plain": [
              "0.0011326087933981655"
            ]
          },
          "metadata": {},
          "execution_count": 197
        }
      ]
    },
    {
      "cell_type": "code",
      "source": [
        "#Reciprocal Transformation\n",
        "df2 = df_cp.copy()\n",
        "df2.bmi=1/df2.bmi\n",
        "normality(df2,'bmi')\n",
        "df2.bmi.skew()"
      ],
      "metadata": {
        "colab": {
          "base_uri": "https://localhost:8080/"
        },
        "id": "4tdBUnc6AKTE",
        "outputId": "79d71ef8-d4cf-40ab-ada2-2a188c4e026a"
      },
      "execution_count": null,
      "outputs": [
        {
          "output_type": "display_data",
          "data": {
            "text/plain": [
              "<Figure size 720x360 with 2 Axes>"
            ],
            "image/png": "[encoded data removed]"
          },
          "metadata": {
            "needs_background": "light"
          }
        },
        {
          "output_type": "execute_result",
          "data": {
            "text/plain": [
              "0.8591866889536662"
            ]
          },
          "metadata": {},
          "execution_count": 198
        }
      ]
    },
    {
      "cell_type": "code",
      "source": [
        "#Square Root Transformation\n",
        "df2 = df_cp.copy()\n",
        "df2.bmi=np.sqrt(df2.bmi)\n",
        "normality(df2,'bmi')\n",
        "df2.bmi.skew()"
      ],
      "metadata": {
        "colab": {
          "base_uri": "https://localhost:8080/"
        },
        "id": "UxqWZ8erAbtl",
        "outputId": "9af8df95-dbc2-46ec-ee67-143497420175"
      },
      "execution_count": null,
      "outputs": [
        {
          "output_type": "display_data",
          "data": {
            "text/plain": [
              "<Figure size 720x360 with 2 Axes>"
            ],
            "image/png": "[encoded data removed]"
          },
          "metadata": {
            "needs_background": "light"
          }
        },
        {
          "output_type": "execute_result",
          "data": {
            "text/plain": [
              "0.4748565689090631"
            ]
          },
          "metadata": {},
          "execution_count": 199
        }
      ]
    },
    {
      "cell_type": "code",
      "source": [
        "#Exponential Transformation\n",
        "df2 = df_cp.copy()\n",
        "df2.bmi=df.bmi**(1/1.2)\n",
        "normality(df2, 'bmi')\n",
        "df2.bmi.skew()"
      ],
      "metadata": {
        "colab": {
          "base_uri": "https://localhost:8080/"
        },
        "id": "0uALJfzvAv0U",
        "outputId": "f0744f16-dd53-471e-8f29-c072b6b2e16f"
      },
      "execution_count": null,
      "outputs": [
        {
          "output_type": "display_data",
          "data": {
            "text/plain": [
              "<Figure size 720x360 with 2 Axes>"
            ],
            "image/png": "[encoded data removed]"
          },
          "metadata": {
            "needs_background": "light"
          }
        },
        {
          "output_type": "execute_result",
          "data": {
            "text/plain": [
              "0.8439381127696062"
            ]
          },
          "metadata": {},
          "execution_count": 200
        }
      ]
    },
    {
      "cell_type": "code",
      "source": [
        "#Box-Cox Transformation\n",
        "df2 = df_cp.copy()\n",
        "df2.bmi,parameters=stats.boxcox(df2.bmi)\n",
        "normality(df2,'bmi')\n",
        "df2.bmi.skew()"
      ],
      "metadata": {
        "colab": {
          "base_uri": "https://localhost:8080/"
        },
        "id": "vWbrAAx_BE8t",
        "outputId": "1cdde40b-b2c0-415b-9a51-52b550ec524f"
      },
      "execution_count": null,
      "outputs": [
        {
          "output_type": "display_data",
          "data": {
            "text/plain": [
              "<Figure size 720x360 with 2 Axes>"
            ],
            "image/png": "[encoded data removed]"
          },
          "metadata": {
            "needs_background": "light"
          }
        },
        {
          "output_type": "execute_result",
          "data": {
            "text/plain": [
              "51.59532132895192"
            ]
          },
          "metadata": {},
          "execution_count": 201
        }
      ]
    },
    {
      "cell_type": "markdown",
      "source": [
        "###### **p-value**\n",
        "The two sample test tells shows that the difference in the bmi distributions are NOT statistiacally signifigant. Replacing the missing values with the overall mean is justified."
      ],
      "metadata": {
        "id": "TEMrEyF8Bgp-"
      }
    },
    {
      "cell_type": "code",
      "source": [
        "df2 = df.copy()\n",
        "df2.bmi=np.log(df.bmi)\n",
        "normality(df2,'bmi')\n",
        "df2.bmi.skew()"
      ],
      "metadata": {
        "colab": {
          "base_uri": "https://localhost:8080/"
        },
        "id": "GNX_THuHBkeU",
        "outputId": "5c5d357d-7ac8-4b3e-a7c3-4fb5b478acaa"
      },
      "execution_count": null,
      "outputs": [
        {
          "output_type": "display_data",
          "data": {
            "text/plain": [
              "<Figure size 720x360 with 2 Axes>"
            ],
            "image/png": "[encoded data removed]"
          },
          "metadata": {
            "needs_background": "light"
          }
        },
        {
          "output_type": "execute_result",
          "data": {
            "text/plain": [
              "0.0011326087933981655"
            ]
          },
          "metadata": {},
          "execution_count": 202
        }
      ]
    },
    {
      "cell_type": "markdown",
      "source": [
        "The distribution is very close to normal, only off by 0.001"
      ],
      "metadata": {
        "id": "i8MJD49ZIsyy"
      }
    },
    {
      "cell_type": "code",
      "source": [
        "df2.groupby('stroke')['bmi'].hist(bins=100, alpha=0.5)"
      ],
      "metadata": {
        "colab": {
          "base_uri": "https://localhost:8080/"
        },
        "id": "k1U0Azbb_85c",
        "outputId": "7184a1a2-b3eb-48d1-d6ed-92abd470a685"
      },
      "execution_count": null,
      "outputs": [
        {
          "output_type": "execute_result",
          "data": {
            "text/plain": [
              "stroke\n",
              "0    AxesSubplot(0.125,0.125;0.775x0.755)\n",
              "1    AxesSubplot(0.125,0.125;0.775x0.755)\n",
              "Name: bmi, dtype: object"
            ]
          },
          "metadata": {},
          "execution_count": 203
        },
        {
          "output_type": "display_data",
          "data": {
            "text/plain": [
              "<Figure size 432x288 with 1 Axes>"
            ],
            "image/png": "[encoded data removed]"
          },
          "metadata": {
            "needs_background": "light"
          }
        }
      ]
    },
    {
      "cell_type": "code",
      "source": [
        "stroke_0, stroke_1 =df2.groupby('stroke')['bmi']"
      ],
      "metadata": {
        "id": "V0GXsWMfIXXF"
      },
      "execution_count": null,
      "outputs": []
    },
    {
      "cell_type": "code",
      "source": [
        "# one sample\n",
        "stats.ttest_1samp(a=stroke_1[1],popmean=df2.stroke.mean(), nan_policy='omit')"
      ],
      "metadata": {
        "colab": {
          "base_uri": "https://localhost:8080/"
        },
        "id": "H-V2QNpcRj99",
        "outputId": "2841a2df-86b9-4f30-b8d0-2122eae94499"
      },
      "execution_count": null,
      "outputs": [
        {
          "output_type": "execute_result",
          "data": {
            "text/plain": [
              "Ttest_1sampResult(statistic=241.32120461956097, pvalue=1.2046087371152927e-256)"
            ]
          },
          "metadata": {},
          "execution_count": 205
        }
      ]
    },
    {
      "cell_type": "markdown",
      "source": [
        "The  one sample test tells shows that the difference in the bmi distributions are **NOT** statistiacally signifigant. Replacing the missing values with the overall mean is justified."
      ],
      "metadata": {
        "id": "H2BTxMgGn1-J"
      }
    },
    {
      "cell_type": "markdown",
      "source": [
        "###### **final**"
      ],
      "metadata": {
        "id": "a92GPsYJ3jss"
      }
    },
    {
      "cell_type": "code",
      "source": [
        "df.bmi = df.bmi.fillna(df.bmi.mean())"
      ],
      "metadata": {
        "id": "Fo8vX4BgQ5zD"
      },
      "execution_count": null,
      "outputs": []
    },
    {
      "cell_type": "markdown",
      "source": [
        "##### **df.age**"
      ],
      "metadata": {
        "id": "ueRY7cO1RbaL"
      }
    },
    {
      "cell_type": "code",
      "source": [
        "df.age.plot.hist(bins=50)"
      ],
      "metadata": {
        "colab": {
          "base_uri": "https://localhost:8080/"
        },
        "id": "VwVPdh9URewj",
        "outputId": "7ae352dc-6ec5-49f0-9f78-ff5559ae597a"
      },
      "execution_count": null,
      "outputs": [
        {
          "output_type": "execute_result",
          "data": {
            "text/plain": [
              "<matplotlib.axes._subplots.AxesSubplot at 0x7f8ad48ea890>"
            ]
          },
          "metadata": {},
          "execution_count": 207
        },
        {
          "output_type": "display_data",
          "data": {
            "text/plain": [
              "<Figure size 432x288 with 1 Axes>"
            ],
            "image/png": "[encoded data removed]"
          },
          "metadata": {
            "needs_background": "light"
          }
        }
      ]
    },
    {
      "cell_type": "code",
      "source": [
        "df.age.value_counts()"
      ],
      "metadata": {
        "colab": {
          "base_uri": "https://localhost:8080/"
        },
        "id": "rvNTumrwUOXr",
        "outputId": "5ca2aaf7-e6ce-4474-d374-a3e0be1c5e58"
      },
      "execution_count": null,
      "outputs": [
        {
          "output_type": "execute_result",
          "data": {
            "text/plain": [
              "78.00    102\n",
              "57.00     95\n",
              "52.00     90\n",
              "54.00     87\n",
              "51.00     86\n",
              "        ... \n",
              "1.40       3\n",
              "0.48       3\n",
              "0.16       3\n",
              "0.40       2\n",
              "0.08       2\n",
              "Name: age, Length: 104, dtype: int64"
            ]
          },
          "metadata": {},
          "execution_count": 208
        }
      ]
    },
    {
      "cell_type": "markdown",
      "source": [
        "Clarification on age [here](https://www.kaggle.com/datasets/fedesoriano/stroke-prediction-dataset/discussion/223242?search=age), decimal places represent days. "
      ],
      "metadata": {
        "id": "avPOMZm8VnCn"
      }
    },
    {
      "cell_type": "markdown",
      "source": [
        "##### **df.residence_type**"
      ],
      "metadata": {
        "id": "j8UwQXKuynfa"
      }
    },
    {
      "cell_type": "code",
      "source": [
        "rt = df.residence_type.value_counts().copy()\n",
        "rt"
      ],
      "metadata": {
        "colab": {
          "base_uri": "https://localhost:8080/"
        },
        "id": "7Pvb9f2Jytd-",
        "outputId": "0005f5f0-536e-4e3a-fd34-cf45b4c41466"
      },
      "execution_count": null,
      "outputs": [
        {
          "output_type": "execute_result",
          "data": {
            "text/plain": [
              "Urban    2596\n",
              "Rural    2514\n",
              "Name: residence_type, dtype: int64"
            ]
          },
          "metadata": {},
          "execution_count": 209
        }
      ]
    },
    {
      "cell_type": "code",
      "source": [
        "df.residence_type = (df.residence_type == 'Urban').astype(int)\n",
        "df.residence_type.value_counts()"
      ],
      "metadata": {
        "colab": {
          "base_uri": "https://localhost:8080/"
        },
        "id": "zjb4D76PzVse",
        "outputId": "e55e3307-44fa-4c1d-eab6-8faa2f1cfbbb"
      },
      "execution_count": null,
      "outputs": [
        {
          "output_type": "execute_result",
          "data": {
            "text/plain": [
              "1    2596\n",
              "0    2514\n",
              "Name: residence_type, dtype: int64"
            ]
          },
          "metadata": {},
          "execution_count": 210
        }
      ]
    },
    {
      "cell_type": "markdown",
      "source": [
        "##### **df.ever_married**"
      ],
      "metadata": {
        "id": "SjG7nktkwd2f"
      }
    },
    {
      "cell_type": "code",
      "source": [
        "em = df.ever_married.value_counts()\n",
        "em"
      ],
      "metadata": {
        "colab": {
          "base_uri": "https://localhost:8080/"
        },
        "id": "aR_iXAWFzf4d",
        "outputId": "d7fa417e-9d1a-4e14-86d7-8e15c288a8fc"
      },
      "execution_count": null,
      "outputs": [
        {
          "output_type": "execute_result",
          "data": {
            "text/plain": [
              "Yes    3353\n",
              "No     1757\n",
              "Name: ever_married, dtype: int64"
            ]
          },
          "metadata": {},
          "execution_count": 211
        }
      ]
    },
    {
      "cell_type": "code",
      "source": [
        "# convert Yes and No to 1 and 0.\n",
        "df.ever_married = (df.ever_married == 'Yes').astype(int)\n",
        "df.ever_married.value_counts()"
      ],
      "metadata": {
        "colab": {
          "base_uri": "https://localhost:8080/"
        },
        "id": "ReO5mQ4zwl-v",
        "outputId": "351e472b-d9b5-4d22-e9aa-249d2d24bde0"
      },
      "execution_count": null,
      "outputs": [
        {
          "output_type": "execute_result",
          "data": {
            "text/plain": [
              "1    3353\n",
              "0    1757\n",
              "Name: ever_married, dtype: int64"
            ]
          },
          "metadata": {},
          "execution_count": 212
        }
      ]
    },
    {
      "cell_type": "markdown",
      "source": [
        "##### **df.gender**"
      ],
      "metadata": {
        "id": "dRW60FaG8SlJ"
      }
    },
    {
      "cell_type": "code",
      "source": [
        "gender = df.gender.value_counts().copy()\n",
        "gender"
      ],
      "metadata": {
        "id": "FeVXWNOT5Llm",
        "outputId": "3a42daf3-85a1-4823-bd2e-38506fed1ccd",
        "colab": {
          "base_uri": "https://localhost:8080/"
        }
      },
      "execution_count": null,
      "outputs": [
        {
          "output_type": "execute_result",
          "data": {
            "text/plain": [
              "Female    2994\n",
              "Male      2115\n",
              "Other        1\n",
              "Name: gender, dtype: int64"
            ]
          },
          "metadata": {},
          "execution_count": 213
        }
      ]
    },
    {
      "cell_type": "code",
      "source": [
        "dummies = pd.get_dummies(df.gender)\n",
        "df = pd.concat([df, dummies],axis='columns')\n",
        "del df['gender'] # drop gender\n",
        "df.columns"
      ],
      "metadata": {
        "id": "_O8OHaid8hdV",
        "outputId": "fa6126b0-1e9f-4b54-9e3b-381a50466a5b",
        "colab": {
          "base_uri": "https://localhost:8080/"
        }
      },
      "execution_count": null,
      "outputs": [
        {
          "output_type": "execute_result",
          "data": {
            "text/plain": [
              "Index(['age', 'hypertension', 'heart_disease', 'ever_married', 'work_type',\n",
              "       'residence_type', 'avg_glucose_level', 'bmi', 'smoking_status',\n",
              "       'stroke', 'Female', 'Male', 'Other'],\n",
              "      dtype='object')"
            ]
          },
          "metadata": {},
          "execution_count": 214
        }
      ]
    },
    {
      "cell_type": "markdown",
      "source": [
        "##### **df.work_type**"
      ],
      "metadata": {
        "id": "Nw2p_AOeCc6r"
      }
    },
    {
      "cell_type": "code",
      "source": [
        "wt = df.work_type.value_counts().copy()\n",
        "wt"
      ],
      "metadata": {
        "id": "Z1F0u3Vr2BbV",
        "colab": {
          "base_uri": "https://localhost:8080/"
        },
        "outputId": "b1d7698d-e227-4c8d-ecba-248e647f3088"
      },
      "execution_count": null,
      "outputs": [
        {
          "output_type": "execute_result",
          "data": {
            "text/plain": [
              "Private          2925\n",
              "Self-employed     819\n",
              "children          687\n",
              "Govt_job          657\n",
              "Never_worked       22\n",
              "Name: work_type, dtype: int64"
            ]
          },
          "metadata": {},
          "execution_count": 215
        }
      ]
    },
    {
      "cell_type": "code",
      "source": [
        "dummies = pd.get_dummies(df.work_type)\n",
        "df = pd.concat([df, dummies],axis='columns')\n",
        "del df['work_type']\n",
        "df.columns"
      ],
      "metadata": {
        "colab": {
          "base_uri": "https://localhost:8080/"
        },
        "id": "qtoq9gBSCkqh",
        "outputId": "37ad2b0e-2f3c-448f-d8f7-4a56c9c78721"
      },
      "execution_count": null,
      "outputs": [
        {
          "output_type": "execute_result",
          "data": {
            "text/plain": [
              "Index(['age', 'hypertension', 'heart_disease', 'ever_married',\n",
              "       'residence_type', 'avg_glucose_level', 'bmi', 'smoking_status',\n",
              "       'stroke', 'Female', 'Male', 'Other', 'Govt_job', 'Never_worked',\n",
              "       'Private', 'Self-employed', 'children'],\n",
              "      dtype='object')"
            ]
          },
          "metadata": {},
          "execution_count": 216
        }
      ]
    },
    {
      "cell_type": "markdown",
      "source": [
        "##### **df.smoking_status**"
      ],
      "metadata": {
        "id": "9lVZ5FWiEUHT"
      }
    },
    {
      "cell_type": "code",
      "source": [
        "ss = df.smoking_status.value_counts().copy()\n",
        "ss"
      ],
      "metadata": {
        "id": "xU0ZdChu2Shu",
        "colab": {
          "base_uri": "https://localhost:8080/"
        },
        "outputId": "65b345c3-44ee-49da-a147-d066d0ebebae"
      },
      "execution_count": null,
      "outputs": [
        {
          "output_type": "execute_result",
          "data": {
            "text/plain": [
              "never smoked       1892\n",
              "Unknown            1544\n",
              "formerly smoked     885\n",
              "smokes              789\n",
              "Name: smoking_status, dtype: int64"
            ]
          },
          "metadata": {},
          "execution_count": 217
        }
      ]
    },
    {
      "cell_type": "code",
      "source": [
        "dummies = pd.get_dummies(df.smoking_status)\n",
        "df = pd.concat([df, dummies],axis='columns')\n",
        "del df['smoking_status']\n",
        "df.columns"
      ],
      "metadata": {
        "colab": {
          "base_uri": "https://localhost:8080/"
        },
        "id": "CndGWBgYEoSz",
        "outputId": "c0311a71-17a3-4855-cfce-0a48f65cbcda"
      },
      "execution_count": null,
      "outputs": [
        {
          "output_type": "execute_result",
          "data": {
            "text/plain": [
              "Index(['age', 'hypertension', 'heart_disease', 'ever_married',\n",
              "       'residence_type', 'avg_glucose_level', 'bmi', 'stroke', 'Female',\n",
              "       'Male', 'Other', 'Govt_job', 'Never_worked', 'Private', 'Self-employed',\n",
              "       'children', 'Unknown', 'formerly smoked', 'never smoked', 'smokes'],\n",
              "      dtype='object')"
            ]
          },
          "metadata": {},
          "execution_count": 218
        }
      ]
    },
    {
      "cell_type": "markdown",
      "source": [
        "##### **Coninued EDA**"
      ],
      "metadata": {
        "id": "Rro2nOOPQUmz"
      }
    },
    {
      "cell_type": "code",
      "source": [
        "# convert new column names to lower\n",
        "col = df.columns.tolist()\n",
        "df = df.rename(str.lower, axis='columns')\n",
        "col = df.columns.tolist() # list with new column names all lower case\n"
      ],
      "metadata": {
        "id": "at24Hr5-C-Vd"
      },
      "execution_count": null,
      "outputs": []
    },
    {
      "cell_type": "code",
      "source": [
        "# confirm column names and dtypes\n",
        "df.dtypes"
      ],
      "metadata": {
        "id": "duZ7XdjEv8fR",
        "outputId": "927c9a19-3cca-4b74-8103-f7ecf7a9d1fe",
        "colab": {
          "base_uri": "https://localhost:8080/"
        }
      },
      "execution_count": null,
      "outputs": [
        {
          "output_type": "execute_result",
          "data": {
            "text/plain": [
              "age                  float64\n",
              "hypertension           int64\n",
              "heart_disease          int64\n",
              "ever_married           int64\n",
              "residence_type         int64\n",
              "avg_glucose_level    float64\n",
              "bmi                  float64\n",
              "stroke                 int64\n",
              "female                 uint8\n",
              "male                   uint8\n",
              "other                  uint8\n",
              "govt_job               uint8\n",
              "never_worked           uint8\n",
              "private                uint8\n",
              "self-employed          uint8\n",
              "children               uint8\n",
              "unknown                uint8\n",
              "formerly smoked        uint8\n",
              "never smoked           uint8\n",
              "smokes                 uint8\n",
              "dtype: object"
            ]
          },
          "metadata": {},
          "execution_count": 220
        }
      ]
    },
    {
      "cell_type": "markdown",
      "source": [
        "Dummy columns may lose context once separated. Renaming columns would make the data more readable. Addionally the name word spacing should use '_' rather than ' ' or '-'."
      ],
      "metadata": {
        "id": "L630uNgFD1SW"
      }
    },
    {
      "cell_type": "code",
      "source": [
        "df = df.rename(columns={'other': 'other_gender','formerly smoked':'formerly_smoked','never smoked':'never_smoked','unknown':'unknown_smoking','children': 'is_a_child','private': 'employed','self-employed':'self_employed' })"
      ],
      "metadata": {
        "id": "aTLbeXqACsSO"
      },
      "execution_count": null,
      "outputs": []
    },
    {
      "cell_type": "code",
      "source": [
        "# Confirm changes\n",
        "df.dtypes"
      ],
      "metadata": {
        "id": "BdyQzHNYE-6u",
        "outputId": "b0d49a27-46f2-4495-c499-f7ac8be7d877",
        "colab": {
          "base_uri": "https://localhost:8080/"
        }
      },
      "execution_count": null,
      "outputs": [
        {
          "output_type": "execute_result",
          "data": {
            "text/plain": [
              "age                  float64\n",
              "hypertension           int64\n",
              "heart_disease          int64\n",
              "ever_married           int64\n",
              "residence_type         int64\n",
              "avg_glucose_level    float64\n",
              "bmi                  float64\n",
              "stroke                 int64\n",
              "female                 uint8\n",
              "male                   uint8\n",
              "other_gender           uint8\n",
              "govt_job               uint8\n",
              "never_worked           uint8\n",
              "employed               uint8\n",
              "self_employed          uint8\n",
              "is_a_child             uint8\n",
              "unknown_smoking        uint8\n",
              "formerly_smoked        uint8\n",
              "never_smoked           uint8\n",
              "smokes                 uint8\n",
              "dtype: object"
            ]
          },
          "metadata": {},
          "execution_count": 222
        }
      ]
    },
    {
      "cell_type": "code",
      "source": [
        "# Review feature correlation, consider action for highly correlated features.\n",
        "plt.subplots(figsize=(15,10))\n",
        "\n",
        "mask = np.triu(np.ones_like(df.corr())) # triangle mask to hide duplicates\n",
        "\n",
        "sns.heatmap(df.corr(),cmap=\"YlGnBu\", annot=True, mask=mask)"
      ],
      "metadata": {
        "id": "IOZPoiAxZN1y",
        "outputId": "705492c3-6d86-4cdf-914b-779592bd8153",
        "colab": {
          "base_uri": "https://localhost:8080/",
          "height": 691
        }
      },
      "execution_count": null,
      "outputs": [
        {
          "output_type": "execute_result",
          "data": {
            "text/plain": [
              "<matplotlib.axes._subplots.AxesSubplot at 0x7f8ad5170750>"
            ]
          },
          "metadata": {},
          "execution_count": 223
        },
        {
          "output_type": "display_data",
          "data": {
            "text/plain": [
              "<Figure size 1080x720 with 2 Axes>"
            ],
            "image/png": "[encoded data removed]"
          },
          "metadata": {
            "needs_background": "light"
          }
        }
      ]
    },
    {
      "cell_type": "markdown",
      "source": [
        "None of the independant features have a high (0.75+) correlation that may skew models. All feature have a low (< 0.50) to moderate (0.50 >< 0.75) correlation. The \n",
        "\n",
        "The exception is that a high correlation with the label / predictive value (stroke) is optimal. None of the values have a high correlation with this feature. Counter intuitively, the 'is_a_child' has the highest correlation. \n",
        "\n",
        "Note: High correlation is acceptable for dependant features. There are no dependant variables in the above graph."
      ],
      "metadata": {
        "id": "fzUXWGIULn7l"
      }
    },
    {
      "cell_type": "code",
      "source": [
        "df.skew()"
      ],
      "metadata": {
        "colab": {
          "base_uri": "https://localhost:8080/"
        },
        "id": "4BJwxV2gYimm",
        "outputId": "e38086bd-2f46-4797-eb39-6d5a5b8ebf25"
      },
      "execution_count": null,
      "outputs": [
        {
          "output_type": "execute_result",
          "data": {
            "text/plain": [
              "age                  -0.137059\n",
              "hypertension          2.715392\n",
              "heart_disease         3.947244\n",
              "ever_married         -0.657745\n",
              "residence_type       -0.032107\n",
              "avg_glucose_level     1.572284\n",
              "bmi                   1.076716\n",
              "stroke                4.193284\n",
              "female               -0.348930\n",
              "male                  0.349749\n",
              "other_gender         71.484264\n",
              "govt_job              2.219958\n",
              "never_worked         15.146344\n",
              "employed             -0.292800\n",
              "self_employed         1.852619\n",
              "is_a_child            2.143866\n",
              "unknown_smoking       0.861974\n",
              "formerly_smoked       1.727782\n",
              "never_smoked          0.537548\n",
              "smokes                1.913452\n",
              "dtype: float64"
            ]
          },
          "metadata": {},
          "execution_count": 224
        }
      ]
    },
    {
      "cell_type": "markdown",
      "source": [
        "Much of the data is far from a Gaussian (normal) distribution. This will negatively affect model performance and is likely due to the sampliung of data made avaiable on Kaggle. Consider [QuantileTransformer](https://scikit-learn.org/stable/modules/generated/sklearn.preprocessing.QuantileTransformer.html#sklearn.preprocessing.QuantileTransformer) and [PowerTransformer](https://scikit-learn.org/stable/modules/generated/sklearn.preprocessing.PowerTransformer.html#sklearn.preprocessing.PowerTransformer)."
      ],
      "metadata": {
        "id": "tS8CGuMjbQpl"
      }
    },
    {
      "cell_type": "markdown",
      "source": [
        "# Modeling"
      ],
      "metadata": {
        "id": "cfeBd0Hfri4a"
      }
    },
    {
      "cell_type": "markdown",
      "source": [
        "The modeling process is about creating a baseline to compare the tuning process against. "
      ],
      "metadata": {
        "id": "jKF-0sXIsiTR"
      }
    },
    {
      "cell_type": "markdown",
      "source": [
        "## Regression"
      ],
      "metadata": {
        "id": "9Q2ujORZDXyG"
      }
    },
    {
      "cell_type": "code",
      "source": [
        "# del to avoid dummie variable trap\n",
        "dfr = df.copy()\n",
        "del dfr['other_gender'] \n",
        "del dfr['is_a_child']\n",
        "del dfr['unkown_smoking']"
      ],
      "metadata": {
        "id": "oLDKjRMFDcP_"
      },
      "execution_count": null,
      "outputs": []
    },
    {
      "cell_type": "markdown",
      "source": [
        "# Tuning"
      ],
      "metadata": {
        "id": "4eCPd6NIrl21"
      }
    },
    {
      "cell_type": "markdown",
      "source": [
        "The tuning process consists of adjusting and measuring model parameters, and, if needed, revisiting feature engineering."
      ],
      "metadata": {
        "id": "1cKfexbBsJGC"
      }
    },
    {
      "cell_type": "markdown",
      "source": [
        "# Deployment"
      ],
      "metadata": {
        "id": "c9VGxAtiroCf"
      }
    },
    {
      "cell_type": "markdown",
      "source": [],
      "metadata": {
        "id": "f8Ci49G_tS3Z"
      }
    }
  ]
}