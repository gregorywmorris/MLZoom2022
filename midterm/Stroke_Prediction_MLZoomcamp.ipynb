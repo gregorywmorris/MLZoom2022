{
  "nbformat": 4,
  "nbformat_minor": 0,
  "metadata": {
    "colab": {
      "provenance": [],
      "authorship_tag": "ABX9TyPOeQQxsdDRJOkJEvjHfqk+",
      "include_colab_link": true
    },
    "kernelspec": {
      "name": "python3",
      "display_name": "Python 3"
    },
    "language_info": {
      "name": "python"
    }
  },
  "cells": [
    {
      "cell_type": "markdown",
      "metadata": {
        "id": "view-in-github",
        "colab_type": "text"
      },
      "source": [
        "<a href=\"https://colab.research.google.com/github/gregorywmorris/MLZoom2022/blob/main/midterm/Stroke_Prediction_MLZoomcamp.ipynb\" target=\"_parent\"><img src=\"https://colab.research.google.com/assets/colab-badge.svg\" alt=\"Open In Colab\"/></a>"
      ]
    },
    {
      "cell_type": "code",
      "source": [
        "#@title Auto-save / Auto-reload\n",
        "%autosave 1\n",
        "\n",
        "%load_ext autoreload\n",
        "%autoreload 2"
      ],
      "metadata": {
        "id": "JJzJI1-3ZR81",
        "cellView": "form",
        "outputId": "7b4a57d2-a281-462d-ff53-ab5612dd679f",
        "colab": {
          "base_uri": "https://localhost:8080/",
          "height": 69
        }
      },
      "execution_count": 2,
      "outputs": [
        {
          "output_type": "display_data",
          "data": {
            "application/javascript": [
              "IPython.notebook.set_autosave_interval(1000)"
            ]
          },
          "metadata": {}
        },
        {
          "output_type": "stream",
          "name": "stdout",
          "text": [
            "Autosaving every 1 seconds\n",
            "The autoreload extension is already loaded. To reload it, use:\n",
            "  %reload_ext autoreload\n"
          ]
        }
      ]
    },
    {
      "cell_type": "markdown",
      "source": [
        "# Stroke Prediction"
      ],
      "metadata": {
        "id": "db9y_oVIXO6f"
      }
    },
    {
      "cell_type": "markdown",
      "source": [
        "## Why Predicting Stroke Likelihood Matters\n",
        "\n",
        "\n",
        "\n"
      ],
      "metadata": {
        "id": "DcHioufvXVVC"
      }
    },
    {
      "cell_type": "markdown",
      "source": [
        "### By the Numbers\n",
        "\n",
        "Strokes are a global epidemic. They are the second leading cause of death and have increased by 70% between 1990 to 2019, with death from strokes inceasing by 43% ([source](https://www.thelancet.com/journals/laneur/article/PIIS1474-4422(21)00252-0/fulltext)). \n",
        "\n",
        "While strokes have been declining for decades in the US, it still has large financial burden amounting to $53 billion anually ([source](https://www.cdc.gov/stroke/facts.htm)). Currently stroke is the 5th leading cause of death in the US ([source](https://www.cdc.gov/nchs/fastats/leading-causes-of-death.htm))."
      ],
      "metadata": {
        "id": "tXr-CBnSfIX9"
      }
    },
    {
      "cell_type": "markdown",
      "source": [
        "# Stroke Data"
      ],
      "metadata": {
        "id": "NXarKwO3Xl-S"
      }
    },
    {
      "cell_type": "markdown",
      "source": [
        "### An Appropriate Dataset\n",
        "A seach for various stroke datasets that included health factors showed that the [Kaggle dataset](https://www.kaggle.com/datasets/fedesoriano/stroke-prediction-dataset) was best suited. Numerous other stroke datasets are avaialbe but the lacked health factors needed. Datasets were often location based or even post stroke images. Neither are well suited for the the desired task."
      ],
      "metadata": {
        "id": "DJjxuNj2bIaz"
      }
    },
    {
      "cell_type": "markdown",
      "source": [
        "### Limitations\n",
        "\n",
        "* It is known that there are more factors for stroke prediction (such as [lab tests](https://www.ncbi.nlm.nih.gov/pmc/articles/PMC8686476/), lifestyle, etc.) than are avaialble in this data set.\n",
        "  * However, [the most important factors](https://www.sciencedirect.com/science/article/pii/S2772442522000090) are in the dataset\n",
        "* This data set was uploaded 2 years ago with no expectations of being updated.\n",
        "* The source and accuracy to the data is unkown, a verified healthcare organization would be an ideal source for stroke data."
      ],
      "metadata": {
        "id": "vxORJxlFbygp"
      }
    },
    {
      "cell_type": "markdown",
      "source": [
        "# Extract-Load-Transform (ELT)"
      ],
      "metadata": {
        "id": "ZwzwMggpXrPG"
      }
    },
    {
      "cell_type": "markdown",
      "source": [
        "## The Process\n",
        "\n",
        "**Extract:** Data is extracted from [Kaggle](https://www.kaggle.com/datasets/fedesoriano/stroke-prediction-dataset) to [GitHub](https://github.com/gregorywmorris/MLZoom2022/blob/main/midterm/healthcare-dataset-stroke-data.csvhttps://github.com/gregorywmorris/MLZoom2022/blob/main/midterm/healthcare-dataset-stroke-data.csv)\n",
        "\n",
        "**Load:** Data is loaded to the notebook\n",
        "\n",
        "**Transform:** Data is modified to suit and improve the model"
      ],
      "metadata": {
        "id": "qE5RNIrxX-nc"
      }
    },
    {
      "cell_type": "markdown",
      "source": [
        "### Load"
      ],
      "metadata": {
        "id": "6MvgqgdsYfy7"
      }
    },
    {
      "cell_type": "code",
      "source": [
        "data = 'https://raw.githubusercontent.com/gregorywmorris/MLZoom2022/main/midterm/healthcare-dataset-stroke-data.csv'"
      ],
      "metadata": {
        "id": "ZSMJkeSqY8JM"
      },
      "execution_count": null,
      "outputs": []
    },
    {
      "cell_type": "code",
      "source": [
        "!wget $data -O data.csv"
      ],
      "metadata": {
        "id": "1OTk6jOQZEl8"
      },
      "execution_count": null,
      "outputs": []
    },
    {
      "cell_type": "code",
      "source": [
        "df = pd.read_csv(data)"
      ],
      "metadata": {
        "id": "884eCyOkZKTY"
      },
      "execution_count": null,
      "outputs": []
    },
    {
      "cell_type": "markdown",
      "source": [
        "### Transform"
      ],
      "metadata": {
        "id": "ihO7bhHoaiDq"
      }
    }
  ]
}