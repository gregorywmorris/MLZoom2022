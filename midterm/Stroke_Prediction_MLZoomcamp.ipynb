{
  "nbformat": 4,
  "nbformat_minor": 0,
  "metadata": {
    "colab": {
      "provenance": [],
      "authorship_tag": "ABX9TyOuBi4FyccKaZeLUHcFetlg",
      "include_colab_link": true
    },
    "kernelspec": {
      "name": "python3",
      "display_name": "Python 3"
    },
    "language_info": {
      "name": "python"
    }
  },
  "cells": [
    {
      "cell_type": "markdown",
      "metadata": {
        "id": "view-in-github",
        "colab_type": "text"
      },
      "source": [
        "<a href=\"https://colab.research.google.com/github/gregorywmorris/MLZoom2022/blob/main/midterm/Stroke_Prediction_MLZoomcamp.ipynb\" target=\"_parent\"><img src=\"https://colab.research.google.com/assets/colab-badge.svg\" alt=\"Open In Colab\"/></a>"
      ]
    },
    {
      "cell_type": "code",
      "source": [
        "%autosave 1\n",
        "\n",
        "%load_ext autoreload\n",
        "%autoreload 2"
      ],
      "metadata": {
        "id": "JJzJI1-3ZR81"
      },
      "execution_count": null,
      "outputs": []
    },
    {
      "cell_type": "markdown",
      "source": [
        "# Stroke Prediction"
      ],
      "metadata": {
        "id": "db9y_oVIXO6f"
      }
    },
    {
      "cell_type": "markdown",
      "source": [
        "## Why Predicting Stroke Likelihood Matters\n",
        "\n",
        "\n",
        "\n"
      ],
      "metadata": {
        "id": "DcHioufvXVVC"
      }
    },
    {
      "cell_type": "markdown",
      "source": [
        "# Stroke Data"
      ],
      "metadata": {
        "id": "NXarKwO3Xl-S"
      }
    },
    {
      "cell_type": "markdown",
      "source": [
        "### An Appropriate Dataset\n",
        "A seach for various stroke data ets that provide appropriate features for stroke prediction and included health factors showed that the [Kaggle dataset](https://www.kaggle.com/datasets/fedesoriano/stroke-prediction-dataset) was best suited. Numerous other stroke datasets are avaialbe but lacked health factors to be used as predictions. Data sets were often location based or even post stroke images. Neither are well suited for the the desired task."
      ],
      "metadata": {
        "id": "DJjxuNj2bIaz"
      }
    },
    {
      "cell_type": "markdown",
      "source": [
        "### Limitations\n",
        "\n",
        "* It is known that there are more factors for stroke prediction than are avaialble in this data set.\n",
        "* This data set was uploaded 2 years ago with no expectations of ever being updated.\n",
        "* The source and accuracy to the data is unkown, a verified healthcare organization would be an ideal source for stroke data."
      ],
      "metadata": {
        "id": "vxORJxlFbygp"
      }
    },
    {
      "cell_type": "markdown",
      "source": [
        "# Extract-Load-Transform (ELT)"
      ],
      "metadata": {
        "id": "ZwzwMggpXrPG"
      }
    },
    {
      "cell_type": "markdown",
      "source": [
        "## The Process\n",
        "\n",
        "**Extract:** Data is extracted from [Kaggle](https://www.kaggle.com/datasets/fedesoriano/stroke-prediction-dataset) to [GitHub](https://github.com/gregorywmorris/MLZoom2022/blob/main/midterm/healthcare-dataset-stroke-data.csvhttps://github.com/gregorywmorris/MLZoom2022/blob/main/midterm/healthcare-dataset-stroke-data.csv)\n",
        "\n",
        "**Load:** Data is loaded to the notebook\n",
        "\n",
        "**Transform:** Data is modified to suit and improve the model"
      ],
      "metadata": {
        "id": "qE5RNIrxX-nc"
      }
    },
    {
      "cell_type": "markdown",
      "source": [
        "### Load"
      ],
      "metadata": {
        "id": "6MvgqgdsYfy7"
      }
    },
    {
      "cell_type": "code",
      "source": [
        "data = 'https://raw.githubusercontent.com/gregorywmorris/MLZoom2022/main/midterm/healthcare-dataset-stroke-data.csv'"
      ],
      "metadata": {
        "id": "ZSMJkeSqY8JM"
      },
      "execution_count": null,
      "outputs": []
    },
    {
      "cell_type": "code",
      "source": [
        "!wget $data -O data.csv"
      ],
      "metadata": {
        "id": "1OTk6jOQZEl8"
      },
      "execution_count": null,
      "outputs": []
    },
    {
      "cell_type": "code",
      "source": [
        "df = pd.read_csv(data)"
      ],
      "metadata": {
        "id": "884eCyOkZKTY"
      },
      "execution_count": null,
      "outputs": []
    },
    {
      "cell_type": "markdown",
      "source": [
        "### Transform"
      ],
      "metadata": {
        "id": "ihO7bhHoaiDq"
      }
    }
  ]
}