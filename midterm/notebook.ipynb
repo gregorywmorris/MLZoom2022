{
  "nbformat": 4,
  "nbformat_minor": 0,
  "metadata": {
    "colab": {
      "provenance": [],
      "include_colab_link": true
    },
    "kernelspec": {
      "name": "python3",
      "display_name": "Python 3"
    },
    "language_info": {
      "name": "python"
    }
  },
  "cells": [
    {
      "cell_type": "markdown",
      "metadata": {
        "id": "view-in-github",
        "colab_type": "text"
      },
      "source": [
        "<a href=\"https://colab.research.google.com/github/gregorywmorris/MLZoom2022/blob/main/midterm/notebook.ipynb\" target=\"_parent\"><img src=\"https://colab.research.google.com/assets/colab-badge.svg\" alt=\"Open In Colab\"/></a>"
      ]
    },
    {
      "cell_type": "code",
      "source": [
        "#@title Auto-save / Auto-reload\n",
        "%autosave 1\n",
        "\n",
        "%load_ext autoreload\n",
        "%autoreload 2"
      ],
      "metadata": {
        "id": "JJzJI1-3ZR81",
        "cellView": "form",
        "colab": {
          "base_uri": "https://localhost:8080/",
          "height": 34
        },
        "outputId": "e5d98fe7-4c67-4f67-ae71-e2c699b334e6"
      },
      "execution_count": 1,
      "outputs": [
        {
          "output_type": "display_data",
          "data": {
            "application/javascript": [
              "IPython.notebook.set_autosave_interval(1000)"
            ]
          },
          "metadata": {}
        },
        {
          "output_type": "stream",
          "name": "stdout",
          "text": [
            "Autosaving every 1 seconds\n"
          ]
        }
      ]
    },
    {
      "cell_type": "markdown",
      "source": [
        "# Imports"
      ],
      "metadata": {
        "id": "DNy0i5C5KCm1"
      }
    },
    {
      "cell_type": "code",
      "source": [
        "import pandas as pd\n",
        "import numpy as np\n",
        "import scipy.stats as stats\n",
        "from scipy.stats import ttest_ind\n",
        "import pylab\n",
        "import seaborn as sns\n",
        "import matplotlib.pyplot as plt\n",
        "from sklearn.linear_model import LinearRegression\n",
        "from sklearn.linear_model import LogisticRegression\n",
        "from sklearn.model_selection import train_test_split\n",
        "from sklearn.feature_extraction import DictVectorizer\n",
        "from sklearn.metrics import accuracy_score\n",
        "from sklearn.metrics import roc_auc_score\n",
        "from sklearn.metrics import mean_squared_error as rmse\n",
        "from sklearn.model_selection import KFold\n",
        "from sklearn.model_selection import cross_val_score\n",
        "from sklearn.naive_bayes import ComplementNB\n",
        "from sklearn.metrics import accuracy_score"
      ],
      "metadata": {
        "id": "u6PGQsmm93yp"
      },
      "execution_count": 129,
      "outputs": []
    },
    {
      "cell_type": "markdown",
      "source": [
        "# Project Deliverables"
      ],
      "metadata": {
        "id": "K-q-FEQUD8v9"
      }
    },
    {
      "cell_type": "markdown",
      "source": [
        "**For a project, you repository/folder should contain the following:**\n",
        "\n",
        "* `README.md` with\n",
        "  * Description of the problem\n",
        "  * Instructions on how to run the project\n",
        "* Data\n",
        "  * You should either commit the dataset you used or have clear instructions how to download the dataset\n",
        "* Notebook (suggested name - `notebook.ipynb`) with\n",
        "  * Data preparation and data clearning\n",
        "  * EDA, feature importance analysis\n",
        "  * Model selection process and parameter tuning\n",
        "* Script train.py (suggested name)\n",
        "  * Training the final model\n",
        "  * Saving it to a file (e.g. pickle) or saving it with specialized software (BentoML)\n",
        "* Script `predict.py` (suggested name)\n",
        "  * Loading the model\n",
        "  * Serving it via a web serice (with Flask or specialized sofware - BentoML, KServe, etc)\n",
        "* Files with dependencies\n",
        "  * `Pipenv` and `Pipenv.lock` if you use Pipenv\n",
        "  * `bentofile.yaml` if you use BentoML\n",
        "  * or equivalents: conda environment file, requirements.txt or pyproject.toml\n",
        "* `Dockerfile` for running the service\n",
        "* Deployment\n",
        "  * URL to the service you deployed or\n",
        "  * Video or image of how you interact with the deployed service\n",
        "\n",
        "\n",
        "\n"
      ],
      "metadata": {
        "id": "PWOn7iWAEEBw"
      }
    },
    {
      "cell_type": "markdown",
      "source": [
        "# Notebook Index"
      ],
      "metadata": {
        "id": "D9DMaKbCB_4U"
      }
    },
    {
      "cell_type": "markdown",
      "source": [
        "* [Problem Statement](#problem)\n",
        "* [Data Selection](#data_about)\n",
        "  * [Data Extraction](#extraction)\n",
        "* [Initial EDA](#init_eda)\n",
        "* [Model Baseline](#baseline)\n",
        "* [Tuning](#tuning)\n",
        "* [Deployment](#deploy)"
      ],
      "metadata": {
        "id": "Vdypk-vPCNct"
      }
    },
    {
      "cell_type": "markdown",
      "source": [],
      "metadata": {
        "id": "kKTBVMtYD-4_"
      }
    },
    {
      "cell_type": "markdown",
      "source": [
        "<a name=\"problem\"></a>\n",
        "# Why Predicting Stroke Likelihood Matters\n",
        "\n",
        "\n",
        "\n"
      ],
      "metadata": {
        "id": "DcHioufvXVVC"
      }
    },
    {
      "cell_type": "markdown",
      "source": [
        "### By the Numbers\n",
        "**Global**\n",
        "\n",
        "Strokes are a global epidemic. They are the second leading cause of death and have increased by 70% between 1990 to 2019, with death from strokes inceasing by 43% ([source](https://www.thelancet.com/journals/laneur/article/PIIS1474-4422(21)00252-0/fulltext)). The WHO estimates the anual cost of strokes to be over US$721 billion ([source](https://pubmed.ncbi.nlm.nih.gov/34986727/#:~:text=Abstract,%25%20of%20the%20global%20GDP)).\n",
        "\n",
        "**United States**\n",
        "\n",
        "While strokes have been declining for decades in the US, it still has a large financial burden, amounting to $53 billion anually ([source](https://www.cdc.gov/stroke/facts.htm)). Currently stroke is the 5th leading cause of death in the US ([source](https://www.cdc.gov/nchs/fastats/leading-causes-of-death.htm))."
      ],
      "metadata": {
        "id": "tXr-CBnSfIX9"
      }
    },
    {
      "cell_type": "markdown",
      "source": [
        "### Optimal Outcomes\n",
        "**Global**\n",
        "\n",
        "Predicting stroke can provide an opportunity to take corrective actions before a stroke occurs. Most importantly, resulting in fewer deaths and disabilities.\n",
        "\n",
        "Addtionally, the money lost to strokes would boost econamies. Assuming cost and stroke occurance are linear, if strokes were reduced by just 5%, that would inject $36 billion into world economies.\n",
        "\n",
        "**United States**\n",
        "\n",
        "And $2.65 billion into the US econamy."
      ],
      "metadata": {
        "id": "8A1AlTVkmEZi"
      }
    },
    {
      "cell_type": "markdown",
      "source": [
        "<a name=\"about_data\"></a>\n",
        "# Stroke Data"
      ],
      "metadata": {
        "id": "NXarKwO3Xl-S"
      }
    },
    {
      "cell_type": "markdown",
      "source": [
        "### An Appropriate Dataset\n",
        "A seach for various stroke datasets that included health factors showed that the [Kaggle dataset](https://www.kaggle.com/datasets/fedesoriano/stroke-prediction-dataset) was best suited. Numerous other stroke datasets are avaialbe but the lacked health factors needed. Datasets were often location based or even post stroke images. Neither are well suited for the the desired task."
      ],
      "metadata": {
        "id": "DJjxuNj2bIaz"
      }
    },
    {
      "cell_type": "markdown",
      "source": [
        "### Limitations\n",
        "\n",
        "* It is known that there are more factors for stroke prediction (such as [lab tests](https://www.ncbi.nlm.nih.gov/pmc/articles/PMC8686476/), lifestyle, etc.) than are avaialble in this data set.\n",
        "  * However, [the most important factors](https://www.sciencedirect.com/science/article/pii/S2772442522000090) are in the dataset\n",
        "* This data set was uploaded 2 years ago with no expectations of being updated.\n",
        "* The source and accuracy to the data is unkown, a verified healthcare organization would be an ideal source for stroke data."
      ],
      "metadata": {
        "id": "vxORJxlFbygp"
      }
    },
    {
      "cell_type": "markdown",
      "source": [
        "# Extract-Load-Transform (ELT)"
      ],
      "metadata": {
        "id": "ZwzwMggpXrPG"
      }
    },
    {
      "cell_type": "markdown",
      "source": [
        "#### The Process"
      ],
      "metadata": {
        "id": "qE5RNIrxX-nc"
      }
    },
    {
      "cell_type": "markdown",
      "source": [
        "\n",
        "**Extract:** Data is extracted from [Kaggle](https://www.kaggle.com/datasets/fedesoriano/stroke-prediction-dataset) to [GitHub](https://github.com/gregorywmorris/MLZoom2022/blob/main/midterm/healthcare-dataset-stroke-data.csvhttps://github.com/gregorywmorris/MLZoom2022/blob/main/midterm/healthcare-dataset-stroke-data.csv)\n",
        "\n",
        "**Load:** Data is loaded to the notebook\n",
        "\n",
        "**Transform:** Data is modified to suit and improve the model"
      ],
      "metadata": {
        "id": "lbr1XHIzqRzc"
      }
    },
    {
      "cell_type": "markdown",
      "source": [
        "<a name=\"extraction\"></a>\n",
        "### Load"
      ],
      "metadata": {
        "id": "6MvgqgdsYfy7"
      }
    },
    {
      "cell_type": "code",
      "source": [
        "data = 'https://raw.githubusercontent.com/gregorywmorris/MLZoom2022/main/midterm/healthcare-dataset-stroke-data.csv'"
      ],
      "metadata": {
        "id": "ZSMJkeSqY8JM"
      },
      "execution_count": 3,
      "outputs": []
    },
    {
      "cell_type": "code",
      "source": [
        "!wget $data -O data.csv"
      ],
      "metadata": {
        "id": "1OTk6jOQZEl8",
        "colab": {
          "base_uri": "https://localhost:8080/"
        },
        "outputId": "832c60cf-365f-4a4e-a75a-cb5ef1f1cd00"
      },
      "execution_count": 4,
      "outputs": [
        {
          "output_type": "stream",
          "name": "stdout",
          "text": [
            "--2022-10-27 14:24:11--  https://raw.githubusercontent.com/gregorywmorris/MLZoom2022/main/midterm/healthcare-dataset-stroke-data.csv\n",
            "Resolving raw.githubusercontent.com (raw.githubusercontent.com)... 185.199.108.133, 185.199.109.133, 185.199.110.133, ...\n",
            "Connecting to raw.githubusercontent.com (raw.githubusercontent.com)|185.199.108.133|:443... connected.\n",
            "HTTP request sent, awaiting response... 200 OK\n",
            "Length: 316971 (310K) [text/plain]\n",
            "Saving to: ‘data.csv’\n",
            "\n",
            "\rdata.csv              0%[                    ]       0  --.-KB/s               \rdata.csv            100%[===================>] 309.54K  --.-KB/s    in 0.004s  \n",
            "\n",
            "2022-10-27 14:24:12 (70.9 MB/s) - ‘data.csv’ saved [316971/316971]\n",
            "\n"
          ]
        }
      ]
    },
    {
      "cell_type": "code",
      "source": [
        "df = pd.read_csv('data.csv')"
      ],
      "metadata": {
        "id": "884eCyOkZKTY"
      },
      "execution_count": 5,
      "outputs": []
    },
    {
      "cell_type": "markdown",
      "source": [
        "<a name=\"init_eda\"></a>\n",
        "### Transform - Exploritory Data Analysis (EDA)"
      ],
      "metadata": {
        "id": "ihO7bhHoaiDq"
      }
    },
    {
      "cell_type": "markdown",
      "source": [
        "##### **Module Imports**"
      ],
      "metadata": {
        "id": "81vH6A5zm44_"
      }
    },
    {
      "cell_type": "markdown",
      "source": [
        "##### **Overview**"
      ],
      "metadata": {
        "id": "hmwysGLp9Xf0"
      }
    },
    {
      "cell_type": "code",
      "source": [
        "df.head(3)"
      ],
      "metadata": {
        "colab": {
          "base_uri": "https://localhost:8080/",
          "height": 0
        },
        "id": "1mN-KQww0AyG",
        "outputId": "c15fa183-f289-48f7-f404-72dd20ac59e1"
      },
      "execution_count": 6,
      "outputs": [
        {
          "output_type": "execute_result",
          "data": {
            "text/plain": [
              "      id  gender   age  hypertension  heart_disease ever_married  \\\n",
              "0   9046    Male  67.0             0              1          Yes   \n",
              "1  51676  Female  61.0             0              0          Yes   \n",
              "2  31112    Male  80.0             0              1          Yes   \n",
              "\n",
              "       work_type Residence_type  avg_glucose_level   bmi   smoking_status  \\\n",
              "0        Private          Urban             228.69  36.6  formerly smoked   \n",
              "1  Self-employed          Rural             202.21   NaN     never smoked   \n",
              "2        Private          Rural             105.92  32.5     never smoked   \n",
              "\n",
              "   stroke  \n",
              "0       1  \n",
              "1       1  \n",
              "2       1  "
            ],
            "text/html": [
              "\n",
              "  <div id=\"df-3b0f2f05-afc6-4890-90fd-6671f421f410\">\n",
              "    <div class=\"colab-df-container\">\n",
              "      <div>\n",
              "<style scoped>\n",
              "    .dataframe tbody tr th:only-of-type {\n",
              "        vertical-align: middle;\n",
              "    }\n",
              "\n",
              "    .dataframe tbody tr th {\n",
              "        vertical-align: top;\n",
              "    }\n",
              "\n",
              "    .dataframe thead th {\n",
              "        text-align: right;\n",
              "    }\n",
              "</style>\n",
              "<table border=\"1\" class=\"dataframe\">\n",
              "  <thead>\n",
              "    <tr style=\"text-align: right;\">\n",
              "      <th></th>\n",
              "      <th>id</th>\n",
              "      <th>gender</th>\n",
              "      <th>age</th>\n",
              "      <th>hypertension</th>\n",
              "      <th>heart_disease</th>\n",
              "      <th>ever_married</th>\n",
              "      <th>work_type</th>\n",
              "      <th>Residence_type</th>\n",
              "      <th>avg_glucose_level</th>\n",
              "      <th>bmi</th>\n",
              "      <th>smoking_status</th>\n",
              "      <th>stroke</th>\n",
              "    </tr>\n",
              "  </thead>\n",
              "  <tbody>\n",
              "    <tr>\n",
              "      <th>0</th>\n",
              "      <td>9046</td>\n",
              "      <td>Male</td>\n",
              "      <td>67.0</td>\n",
              "      <td>0</td>\n",
              "      <td>1</td>\n",
              "      <td>Yes</td>\n",
              "      <td>Private</td>\n",
              "      <td>Urban</td>\n",
              "      <td>228.69</td>\n",
              "      <td>36.6</td>\n",
              "      <td>formerly smoked</td>\n",
              "      <td>1</td>\n",
              "    </tr>\n",
              "    <tr>\n",
              "      <th>1</th>\n",
              "      <td>51676</td>\n",
              "      <td>Female</td>\n",
              "      <td>61.0</td>\n",
              "      <td>0</td>\n",
              "      <td>0</td>\n",
              "      <td>Yes</td>\n",
              "      <td>Self-employed</td>\n",
              "      <td>Rural</td>\n",
              "      <td>202.21</td>\n",
              "      <td>NaN</td>\n",
              "      <td>never smoked</td>\n",
              "      <td>1</td>\n",
              "    </tr>\n",
              "    <tr>\n",
              "      <th>2</th>\n",
              "      <td>31112</td>\n",
              "      <td>Male</td>\n",
              "      <td>80.0</td>\n",
              "      <td>0</td>\n",
              "      <td>1</td>\n",
              "      <td>Yes</td>\n",
              "      <td>Private</td>\n",
              "      <td>Rural</td>\n",
              "      <td>105.92</td>\n",
              "      <td>32.5</td>\n",
              "      <td>never smoked</td>\n",
              "      <td>1</td>\n",
              "    </tr>\n",
              "  </tbody>\n",
              "</table>\n",
              "</div>\n",
              "      <button class=\"colab-df-convert\" onclick=\"convertToInteractive('df-3b0f2f05-afc6-4890-90fd-6671f421f410')\"\n",
              "              title=\"Convert this dataframe to an interactive table.\"\n",
              "              style=\"display:none;\">\n",
              "        \n",
              "  <svg xmlns=\"http://www.w3.org/2000/svg\" height=\"24px\"viewBox=\"0 0 24 24\"\n",
              "       width=\"24px\">\n",
              "    <path d=\"M0 0h24v24H0V0z\" fill=\"none\"/>\n",
              "    <path d=\"M18.56 5.44l.94 2.06.94-2.06 2.06-.94-2.06-.94-.94-2.06-.94 2.06-2.06.94zm-11 1L8.5 8.5l.94-2.06 2.06-.94-2.06-.94L8.5 2.5l-.94 2.06-2.06.94zm10 10l.94 2.06.94-2.06 2.06-.94-2.06-.94-.94-2.06-.94 2.06-2.06.94z\"/><path d=\"M17.41 7.96l-1.37-1.37c-.4-.4-.92-.59-1.43-.59-.52 0-1.04.2-1.43.59L10.3 9.45l-7.72 7.72c-.78.78-.78 2.05 0 2.83L4 21.41c.39.39.9.59 1.41.59.51 0 1.02-.2 1.41-.59l7.78-7.78 2.81-2.81c.8-.78.8-2.07 0-2.86zM5.41 20L4 18.59l7.72-7.72 1.47 1.35L5.41 20z\"/>\n",
              "  </svg>\n",
              "      </button>\n",
              "      \n",
              "  <style>\n",
              "    .colab-df-container {\n",
              "      display:flex;\n",
              "      flex-wrap:wrap;\n",
              "      gap: 12px;\n",
              "    }\n",
              "\n",
              "    .colab-df-convert {\n",
              "      background-color: #E8F0FE;\n",
              "      border: none;\n",
              "      border-radius: 50%;\n",
              "      cursor: pointer;\n",
              "      display: none;\n",
              "      fill: #1967D2;\n",
              "      height: 32px;\n",
              "      padding: 0 0 0 0;\n",
              "      width: 32px;\n",
              "    }\n",
              "\n",
              "    .colab-df-convert:hover {\n",
              "      background-color: #E2EBFA;\n",
              "      box-shadow: 0px 1px 2px rgba(60, 64, 67, 0.3), 0px 1px 3px 1px rgba(60, 64, 67, 0.15);\n",
              "      fill: #174EA6;\n",
              "    }\n",
              "\n",
              "    [theme=dark] .colab-df-convert {\n",
              "      background-color: #3B4455;\n",
              "      fill: #D2E3FC;\n",
              "    }\n",
              "\n",
              "    [theme=dark] .colab-df-convert:hover {\n",
              "      background-color: #434B5C;\n",
              "      box-shadow: 0px 1px 3px 1px rgba(0, 0, 0, 0.15);\n",
              "      filter: drop-shadow(0px 1px 2px rgba(0, 0, 0, 0.3));\n",
              "      fill: #FFFFFF;\n",
              "    }\n",
              "  </style>\n",
              "\n",
              "      <script>\n",
              "        const buttonEl =\n",
              "          document.querySelector('#df-3b0f2f05-afc6-4890-90fd-6671f421f410 button.colab-df-convert');\n",
              "        buttonEl.style.display =\n",
              "          google.colab.kernel.accessAllowed ? 'block' : 'none';\n",
              "\n",
              "        async function convertToInteractive(key) {\n",
              "          const element = document.querySelector('#df-3b0f2f05-afc6-4890-90fd-6671f421f410');\n",
              "          const dataTable =\n",
              "            await google.colab.kernel.invokeFunction('convertToInteractive',\n",
              "                                                     [key], {});\n",
              "          if (!dataTable) return;\n",
              "\n",
              "          const docLinkHtml = 'Like what you see? Visit the ' +\n",
              "            '<a target=\"_blank\" href=https://colab.research.google.com/notebooks/data_table.ipynb>data table notebook</a>'\n",
              "            + ' to learn more about interactive tables.';\n",
              "          element.innerHTML = '';\n",
              "          dataTable['output_type'] = 'display_data';\n",
              "          await google.colab.output.renderOutput(dataTable, element);\n",
              "          const docLink = document.createElement('div');\n",
              "          docLink.innerHTML = docLinkHtml;\n",
              "          element.appendChild(docLink);\n",
              "        }\n",
              "      </script>\n",
              "    </div>\n",
              "  </div>\n",
              "  "
            ]
          },
          "metadata": {},
          "execution_count": 6
        }
      ]
    },
    {
      "cell_type": "markdown",
      "source": [
        "'id' column is not needed."
      ],
      "metadata": {
        "id": "BIqYdcFP07Px"
      }
    },
    {
      "cell_type": "code",
      "source": [
        "df = df.drop(columns='id')"
      ],
      "metadata": {
        "id": "3oftCWYI0csg"
      },
      "execution_count": 7,
      "outputs": []
    },
    {
      "cell_type": "code",
      "source": [
        "df.dtypes"
      ],
      "metadata": {
        "colab": {
          "base_uri": "https://localhost:8080/"
        },
        "id": "J1IYCx6A1Xb6",
        "outputId": "660e790c-fee9-496b-c249-11693ae6064c"
      },
      "execution_count": 8,
      "outputs": [
        {
          "output_type": "execute_result",
          "data": {
            "text/plain": [
              "gender                object\n",
              "age                  float64\n",
              "hypertension           int64\n",
              "heart_disease          int64\n",
              "ever_married          object\n",
              "work_type             object\n",
              "Residence_type        object\n",
              "avg_glucose_level    float64\n",
              "bmi                  float64\n",
              "smoking_status        object\n",
              "stroke                 int64\n",
              "dtype: object"
            ]
          },
          "metadata": {},
          "execution_count": 8
        }
      ]
    },
    {
      "cell_type": "markdown",
      "source": [
        "Categories need to be converted to numberical values."
      ],
      "metadata": {
        "id": "xBjb2X-L1ay-"
      }
    },
    {
      "cell_type": "code",
      "source": [
        "df.isna().sum()"
      ],
      "metadata": {
        "id": "mAQ03bbOQ8G5",
        "outputId": "1c72e384-01cf-4073-cee6-03ff77630a0a",
        "colab": {
          "base_uri": "https://localhost:8080/"
        }
      },
      "execution_count": 9,
      "outputs": [
        {
          "output_type": "execute_result",
          "data": {
            "text/plain": [
              "gender                 0\n",
              "age                    0\n",
              "hypertension           0\n",
              "heart_disease          0\n",
              "ever_married           0\n",
              "work_type              0\n",
              "Residence_type         0\n",
              "avg_glucose_level      0\n",
              "bmi                  201\n",
              "smoking_status         0\n",
              "stroke                 0\n",
              "dtype: int64"
            ]
          },
          "metadata": {},
          "execution_count": 9
        }
      ]
    },
    {
      "cell_type": "markdown",
      "source": [
        "Column names are need to be normalized to all lower case (see Residence_type), bmi N/A needs to be adressed."
      ],
      "metadata": {
        "id": "yovfYigSzB1p"
      }
    },
    {
      "cell_type": "code",
      "source": [
        "col = df.columns.tolist()\n",
        "df = df.rename(str.lower, axis='columns')\n",
        "col = df.columns.tolist() # list with new column names all lower case"
      ],
      "metadata": {
        "id": "TaskSQ7rEhts"
      },
      "execution_count": 10,
      "outputs": []
    },
    {
      "cell_type": "code",
      "source": [
        "# Check for zeros in columns that it would not make sense to exist in. \n",
        "\n",
        "(df[col] == 0).all()"
      ],
      "metadata": {
        "colab": {
          "base_uri": "https://localhost:8080/"
        },
        "id": "RH7CmhOFy32F",
        "outputId": "05453de3-292b-4a07-ddd4-898a4eba670b"
      },
      "execution_count": 11,
      "outputs": [
        {
          "output_type": "execute_result",
          "data": {
            "text/plain": [
              "gender               False\n",
              "age                  False\n",
              "hypertension         False\n",
              "heart_disease        False\n",
              "ever_married         False\n",
              "work_type            False\n",
              "residence_type       False\n",
              "avg_glucose_level    False\n",
              "bmi                  False\n",
              "smoking_status       False\n",
              "stroke               False\n",
              "dtype: bool"
            ]
          },
          "metadata": {},
          "execution_count": 11
        }
      ]
    },
    {
      "cell_type": "code",
      "source": [
        "df.describe() # statistiacal overview, look for outliers or oddities"
      ],
      "metadata": {
        "colab": {
          "base_uri": "https://localhost:8080/",
          "height": 0
        },
        "id": "PpdznRFdkKVl",
        "outputId": "eadaaac2-e741-4407-9360-3976c2a8f2c7"
      },
      "execution_count": 12,
      "outputs": [
        {
          "output_type": "execute_result",
          "data": {
            "text/plain": [
              "               age  hypertension  heart_disease  avg_glucose_level  \\\n",
              "count  5110.000000   5110.000000    5110.000000        5110.000000   \n",
              "mean     43.226614      0.097456       0.054012         106.147677   \n",
              "std      22.612647      0.296607       0.226063          45.283560   \n",
              "min       0.080000      0.000000       0.000000          55.120000   \n",
              "25%      25.000000      0.000000       0.000000          77.245000   \n",
              "50%      45.000000      0.000000       0.000000          91.885000   \n",
              "75%      61.000000      0.000000       0.000000         114.090000   \n",
              "max      82.000000      1.000000       1.000000         271.740000   \n",
              "\n",
              "               bmi       stroke  \n",
              "count  4909.000000  5110.000000  \n",
              "mean     28.893237     0.048728  \n",
              "std       7.854067     0.215320  \n",
              "min      10.300000     0.000000  \n",
              "25%      23.500000     0.000000  \n",
              "50%      28.100000     0.000000  \n",
              "75%      33.100000     0.000000  \n",
              "max      97.600000     1.000000  "
            ],
            "text/html": [
              "\n",
              "  <div id=\"df-1cb6c407-6c2d-4083-b3af-cbfd4472753f\">\n",
              "    <div class=\"colab-df-container\">\n",
              "      <div>\n",
              "<style scoped>\n",
              "    .dataframe tbody tr th:only-of-type {\n",
              "        vertical-align: middle;\n",
              "    }\n",
              "\n",
              "    .dataframe tbody tr th {\n",
              "        vertical-align: top;\n",
              "    }\n",
              "\n",
              "    .dataframe thead th {\n",
              "        text-align: right;\n",
              "    }\n",
              "</style>\n",
              "<table border=\"1\" class=\"dataframe\">\n",
              "  <thead>\n",
              "    <tr style=\"text-align: right;\">\n",
              "      <th></th>\n",
              "      <th>age</th>\n",
              "      <th>hypertension</th>\n",
              "      <th>heart_disease</th>\n",
              "      <th>avg_glucose_level</th>\n",
              "      <th>bmi</th>\n",
              "      <th>stroke</th>\n",
              "    </tr>\n",
              "  </thead>\n",
              "  <tbody>\n",
              "    <tr>\n",
              "      <th>count</th>\n",
              "      <td>5110.000000</td>\n",
              "      <td>5110.000000</td>\n",
              "      <td>5110.000000</td>\n",
              "      <td>5110.000000</td>\n",
              "      <td>4909.000000</td>\n",
              "      <td>5110.000000</td>\n",
              "    </tr>\n",
              "    <tr>\n",
              "      <th>mean</th>\n",
              "      <td>43.226614</td>\n",
              "      <td>0.097456</td>\n",
              "      <td>0.054012</td>\n",
              "      <td>106.147677</td>\n",
              "      <td>28.893237</td>\n",
              "      <td>0.048728</td>\n",
              "    </tr>\n",
              "    <tr>\n",
              "      <th>std</th>\n",
              "      <td>22.612647</td>\n",
              "      <td>0.296607</td>\n",
              "      <td>0.226063</td>\n",
              "      <td>45.283560</td>\n",
              "      <td>7.854067</td>\n",
              "      <td>0.215320</td>\n",
              "    </tr>\n",
              "    <tr>\n",
              "      <th>min</th>\n",
              "      <td>0.080000</td>\n",
              "      <td>0.000000</td>\n",
              "      <td>0.000000</td>\n",
              "      <td>55.120000</td>\n",
              "      <td>10.300000</td>\n",
              "      <td>0.000000</td>\n",
              "    </tr>\n",
              "    <tr>\n",
              "      <th>25%</th>\n",
              "      <td>25.000000</td>\n",
              "      <td>0.000000</td>\n",
              "      <td>0.000000</td>\n",
              "      <td>77.245000</td>\n",
              "      <td>23.500000</td>\n",
              "      <td>0.000000</td>\n",
              "    </tr>\n",
              "    <tr>\n",
              "      <th>50%</th>\n",
              "      <td>45.000000</td>\n",
              "      <td>0.000000</td>\n",
              "      <td>0.000000</td>\n",
              "      <td>91.885000</td>\n",
              "      <td>28.100000</td>\n",
              "      <td>0.000000</td>\n",
              "    </tr>\n",
              "    <tr>\n",
              "      <th>75%</th>\n",
              "      <td>61.000000</td>\n",
              "      <td>0.000000</td>\n",
              "      <td>0.000000</td>\n",
              "      <td>114.090000</td>\n",
              "      <td>33.100000</td>\n",
              "      <td>0.000000</td>\n",
              "    </tr>\n",
              "    <tr>\n",
              "      <th>max</th>\n",
              "      <td>82.000000</td>\n",
              "      <td>1.000000</td>\n",
              "      <td>1.000000</td>\n",
              "      <td>271.740000</td>\n",
              "      <td>97.600000</td>\n",
              "      <td>1.000000</td>\n",
              "    </tr>\n",
              "  </tbody>\n",
              "</table>\n",
              "</div>\n",
              "      <button class=\"colab-df-convert\" onclick=\"convertToInteractive('df-1cb6c407-6c2d-4083-b3af-cbfd4472753f')\"\n",
              "              title=\"Convert this dataframe to an interactive table.\"\n",
              "              style=\"display:none;\">\n",
              "        \n",
              "  <svg xmlns=\"http://www.w3.org/2000/svg\" height=\"24px\"viewBox=\"0 0 24 24\"\n",
              "       width=\"24px\">\n",
              "    <path d=\"M0 0h24v24H0V0z\" fill=\"none\"/>\n",
              "    <path d=\"M18.56 5.44l.94 2.06.94-2.06 2.06-.94-2.06-.94-.94-2.06-.94 2.06-2.06.94zm-11 1L8.5 8.5l.94-2.06 2.06-.94-2.06-.94L8.5 2.5l-.94 2.06-2.06.94zm10 10l.94 2.06.94-2.06 2.06-.94-2.06-.94-.94-2.06-.94 2.06-2.06.94z\"/><path d=\"M17.41 7.96l-1.37-1.37c-.4-.4-.92-.59-1.43-.59-.52 0-1.04.2-1.43.59L10.3 9.45l-7.72 7.72c-.78.78-.78 2.05 0 2.83L4 21.41c.39.39.9.59 1.41.59.51 0 1.02-.2 1.41-.59l7.78-7.78 2.81-2.81c.8-.78.8-2.07 0-2.86zM5.41 20L4 18.59l7.72-7.72 1.47 1.35L5.41 20z\"/>\n",
              "  </svg>\n",
              "      </button>\n",
              "      \n",
              "  <style>\n",
              "    .colab-df-container {\n",
              "      display:flex;\n",
              "      flex-wrap:wrap;\n",
              "      gap: 12px;\n",
              "    }\n",
              "\n",
              "    .colab-df-convert {\n",
              "      background-color: #E8F0FE;\n",
              "      border: none;\n",
              "      border-radius: 50%;\n",
              "      cursor: pointer;\n",
              "      display: none;\n",
              "      fill: #1967D2;\n",
              "      height: 32px;\n",
              "      padding: 0 0 0 0;\n",
              "      width: 32px;\n",
              "    }\n",
              "\n",
              "    .colab-df-convert:hover {\n",
              "      background-color: #E2EBFA;\n",
              "      box-shadow: 0px 1px 2px rgba(60, 64, 67, 0.3), 0px 1px 3px 1px rgba(60, 64, 67, 0.15);\n",
              "      fill: #174EA6;\n",
              "    }\n",
              "\n",
              "    [theme=dark] .colab-df-convert {\n",
              "      background-color: #3B4455;\n",
              "      fill: #D2E3FC;\n",
              "    }\n",
              "\n",
              "    [theme=dark] .colab-df-convert:hover {\n",
              "      background-color: #434B5C;\n",
              "      box-shadow: 0px 1px 3px 1px rgba(0, 0, 0, 0.15);\n",
              "      filter: drop-shadow(0px 1px 2px rgba(0, 0, 0, 0.3));\n",
              "      fill: #FFFFFF;\n",
              "    }\n",
              "  </style>\n",
              "\n",
              "      <script>\n",
              "        const buttonEl =\n",
              "          document.querySelector('#df-1cb6c407-6c2d-4083-b3af-cbfd4472753f button.colab-df-convert');\n",
              "        buttonEl.style.display =\n",
              "          google.colab.kernel.accessAllowed ? 'block' : 'none';\n",
              "\n",
              "        async function convertToInteractive(key) {\n",
              "          const element = document.querySelector('#df-1cb6c407-6c2d-4083-b3af-cbfd4472753f');\n",
              "          const dataTable =\n",
              "            await google.colab.kernel.invokeFunction('convertToInteractive',\n",
              "                                                     [key], {});\n",
              "          if (!dataTable) return;\n",
              "\n",
              "          const docLinkHtml = 'Like what you see? Visit the ' +\n",
              "            '<a target=\"_blank\" href=https://colab.research.google.com/notebooks/data_table.ipynb>data table notebook</a>'\n",
              "            + ' to learn more about interactive tables.';\n",
              "          element.innerHTML = '';\n",
              "          dataTable['output_type'] = 'display_data';\n",
              "          await google.colab.output.renderOutput(dataTable, element);\n",
              "          const docLink = document.createElement('div');\n",
              "          docLink.innerHTML = docLinkHtml;\n",
              "          element.appendChild(docLink);\n",
              "        }\n",
              "      </script>\n",
              "    </div>\n",
              "  </div>\n",
              "  "
            ]
          },
          "metadata": {},
          "execution_count": 12
        }
      ]
    },
    {
      "cell_type": "markdown",
      "source": [
        "Min age of 0.08, expected whole integers."
      ],
      "metadata": {
        "id": "44xJFB2U1YUI"
      }
    },
    {
      "cell_type": "code",
      "source": [
        "df.skew()"
      ],
      "metadata": {
        "colab": {
          "base_uri": "https://localhost:8080/"
        },
        "id": "6Y5SVKZq1THj",
        "outputId": "3a56a86e-3e1d-4cd5-e210-69e64f9b2436"
      },
      "execution_count": 13,
      "outputs": [
        {
          "output_type": "stream",
          "name": "stderr",
          "text": [
            "/usr/local/lib/python3.7/dist-packages/ipykernel_launcher.py:1: FutureWarning: Dropping of nuisance columns in DataFrame reductions (with 'numeric_only=None') is deprecated; in a future version this will raise TypeError.  Select only valid columns before calling the reduction.\n",
            "  \"\"\"Entry point for launching an IPython kernel.\n"
          ]
        },
        {
          "output_type": "execute_result",
          "data": {
            "text/plain": [
              "age                 -0.137059\n",
              "hypertension         2.715392\n",
              "heart_disease        3.947244\n",
              "avg_glucose_level    1.572284\n",
              "bmi                  1.055340\n",
              "stroke               4.193284\n",
              "dtype: float64"
            ]
          },
          "metadata": {},
          "execution_count": 13
        }
      ]
    },
    {
      "cell_type": "markdown",
      "source": [
        "Distribution of all features are all highly possitivley skewed except for age which is slightly negatively skewed. "
      ],
      "metadata": {
        "id": "qI9H2Q0Y9F2k"
      }
    },
    {
      "cell_type": "code",
      "source": [
        "sns.boxplot(x=df.age)"
      ],
      "metadata": {
        "colab": {
          "base_uri": "https://localhost:8080/",
          "height": 0
        },
        "id": "hyT0z2T1Y5Ul",
        "outputId": "a2be20c1-39a9-437a-cfb1-d1c1143ab551"
      },
      "execution_count": 14,
      "outputs": [
        {
          "output_type": "execute_result",
          "data": {
            "text/plain": [
              "<matplotlib.axes._subplots.AxesSubplot at 0x7f87ae9fc290>"
            ]
          },
          "metadata": {},
          "execution_count": 14
        },
        {
          "output_type": "display_data",
          "data": {
            "text/plain": [
              "<Figure size 432x288 with 1 Axes>"
            ],
            "image/png": "[encoded data removed]"
          },
          "metadata": {
            "needs_background": "light"
          }
        }
      ]
    },
    {
      "cell_type": "markdown",
      "source": [
        "Age is distributed as expected. "
      ],
      "metadata": {
        "id": "QLQyuaXwZP59"
      }
    },
    {
      "cell_type": "code",
      "source": [
        "# excludes categrorical data\n",
        "df.hist(figsize=(15, 10));"
      ],
      "metadata": {
        "colab": {
          "base_uri": "https://localhost:8080/",
          "height": 0
        },
        "id": "hgVs7gxMM88G",
        "outputId": "7de85db9-c0c2-4f9f-e742-bdc61598a816"
      },
      "execution_count": 15,
      "outputs": [
        {
          "output_type": "display_data",
          "data": {
            "text/plain": [
              "<Figure size 1080x720 with 6 Axes>"
            ],
            "image/png": "[encoded data removed]"
          },
          "metadata": {
            "needs_background": "light"
          }
        }
      ]
    },
    {
      "cell_type": "markdown",
      "source": [
        "##### **Label Value - df.stroke**"
      ],
      "metadata": {
        "id": "--ca6mrDfId7"
      }
    },
    {
      "cell_type": "markdown",
      "source": [
        "The target value to be predicted is df.stroke. This a a binary feature with 1 to indicate possitive for stroke and 0 to indicate not possitive for stroke."
      ],
      "metadata": {
        "id": "TxiuI7_efO9z"
      }
    },
    {
      "cell_type": "code",
      "source": [
        "df.stroke.value_counts()"
      ],
      "metadata": {
        "colab": {
          "base_uri": "https://localhost:8080/"
        },
        "id": "eA79LB_tflS8",
        "outputId": "cc0303c2-8c84-4975-c99c-4c974e417d23"
      },
      "execution_count": 16,
      "outputs": [
        {
          "output_type": "execute_result",
          "data": {
            "text/plain": [
              "0    4861\n",
              "1     249\n",
              "Name: stroke, dtype: int64"
            ]
          },
          "metadata": {},
          "execution_count": 16
        }
      ]
    },
    {
      "cell_type": "code",
      "source": [
        "df.stroke.plot.hist()"
      ],
      "metadata": {
        "colab": {
          "base_uri": "https://localhost:8080/",
          "height": 0
        },
        "id": "nyLMvIiuKYC0",
        "outputId": "573be6e6-421d-4841-bd8e-b96cadc1b206"
      },
      "execution_count": 17,
      "outputs": [
        {
          "output_type": "execute_result",
          "data": {
            "text/plain": [
              "<matplotlib.axes._subplots.AxesSubplot at 0x7f87ae15b850>"
            ]
          },
          "metadata": {},
          "execution_count": 17
        },
        {
          "output_type": "display_data",
          "data": {
            "text/plain": [
              "<Figure size 432x288 with 1 Axes>"
            ],
            "image/png": "[encoded data removed]"
          },
          "metadata": {
            "needs_background": "light"
          }
        }
      ]
    },
    {
      "cell_type": "markdown",
      "source": [
        "The label data is imbalanced, this is consistent with expectations as more people don't have stroke than do. Further consideration should be done on the negative affect this may have on the models. [Possible solutions](https://www.analyticsvidhya.com/blog/2020/07/10-techniques-to-deal-with-class-imbalance-in-machine-learning/)."
      ],
      "metadata": {
        "id": "QOhA6upLs0RL"
      }
    },
    {
      "cell_type": "code",
      "source": [],
      "metadata": {
        "id": "nj4uqtpMKqj0"
      },
      "execution_count": 17,
      "outputs": []
    },
    {
      "cell_type": "markdown",
      "source": [
        "##### **df.bmi**"
      ],
      "metadata": {
        "id": "o6m8bDDU3dMn"
      }
    },
    {
      "cell_type": "markdown",
      "source": [
        "###### **Overview**\n",
        "Average zeros based on groups of either possitive for stroke or not. Suspect possible difference in grouping."
      ],
      "metadata": {
        "id": "fIp_LOlE8VBF"
      }
    },
    {
      "cell_type": "code",
      "source": [
        "stroke_bmi_0, stroke_bmi_1 =df.groupby('stroke')['bmi'].mean()\n",
        "stroke_bmi_0, stroke_bmi_1 # 0 not a stroke and 1 is a stroke"
      ],
      "metadata": {
        "id": "nX2n-uudPKlw",
        "colab": {
          "base_uri": "https://localhost:8080/"
        },
        "outputId": "bef9d6c0-d84c-4ec0-d768-7b90375777d3"
      },
      "execution_count": 18,
      "outputs": [
        {
          "output_type": "execute_result",
          "data": {
            "text/plain": [
              "(28.823063829787234, 30.471291866028707)"
            ]
          },
          "metadata": {},
          "execution_count": 18
        }
      ]
    },
    {
      "cell_type": "code",
      "source": [
        "round((stroke_bmi_1-stroke_bmi_0)/stroke_bmi_1,2)"
      ],
      "metadata": {
        "colab": {
          "base_uri": "https://localhost:8080/"
        },
        "id": "3Yk9pUbrJl7E",
        "outputId": "b6d58e05-8bd8-43bc-8c85-7124b7b4a1f5"
      },
      "execution_count": 19,
      "outputs": [
        {
          "output_type": "execute_result",
          "data": {
            "text/plain": [
              "0.05"
            ]
          },
          "metadata": {},
          "execution_count": 19
        }
      ]
    },
    {
      "cell_type": "markdown",
      "source": [
        "Slight variance of 5% in bmi mean, note dtype is float64"
      ],
      "metadata": {
        "id": "Nov9bXxsJXN2"
      }
    },
    {
      "cell_type": "markdown",
      "source": [
        "Review the distribution of bmi as a total and by stroke value"
      ],
      "metadata": {
        "id": "rR9BHMzj3OwM"
      }
    },
    {
      "cell_type": "code",
      "source": [
        "stats.probplot(df.bmi,fit=True, plot=pylab )"
      ],
      "metadata": {
        "colab": {
          "base_uri": "https://localhost:8080/",
          "height": 0
        },
        "id": "FXdlrygJ9--b",
        "outputId": "01e7fa86-0b93-41ba-b638-642ac2974c80"
      },
      "execution_count": 20,
      "outputs": [
        {
          "output_type": "execute_result",
          "data": {
            "text/plain": [
              "((array([-3.6412931, -3.4063133, -3.2768215, ...,  3.2768215,  3.4063133,\n",
              "          3.6412931]), array([10.3, 11.3, 11.5, ...,  nan,  nan,  nan])),\n",
              " (nan, nan, nan))"
            ]
          },
          "metadata": {},
          "execution_count": 20
        },
        {
          "output_type": "display_data",
          "data": {
            "text/plain": [
              "<Figure size 432x288 with 1 Axes>"
            ],
            "image/png": "[encoded data removed]"
          },
          "metadata": {
            "needs_background": "light"
          }
        }
      ]
    },
    {
      "cell_type": "markdown",
      "source": [
        "The probability plot shows that the bmi distribution is not normal. Next step is to see if the distribution can be transformed to a normal distribuion for a p-value analysis."
      ],
      "metadata": {
        "id": "vg1k0AhJ_eft"
      }
    },
    {
      "cell_type": "markdown",
      "source": [
        "###### **Normalize df.bmi Distribution**\n",
        "\n",
        "Distribution can be normalized well enough to calculate a p-value."
      ],
      "metadata": {
        "id": "p2yX0c2_BT2i"
      }
    },
    {
      "cell_type": "markdown",
      "source": [
        "[Normalization techniques](https://www.analyticsvidhya.com/blog/2021/05/how-to-transform-features-into-normal-gaussian-distribution/)"
      ],
      "metadata": {
        "id": "RUzwdToLHeKU"
      }
    },
    {
      "cell_type": "code",
      "source": [
        "def normality(data,feature):\n",
        "    plt.figure(figsize=(10,5))\n",
        "    plt.subplot(1,2,1)\n",
        "    sns.kdeplot(data[feature])\n",
        "    plt.subplot(1,2,2)\n",
        "    stats.probplot(data[feature],plot=pylab)\n",
        "    plt.show()"
      ],
      "metadata": {
        "id": "Ok6d8x8r_BYT"
      },
      "execution_count": 21,
      "outputs": []
    },
    {
      "cell_type": "code",
      "source": [
        "df_cp = df.copy() #must reimport data if this is ran after changes are made."
      ],
      "metadata": {
        "id": "3uvQSdigdjE7"
      },
      "execution_count": 22,
      "outputs": []
    },
    {
      "cell_type": "code",
      "source": [
        "#performing logarithmic transformation on the feature\n",
        "df_bmi = df_cp.copy()\n",
        "df_bmi.bmi=np.log(df.bmi)\n",
        "normality(df_bmi,'bmi')\n",
        "df_bmi.bmi.skew()"
      ],
      "metadata": {
        "colab": {
          "base_uri": "https://localhost:8080/",
          "height": 0
        },
        "id": "neu-_rrd-nlu",
        "outputId": "a75a1805-13b0-4317-fc8d-30de3963dde2"
      },
      "execution_count": 23,
      "outputs": [
        {
          "output_type": "display_data",
          "data": {
            "text/plain": [
              "<Figure size 720x360 with 2 Axes>"
            ],
            "image/png": "[encoded data removed]"
          },
          "metadata": {
            "needs_background": "light"
          }
        },
        {
          "output_type": "execute_result",
          "data": {
            "text/plain": [
              "0.0011326087933981655"
            ]
          },
          "metadata": {},
          "execution_count": 23
        }
      ]
    },
    {
      "cell_type": "code",
      "source": [
        "#Reciprocal Transformation\n",
        "df_bmi = df_cp.copy()\n",
        "df_bmi.bmi=1/df_bmi.bmi\n",
        "normality(df_bmi,'bmi')\n",
        "df_bmi.bmi.skew()"
      ],
      "metadata": {
        "colab": {
          "base_uri": "https://localhost:8080/",
          "height": 0
        },
        "id": "4tdBUnc6AKTE",
        "outputId": "03d5fea1-e304-4ff3-8335-a7f6f6a5647e"
      },
      "execution_count": 24,
      "outputs": [
        {
          "output_type": "display_data",
          "data": {
            "text/plain": [
              "<Figure size 720x360 with 2 Axes>"
            ],
            "image/png": "[encoded data removed]"
          },
          "metadata": {
            "needs_background": "light"
          }
        },
        {
          "output_type": "execute_result",
          "data": {
            "text/plain": [
              "0.8591866889536662"
            ]
          },
          "metadata": {},
          "execution_count": 24
        }
      ]
    },
    {
      "cell_type": "code",
      "source": [
        "#Square Root Transformation\n",
        "df_bmi = df_cp.copy()\n",
        "df_bmi.bmi=np.sqrt(df_bmi.bmi)\n",
        "normality(df_bmi,'bmi')\n",
        "df_bmi.bmi.skew()"
      ],
      "metadata": {
        "colab": {
          "base_uri": "https://localhost:8080/",
          "height": 0
        },
        "id": "UxqWZ8erAbtl",
        "outputId": "841087be-1ff6-4b55-9b08-b64306122f9b"
      },
      "execution_count": 25,
      "outputs": [
        {
          "output_type": "display_data",
          "data": {
            "text/plain": [
              "<Figure size 720x360 with 2 Axes>"
            ],
            "image/png": "[encoded data removed]"
          },
          "metadata": {
            "needs_background": "light"
          }
        },
        {
          "output_type": "execute_result",
          "data": {
            "text/plain": [
              "0.4748565689090631"
            ]
          },
          "metadata": {},
          "execution_count": 25
        }
      ]
    },
    {
      "cell_type": "code",
      "source": [
        "#Exponential Transformation\n",
        "df_bmi = df_cp.copy()\n",
        "df_bmi.bmi=df.bmi**(1/1.2)\n",
        "normality(df_bmi, 'bmi')\n",
        "df_bmi.bmi.skew()"
      ],
      "metadata": {
        "colab": {
          "base_uri": "https://localhost:8080/",
          "height": 0
        },
        "id": "0uALJfzvAv0U",
        "outputId": "874ea6c9-5227-4a37-d5d8-640bfb22d680"
      },
      "execution_count": 26,
      "outputs": [
        {
          "output_type": "display_data",
          "data": {
            "text/plain": [
              "<Figure size 720x360 with 2 Axes>"
            ],
            "image/png": "[encoded data removed]"
          },
          "metadata": {
            "needs_background": "light"
          }
        },
        {
          "output_type": "execute_result",
          "data": {
            "text/plain": [
              "0.8439381127696062"
            ]
          },
          "metadata": {},
          "execution_count": 26
        }
      ]
    },
    {
      "cell_type": "code",
      "source": [
        "#Box-Cox Transformation\n",
        "df_bmi = df_cp.copy()\n",
        "df_bmi.bmi,parameters=stats.boxcox(df_bmi.bmi)\n",
        "normality(df_bmi,'bmi')\n",
        "df_bmi.bmi.skew()"
      ],
      "metadata": {
        "colab": {
          "base_uri": "https://localhost:8080/",
          "height": 0
        },
        "id": "vWbrAAx_BE8t",
        "outputId": "1fd67843-1e0c-44ed-9315-81b66a76cc96"
      },
      "execution_count": 27,
      "outputs": [
        {
          "output_type": "display_data",
          "data": {
            "text/plain": [
              "<Figure size 720x360 with 2 Axes>"
            ],
            "image/png": "[encoded data removed]"
          },
          "metadata": {
            "needs_background": "light"
          }
        },
        {
          "output_type": "execute_result",
          "data": {
            "text/plain": [
              "51.59532132895192"
            ]
          },
          "metadata": {},
          "execution_count": 27
        }
      ]
    },
    {
      "cell_type": "markdown",
      "source": [
        "###### **p-value**\n",
        "The two sample test shows that the difference in the bmi distributions are NOT statistiacally signifigant. Replacing the missing values with the overall mean is justified."
      ],
      "metadata": {
        "id": "TEMrEyF8Bgp-"
      }
    },
    {
      "cell_type": "code",
      "source": [
        "df_bmi = df.copy()\n",
        "df_bmi.bmi=np.log(df.bmi)\n",
        "normality(df_bmi,'bmi')\n",
        "df_bmi.bmi.skew()"
      ],
      "metadata": {
        "colab": {
          "base_uri": "https://localhost:8080/",
          "height": 0
        },
        "id": "GNX_THuHBkeU",
        "outputId": "ef09b504-c149-4b41-b050-bfebbc7da91a"
      },
      "execution_count": 28,
      "outputs": [
        {
          "output_type": "display_data",
          "data": {
            "text/plain": [
              "<Figure size 720x360 with 2 Axes>"
            ],
            "image/png": "[encoded data removed]"
          },
          "metadata": {
            "needs_background": "light"
          }
        },
        {
          "output_type": "execute_result",
          "data": {
            "text/plain": [
              "0.0011326087933981655"
            ]
          },
          "metadata": {},
          "execution_count": 28
        }
      ]
    },
    {
      "cell_type": "markdown",
      "source": [
        "The distribution is very close to normal, only off by 0.001"
      ],
      "metadata": {
        "id": "i8MJD49ZIsyy"
      }
    },
    {
      "cell_type": "code",
      "source": [
        "df_bmi.groupby('stroke')['bmi'].hist(bins=100, alpha=0.5)"
      ],
      "metadata": {
        "colab": {
          "base_uri": "https://localhost:8080/",
          "height": 0
        },
        "id": "k1U0Azbb_85c",
        "outputId": "37948ad4-655d-4a66-af95-c57f29626208"
      },
      "execution_count": 29,
      "outputs": [
        {
          "output_type": "execute_result",
          "data": {
            "text/plain": [
              "stroke\n",
              "0    AxesSubplot(0.125,0.125;0.775x0.755)\n",
              "1    AxesSubplot(0.125,0.125;0.775x0.755)\n",
              "Name: bmi, dtype: object"
            ]
          },
          "metadata": {},
          "execution_count": 29
        },
        {
          "output_type": "display_data",
          "data": {
            "text/plain": [
              "<Figure size 432x288 with 1 Axes>"
            ],
            "image/png": "[encoded data removed]"
          },
          "metadata": {
            "needs_background": "light"
          }
        }
      ]
    },
    {
      "cell_type": "code",
      "source": [
        "bmi_stroke_0, bmi_stroke_1 =df_bmi.groupby('stroke')['bmi']"
      ],
      "metadata": {
        "id": "V0GXsWMfIXXF"
      },
      "execution_count": 30,
      "outputs": []
    },
    {
      "cell_type": "code",
      "source": [
        "# one sample\n",
        "stats.ttest_1samp(a=bmi_stroke_1[1],popmean=bmi_stroke_0[0], nan_policy='omit')"
      ],
      "metadata": {
        "colab": {
          "base_uri": "https://localhost:8080/"
        },
        "id": "H-V2QNpcRj99",
        "outputId": "fc8a95c9-8523-4c5d-bea3-ee882aefc091"
      },
      "execution_count": 31,
      "outputs": [
        {
          "output_type": "execute_result",
          "data": {
            "text/plain": [
              "Ttest_1sampResult(statistic=244.833779465847, pvalue=6.025963176549174e-258)"
            ]
          },
          "metadata": {},
          "execution_count": 31
        }
      ]
    },
    {
      "cell_type": "markdown",
      "source": [
        "The  one sample test shows that the difference in the bmi distributions are **NOT** statistiacally signifigant. Replacing the missing values with the overall mean is justified."
      ],
      "metadata": {
        "id": "H2BTxMgGn1-J"
      }
    },
    {
      "cell_type": "markdown",
      "source": [
        "###### **final**"
      ],
      "metadata": {
        "id": "a92GPsYJ3jss"
      }
    },
    {
      "cell_type": "code",
      "source": [
        "df.bmi = df.bmi.fillna(df.bmi.mean())"
      ],
      "metadata": {
        "id": "Fo8vX4BgQ5zD"
      },
      "execution_count": 32,
      "outputs": []
    },
    {
      "cell_type": "markdown",
      "source": [
        "##### **df.age**"
      ],
      "metadata": {
        "id": "ueRY7cO1RbaL"
      }
    },
    {
      "cell_type": "code",
      "source": [
        "df.age.plot.hist(bins=50)"
      ],
      "metadata": {
        "colab": {
          "base_uri": "https://localhost:8080/",
          "height": 0
        },
        "id": "VwVPdh9URewj",
        "outputId": "c74b69a7-271d-46fa-8bf6-3e9d7380d117"
      },
      "execution_count": 33,
      "outputs": [
        {
          "output_type": "execute_result",
          "data": {
            "text/plain": [
              "<matplotlib.axes._subplots.AxesSubplot at 0x7f87adcd8850>"
            ]
          },
          "metadata": {},
          "execution_count": 33
        },
        {
          "output_type": "display_data",
          "data": {
            "text/plain": [
              "<Figure size 432x288 with 1 Axes>"
            ],
            "image/png": "[encoded data removed]"
          },
          "metadata": {
            "needs_background": "light"
          }
        }
      ]
    },
    {
      "cell_type": "code",
      "source": [
        "df.age.value_counts()"
      ],
      "metadata": {
        "colab": {
          "base_uri": "https://localhost:8080/"
        },
        "id": "rvNTumrwUOXr",
        "outputId": "5e64f47f-a0cd-401c-fe14-ba68aa5029b5"
      },
      "execution_count": 34,
      "outputs": [
        {
          "output_type": "execute_result",
          "data": {
            "text/plain": [
              "78.00    102\n",
              "57.00     95\n",
              "52.00     90\n",
              "54.00     87\n",
              "51.00     86\n",
              "        ... \n",
              "1.40       3\n",
              "0.48       3\n",
              "0.16       3\n",
              "0.40       2\n",
              "0.08       2\n",
              "Name: age, Length: 104, dtype: int64"
            ]
          },
          "metadata": {},
          "execution_count": 34
        }
      ]
    },
    {
      "cell_type": "markdown",
      "source": [
        "Clarification on age [here](https://www.kaggle.com/datasets/fedesoriano/stroke-prediction-dataset/discussion/223242?search=age), decimal places represent days. "
      ],
      "metadata": {
        "id": "avPOMZm8VnCn"
      }
    },
    {
      "cell_type": "markdown",
      "source": [
        "##### **df.residence_type**"
      ],
      "metadata": {
        "id": "j8UwQXKuynfa"
      }
    },
    {
      "cell_type": "code",
      "source": [
        "rt = df.residence_type.value_counts().copy()\n",
        "rt"
      ],
      "metadata": {
        "colab": {
          "base_uri": "https://localhost:8080/"
        },
        "id": "7Pvb9f2Jytd-",
        "outputId": "143d48f2-71b8-4204-eb92-624bd6708c96"
      },
      "execution_count": 35,
      "outputs": [
        {
          "output_type": "execute_result",
          "data": {
            "text/plain": [
              "Urban    2596\n",
              "Rural    2514\n",
              "Name: residence_type, dtype: int64"
            ]
          },
          "metadata": {},
          "execution_count": 35
        }
      ]
    },
    {
      "cell_type": "code",
      "source": [
        "df.residence_type = (df.residence_type == 'Urban').astype(int)\n",
        "df.residence_type.value_counts()"
      ],
      "metadata": {
        "colab": {
          "base_uri": "https://localhost:8080/"
        },
        "id": "zjb4D76PzVse",
        "outputId": "df657e9e-8928-44a2-bdb8-9b5250edc4f1"
      },
      "execution_count": 36,
      "outputs": [
        {
          "output_type": "execute_result",
          "data": {
            "text/plain": [
              "1    2596\n",
              "0    2514\n",
              "Name: residence_type, dtype: int64"
            ]
          },
          "metadata": {},
          "execution_count": 36
        }
      ]
    },
    {
      "cell_type": "markdown",
      "source": [
        "##### **df.ever_married**"
      ],
      "metadata": {
        "id": "SjG7nktkwd2f"
      }
    },
    {
      "cell_type": "code",
      "source": [
        "em = df.ever_married.value_counts()\n",
        "em"
      ],
      "metadata": {
        "colab": {
          "base_uri": "https://localhost:8080/"
        },
        "id": "aR_iXAWFzf4d",
        "outputId": "4bae9584-f9bb-49b3-a60e-8df40833808a"
      },
      "execution_count": 37,
      "outputs": [
        {
          "output_type": "execute_result",
          "data": {
            "text/plain": [
              "Yes    3353\n",
              "No     1757\n",
              "Name: ever_married, dtype: int64"
            ]
          },
          "metadata": {},
          "execution_count": 37
        }
      ]
    },
    {
      "cell_type": "code",
      "source": [
        "# convert Yes and No to 1 and 0.\n",
        "df.ever_married = (df.ever_married == 'Yes').astype(int)\n",
        "df.ever_married.value_counts()"
      ],
      "metadata": {
        "colab": {
          "base_uri": "https://localhost:8080/"
        },
        "id": "ReO5mQ4zwl-v",
        "outputId": "fbb6307f-2a65-48f2-abca-4102108fb653"
      },
      "execution_count": 38,
      "outputs": [
        {
          "output_type": "execute_result",
          "data": {
            "text/plain": [
              "1    3353\n",
              "0    1757\n",
              "Name: ever_married, dtype: int64"
            ]
          },
          "metadata": {},
          "execution_count": 38
        }
      ]
    },
    {
      "cell_type": "markdown",
      "source": [
        "##### **df.avg_glucose_level**"
      ],
      "metadata": {
        "id": "FDnKNFDyePlL"
      }
    },
    {
      "cell_type": "markdown",
      "source": [
        "###### **Overview avg_glucose_level**"
      ],
      "metadata": {
        "id": "pdCGHh6mzO5h"
      }
    },
    {
      "cell_type": "markdown",
      "source": [
        "Reseach shows that Categorizing to above and below a bloodsugar limit may improve predictions.\n",
        "\n",
        " [Cleavland Clinic](https://my.clevelandclinic.org/health/diseases/9812-diabetes-and-stroke#:~:text=Your%20body%20can't%20make,Extra%20body%20weight.), [AHA Journal](https://www.ahajournals.org/doi/full/10.1161/01.str.0000115297.92132.84), [stroke.org.uk](https://www.stroke.org.uk/what-is-stroke/are-you-at-risk-of-stroke/diabetes), [Stroke.org - Diabetes](https://www.stroke.org/en/about-stroke/stroke-risk-factors/diabetes-and-stroke-prevention). "
      ],
      "metadata": {
        "id": "18NO3YQSegf8"
      }
    },
    {
      "cell_type": "code",
      "source": [
        "stroke_glucose_0, stroke_glucose_1 =df.groupby('stroke')['avg_glucose_level'].mean()\n",
        "stroke_glucose_0, stroke_glucose_1 # 0 not a stroke and 1 is a stroke"
      ],
      "metadata": {
        "colab": {
          "base_uri": "https://localhost:8080/"
        },
        "id": "mGzG9n9PeVps",
        "outputId": "462679d4-6870-4d03-ce21-e69c1ee75736"
      },
      "execution_count": 39,
      "outputs": [
        {
          "output_type": "execute_result",
          "data": {
            "text/plain": [
              "(104.79551326887471, 132.54473895582328)"
            ]
          },
          "metadata": {},
          "execution_count": 39
        }
      ]
    },
    {
      "cell_type": "code",
      "source": [
        "round((stroke_glucose_1-stroke_glucose_0)/stroke_glucose_1,2)"
      ],
      "metadata": {
        "colab": {
          "base_uri": "https://localhost:8080/"
        },
        "id": "su4Hku9tetbR",
        "outputId": "0f53b0f9-2dcf-4508-cdd1-ec2fbe2ac56d"
      },
      "execution_count": 40,
      "outputs": [
        {
          "output_type": "execute_result",
          "data": {
            "text/plain": [
              "0.21"
            ]
          },
          "metadata": {},
          "execution_count": 40
        }
      ]
    },
    {
      "cell_type": "markdown",
      "source": [
        "A large variance in the mean of avg_glucose_level of 21%. This is consistent with expectations from various studies."
      ],
      "metadata": {
        "id": "lwPqiUaTfQcV"
      }
    },
    {
      "cell_type": "code",
      "source": [
        "# stroke negative\n",
        "stroke_gluc_0, stroke_gluc_1 =df.groupby('stroke')['avg_glucose_level']\n",
        "stroke_gluc_0[1].describe()"
      ],
      "metadata": {
        "colab": {
          "base_uri": "https://localhost:8080/"
        },
        "id": "hbL0yUrMhHna",
        "outputId": "0bf929c8-b0e3-45ea-b61c-62194bc6c37b"
      },
      "execution_count": 41,
      "outputs": [
        {
          "output_type": "execute_result",
          "data": {
            "text/plain": [
              "count    4861.000000\n",
              "mean      104.795513\n",
              "std        43.846069\n",
              "min        55.120000\n",
              "25%        77.120000\n",
              "50%        91.470000\n",
              "75%       112.830000\n",
              "max       267.760000\n",
              "Name: avg_glucose_level, dtype: float64"
            ]
          },
          "metadata": {},
          "execution_count": 41
        }
      ]
    },
    {
      "cell_type": "code",
      "source": [
        "# stroke possitive\n",
        "stroke_gluc_1[1].describe()"
      ],
      "metadata": {
        "colab": {
          "base_uri": "https://localhost:8080/"
        },
        "id": "KHjwJBlQr9jx",
        "outputId": "b5240508-a9d7-459e-df3c-aa86c2268468"
      },
      "execution_count": 42,
      "outputs": [
        {
          "output_type": "execute_result",
          "data": {
            "text/plain": [
              "count    249.000000\n",
              "mean     132.544739\n",
              "std       61.921056\n",
              "min       56.110000\n",
              "25%       79.790000\n",
              "50%      105.220000\n",
              "75%      196.710000\n",
              "max      271.740000\n",
              "Name: avg_glucose_level, dtype: float64"
            ]
          },
          "metadata": {},
          "execution_count": 42
        }
      ]
    },
    {
      "cell_type": "markdown",
      "source": [
        "###### **Normallize avg_glucose_level**"
      ],
      "metadata": {
        "id": "mZNRAqYDzJVn"
      }
    },
    {
      "cell_type": "code",
      "source": [
        "stats.probplot(df.avg_glucose_level,fit=True, plot=pylab )"
      ],
      "metadata": {
        "colab": {
          "base_uri": "https://localhost:8080/",
          "height": 0
        },
        "id": "lY9dN6uYg0ix",
        "outputId": "1cc39348-c781-4144-ae4e-91644f679e3b"
      },
      "execution_count": 43,
      "outputs": [
        {
          "output_type": "execute_result",
          "data": {
            "text/plain": [
              "((array([-3.6412931, -3.4063133, -3.2768215, ...,  3.2768215,  3.4063133,\n",
              "          3.6412931]),\n",
              "  array([ 55.12,  55.22,  55.23, ..., 267.61, 267.76, 271.74])),\n",
              " (40.678945925100635, 106.1476771037182, 0.8978160806829297))"
            ]
          },
          "metadata": {},
          "execution_count": 43
        },
        {
          "output_type": "display_data",
          "data": {
            "text/plain": [
              "<Figure size 432x288 with 1 Axes>"
            ],
            "image/png": "[encoded data removed]"
          },
          "metadata": {
            "needs_background": "light"
          }
        }
      ]
    },
    {
      "cell_type": "code",
      "source": [
        "#performing logarithmic transformation on the feature\n",
        "df2 = df_cp.copy()\n",
        "df2.avg_glucose_level=np.log(df.avg_glucose_level)\n",
        "normality(df2,'avg_glucose_level')\n",
        "df2.avg_glucose_level.skew()"
      ],
      "metadata": {
        "colab": {
          "base_uri": "https://localhost:8080/",
          "height": 0
        },
        "id": "fuN0azp8y2zQ",
        "outputId": "ddaa6d51-1b4e-426e-c1e5-0daa8252f3f6"
      },
      "execution_count": 44,
      "outputs": [
        {
          "output_type": "display_data",
          "data": {
            "text/plain": [
              "<Figure size 720x360 with 2 Axes>"
            ],
            "image/png": "[encoded data removed]"
          },
          "metadata": {
            "needs_background": "light"
          }
        },
        {
          "output_type": "execute_result",
          "data": {
            "text/plain": [
              "0.8827511014266456"
            ]
          },
          "metadata": {},
          "execution_count": 44
        }
      ]
    },
    {
      "cell_type": "code",
      "source": [
        "#Reciprocal Transformation\n",
        "df2 = df_cp.copy()\n",
        "df2.avg_glucose_level=1/df2.avg_glucose_level\n",
        "normality(df2,'avg_glucose_level')\n",
        "df2.avg_glucose_level.skew()"
      ],
      "metadata": {
        "colab": {
          "base_uri": "https://localhost:8080/",
          "height": 0
        },
        "id": "6zuKs2tzzXfk",
        "outputId": "be0d3c81-4bab-4cbc-b02f-5f2df9c14cf9"
      },
      "execution_count": 45,
      "outputs": [
        {
          "output_type": "display_data",
          "data": {
            "text/plain": [
              "<Figure size 720x360 with 2 Axes>"
            ],
            "image/png": "[encoded data removed]"
          },
          "metadata": {
            "needs_background": "light"
          }
        },
        {
          "output_type": "execute_result",
          "data": {
            "text/plain": [
              "-0.12577378741588255"
            ]
          },
          "metadata": {},
          "execution_count": 45
        }
      ]
    },
    {
      "cell_type": "code",
      "source": [
        "#Square Root Transformation\n",
        "df2 = df_cp.copy()\n",
        "df2.avg_glucose_level=np.sqrt(df2.avg_glucose_level)\n",
        "normality(df2,'avg_glucose_level')\n",
        "df2.avg_glucose_level.skew()"
      ],
      "metadata": {
        "colab": {
          "base_uri": "https://localhost:8080/",
          "height": 0
        },
        "id": "p1IcyRv3zjoi",
        "outputId": "c952e711-28c3-42fe-bd36-b024f35518ef"
      },
      "execution_count": 46,
      "outputs": [
        {
          "output_type": "display_data",
          "data": {
            "text/plain": [
              "<Figure size 720x360 with 2 Axes>"
            ],
            "image/png": "[encoded data removed]"
          },
          "metadata": {
            "needs_background": "light"
          }
        },
        {
          "output_type": "execute_result",
          "data": {
            "text/plain": [
              "1.2427218676251186"
            ]
          },
          "metadata": {},
          "execution_count": 46
        }
      ]
    },
    {
      "cell_type": "code",
      "source": [
        "#Exponential Transformation\n",
        "df2 = df_cp.copy()\n",
        "df2.avg_glucose_level=df.avg_glucose_level**(1/1.2)\n",
        "normality(df2, 'avg_glucose_level')\n",
        "df2.avg_glucose_level.skew()"
      ],
      "metadata": {
        "colab": {
          "base_uri": "https://localhost:8080/",
          "height": 0
        },
        "id": "AHRxKZ0NzwIh",
        "outputId": "0ef329a9-6845-4a74-e4c2-8699eed9c27c"
      },
      "execution_count": 47,
      "outputs": [
        {
          "output_type": "display_data",
          "data": {
            "text/plain": [
              "<Figure size 720x360 with 2 Axes>"
            ],
            "image/png": "[encoded data removed]"
          },
          "metadata": {
            "needs_background": "light"
          }
        },
        {
          "output_type": "execute_result",
          "data": {
            "text/plain": [
              "1.4662829646834146"
            ]
          },
          "metadata": {},
          "execution_count": 47
        }
      ]
    },
    {
      "cell_type": "code",
      "source": [
        "#Box-Cox Transformation\n",
        "df2 = df_cp.copy()\n",
        "df2.avg_glucose_level,parameters=stats.boxcox(df2.avg_glucose_level)\n",
        "normality(df2,'avg_glucose_level')\n",
        "df2.avg_glucose_level.skew()"
      ],
      "metadata": {
        "colab": {
          "base_uri": "https://localhost:8080/",
          "height": 0
        },
        "id": "MmgsldWcz6wx",
        "outputId": "815c1e9b-fe5a-4591-95bd-9baa0b40b023"
      },
      "execution_count": 48,
      "outputs": [
        {
          "output_type": "display_data",
          "data": {
            "text/plain": [
              "<Figure size 720x360 with 2 Axes>"
            ],
            "image/png": "[encoded data removed]"
          },
          "metadata": {
            "needs_background": "light"
          }
        },
        {
          "output_type": "execute_result",
          "data": {
            "text/plain": [
              "0.08329904162034814"
            ]
          },
          "metadata": {},
          "execution_count": 48
        }
      ]
    },
    {
      "cell_type": "markdown",
      "source": [
        "###### **Final Decision**"
      ],
      "metadata": {
        "id": "vjxhCJKj0Bk0"
      }
    },
    {
      "cell_type": "markdown",
      "source": [
        "* Unable to normalize the distribution avg_glucose_level\n",
        "* Unable to get reliable p-value due to distribution\n",
        "\n",
        "Despite research indicating a clear delineation with high blood sugar and stroke, I am not able to confirm that with the current understanding of the relationship from this data. No justification for categorizing avg_glucose_level based on reported glucose ranges should be done without further external reseach or more data."
      ],
      "metadata": {
        "id": "5Z33WTrV0I0q"
      }
    },
    {
      "cell_type": "markdown",
      "source": [
        "##### **Multi-categories** pd.dummies for further anlysis"
      ],
      "metadata": {
        "id": "mX5voEdubYoT"
      }
    },
    {
      "cell_type": "code",
      "source": [
        "df2 = df.copy()"
      ],
      "metadata": {
        "id": "SJpiYUnyb_lr"
      },
      "execution_count": 49,
      "outputs": []
    },
    {
      "cell_type": "markdown",
      "source": [
        "###### **df2.gender**"
      ],
      "metadata": {
        "id": "dRW60FaG8SlJ"
      }
    },
    {
      "cell_type": "code",
      "source": [
        "gender = df2.gender.value_counts().copy()\n",
        "gender"
      ],
      "metadata": {
        "id": "FeVXWNOT5Llm",
        "outputId": "7a314f3a-81d5-4d8b-b8f8-448c292aeac5",
        "colab": {
          "base_uri": "https://localhost:8080/"
        }
      },
      "execution_count": 50,
      "outputs": [
        {
          "output_type": "execute_result",
          "data": {
            "text/plain": [
              "Female    2994\n",
              "Male      2115\n",
              "Other        1\n",
              "Name: gender, dtype: int64"
            ]
          },
          "metadata": {},
          "execution_count": 50
        }
      ]
    },
    {
      "cell_type": "code",
      "source": [
        "dummies = pd.get_dummies(df2.gender)\n",
        "df2 = pd.concat([df2, dummies],axis='columns')\n",
        "del df2['gender'] # drop gender\n",
        "df2.columns"
      ],
      "metadata": {
        "id": "_O8OHaid8hdV",
        "outputId": "9e73c156-ceee-4458-990a-de717ed7df28",
        "colab": {
          "base_uri": "https://localhost:8080/"
        }
      },
      "execution_count": 51,
      "outputs": [
        {
          "output_type": "execute_result",
          "data": {
            "text/plain": [
              "Index(['age', 'hypertension', 'heart_disease', 'ever_married', 'work_type',\n",
              "       'residence_type', 'avg_glucose_level', 'bmi', 'smoking_status',\n",
              "       'stroke', 'Female', 'Male', 'Other'],\n",
              "      dtype='object')"
            ]
          },
          "metadata": {},
          "execution_count": 51
        }
      ]
    },
    {
      "cell_type": "markdown",
      "source": [
        "###### **df2.work_type**"
      ],
      "metadata": {
        "id": "Nw2p_AOeCc6r"
      }
    },
    {
      "cell_type": "code",
      "source": [
        "wt = df2.work_type.value_counts().copy()\n",
        "wt"
      ],
      "metadata": {
        "id": "Z1F0u3Vr2BbV",
        "colab": {
          "base_uri": "https://localhost:8080/"
        },
        "outputId": "e0f92579-b8ab-4e02-be0a-756e89217a8f"
      },
      "execution_count": 52,
      "outputs": [
        {
          "output_type": "execute_result",
          "data": {
            "text/plain": [
              "Private          2925\n",
              "Self-employed     819\n",
              "children          687\n",
              "Govt_job          657\n",
              "Never_worked       22\n",
              "Name: work_type, dtype: int64"
            ]
          },
          "metadata": {},
          "execution_count": 52
        }
      ]
    },
    {
      "cell_type": "code",
      "source": [
        "dummies = pd.get_dummies(df2.work_type)\n",
        "df2 = pd.concat([df2, dummies],axis='columns')\n",
        "del df2['work_type']\n",
        "df2.columns"
      ],
      "metadata": {
        "colab": {
          "base_uri": "https://localhost:8080/"
        },
        "id": "qtoq9gBSCkqh",
        "outputId": "7cc6ee43-0e76-48c9-a0da-0c80d69af465"
      },
      "execution_count": 53,
      "outputs": [
        {
          "output_type": "execute_result",
          "data": {
            "text/plain": [
              "Index(['age', 'hypertension', 'heart_disease', 'ever_married',\n",
              "       'residence_type', 'avg_glucose_level', 'bmi', 'smoking_status',\n",
              "       'stroke', 'Female', 'Male', 'Other', 'Govt_job', 'Never_worked',\n",
              "       'Private', 'Self-employed', 'children'],\n",
              "      dtype='object')"
            ]
          },
          "metadata": {},
          "execution_count": 53
        }
      ]
    },
    {
      "cell_type": "markdown",
      "source": [
        "###### **df2.smoking_status**"
      ],
      "metadata": {
        "id": "9lVZ5FWiEUHT"
      }
    },
    {
      "cell_type": "code",
      "source": [
        "ss = df2.smoking_status.value_counts().copy()\n",
        "ss"
      ],
      "metadata": {
        "id": "xU0ZdChu2Shu",
        "colab": {
          "base_uri": "https://localhost:8080/"
        },
        "outputId": "395d5f2a-1086-4880-8b85-f07150ee2e89"
      },
      "execution_count": 54,
      "outputs": [
        {
          "output_type": "execute_result",
          "data": {
            "text/plain": [
              "never smoked       1892\n",
              "Unknown            1544\n",
              "formerly smoked     885\n",
              "smokes              789\n",
              "Name: smoking_status, dtype: int64"
            ]
          },
          "metadata": {},
          "execution_count": 54
        }
      ]
    },
    {
      "cell_type": "code",
      "source": [
        "dummies = pd.get_dummies(df2.smoking_status)\n",
        "df2 = pd.concat([df2, dummies],axis='columns')\n",
        "del df2['smoking_status']\n",
        "df2.columns"
      ],
      "metadata": {
        "colab": {
          "base_uri": "https://localhost:8080/"
        },
        "id": "CndGWBgYEoSz",
        "outputId": "41b688e2-f174-4dad-977d-2f5e510026c5"
      },
      "execution_count": 55,
      "outputs": [
        {
          "output_type": "execute_result",
          "data": {
            "text/plain": [
              "Index(['age', 'hypertension', 'heart_disease', 'ever_married',\n",
              "       'residence_type', 'avg_glucose_level', 'bmi', 'stroke', 'Female',\n",
              "       'Male', 'Other', 'Govt_job', 'Never_worked', 'Private', 'Self-employed',\n",
              "       'children', 'Unknown', 'formerly smoked', 'never smoked', 'smokes'],\n",
              "      dtype='object')"
            ]
          },
          "metadata": {},
          "execution_count": 55
        }
      ]
    },
    {
      "cell_type": "markdown",
      "source": [
        "##### **Final Feature Overview**"
      ],
      "metadata": {
        "id": "Rro2nOOPQUmz"
      }
    },
    {
      "cell_type": "markdown",
      "source": [
        "###### df2 - pd.dummies"
      ],
      "metadata": {
        "id": "hRhYaJNMdw6m"
      }
    },
    {
      "cell_type": "code",
      "source": [
        "# convert new column names to lower\n",
        "col = df2.columns.tolist()\n",
        "df2 = df2.rename(str.lower, axis='columns')\n",
        "col = df2.columns.tolist() # list with new column names all lower case\n"
      ],
      "metadata": {
        "id": "at24Hr5-C-Vd"
      },
      "execution_count": 56,
      "outputs": []
    },
    {
      "cell_type": "code",
      "source": [
        "# confirm column names and dtypes\n",
        "df2.dtypes"
      ],
      "metadata": {
        "id": "duZ7XdjEv8fR",
        "outputId": "f82a9dc2-76d1-4cbe-95a8-f0251e4785ca",
        "colab": {
          "base_uri": "https://localhost:8080/"
        }
      },
      "execution_count": 57,
      "outputs": [
        {
          "output_type": "execute_result",
          "data": {
            "text/plain": [
              "age                  float64\n",
              "hypertension           int64\n",
              "heart_disease          int64\n",
              "ever_married           int64\n",
              "residence_type         int64\n",
              "avg_glucose_level    float64\n",
              "bmi                  float64\n",
              "stroke                 int64\n",
              "female                 uint8\n",
              "male                   uint8\n",
              "other                  uint8\n",
              "govt_job               uint8\n",
              "never_worked           uint8\n",
              "private                uint8\n",
              "self-employed          uint8\n",
              "children               uint8\n",
              "unknown                uint8\n",
              "formerly smoked        uint8\n",
              "never smoked           uint8\n",
              "smokes                 uint8\n",
              "dtype: object"
            ]
          },
          "metadata": {},
          "execution_count": 57
        }
      ]
    },
    {
      "cell_type": "markdown",
      "source": [
        "Dummy columns may lose context once separated. Renaming columns would make the data more readable. Addionally the name word spacing should use '_' rather than ' ' or '-'."
      ],
      "metadata": {
        "id": "L630uNgFD1SW"
      }
    },
    {
      "cell_type": "code",
      "source": [
        "df2 = df2.rename(columns={'other': 'other_gender','formerly smoked':'formerly_smoked','never smoked':'never_smoked','unknown':'unknown_smoking','children': 'is_a_child','private': 'employed','self-employed':'self_employed' })"
      ],
      "metadata": {
        "id": "aTLbeXqACsSO"
      },
      "execution_count": 58,
      "outputs": []
    },
    {
      "cell_type": "code",
      "source": [
        "# Confirm changes\n",
        "df2.dtypes"
      ],
      "metadata": {
        "id": "BdyQzHNYE-6u",
        "outputId": "a189aa1b-3c47-463d-adf5-de8c76753e1c",
        "colab": {
          "base_uri": "https://localhost:8080/"
        }
      },
      "execution_count": 59,
      "outputs": [
        {
          "output_type": "execute_result",
          "data": {
            "text/plain": [
              "age                  float64\n",
              "hypertension           int64\n",
              "heart_disease          int64\n",
              "ever_married           int64\n",
              "residence_type         int64\n",
              "avg_glucose_level    float64\n",
              "bmi                  float64\n",
              "stroke                 int64\n",
              "female                 uint8\n",
              "male                   uint8\n",
              "other_gender           uint8\n",
              "govt_job               uint8\n",
              "never_worked           uint8\n",
              "employed               uint8\n",
              "self_employed          uint8\n",
              "is_a_child             uint8\n",
              "unknown_smoking        uint8\n",
              "formerly_smoked        uint8\n",
              "never_smoked           uint8\n",
              "smokes                 uint8\n",
              "dtype: object"
            ]
          },
          "metadata": {},
          "execution_count": 59
        }
      ]
    },
    {
      "cell_type": "code",
      "source": [
        "# Review feature correlation, consider action for highly correlated features.\n",
        "plt.subplots(figsize=(15,10))\n",
        "\n",
        "mask = np.triu(np.ones_like(df2.corr())) # triangle mask to hide duplicates\n",
        "\n",
        "sns.heatmap(df2.corr(),cmap=\"YlGnBu\", annot=True, mask=mask)"
      ],
      "metadata": {
        "id": "IOZPoiAxZN1y",
        "outputId": "f8ea0b5a-0a2c-42cc-a2f9-418e82bb55e7",
        "colab": {
          "base_uri": "https://localhost:8080/",
          "height": 0
        }
      },
      "execution_count": 60,
      "outputs": [
        {
          "output_type": "execute_result",
          "data": {
            "text/plain": [
              "<matplotlib.axes._subplots.AxesSubplot at 0x7f87adcc6f50>"
            ]
          },
          "metadata": {},
          "execution_count": 60
        },
        {
          "output_type": "display_data",
          "data": {
            "text/plain": [
              "<Figure size 1080x720 with 2 Axes>"
            ],
            "image/png": "[encoded data removed]"
          },
          "metadata": {
            "needs_background": "light"
          }
        }
      ]
    },
    {
      "cell_type": "markdown",
      "source": [
        "None of the independant features have a high (0.75+) correlation that may skew models. All feature have a low (< 0.50) to moderate (0.50 >< 0.75) correlation. \n",
        "\n",
        "The exception is that a high correlation with the label / predictive value (stroke) is optimal. None of the values have a high correlation with this feature. Unsurpsiingly bmi has the highest correlation at 0.25. is_a_child has a negative correlation at -0.089, lower than expected.\n",
        "\n",
        "Note: High correlation is acceptable for dependant features. There are no dependant variables in the above graph."
      ],
      "metadata": {
        "id": "fzUXWGIULn7l"
      }
    },
    {
      "cell_type": "code",
      "source": [
        "df2.skew()"
      ],
      "metadata": {
        "colab": {
          "base_uri": "https://localhost:8080/"
        },
        "id": "4BJwxV2gYimm",
        "outputId": "9a5aa4d5-5a4c-4f90-d3f5-0fa3c5e794a7"
      },
      "execution_count": 61,
      "outputs": [
        {
          "output_type": "execute_result",
          "data": {
            "text/plain": [
              "age                  -0.137059\n",
              "hypertension          2.715392\n",
              "heart_disease         3.947244\n",
              "ever_married         -0.657745\n",
              "residence_type       -0.032107\n",
              "avg_glucose_level     1.572284\n",
              "bmi                   1.076716\n",
              "stroke                4.193284\n",
              "female               -0.348930\n",
              "male                  0.349749\n",
              "other_gender         71.484264\n",
              "govt_job              2.219958\n",
              "never_worked         15.146344\n",
              "employed             -0.292800\n",
              "self_employed         1.852619\n",
              "is_a_child            2.143866\n",
              "unknown_smoking       0.861974\n",
              "formerly_smoked       1.727782\n",
              "never_smoked          0.537548\n",
              "smokes                1.913452\n",
              "dtype: float64"
            ]
          },
          "metadata": {},
          "execution_count": 61
        }
      ]
    },
    {
      "cell_type": "markdown",
      "source": [
        "Much of the data is far from a Gaussian (normal) distribution. This will negatively affect model performance and is likely due to the sampliung of data made avaiable on Kaggle. Consider [QuantileTransformer](https://scikit-learn.org/stable/modules/generated/sklearn.preprocessing.QuantileTransformer.html#sklearn.preprocessing.QuantileTransformer) and [PowerTransformer](https://scikit-learn.org/stable/modules/generated/sklearn.preprocessing.PowerTransformer.html#sklearn.preprocessing.PowerTransformer)."
      ],
      "metadata": {
        "id": "tS8CGuMjbQpl"
      }
    },
    {
      "cell_type": "markdown",
      "source": [
        "###### df"
      ],
      "metadata": {
        "id": "OHt5loy-eTA-"
      }
    },
    {
      "cell_type": "code",
      "source": [
        "df.head(3)"
      ],
      "metadata": {
        "colab": {
          "base_uri": "https://localhost:8080/",
          "height": 0
        },
        "id": "l8cdF65IeZ51",
        "outputId": "6d92d238-10f4-4082-c8cf-62c54ee55a4d"
      },
      "execution_count": 62,
      "outputs": [
        {
          "output_type": "execute_result",
          "data": {
            "text/plain": [
              "   gender   age  hypertension  heart_disease  ever_married      work_type  \\\n",
              "0    Male  67.0             0              1             1        Private   \n",
              "1  Female  61.0             0              0             1  Self-employed   \n",
              "2    Male  80.0             0              1             1        Private   \n",
              "\n",
              "   residence_type  avg_glucose_level        bmi   smoking_status  stroke  \n",
              "0               1             228.69  36.600000  formerly smoked       1  \n",
              "1               0             202.21  28.893237     never smoked       1  \n",
              "2               0             105.92  32.500000     never smoked       1  "
            ],
            "text/html": [
              "\n",
              "  <div id=\"df-76b00f64-881f-4c0d-b921-a76af2dc7efc\">\n",
              "    <div class=\"colab-df-container\">\n",
              "      <div>\n",
              "<style scoped>\n",
              "    .dataframe tbody tr th:only-of-type {\n",
              "        vertical-align: middle;\n",
              "    }\n",
              "\n",
              "    .dataframe tbody tr th {\n",
              "        vertical-align: top;\n",
              "    }\n",
              "\n",
              "    .dataframe thead th {\n",
              "        text-align: right;\n",
              "    }\n",
              "</style>\n",
              "<table border=\"1\" class=\"dataframe\">\n",
              "  <thead>\n",
              "    <tr style=\"text-align: right;\">\n",
              "      <th></th>\n",
              "      <th>gender</th>\n",
              "      <th>age</th>\n",
              "      <th>hypertension</th>\n",
              "      <th>heart_disease</th>\n",
              "      <th>ever_married</th>\n",
              "      <th>work_type</th>\n",
              "      <th>residence_type</th>\n",
              "      <th>avg_glucose_level</th>\n",
              "      <th>bmi</th>\n",
              "      <th>smoking_status</th>\n",
              "      <th>stroke</th>\n",
              "    </tr>\n",
              "  </thead>\n",
              "  <tbody>\n",
              "    <tr>\n",
              "      <th>0</th>\n",
              "      <td>Male</td>\n",
              "      <td>67.0</td>\n",
              "      <td>0</td>\n",
              "      <td>1</td>\n",
              "      <td>1</td>\n",
              "      <td>Private</td>\n",
              "      <td>1</td>\n",
              "      <td>228.69</td>\n",
              "      <td>36.600000</td>\n",
              "      <td>formerly smoked</td>\n",
              "      <td>1</td>\n",
              "    </tr>\n",
              "    <tr>\n",
              "      <th>1</th>\n",
              "      <td>Female</td>\n",
              "      <td>61.0</td>\n",
              "      <td>0</td>\n",
              "      <td>0</td>\n",
              "      <td>1</td>\n",
              "      <td>Self-employed</td>\n",
              "      <td>0</td>\n",
              "      <td>202.21</td>\n",
              "      <td>28.893237</td>\n",
              "      <td>never smoked</td>\n",
              "      <td>1</td>\n",
              "    </tr>\n",
              "    <tr>\n",
              "      <th>2</th>\n",
              "      <td>Male</td>\n",
              "      <td>80.0</td>\n",
              "      <td>0</td>\n",
              "      <td>1</td>\n",
              "      <td>1</td>\n",
              "      <td>Private</td>\n",
              "      <td>0</td>\n",
              "      <td>105.92</td>\n",
              "      <td>32.500000</td>\n",
              "      <td>never smoked</td>\n",
              "      <td>1</td>\n",
              "    </tr>\n",
              "  </tbody>\n",
              "</table>\n",
              "</div>\n",
              "      <button class=\"colab-df-convert\" onclick=\"convertToInteractive('df-76b00f64-881f-4c0d-b921-a76af2dc7efc')\"\n",
              "              title=\"Convert this dataframe to an interactive table.\"\n",
              "              style=\"display:none;\">\n",
              "        \n",
              "  <svg xmlns=\"http://www.w3.org/2000/svg\" height=\"24px\"viewBox=\"0 0 24 24\"\n",
              "       width=\"24px\">\n",
              "    <path d=\"M0 0h24v24H0V0z\" fill=\"none\"/>\n",
              "    <path d=\"M18.56 5.44l.94 2.06.94-2.06 2.06-.94-2.06-.94-.94-2.06-.94 2.06-2.06.94zm-11 1L8.5 8.5l.94-2.06 2.06-.94-2.06-.94L8.5 2.5l-.94 2.06-2.06.94zm10 10l.94 2.06.94-2.06 2.06-.94-2.06-.94-.94-2.06-.94 2.06-2.06.94z\"/><path d=\"M17.41 7.96l-1.37-1.37c-.4-.4-.92-.59-1.43-.59-.52 0-1.04.2-1.43.59L10.3 9.45l-7.72 7.72c-.78.78-.78 2.05 0 2.83L4 21.41c.39.39.9.59 1.41.59.51 0 1.02-.2 1.41-.59l7.78-7.78 2.81-2.81c.8-.78.8-2.07 0-2.86zM5.41 20L4 18.59l7.72-7.72 1.47 1.35L5.41 20z\"/>\n",
              "  </svg>\n",
              "      </button>\n",
              "      \n",
              "  <style>\n",
              "    .colab-df-container {\n",
              "      display:flex;\n",
              "      flex-wrap:wrap;\n",
              "      gap: 12px;\n",
              "    }\n",
              "\n",
              "    .colab-df-convert {\n",
              "      background-color: #E8F0FE;\n",
              "      border: none;\n",
              "      border-radius: 50%;\n",
              "      cursor: pointer;\n",
              "      display: none;\n",
              "      fill: #1967D2;\n",
              "      height: 32px;\n",
              "      padding: 0 0 0 0;\n",
              "      width: 32px;\n",
              "    }\n",
              "\n",
              "    .colab-df-convert:hover {\n",
              "      background-color: #E2EBFA;\n",
              "      box-shadow: 0px 1px 2px rgba(60, 64, 67, 0.3), 0px 1px 3px 1px rgba(60, 64, 67, 0.15);\n",
              "      fill: #174EA6;\n",
              "    }\n",
              "\n",
              "    [theme=dark] .colab-df-convert {\n",
              "      background-color: #3B4455;\n",
              "      fill: #D2E3FC;\n",
              "    }\n",
              "\n",
              "    [theme=dark] .colab-df-convert:hover {\n",
              "      background-color: #434B5C;\n",
              "      box-shadow: 0px 1px 3px 1px rgba(0, 0, 0, 0.15);\n",
              "      filter: drop-shadow(0px 1px 2px rgba(0, 0, 0, 0.3));\n",
              "      fill: #FFFFFF;\n",
              "    }\n",
              "  </style>\n",
              "\n",
              "      <script>\n",
              "        const buttonEl =\n",
              "          document.querySelector('#df-76b00f64-881f-4c0d-b921-a76af2dc7efc button.colab-df-convert');\n",
              "        buttonEl.style.display =\n",
              "          google.colab.kernel.accessAllowed ? 'block' : 'none';\n",
              "\n",
              "        async function convertToInteractive(key) {\n",
              "          const element = document.querySelector('#df-76b00f64-881f-4c0d-b921-a76af2dc7efc');\n",
              "          const dataTable =\n",
              "            await google.colab.kernel.invokeFunction('convertToInteractive',\n",
              "                                                     [key], {});\n",
              "          if (!dataTable) return;\n",
              "\n",
              "          const docLinkHtml = 'Like what you see? Visit the ' +\n",
              "            '<a target=\"_blank\" href=https://colab.research.google.com/notebooks/data_table.ipynb>data table notebook</a>'\n",
              "            + ' to learn more about interactive tables.';\n",
              "          element.innerHTML = '';\n",
              "          dataTable['output_type'] = 'display_data';\n",
              "          await google.colab.output.renderOutput(dataTable, element);\n",
              "          const docLink = document.createElement('div');\n",
              "          docLink.innerHTML = docLinkHtml;\n",
              "          element.appendChild(docLink);\n",
              "        }\n",
              "      </script>\n",
              "    </div>\n",
              "  </div>\n",
              "  "
            ]
          },
          "metadata": {},
          "execution_count": 62
        }
      ]
    },
    {
      "cell_type": "code",
      "source": [
        "df.skew()"
      ],
      "metadata": {
        "id": "qdOwitqfiGPu",
        "outputId": "204745b4-4741-4b05-c7da-011e1cb2321d",
        "colab": {
          "base_uri": "https://localhost:8080/"
        }
      },
      "execution_count": 63,
      "outputs": [
        {
          "output_type": "stream",
          "name": "stderr",
          "text": [
            "/usr/local/lib/python3.7/dist-packages/ipykernel_launcher.py:1: FutureWarning: Dropping of nuisance columns in DataFrame reductions (with 'numeric_only=None') is deprecated; in a future version this will raise TypeError.  Select only valid columns before calling the reduction.\n",
            "  \"\"\"Entry point for launching an IPython kernel.\n"
          ]
        },
        {
          "output_type": "execute_result",
          "data": {
            "text/plain": [
              "age                 -0.137059\n",
              "hypertension         2.715392\n",
              "heart_disease        3.947244\n",
              "ever_married        -0.657745\n",
              "residence_type      -0.032107\n",
              "avg_glucose_level    1.572284\n",
              "bmi                  1.076716\n",
              "stroke               4.193284\n",
              "dtype: float64"
            ]
          },
          "metadata": {},
          "execution_count": 63
        }
      ]
    },
    {
      "cell_type": "markdown",
      "source": [
        "<a name=\"baseline\"></a>\n",
        "# Modeling"
      ],
      "metadata": {
        "id": "cfeBd0Hfri4a"
      }
    },
    {
      "cell_type": "markdown",
      "source": [
        "The modeling proccess is to first test possable viable models, then select the best models, and create a baseline to compare the tuning process against. "
      ],
      "metadata": {
        "id": "jKF-0sXIsiTR"
      }
    },
    {
      "cell_type": "markdown",
      "source": [
        "https://towardsdatascience.com/top-10-binary-classification-algorithms-a-beginners-guide-feeacbd7a3e2 "
      ],
      "metadata": {
        "id": "0gU8yYuI_X1X"
      }
    },
    {
      "cell_type": "markdown",
      "source": [
        "**Linear Regression** Linear regression is a poor choice for clasification output problems and better suited for continuous output problems."
      ],
      "metadata": {
        "id": "Y267t4TiEQCX"
      }
    },
    {
      "cell_type": "markdown",
      "source": [
        "## **Logarithmic Regression** AUC 0.839 / RMSE 0.038"
      ],
      "metadata": {
        "id": "Lk1sS7ktJbbb"
      }
    },
    {
      "cell_type": "markdown",
      "source": [
        "Logarithmic regression is a common model for classificaiton problems."
      ],
      "metadata": {
        "id": "JjWjD6cw92rH"
      }
    },
    {
      "cell_type": "code",
      "source": [
        "#@title train model\n",
        "def train_log(df,y):\n",
        "  train_dict = df.to_dict(orient='records')\n",
        "\n",
        "  dv = DictVectorizer(sparse=False)\n",
        "  x_train = dv.fit_transform(train_dict)\n",
        "\n",
        "  model = LogisticRegression(solver='liblinear', C=1.0, max_iter=1000, random_state=1)\n",
        "  model.fit(x_train, y)\n",
        "\n",
        "  return dv, model"
      ],
      "metadata": {
        "id": "uJsREovV1x0t"
      },
      "execution_count": 122,
      "outputs": []
    },
    {
      "cell_type": "code",
      "source": [
        "#@title predict\n",
        "def predict_log(df,dv, model):\n",
        "  var_dict = df.to_dict(orient='records')\n",
        "  \n",
        "  x = dv.transform(var_dict)\n",
        "  y_pred = model.predict_proba(x)[:,1]\n",
        "\n",
        "  return y_pred"
      ],
      "metadata": {
        "cellView": "form",
        "id": "V8xG5RmM1cWk"
      },
      "execution_count": 123,
      "outputs": []
    },
    {
      "cell_type": "code",
      "source": [
        "#@title kfold split and train\n",
        "dfr = df.copy()\n",
        "#del dfr['other_gender'] \n",
        "#del dfr['is_a_child']\n",
        "#del dfr['unknown_smoking']\n",
        "\n",
        "k_scores = []\n",
        "\n",
        "for train_idx,test_idx in kfold.split(dfr):\n",
        "  dfr_train = dfr.iloc[train_idx]\n",
        "  dfr_test = dfr.iloc[test_idx]\n",
        "\n",
        "  y_train = dfr_train.stroke.values\n",
        "  y_test = dfr_test.stroke.values\n",
        "\n",
        "  del dfr_train['stroke']\n",
        "  del dfr_test['stroke']\n",
        "\n",
        "  dv, model = train_log(dfr_train, y_train)\n",
        "  y_pred = predict_log(dfr_test, dv, model)\n",
        "\n",
        "  auc = roc_auc_score(y_test, y_pred)\n",
        "  k_scores.append(auc)"
      ],
      "metadata": {
        "id": "v9mZDLbe3j69"
      },
      "execution_count": 124,
      "outputs": []
    },
    {
      "cell_type": "code",
      "source": [
        "#@title KFold AUC score mean, std deviation,rmse\n",
        "round(np.mean(k_scores),3), round(np.std(k_scores), 3)"
      ],
      "metadata": {
        "colab": {
          "base_uri": "https://localhost:8080/"
        },
        "id": "KZRpJPya3zf-",
        "outputId": "edb9a931-cd95-44ae-9a0d-37c2a35bb4a2"
      },
      "execution_count": 125,
      "outputs": [
        {
          "output_type": "execute_result",
          "data": {
            "text/plain": [
              "(0.839, 0.035)"
            ]
          },
          "metadata": {},
          "execution_count": 125
        }
      ]
    },
    {
      "cell_type": "code",
      "source": [
        "#@title RMSE\n",
        "round(rmse(y_test, y_pred),3)"
      ],
      "metadata": {
        "colab": {
          "base_uri": "https://localhost:8080/"
        },
        "id": "SkKSg_7N35c8",
        "outputId": "dd59f3fb-b153-4661-ff0a-f97de723e3a1"
      },
      "execution_count": 126,
      "outputs": [
        {
          "output_type": "execute_result",
          "data": {
            "text/plain": [
              "0.038"
            ]
          },
          "metadata": {},
          "execution_count": 126
        }
      ]
    },
    {
      "cell_type": "markdown",
      "source": [
        "##  **Naïve Bayes Model**"
      ],
      "metadata": {
        "id": "KjoMYQ1bXUY7"
      }
    },
    {
      "cell_type": "markdown",
      "source": [
        "### **ComplementNB AUC** 0.839 / RMSE 0.038"
      ],
      "metadata": {
        "id": "SLA--I3K6xyx"
      }
    },
    {
      "cell_type": "markdown",
      "source": [
        "This model was chosen for being well suited for mimbalanced data set as noted [here](https://scikit-learn.org/stable/modules/generated/sklearn.naive_bayes.ComplementNB.html#sklearn.naive_bayes.ComplementNB)."
      ],
      "metadata": {
        "id": "kvdAa1un9kzY"
      }
    },
    {
      "cell_type": "code",
      "source": [
        "#@title train model\n",
        "def train_cnb(df,y):\n",
        "  train_dict = df.to_dict(orient='records')\n",
        "\n",
        "  dv = DictVectorizer(sparse=False)\n",
        "  x_train = dv.fit_transform(train_dict)\n",
        "\n",
        "  model = ComplementNB(random_state=1)\n",
        "  model.fit(x_train, y)\n",
        "\n",
        "  return dv, model"
      ],
      "metadata": {
        "cellView": "form",
        "id": "oPXjcYVl5qMN"
      },
      "execution_count": 132,
      "outputs": []
    },
    {
      "cell_type": "code",
      "source": [
        "#@title predict\n",
        "def predict_cnb(df,dv, model):\n",
        "  var_dict = df.to_dict(orient='records')\n",
        "  \n",
        "  x = dv.transform(var_dict)\n",
        "  y_pred = model.predict(x)\n",
        "\n",
        "  return y_pred"
      ],
      "metadata": {
        "cellView": "form",
        "id": "2hMsRYgt6_rh"
      },
      "execution_count": 133,
      "outputs": []
    },
    {
      "cell_type": "code",
      "source": [
        "#@title kfold split and train\n",
        "dfr = df.copy()\n",
        "#del dfr['other_gender'] \n",
        "#del dfr['is_a_child']\n",
        "#del dfr['unknown_smoking']\n",
        "\n",
        "k_scores = []\n",
        "\n",
        "for train_idx,test_idx in kfold.split(dfr):\n",
        "  dfr_train = dfr.iloc[train_idx]\n",
        "  dfr_test = dfr.iloc[test_idx]\n",
        "\n",
        "  y_train = dfr_train.stroke.values\n",
        "  y_test = dfr_test.stroke.values\n",
        "\n",
        "  del dfr_train['stroke']\n",
        "  del dfr_test['stroke']\n",
        "\n",
        "  dv, model = train_log(dfr_train, y_train)\n",
        "  y_pred = predict_log(dfr_test, dv, model)\n",
        "\n",
        "  auc = roc_auc_score(y_test, y_pred)\n",
        "  k_scores.append(auc)"
      ],
      "metadata": {
        "cellView": "form",
        "id": "sNlZldqn7Sf3"
      },
      "execution_count": 134,
      "outputs": []
    },
    {
      "cell_type": "code",
      "source": [
        "#@title KFold AUC score mean, std deviation,rmse\n",
        "round(np.mean(k_scores),3), round(np.std(k_scores), 3)"
      ],
      "metadata": {
        "cellView": "form",
        "colab": {
          "base_uri": "https://localhost:8080/"
        },
        "id": "KTcVrK0d7Xht",
        "outputId": "fc7fa246-4c7d-4cc3-a617-298fcfa2ffac"
      },
      "execution_count": 135,
      "outputs": [
        {
          "output_type": "execute_result",
          "data": {
            "text/plain": [
              "(0.839, 0.035)"
            ]
          },
          "metadata": {},
          "execution_count": 135
        }
      ]
    },
    {
      "cell_type": "code",
      "source": [
        "#@title RMSE\n",
        "round(rmse(y_test, y_pred),3)"
      ],
      "metadata": {
        "cellView": "form",
        "colab": {
          "base_uri": "https://localhost:8080/"
        },
        "id": "HMycUBCq7cTF",
        "outputId": "847fde53-6ad5-4132-d4d2-0451402d64e6"
      },
      "execution_count": 136,
      "outputs": [
        {
          "output_type": "execute_result",
          "data": {
            "text/plain": [
              "0.038"
            ]
          },
          "metadata": {},
          "execution_count": 136
        }
      ]
    },
    {
      "cell_type": "markdown",
      "source": [
        "## **K-Nearest Neighbours**"
      ],
      "metadata": {
        "id": "LtgkFm0l-3Sf"
      }
    },
    {
      "cell_type": "markdown",
      "source": [
        "## **Support Vector Machines**"
      ],
      "metadata": {
        "id": "V_cgq6g1-8hI"
      }
    },
    {
      "cell_type": "markdown",
      "source": [
        "## **Descision Tree**"
      ],
      "metadata": {
        "id": "MNAys7-zJsj0"
      }
    },
    {
      "cell_type": "markdown",
      "source": [
        "## **Random Forest**"
      ],
      "metadata": {
        "id": "foiRDAijJ4JT"
      }
    },
    {
      "cell_type": "markdown",
      "source": [
        "<a name=\"tuning\"></a>\n",
        "# Tuning"
      ],
      "metadata": {
        "id": "4eCPd6NIrl21"
      }
    },
    {
      "cell_type": "markdown",
      "source": [
        "The tuning process consists of adjusting and measuring model parameters, and, if needed, revisiting feature engineering."
      ],
      "metadata": {
        "id": "1cKfexbBsJGC"
      }
    },
    {
      "cell_type": "markdown",
      "source": [
        "## Feature Importance"
      ],
      "metadata": {
        "id": "Isd9NLBYPYej"
      }
    },
    {
      "cell_type": "markdown",
      "source": [
        "<a name=\"deploy\"></a>\n",
        "# Deployment"
      ],
      "metadata": {
        "id": "c9VGxAtiroCf"
      }
    },
    {
      "cell_type": "markdown",
      "source": [],
      "metadata": {
        "id": "f8Ci49G_tS3Z"
      }
    }
  ]
}