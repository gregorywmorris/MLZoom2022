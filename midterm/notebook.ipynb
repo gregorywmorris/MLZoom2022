{
 "cells": [
  {
   "cell_type": "markdown",
   "metadata": {
    "colab_type": "text",
    "id": "view-in-github"
   },
   "source": [
    "<a href=\"https://colab.research.google.com/github/gregorywmorris/MLZoom2022/blob/main/midterm/notebook.ipynb\" target=\"_parent\"><img src=\"https://colab.research.google.com/assets/colab-badge.svg\" alt=\"Open In Colab\"/></a>"
   ]
  },
  {
   "cell_type": "code",
   "execution_count": 1,
   "metadata": {
    "cellView": "form",
    "colab": {
     "base_uri": "https://localhost:8080/",
     "height": 35
    },
    "id": "JJzJI1-3ZR81",
    "outputId": "45e775f3-3092-43a5-97fb-07f1de086a24"
   },
   "outputs": [
    {
     "data": {
      "application/javascript": [
       "IPython.notebook.set_autosave_interval(1000)"
      ]
     },
     "metadata": {},
     "output_type": "display_data"
    },
    {
     "name": "stdout",
     "output_type": "stream",
     "text": [
      "Autosaving every 1 seconds\n"
     ]
    }
   ],
   "source": [
    "#@title Auto-save / Auto-reload\n",
    "%autosave 1\n",
    "\n",
    "%load_ext autoreload\n",
    "%autoreload 2"
   ]
  },
  {
   "cell_type": "markdown",
   "metadata": {
    "id": "w_xIx0RhWo_8"
   },
   "source": [
    "# !pip"
   ]
  },
  {
   "cell_type": "code",
   "execution_count": 2,
   "metadata": {
    "colab": {
     "base_uri": "https://localhost:8080/"
    },
    "id": "jqQXz-7jWmZh",
    "outputId": "bf5300d7-8325-495c-c0cb-09608245c1ce"
   },
   "outputs": [
    {
     "name": "stdout",
     "output_type": "stream",
     "text": [
      "Requirement already satisfied: catboost in c:\\users\\gwm19\\appdata\\local\\programs\\python\\python310\\lib\\site-packages (1.1.1)\n",
      "Requirement already satisfied: matplotlib in c:\\users\\gwm19\\appdata\\local\\programs\\python\\python310\\lib\\site-packages (from catboost) (3.6.2)\n",
      "Requirement already satisfied: plotly in c:\\users\\gwm19\\appdata\\local\\programs\\python\\python310\\lib\\site-packages (from catboost) (5.11.0)\n",
      "Requirement already satisfied: numpy>=1.16.0 in c:\\users\\gwm19\\appdata\\local\\programs\\python\\python310\\lib\\site-packages (from catboost) (1.23.1)\n",
      "Requirement already satisfied: pandas>=0.24.0 in c:\\users\\gwm19\\appdata\\local\\programs\\python\\python310\\lib\\site-packages (from catboost) (1.4.3)\n",
      "Requirement already satisfied: six in c:\\users\\gwm19\\appdata\\local\\programs\\python\\python310\\lib\\site-packages (from catboost) (1.16.0)\n",
      "Requirement already satisfied: scipy in c:\\users\\gwm19\\appdata\\local\\programs\\python\\python310\\lib\\site-packages (from catboost) (1.9.3)\n",
      "Requirement already satisfied: graphviz in c:\\users\\gwm19\\appdata\\local\\programs\\python\\python310\\lib\\site-packages (from catboost) (0.20.1)\n",
      "Requirement already satisfied: pytz>=2020.1 in c:\\users\\gwm19\\appdata\\local\\programs\\python\\python310\\lib\\site-packages (from pandas>=0.24.0->catboost) (2022.1)\n",
      "Requirement already satisfied: python-dateutil>=2.8.1 in c:\\users\\gwm19\\appdata\\local\\programs\\python\\python310\\lib\\site-packages (from pandas>=0.24.0->catboost) (2.8.2)\n",
      "Requirement already satisfied: cycler>=0.10 in c:\\users\\gwm19\\appdata\\local\\programs\\python\\python310\\lib\\site-packages (from matplotlib->catboost) (0.11.0)\n",
      "Requirement already satisfied: contourpy>=1.0.1 in c:\\users\\gwm19\\appdata\\local\\programs\\python\\python310\\lib\\site-packages (from matplotlib->catboost) (1.0.6)\n",
      "Requirement already satisfied: packaging>=20.0 in c:\\users\\gwm19\\appdata\\local\\programs\\python\\python310\\lib\\site-packages (from matplotlib->catboost) (21.3)\n",
      "Requirement already satisfied: pillow>=6.2.0 in c:\\users\\gwm19\\appdata\\local\\programs\\python\\python310\\lib\\site-packages (from matplotlib->catboost) (9.2.0)\n",
      "Requirement already satisfied: kiwisolver>=1.0.1 in c:\\users\\gwm19\\appdata\\local\\programs\\python\\python310\\lib\\site-packages (from matplotlib->catboost) (1.4.4)\n",
      "Requirement already satisfied: pyparsing>=2.2.1 in c:\\users\\gwm19\\appdata\\local\\programs\\python\\python310\\lib\\site-packages (from matplotlib->catboost) (3.0.9)\n",
      "Requirement already satisfied: fonttools>=4.22.0 in c:\\users\\gwm19\\appdata\\local\\programs\\python\\python310\\lib\\site-packages (from matplotlib->catboost) (4.38.0)\n",
      "Requirement already satisfied: tenacity>=6.2.0 in c:\\users\\gwm19\\appdata\\local\\programs\\python\\python310\\lib\\site-packages (from plotly->catboost) (8.1.0)\n"
     ]
    }
   ],
   "source": [
    "!pip install catboost"
   ]
  },
  {
   "cell_type": "code",
   "execution_count": 3,
   "metadata": {
    "colab": {
     "base_uri": "https://localhost:8080/"
    },
    "id": "D23tmiTJWtT9",
    "outputId": "bd883ed3-8b85-4fbf-9b19-72090d415586"
   },
   "outputs": [
    {
     "name": "stdout",
     "output_type": "stream",
     "text": [
      "Requirement already satisfied: scikit-plot in c:\\users\\gwm19\\appdata\\local\\programs\\python\\python310\\lib\\site-packages (0.3.7)\n",
      "Requirement already satisfied: joblib>=0.10 in c:\\users\\gwm19\\appdata\\local\\programs\\python\\python310\\lib\\site-packages (from scikit-plot) (1.2.0)\n",
      "Requirement already satisfied: scikit-learn>=0.18 in c:\\users\\gwm19\\appdata\\local\\programs\\python\\python310\\lib\\site-packages (from scikit-plot) (1.1.2)\n",
      "Requirement already satisfied: scipy>=0.9 in c:\\users\\gwm19\\appdata\\local\\programs\\python\\python310\\lib\\site-packages (from scikit-plot) (1.9.3)\n",
      "Requirement already satisfied: matplotlib>=1.4.0 in c:\\users\\gwm19\\appdata\\local\\programs\\python\\python310\\lib\\site-packages (from scikit-plot) (3.6.2)\n",
      "Requirement already satisfied: kiwisolver>=1.0.1 in c:\\users\\gwm19\\appdata\\local\\programs\\python\\python310\\lib\\site-packages (from matplotlib>=1.4.0->scikit-plot) (1.4.4)\n",
      "Requirement already satisfied: pillow>=6.2.0 in c:\\users\\gwm19\\appdata\\local\\programs\\python\\python310\\lib\\site-packages (from matplotlib>=1.4.0->scikit-plot) (9.2.0)\n",
      "Requirement already satisfied: packaging>=20.0 in c:\\users\\gwm19\\appdata\\local\\programs\\python\\python310\\lib\\site-packages (from matplotlib>=1.4.0->scikit-plot) (21.3)\n",
      "Requirement already satisfied: contourpy>=1.0.1 in c:\\users\\gwm19\\appdata\\local\\programs\\python\\python310\\lib\\site-packages (from matplotlib>=1.4.0->scikit-plot) (1.0.6)\n",
      "Requirement already satisfied: pyparsing>=2.2.1 in c:\\users\\gwm19\\appdata\\local\\programs\\python\\python310\\lib\\site-packages (from matplotlib>=1.4.0->scikit-plot) (3.0.9)\n",
      "Requirement already satisfied: cycler>=0.10 in c:\\users\\gwm19\\appdata\\local\\programs\\python\\python310\\lib\\site-packages (from matplotlib>=1.4.0->scikit-plot) (0.11.0)\n",
      "Requirement already satisfied: fonttools>=4.22.0 in c:\\users\\gwm19\\appdata\\local\\programs\\python\\python310\\lib\\site-packages (from matplotlib>=1.4.0->scikit-plot) (4.38.0)\n",
      "Requirement already satisfied: numpy>=1.19 in c:\\users\\gwm19\\appdata\\local\\programs\\python\\python310\\lib\\site-packages (from matplotlib>=1.4.0->scikit-plot) (1.23.1)\n",
      "Requirement already satisfied: python-dateutil>=2.7 in c:\\users\\gwm19\\appdata\\local\\programs\\python\\python310\\lib\\site-packages (from matplotlib>=1.4.0->scikit-plot) (2.8.2)\n",
      "Requirement already satisfied: threadpoolctl>=2.0.0 in c:\\users\\gwm19\\appdata\\local\\programs\\python\\python310\\lib\\site-packages (from scikit-learn>=0.18->scikit-plot) (3.1.0)\n",
      "Requirement already satisfied: six>=1.5 in c:\\users\\gwm19\\appdata\\local\\programs\\python\\python310\\lib\\site-packages (from python-dateutil>=2.7->matplotlib>=1.4.0->scikit-plot) (1.16.0)\n"
     ]
    }
   ],
   "source": [
    "!pip install scikit-plot"
   ]
  },
  {
   "cell_type": "code",
   "execution_count": 4,
   "metadata": {
    "colab": {
     "base_uri": "https://localhost:8080/"
    },
    "id": "W72CKr64WxlU",
    "outputId": "47c9f4e8-f255-4624-b09f-2a06d6c5ddb6"
   },
   "outputs": [
    {
     "name": "stdout",
     "output_type": "stream",
     "text": [
      "Requirement already satisfied: scipy in c:\\users\\gwm19\\appdata\\local\\programs\\python\\python310\\lib\\site-packages (1.9.3)\n",
      "Requirement already satisfied: numpy<1.26.0,>=1.18.5 in c:\\users\\gwm19\\appdata\\local\\programs\\python\\python310\\lib\\site-packages (from scipy) (1.23.1)\n"
     ]
    }
   ],
   "source": [
    "!pip install scipy"
   ]
  },
  {
   "cell_type": "code",
   "execution_count": 5,
   "metadata": {
    "colab": {
     "base_uri": "https://localhost:8080/"
    },
    "id": "Iymu0XicbYMk",
    "outputId": "f1ff0c1a-2a1f-49dd-cd2b-b528a867a689"
   },
   "outputs": [
    {
     "name": "stdout",
     "output_type": "stream",
     "text": [
      "Requirement already satisfied: dask in c:\\users\\gwm19\\appdata\\local\\programs\\python\\python310\\lib\\site-packages (2022.10.2)\n",
      "Requirement already satisfied: partd>=0.3.10 in c:\\users\\gwm19\\appdata\\local\\programs\\python\\python310\\lib\\site-packages (from dask) (1.3.0)\n",
      "Requirement already satisfied: cloudpickle>=1.1.1 in c:\\users\\gwm19\\appdata\\local\\programs\\python\\python310\\lib\\site-packages (from dask) (2.2.0)\n",
      "Requirement already satisfied: toolz>=0.8.2 in c:\\users\\gwm19\\appdata\\local\\programs\\python\\python310\\lib\\site-packages (from dask) (0.12.0)\n",
      "Requirement already satisfied: pyyaml>=5.3.1 in c:\\users\\gwm19\\appdata\\local\\programs\\python\\python310\\lib\\site-packages (from dask) (6.0)\n",
      "Requirement already satisfied: fsspec>=0.6.0 in c:\\users\\gwm19\\appdata\\local\\programs\\python\\python310\\lib\\site-packages (from dask) (2022.10.0)\n",
      "Requirement already satisfied: packaging>=20.0 in c:\\users\\gwm19\\appdata\\local\\programs\\python\\python310\\lib\\site-packages (from dask) (21.3)\n",
      "Requirement already satisfied: click>=7.0 in c:\\users\\gwm19\\appdata\\local\\programs\\python\\python310\\lib\\site-packages (from dask) (8.1.3)\n",
      "Requirement already satisfied: colorama in c:\\users\\gwm19\\appdata\\local\\programs\\python\\python310\\lib\\site-packages (from click>=7.0->dask) (0.4.5)\n",
      "Requirement already satisfied: pyparsing!=3.0.5,>=2.0.2 in c:\\users\\gwm19\\appdata\\local\\programs\\python\\python310\\lib\\site-packages (from packaging>=20.0->dask) (3.0.9)\n",
      "Requirement already satisfied: locket in c:\\users\\gwm19\\appdata\\local\\programs\\python\\python310\\lib\\site-packages (from partd>=0.3.10->dask) (1.0.0)\n"
     ]
    }
   ],
   "source": [
    "!pip install dask"
   ]
  },
  {
   "cell_type": "code",
   "execution_count": 14,
   "metadata": {
    "colab": {
     "base_uri": "https://localhost:8080/"
    },
    "id": "gZ_3EqO-Wv20",
    "outputId": "fbb9f5e2-2481-45f1-ce9d-7c7b75aaf3b9"
   },
   "outputs": [
    {
     "name": "stdout",
     "output_type": "stream",
     "text": [
      "Requirement already satisfied: dataprep in c:\\users\\gwm19\\appdata\\local\\programs\\python\\python310\\lib\\site-packages (0.4.5)\n",
      "Requirement already satisfied: python-crfsuite==0.9.8 in c:\\users\\gwm19\\appdata\\local\\programs\\python\\python310\\lib\\site-packages (from dataprep) (0.9.8)\n",
      "Requirement already satisfied: nltk<4.0.0,>=3.6.7 in c:\\users\\gwm19\\appdata\\local\\programs\\python\\python310\\lib\\site-packages (from dataprep) (3.7)\n",
      "Requirement already satisfied: varname<0.9.0,>=0.8.1 in c:\\users\\gwm19\\appdata\\local\\programs\\python\\python310\\lib\\site-packages (from dataprep) (0.8.3)\n",
      "Requirement already satisfied: flask_cors<4.0.0,>=3.0.10 in c:\\users\\gwm19\\appdata\\local\\programs\\python\\python310\\lib\\site-packages (from dataprep) (3.0.10)\n",
      "Requirement already satisfied: wordcloud<2.0,>=1.8 in c:\\users\\gwm19\\appdata\\local\\programs\\python\\python310\\lib\\site-packages (from dataprep) (1.8.2.2)\n",
      "Requirement already satisfied: rapidfuzz<3.0.0,>=2.1.2 in c:\\users\\gwm19\\appdata\\local\\programs\\python\\python310\\lib\\site-packages (from dataprep) (2.13.1)\n",
      "Requirement already satisfied: pydantic<2.0,>=1.6 in c:\\users\\gwm19\\appdata\\local\\programs\\python\\python310\\lib\\site-packages (from dataprep) (1.10.2)\n",
      "Requirement already satisfied: numpy<2.0,>=1.21 in c:\\users\\gwm19\\appdata\\local\\programs\\python\\python310\\lib\\site-packages (from dataprep) (1.23.1)\n",
      "Requirement already satisfied: aiohttp<4.0,>=3.6 in c:\\users\\gwm19\\appdata\\local\\programs\\python\\python310\\lib\\site-packages (from dataprep) (3.8.3)\n",
      "Requirement already satisfied: scipy<2.0,>=1.8 in c:\\users\\gwm19\\appdata\\local\\programs\\python\\python310\\lib\\site-packages (from dataprep) (1.9.3)\n",
      "Requirement already satisfied: python-stdnum<2.0,>=1.16 in c:\\users\\gwm19\\appdata\\local\\programs\\python\\python310\\lib\\site-packages (from dataprep) (1.17)\n",
      "Requirement already satisfied: sqlalchemy==1.3.24 in c:\\users\\gwm19\\appdata\\local\\programs\\python\\python310\\lib\\site-packages (from dataprep) (1.3.24)\n",
      "Requirement already satisfied: tqdm<5.0,>=4.48 in c:\\users\\gwm19\\appdata\\local\\programs\\python\\python310\\lib\\site-packages (from dataprep) (4.64.1)\n",
      "Requirement already satisfied: regex<2022.0.0,>=2021.8.3 in c:\\users\\gwm19\\appdata\\local\\programs\\python\\python310\\lib\\site-packages (from dataprep) (2021.11.10)\n",
      "Requirement already satisfied: metaphone<0.7,>=0.6 in c:\\users\\gwm19\\appdata\\local\\programs\\python\\python310\\lib\\site-packages (from dataprep) (0.6)\n",
      "Requirement already satisfied: pydot<2.0.0,>=1.4.2 in c:\\users\\gwm19\\appdata\\local\\programs\\python\\python310\\lib\\site-packages (from dataprep) (1.4.2)\n",
      "Requirement already satisfied: pandas<2.0,>=1.1 in c:\\users\\gwm19\\appdata\\local\\programs\\python\\python310\\lib\\site-packages (from dataprep) (1.4.3)\n",
      "Requirement already satisfied: jinja2<3.1,>=3.0 in c:\\users\\gwm19\\appdata\\local\\programs\\python\\python310\\lib\\site-packages (from dataprep) (3.0.3)\n",
      "Requirement already satisfied: jsonpath-ng<2.0,>=1.5 in c:\\users\\gwm19\\appdata\\local\\programs\\python\\python310\\lib\\site-packages (from dataprep) (1.5.3)\n",
      "Requirement already satisfied: dask[array,dataframe,delayed]>=2022.3.0 in c:\\users\\gwm19\\appdata\\local\\programs\\python\\python310\\lib\\site-packages (from dataprep) (2022.10.2)\n",
      "Requirement already satisfied: flask<3,>=2 in c:\\users\\gwm19\\appdata\\local\\programs\\python\\python310\\lib\\site-packages (from dataprep) (2.2.2)\n",
      "Requirement already satisfied: ipywidgets<8.0,>=7.5 in c:\\users\\gwm19\\appdata\\local\\programs\\python\\python310\\lib\\site-packages (from dataprep) (7.7.2)\n",
      "Requirement already satisfied: bokeh<3,>=2 in c:\\users\\gwm19\\appdata\\local\\programs\\python\\python310\\lib\\site-packages (from dataprep) (2.4.3)\n",
      "Requirement already satisfied: yarl<2.0,>=1.0 in c:\\users\\gwm19\\appdata\\local\\programs\\python\\python310\\lib\\site-packages (from aiohttp<4.0,>=3.6->dataprep) (1.8.1)\n",
      "Requirement already satisfied: frozenlist>=1.1.1 in c:\\users\\gwm19\\appdata\\local\\programs\\python\\python310\\lib\\site-packages (from aiohttp<4.0,>=3.6->dataprep) (1.3.1)\n",
      "Requirement already satisfied: charset-normalizer<3.0,>=2.0 in c:\\users\\gwm19\\appdata\\local\\programs\\python\\python310\\lib\\site-packages (from aiohttp<4.0,>=3.6->dataprep) (2.1.1)\n",
      "Requirement already satisfied: aiosignal>=1.1.2 in c:\\users\\gwm19\\appdata\\local\\programs\\python\\python310\\lib\\site-packages (from aiohttp<4.0,>=3.6->dataprep) (1.2.0)\n",
      "Requirement already satisfied: async-timeout<5.0,>=4.0.0a3 in c:\\users\\gwm19\\appdata\\local\\programs\\python\\python310\\lib\\site-packages (from aiohttp<4.0,>=3.6->dataprep) (4.0.2)\n",
      "Requirement already satisfied: multidict<7.0,>=4.5 in c:\\users\\gwm19\\appdata\\local\\programs\\python\\python310\\lib\\site-packages (from aiohttp<4.0,>=3.6->dataprep) (6.0.2)\n",
      "Requirement already satisfied: attrs>=17.3.0 in c:\\users\\gwm19\\appdata\\local\\programs\\python\\python310\\lib\\site-packages (from aiohttp<4.0,>=3.6->dataprep) (22.1.0)\n",
      "Requirement already satisfied: pillow>=7.1.0 in c:\\users\\gwm19\\appdata\\local\\programs\\python\\python310\\lib\\site-packages (from bokeh<3,>=2->dataprep) (9.2.0)\n",
      "Requirement already satisfied: PyYAML>=3.10 in c:\\users\\gwm19\\appdata\\local\\programs\\python\\python310\\lib\\site-packages (from bokeh<3,>=2->dataprep) (6.0)\n",
      "Requirement already satisfied: typing-extensions>=3.10.0 in c:\\users\\gwm19\\appdata\\local\\programs\\python\\python310\\lib\\site-packages (from bokeh<3,>=2->dataprep) (4.4.0)\n",
      "Requirement already satisfied: tornado>=5.1 in c:\\users\\gwm19\\appdata\\local\\programs\\python\\python310\\lib\\site-packages (from bokeh<3,>=2->dataprep) (6.2)\n",
      "Requirement already satisfied: packaging>=16.8 in c:\\users\\gwm19\\appdata\\local\\programs\\python\\python310\\lib\\site-packages (from bokeh<3,>=2->dataprep) (21.3)\n",
      "Requirement already satisfied: click>=7.0 in c:\\users\\gwm19\\appdata\\local\\programs\\python\\python310\\lib\\site-packages (from dask[array,dataframe,delayed]>=2022.3.0->dataprep) (8.1.3)\n",
      "Requirement already satisfied: cloudpickle>=1.1.1 in c:\\users\\gwm19\\appdata\\local\\programs\\python\\python310\\lib\\site-packages (from dask[array,dataframe,delayed]>=2022.3.0->dataprep) (2.2.0)\n",
      "Requirement already satisfied: partd>=0.3.10 in c:\\users\\gwm19\\appdata\\local\\programs\\python\\python310\\lib\\site-packages (from dask[array,dataframe,delayed]>=2022.3.0->dataprep) (1.3.0)\n",
      "Requirement already satisfied: toolz>=0.8.2 in c:\\users\\gwm19\\appdata\\local\\programs\\python\\python310\\lib\\site-packages (from dask[array,dataframe,delayed]>=2022.3.0->dataprep) (0.12.0)\n",
      "Requirement already satisfied: fsspec>=0.6.0 in c:\\users\\gwm19\\appdata\\local\\programs\\python\\python310\\lib\\site-packages (from dask[array,dataframe,delayed]>=2022.3.0->dataprep) (2022.10.0)\n",
      "Requirement already satisfied: Werkzeug>=2.2.2 in c:\\users\\gwm19\\appdata\\local\\programs\\python\\python310\\lib\\site-packages (from flask<3,>=2->dataprep) (2.2.2)\n",
      "Requirement already satisfied: itsdangerous>=2.0 in c:\\users\\gwm19\\appdata\\local\\programs\\python\\python310\\lib\\site-packages (from flask<3,>=2->dataprep) (2.1.2)\n",
      "Requirement already satisfied: Six in c:\\users\\gwm19\\appdata\\local\\programs\\python\\python310\\lib\\site-packages (from flask_cors<4.0.0,>=3.0.10->dataprep) (1.16.0)\n",
      "Requirement already satisfied: ipykernel>=4.5.1 in c:\\users\\gwm19\\appdata\\local\\programs\\python\\python310\\lib\\site-packages (from ipywidgets<8.0,>=7.5->dataprep) (6.15.3)\n",
      "Requirement already satisfied: traitlets>=4.3.1 in c:\\users\\gwm19\\appdata\\local\\programs\\python\\python310\\lib\\site-packages (from ipywidgets<8.0,>=7.5->dataprep) (5.4.0)\n",
      "Requirement already satisfied: jupyterlab-widgets<3,>=1.0.0 in c:\\users\\gwm19\\appdata\\local\\programs\\python\\python310\\lib\\site-packages (from ipywidgets<8.0,>=7.5->dataprep) (1.1.1)\n",
      "Requirement already satisfied: ipython>=4.0.0 in c:\\users\\gwm19\\appdata\\local\\programs\\python\\python310\\lib\\site-packages (from ipywidgets<8.0,>=7.5->dataprep) (8.5.0)\n",
      "Requirement already satisfied: widgetsnbextension~=3.6.0 in c:\\users\\gwm19\\appdata\\local\\programs\\python\\python310\\lib\\site-packages (from ipywidgets<8.0,>=7.5->dataprep) (3.6.1)\n",
      "Requirement already satisfied: ipython-genutils~=0.2.0 in c:\\users\\gwm19\\appdata\\local\\programs\\python\\python310\\lib\\site-packages (from ipywidgets<8.0,>=7.5->dataprep) (0.2.0)\n",
      "Requirement already satisfied: MarkupSafe>=2.0 in c:\\users\\gwm19\\appdata\\local\\programs\\python\\python310\\lib\\site-packages (from jinja2<3.1,>=3.0->dataprep) (2.1.1)\n",
      "Requirement already satisfied: decorator in c:\\users\\gwm19\\appdata\\local\\programs\\python\\python310\\lib\\site-packages (from jsonpath-ng<2.0,>=1.5->dataprep) (5.1.1)\n",
      "Requirement already satisfied: ply in c:\\users\\gwm19\\appdata\\local\\programs\\python\\python310\\lib\\site-packages (from jsonpath-ng<2.0,>=1.5->dataprep) (3.11)\n",
      "Requirement already satisfied: joblib in c:\\users\\gwm19\\appdata\\local\\programs\\python\\python310\\lib\\site-packages (from nltk<4.0.0,>=3.6.7->dataprep) (1.2.0)\n",
      "Requirement already satisfied: pytz>=2020.1 in c:\\users\\gwm19\\appdata\\local\\programs\\python\\python310\\lib\\site-packages (from pandas<2.0,>=1.1->dataprep) (2022.1)\n",
      "Requirement already satisfied: python-dateutil>=2.8.1 in c:\\users\\gwm19\\appdata\\local\\programs\\python\\python310\\lib\\site-packages (from pandas<2.0,>=1.1->dataprep) (2.8.2)\n",
      "Requirement already satisfied: pyparsing>=2.1.4 in c:\\users\\gwm19\\appdata\\local\\programs\\python\\python310\\lib\\site-packages (from pydot<2.0.0,>=1.4.2->dataprep) (3.0.9)\n",
      "Requirement already satisfied: colorama in c:\\users\\gwm19\\appdata\\local\\programs\\python\\python310\\lib\\site-packages (from tqdm<5.0,>=4.48->dataprep) (0.4.5)\n",
      "Requirement already satisfied: executing<0.9.0,>=0.8.3 in c:\\users\\gwm19\\appdata\\local\\programs\\python\\python310\\lib\\site-packages (from varname<0.9.0,>=0.8.1->dataprep) (0.8.3)\n",
      "Requirement already satisfied: pure_eval<1.0.0 in c:\\users\\gwm19\\appdata\\local\\programs\\python\\python310\\lib\\site-packages (from varname<0.9.0,>=0.8.1->dataprep) (0.2.2)\n",
      "Requirement already satisfied: asttokens<3.0.0,>=2.0.0 in c:\\users\\gwm19\\appdata\\local\\programs\\python\\python310\\lib\\site-packages (from varname<0.9.0,>=0.8.1->dataprep) (2.0.8)\n",
      "Requirement already satisfied: matplotlib in c:\\users\\gwm19\\appdata\\local\\programs\\python\\python310\\lib\\site-packages (from wordcloud<2.0,>=1.8->dataprep) (3.6.2)\n",
      "Requirement already satisfied: psutil in c:\\users\\gwm19\\appdata\\local\\programs\\python\\python310\\lib\\site-packages (from ipykernel>=4.5.1->ipywidgets<8.0,>=7.5->dataprep) (5.9.2)\n",
      "Requirement already satisfied: jupyter-client>=6.1.12 in c:\\users\\gwm19\\appdata\\local\\programs\\python\\python310\\lib\\site-packages (from ipykernel>=4.5.1->ipywidgets<8.0,>=7.5->dataprep) (7.3.5)\n",
      "Requirement already satisfied: pyzmq>=17 in c:\\users\\gwm19\\appdata\\local\\programs\\python\\python310\\lib\\site-packages (from ipykernel>=4.5.1->ipywidgets<8.0,>=7.5->dataprep) (24.0.1)\n",
      "Requirement already satisfied: matplotlib-inline>=0.1 in c:\\users\\gwm19\\appdata\\local\\programs\\python\\python310\\lib\\site-packages (from ipykernel>=4.5.1->ipywidgets<8.0,>=7.5->dataprep) (0.1.6)\n",
      "Requirement already satisfied: nest-asyncio in c:\\users\\gwm19\\appdata\\local\\programs\\python\\python310\\lib\\site-packages (from ipykernel>=4.5.1->ipywidgets<8.0,>=7.5->dataprep) (1.5.5)\n",
      "Requirement already satisfied: debugpy>=1.0 in c:\\users\\gwm19\\appdata\\local\\programs\\python\\python310\\lib\\site-packages (from ipykernel>=4.5.1->ipywidgets<8.0,>=7.5->dataprep) (1.6.3)\n",
      "Requirement already satisfied: pickleshare in c:\\users\\gwm19\\appdata\\local\\programs\\python\\python310\\lib\\site-packages (from ipython>=4.0.0->ipywidgets<8.0,>=7.5->dataprep) (0.7.5)\n",
      "Requirement already satisfied: backcall in c:\\users\\gwm19\\appdata\\local\\programs\\python\\python310\\lib\\site-packages (from ipython>=4.0.0->ipywidgets<8.0,>=7.5->dataprep) (0.2.0)\n",
      "Requirement already satisfied: stack-data in c:\\users\\gwm19\\appdata\\local\\programs\\python\\python310\\lib\\site-packages (from ipython>=4.0.0->ipywidgets<8.0,>=7.5->dataprep) (0.5.0)\n",
      "Requirement already satisfied: prompt-toolkit<3.1.0,>3.0.1 in c:\\users\\gwm19\\appdata\\local\\programs\\python\\python310\\lib\\site-packages (from ipython>=4.0.0->ipywidgets<8.0,>=7.5->dataprep) (3.0.31)\n",
      "Requirement already satisfied: pygments>=2.4.0 in c:\\users\\gwm19\\appdata\\local\\programs\\python\\python310\\lib\\site-packages (from ipython>=4.0.0->ipywidgets<8.0,>=7.5->dataprep) (2.13.0)\n",
      "Requirement already satisfied: jedi>=0.16 in c:\\users\\gwm19\\appdata\\local\\programs\\python\\python310\\lib\\site-packages (from ipython>=4.0.0->ipywidgets<8.0,>=7.5->dataprep) (0.18.1)\n",
      "Requirement already satisfied: locket in c:\\users\\gwm19\\appdata\\local\\programs\\python\\python310\\lib\\site-packages (from partd>=0.3.10->dask[array,dataframe,delayed]>=2022.3.0->dataprep) (1.0.0)\n",
      "Requirement already satisfied: notebook>=4.4.1 in c:\\users\\gwm19\\appdata\\local\\programs\\python\\python310\\lib\\site-packages (from widgetsnbextension~=3.6.0->ipywidgets<8.0,>=7.5->dataprep) (6.4.12)\n",
      "Requirement already satisfied: idna>=2.0 in c:\\users\\gwm19\\appdata\\local\\programs\\python\\python310\\lib\\site-packages (from yarl<2.0,>=1.0->aiohttp<4.0,>=3.6->dataprep) (3.4)\n",
      "Requirement already satisfied: contourpy>=1.0.1 in c:\\users\\gwm19\\appdata\\local\\programs\\python\\python310\\lib\\site-packages (from matplotlib->wordcloud<2.0,>=1.8->dataprep) (1.0.6)\n",
      "Requirement already satisfied: kiwisolver>=1.0.1 in c:\\users\\gwm19\\appdata\\local\\programs\\python\\python310\\lib\\site-packages (from matplotlib->wordcloud<2.0,>=1.8->dataprep) (1.4.4)\n",
      "Requirement already satisfied: cycler>=0.10 in c:\\users\\gwm19\\appdata\\local\\programs\\python\\python310\\lib\\site-packages (from matplotlib->wordcloud<2.0,>=1.8->dataprep) (0.11.0)\n",
      "Requirement already satisfied: fonttools>=4.22.0 in c:\\users\\gwm19\\appdata\\local\\programs\\python\\python310\\lib\\site-packages (from matplotlib->wordcloud<2.0,>=1.8->dataprep) (4.38.0)\n",
      "Requirement already satisfied: parso<0.9.0,>=0.8.0 in c:\\users\\gwm19\\appdata\\local\\programs\\python\\python310\\lib\\site-packages (from jedi>=0.16->ipython>=4.0.0->ipywidgets<8.0,>=7.5->dataprep) (0.8.3)\n",
      "Requirement already satisfied: jupyter-core>=4.9.2 in c:\\users\\gwm19\\appdata\\local\\programs\\python\\python310\\lib\\site-packages (from jupyter-client>=6.1.12->ipykernel>=4.5.1->ipywidgets<8.0,>=7.5->dataprep) (4.11.1)\n",
      "Requirement already satisfied: entrypoints in c:\\users\\gwm19\\appdata\\local\\programs\\python\\python310\\lib\\site-packages (from jupyter-client>=6.1.12->ipykernel>=4.5.1->ipywidgets<8.0,>=7.5->dataprep) (0.4)\n",
      "Requirement already satisfied: prometheus-client in c:\\users\\gwm19\\appdata\\local\\programs\\python\\python310\\lib\\site-packages (from notebook>=4.4.1->widgetsnbextension~=3.6.0->ipywidgets<8.0,>=7.5->dataprep) (0.14.1)\n",
      "Requirement already satisfied: terminado>=0.8.3 in c:\\users\\gwm19\\appdata\\local\\programs\\python\\python310\\lib\\site-packages (from notebook>=4.4.1->widgetsnbextension~=3.6.0->ipywidgets<8.0,>=7.5->dataprep) (0.15.0)\n",
      "Requirement already satisfied: Send2Trash>=1.8.0 in c:\\users\\gwm19\\appdata\\local\\programs\\python\\python310\\lib\\site-packages (from notebook>=4.4.1->widgetsnbextension~=3.6.0->ipywidgets<8.0,>=7.5->dataprep) (1.8.0)\n",
      "Requirement already satisfied: argon2-cffi in c:\\users\\gwm19\\appdata\\local\\programs\\python\\python310\\lib\\site-packages (from notebook>=4.4.1->widgetsnbextension~=3.6.0->ipywidgets<8.0,>=7.5->dataprep) (21.3.0)\n",
      "Requirement already satisfied: nbconvert>=5 in c:\\users\\gwm19\\appdata\\local\\programs\\python\\python310\\lib\\site-packages (from notebook>=4.4.1->widgetsnbextension~=3.6.0->ipywidgets<8.0,>=7.5->dataprep) (7.0.0)\n",
      "Requirement already satisfied: nbformat in c:\\users\\gwm19\\appdata\\local\\programs\\python\\python310\\lib\\site-packages (from notebook>=4.4.1->widgetsnbextension~=3.6.0->ipywidgets<8.0,>=7.5->dataprep) (5.6.0)\n",
      "Requirement already satisfied: wcwidth in c:\\users\\gwm19\\appdata\\local\\programs\\python\\python310\\lib\\site-packages (from prompt-toolkit<3.1.0,>3.0.1->ipython>=4.0.0->ipywidgets<8.0,>=7.5->dataprep) (0.2.5)\n",
      "Requirement already satisfied: pywin32>=1.0 in c:\\users\\gwm19\\appdata\\local\\programs\\python\\python310\\lib\\site-packages (from jupyter-core>=4.9.2->jupyter-client>=6.1.12->ipykernel>=4.5.1->ipywidgets<8.0,>=7.5->dataprep) (304)\n",
      "Requirement already satisfied: pandocfilters>=1.4.1 in c:\\users\\gwm19\\appdata\\local\\programs\\python\\python310\\lib\\site-packages (from nbconvert>=5->notebook>=4.4.1->widgetsnbextension~=3.6.0->ipywidgets<8.0,>=7.5->dataprep) (1.5.0)\n",
      "Requirement already satisfied: defusedxml in c:\\users\\gwm19\\appdata\\local\\programs\\python\\python310\\lib\\site-packages (from nbconvert>=5->notebook>=4.4.1->widgetsnbextension~=3.6.0->ipywidgets<8.0,>=7.5->dataprep) (0.7.1)\n",
      "Requirement already satisfied: beautifulsoup4 in c:\\users\\gwm19\\appdata\\local\\programs\\python\\python310\\lib\\site-packages (from nbconvert>=5->notebook>=4.4.1->widgetsnbextension~=3.6.0->ipywidgets<8.0,>=7.5->dataprep) (4.11.1)\n",
      "Requirement already satisfied: mistune<3,>=2.0.3 in c:\\users\\gwm19\\appdata\\local\\programs\\python\\python310\\lib\\site-packages (from nbconvert>=5->notebook>=4.4.1->widgetsnbextension~=3.6.0->ipywidgets<8.0,>=7.5->dataprep) (2.0.4)\n",
      "Requirement already satisfied: lxml in c:\\users\\gwm19\\appdata\\local\\programs\\python\\python310\\lib\\site-packages (from nbconvert>=5->notebook>=4.4.1->widgetsnbextension~=3.6.0->ipywidgets<8.0,>=7.5->dataprep) (4.9.1)\n",
      "Requirement already satisfied: tinycss2 in c:\\users\\gwm19\\appdata\\local\\programs\\python\\python310\\lib\\site-packages (from nbconvert>=5->notebook>=4.4.1->widgetsnbextension~=3.6.0->ipywidgets<8.0,>=7.5->dataprep) (1.1.1)\n",
      "Requirement already satisfied: nbclient>=0.5.0 in c:\\users\\gwm19\\appdata\\local\\programs\\python\\python310\\lib\\site-packages (from nbconvert>=5->notebook>=4.4.1->widgetsnbextension~=3.6.0->ipywidgets<8.0,>=7.5->dataprep) (0.6.8)\n",
      "Requirement already satisfied: jupyterlab-pygments in c:\\users\\gwm19\\appdata\\local\\programs\\python\\python310\\lib\\site-packages (from nbconvert>=5->notebook>=4.4.1->widgetsnbextension~=3.6.0->ipywidgets<8.0,>=7.5->dataprep) (0.2.2)\n",
      "Requirement already satisfied: bleach in c:\\users\\gwm19\\appdata\\local\\programs\\python\\python310\\lib\\site-packages (from nbconvert>=5->notebook>=4.4.1->widgetsnbextension~=3.6.0->ipywidgets<8.0,>=7.5->dataprep) (5.0.1)\n",
      "Requirement already satisfied: fastjsonschema in c:\\users\\gwm19\\appdata\\local\\programs\\python\\python310\\lib\\site-packages (from nbformat->notebook>=4.4.1->widgetsnbextension~=3.6.0->ipywidgets<8.0,>=7.5->dataprep) (2.16.2)\n",
      "Requirement already satisfied: jsonschema>=2.6 in c:\\users\\gwm19\\appdata\\local\\programs\\python\\python310\\lib\\site-packages (from nbformat->notebook>=4.4.1->widgetsnbextension~=3.6.0->ipywidgets<8.0,>=7.5->dataprep) (4.16.0)\n",
      "Requirement already satisfied: pywinpty>=1.1.0 in c:\\users\\gwm19\\appdata\\local\\programs\\python\\python310\\lib\\site-packages (from terminado>=0.8.3->notebook>=4.4.1->widgetsnbextension~=3.6.0->ipywidgets<8.0,>=7.5->dataprep) (2.0.8)\n",
      "Requirement already satisfied: argon2-cffi-bindings in c:\\users\\gwm19\\appdata\\local\\programs\\python\\python310\\lib\\site-packages (from argon2-cffi->notebook>=4.4.1->widgetsnbextension~=3.6.0->ipywidgets<8.0,>=7.5->dataprep) (21.2.0)\n",
      "Requirement already satisfied: pyrsistent!=0.17.0,!=0.17.1,!=0.17.2,>=0.14.0 in c:\\users\\gwm19\\appdata\\local\\programs\\python\\python310\\lib\\site-packages (from jsonschema>=2.6->nbformat->notebook>=4.4.1->widgetsnbextension~=3.6.0->ipywidgets<8.0,>=7.5->dataprep) (0.18.1)\n",
      "Requirement already satisfied: cffi>=1.0.1 in c:\\users\\gwm19\\appdata\\local\\programs\\python\\python310\\lib\\site-packages (from argon2-cffi-bindings->argon2-cffi->notebook>=4.4.1->widgetsnbextension~=3.6.0->ipywidgets<8.0,>=7.5->dataprep) (1.15.1)\n",
      "Requirement already satisfied: soupsieve>1.2 in c:\\users\\gwm19\\appdata\\local\\programs\\python\\python310\\lib\\site-packages (from beautifulsoup4->nbconvert>=5->notebook>=4.4.1->widgetsnbextension~=3.6.0->ipywidgets<8.0,>=7.5->dataprep) (2.3.2.post1)\n",
      "Requirement already satisfied: webencodings in c:\\users\\gwm19\\appdata\\local\\programs\\python\\python310\\lib\\site-packages (from bleach->nbconvert>=5->notebook>=4.4.1->widgetsnbextension~=3.6.0->ipywidgets<8.0,>=7.5->dataprep) (0.5.1)\n",
      "Requirement already satisfied: pycparser in c:\\users\\gwm19\\appdata\\local\\programs\\python\\python310\\lib\\site-packages (from cffi>=1.0.1->argon2-cffi-bindings->argon2-cffi->notebook>=4.4.1->widgetsnbextension~=3.6.0->ipywidgets<8.0,>=7.5->dataprep) (2.21)\n"
     ]
    }
   ],
   "source": [
    "!pip install dataprep"
   ]
  },
  {
   "cell_type": "code",
   "execution_count": 15,
   "metadata": {},
   "outputs": [
    {
     "name": "stdout",
     "output_type": "stream",
     "text": [
      "Requirement already satisfied: imblearn in c:\\users\\gwm19\\appdata\\local\\programs\\python\\python310\\lib\\site-packages (0.0)\n",
      "Requirement already satisfied: imbalanced-learn in c:\\users\\gwm19\\appdata\\local\\programs\\python\\python310\\lib\\site-packages (from imblearn) (0.9.1)\n",
      "Requirement already satisfied: joblib>=1.0.0 in c:\\users\\gwm19\\appdata\\local\\programs\\python\\python310\\lib\\site-packages (from imbalanced-learn->imblearn) (1.2.0)\n",
      "Requirement already satisfied: scikit-learn>=1.1.0 in c:\\users\\gwm19\\appdata\\local\\programs\\python\\python310\\lib\\site-packages (from imbalanced-learn->imblearn) (1.1.2)\n",
      "Requirement already satisfied: threadpoolctl>=2.0.0 in c:\\users\\gwm19\\appdata\\local\\programs\\python\\python310\\lib\\site-packages (from imbalanced-learn->imblearn) (3.1.0)\n",
      "Requirement already satisfied: scipy>=1.3.2 in c:\\users\\gwm19\\appdata\\local\\programs\\python\\python310\\lib\\site-packages (from imbalanced-learn->imblearn) (1.9.3)\n",
      "Requirement already satisfied: numpy>=1.17.3 in c:\\users\\gwm19\\appdata\\local\\programs\\python\\python310\\lib\\site-packages (from imbalanced-learn->imblearn) (1.23.1)\n"
     ]
    }
   ],
   "source": [
    "!pip install imblearn"
   ]
  },
  {
   "cell_type": "code",
   "execution_count": 16,
   "metadata": {},
   "outputs": [
    {
     "name": "stdout",
     "output_type": "stream",
     "text": [
      "Requirement already satisfied: wget in c:\\users\\gwm19\\appdata\\local\\programs\\python\\python310\\lib\\site-packages (3.2)\n"
     ]
    }
   ],
   "source": [
    "!pip install wget"
   ]
  },
  {
   "cell_type": "code",
   "execution_count": 17,
   "metadata": {},
   "outputs": [
    {
     "name": "stdout",
     "output_type": "stream",
     "text": [
      "Requirement already satisfied: seaborn in c:\\users\\gwm19\\appdata\\local\\programs\\python\\python310\\lib\\site-packages (0.12.1)\n",
      "Requirement already satisfied: matplotlib!=3.6.1,>=3.1 in c:\\users\\gwm19\\appdata\\local\\programs\\python\\python310\\lib\\site-packages (from seaborn) (3.6.2)\n",
      "Requirement already satisfied: numpy>=1.17 in c:\\users\\gwm19\\appdata\\local\\programs\\python\\python310\\lib\\site-packages (from seaborn) (1.23.1)\n",
      "Requirement already satisfied: pandas>=0.25 in c:\\users\\gwm19\\appdata\\local\\programs\\python\\python310\\lib\\site-packages (from seaborn) (1.4.3)\n",
      "Requirement already satisfied: pyparsing>=2.2.1 in c:\\users\\gwm19\\appdata\\local\\programs\\python\\python310\\lib\\site-packages (from matplotlib!=3.6.1,>=3.1->seaborn) (3.0.9)\n",
      "Requirement already satisfied: packaging>=20.0 in c:\\users\\gwm19\\appdata\\local\\programs\\python\\python310\\lib\\site-packages (from matplotlib!=3.6.1,>=3.1->seaborn) (21.3)\n",
      "Requirement already satisfied: python-dateutil>=2.7 in c:\\users\\gwm19\\appdata\\local\\programs\\python\\python310\\lib\\site-packages (from matplotlib!=3.6.1,>=3.1->seaborn) (2.8.2)\n",
      "Requirement already satisfied: kiwisolver>=1.0.1 in c:\\users\\gwm19\\appdata\\local\\programs\\python\\python310\\lib\\site-packages (from matplotlib!=3.6.1,>=3.1->seaborn) (1.4.4)\n",
      "Requirement already satisfied: contourpy>=1.0.1 in c:\\users\\gwm19\\appdata\\local\\programs\\python\\python310\\lib\\site-packages (from matplotlib!=3.6.1,>=3.1->seaborn) (1.0.6)\n",
      "Requirement already satisfied: fonttools>=4.22.0 in c:\\users\\gwm19\\appdata\\local\\programs\\python\\python310\\lib\\site-packages (from matplotlib!=3.6.1,>=3.1->seaborn) (4.38.0)\n",
      "Requirement already satisfied: cycler>=0.10 in c:\\users\\gwm19\\appdata\\local\\programs\\python\\python310\\lib\\site-packages (from matplotlib!=3.6.1,>=3.1->seaborn) (0.11.0)\n",
      "Requirement already satisfied: pillow>=6.2.0 in c:\\users\\gwm19\\appdata\\local\\programs\\python\\python310\\lib\\site-packages (from matplotlib!=3.6.1,>=3.1->seaborn) (9.2.0)\n",
      "Requirement already satisfied: pytz>=2020.1 in c:\\users\\gwm19\\appdata\\local\\programs\\python\\python310\\lib\\site-packages (from pandas>=0.25->seaborn) (2022.1)\n",
      "Requirement already satisfied: six>=1.5 in c:\\users\\gwm19\\appdata\\local\\programs\\python\\python310\\lib\\site-packages (from python-dateutil>=2.7->matplotlib!=3.6.1,>=3.1->seaborn) (1.16.0)\n"
     ]
    }
   ],
   "source": [
    "!pip install seaborn"
   ]
  },
  {
   "cell_type": "markdown",
   "metadata": {
    "id": "DNy0i5C5KCm1"
   },
   "source": [
    "# Imports"
   ]
  },
  {
   "cell_type": "code",
   "execution_count": 18,
   "metadata": {
    "id": "u6PGQsmm93yp"
   },
   "outputs": [],
   "source": [
    "# for EDA\n",
    "import wget\n",
    "import pylab\n",
    "import pandas as pd\n",
    "import numpy as np\n",
    "import scipy.stats as stats\n",
    "from scipy.stats import ttest_ind\n",
    "import scipy\n",
    "import scipy.sparse as sparse \n",
    "from scipy.sparse import csr_matrix\n",
    "import scipy.sparse.linalg as sla# needed for dataprep\n",
    "from dataprep.eda import create_report\n",
    "\n",
    "\n",
    "# visualization\n",
    "import seaborn as sns\n",
    "import matplotlib.pyplot as plt\n",
    "import scikitplot as skplt # https://scikit-plot.readthedocs.io/en/stable/Quickstart.htm\n",
    "from IPython.display import display\n",
    "\n",
    "# models\n",
    "from sklearn.linear_model import LogisticRegression\n",
    "from sklearn.tree import DecisionTreeClassifier\n",
    "from sklearn.ensemble import RandomForestClassifier, AdaBoostClassifier\n",
    "from sklearn.neighbors import KNeighborsClassifier\n",
    "from sklearn.discriminant_analysis import LinearDiscriminantAnalysis\n",
    "from sklearn.svm import SVC\n",
    "from sklearn.impute import KNNImputer\n",
    "from xgboost import XGBClassifier\n",
    "from catboost import CatBoostClassifier\n",
    "from sklearn.naive_bayes import ComplementNB\n",
    "\n",
    "# tuning and metrics\n",
    "from sklearn.feature_extraction import DictVectorizer\n",
    "from sklearn.model_selection import KFold\n",
    "from sklearn.model_selection import train_test_split\n",
    "from sklearn.metrics import accuracy_score, classification_report, roc_curve, precision_recall_curve, auc, confusion_matrix, roc_auc_score\n",
    "from imblearn.over_sampling import SMOTE\n",
    "from sklearn.feature_selection import RFECV\n",
    "from sklearn.feature_selection import RFE\n",
    "from sklearn.model_selection import RepeatedStratifiedKFold\n",
    "from sklearn.model_selection import GridSearchCV\n",
    "from sklearn.metrics import mutual_info_score\n",
    "\n",
    "# still need?\n",
    "from sklearn.metrics import mean_squared_error as rmse\n",
    "from sklearn.metrics import f1_score\n",
    "from sklearn.model_selection import cross_val_score\n"
   ]
  },
  {
   "cell_type": "markdown",
   "metadata": {
    "id": "K-q-FEQUD8v9"
   },
   "source": [
    "# Project Deliverables"
   ]
  },
  {
   "cell_type": "markdown",
   "metadata": {
    "id": "PWOn7iWAEEBw"
   },
   "source": [
    "**For a project, you repository/folder should contain the following:**\n",
    "\n",
    "* `README.md` with\n",
    "  * Description of the problem\n",
    "  * Instructions on how to run the project\n",
    "* Data\n",
    "  * You should either commit the dataset you used or have clear instructions how to download the dataset\n",
    "* Notebook (suggested name - `notebook.ipynb`) with\n",
    "  * Data preparation and data clearning\n",
    "  * EDA, feature importance analysis\n",
    "  * Model selection process and parameter tuning\n",
    "* Script train.py (suggested name)\n",
    "  * Training the final model\n",
    "  * Saving it to a file (e.g. pickle) or saving it with specialized software (BentoML)\n",
    "* Script `predict.py` (suggested name)\n",
    "  * Loading the model\n",
    "  * Serving it via a web serice (with Flask or specialized sofware - BentoML, KServe, etc)\n",
    "* Files with dependencies\n",
    "  * `Pipenv` and `Pipenv.lock` if you use Pipenv\n",
    "  * `bentofile.yaml` if you use BentoML\n",
    "  * or equivalents: conda environment file, requirements.txt or pyproject.toml\n",
    "* `Dockerfile` for running the service\n",
    "* Deployment\n",
    "  * URL to the service you deployed or\n",
    "  * Video or image of how you interact with the deployed service\n",
    "\n",
    "\n",
    "\n"
   ]
  },
  {
   "cell_type": "markdown",
   "metadata": {
    "id": "D9DMaKbCB_4U"
   },
   "source": [
    "# Notebook Index"
   ]
  },
  {
   "cell_type": "markdown",
   "metadata": {
    "id": "Vdypk-vPCNct"
   },
   "source": [
    "* [Problem Statement](#problem)\n",
    "* [Data Selection](#data_about)\n",
    "  * [Data Extraction](#extraction)\n",
    "* [Data prep, clean, and EDA](#init_eda)\n",
    "* [Model Baseline](#baseline)\n",
    "* [Tuning](#tuning)\n",
    "  * [Feature Importance](#feat_imp)\n",
    "* [Deployment](#deploy)"
   ]
  },
  {
   "cell_type": "markdown",
   "metadata": {
    "id": "DcHioufvXVVC"
   },
   "source": [
    "<a name=\"problem\"></a>\n",
    "# Why Predicting Stroke Likelihood Matters\n",
    "\n",
    "\n",
    "\n"
   ]
  },
  {
   "cell_type": "markdown",
   "metadata": {
    "id": "tXr-CBnSfIX9"
   },
   "source": [
    "### By the Numbers\n",
    "**Global**\n",
    "\n",
    "Strokes are a global epidemic. They are the second leading cause of death and have increased by 70% between 1990 to 2019, with death from strokes inceasing by 43% ([source](https://www.thelancet.com/journals/laneur/article/PIIS1474-4422(21)00252-0/fulltext)). The WHO estimates the anual cost of strokes to be over US$721 billion ([source](https://pubmed.ncbi.nlm.nih.gov/34986727/#:~:text=Abstract,%25%20of%20the%20global%20GDP)).\n",
    "\n",
    "**United States**\n",
    "\n",
    "While strokes have been declining for decades in the US, it still has a large financial burden, amounting to $53 billion anually ([source](https://www.cdc.gov/stroke/facts.htm)). Currently stroke is the 5th leading cause of death in the US ([source](https://www.cdc.gov/nchs/fastats/leading-causes-of-death.htm))."
   ]
  },
  {
   "cell_type": "markdown",
   "metadata": {
    "id": "8A1AlTVkmEZi"
   },
   "source": [
    "### Optimal Outcomes\n",
    "**Global**\n",
    "\n",
    "Predicting stroke can provide an opportunity to take corrective actions before a stroke occurs. Most importantly, resulting in fewer deaths and disabilities.\n",
    "\n",
    "Addtionally, the money lost to strokes would boost econamies. Assuming cost and stroke occurance are linear, if strokes were reduced by just 5%, that would inject $36 billion into world economies.\n",
    "\n",
    "**United States**\n",
    "\n",
    "And $2.65 billion into the US econamy."
   ]
  },
  {
   "cell_type": "markdown",
   "metadata": {
    "id": "NXarKwO3Xl-S"
   },
   "source": [
    "<a name=\"about_data\"></a>\n",
    "# Stroke Data"
   ]
  },
  {
   "cell_type": "markdown",
   "metadata": {
    "id": "DJjxuNj2bIaz"
   },
   "source": [
    "### An Appropriate Dataset\n",
    "A seach for various stroke datasets that included health factors showed that the [Kaggle dataset](https://www.kaggle.com/datasets/fedesoriano/stroke-prediction-dataset) was best suited. Numerous other stroke datasets are avaialbe but the lacked health factors needed. Datasets were often location based or even post stroke images. Neither are well suited for the the desired task."
   ]
  },
  {
   "cell_type": "markdown",
   "metadata": {
    "id": "vxORJxlFbygp"
   },
   "source": [
    "### Limitations\n",
    "\n",
    "* It is known that there are more factors for stroke prediction (such as [lab tests](https://www.ncbi.nlm.nih.gov/pmc/articles/PMC8686476/), lifestyle, etc.) than are avaialble in this data set.\n",
    "  * However, [the most important factors](https://www.sciencedirect.com/science/article/pii/S2772442522000090) are in the dataset\n",
    "* This data set was uploaded 2 years ago with no expectations of being updated.\n",
    "* The source and accuracy to the data is unkown, a verified healthcare organization would be an ideal source for stroke data."
   ]
  },
  {
   "cell_type": "markdown",
   "metadata": {
    "id": "ZwzwMggpXrPG"
   },
   "source": [
    "# Extract-Load-Transform (ELT)"
   ]
  },
  {
   "cell_type": "markdown",
   "metadata": {
    "id": "qE5RNIrxX-nc"
   },
   "source": [
    "#### The Process"
   ]
  },
  {
   "cell_type": "markdown",
   "metadata": {
    "id": "lbr1XHIzqRzc"
   },
   "source": [
    "\n",
    "**Extract:** Data is extracted from [Kaggle](https://www.kaggle.com/datasets/fedesoriano/stroke-prediction-dataset) to [GitHub](https://github.com/gregorywmorris/MLZoom2022/blob/main/midterm/healthcare-dataset-stroke-data.csvhttps://github.com/gregorywmorris/MLZoom2022/blob/main/midterm/healthcare-dataset-stroke-data.csv)\n",
    "\n",
    "**Load:** Data is loaded to the notebook\n",
    "\n",
    "**Transform:** Data is modified to suit and improve the model"
   ]
  },
  {
   "cell_type": "markdown",
   "metadata": {
    "id": "6MvgqgdsYfy7"
   },
   "source": [
    "<a name=\"extraction\"></a>\n",
    "### Load"
   ]
  },
  {
   "cell_type": "code",
   "execution_count": 19,
   "metadata": {
    "id": "ZSMJkeSqY8JM"
   },
   "outputs": [],
   "source": [
    "data = 'https://raw.githubusercontent.com/gregorywmorris/MLZoom2022/main/midterm/healthcare-dataset-stroke-data.csv'"
   ]
  },
  {
   "cell_type": "code",
   "execution_count": 20,
   "metadata": {
    "colab": {
     "base_uri": "https://localhost:8080/"
    },
    "id": "1OTk6jOQZEl8",
    "outputId": "516c2a5c-dde9-433e-d3b0-6c25c8994cd2"
   },
   "outputs": [
    {
     "name": "stderr",
     "output_type": "stream",
     "text": [
      "'wget' is not recognized as an internal or external command,\n",
      "operable program or batch file.\n"
     ]
    }
   ],
   "source": [
    "!wget $data -O data.csv"
   ]
  },
  {
   "cell_type": "code",
   "execution_count": 21,
   "metadata": {
    "id": "884eCyOkZKTY"
   },
   "outputs": [
    {
     "ename": "FileNotFoundError",
     "evalue": "[Errno 2] No such file or directory: 'data.csv'",
     "output_type": "error",
     "traceback": [
      "\u001b[1;31m---------------------------------------------------------------------------\u001b[0m",
      "\u001b[1;31mFileNotFoundError\u001b[0m                         Traceback (most recent call last)",
      "Cell \u001b[1;32mIn [21], line 1\u001b[0m\n\u001b[1;32m----> 1\u001b[0m df \u001b[38;5;241m=\u001b[39m \u001b[43mpd\u001b[49m\u001b[38;5;241;43m.\u001b[39;49m\u001b[43mread_csv\u001b[49m\u001b[43m(\u001b[49m\u001b[38;5;124;43m'\u001b[39;49m\u001b[38;5;124;43mdata.csv\u001b[39;49m\u001b[38;5;124;43m'\u001b[39;49m\u001b[43m)\u001b[49m\n",
      "File \u001b[1;32m~\\AppData\\Local\\Programs\\Python\\Python310\\lib\\site-packages\\pandas\\util\\_decorators.py:311\u001b[0m, in \u001b[0;36mdeprecate_nonkeyword_arguments.<locals>.decorate.<locals>.wrapper\u001b[1;34m(*args, **kwargs)\u001b[0m\n\u001b[0;32m    305\u001b[0m \u001b[38;5;28;01mif\u001b[39;00m \u001b[38;5;28mlen\u001b[39m(args) \u001b[38;5;241m>\u001b[39m num_allow_args:\n\u001b[0;32m    306\u001b[0m     warnings\u001b[38;5;241m.\u001b[39mwarn(\n\u001b[0;32m    307\u001b[0m         msg\u001b[38;5;241m.\u001b[39mformat(arguments\u001b[38;5;241m=\u001b[39marguments),\n\u001b[0;32m    308\u001b[0m         \u001b[38;5;167;01mFutureWarning\u001b[39;00m,\n\u001b[0;32m    309\u001b[0m         stacklevel\u001b[38;5;241m=\u001b[39mstacklevel,\n\u001b[0;32m    310\u001b[0m     )\n\u001b[1;32m--> 311\u001b[0m \u001b[38;5;28;01mreturn\u001b[39;00m func(\u001b[38;5;241m*\u001b[39margs, \u001b[38;5;241m*\u001b[39m\u001b[38;5;241m*\u001b[39mkwargs)\n",
      "File \u001b[1;32m~\\AppData\\Local\\Programs\\Python\\Python310\\lib\\site-packages\\pandas\\io\\parsers\\readers.py:680\u001b[0m, in \u001b[0;36mread_csv\u001b[1;34m(filepath_or_buffer, sep, delimiter, header, names, index_col, usecols, squeeze, prefix, mangle_dupe_cols, dtype, engine, converters, true_values, false_values, skipinitialspace, skiprows, skipfooter, nrows, na_values, keep_default_na, na_filter, verbose, skip_blank_lines, parse_dates, infer_datetime_format, keep_date_col, date_parser, dayfirst, cache_dates, iterator, chunksize, compression, thousands, decimal, lineterminator, quotechar, quoting, doublequote, escapechar, comment, encoding, encoding_errors, dialect, error_bad_lines, warn_bad_lines, on_bad_lines, delim_whitespace, low_memory, memory_map, float_precision, storage_options)\u001b[0m\n\u001b[0;32m    665\u001b[0m kwds_defaults \u001b[38;5;241m=\u001b[39m _refine_defaults_read(\n\u001b[0;32m    666\u001b[0m     dialect,\n\u001b[0;32m    667\u001b[0m     delimiter,\n\u001b[1;32m   (...)\u001b[0m\n\u001b[0;32m    676\u001b[0m     defaults\u001b[38;5;241m=\u001b[39m{\u001b[38;5;124m\"\u001b[39m\u001b[38;5;124mdelimiter\u001b[39m\u001b[38;5;124m\"\u001b[39m: \u001b[38;5;124m\"\u001b[39m\u001b[38;5;124m,\u001b[39m\u001b[38;5;124m\"\u001b[39m},\n\u001b[0;32m    677\u001b[0m )\n\u001b[0;32m    678\u001b[0m kwds\u001b[38;5;241m.\u001b[39mupdate(kwds_defaults)\n\u001b[1;32m--> 680\u001b[0m \u001b[38;5;28;01mreturn\u001b[39;00m \u001b[43m_read\u001b[49m\u001b[43m(\u001b[49m\u001b[43mfilepath_or_buffer\u001b[49m\u001b[43m,\u001b[49m\u001b[43m \u001b[49m\u001b[43mkwds\u001b[49m\u001b[43m)\u001b[49m\n",
      "File \u001b[1;32m~\\AppData\\Local\\Programs\\Python\\Python310\\lib\\site-packages\\pandas\\io\\parsers\\readers.py:575\u001b[0m, in \u001b[0;36m_read\u001b[1;34m(filepath_or_buffer, kwds)\u001b[0m\n\u001b[0;32m    572\u001b[0m _validate_names(kwds\u001b[38;5;241m.\u001b[39mget(\u001b[38;5;124m\"\u001b[39m\u001b[38;5;124mnames\u001b[39m\u001b[38;5;124m\"\u001b[39m, \u001b[38;5;28;01mNone\u001b[39;00m))\n\u001b[0;32m    574\u001b[0m \u001b[38;5;66;03m# Create the parser.\u001b[39;00m\n\u001b[1;32m--> 575\u001b[0m parser \u001b[38;5;241m=\u001b[39m TextFileReader(filepath_or_buffer, \u001b[38;5;241m*\u001b[39m\u001b[38;5;241m*\u001b[39mkwds)\n\u001b[0;32m    577\u001b[0m \u001b[38;5;28;01mif\u001b[39;00m chunksize \u001b[38;5;129;01mor\u001b[39;00m iterator:\n\u001b[0;32m    578\u001b[0m     \u001b[38;5;28;01mreturn\u001b[39;00m parser\n",
      "File \u001b[1;32m~\\AppData\\Local\\Programs\\Python\\Python310\\lib\\site-packages\\pandas\\io\\parsers\\readers.py:934\u001b[0m, in \u001b[0;36mTextFileReader.__init__\u001b[1;34m(self, f, engine, **kwds)\u001b[0m\n\u001b[0;32m    931\u001b[0m     \u001b[38;5;28mself\u001b[39m\u001b[38;5;241m.\u001b[39moptions[\u001b[38;5;124m\"\u001b[39m\u001b[38;5;124mhas_index_names\u001b[39m\u001b[38;5;124m\"\u001b[39m] \u001b[38;5;241m=\u001b[39m kwds[\u001b[38;5;124m\"\u001b[39m\u001b[38;5;124mhas_index_names\u001b[39m\u001b[38;5;124m\"\u001b[39m]\n\u001b[0;32m    933\u001b[0m \u001b[38;5;28mself\u001b[39m\u001b[38;5;241m.\u001b[39mhandles: IOHandles \u001b[38;5;241m|\u001b[39m \u001b[38;5;28;01mNone\u001b[39;00m \u001b[38;5;241m=\u001b[39m \u001b[38;5;28;01mNone\u001b[39;00m\n\u001b[1;32m--> 934\u001b[0m \u001b[38;5;28mself\u001b[39m\u001b[38;5;241m.\u001b[39m_engine \u001b[38;5;241m=\u001b[39m \u001b[38;5;28;43mself\u001b[39;49m\u001b[38;5;241;43m.\u001b[39;49m\u001b[43m_make_engine\u001b[49m\u001b[43m(\u001b[49m\u001b[43mf\u001b[49m\u001b[43m,\u001b[49m\u001b[43m \u001b[49m\u001b[38;5;28;43mself\u001b[39;49m\u001b[38;5;241;43m.\u001b[39;49m\u001b[43mengine\u001b[49m\u001b[43m)\u001b[49m\n",
      "File \u001b[1;32m~\\AppData\\Local\\Programs\\Python\\Python310\\lib\\site-packages\\pandas\\io\\parsers\\readers.py:1218\u001b[0m, in \u001b[0;36mTextFileReader._make_engine\u001b[1;34m(self, f, engine)\u001b[0m\n\u001b[0;32m   1214\u001b[0m     mode \u001b[38;5;241m=\u001b[39m \u001b[38;5;124m\"\u001b[39m\u001b[38;5;124mrb\u001b[39m\u001b[38;5;124m\"\u001b[39m\n\u001b[0;32m   1215\u001b[0m \u001b[38;5;66;03m# error: No overload variant of \"get_handle\" matches argument types\u001b[39;00m\n\u001b[0;32m   1216\u001b[0m \u001b[38;5;66;03m# \"Union[str, PathLike[str], ReadCsvBuffer[bytes], ReadCsvBuffer[str]]\"\u001b[39;00m\n\u001b[0;32m   1217\u001b[0m \u001b[38;5;66;03m# , \"str\", \"bool\", \"Any\", \"Any\", \"Any\", \"Any\", \"Any\"\u001b[39;00m\n\u001b[1;32m-> 1218\u001b[0m \u001b[38;5;28mself\u001b[39m\u001b[38;5;241m.\u001b[39mhandles \u001b[38;5;241m=\u001b[39m \u001b[43mget_handle\u001b[49m\u001b[43m(\u001b[49m\u001b[43m  \u001b[49m\u001b[38;5;66;43;03m# type: ignore[call-overload]\u001b[39;49;00m\n\u001b[0;32m   1219\u001b[0m \u001b[43m    \u001b[49m\u001b[43mf\u001b[49m\u001b[43m,\u001b[49m\n\u001b[0;32m   1220\u001b[0m \u001b[43m    \u001b[49m\u001b[43mmode\u001b[49m\u001b[43m,\u001b[49m\n\u001b[0;32m   1221\u001b[0m \u001b[43m    \u001b[49m\u001b[43mencoding\u001b[49m\u001b[38;5;241;43m=\u001b[39;49m\u001b[38;5;28;43mself\u001b[39;49m\u001b[38;5;241;43m.\u001b[39;49m\u001b[43moptions\u001b[49m\u001b[38;5;241;43m.\u001b[39;49m\u001b[43mget\u001b[49m\u001b[43m(\u001b[49m\u001b[38;5;124;43m\"\u001b[39;49m\u001b[38;5;124;43mencoding\u001b[39;49m\u001b[38;5;124;43m\"\u001b[39;49m\u001b[43m,\u001b[49m\u001b[43m \u001b[49m\u001b[38;5;28;43;01mNone\u001b[39;49;00m\u001b[43m)\u001b[49m\u001b[43m,\u001b[49m\n\u001b[0;32m   1222\u001b[0m \u001b[43m    \u001b[49m\u001b[43mcompression\u001b[49m\u001b[38;5;241;43m=\u001b[39;49m\u001b[38;5;28;43mself\u001b[39;49m\u001b[38;5;241;43m.\u001b[39;49m\u001b[43moptions\u001b[49m\u001b[38;5;241;43m.\u001b[39;49m\u001b[43mget\u001b[49m\u001b[43m(\u001b[49m\u001b[38;5;124;43m\"\u001b[39;49m\u001b[38;5;124;43mcompression\u001b[39;49m\u001b[38;5;124;43m\"\u001b[39;49m\u001b[43m,\u001b[49m\u001b[43m \u001b[49m\u001b[38;5;28;43;01mNone\u001b[39;49;00m\u001b[43m)\u001b[49m\u001b[43m,\u001b[49m\n\u001b[0;32m   1223\u001b[0m \u001b[43m    \u001b[49m\u001b[43mmemory_map\u001b[49m\u001b[38;5;241;43m=\u001b[39;49m\u001b[38;5;28;43mself\u001b[39;49m\u001b[38;5;241;43m.\u001b[39;49m\u001b[43moptions\u001b[49m\u001b[38;5;241;43m.\u001b[39;49m\u001b[43mget\u001b[49m\u001b[43m(\u001b[49m\u001b[38;5;124;43m\"\u001b[39;49m\u001b[38;5;124;43mmemory_map\u001b[39;49m\u001b[38;5;124;43m\"\u001b[39;49m\u001b[43m,\u001b[49m\u001b[43m \u001b[49m\u001b[38;5;28;43;01mFalse\u001b[39;49;00m\u001b[43m)\u001b[49m\u001b[43m,\u001b[49m\n\u001b[0;32m   1224\u001b[0m \u001b[43m    \u001b[49m\u001b[43mis_text\u001b[49m\u001b[38;5;241;43m=\u001b[39;49m\u001b[43mis_text\u001b[49m\u001b[43m,\u001b[49m\n\u001b[0;32m   1225\u001b[0m \u001b[43m    \u001b[49m\u001b[43merrors\u001b[49m\u001b[38;5;241;43m=\u001b[39;49m\u001b[38;5;28;43mself\u001b[39;49m\u001b[38;5;241;43m.\u001b[39;49m\u001b[43moptions\u001b[49m\u001b[38;5;241;43m.\u001b[39;49m\u001b[43mget\u001b[49m\u001b[43m(\u001b[49m\u001b[38;5;124;43m\"\u001b[39;49m\u001b[38;5;124;43mencoding_errors\u001b[39;49m\u001b[38;5;124;43m\"\u001b[39;49m\u001b[43m,\u001b[49m\u001b[43m \u001b[49m\u001b[38;5;124;43m\"\u001b[39;49m\u001b[38;5;124;43mstrict\u001b[39;49m\u001b[38;5;124;43m\"\u001b[39;49m\u001b[43m)\u001b[49m\u001b[43m,\u001b[49m\n\u001b[0;32m   1226\u001b[0m \u001b[43m    \u001b[49m\u001b[43mstorage_options\u001b[49m\u001b[38;5;241;43m=\u001b[39;49m\u001b[38;5;28;43mself\u001b[39;49m\u001b[38;5;241;43m.\u001b[39;49m\u001b[43moptions\u001b[49m\u001b[38;5;241;43m.\u001b[39;49m\u001b[43mget\u001b[49m\u001b[43m(\u001b[49m\u001b[38;5;124;43m\"\u001b[39;49m\u001b[38;5;124;43mstorage_options\u001b[39;49m\u001b[38;5;124;43m\"\u001b[39;49m\u001b[43m,\u001b[49m\u001b[43m \u001b[49m\u001b[38;5;28;43;01mNone\u001b[39;49;00m\u001b[43m)\u001b[49m\u001b[43m,\u001b[49m\n\u001b[0;32m   1227\u001b[0m \u001b[43m\u001b[49m\u001b[43m)\u001b[49m\n\u001b[0;32m   1228\u001b[0m \u001b[38;5;28;01massert\u001b[39;00m \u001b[38;5;28mself\u001b[39m\u001b[38;5;241m.\u001b[39mhandles \u001b[38;5;129;01mis\u001b[39;00m \u001b[38;5;129;01mnot\u001b[39;00m \u001b[38;5;28;01mNone\u001b[39;00m\n\u001b[0;32m   1229\u001b[0m f \u001b[38;5;241m=\u001b[39m \u001b[38;5;28mself\u001b[39m\u001b[38;5;241m.\u001b[39mhandles\u001b[38;5;241m.\u001b[39mhandle\n",
      "File \u001b[1;32m~\\AppData\\Local\\Programs\\Python\\Python310\\lib\\site-packages\\pandas\\io\\common.py:786\u001b[0m, in \u001b[0;36mget_handle\u001b[1;34m(path_or_buf, mode, encoding, compression, memory_map, is_text, errors, storage_options)\u001b[0m\n\u001b[0;32m    781\u001b[0m \u001b[38;5;28;01melif\u001b[39;00m \u001b[38;5;28misinstance\u001b[39m(handle, \u001b[38;5;28mstr\u001b[39m):\n\u001b[0;32m    782\u001b[0m     \u001b[38;5;66;03m# Check whether the filename is to be opened in binary mode.\u001b[39;00m\n\u001b[0;32m    783\u001b[0m     \u001b[38;5;66;03m# Binary mode does not support 'encoding' and 'newline'.\u001b[39;00m\n\u001b[0;32m    784\u001b[0m     \u001b[38;5;28;01mif\u001b[39;00m ioargs\u001b[38;5;241m.\u001b[39mencoding \u001b[38;5;129;01mand\u001b[39;00m \u001b[38;5;124m\"\u001b[39m\u001b[38;5;124mb\u001b[39m\u001b[38;5;124m\"\u001b[39m \u001b[38;5;129;01mnot\u001b[39;00m \u001b[38;5;129;01min\u001b[39;00m ioargs\u001b[38;5;241m.\u001b[39mmode:\n\u001b[0;32m    785\u001b[0m         \u001b[38;5;66;03m# Encoding\u001b[39;00m\n\u001b[1;32m--> 786\u001b[0m         handle \u001b[38;5;241m=\u001b[39m \u001b[38;5;28;43mopen\u001b[39;49m\u001b[43m(\u001b[49m\n\u001b[0;32m    787\u001b[0m \u001b[43m            \u001b[49m\u001b[43mhandle\u001b[49m\u001b[43m,\u001b[49m\n\u001b[0;32m    788\u001b[0m \u001b[43m            \u001b[49m\u001b[43mioargs\u001b[49m\u001b[38;5;241;43m.\u001b[39;49m\u001b[43mmode\u001b[49m\u001b[43m,\u001b[49m\n\u001b[0;32m    789\u001b[0m \u001b[43m            \u001b[49m\u001b[43mencoding\u001b[49m\u001b[38;5;241;43m=\u001b[39;49m\u001b[43mioargs\u001b[49m\u001b[38;5;241;43m.\u001b[39;49m\u001b[43mencoding\u001b[49m\u001b[43m,\u001b[49m\n\u001b[0;32m    790\u001b[0m \u001b[43m            \u001b[49m\u001b[43merrors\u001b[49m\u001b[38;5;241;43m=\u001b[39;49m\u001b[43merrors\u001b[49m\u001b[43m,\u001b[49m\n\u001b[0;32m    791\u001b[0m \u001b[43m            \u001b[49m\u001b[43mnewline\u001b[49m\u001b[38;5;241;43m=\u001b[39;49m\u001b[38;5;124;43m\"\u001b[39;49m\u001b[38;5;124;43m\"\u001b[39;49m\u001b[43m,\u001b[49m\n\u001b[0;32m    792\u001b[0m \u001b[43m        \u001b[49m\u001b[43m)\u001b[49m\n\u001b[0;32m    793\u001b[0m     \u001b[38;5;28;01melse\u001b[39;00m:\n\u001b[0;32m    794\u001b[0m         \u001b[38;5;66;03m# Binary mode\u001b[39;00m\n\u001b[0;32m    795\u001b[0m         handle \u001b[38;5;241m=\u001b[39m \u001b[38;5;28mopen\u001b[39m(handle, ioargs\u001b[38;5;241m.\u001b[39mmode)\n",
      "\u001b[1;31mFileNotFoundError\u001b[0m: [Errno 2] No such file or directory: 'data.csv'"
     ]
    }
   ],
   "source": [
    "df = pd.read_csv('data.csv')"
   ]
  },
  {
   "cell_type": "markdown",
   "metadata": {
    "id": "ihO7bhHoaiDq"
   },
   "source": [
    "<a name=\"init_eda\"></a>\n",
    "### Transform - Exploritory Data Analysis (EDA)"
   ]
  },
  {
   "cell_type": "markdown",
   "metadata": {
    "id": "QAmDQTeDUvAH"
   },
   "source": [
    "##### [Dataprep](https://docs.dataprep.ai/user_guide/clean/introduction.html)"
   ]
  },
  {
   "cell_type": "code",
   "execution_count": null,
   "metadata": {
    "colab": {
     "base_uri": "https://localhost:8080/",
     "height": 1000
    },
    "id": "VxNqtDP9UmwI",
    "outputId": "bea986bb-5d01-4f12-bf5b-48d42d9441a3"
   },
   "outputs": [],
   "source": [
    "create_report(df)"
   ]
  },
  {
   "cell_type": "markdown",
   "metadata": {
    "id": "L9yDulrTdxv3"
   },
   "source": [
    "**Report Summary:**\n",
    "* bmi has 201 missing values\n",
    "* No zero values (except where binary)\n",
    "* Feature distributions are skewed\n",
    "* Mix of numerical and catigorical features\n",
    "* Low feature correlation"
   ]
  },
  {
   "cell_type": "markdown",
   "metadata": {
    "id": "hmwysGLp9Xf0"
   },
   "source": [
    "##### **Overview**"
   ]
  },
  {
   "cell_type": "code",
   "execution_count": null,
   "metadata": {
    "colab": {
     "base_uri": "https://localhost:8080/",
     "height": 143
    },
    "id": "1mN-KQww0AyG",
    "outputId": "44c9db9d-0fb7-4eb0-f0eb-61b32d5211de"
   },
   "outputs": [],
   "source": [
    "df.head(3)"
   ]
  },
  {
   "cell_type": "code",
   "execution_count": null,
   "metadata": {
    "cellView": "form",
    "id": "3oftCWYI0csg"
   },
   "outputs": [],
   "source": [
    "#@title Drop column 'id'\n",
    "df = df.drop(columns='id')"
   ]
  },
  {
   "cell_type": "code",
   "execution_count": null,
   "metadata": {
    "cellView": "form",
    "id": "TaskSQ7rEhts"
   },
   "outputs": [],
   "source": [
    "#@title Column names are need to be normalized to all lower case\n",
    "col = df.columns.tolist() # list with new column names all lower case\n",
    "df = df.rename(str.lower, axis='columns')"
   ]
  },
  {
   "cell_type": "code",
   "execution_count": null,
   "metadata": {
    "cellView": "form",
    "colab": {
     "base_uri": "https://localhost:8080/"
    },
    "id": "J1IYCx6A1Xb6",
    "outputId": "76bcd659-798a-47fd-f20a-07d8e81abdef"
   },
   "outputs": [],
   "source": [
    "#@title data Overview\n",
    "df.info()"
   ]
  },
  {
   "cell_type": "code",
   "execution_count": null,
   "metadata": {
    "cellView": "form",
    "colab": {
     "base_uri": "https://localhost:8080/",
     "height": 300
    },
    "id": "PpdznRFdkKVl",
    "outputId": "e5238428-3af2-4356-bc3d-5962c284952e"
   },
   "outputs": [],
   "source": [
    "#@title statistical overview, look for outliers or oddities\n",
    "df.describe()"
   ]
  },
  {
   "cell_type": "markdown",
   "metadata": {
    "id": "44xJFB2U1YUI"
   },
   "source": [
    "Min age of 0.08, expected whole integers."
   ]
  },
  {
   "cell_type": "code",
   "execution_count": null,
   "metadata": {
    "cellView": "form",
    "colab": {
     "base_uri": "https://localhost:8080/",
     "height": 297
    },
    "id": "wbj2gr3R6r-6",
    "outputId": "f9fc56a8-ab87-4449-adac-63cfc5c47389"
   },
   "outputs": [],
   "source": [
    "#@title No outliers in age\n",
    "sns.boxplot(x=df.age)"
   ]
  },
  {
   "cell_type": "code",
   "execution_count": null,
   "metadata": {
    "cellView": "form",
    "colab": {
     "base_uri": "https://localhost:8080/"
    },
    "id": "6Y5SVKZq1THj",
    "outputId": "946511d4-9e7f-4348-bd8e-ff9b669d254b"
   },
   "outputs": [],
   "source": [
    "#@title Distribution of all features are all highly possitivley skewed except for age which is slightly negatively skewed.\n",
    "df.skew(numeric_only=True) # numeric_only=True else error"
   ]
  },
  {
   "cell_type": "code",
   "execution_count": null,
   "metadata": {
    "cellView": "form",
    "colab": {
     "base_uri": "https://localhost:8080/",
     "height": 298
    },
    "id": "hyT0z2T1Y5Ul",
    "outputId": "def38364-6971-4395-ad67-7426783b9e16"
   },
   "outputs": [],
   "source": [
    "#@title Outliers noted in df.avg_glucose_level\n",
    "sns.boxplot(x=df.avg_glucose_level)"
   ]
  },
  {
   "cell_type": "code",
   "execution_count": null,
   "metadata": {
    "colab": {
     "base_uri": "https://localhost:8080/"
    },
    "id": "8-QMdr_q5EWn",
    "outputId": "c4688595-b1ae-4aa8-bf38-c9e7c7eb7ea1"
   },
   "outputs": [],
   "source": [
    "df.avg_glucose_level.max()"
   ]
  },
  {
   "cell_type": "code",
   "execution_count": null,
   "metadata": {
    "cellView": "form",
    "colab": {
     "base_uri": "https://localhost:8080/",
     "height": 297
    },
    "id": "bl-3qRdh7KgC",
    "outputId": "d31f5e1c-3633-4ccd-c8fa-c30896c2a331"
   },
   "outputs": [],
   "source": [
    "#@title Outliers noted in df.bmi\n",
    "sns.boxplot(x=df.bmi)"
   ]
  },
  {
   "cell_type": "code",
   "execution_count": null,
   "metadata": {
    "colab": {
     "base_uri": "https://localhost:8080/"
    },
    "id": "RY2qA7ZqyKz5",
    "outputId": "9576eea8-564c-4f32-fe64-69c0bb3d3ddb"
   },
   "outputs": [],
   "source": [
    "df.bmi.max()"
   ]
  },
  {
   "cell_type": "markdown",
   "metadata": {
    "id": "--ca6mrDfId7"
   },
   "source": [
    "##### **Label Value - df.stroke**"
   ]
  },
  {
   "cell_type": "markdown",
   "metadata": {
    "id": "TxiuI7_efO9z"
   },
   "source": [
    "The target value to be predicted is df.stroke. This a a binary feature with 1 to indicate possitive for stroke and 0 to indicate not possitive for stroke."
   ]
  },
  {
   "cell_type": "code",
   "execution_count": null,
   "metadata": {
    "colab": {
     "base_uri": "https://localhost:8080/"
    },
    "id": "eA79LB_tflS8",
    "outputId": "1f1b9bf0-55e6-46c0-ed9f-ae1203e3587b"
   },
   "outputs": [],
   "source": [
    "df.stroke.value_counts()"
   ]
  },
  {
   "cell_type": "markdown",
   "metadata": {
    "id": "RoA3IQGH7rlO"
   },
   "source": [
    "High imbalance with a low value count for the possitive prediction. "
   ]
  },
  {
   "cell_type": "markdown",
   "metadata": {
    "id": "QOhA6upLs0RL"
   },
   "source": [
    "The label data is imbalanced, this is consistent with expectations as more people don't have stroke than do. Further consideration should be done on the negative affect this may have on the models. [Possible solutions](https://www.analyticsvidhya.com/blog/2020/07/10-techniques-to-deal-with-class-imbalance-in-machine-learning/)."
   ]
  },
  {
   "cell_type": "code",
   "execution_count": null,
   "metadata": {
    "cellView": "form",
    "colab": {
     "base_uri": "https://localhost:8080/"
    },
    "id": "nj4uqtpMKqj0",
    "outputId": "5f0965e8-fc54-4fb7-e59d-ba931044cf86"
   },
   "outputs": [],
   "source": [
    "#@title Population Stroke Rate\n",
    "stroke_rate = df.stroke.mean()\n",
    "round(stroke_rate,2)"
   ]
  },
  {
   "cell_type": "markdown",
   "metadata": {
    "id": "T87sQrsM3DfX"
   },
   "source": [
    "Exact data on stroke prevelance is not avaible but some estimations can be made. From this [report](https://n.neurology.org/content/97/20_Supplement_2/S6) we know that the annual incident for stroke is ~3% in the US. Globally it varies by country economic status, with lower countries often having higher rates (see fig 2 in link). From that we can assume the 5% seen here is roughly representative of the real world stroke incident. Though potentially a little low as some of higher countries (such as China) have very large populations."
   ]
  },
  {
   "cell_type": "markdown",
   "metadata": {
    "id": "ueRY7cO1RbaL"
   },
   "source": [
    "##### **df.age**"
   ]
  },
  {
   "cell_type": "code",
   "execution_count": null,
   "metadata": {
    "colab": {
     "base_uri": "https://localhost:8080/",
     "height": 283
    },
    "id": "VwVPdh9URewj",
    "outputId": "c2d83caa-e266-4984-e470-97e527b70360"
   },
   "outputs": [],
   "source": [
    "df.age.plot.hist(bins=50)"
   ]
  },
  {
   "cell_type": "code",
   "execution_count": null,
   "metadata": {
    "colab": {
     "base_uri": "https://localhost:8080/"
    },
    "id": "rvNTumrwUOXr",
    "outputId": "aad7d3fa-ac97-41de-ee62-5a3d758bd538"
   },
   "outputs": [],
   "source": [
    "df.age.value_counts()"
   ]
  },
  {
   "cell_type": "markdown",
   "metadata": {
    "id": "avPOMZm8VnCn"
   },
   "source": [
    "Clarification on age [here](https://www.kaggle.com/datasets/fedesoriano/stroke-prediction-dataset/discussion/223242?search=age), decimal places represent days. "
   ]
  },
  {
   "cell_type": "markdown",
   "metadata": {
    "id": "o6m8bDDU3dMn"
   },
   "source": [
    "##### **df.bmi**"
   ]
  },
  {
   "cell_type": "markdown",
   "metadata": {
    "id": "fIp_LOlE8VBF"
   },
   "source": [
    "###### **Missing values**\n",
    "[Missing Value Guide](https://www.analyticsvidhya.com/blog/2021/10/handling-missing-value/)\n",
    "Fill missing values based on groups of either possitive for stroke or not. Suspect possible difference in grouping."
   ]
  },
  {
   "cell_type": "code",
   "execution_count": null,
   "metadata": {
    "colab": {
     "base_uri": "https://localhost:8080/"
    },
    "id": "nX2n-uudPKlw",
    "outputId": "505bdf4b-ea90-416f-c4b9-4d9e01c12c95"
   },
   "outputs": [],
   "source": [
    "stroke_bmi_0, stroke_bmi_1 =df.groupby('stroke')['bmi'].mean()\n",
    "stroke_bmi_0, stroke_bmi_1 # 0 not a stroke and 1 is a stroke"
   ]
  },
  {
   "cell_type": "code",
   "execution_count": null,
   "metadata": {
    "colab": {
     "base_uri": "https://localhost:8080/"
    },
    "id": "3Yk9pUbrJl7E",
    "outputId": "238f00ad-a02b-41bc-9aa3-e698cb0a7a0d"
   },
   "outputs": [],
   "source": [
    "round((stroke_bmi_1-stroke_bmi_0)/stroke_bmi_1,2)"
   ]
  },
  {
   "cell_type": "markdown",
   "metadata": {
    "id": "Nov9bXxsJXN2"
   },
   "source": [
    "Slight variance of 5% in bmi mean, note dtype is float64"
   ]
  },
  {
   "cell_type": "markdown",
   "metadata": {
    "id": "rR9BHMzj3OwM"
   },
   "source": [
    "Review the distribution of bmi as a total and by stroke value"
   ]
  },
  {
   "cell_type": "code",
   "execution_count": null,
   "metadata": {
    "colab": {
     "base_uri": "https://localhost:8080/",
     "height": 350
    },
    "id": "FXdlrygJ9--b",
    "outputId": "ff3dc735-ca8f-43c8-d74c-884c2879f9d7"
   },
   "outputs": [],
   "source": [
    "stats.probplot(df.bmi,fit=True, plot=pylab )"
   ]
  },
  {
   "cell_type": "markdown",
   "metadata": {
    "id": "vg1k0AhJ_eft"
   },
   "source": [
    "The probability plot shows that the bmi distribution is not normal. Next step is to see if the distribution can be transformed to a normal distribuion for a p-value analysis."
   ]
  },
  {
   "cell_type": "markdown",
   "metadata": {
    "id": "p2yX0c2_BT2i"
   },
   "source": [
    "**Normalize df.bmi Distribution**\n",
    "\n",
    "Distribution can be normalized well enough to calculate a p-value."
   ]
  },
  {
   "cell_type": "markdown",
   "metadata": {
    "id": "RUzwdToLHeKU"
   },
   "source": [
    "[Normalization techniques](https://www.analyticsvidhya.com/blog/2021/05/how-to-transform-features-into-normal-gaussian-distribution/)"
   ]
  },
  {
   "cell_type": "code",
   "execution_count": null,
   "metadata": {
    "id": "Ok6d8x8r_BYT"
   },
   "outputs": [],
   "source": [
    "def normality(data,feature):\n",
    "    plt.figure(figsize=(10,5))\n",
    "    plt.subplot(1,2,1)\n",
    "    sns.kdeplot(data[feature])\n",
    "    plt.subplot(1,2,2)\n",
    "    stats.probplot(data[feature],plot=pylab)\n",
    "    plt.show()"
   ]
  },
  {
   "cell_type": "code",
   "execution_count": null,
   "metadata": {
    "id": "3uvQSdigdjE7"
   },
   "outputs": [],
   "source": [
    "df_cp = df.copy() #must reimport data if this is ran after changes are made."
   ]
  },
  {
   "cell_type": "code",
   "execution_count": null,
   "metadata": {
    "colab": {
     "base_uri": "https://localhost:8080/",
     "height": 368
    },
    "id": "neu-_rrd-nlu",
    "outputId": "610ad946-514b-4ba6-8f8f-f4d4f7ccd5c3"
   },
   "outputs": [],
   "source": [
    "#performing logarithmic transformation on the feature\n",
    "df_bmi = df_cp.copy()\n",
    "df_bmi.bmi=np.log(df.bmi)\n",
    "normality(df_bmi,'bmi')\n",
    "df_bmi.bmi.skew()"
   ]
  },
  {
   "cell_type": "code",
   "execution_count": null,
   "metadata": {
    "colab": {
     "base_uri": "https://localhost:8080/",
     "height": 368
    },
    "id": "4tdBUnc6AKTE",
    "outputId": "e8298e84-2ecc-430b-87ee-a40c967b0a94"
   },
   "outputs": [],
   "source": [
    "#Reciprocal Transformation\n",
    "df_bmi = df_cp.copy()\n",
    "df_bmi.bmi=1/df_bmi.bmi\n",
    "normality(df_bmi,'bmi')\n",
    "df_bmi.bmi.skew()"
   ]
  },
  {
   "cell_type": "code",
   "execution_count": null,
   "metadata": {
    "colab": {
     "base_uri": "https://localhost:8080/",
     "height": 368
    },
    "id": "UxqWZ8erAbtl",
    "outputId": "58e377ef-582b-44f9-e5b8-976a0ab00d37"
   },
   "outputs": [],
   "source": [
    "#Square Root Transformation\n",
    "df_bmi = df_cp.copy()\n",
    "df_bmi.bmi=np.sqrt(df_bmi.bmi)\n",
    "normality(df_bmi,'bmi')\n",
    "df_bmi.bmi.skew()"
   ]
  },
  {
   "cell_type": "code",
   "execution_count": null,
   "metadata": {
    "colab": {
     "base_uri": "https://localhost:8080/",
     "height": 368
    },
    "id": "0uALJfzvAv0U",
    "outputId": "f89fd44e-88a7-42ec-eb7b-da8937ae38dd"
   },
   "outputs": [],
   "source": [
    "#Exponential Transformation\n",
    "df_bmi = df_cp.copy()\n",
    "df_bmi.bmi=df.bmi**(1/1.2)\n",
    "normality(df_bmi, 'bmi')\n",
    "df_bmi.bmi.skew()"
   ]
  },
  {
   "cell_type": "code",
   "execution_count": null,
   "metadata": {
    "colab": {
     "base_uri": "https://localhost:8080/",
     "height": 368
    },
    "id": "vWbrAAx_BE8t",
    "outputId": "29941f59-4167-4116-d9dc-77637a3aaf52"
   },
   "outputs": [],
   "source": [
    "#Box-Cox Transformation\n",
    "df_bmi = df_cp.copy()\n",
    "df_bmi.bmi,parameters=stats.boxcox(df_bmi.bmi)\n",
    "normality(df_bmi,'bmi')\n",
    "df_bmi.bmi.skew()"
   ]
  },
  {
   "cell_type": "markdown",
   "metadata": {
    "id": "TEMrEyF8Bgp-"
   },
   "source": [
    "**p-value**\n",
    "The two sample test shows that the difference in the bmi distributions are NOT statistiacally signifigant. Replacing the missing values with the overall mean is justified."
   ]
  },
  {
   "cell_type": "code",
   "execution_count": null,
   "metadata": {
    "colab": {
     "base_uri": "https://localhost:8080/",
     "height": 368
    },
    "id": "GNX_THuHBkeU",
    "outputId": "2cb431de-1258-460e-c310-c6c91212ba7a"
   },
   "outputs": [],
   "source": [
    "df_bmi = df.copy()\n",
    "df_bmi.bmi=np.log(df.bmi)\n",
    "normality(df_bmi,'bmi')\n",
    "df_bmi.bmi.skew()"
   ]
  },
  {
   "cell_type": "markdown",
   "metadata": {
    "id": "i8MJD49ZIsyy"
   },
   "source": [
    "The distribution is very close to normal, only off by 0.001"
   ]
  },
  {
   "cell_type": "code",
   "execution_count": null,
   "metadata": {
    "colab": {
     "base_uri": "https://localhost:8080/",
     "height": 339
    },
    "id": "k1U0Azbb_85c",
    "outputId": "4d02bb93-eb79-48f8-f43d-096e68c03685"
   },
   "outputs": [],
   "source": [
    "df_bmi.groupby('stroke')['bmi'].hist(bins=100, alpha=0.5)"
   ]
  },
  {
   "cell_type": "code",
   "execution_count": null,
   "metadata": {
    "id": "V0GXsWMfIXXF"
   },
   "outputs": [],
   "source": [
    "bmi_stroke_0, bmi_stroke_1 =df_bmi.groupby('stroke')['bmi']"
   ]
  },
  {
   "cell_type": "code",
   "execution_count": null,
   "metadata": {
    "colab": {
     "base_uri": "https://localhost:8080/"
    },
    "id": "H-V2QNpcRj99",
    "outputId": "464790e4-3952-47d2-f841-7087b6a35f46"
   },
   "outputs": [],
   "source": [
    "# one sample\n",
    "stats.ttest_1samp(a=bmi_stroke_1[1],popmean=bmi_stroke_0[0], nan_policy='omit')"
   ]
  },
  {
   "cell_type": "markdown",
   "metadata": {
    "id": "H2BTxMgGn1-J"
   },
   "source": [
    "The  one sample test shows that the difference in the bmi distributions are **NOT** statistiacally signifigant. Replacing the missing values with the overall median is justified. I chose median due the current outliers affecting the mean."
   ]
  },
  {
   "cell_type": "markdown",
   "metadata": {
    "id": "a92GPsYJ3jss"
   },
   "source": [
    "**Fill Missing Values**"
   ]
  },
  {
   "cell_type": "code",
   "execution_count": null,
   "metadata": {
    "id": "Fo8vX4BgQ5zD"
   },
   "outputs": [],
   "source": [
    "df.bmi = df.bmi.fillna(df.bmi.median())"
   ]
  },
  {
   "cell_type": "markdown",
   "metadata": {
    "id": "BXtzsR9V-wkk"
   },
   "source": [
    "###### **Manage Outliers**\n",
    "\n",
    "[Outliers Guide](https://www.analyticsvidhya.com/blog/2021/05/detecting-and-treating-outliers-treating-the-odd-one-out/) "
   ]
  },
  {
   "cell_type": "code",
   "execution_count": null,
   "metadata": {
    "colab": {
     "base_uri": "https://localhost:8080/"
    },
    "id": "Ii4yf7TD-1Ln",
    "outputId": "e7e1f603-58e4-4248-c58f-5ac06c813dfa"
   },
   "outputs": [],
   "source": [
    "df.bmi.value_counts(bins=15).sort_values()"
   ]
  },
  {
   "cell_type": "markdown",
   "metadata": {
    "id": "f4oFKYlu6-Gn"
   },
   "source": [
    "Some outliers represent natural variations in the population, and they should be left as is in your dataset. These are called true outliers. Other outliers are problematic and should be removed because they represent measurement errors, data entry or processing errors, or poor sampling.\n",
    "\n",
    "Without a height metric, these outliers are assumed to be natural variants in the population. After getting a baseline from the models we can explore managing the outliers.\n",
    "\n",
    "[BMI](https://www.cancer.org/healthy/cancer-causes/diet-physical-activity/body-weight-and-cancer-risk/adult-bmi.html)"
   ]
  },
  {
   "cell_type": "markdown",
   "metadata": {
    "id": "A-18R7ZU2grG"
   },
   "source": [
    "###### **Obese Feature**\n",
    "\n",
    "However, we do [know](https://www.cancer.org/healthy/cancer-causes/diet-physical-activity/body-weight-and-cancer-risk/adult-bmi.html) that people with a bmi of 30 or greater qualify as obese."
   ]
  },
  {
   "cell_type": "code",
   "execution_count": null,
   "metadata": {
    "id": "7vGhGv-W0hPm"
   },
   "outputs": [],
   "source": [
    "df['obese'] = df['bmi'] >=30"
   ]
  },
  {
   "cell_type": "code",
   "execution_count": null,
   "metadata": {
    "colab": {
     "base_uri": "https://localhost:8080/",
     "height": 112
    },
    "id": "d27bb7ky0x-e",
    "outputId": "9e44cca3-a62d-4071-811d-a905f773fbf3"
   },
   "outputs": [],
   "source": [
    "df.head(2)"
   ]
  },
  {
   "cell_type": "code",
   "execution_count": null,
   "metadata": {
    "colab": {
     "base_uri": "https://localhost:8080/"
    },
    "id": "B4bJ2JFW1AL2",
    "outputId": "95e8fac6-7e87-4719-da8a-907bc14f294f"
   },
   "outputs": [],
   "source": [
    "df['obese'] = df['obese'].astype(int)\n",
    "df['obese'].value_counts()"
   ]
  },
  {
   "cell_type": "markdown",
   "metadata": {
    "id": "FDnKNFDyePlL"
   },
   "source": [
    "##### **df.avg_glucose_level**"
   ]
  },
  {
   "cell_type": "markdown",
   "metadata": {
    "id": "pdCGHh6mzO5h"
   },
   "source": [
    "###### **P-value avg_glucose_level**"
   ]
  },
  {
   "cell_type": "markdown",
   "metadata": {
    "id": "18NO3YQSegf8"
   },
   "source": [
    "Reseach shows that Categorizing to above and below a bloodsugar limit may improve predictions.\n",
    "\n",
    " [Cleavland Clinic](https://my.clevelandclinic.org/health/diseases/9812-diabetes-and-stroke#:~:text=Your%20body%20can't%20make,Extra%20body%20weight.), [AHA Journal](https://www.ahajournals.org/doi/full/10.1161/01.str.0000115297.92132.84), [stroke.org.uk](https://www.stroke.org.uk/what-is-stroke/are-you-at-risk-of-stroke/diabetes), [Stroke.org - Diabetes](https://www.stroke.org/en/about-stroke/stroke-risk-factors/diabetes-and-stroke-prevention). "
   ]
  },
  {
   "cell_type": "code",
   "execution_count": null,
   "metadata": {
    "colab": {
     "base_uri": "https://localhost:8080/"
    },
    "id": "mGzG9n9PeVps",
    "outputId": "1fd77c91-daac-4e7f-c224-e7cfc04dfd8b"
   },
   "outputs": [],
   "source": [
    "stroke_glucose_0, stroke_glucose_1 =df.groupby('stroke')['avg_glucose_level'].mean()\n",
    "stroke_glucose_0, stroke_glucose_1 # 0 not a stroke and 1 is a stroke"
   ]
  },
  {
   "cell_type": "code",
   "execution_count": null,
   "metadata": {
    "colab": {
     "base_uri": "https://localhost:8080/"
    },
    "id": "su4Hku9tetbR",
    "outputId": "2828df6e-a56b-4ae9-d082-4bc9ca757793"
   },
   "outputs": [],
   "source": [
    "round((stroke_glucose_1-stroke_glucose_0)/stroke_glucose_1,2)"
   ]
  },
  {
   "cell_type": "markdown",
   "metadata": {
    "id": "lwPqiUaTfQcV"
   },
   "source": [
    "A small variance in the mean of avg_glucose_level of 18%."
   ]
  },
  {
   "cell_type": "code",
   "execution_count": null,
   "metadata": {
    "colab": {
     "base_uri": "https://localhost:8080/"
    },
    "id": "hbL0yUrMhHna",
    "outputId": "55f33d4c-213e-4043-ede4-281968c1efe6"
   },
   "outputs": [],
   "source": [
    "# stroke negative\n",
    "stroke_gluc_0, stroke_gluc_1 =df.groupby('stroke')['avg_glucose_level']\n",
    "stroke_gluc_0[1].describe()"
   ]
  },
  {
   "cell_type": "code",
   "execution_count": null,
   "metadata": {
    "colab": {
     "base_uri": "https://localhost:8080/"
    },
    "id": "KHjwJBlQr9jx",
    "outputId": "d2b935c0-bdf5-4edf-ae66-98a9479604d1"
   },
   "outputs": [],
   "source": [
    "# stroke possitive\n",
    "stroke_gluc_1[1].describe()"
   ]
  },
  {
   "cell_type": "markdown",
   "metadata": {
    "id": "mZNRAqYDzJVn"
   },
   "source": [
    "###### **Normallize avg_glucose_level**"
   ]
  },
  {
   "cell_type": "code",
   "execution_count": null,
   "metadata": {
    "colab": {
     "base_uri": "https://localhost:8080/",
     "height": 369
    },
    "id": "lY9dN6uYg0ix",
    "outputId": "68c00e90-86a7-4d53-fdc2-fb624d2c133e"
   },
   "outputs": [],
   "source": [
    "stats.probplot(df.avg_glucose_level,fit=True, plot=pylab )"
   ]
  },
  {
   "cell_type": "code",
   "execution_count": null,
   "metadata": {
    "colab": {
     "base_uri": "https://localhost:8080/",
     "height": 369
    },
    "id": "fuN0azp8y2zQ",
    "outputId": "a33ae1dd-d455-42cd-ecb3-6308e36f7787"
   },
   "outputs": [],
   "source": [
    "#performing logarithmic transformation on the feature\n",
    "df2 = df.copy()\n",
    "df2.avg_glucose_level=np.log(df.avg_glucose_level)\n",
    "normality(df2,'avg_glucose_level')\n",
    "df2.avg_glucose_level.skew()"
   ]
  },
  {
   "cell_type": "code",
   "execution_count": null,
   "metadata": {
    "colab": {
     "base_uri": "https://localhost:8080/",
     "height": 369
    },
    "id": "6zuKs2tzzXfk",
    "outputId": "aa937e7c-99c7-480c-f8c1-ebe8fca47ea3"
   },
   "outputs": [],
   "source": [
    "#Reciprocal Transformation\n",
    "df2 = df_cp.copy()\n",
    "df2.avg_glucose_level=1/df2.avg_glucose_level\n",
    "normality(df2,'avg_glucose_level')\n",
    "df2.avg_glucose_level.skew()"
   ]
  },
  {
   "cell_type": "code",
   "execution_count": null,
   "metadata": {
    "colab": {
     "base_uri": "https://localhost:8080/",
     "height": 369
    },
    "id": "p1IcyRv3zjoi",
    "outputId": "05b78672-f547-4c79-c86c-fd82228b0866"
   },
   "outputs": [],
   "source": [
    "#Square Root Transformation\n",
    "df2 = df_cp.copy()\n",
    "df2.avg_glucose_level=np.sqrt(df2.avg_glucose_level)\n",
    "normality(df2,'avg_glucose_level')\n",
    "df2.avg_glucose_level.skew()"
   ]
  },
  {
   "cell_type": "code",
   "execution_count": null,
   "metadata": {
    "colab": {
     "base_uri": "https://localhost:8080/",
     "height": 369
    },
    "id": "AHRxKZ0NzwIh",
    "outputId": "a20833cf-ce24-4a26-fe5b-1a10dae6984a"
   },
   "outputs": [],
   "source": [
    "#Exponential Transformation\n",
    "df2 = df_cp.copy()\n",
    "df2.avg_glucose_level=df.avg_glucose_level**(1/1.2)\n",
    "normality(df2, 'avg_glucose_level')\n",
    "df2.avg_glucose_level.skew()"
   ]
  },
  {
   "cell_type": "code",
   "execution_count": null,
   "metadata": {
    "colab": {
     "base_uri": "https://localhost:8080/",
     "height": 369
    },
    "id": "MmgsldWcz6wx",
    "outputId": "1714d74a-26da-4e23-a621-53461bbb27b5"
   },
   "outputs": [],
   "source": [
    "#Box-Cox Transformation\n",
    "df2 = df_cp.copy()\n",
    "df2.avg_glucose_level,parameters=stats.boxcox(df2.avg_glucose_level)\n",
    "normality(df2,'avg_glucose_level')\n",
    "df2.avg_glucose_level.skew()"
   ]
  },
  {
   "cell_type": "markdown",
   "metadata": {
    "id": "vjxhCJKj0Bk0"
   },
   "source": [
    "###### **Final Decision**"
   ]
  },
  {
   "cell_type": "markdown",
   "metadata": {
    "id": "5Z33WTrV0I0q"
   },
   "source": [
    "* Unable to normalize the distribution avg_glucose_level\n",
    "* Unable to get reliable p-value due to distribution\n",
    "\n",
    "Despite research indicating a clear delineation with high blood sugar and stroke, I am not able to confirm that with the current understanding of the relationship from this data. No justification for categorizing avg_glucose_level based on reported glucose ranges should be done without further external reseach or more data."
   ]
  },
  {
   "cell_type": "markdown",
   "metadata": {
    "id": "ieVD_xcmDt8W"
   },
   "source": [
    "###### **Outliers avg_glucose_level**"
   ]
  },
  {
   "cell_type": "code",
   "execution_count": null,
   "metadata": {
    "colab": {
     "base_uri": "https://localhost:8080/"
    },
    "id": "5jWyiDQU4VMZ",
    "outputId": "5eaa40fc-03b6-4a31-9700-e095db90d4be"
   },
   "outputs": [],
   "source": [
    "df['avg_glucose_level'].max()"
   ]
  },
  {
   "cell_type": "code",
   "execution_count": null,
   "metadata": {
    "colab": {
     "base_uri": "https://localhost:8080/"
    },
    "id": "GjDY7L-h4fZw",
    "outputId": "c76f765e-4521-4280-bb59-48752f9d5892"
   },
   "outputs": [],
   "source": [
    "df['avg_glucose_level'].min()"
   ]
  },
  {
   "cell_type": "code",
   "execution_count": null,
   "metadata": {
    "colab": {
     "base_uri": "https://localhost:8080/"
    },
    "id": "aHv4HOSHUOVg",
    "outputId": "e247905d-6d01-45a9-e0bc-e23b3786221a"
   },
   "outputs": [],
   "source": [
    "df.avg_glucose_level.value_counts(bins=15).sort_values()"
   ]
  },
  {
   "cell_type": "markdown",
   "metadata": {
    "id": "WCav68Iz4dn4"
   },
   "source": [
    "Some outliers represent natural variations in the population, and they should be left as is in your dataset. These are called true outliers. Other outliers are problematic and should be removed because they represent measurement errors, data entry or processing errors, or poor sampling.\n",
    "\n",
    "**Average glucose(a.k.a. blood sugar) level is measured though an A1C or HbA1c test.**\n",
    "\n",
    "For a normal person blood sugar can get up to 140 per the [American Diabetes Association](https://diabetesjournals.org/care/article/24/4/775/23438/Postprandial-Blood-Glucose), but diabetes is diagnosed when **AVERAGE** blood sugar is 140 or higher. However, people with Diabetes can get much higher than on this data set. Without a diabetes diagnosis it is not possible to determine if the outliers are inaccurate data. However, it is possible to interpet those above 140 as clearly having diabetes.\n",
    "\n",
    "Note, being below 140 does NOT signify someone does not have diabetes. They may simply be well controlled. Most type one diabetics aim for an average blood sugar of 140, while type two aim to be below that level.\n",
    "\n",
    "After getting a baseline from the models we can explore managing the outliers."
   ]
  },
  {
   "cell_type": "markdown",
   "metadata": {
    "id": "FO9_KDiB4TLP"
   },
   "source": [
    "###### **Clearly Diabetes**"
   ]
  },
  {
   "cell_type": "code",
   "execution_count": null,
   "metadata": {
    "id": "2IjNY4x-yA37"
   },
   "outputs": [],
   "source": [
    "df['clearly_diabetes'] = df['avg_glucose_level'] >= 140"
   ]
  },
  {
   "cell_type": "code",
   "execution_count": null,
   "metadata": {
    "colab": {
     "base_uri": "https://localhost:8080/",
     "height": 143
    },
    "id": "T59WW47_3oOG",
    "outputId": "09fcf2b0-e288-4326-c114-279d5d772519"
   },
   "outputs": [],
   "source": [
    "df.head(3)"
   ]
  },
  {
   "cell_type": "code",
   "execution_count": null,
   "metadata": {
    "colab": {
     "base_uri": "https://localhost:8080/"
    },
    "id": "vYJgwHno6x_p",
    "outputId": "ccebf131-f209-4eb1-e5df-cd6106bb5428"
   },
   "outputs": [],
   "source": [
    "df['clearly_diabetes'].replace({False: 0, True: 1}, inplace=True)\n",
    "df['clearly_diabetes'].value_counts()"
   ]
  },
  {
   "cell_type": "markdown",
   "metadata": {
    "id": "dRW60FaG8SlJ"
   },
   "source": [
    "##### **df.gender**"
   ]
  },
  {
   "cell_type": "code",
   "execution_count": null,
   "metadata": {
    "colab": {
     "base_uri": "https://localhost:8080/"
    },
    "id": "FeVXWNOT5Llm",
    "outputId": "87d32795-3dba-4ebc-8627-7e2df4497d6e"
   },
   "outputs": [],
   "source": [
    "df.gender.value_counts()"
   ]
  },
  {
   "cell_type": "markdown",
   "metadata": {
    "id": "hGoM3BRi8eo8"
   },
   "source": [
    "While sexual orientation is not binary, gender is considered binary. Being only one row, the best solution is to add it to the smaller data set. Resoning that the world population is nearly evenly split and the male population is under represented in this data set."
   ]
  },
  {
   "cell_type": "code",
   "execution_count": null,
   "metadata": {
    "colab": {
     "base_uri": "https://localhost:8080/"
    },
    "id": "vHXkoOQ6Iaet",
    "outputId": "c0779457-fc66-47d7-8ad4-a27aec0c1880"
   },
   "outputs": [],
   "source": [
    "df.replace('Other','Male',inplace=True)\n",
    "df.gender.value_counts()"
   ]
  },
  {
   "cell_type": "markdown",
   "metadata": {
    "id": "SjG7nktkwd2f"
   },
   "source": [
    "##### **df.ever_married**"
   ]
  },
  {
   "cell_type": "code",
   "execution_count": null,
   "metadata": {
    "colab": {
     "base_uri": "https://localhost:8080/"
    },
    "id": "aR_iXAWFzf4d",
    "outputId": "6b74ad7a-ce03-4b0b-cb2e-8adb82535dfb"
   },
   "outputs": [],
   "source": [
    "df.ever_married.value_counts()"
   ]
  },
  {
   "cell_type": "code",
   "execution_count": null,
   "metadata": {
    "colab": {
     "base_uri": "https://localhost:8080/"
    },
    "id": "ReO5mQ4zwl-v",
    "outputId": "ef3d71e8-788e-4cbf-8283-b4f8ef59130f"
   },
   "outputs": [],
   "source": [
    "# convert Yes and No to 1 and 0.\n",
    "df.ever_married = (df.ever_married == 'Yes').astype(int)\n",
    "df.ever_married.value_counts()"
   ]
  },
  {
   "cell_type": "markdown",
   "metadata": {
    "id": "mX5voEdubYoT"
   },
   "source": [
    "##### **Multi-categories** pd.dummies for further anlysis"
   ]
  },
  {
   "cell_type": "code",
   "execution_count": null,
   "metadata": {
    "id": "FS6NZ1tS-5NH"
   },
   "outputs": [],
   "source": [
    "df_dummies = df.copy()"
   ]
  },
  {
   "cell_type": "code",
   "execution_count": null,
   "metadata": {
    "cellView": "form",
    "colab": {
     "base_uri": "https://localhost:8080/"
    },
    "id": "NYzzw5s5I_YV",
    "outputId": "dc0cec16-925f-45a7-893b-3eb10c4e730a"
   },
   "outputs": [],
   "source": [
    "#@title df_dummies.gender\n",
    "dummies = pd.get_dummies(df_dummies.gender)\n",
    "df_dummies = pd.concat([df_dummies, dummies],axis='columns')\n",
    "del df_dummies['gender']\n",
    "df_dummies.columns"
   ]
  },
  {
   "cell_type": "markdown",
   "metadata": {
    "id": "Nw2p_AOeCc6r"
   },
   "source": [
    "###### **df_dummies.work_type**"
   ]
  },
  {
   "cell_type": "code",
   "execution_count": null,
   "metadata": {
    "colab": {
     "base_uri": "https://localhost:8080/"
    },
    "id": "Z1F0u3Vr2BbV",
    "outputId": "8be98fee-5cd5-452f-8a46-8a93b4afc5b2"
   },
   "outputs": [],
   "source": [
    "df_dummies.work_type.value_counts()"
   ]
  },
  {
   "cell_type": "code",
   "execution_count": null,
   "metadata": {
    "colab": {
     "base_uri": "https://localhost:8080/"
    },
    "id": "qtoq9gBSCkqh",
    "outputId": "3a131a9d-c6c3-4251-b430-ce61440b1c3e"
   },
   "outputs": [],
   "source": [
    "dummies = pd.get_dummies(df_dummies.work_type)\n",
    "df_dummies = pd.concat([df_dummies, dummies],axis='columns')\n",
    "del df_dummies['work_type']\n",
    "df_dummies.columns"
   ]
  },
  {
   "cell_type": "markdown",
   "metadata": {
    "id": "9lVZ5FWiEUHT"
   },
   "source": [
    "###### **df_dummies.smoking_status**"
   ]
  },
  {
   "cell_type": "code",
   "execution_count": null,
   "metadata": {
    "colab": {
     "base_uri": "https://localhost:8080/"
    },
    "id": "xU0ZdChu2Shu",
    "outputId": "0c329cdb-c576-4057-bea4-59d2c1fac1d4"
   },
   "outputs": [],
   "source": [
    "df_dummies.smoking_status.value_counts()"
   ]
  },
  {
   "cell_type": "code",
   "execution_count": null,
   "metadata": {
    "colab": {
     "base_uri": "https://localhost:8080/"
    },
    "id": "CndGWBgYEoSz",
    "outputId": "5ccc85b8-9345-4c0d-c2d7-e2cd72d89c4c"
   },
   "outputs": [],
   "source": [
    "dummies = pd.get_dummies(df_dummies.smoking_status)\n",
    "df_dummies = pd.concat([df_dummies, dummies],axis='columns')\n",
    "del df_dummies['smoking_status']\n",
    "df_dummies.columns"
   ]
  },
  {
   "cell_type": "markdown",
   "metadata": {
    "id": "j8UwQXKuynfa"
   },
   "source": [
    "###### **df.residence_type**"
   ]
  },
  {
   "cell_type": "code",
   "execution_count": null,
   "metadata": {
    "colab": {
     "base_uri": "https://localhost:8080/"
    },
    "id": "7Pvb9f2Jytd-",
    "outputId": "49846b1b-e92d-42ca-8ec9-b7f8015b2156"
   },
   "outputs": [],
   "source": [
    "df.residence_type.value_counts()"
   ]
  },
  {
   "cell_type": "code",
   "execution_count": null,
   "metadata": {
    "colab": {
     "base_uri": "https://localhost:8080/"
    },
    "id": "zjb4D76PzVse",
    "outputId": "aea3e648-cc0f-4437-c164-bfa5b188ccfe"
   },
   "outputs": [],
   "source": [
    "dummies = pd.get_dummies(df_dummies.residence_type)\n",
    "df_dummies = pd.concat([df_dummies, dummies],axis='columns')\n",
    "del df_dummies['residence_type']\n",
    "df_dummies.columns"
   ]
  },
  {
   "cell_type": "markdown",
   "metadata": {
    "id": "Rro2nOOPQUmz"
   },
   "source": [
    "##### **Final Feature Overview**"
   ]
  },
  {
   "cell_type": "markdown",
   "metadata": {
    "id": "hRhYaJNMdw6m"
   },
   "source": [
    "###### df_dummies"
   ]
  },
  {
   "cell_type": "code",
   "execution_count": null,
   "metadata": {
    "id": "at24Hr5-C-Vd"
   },
   "outputs": [],
   "source": [
    "# convert new column names to lower\n",
    "col = df_dummies.columns.tolist()\n",
    "df_dummies = df_dummies.rename(str.lower, axis='columns')\n",
    "col = df_dummies.columns.tolist() # list with new column names all lower case\n"
   ]
  },
  {
   "cell_type": "code",
   "execution_count": null,
   "metadata": {
    "colab": {
     "base_uri": "https://localhost:8080/"
    },
    "id": "duZ7XdjEv8fR",
    "outputId": "a2897220-435a-4c61-c00a-8cc702378d00"
   },
   "outputs": [],
   "source": [
    "# confirm column names and dtypes\n",
    "df_dummies.dtypes"
   ]
  },
  {
   "cell_type": "markdown",
   "metadata": {
    "id": "L630uNgFD1SW"
   },
   "source": [
    "Dummy columns may lose context once separated. Renaming columns would make the data more readable. Addionally the name word spacing should use '_' rather than ' ' or '-'."
   ]
  },
  {
   "cell_type": "code",
   "execution_count": null,
   "metadata": {
    "id": "aTLbeXqACsSO"
   },
   "outputs": [],
   "source": [
    "df_dummies = df_dummies.rename(columns={'other': 'other_gender','formerly smoked':'formerly_smoked','never smoked':'never_smoked',\n",
    "                                        'unknown':'unknown_smoking','children': 'is_a_child','private': 'employed',\n",
    "                                        'self-employed':'self_employed' })"
   ]
  },
  {
   "cell_type": "code",
   "execution_count": null,
   "metadata": {
    "colab": {
     "base_uri": "https://localhost:8080/"
    },
    "id": "BdyQzHNYE-6u",
    "outputId": "c23212a0-4904-41d7-afe4-597fe33bb4fd"
   },
   "outputs": [],
   "source": [
    "# Confirm changes\n",
    "df_dummies.dtypes"
   ]
  },
  {
   "cell_type": "code",
   "execution_count": null,
   "metadata": {
    "cellView": "form",
    "colab": {
     "base_uri": "https://localhost:8080/",
     "height": 692
    },
    "id": "IOZPoiAxZN1y",
    "outputId": "d3a6bebb-0d37-4c9b-e72f-e9d8d99afabc"
   },
   "outputs": [],
   "source": [
    "#@title Review of inter-feature correlation, consider action for highly correlated features.\n",
    "plt.subplots(figsize=(15,10))\n",
    "\n",
    "mask = np.triu(np.ones_like(df_dummies.corr())) # triangle mask to hide duplicates\n",
    "\n",
    "sns.heatmap(df_dummies.corr(),cmap=\"YlGnBu\", annot=True, mask=mask)"
   ]
  },
  {
   "cell_type": "markdown",
   "metadata": {
    "id": "fzUXWGIULn7l"
   },
   "source": [
    "None of the **independant** features have a high (0.75+) correlation that may skew models. All feature have a low (< 0.50) to moderate (0.50 >< 0.75) correlation. \n",
    "\n",
    "Note: High correlation is acceptable for dependant features. The clearly_diabetes and obese columns are our only depenant columns."
   ]
  },
  {
   "cell_type": "code",
   "execution_count": null,
   "metadata": {
    "cellView": "form",
    "colab": {
     "base_uri": "https://localhost:8080/"
    },
    "id": "4BJwxV2gYimm",
    "outputId": "eb30f056-cc04-48b3-993d-d7c611187f26"
   },
   "outputs": [],
   "source": [
    "#@title Data Skew\n",
    "df_dummies.skew().sort_values(ascending=False)"
   ]
  },
  {
   "cell_type": "markdown",
   "metadata": {
    "id": "tS8CGuMjbQpl"
   },
   "source": [
    "Much of the data is far from a Gaussian (normal) distribution. This may negatively affect model performance and is likely due to the sampling of data made avaiable on Kaggle. Consider [QuantileTransformer](https://scikit-learn.org/stable/modules/generated/sklearn.preprocessing.QuantileTransformer.html#sklearn.preprocessing.QuantileTransformer) and [PowerTransformer](https://scikit-learn.org/stable/modules/generated/sklearn.preprocessing.PowerTransformer.html#sklearn.preprocessing.PowerTransformer)."
   ]
  },
  {
   "cell_type": "markdown",
   "metadata": {
    "id": "cfeBd0Hfri4a"
   },
   "source": [
    "<a name=\"baseline\"></a>\n",
    "# Modeling"
   ]
  },
  {
   "cell_type": "markdown",
   "metadata": {
    "id": "jKF-0sXIsiTR"
   },
   "source": [
    "The modeling proccess is to first test possable viable models, then select the best models, and create a baseline to compare the tuning process against. "
   ]
  },
  {
   "cell_type": "markdown",
   "metadata": {
    "id": "Y267t4TiEQCX"
   },
   "source": [
    "**Linear Regression** is a poor choice for clasification output problems and better suited for continuous output problems. While the label is binary the model could provide values outside of that range."
   ]
  },
  {
   "cell_type": "markdown",
   "metadata": {
    "id": "WWDlkCiQe1V6"
   },
   "source": [
    "Researching ML models and the general concesses from ML engineers show the following models best for our label which is a binary classifier (stroke 1 or 0). There are numerous articles and research papers but this [article](https://towardsdatascience.com/pros-and-cons-of-various-classification-ml-algorithms-3b5bfb3c87d6) and this [article](https://towardsdatascience.com/top-10-binary-classification-algorithms-a-beginners-guide-feeacbd7a3e2) sum up the reasoning."
   ]
  },
  {
   "cell_type": "markdown",
   "metadata": {
    "id": "Tw2XclhVwTEq"
   },
   "source": [
    "### Data Prep"
   ]
  },
  {
   "cell_type": "code",
   "execution_count": null,
   "metadata": {
    "cellView": "form",
    "id": "00y5hYJV1EV_"
   },
   "outputs": [],
   "source": [
    "#@title Split: df_train / df_test\n",
    "\n",
    "df_train, df_test = train_test_split(df, test_size=0.2, random_state=1)\n",
    "\n",
    "df_train = df_train.reset_index(drop=True)\n",
    "df_test = df_test.reset_index(drop=True)\n",
    "\n",
    "\n",
    "y_train = df_train.stroke.values\n",
    "y_test = df_test.stroke.values\n",
    "\n",
    "del df_train['stroke']\n",
    "del df_test['stroke']"
   ]
  },
  {
   "cell_type": "code",
   "execution_count": null,
   "metadata": {
    "colab": {
     "base_uri": "https://localhost:8080/"
    },
    "id": "SUkdKbIuf2rB",
    "outputId": "b0ab4b81-2aa7-494e-85ed-f4b5776fc355"
   },
   "outputs": [],
   "source": [
    "df_train.shape"
   ]
  },
  {
   "cell_type": "code",
   "execution_count": null,
   "metadata": {
    "colab": {
     "base_uri": "https://localhost:8080/"
    },
    "id": "r0G63IHMf70a",
    "outputId": "2a3c67c2-0df4-4f89-ddf0-1c23e639aad5"
   },
   "outputs": [],
   "source": [
    "len(y_train)"
   ]
  },
  {
   "cell_type": "code",
   "execution_count": null,
   "metadata": {
    "cellView": "form",
    "id": "-3mpA7-DzmDL"
   },
   "outputs": [],
   "source": [
    "#@title x_train\n",
    "train_dict = df_train.to_dict(orient='records')\n",
    "\n",
    "dv = DictVectorizer(sparse=False)\n",
    "x_train = dv.fit_transform(train_dict)\n"
   ]
  },
  {
   "cell_type": "code",
   "execution_count": null,
   "metadata": {
    "cellView": "form",
    "id": "lXS0qieSz2__"
   },
   "outputs": [],
   "source": [
    "#@title x_test\n",
    "test_dict = df_test.to_dict(orient='records')\n",
    "x_test = dv.transform(test_dict)"
   ]
  },
  {
   "cell_type": "code",
   "execution_count": null,
   "metadata": {
    "cellView": "form",
    "id": "WvoGUrlZK0Zn"
   },
   "outputs": [],
   "source": [
    "#@title def training_smote(x,y) - to address the stroke imbalance\n",
    "\n",
    "# ONLY APPLY SMOTE TO TRAIN!\n",
    "def training_smote(x,y):\n",
    "    smt = SMOTE(random_state=1)\n",
    "    x_train, y_train = smt.fit_resample(x, y)\n",
    "    return x_train, y_train"
   ]
  },
  {
   "cell_type": "code",
   "execution_count": null,
   "metadata": {
    "cellView": "form",
    "id": "G8LCQNdtteYl"
   },
   "outputs": [],
   "source": [
    "#@title def model_run(models)\n",
    "def model_run(models):\n",
    "  models_score = []\n",
    "  for name, model in models:\n",
    "      model = model\n",
    "      model.fit(x_train, y_train)\n",
    "      model.predict(x_test)\n",
    "      models_score.append([name, accuracy_score(y_test, model.predict(x_test))])\n",
    "      \n",
    "      print(\" \")\n",
    "      print(\"Model: \",name)\n",
    "      print('Testing Accuracy: ', accuracy_score(y_test, model.predict(x_test)))\n",
    "      print('Training Accuracy: ', accuracy_score(y_train, model.predict(x_train)))\n",
    "      print(\" \")\n",
    "      \n",
    "      plt.figure()\n",
    "      cf_matrix = confusion_matrix(y_test, model.predict(x_test))\n",
    "      plt.title('Confusion Matrix: {}'.format(name))\n",
    "      sns.heatmap(cf_matrix, annot = True, fmt = 'g', cmap = sns.cubehelix_palette(as_cmap=True))\n",
    "      plt.show()\n",
    "      \n",
    "      print(\" \")\n",
    "\n",
    "      skplt.metrics.plot_roc(y_test, model.predict_proba(x_test))\n",
    "      plt.title('ROC Curves: {}'.format(name))\n",
    "      plt.show()"
   ]
  },
  {
   "cell_type": "code",
   "execution_count": null,
   "metadata": {
    "id": "oce6H8Fl03ig"
   },
   "outputs": [],
   "source": [
    "x_train, y_train = training_smote(x_train, y_train)"
   ]
  },
  {
   "cell_type": "markdown",
   "metadata": {
    "id": "A-jrmHkLuXMZ"
   },
   "source": [
    "### Model Comparison"
   ]
  },
  {
   "cell_type": "code",
   "execution_count": null,
   "metadata": {
    "cellView": "form",
    "id": "_NOB-C5lwY_S"
   },
   "outputs": [],
   "source": [
    "#@title Model Selection\n",
    "models = [('Logistic Regression', LogisticRegression(max_iter=1000,random_state=1)), # max_iter=1000 due to error\n",
    "          ('Decision Tree Classifier', DecisionTreeClassifier(random_state=1)),\n",
    "          ('Random Forest', RandomForestClassifier(random_state=1)),\n",
    "          ('Linear Discriminant Analyzer', LinearDiscriminantAnalysis()),\n",
    "          ('Ada Boost', AdaBoostClassifier(random_state=1)),\n",
    "          ('KNN', KNeighborsClassifier()),\n",
    "          ('Support Vector Machine', SVC(probability = True)),\n",
    "          ('XG Boost', XGBClassifier(random_state=1)),\n",
    "          ('Cat Boost', CatBoostClassifier(logging_level = 'Silent')),\n",
    "          ('Naive Bayes', ComplementNB())]"
   ]
  },
  {
   "cell_type": "code",
   "execution_count": null,
   "metadata": {
    "cellView": "form",
    "colab": {
     "base_uri": "https://localhost:8080/",
     "height": 0
    },
    "id": "RjYtJelEwlz8",
    "outputId": "a24956d8-5aa2-4ea1-8518-0906f897881f"
   },
   "outputs": [],
   "source": [
    "#@title Run all models\n",
    "model_run(models)"
   ]
  },
  {
   "cell_type": "markdown",
   "metadata": {
    "id": "rAKtAKiWbp8V"
   },
   "source": [
    "Regarding [convergence error](https://stackoverflow.com/questions/62658215/convergencewarning-lbfgs-failed-to-converge-status-1-stop-total-no-of-iter)"
   ]
  },
  {
   "cell_type": "markdown",
   "metadata": {
    "id": "_3aXt813JvuU"
   },
   "source": [
    "### Best Performing Models"
   ]
  },
  {
   "cell_type": "markdown",
   "metadata": {
    "id": "MRq0XxMnJ7Ms"
   },
   "source": [
    "**While the score may not be the highest, these models were the best at predicting a stroke. The trade off is lower non-stroke accuracy. In the case of healthcare, we would rather capture non-stroke than miss actual strokes.**"
   ]
  },
  {
   "cell_type": "code",
   "execution_count": null,
   "metadata": {
    "cellView": "form",
    "id": "jXi71xwlkH12"
   },
   "outputs": [],
   "source": [
    "#@title Selected Models\n",
    "selected_models = [('Logistic Regression', LogisticRegression(max_iter=1000, random_state=1)),\n",
    "          ('Linear Discriminant Analyzer', LinearDiscriminantAnalysis()),\n",
    "          ('Support Vector Machine', SVC(probability = True,random_state=1))]"
   ]
  },
  {
   "cell_type": "code",
   "execution_count": null,
   "metadata": {
    "colab": {
     "base_uri": "https://localhost:8080/",
     "height": 0
    },
    "id": "EzBOLdk3j_Pj",
    "outputId": "d35bd7a9-4c86-4ac7-f8f5-0d723b8158e9"
   },
   "outputs": [],
   "source": [
    "model_run(selected_models)"
   ]
  },
  {
   "cell_type": "markdown",
   "metadata": {
    "id": "4eCPd6NIrl21"
   },
   "source": [
    "<a name=\"tuning\"></a>\n",
    "# Tuning"
   ]
  },
  {
   "cell_type": "markdown",
   "metadata": {
    "id": "1cKfexbBsJGC"
   },
   "source": [
    "The tuning process consists of adjusting and measuring model parameters, and, if needed, revisiting feature engineering."
   ]
  },
  {
   "cell_type": "markdown",
   "metadata": {
    "id": "EQOX4xAmvj5F"
   },
   "source": [
    "**Best Preforming Model**\n",
    "\n",
    "LogisticRegresion has a slight lead over Linear Discriminant Analyzer with ~0.75 and ~0.77 for testing and training accuracy respectively. \n",
    "\n",
    "SVC did worse than either with ~0.72 and ~0.76 but slightly better with possitive stroke prediciton.\n",
    "\n",
    "**Overview**\n",
    "\n",
    "Comparison of the models in the variable `selected_models`:\n",
    "\n",
    "* **Logistic Regression**, `LogisticRegression()`\n",
    "  * *Testing Accuracy:  0.7485322896281801*\n",
    "  * *Training Accuracy:  0.7677609643498333*\n",
    "  * 11/49 or 22% miss rate for possitive stroke\n",
    "* **Linear Discriminant Analyzer**, `LinearDiscriminantAnalysis()`\n",
    "  * *Testing Accuracy:  0.738747553816047*\n",
    "  * *Training Accuracy:  0.7686586304180559*\n",
    "  * 11/49 or 22% miss rate for possitive stroke\n",
    "* **Support Vector Machine**, `SVC(probability = True)`\n",
    "  * *Testing Accuracy:  0.7172211350293543*\n",
    "  * *Training Accuracy:  0.7575019235701462* \n",
    "  * 10/49 or 20% miss rate for possitive stroke"
   ]
  },
  {
   "cell_type": "code",
   "execution_count": null,
   "metadata": {
    "cellView": "form",
    "id": "SUmxwCwojCej"
   },
   "outputs": [],
   "source": [
    "#@title Top two\n",
    "two_models = [('Logistic Regression', LogisticRegression(max_iter=1000, random_state=1)),\n",
    "          ('Linear Discriminant Analyzer', LinearDiscriminantAnalysis())]"
   ]
  },
  {
   "cell_type": "markdown",
   "metadata": {
    "id": "Isd9NLBYPYej"
   },
   "source": [
    "<a name=\"feat_imp\"></a>\n",
    "## Feature Importance - [article](https://machinelearningmastery.com/calculate-feature-importance-with-python/)"
   ]
  },
  {
   "cell_type": "markdown",
   "metadata": {
    "id": "aOtqJNmtMPNb"
   },
   "source": [
    "## Feature Importance Model"
   ]
  },
  {
   "cell_type": "code",
   "execution_count": null,
   "metadata": {
    "id": "0wnMvZm2RC18"
   },
   "outputs": [],
   "source": [
    "# x & y train defined in the modeling section\n",
    "X = x_train.copy()\n",
    "y = y_train.copy()"
   ]
  },
  {
   "cell_type": "code",
   "execution_count": null,
   "metadata": {
    "id": "RPpXUe2NKrrl"
   },
   "outputs": [],
   "source": [
    "my_list = [LogisticRegression(max_iter=2000, random_state=1),LinearDiscriminantAnalysis()]"
   ]
  },
  {
   "cell_type": "code",
   "execution_count": null,
   "metadata": {
    "cellView": "form",
    "colab": {
     "base_uri": "https://localhost:8080/"
    },
    "id": "np4qhKDQTarl",
    "outputId": "ee76c5c2-06ce-44cb-b67a-377f8acdeda0"
   },
   "outputs": [],
   "source": [
    "#@title Feature Rank\n",
    "for model in my_list:\n",
    "    rfe = RFECV(estimator=model,step=1,cv=5)\n",
    "    rfe.fit(X,y)\n",
    "    print(\" \")\n",
    "    print(model)\n",
    "    print(\" \")\n",
    "    for j, col, in zip(range(df.shape[1]), df.columns):\n",
    "      print(f'{col} selected= {rfe.support_[1]} rank= {rfe.ranking_[1]}')"
   ]
  },
  {
   "cell_type": "code",
   "execution_count": null,
   "metadata": {
    "cellView": "form",
    "id": "fD3q3beVOD3n"
   },
   "outputs": [],
   "source": [
    "#@title Get Feature Names\n",
    "feat_names = dv.get_feature_names_out()"
   ]
  },
  {
   "cell_type": "code",
   "execution_count": null,
   "metadata": {
    "cellView": "form",
    "id": "To3AZO8lUzSv"
   },
   "outputs": [],
   "source": [
    "#@title def feature_importance(model)\n",
    "def feature_importance(model):\n",
    "    # define the model\n",
    "    model = model\n",
    "    # fit the model\n",
    "    model.fit(X, y)\n",
    "    # get importance\n",
    "    importance = model.coef_[0]\n",
    "    # summarize feature importance\n",
    "    for i,v in enumerate(importance):\n",
    "        print(f'Feature: {feat_names[i]}',' ',f'Score: {v}\\n')"
   ]
  },
  {
   "cell_type": "code",
   "execution_count": null,
   "metadata": {
    "cellView": "form",
    "colab": {
     "base_uri": "https://localhost:8080/"
    },
    "id": "q8aUdaisU3gn",
    "outputId": "8ac644ce-3f7a-4e98-c534-f5c012fe477a"
   },
   "outputs": [],
   "source": [
    "#@title Logistic Feature coefficients\n",
    "\n",
    "feature_importance(LogisticRegression(max_iter=1000, random_state=1))"
   ]
  },
  {
   "cell_type": "code",
   "execution_count": null,
   "metadata": {
    "cellView": "form",
    "colab": {
     "base_uri": "https://localhost:8080/"
    },
    "id": "z3LZ3YgzU6vn",
    "outputId": "98311030-d827-421c-ab95-7ac8f42b8825"
   },
   "outputs": [],
   "source": [
    "#@title Linear Discriminant Feature coefficients\n",
    "\n",
    "feature_importance(LinearDiscriminantAnalysis())\n",
    "   \n",
    "# plot feature importance\n",
    "#pyplot.bar([x for x in range(len(importance))], importance)\n",
    "#pyplot.show()"
   ]
  },
  {
   "cell_type": "markdown",
   "metadata": {
    "id": "AWWDBiH9VD0u"
   },
   "source": [
    "Both heart_disease and hypertension have high possitive coefficients, this is consistent studies showing that both diseases greatly increase your likelihood of having a stroke. [Cardiovascular risk factors](https://www.ncbi.nlm.nih.gov/pmc/articles/PMC4419105/)\n",
    "\n",
    "The second highest possitive coefficients is for work_type=children despte research showing that stroke in children is [rare](https://www.hopkinsmedicine.org/health/conditions-and-diseases/stroke/pediatric-stroke).\n",
    "\n",
    "The obese feature may be confusing the models, as we are seeing inconsistent accounting for it, despite it being a known to [increase the likelihood](https://ochsnerlg.org/about-us/news/how-obesity-affects-stroke-risk#:~:text=Effects%20of%20Obesity&text=Repeated%20studies%20estimate%20that%20each,of%20stroke%20by%2050%20percent.) of stroke."
   ]
  },
  {
   "cell_type": "code",
   "execution_count": null,
   "metadata": {
    "colab": {
     "base_uri": "https://localhost:8080/"
    },
    "id": "IQ2B-xxxVBTu",
    "outputId": "ba92d721-899b-4dec-d866-a45f2ab6f482"
   },
   "outputs": [],
   "source": [
    "df[df.work_type == 'children'].stroke.value_counts()"
   ]
  },
  {
   "cell_type": "markdown",
   "metadata": {
    "id": "ZnWKsW4mMWeb"
   },
   "source": [
    "## Feature Importance Data"
   ]
  },
  {
   "cell_type": "code",
   "execution_count": null,
   "metadata": {
    "cellView": "form",
    "id": "Zavuu513dXQZ"
   },
   "outputs": [],
   "source": [
    "#@title Data split for feature importance fi_train, fi_test\n",
    "fi_train, fi_test = train_test_split(df, test_size=0.2, random_state=1)"
   ]
  },
  {
   "cell_type": "code",
   "execution_count": null,
   "metadata": {
    "colab": {
     "base_uri": "https://localhost:8080/"
    },
    "id": "u4AZ6hB9gC9i",
    "outputId": "cb86034f-9ea8-4330-a513-f43593d5606b"
   },
   "outputs": [],
   "source": [
    "fi_train.dtypes"
   ]
  },
  {
   "cell_type": "code",
   "execution_count": null,
   "metadata": {
    "id": "ErLvle5pgIPY"
   },
   "outputs": [],
   "source": [
    "categorical = ['smoking_status','residence_type','work_type','gender']"
   ]
  },
  {
   "cell_type": "code",
   "execution_count": null,
   "metadata": {
    "cellView": "form",
    "colab": {
     "base_uri": "https://localhost:8080/",
     "height": 0
    },
    "id": "ju_C1BCZ0Nqv",
    "outputId": "91cf28a0-525e-4755-b249-8667944d6b5b"
   },
   "outputs": [],
   "source": [
    "#@title Feature Importance Breakdown\n",
    "\n",
    "for c in categorical:\n",
    "    print(c)\n",
    "    df_group = fi_train.groupby(c).stroke.agg(['mean','count'])\n",
    "    df_group['diff'] = df_group['mean'] - stroke_rate\n",
    "    df_group['risk'] = df_group['mean'] / stroke_rate\n",
    "    display(df_group)\n",
    "    print('\\n')"
   ]
  },
  {
   "cell_type": "code",
   "execution_count": null,
   "metadata": {
    "id": "8QWXZkgCeXIq"
   },
   "outputs": [],
   "source": [
    "def mutual_stroke(series):\n",
    "    return mutual_info_score(series,fi_train['stroke'])"
   ]
  },
  {
   "cell_type": "code",
   "execution_count": null,
   "metadata": {
    "colab": {
     "base_uri": "https://localhost:8080/"
    },
    "id": "fXz2P-hbeG1Z",
    "outputId": "ef73f19a-5efc-45bf-bf76-de0b4e65a5fb"
   },
   "outputs": [],
   "source": [
    "mi = fi_train[categorical].apply(mutual_stroke)\n",
    "mi.sort_values(ascending=False)"
   ]
  },
  {
   "cell_type": "markdown",
   "metadata": {
    "id": "ElDflyGYBBR0"
   },
   "source": [
    "\n",
    "**Of note:**\n",
    "The categorical features appear to be low overall predictors. However, within the features are some noteable predictors. A test would be to see what happens if these features are removed from the model.\n"
   ]
  },
  {
   "cell_type": "code",
   "execution_count": null,
   "metadata": {
    "cellView": "form",
    "colab": {
     "base_uri": "https://localhost:8080/"
    },
    "id": "0aZ-CW8j8b9M",
    "outputId": "f591467b-dacf-43a5-addb-ccfcc28516c2"
   },
   "outputs": [],
   "source": [
    "#@title Feature Stroke Correlation\n",
    "fi_train.corr()['stroke'].sort_values(ascending=False).iloc[1:] # if using different dataframes, use df1.corrwith(df2)"
   ]
  },
  {
   "cell_type": "markdown",
   "metadata": {
    "id": "qGcAgYpV8u1S"
   },
   "source": [
    "**Feature Stroke Correlation**: The top 4 correlated features are consistent with expected highs correlations. \n",
    "\n",
    "**Unexpected**: That 'ever_married' being slightly higher than 'formerly_smoked' and 'obese' appear to be negligible."
   ]
  },
  {
   "cell_type": "code",
   "execution_count": null,
   "metadata": {
    "id": "Hsn5gIkvaD1e"
   },
   "outputs": [],
   "source": [
    "df_fi = df.drop(categorical, axis='columns')"
   ]
  },
  {
   "cell_type": "markdown",
   "metadata": {
    "id": "aWirm5wqMvKO"
   },
   "source": [
    "## Feature Importance Testing\n",
    "\n",
    "\n"
   ]
  },
  {
   "cell_type": "markdown",
   "metadata": {
    "id": "oXRrtwYdT13s"
   },
   "source": [
    "As mentioned above, this is a test of the model without the categorical columns."
   ]
  },
  {
   "cell_type": "code",
   "execution_count": null,
   "metadata": {
    "id": "-ZXxrKQsaL9P"
   },
   "outputs": [],
   "source": [
    "#@title Data set without categorical columns\n",
    "\n",
    "# DataFrame dropping categorical colums\n",
    "df_fi = df.drop(categorical, axis='columns')\n",
    "\n",
    "# Splitting data\n",
    "df_fi_train, df_fi_test = train_test_split(df_fi, test_size=0.2, random_state=1)\n",
    "\n",
    "df_fi_train = df_fi_train.reset_index(drop=True)\n",
    "df_fi_test = df_fi_test.reset_index(drop=True)\n",
    "\n",
    "\n",
    "y_fi_train = df_fi_train.stroke.values\n",
    "y_fi_test = df_fi_test.stroke.values\n",
    "\n",
    "del df_fi_train['stroke']\n",
    "del df_fi_test['stroke']\n",
    "\n",
    "# x_fi_train\n",
    "train_dict = df_fi_train.to_dict(orient='records')\n",
    "\n",
    "dv = DictVectorizer(sparse=False)\n",
    "x_fi_train = dv.fit_transform(train_dict)\n",
    "\n",
    "# x_fi_test\n",
    "test_dict = df_fi_test.to_dict(orient='records')\n",
    "x_fi_test = dv.transform(test_dict)"
   ]
  },
  {
   "cell_type": "code",
   "execution_count": null,
   "metadata": {
    "id": "bpra49PwKtOR"
   },
   "outputs": [],
   "source": [
    "#@title def fi_model_run(models)\n",
    "def fi_model_run(models):\n",
    "  models_score = []\n",
    "  for name, model in models:\n",
    "      model = model\n",
    "      model.fit(x_fi_train, y_fi_train)\n",
    "      model.predict(x_fi_test)\n",
    "      models_score.append([name, accuracy_score(y_fi_test, model.predict(x_fi_test))])\n",
    "      \n",
    "      print(\" \")\n",
    "      print(\"Model: \",name)\n",
    "      print('Testing Accuracy: ', accuracy_score(y_fi_test, model.predict(x_fi_test)))\n",
    "      print('Training Accuracy: ', accuracy_score(y_fi_train, model.predict(x_fi_train)))\n",
    "      print(\" \")\n",
    "      \n",
    "      plt.figure()\n",
    "      cf_matrix = confusion_matrix(y_fi_test, model.predict(x_fi_test))\n",
    "      plt.title('Confusion Matrix: {}'.format(name))\n",
    "      sns.heatmap(cf_matrix, annot = True, fmt = 'g', cmap = sns.cubehelix_palette(as_cmap=True))\n",
    "      plt.show()\n",
    "      \n",
    "      print(\" \")\n",
    "\n",
    "      skplt.metrics.plot_roc(y_fi_test, model.predict_proba(x_fi_test))\n",
    "      plt.title('ROC Curves: {}'.format(name))\n",
    "      plt.show()"
   ]
  },
  {
   "cell_type": "code",
   "execution_count": null,
   "metadata": {
    "colab": {
     "base_uri": "https://localhost:8080/",
     "height": 0
    },
    "id": "2nc2g3Wreee9",
    "outputId": "de65a6c7-af5b-4952-d6ef-fac2357ed442"
   },
   "outputs": [],
   "source": [
    "fi_model_run(two_models)"
   ]
  },
  {
   "cell_type": "markdown",
   "metadata": {
    "id": "ftSlcmZEgOfW"
   },
   "source": [
    "Both models fail to predict possitive stroke in an acceptable manner. Removing hte categorical columns has failed the test and will remain in the production model."
   ]
  },
  {
   "cell_type": "markdown",
   "metadata": {
    "id": "XWYJhnztVgpW"
   },
   "source": [
    "## Model Tuning"
   ]
  },
  {
   "cell_type": "markdown",
   "metadata": {
    "id": "6zWtuAbhWCYE"
   },
   "source": [
    "### LogisticRegression Tunning\n",
    "[Article](https://machinelearningmastery.com/hyperparameters-for-classification-machine-learning-algorithms/)"
   ]
  },
  {
   "cell_type": "code",
   "execution_count": null,
   "metadata": {
    "id": "hCgmP8iPWaWF"
   },
   "outputs": [],
   "source": [
    "log_model = LogisticRegression(max_iter=1000, random_state=1)"
   ]
  },
  {
   "cell_type": "code",
   "execution_count": null,
   "metadata": {
    "colab": {
     "base_uri": "https://localhost:8080/"
    },
    "id": "Y_YbQ6dfWmxG",
    "outputId": "15e6d833-ac66-41af-a61f-c1109e2d2d63"
   },
   "outputs": [],
   "source": [
    "# define LogisticRegression and parameters\n",
    "model = log_model\n",
    "solvers = ['newton-cg', 'lbfgs', 'liblinear']\n",
    "penalty = ['l2']\n",
    "c_values = [100, 10, 1.0, 0.1, 0.01]\n",
    "# define grid search\n",
    "grid = dict(solver=solvers,penalty=penalty,C=c_values)\n",
    "cv = RepeatedStratifiedKFold(n_splits=10, n_repeats=3, random_state=1)\n",
    "grid_search = GridSearchCV(estimator=model, param_grid=grid, n_jobs=-1, cv=cv, scoring='accuracy',error_score=0)\n",
    "grid_result = grid_search.fit(x_train, y_train) # defined in the modeling section\n",
    "# summarize results\n",
    "print(\"Best: %f using %s\" % (grid_result.best_score_, grid_result.best_params_))\n",
    "means = grid_result.cv_results_['mean_test_score']\n",
    "stds = grid_result.cv_results_['std_test_score']\n",
    "params = grid_result.cv_results_['params']\n",
    "for mean, stdev, param in zip(means, stds, params):\n",
    "    print(\"%f (%f) with: %r\" % (mean, stdev, param))"
   ]
  },
  {
   "cell_type": "markdown",
   "metadata": {
    "id": "Q6mcUJSiYnxA"
   },
   "source": [
    "As noted previously, we need possitive stroke prediction first and model statistics second. Using the above results gives us a guidline to test against but it is limited in that is looing at model performace and not taking into account possitive stroke prediction."
   ]
  },
  {
   "cell_type": "code",
   "execution_count": null,
   "metadata": {
    "id": "nz7FSscSWpoa"
   },
   "outputs": [],
   "source": [
    "# manually adjusted parameters and re-ran models, ultimately the lbfgs model listed below had the best results.\n",
    "log_model_opt = [('grid recomended', LogisticRegression(max_iter=1000, random_state=1,C=0.1,penalty='l2',solver='liblinear')),\n",
    "                 ('newton-cg', LogisticRegression(max_iter=1000, random_state=1,C=100,penalty='l2',solver='newton-cg')),\n",
    "                 ('lbfgs', LogisticRegression(max_iter=1000, random_state=1,C=100,penalty='l2',solver='lbfgs')),]"
   ]
  },
  {
   "cell_type": "code",
   "execution_count": null,
   "metadata": {
    "colab": {
     "base_uri": "https://localhost:8080/",
     "height": 0
    },
    "id": "6gscijt8WtLG",
    "outputId": "9a78a2f0-435c-4208-f5e3-08014024ac5f"
   },
   "outputs": [],
   "source": [
    "#log_model_opt = [('Logistic Regression', LogisticRegression(max_iter=1000, random_state=10))]\n",
    "model_run(log_model_opt)"
   ]
  },
  {
   "cell_type": "markdown",
   "metadata": {
    "id": "2OeclXBliPSe"
   },
   "source": [
    "**Logistic Regression**, `LogisticRegression()`\n",
    "\n",
    "Previous:\n",
    "* *Testing Accuracy: 0.7485322896281801*\n",
    "* *Training Accuracy: 0.7677609643498333*\n",
    "\n",
    "New: **Model:  lbfgs**\n",
    "* *Testing Accuracy:  0.7534246575342466* - **improved**\n",
    "* *Training Accuracy:  0.7734034367786612* - **improved**\n",
    "\n",
    "***Slight improvements have been made.***"
   ]
  },
  {
   "cell_type": "markdown",
   "metadata": {
    "id": "1X1NmjoNWbI2"
   },
   "source": [
    "### LinearDiscriminantAnalysis Tuning\n",
    "[Article](https://machinelearningmastery.com/linear-discriminant-analysis-for-machine-learning/)"
   ]
  },
  {
   "cell_type": "code",
   "execution_count": null,
   "metadata": {
    "id": "ha1ot-0MeDku"
   },
   "outputs": [],
   "source": [
    "lda_models = [('svd', LinearDiscriminantAnalysis(solver='svd')),\n",
    "          ('lsqr', LinearDiscriminantAnalysis(solver='lsqr')),\n",
    "          ('eigen', LinearDiscriminantAnalysis(shrinkage='auto',solver='eigen'))]"
   ]
  },
  {
   "cell_type": "code",
   "execution_count": null,
   "metadata": {
    "colab": {
     "base_uri": "https://localhost:8080/",
     "height": 0
    },
    "id": "aAeuao-qgfTD",
    "outputId": "86ad82d9-ef13-47f3-f25e-a675f208e649"
   },
   "outputs": [],
   "source": [
    "model_run(lda_models)"
   ]
  },
  {
   "cell_type": "markdown",
   "metadata": {
    "id": "iKxCEhY5hKDs"
   },
   "source": [
    "The Linear Discriminant Analysis failed to produce better results than the Logistic Regression model."
   ]
  },
  {
   "cell_type": "markdown",
   "metadata": {
    "id": "D_B2kzLihlK7"
   },
   "source": [
    "### Final Model selection"
   ]
  },
  {
   "cell_type": "code",
   "execution_count": null,
   "metadata": {
    "id": "vRVdmuvKhoZF"
   },
   "outputs": [],
   "source": [
    "final_model = [('lbfgs', LogisticRegression(max_iter=1000, random_state=1,C=100,penalty='l2',solver='lbfgs'))]"
   ]
  },
  {
   "cell_type": "code",
   "execution_count": null,
   "metadata": {
    "colab": {
     "base_uri": "https://localhost:8080/",
     "height": 0
    },
    "id": "La0ZV2xBhvr_",
    "outputId": "8b7a6f1b-5b87-4a92-c959-45cec111195d"
   },
   "outputs": [],
   "source": [
    "model_run(final_model)"
   ]
  },
  {
   "cell_type": "markdown",
   "metadata": {
    "id": "c9VGxAtiroCf"
   },
   "source": [
    "<a name=\"deploy\"></a>\n",
    "# Deployment"
   ]
  },
  {
   "cell_type": "markdown",
   "metadata": {
    "id": "f8Ci49G_tS3Z"
   },
   "source": []
  },
  {
   "cell_type": "markdown",
   "metadata": {
    "id": "k1ojInCDiHq3"
   },
   "source": [
    "### Model"
   ]
  },
  {
   "cell_type": "code",
   "execution_count": null,
   "metadata": {
    "id": "3BlGomdYiHq3"
   },
   "outputs": [],
   "source": [
    "model = [('lbfgs', LogisticRegression(max_iter=1000, random_state=1,C=100,penalty='l2',solver='lbfgs'))]"
   ]
  }
 ],
 "metadata": {
  "colab": {
   "include_colab_link": true,
   "provenance": []
  },
  "kernelspec": {
   "display_name": "Python 3 (ipykernel)",
   "language": "python",
   "name": "python3"
  },
  "language_info": {
   "codemirror_mode": {
    "name": "ipython",
    "version": 3
   },
   "file_extension": ".py",
   "mimetype": "text/x-python",
   "name": "python",
   "nbconvert_exporter": "python",
   "pygments_lexer": "ipython3",
   "version": "3.10.5"
  }
 },
 "nbformat": 4,
 "nbformat_minor": 1
}
