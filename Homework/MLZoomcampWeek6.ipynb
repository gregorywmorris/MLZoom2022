{
  "nbformat": 4,
  "nbformat_minor": 0,
  "metadata": {
    "colab": {
      "provenance": [],
      "include_colab_link": true
    },
    "kernelspec": {
      "name": "python3",
      "display_name": "Python 3"
    },
    "language_info": {
      "name": "python"
    }
  },
  "cells": [
    {
      "cell_type": "markdown",
      "metadata": {
        "id": "view-in-github",
        "colab_type": "text"
      },
      "source": [
        "<a href=\"https://colab.research.google.com/github/gregorywmorris/MLZoom2022/blob/main/Homework/MLZoomcampWeek6.ipynb\" target=\"_parent\"><img src=\"https://colab.research.google.com/assets/colab-badge.svg\" alt=\"Open In Colab\"/></a>"
      ]
    },
    {
      "cell_type": "markdown",
      "source": [
        "#**HOMEWORK**  \n",
        "\n",
        "The goal of this homework is to create a regression model for predicting housing prices (column 'median_house_value').  \n",
        "\n",
        "In this homework we'll again use the California Housing Prices dataset - the same one we used in homework 2 and 3.\n",
        "\n",
        "You can take it from [Kaggle](https://www.kaggle.com/datasets/camnugent/california-housing-prices) or download using wget link mentioned below:\n",
        "\n",
        "```\n",
        "wget https://raw.githubusercontent.com/alexeygrigorev/datasets/master/housing.csv\n",
        "\n",
        "```\n",
        "\n"
      ],
      "metadata": {
        "id": "-JrenrSGmAeg"
      }
    },
    {
      "cell_type": "code",
      "execution_count": 1,
      "metadata": {
        "id": "nLosiCNJUjDM"
      },
      "outputs": [],
      "source": [
        "#@ IMPORTING LIBRARIES AND DEPENDENCIES:\n",
        "import re\n",
        "import numpy as np\n",
        "import pandas as pd\n",
        "import seaborn as sns\n",
        "import xgboost as xgb\n",
        "import matplotlib.pyplot as plt\n",
        "from tqdm.auto import tqdm\n",
        "from sklearn.tree import DecisionTreeRegressor\n",
        "from sklearn.tree import export_text\n",
        "from sklearn.feature_extraction import DictVectorizer\n",
        "from sklearn.model_selection import train_test_split\n",
        "from sklearn.ensemble import RandomForestRegressor\n",
        "from sklearn.metrics import mean_squared_error\n",
        "\n",
        "%matplotlib inline"
      ]
    },
    {
      "cell_type": "code",
      "source": [
        "#@ DOWNLOADING THE DATASET: UNCOMMENT BELOW:\n",
        "!wget https://raw.githubusercontent.com/alexeygrigorev/datasets/master/housing.csv"
      ],
      "metadata": {
        "id": "4Psk224nnyIF",
        "colab": {
          "base_uri": "https://localhost:8080/"
        },
        "outputId": "b833dba7-e609-43e9-b69f-9e36ae09996f"
      },
      "execution_count": 6,
      "outputs": [
        {
          "output_type": "stream",
          "name": "stdout",
          "text": [
            "--2022-10-12 17:09:01--  https://raw.githubusercontent.com/alexeygrigorev/datasets/master/housing.csv\n",
            "Resolving raw.githubusercontent.com (raw.githubusercontent.com)... 185.199.111.133, 185.199.109.133, 185.199.108.133, ...\n",
            "Connecting to raw.githubusercontent.com (raw.githubusercontent.com)|185.199.111.133|:443... connected.\n",
            "HTTP request sent, awaiting response... 200 OK\n",
            "Length: 1423529 (1.4M) [text/plain]\n",
            "Saving to: ‘housing.csv.1’\n",
            "\n",
            "housing.csv.1       100%[===================>]   1.36M  --.-KB/s    in 0.02s   \n",
            "\n",
            "2022-10-12 17:09:01 (65.2 MB/s) - ‘housing.csv.1’ saved [1423529/1423529]\n",
            "\n"
          ]
        }
      ]
    },
    {
      "cell_type": "code",
      "source": [
        "#@ READING DATASET:\n",
        "PATH = \"./housing.csv\"\n",
        "select_cols = [\"longitude\", \"latitude\", \"housing_median_age\", \"total_rooms\", \"total_bedrooms\", \"population\", \"households\", \n",
        "               \"median_income\", \"median_house_value\", \"ocean_proximity\"]\n",
        "df = pd.read_csv(PATH, usecols=select_cols)\n",
        "df.total_bedrooms = df.total_bedrooms.fillna(0)"
      ],
      "metadata": {
        "id": "492Hn6-3n08G"
      },
      "execution_count": 7,
      "outputs": []
    },
    {
      "cell_type": "markdown",
      "source": [
        "- Apply the log transform to `median_house_value`. \n",
        "- Do train/validation/test split with 60%/20%/20% distribution.\n",
        "- Use the `train_test_split` function and set the `random_state parameter` to 1."
      ],
      "metadata": {
        "id": "OqXppJ_Ro0H0"
      }
    },
    {
      "cell_type": "code",
      "source": [
        "# Apply the log transform to median_house_value.\n",
        "df.median_house_value = np.log(df.median_house_value)"
      ],
      "metadata": {
        "id": "9p7JXBnCKy8S"
      },
      "execution_count": 8,
      "outputs": []
    },
    {
      "cell_type": "code",
      "source": [
        "#@ SPLITTING THE DATASET FOR TRAINING AND TEST:\n",
        "\n",
        "df_full_train, df_test = train_test_split(df, test_size=0.2, random_state=1)\n",
        "df_train, df_val = train_test_split(df_full_train, test_size=0.25, random_state=1)\n",
        "\n",
        "y_train = df_train.median_house_value.values\n",
        "y_test = df_test.median_house_value.values\n",
        "y_val = df_val.median_house_value.values\n",
        "\n",
        "del df_train['median_house_value']\n",
        "del df_test['median_house_value']\n",
        "del df_val['median_house_value']"
      ],
      "metadata": {
        "id": "W1MmdcRDpHS1"
      },
      "execution_count": 11,
      "outputs": []
    },
    {
      "cell_type": "code",
      "source": [
        "df_train.isna().sum()"
      ],
      "metadata": {
        "colab": {
          "base_uri": "https://localhost:8080/"
        },
        "id": "hOuZB0m_Nnyr",
        "outputId": "c03d6445-3cdd-4512-af78-15010edf3b79"
      },
      "execution_count": 12,
      "outputs": [
        {
          "output_type": "execute_result",
          "data": {
            "text/plain": [
              "longitude             0\n",
              "latitude              0\n",
              "housing_median_age    0\n",
              "total_rooms           0\n",
              "total_bedrooms        0\n",
              "population            0\n",
              "households            0\n",
              "median_income         0\n",
              "ocean_proximity       0\n",
              "dtype: int64"
            ]
          },
          "metadata": {},
          "execution_count": 12
        }
      ]
    },
    {
      "cell_type": "markdown",
      "source": [
        "- We will use `DictVectorizer` to turn train and validation into matrices."
      ],
      "metadata": {
        "id": "5VKq8FX7qIVM"
      }
    },
    {
      "cell_type": "code",
      "source": [
        "#@ IMPLEMENTATION OF DICTVECTORIZER:\n",
        "dv = DictVectorizer(sparse=False)\n",
        "\n",
        "train_dicts = df_train.to_dict(orient='records')\n",
        "x_train = dv.fit_transform(train_dicts)\n",
        "\n",
        "val_dicts = df_val.to_dict(orient='records')\n",
        "x_val = dv.fit_transform(val_dicts)\n"
      ],
      "metadata": {
        "id": "WnfFrWe9qtuc"
      },
      "execution_count": 13,
      "outputs": []
    },
    {
      "cell_type": "markdown",
      "source": [
        "#**Question 1**\n",
        "\n",
        "Let's train a decision tree regressor to predict the `median_house_value` variable.\n",
        "\n",
        "Train a model with `max_depth=1`."
      ],
      "metadata": {
        "id": "qvxmhaD5hmAK"
      }
    },
    {
      "cell_type": "code",
      "source": [
        "#@ TRAINING THE REGRESSION MODEL:\n",
        "model_dt = DecisionTreeRegressor(max_depth=1, random_state=1)\n",
        "model_dt.fit(x_train, y_train)"
      ],
      "metadata": {
        "id": "cqBcSbpIq7kJ",
        "colab": {
          "base_uri": "https://localhost:8080/"
        },
        "outputId": "12f741e9-69f3-46dd-de87-60ffdd4ef6fd"
      },
      "execution_count": 14,
      "outputs": [
        {
          "output_type": "execute_result",
          "data": {
            "text/plain": [
              "DecisionTreeRegressor(max_depth=1, random_state=1)"
            ]
          },
          "metadata": {},
          "execution_count": 14
        }
      ]
    },
    {
      "cell_type": "code",
      "source": [
        "#@ INSPECTION:\n",
        "\n",
        "print(export_text(model_dt, feature_names=dv.get_feature_names()))"
      ],
      "metadata": {
        "id": "sLAnqRwuikqQ",
        "colab": {
          "base_uri": "https://localhost:8080/"
        },
        "outputId": "1ca784da-178a-4025-f3c4-c3c225160d32"
      },
      "execution_count": 15,
      "outputs": [
        {
          "output_type": "stream",
          "name": "stdout",
          "text": [
            "|--- ocean_proximity=INLAND <= 0.50\n",
            "|   |--- value: [12.31]\n",
            "|--- ocean_proximity=INLAND >  0.50\n",
            "|   |--- value: [11.61]\n",
            "\n"
          ]
        },
        {
          "output_type": "stream",
          "name": "stderr",
          "text": [
            "/usr/local/lib/python3.7/dist-packages/sklearn/utils/deprecation.py:87: FutureWarning: Function get_feature_names is deprecated; get_feature_names is deprecated in 1.0 and will be removed in 1.2. Please use get_feature_names_out instead.\n",
            "  warnings.warn(msg, category=FutureWarning)\n"
          ]
        }
      ]
    },
    {
      "cell_type": "markdown",
      "source": [
        "- Which feature is used for splitting the data?\n",
        "\n",
        "- Answer: **ocean_proximity**"
      ],
      "metadata": {
        "id": "JNBm-qeRp6aZ"
      }
    },
    {
      "cell_type": "markdown",
      "source": [
        "#**Question 2**\n",
        "\n",
        "Train a random forest model with these parameters:\n",
        "\n",
        "- `n_estimators=10`  \n",
        "- `random_state=1`  \n",
        "- `n_jobs=-1` (optional-to make training faster)"
      ],
      "metadata": {
        "id": "Xhnbdy-CqQoB"
      }
    },
    {
      "cell_type": "code",
      "source": [
        "#@ TRAINING RANDOM FOREST MODEL:\n",
        "model_rf = RandomForestRegressor(n_estimators=10, n_jobs=-1, random_state=1)\n",
        "model_rf.fit(x_train, y_train)\n",
        "y_pred = model_rf.predict(x_val)\n"
      ],
      "metadata": {
        "id": "2w-YSGYMisFt"
      },
      "execution_count": 18,
      "outputs": []
    },
    {
      "cell_type": "code",
      "source": [
        "#@ CALCULATING MEAN SQUARED ERROR:\n",
        "mean_squared_error(y_val, y_pred)"
      ],
      "metadata": {
        "id": "jCxUAO2Rq1Ps",
        "colab": {
          "base_uri": "https://localhost:8080/"
        },
        "outputId": "abd02d73-259f-4389-f4a0-dcfd161545e0"
      },
      "execution_count": 21,
      "outputs": [
        {
          "output_type": "execute_result",
          "data": {
            "text/plain": [
              "0.060197049028941726"
            ]
          },
          "metadata": {},
          "execution_count": 21
        }
      ]
    },
    {
      "cell_type": "markdown",
      "source": [
        "- What's the RMSE of this model on validation?\n",
        "\n",
        "- Answer: **0.06**"
      ],
      "metadata": {
        "id": "jfcDllHxrTqu"
      }
    },
    {
      "cell_type": "markdown",
      "source": [
        "#**Question 3**\n",
        "\n",
        "Now, let's experiment with the `n_estimators` parameter.\n",
        "\n",
        "- Try different values of this parameter from 10 to 200 with step 10.\n",
        "- Set `random_state` to 1.\n",
        "- Evaluate the model on the validation dataset."
      ],
      "metadata": {
        "id": "Y7K69bFSrg_V"
      }
    },
    {
      "cell_type": "code",
      "source": [
        "param = np.linspace(10, 200, 20, dtype='int') \n",
        "param"
      ],
      "metadata": {
        "colab": {
          "base_uri": "https://localhost:8080/"
        },
        "id": "fg2td5IxXkLM",
        "outputId": "3d3afc0c-efe3-4ccf-f443-b6a9a8ec199a"
      },
      "execution_count": 35,
      "outputs": [
        {
          "output_type": "execute_result",
          "data": {
            "text/plain": [
              "array([ 10,  20,  30,  40,  50,  60,  70,  80,  90, 100, 110, 120, 130,\n",
              "       140, 150, 160, 170, 180, 190, 200])"
            ]
          },
          "metadata": {},
          "execution_count": 35
        }
      ]
    },
    {
      "cell_type": "code",
      "source": [
        "#@ TRAINING THE RANDOM FOREST MODEL:\n",
        "q3 = []\n",
        "\n",
        "for n in param:\n",
        "  model_rf = RandomForestRegressor(n_estimators=n, n_jobs=-1, random_state=1)\n",
        "  model_rf.fit(x_train, y_train)\n",
        "  y_pred = model_rf.predict(x_val)\n",
        "\n",
        "  q3.append([n, \"  \",round(mean_squared_error(y_val, y_pred),2)])"
      ],
      "metadata": {
        "id": "-oUFCQwOrQNN"
      },
      "execution_count": 48,
      "outputs": []
    },
    {
      "cell_type": "code",
      "source": [
        "#@ INSPECTING THE RMSE SCORES:\n",
        "q3"
      ],
      "metadata": {
        "id": "3J-wFLh4s8Ky",
        "colab": {
          "base_uri": "https://localhost:8080/"
        },
        "outputId": "a0df1ba3-ff55-4bc8-b16d-a1731ad38fbe"
      },
      "execution_count": 39,
      "outputs": [
        {
          "output_type": "execute_result",
          "data": {
            "text/plain": [
              "[[10, '  ', 0.06],\n",
              " [20, '  ', 0.06],\n",
              " [30, '  ', 0.06],\n",
              " [40, '  ', 0.05],\n",
              " [50, '  ', 0.05],\n",
              " [60, '  ', 0.05],\n",
              " [70, '  ', 0.05],\n",
              " [80, '  ', 0.05],\n",
              " [90, '  ', 0.05],\n",
              " [100, '  ', 0.05],\n",
              " [110, '  ', 0.05],\n",
              " [120, '  ', 0.05],\n",
              " [130, '  ', 0.05],\n",
              " [140, '  ', 0.05],\n",
              " [150, '  ', 0.05],\n",
              " [160, '  ', 0.05],\n",
              " [170, '  ', 0.05],\n",
              " [180, '  ', 0.05],\n",
              " [190, '  ', 0.05],\n",
              " [200, '  ', 0.05]]"
            ]
          },
          "metadata": {},
          "execution_count": 39
        }
      ]
    },
    {
      "cell_type": "markdown",
      "source": [
        "- After which value of `n_estimators` does RMSE stop improving?\n",
        "\n",
        "- Answer: **40**"
      ],
      "metadata": {
        "id": "NAXZcW3AuC-d"
      }
    },
    {
      "cell_type": "markdown",
      "source": [
        "#**Question 4**\n",
        "\n",
        "Let's select the best `max_depth`:\n",
        "\n",
        "- Try different values of `max_depth`: [10, 15, 20, 25].\n",
        "- For each of these values, try different values of n_estimators from 10 till 200 (with step 10).\n",
        "- Fix the random seed: `random_state=1`."
      ],
      "metadata": {
        "id": "CYhRv3kEvWjK"
      }
    },
    {
      "cell_type": "code",
      "source": [
        "#@ TRAINING THE MODEL WITH DEPTH:\n",
        "q4 = []\n",
        "max = [10, 15, 20, 25]\n",
        "\n",
        "for m in max:\n",
        "  for n in range(10,201,10):\n",
        "    model_rf = RandomForestRegressor(n_estimators=n,max_depth=m, n_jobs=-1, random_state=1)\n",
        "    model_rf.fit(x_train, y_train)\n",
        "    y_pred = model_rf.predict(x_val)\n",
        "\n",
        "    q4.append([n,m,mean_squared_error(y_val, y_pred)])"
      ],
      "metadata": {
        "id": "fO9TackKvKcS"
      },
      "execution_count": 49,
      "outputs": []
    },
    {
      "cell_type": "code",
      "source": [
        "columns = ['n_estimators','max_depth', 'rmse']\n",
        "df_scores = pd.DataFrame(q4, columns=columns)"
      ],
      "metadata": {
        "id": "X2Wg29MKbW_B"
      },
      "execution_count": 58,
      "outputs": []
    },
    {
      "cell_type": "code",
      "source": [
        "df_scores.max_depth.value_counts()"
      ],
      "metadata": {
        "id": "vlMq5oMJmPZJ",
        "outputId": "ee3b7bb6-219f-4022-bb28-426725c8982a",
        "colab": {
          "base_uri": "https://localhost:8080/"
        }
      },
      "execution_count": 59,
      "outputs": [
        {
          "output_type": "execute_result",
          "data": {
            "text/plain": [
              "10    20\n",
              "15    20\n",
              "20    20\n",
              "25    20\n",
              "Name: max_depth, dtype: int64"
            ]
          },
          "metadata": {},
          "execution_count": 59
        }
      ]
    },
    {
      "cell_type": "code",
      "source": [
        "for d in [10, 15, 20, 25]:\n",
        "    df_subset = df_scores[df_scores.max_depth == d]\n",
        "    \n",
        "    plt.plot(df_subset.n_estimators, df_subset.rmse,\n",
        "             label='max_depth=%d' % d)\n",
        "\n",
        "plt.legend()"
      ],
      "metadata": {
        "colab": {
          "base_uri": "https://localhost:8080/",
          "height": 282
        },
        "id": "BJn4jDz7dWsj",
        "outputId": "3aaae00a-1faf-4807-c7e8-bb039c0cad4d"
      },
      "execution_count": 62,
      "outputs": [
        {
          "output_type": "execute_result",
          "data": {
            "text/plain": [
              "<matplotlib.legend.Legend at 0x7fcdaa83fcd0>"
            ]
          },
          "metadata": {},
          "execution_count": 62
        },
        {
          "output_type": "display_data",
          "data": {
            "text/plain": [
              "<Figure size 432x288 with 1 Axes>"
            ],
            "image/png": "[encoded data removed]"
          },
          "metadata": {
            "needs_background": "light"
          }
        }
      ]
    },
    {
      "cell_type": "markdown",
      "source": [
        "- What's the best `max_depth`:\n",
        "\n",
        "- Answer: **20**"
      ],
      "metadata": {
        "id": "eCRCaKlSwp7D"
      }
    },
    {
      "cell_type": "markdown",
      "source": [
        "#**Question 5**\n",
        "\n",
        "We can extract feature importance information from tree-based models.\n",
        "\n",
        "At each step of the decision tree learning algorith, it finds the best split. When doint it, we can calculate \"gain\" - the reduction in impurity before and after the split. This gain is quite useful in understanding what are the imporatant features for tree-based models.\n",
        "\n",
        "In Scikit-Learn, tree-based models contain this information in the `feature_importances_` field.\n",
        "\n",
        "For this homework question, we'll find the most important feature:\n",
        "\n",
        "Train the model with these parametes:\n",
        "- `n_estimators=10`,\n",
        "- `max_depth=20`,\n",
        "- `random_state=1`,\n",
        "- `n_jobs=-1` (optional)\n",
        "\n",
        "Get the feature importance information from this model"
      ],
      "metadata": {
        "id": "BDLbx3N5xAoY"
      }
    },
    {
      "cell_type": "code",
      "source": [
        "#@ TRAINING THE RANDOM FOREST MODEL:\n"
      ],
      "metadata": {
        "id": "UICqST2Qwhbj"
      },
      "execution_count": null,
      "outputs": []
    },
    {
      "cell_type": "markdown",
      "source": [
        "- What's the most important feature?\n",
        "\n",
        "- Answer:"
      ],
      "metadata": {
        "id": "kSCqlx9jye1s"
      }
    },
    {
      "cell_type": "markdown",
      "source": [
        "#**Question 6**\n",
        "\n",
        "Now let's train an XGBoost model! For this question, we'll tune the eta parameter:\n",
        "\n",
        "- Install XGBoost.\n",
        "- Create DMatrix for train and validation\n",
        "- Create a watchlist\n",
        "- Train a model with these parameters for 100 rounds:\n",
        "\n",
        "```\n",
        "xgb_params = {  \n",
        "    'eta': 0.3,  \n",
        "    'max_depth': 6,  \n",
        "    'min_child_weight': 1,  \n",
        "\n",
        "    'objective': 'reg:squarederror',\n",
        "    'nthread': 8,\n",
        "\n",
        "    'seed': 1,\n",
        "    'verbosity': 1,\n",
        "}\n",
        "```\n",
        "\n"
      ],
      "metadata": {
        "id": "K5KEdiTMzPaI"
      }
    },
    {
      "cell_type": "code",
      "source": [
        "#@ CREATING THE DMARTIX:\n",
        "features = dv.feature_names_\n",
        "\n",
        "regex = re.compile(r\"<\", re.IGNORECASE)\n",
        "features = [regex.sub(\"_\", col) if any(x in str(col) for x in set(('[', ']', '<'))) else col for col in features]\n",
        "\n",
        "dtrain = xgb.DMatrix(X_train, label=y_train, feature_names=features)\n",
        "dval = xgb.DMatrix(X_val, label=y_val, feature_names=features)"
      ],
      "metadata": {
        "id": "TUP0uoL5yZTc"
      },
      "execution_count": null,
      "outputs": []
    },
    {
      "cell_type": "code",
      "source": [],
      "metadata": {
        "id": "lRRzLznP-Z-Q"
      },
      "execution_count": null,
      "outputs": []
    },
    {
      "cell_type": "markdown",
      "source": [
        "- Now, change eta first to 0.1 and then to 0.01."
      ],
      "metadata": {
        "id": "3RmcQ1BQ64X-"
      }
    },
    {
      "cell_type": "markdown",
      "source": [
        "- Which eta leads to the best RMSE score on the validation dataset?\n",
        "\n",
        "- Answer:"
      ],
      "metadata": {
        "id": "Yl6Xn6Zb76iH"
      }
    },
    {
      "cell_type": "markdown",
      "source": [
        "#**Submit The Results**"
      ],
      "metadata": {
        "id": "9mlhNBlSjPRn"
      }
    },
    {
      "cell_type": "markdown",
      "source": [
        "* Submit your results here: https://forms.gle/3yMSuQ4BeNuZFHTU8\n",
        "* You can submit your solution multiple times. In this case, only the last submission will be used\n",
        "* If your answer doesn't match options exactly, select the closest one\n",
        "\n",
        "**Deadline**\n",
        "\n",
        "The deadline for submitting is 17 October (Monday), 23:00 CEST.\n",
        "\n",
        "After that, the form will be closed."
      ],
      "metadata": {
        "id": "ixr1rJq9japj"
      }
    }
  ]
}