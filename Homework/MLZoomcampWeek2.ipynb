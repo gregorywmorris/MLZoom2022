{
  "nbformat": 4,
  "nbformat_minor": 0,
  "metadata": {
    "colab": {
      "provenance": [],
      "include_colab_link": true
    },
    "kernelspec": {
      "name": "python3",
      "display_name": "Python 3"
    },
    "language_info": {
      "name": "python"
    }
  },
  "cells": [
    {
      "cell_type": "markdown",
      "metadata": {
        "id": "view-in-github",
        "colab_type": "text"
      },
      "source": [
        "<a href=\"https://colab.research.google.com/github/gregorywmorris/MLZoom2022/blob/main/MLZoomcampWeek2.ipynb\" target=\"_parent\"><img src=\"https://colab.research.google.com/assets/colab-badge.svg\" alt=\"Open In Colab\"/></a>"
      ]
    },
    {
      "cell_type": "markdown",
      "source": [
        "# Week 2 Homework"
      ],
      "metadata": {
        "id": "JzYN3DSiQVUM"
      }
    },
    {
      "cell_type": "code",
      "execution_count": null,
      "metadata": {
        "id": "7sNaLsdAQPDo"
      },
      "outputs": [],
      "source": [
        "import pandas as pd\n",
        "import numpy as np\n",
        "\n",
        "import seaborn as sns\n",
        "from matplotlib import pyplot as plt\n",
        "%matplotlib inline "
      ]
    },
    {
      "cell_type": "code",
      "source": [
        "data = 'https://raw.githubusercontent.com/alexeygrigorev/datasets/master/housing.csv'\n",
        "!wget $data"
      ],
      "metadata": {
        "colab": {
          "base_uri": "https://localhost:8080/"
        },
        "id": "bI9If0hNQamN",
        "outputId": "143d334b-74f2-44ec-abcb-5dc7ee076d5d"
      },
      "execution_count": null,
      "outputs": [
        {
          "output_type": "stream",
          "name": "stdout",
          "text": [
            "--2022-09-20 00:20:19--  https://raw.githubusercontent.com/alexeygrigorev/datasets/master/housing.csv\n",
            "Resolving raw.githubusercontent.com (raw.githubusercontent.com)... 185.199.108.133, 185.199.109.133, 185.199.110.133, ...\n",
            "Connecting to raw.githubusercontent.com (raw.githubusercontent.com)|185.199.108.133|:443... connected.\n",
            "HTTP request sent, awaiting response... 200 OK\n",
            "Length: 1423529 (1.4M) [text/plain]\n",
            "Saving to: ‘housing.csv’\n",
            "\n",
            "\rhousing.csv           0%[                    ]       0  --.-KB/s               \rhousing.csv         100%[===================>]   1.36M  --.-KB/s    in 0.01s   \n",
            "\n",
            "2022-09-20 00:20:19 (137 MB/s) - ‘housing.csv’ saved [1423529/1423529]\n",
            "\n"
          ]
        }
      ]
    },
    {
      "cell_type": "code",
      "source": [
        "df = pd.read_csv('housing.csv')"
      ],
      "metadata": {
        "id": "YL__j0vGRqA4"
      },
      "execution_count": null,
      "outputs": []
    },
    {
      "cell_type": "code",
      "source": [
        "base = ['latitude',\n",
        "'longitude',\n",
        "'housing_median_age',\n",
        "'total_rooms',\n",
        "'total_bedrooms',\n",
        "'population',\n",
        "'households',\n",
        "'median_income',\n",
        "'median_house_value']\n",
        "\n",
        "df = df[base]\n",
        "\n",
        "df.dtypes"
      ],
      "metadata": {
        "id": "-3K1kmPoyXDF",
        "outputId": "bc2e0fb6-e78e-4e85-ee77-e1627e09c2d2",
        "colab": {
          "base_uri": "https://localhost:8080/"
        }
      },
      "execution_count": null,
      "outputs": [
        {
          "output_type": "execute_result",
          "data": {
            "text/plain": [
              "latitude              float64\n",
              "longitude             float64\n",
              "housing_median_age    float64\n",
              "total_rooms           float64\n",
              "total_bedrooms        float64\n",
              "population            float64\n",
              "households            float64\n",
              "median_income         float64\n",
              "median_house_value    float64\n",
              "dtype: object"
            ]
          },
          "metadata": {},
          "execution_count": 5
        }
      ]
    },
    {
      "cell_type": "code",
      "source": [
        "sns.histplot(df.median_house_value, bins = 50)"
      ],
      "metadata": {
        "id": "lqObehjvBwsS",
        "outputId": "377344b0-0f83-45c3-8470-f9504389eb99",
        "colab": {
          "base_uri": "https://localhost:8080/",
          "height": 297
        }
      },
      "execution_count": null,
      "outputs": [
        {
          "output_type": "execute_result",
          "data": {
            "text/plain": [
              "<matplotlib.axes._subplots.AxesSubplot at 0x7fb4f4aadfd0>"
            ]
          },
          "metadata": {},
          "execution_count": 6
        },
        {
          "output_type": "display_data",
          "data": {
            "text/plain": [
              "<Figure size 432x288 with 1 Axes>"
            ],
            "image/png": "[encoded data removed]"
          },
          "metadata": {
            "needs_background": "light"
          }
        }
      ]
    },
    {
      "cell_type": "markdown",
      "source": [
        "#Q1\n",
        "Find a feature with missing values. How many missing values does it have?\n",
        "\n",
        "a. 207\n",
        "b. 307\n",
        "c. 408\n",
        "d. 508"
      ],
      "metadata": {
        "id": "Sk-b7blqQr2K"
      }
    },
    {
      "cell_type": "code",
      "source": [
        "df.isnull().sum()"
      ],
      "metadata": {
        "colab": {
          "base_uri": "https://localhost:8080/"
        },
        "id": "JG6Qp8WzQddZ",
        "outputId": "46a8adaa-3638-43f0-8907-e66c62de8638"
      },
      "execution_count": null,
      "outputs": [
        {
          "output_type": "execute_result",
          "data": {
            "text/plain": [
              "latitude                0\n",
              "longitude               0\n",
              "housing_median_age      0\n",
              "total_rooms             0\n",
              "total_bedrooms        207\n",
              "population              0\n",
              "households              0\n",
              "median_income           0\n",
              "median_house_value      0\n",
              "dtype: int64"
            ]
          },
          "metadata": {},
          "execution_count": 7
        }
      ]
    },
    {
      "cell_type": "markdown",
      "source": [
        "# Q2\n",
        "What's the median (50% percentile) for variable 'population'?\n",
        "\n",
        "a. 1133\n",
        "b. 1122\n",
        "c. 1166\n",
        "d. 1188"
      ],
      "metadata": {
        "id": "JXki94gzQzuW"
      }
    },
    {
      "cell_type": "code",
      "source": [
        "df['population'].median()"
      ],
      "metadata": {
        "colab": {
          "base_uri": "https://localhost:8080/"
        },
        "id": "2gLRPduEQ3e5",
        "outputId": "cf8c62de-a53a-4599-e408-a0291f073edc"
      },
      "execution_count": null,
      "outputs": [
        {
          "output_type": "execute_result",
          "data": {
            "text/plain": [
              "1166.0"
            ]
          },
          "metadata": {},
          "execution_count": 8
        }
      ]
    },
    {
      "cell_type": "markdown",
      "source": [
        "#Split the data\n",
        "Shuffle the initial dataset, use seed 42.\n",
        "Split your data in train/val/test sets, with 60%/20%/20% distribution.\n",
        "Make sure that the target value ('median_house_value') is not in your dataframe.\n",
        "Apply the log transformation to the median_house_value variable using the np.log1p() function."
      ],
      "metadata": {
        "id": "5Sg36yV3Q39e"
      }
    },
    {
      "cell_type": "code",
      "source": [
        "np.random.seed(42)"
      ],
      "metadata": {
        "id": "Jq5qvS6WUaoT"
      },
      "execution_count": null,
      "outputs": []
    },
    {
      "cell_type": "code",
      "source": [
        "n = len(df)\n",
        "n"
      ],
      "metadata": {
        "colab": {
          "base_uri": "https://localhost:8080/"
        },
        "id": "z_Fypx0bUeXN",
        "outputId": "00de2ae0-bbe0-4679-ff0c-9ed78f89c69b"
      },
      "execution_count": null,
      "outputs": [
        {
          "output_type": "execute_result",
          "data": {
            "text/plain": [
              "20640"
            ]
          },
          "metadata": {},
          "execution_count": 41
        }
      ]
    },
    {
      "cell_type": "code",
      "source": [
        "# Creating a \n",
        "n_val = int(n * 0.2)\n",
        "n_test = int(n * 0.2)\n",
        "n_train = n - n_val - n_test \n",
        "\n",
        "n, n_val + n_test + n_train #Sanity Check"
      ],
      "metadata": {
        "id": "NE-qWB3gTYSL",
        "colab": {
          "base_uri": "https://localhost:8080/"
        },
        "outputId": "75a7bd1a-2e46-4dfa-a568-47b512c4a420"
      },
      "execution_count": null,
      "outputs": [
        {
          "output_type": "execute_result",
          "data": {
            "text/plain": [
              "(20640, 20640)"
            ]
          },
          "metadata": {},
          "execution_count": 42
        }
      ]
    },
    {
      "cell_type": "code",
      "source": [
        "idx = np.arange(n)\n",
        "np.random.shuffle(idx) \n",
        "idx"
      ],
      "metadata": {
        "colab": {
          "base_uri": "https://localhost:8080/"
        },
        "id": "D7S0_ooMUSce",
        "outputId": "cd4c9f44-e1ea-423b-d7e2-c373ae7b392e"
      },
      "execution_count": null,
      "outputs": [
        {
          "output_type": "execute_result",
          "data": {
            "text/plain": [
              "array([20046,  3024, 15663, ...,  5390,   860, 15795])"
            ]
          },
          "metadata": {},
          "execution_count": 43
        }
      ]
    },
    {
      "cell_type": "code",
      "source": [
        "df_train = df.iloc[idx[:n_train]]\n",
        "df_val = df.iloc[idx[n_train:n_train + n_val]] \n",
        "df_test = df.iloc[idx[n_train + n_val:]]\n",
        "#Sanity check\n",
        "split_total = len(df_train) + len(df_val) + len(df_test) \n",
        "split = len(df_train), len(df_val), len(df_test)\n",
        "\n",
        "split_total, split"
      ],
      "metadata": {
        "colab": {
          "base_uri": "https://localhost:8080/"
        },
        "id": "EAJWCrk21s0H",
        "outputId": "42ce266f-2606-4bc1-e167-e5f3640dc57b"
      },
      "execution_count": null,
      "outputs": [
        {
          "output_type": "execute_result",
          "data": {
            "text/plain": [
              "(20640, (12384, 4128, 4128))"
            ]
          },
          "metadata": {},
          "execution_count": 44
        }
      ]
    },
    {
      "cell_type": "code",
      "source": [
        "y_train = np.log1p(df_train.median_house_value.values)\n",
        "y_val = np.log1p(df_val.median_house_value.values)\n",
        "y_test = np.log1p(df_test.median_house_value.values)"
      ],
      "metadata": {
        "id": "hwqo9J9gEwcW"
      },
      "execution_count": null,
      "outputs": []
    },
    {
      "cell_type": "code",
      "source": [
        "del df_train['median_house_value']\n",
        "del df_val['median_house_value']\n",
        "del df_test['median_house_value']"
      ],
      "metadata": {
        "id": "v8UUPXH3Ek9q"
      },
      "execution_count": null,
      "outputs": []
    },
    {
      "cell_type": "code",
      "source": [
        "df_train.columns"
      ],
      "metadata": {
        "colab": {
          "base_uri": "https://localhost:8080/"
        },
        "id": "2K3A8CRYXdOo",
        "outputId": "b5e07d17-8fc3-439a-d298-bbf45c87468a"
      },
      "execution_count": null,
      "outputs": [
        {
          "output_type": "execute_result",
          "data": {
            "text/plain": [
              "Index(['latitude', 'longitude', 'housing_median_age', 'total_rooms',\n",
              "       'total_bedrooms', 'population', 'households', 'median_income'],\n",
              "      dtype='object')"
            ]
          },
          "metadata": {},
          "execution_count": 47
        }
      ]
    },
    {
      "cell_type": "code",
      "source": [
        "df_val.columns"
      ],
      "metadata": {
        "colab": {
          "base_uri": "https://localhost:8080/"
        },
        "id": "1G96I3noXptn",
        "outputId": "d6ffbfec-0075-4b56-9083-57903d65ffbf"
      },
      "execution_count": null,
      "outputs": [
        {
          "output_type": "execute_result",
          "data": {
            "text/plain": [
              "Index(['latitude', 'longitude', 'housing_median_age', 'total_rooms',\n",
              "       'total_bedrooms', 'population', 'households', 'median_income'],\n",
              "      dtype='object')"
            ]
          },
          "metadata": {},
          "execution_count": 48
        }
      ]
    },
    {
      "cell_type": "code",
      "source": [
        "df_test.columns"
      ],
      "metadata": {
        "colab": {
          "base_uri": "https://localhost:8080/"
        },
        "id": "DuV1cUoVXt0y",
        "outputId": "16a721d2-d68f-483d-ce4e-b84309c22225"
      },
      "execution_count": null,
      "outputs": [
        {
          "output_type": "execute_result",
          "data": {
            "text/plain": [
              "Index(['latitude', 'longitude', 'housing_median_age', 'total_rooms',\n",
              "       'total_bedrooms', 'population', 'households', 'median_income'],\n",
              "      dtype='object')"
            ]
          },
          "metadata": {},
          "execution_count": 49
        }
      ]
    },
    {
      "cell_type": "code",
      "source": [
        "# origional data remains intact\n",
        "df.columns"
      ],
      "metadata": {
        "colab": {
          "base_uri": "https://localhost:8080/"
        },
        "id": "p0Gka9JLVe4f",
        "outputId": "e36664b0-5652-4c2a-c67d-cd37a299384e"
      },
      "execution_count": null,
      "outputs": [
        {
          "output_type": "execute_result",
          "data": {
            "text/plain": [
              "Index(['latitude', 'longitude', 'housing_median_age', 'total_rooms',\n",
              "       'total_bedrooms', 'population', 'households', 'median_income',\n",
              "       'median_house_value'],\n",
              "      dtype='object')"
            ]
          },
          "metadata": {},
          "execution_count": 50
        }
      ]
    },
    {
      "cell_type": "markdown",
      "source": [
        "#Q3\n",
        "* We need to deal with missing values for the column from Q1.\n",
        "* We have two options: fill it with 0 or with the mean of this variable.\n",
        "* Try both options. For each, train a linear regression model without regularization using the code from the lessons.\n",
        "* For computing the mean, use the training only!\n",
        "* Use the validation dataset to evaluate the models and compare the RMSE of each option.\n",
        "* Round the RMSE scores to 2 decimal digits using round(score, 2)\n",
        "Which option gives better RMSE?\n",
        "\n",
        "Options:\n",
        "\n",
        "a. With 0\n",
        "b. With mean\n",
        "c. Both are equally good"
      ],
      "metadata": {
        "id": "jymGpLgaRBnO"
      }
    },
    {
      "cell_type": "markdown",
      "source": [
        "## Mean"
      ],
      "metadata": {
        "id": "vo8_qMQ0LzNj"
      }
    },
    {
      "cell_type": "code",
      "source": [
        " missing = df.isnull().sum()[df.isnull().sum() > 0]\n",
        " missing"
      ],
      "metadata": {
        "colab": {
          "base_uri": "https://localhost:8080/"
        },
        "id": "lEJCDjusX5Ht",
        "outputId": "aa0d1259-2bba-4255-f995-565596f5e0d6"
      },
      "execution_count": null,
      "outputs": [
        {
          "output_type": "execute_result",
          "data": {
            "text/plain": [
              "total_bedrooms    207\n",
              "dtype: int64"
            ]
          },
          "metadata": {},
          "execution_count": 56
        }
      ]
    },
    {
      "cell_type": "code",
      "source": [
        "def train_linear_regression(X, y):\n",
        "  ones = np.ones(X.shape[0])\n",
        "  X = np.column_stack([ones, X])\n",
        "  \n",
        "  XTX = X.T.dot(X)\n",
        "  XTX_inv = np.linalg.inv(XTX)\n",
        "  w_full = XTX_inv.dot(X.T).dot(y)\n",
        "\n",
        "  return w_full[0], w_full[1:]"
      ],
      "metadata": {
        "id": "QWjysD7nrsKu"
      },
      "execution_count": null,
      "outputs": []
    },
    {
      "cell_type": "code",
      "source": [
        "def rmse(y, y_pred):\n",
        "  error = y - y_pred\n",
        "  se = error ** 2\n",
        "  mse = se.mean()\n",
        "  return np.sqrt(mse)"
      ],
      "metadata": {
        "id": "W2yz96Qd4qnz"
      },
      "execution_count": null,
      "outputs": []
    },
    {
      "cell_type": "code",
      "source": [
        "X_mean = df_val.copy()\n",
        "X_mean = X_mean.fillna(df_train.mean)"
      ],
      "metadata": {
        "id": "_SyGaKaURIcK"
      },
      "execution_count": null,
      "outputs": []
    },
    {
      "cell_type": "code",
      "source": [
        "w0, tlr_mean = train_linear_regression(X_mean, y_val)\n",
        "w0, tlr_mean"
      ],
      "metadata": {
        "id": "zDex63Sfr9oG",
        "outputId": "48287e7b-0a9f-4453-bc39-a2e8d040880e",
        "colab": {
          "base_uri": "https://localhost:8080/"
        }
      },
      "execution_count": null,
      "outputs": [
        {
          "output_type": "execute_result",
          "data": {
            "text/plain": [
              "(-11.921458708149999,\n",
              " array([-2.82955852e-01, -2.77803590e-01,  3.82949787e-03, -4.11044539e-05,\n",
              "         5.86610608e-04, -1.87359492e-04,  2.34267255e-04,  1.81648046e-01]))"
            ]
          },
          "metadata": {},
          "execution_count": 73
        }
      ]
    },
    {
      "cell_type": "code",
      "source": [
        "y_pred_mean = w0 + df_val.dot(tlr_mean)\n",
        "y_pred_mean"
      ],
      "metadata": {
        "id": "Z5NjqH-c4IF9",
        "outputId": "6a0ef592-8639-491d-8b64-daed0a75e25e",
        "colab": {
          "base_uri": "https://localhost:8080/"
        }
      },
      "execution_count": null,
      "outputs": [
        {
          "output_type": "execute_result",
          "data": {
            "text/plain": [
              "19660    11.427117\n",
              "4415     12.084925\n",
              "18113    12.657374\n",
              "17673    12.105021\n",
              "16992    12.644953\n",
              "           ...    \n",
              "20011    11.462130\n",
              "12225    11.509373\n",
              "1051     11.662858\n",
              "14519    12.156162\n",
              "11410    12.249788\n",
              "Length: 4128, dtype: float64"
            ]
          },
          "metadata": {},
          "execution_count": 75
        }
      ]
    },
    {
      "cell_type": "code",
      "source": [
        "rmse_mean = rmse(y_val, y_pred_mean)\n",
        "rmse_mean"
      ],
      "metadata": {
        "id": "tCmoF_-x4sSt",
        "outputId": "dba61ab8-ad48-46b1-ccc3-1eab392a5601",
        "colab": {
          "base_uri": "https://localhost:8080/"
        }
      },
      "execution_count": null,
      "outputs": [
        {
          "output_type": "execute_result",
          "data": {
            "text/plain": [
              "0.3280072928851643"
            ]
          },
          "metadata": {},
          "execution_count": 78
        }
      ]
    },
    {
      "cell_type": "code",
      "source": [
        "round(rmse_mean, 2)"
      ],
      "metadata": {
        "colab": {
          "base_uri": "https://localhost:8080/"
        },
        "id": "iHtCKtsnacXf",
        "outputId": "64e59410-bda9-42df-ecae-527051c51599"
      },
      "execution_count": null,
      "outputs": [
        {
          "output_type": "execute_result",
          "data": {
            "text/plain": [
              "0.33"
            ]
          },
          "metadata": {},
          "execution_count": 79
        }
      ]
    },
    {
      "cell_type": "markdown",
      "source": [
        "## Zeroes"
      ],
      "metadata": {
        "id": "pwI20hylL3Ew"
      }
    },
    {
      "cell_type": "code",
      "source": [
        "X0 = df_val.copy()\n",
        "X0 = X0.fillna(0)"
      ],
      "metadata": {
        "id": "y9R4jhaXr21m"
      },
      "execution_count": null,
      "outputs": []
    },
    {
      "cell_type": "code",
      "source": [
        "w0, tlr_0 = train_linear_regression(X0, y_val)\n",
        "w0, tlr_0"
      ],
      "metadata": {
        "colab": {
          "base_uri": "https://localhost:8080/"
        },
        "id": "7O2lvGCgL2Xi",
        "outputId": "d1bb7de8-9a0e-43c7-f118-2bb8552e0489"
      },
      "execution_count": null,
      "outputs": [
        {
          "output_type": "execute_result",
          "data": {
            "text/plain": [
              "(-11.921458708149999,\n",
              " array([-2.82955852e-01, -2.77803590e-01,  3.82949787e-03, -4.11044539e-05,\n",
              "         5.86610608e-04, -1.87359492e-04,  2.34267255e-04,  1.81648046e-01]))"
            ]
          },
          "metadata": {},
          "execution_count": 60
        }
      ]
    },
    {
      "cell_type": "code",
      "source": [
        "y_pred_0 = w0 + df_val.dot(tlr_0)\n",
        "y_pred_0"
      ],
      "metadata": {
        "colab": {
          "base_uri": "https://localhost:8080/"
        },
        "id": "45cNNrqQMThh",
        "outputId": "2fdc1e39-7512-4322-bf15-8ee7df4ddae9"
      },
      "execution_count": null,
      "outputs": [
        {
          "output_type": "execute_result",
          "data": {
            "text/plain": [
              "19660    11.427117\n",
              "4415     12.084925\n",
              "18113    12.657374\n",
              "17673    12.105021\n",
              "16992    12.644953\n",
              "           ...    \n",
              "20011    11.462130\n",
              "12225    11.509373\n",
              "1051     11.662858\n",
              "14519    12.156162\n",
              "11410    12.249788\n",
              "Length: 4128, dtype: float64"
            ]
          },
          "metadata": {},
          "execution_count": 62
        }
      ]
    },
    {
      "cell_type": "code",
      "source": [
        "rmse_0 = rmse(y_val, y_pred_0)\n",
        "rmse_0"
      ],
      "metadata": {
        "colab": {
          "base_uri": "https://localhost:8080/"
        },
        "id": "LNGtnxBjMPhm",
        "outputId": "c83e00ad-cb17-4083-ce7c-259aa34356a0"
      },
      "execution_count": null,
      "outputs": [
        {
          "output_type": "execute_result",
          "data": {
            "text/plain": [
              "0.3280072928851643"
            ]
          },
          "metadata": {},
          "execution_count": 65
        }
      ]
    },
    {
      "cell_type": "code",
      "source": [
        "round(rmse_0, 2)"
      ],
      "metadata": {
        "colab": {
          "base_uri": "https://localhost:8080/"
        },
        "id": "Yngb0n_QZGmS",
        "outputId": "7c92a792-7016-4f82-eb62-cd6085add3bd"
      },
      "execution_count": null,
      "outputs": [
        {
          "output_type": "execute_result",
          "data": {
            "text/plain": [
              "0.33"
            ]
          },
          "metadata": {},
          "execution_count": 66
        }
      ]
    },
    {
      "cell_type": "markdown",
      "source": [
        "#Question 4\n",
        "Now let's train a regularized linear regression.\n",
        "For this question, fill the NAs with 0.\n",
        "Try different values of r from this list: [0, 0.000001, 0.0001, 0.001, 0.01, 0.1, 1, 5, 10].\n",
        "Use RMSE to evaluate the model on the validation dataset.\n",
        "Round the RMSE scores to 2 decimal digits.\n",
        "Which r gives the best RMSE?\n",
        "If there are multiple options, select the smallest r.\n",
        "\n",
        "Options:\n",
        "\n",
        "a. 0\n",
        "b. 0.000001\n",
        "c. 0.001\n",
        "d. 0.0001"
      ],
      "metadata": {
        "id": "MMH9mDRFRLXp"
      }
    },
    {
      "cell_type": "code",
      "source": [
        "def train_linear_regression_reg(X, y, r=0.001):\n",
        "    ones = np.ones(X.shape[0])\n",
        "    X = np.column_stack([ones, X])\n",
        "\n",
        "    XTX = X.T.dot(X)\n",
        "    XTX = XTX + r * np.eye(XTX.shape[0])\n",
        "\n",
        "    XTX_inv = np.linalg.inv(XTX)\n",
        "    w_full = XTX_inv.dot(X.T).dot(y)\n",
        "    \n",
        "    return w_full[0], w_full[1:]"
      ],
      "metadata": {
        "id": "BHtntigCRSj3"
      },
      "execution_count": null,
      "outputs": []
    },
    {
      "cell_type": "code",
      "source": [
        "def rmse(y, y_pred):\n",
        "  error = y - y_pred\n",
        "  se = error ** 2\n",
        "  mse = se.mean()\n",
        "  return np.sqrt(mse)"
      ],
      "metadata": {
        "id": "RSGvJ6R-cT5T"
      },
      "execution_count": null,
      "outputs": []
    },
    {
      "cell_type": "code",
      "source": [
        "def prepare_X(df):\n",
        "    df_num = df_train.copy()\n",
        "    df_num = df_num.fillna(0)\n",
        "    X = df_num.values\n",
        "    return X"
      ],
      "metadata": {
        "id": "T3uS3N0SgLs_"
      },
      "execution_count": null,
      "outputs": []
    },
    {
      "cell_type": "code",
      "source": [
        "for r in [0, 0.000001, 0.0001, 0.001, 0.01, 0.1, 1, 5, 10]:\n",
        "    x_train = prepare_X(df_train)\n",
        "    w0, w = train_linear_regression_reg(x_train, y_train, r=r)\n",
        "\n",
        "    X_val = prepare_X(df_val)\n",
        "    y_pred = w0 + X0.dot(w)\n",
        "    score = rmse(y_val, y_pred)\n",
        "\n",
        "    print(r, w0, round(score, 2))\n",
        "    print()"
      ],
      "metadata": {
        "colab": {
          "base_uri": "https://localhost:8080/"
        },
        "id": "3dcqxfmAcMIi",
        "outputId": "9ace99f4-3db6-4a49-c0c0-14725a9cf27d"
      },
      "execution_count": null,
      "outputs": [
        {
          "output_type": "stream",
          "name": "stdout",
          "text": [
            "0 -11.686975241808469 0.33\n",
            "\n",
            "1e-06 -11.686959175857494 0.33\n",
            "\n",
            "0.0001 -11.685368865259061 0.33\n",
            "\n",
            "0.001 -11.670931318158033 0.33\n",
            "\n",
            "0.01 -11.528493585707224 0.33\n",
            "\n",
            "0.1 -10.274500281964695 0.33\n",
            "\n",
            "1 -4.920480897816711 0.33\n",
            "\n",
            "5 -1.4820957455971928 0.34\n",
            "\n",
            "10 -0.7899311832023754 0.34\n",
            "\n"
          ]
        }
      ]
    },
    {
      "cell_type": "markdown",
      "source": [
        "#Question 5\n",
        "We used seed 42 for splitting the data. Let's find out how selecting the seed influences our score.\n",
        "Try different seed values: [0, 1, 2, 3, 4, 5, 6, 7, 8, 9].\n",
        "For each seed, do the train/validation/test split with 60%/20%/20% distribution.\n",
        "Fill the missing values with 0 and train a model without regularization.\n",
        "For each seed, evaluate the model on the validation dataset and collect the RMSE scores.\n",
        "What's the standard deviation of all the scores? To compute the standard deviation, use np.std.\n",
        "Round the result to 3 decimal digits (round(std, 3))\n",
        "Note: Standard deviation shows how different the values are. If it's low, then all values are approximately the same. If it's high, the values are different. If standard deviation of scores is low, then our model is stable.\n",
        "\n",
        "Options:\n",
        "\n",
        "a. 0.16\n",
        "b. 0.00005\n",
        "c. 0.005\n",
        "d. 0.15555"
      ],
      "metadata": {
        "id": "xT53RWnhRX07"
      }
    },
    {
      "cell_type": "code",
      "source": [
        "rmse_list = []"
      ],
      "metadata": {
        "id": "5EP66NEDQVuN"
      },
      "execution_count": 55,
      "outputs": []
    },
    {
      "cell_type": "code",
      "source": [
        "for s in [0, 1, 2, 3, 4, 5, 6, 7, 8, 9]:\n",
        "  np.random.seed(s)\n",
        "\n",
        "  n_val = int(n * 0.2)\n",
        "  n_test = int(n * 0.2)\n",
        "  n_train = n - n_val - n_test \n",
        "\n",
        "  idx = np.arange(n)\n",
        "  np.random.shuffle(idx) \n",
        "\n",
        "  df_train = df.iloc[idx[:n_train]]\n",
        "  df_val = df.iloc[idx[n_train:n_train + n_val]] \n",
        "  df_test = df.iloc[idx[n_train + n_val:]]\n",
        "\n",
        "  y_train = np.log1p(df_train.median_house_value.values)\n",
        "  y_val = np.log1p(df_val.median_house_value.values)\n",
        "  y_test = np.log1p(df_test.median_house_value.values)\n",
        "\n",
        "  del df_train['median_house_value']\n",
        "  del df_val['median_house_value']\n",
        "  del df_test['median_house_value']\n",
        "\n",
        "  X0 = df_val.copy()\n",
        "  X0 = X0.fillna(0)\n",
        "\n",
        "  w0, tlr_0 = train_linear_regression(X0, y_val)\n",
        "\n",
        "  y_pred_0 = w0 + df_val.dot(tlr_0)\n",
        "\n",
        "  rmse_0 = rmse(y_val, y_pred_0)\n",
        "\n",
        "  rmse_result = rmse_0\n",
        "  rmse_list.append(rmse_result)\n",
        "rmse_array = np.array(rmse_list)\n",
        "rmse_std = round(np.std(rmse_array), 3)\n",
        "print(rmse_std)"
      ],
      "metadata": {
        "id": "IDM1fR9jRZYK",
        "outputId": "b7acad45-ca5c-4c59-fb18-6bd111f4bec9",
        "colab": {
          "base_uri": "https://localhost:8080/"
        }
      },
      "execution_count": 57,
      "outputs": [
        {
          "output_type": "stream",
          "name": "stdout",
          "text": [
            "0.004\n"
          ]
        }
      ]
    },
    {
      "cell_type": "markdown",
      "source": [
        "#Question 6\n",
        "Split the dataset like previously, use seed 9.\n",
        "Combine train and validation datasets.\n",
        "Fill the missing values with 0 and train a model with r=0.001.\n",
        "What's the RMSE on the test dataset?\n",
        "Options:\n",
        "\n",
        "a. 0.35\n",
        "b. 0.135\n",
        "c. 0.450\n",
        "d. 0.245"
      ],
      "metadata": {
        "id": "fyK5jeyVRZn6"
      }
    },
    {
      "cell_type": "code",
      "source": [
        "def train_linear_regression_reg(X, y, r=0.001):\n",
        "    ones = np.ones(X.shape[0])\n",
        "    X = np.column_stack([ones, X])\n",
        "\n",
        "    XTX = X.T.dot(X)\n",
        "    XTX = XTX + r * np.eye(XTX.shape[0])\n",
        "\n",
        "    XTX_inv = np.linalg.inv(XTX)\n",
        "    w_full = XTX_inv.dot(X.T).dot(y)\n",
        "    \n",
        "    return w_full[0], w_full[1:]"
      ],
      "metadata": {
        "id": "MbW_EXH5T8OD"
      },
      "execution_count": 60,
      "outputs": []
    },
    {
      "cell_type": "code",
      "source": [
        "np.random.seed(9)\n",
        "\n",
        "n = len(df)\n",
        "\n",
        "n_test = int(n * 0.2)\n",
        "n_train = n - n_test \n",
        "\n",
        "idx = np.arange(n)\n",
        "np.random.shuffle(idx) \n",
        "\n",
        "df_train = df.iloc[idx[:n_train]]\n",
        "df_test = df.iloc[idx[n_train:]]\n",
        "\n",
        "y_train = np.log1p(df_train.median_house_value.values)\n",
        "y_test = np.log1p(df_test.median_house_value.values)\n",
        "\n",
        "del df_train['median_house_value']\n",
        "del df_test['median_house_value']\n",
        "\n",
        "X_train = df_train.copy()\n",
        "X_train = X_train.fillna(0)\n",
        "\n",
        "w0, tlr_0 = train_linear_regression_reg(X_train, y_train, r=0.001)\n",
        "\n",
        "y_pred_0 = w0 + df_train.dot(tlr_0)\n",
        "\n",
        "rmse_0 = rmse(y_train, y_pred_0)\n",
        "\n",
        "print(round(rmse_0,3))"
      ],
      "metadata": {
        "id": "-xJPjXYARc9H",
        "outputId": "480e4ee4-ee9f-4655-faf8-66993eacbe20",
        "colab": {
          "base_uri": "https://localhost:8080/"
        }
      },
      "execution_count": 66,
      "outputs": [
        {
          "output_type": "stream",
          "name": "stdout",
          "text": [
            "0.34\n"
          ]
        }
      ]
    },
    {
      "cell_type": "markdown",
      "source": [
        "Submit the results\n",
        "Submit your results here: https://forms.gle/WCVb4KMNsgbkuJtr6\n",
        "If your answer doesn't match options exactly, select the closest one.\n",
        "You can submit your solution multiple times. In this case, only the last submission will be used\n",
        "Deadline\n",
        "The deadline for submitting is, 19 September 2022, 23:00 CET. After that, the form will be closed."
      ],
      "metadata": {
        "id": "zgdVTct7Rdbs"
      }
    }
  ]
}
