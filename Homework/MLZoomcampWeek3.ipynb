{
  "nbformat": 4,
  "nbformat_minor": 0,
  "metadata": {
    "colab": {
      "provenance": [],
      "authorship_tag": "ABX9TyOH27Kl+rUjGkP0Jina5mjx",
      "include_colab_link": true
    },
    "kernelspec": {
      "name": "python3",
      "display_name": "Python 3"
    },
    "language_info": {
      "name": "python"
    }
  },
  "cells": [
    {
      "cell_type": "markdown",
      "metadata": {
        "id": "view-in-github",
        "colab_type": "text"
      },
      "source": [
        "<a href=\"https://colab.research.google.com/github/gregorywmorris/MLZoom2022/blob/main/Homework/MLZoomcampWeek3.ipynb\" target=\"_parent\"><img src=\"https://colab.research.google.com/assets/colab-badge.svg\" alt=\"Open In Colab\"/></a>"
      ]
    },
    {
      "cell_type": "markdown",
      "source": [
        "#Week 3 HW"
      ],
      "metadata": {
        "id": "ARTjbIW3GrcO"
      }
    },
    {
      "cell_type": "markdown",
      "source": [
        "Homework\n",
        "Note: sometimes your answer doesn't match one of the options exactly. That's fine. Select the option that's closest to your solution.\n",
        "\n",
        "Dataset\n",
        "In this homework, we will use the California Housing Prices data from Kaggle.\n",
        "\n",
        "Here's a wget-able link:\n",
        "\n",
        "wget https://raw.githubusercontent.com/alexeygrigorev/datasets/master/housing.csv\n",
        "We'll keep working with the 'median_house_value' variable, and we'll transform it to a classification task.\n",
        "\n",
        "\n",
        "# Features\n",
        "For the rest of the homework, you'll need to use only these columns:\n",
        "\n",
        "* 'latitude',\n",
        "* 'longitude',\n",
        "* 'housing_median_age',\n",
        "* 'total_rooms',\n",
        "* 'total_bedrooms',\n",
        "* 'population',\n",
        "* 'households',\n",
        "* 'median_income',\n",
        "* 'median_house_value',\n",
        "* 'ocean_proximity'"
      ],
      "metadata": {
        "id": "ei1Y6hSPCi82"
      }
    },
    {
      "cell_type": "code",
      "source": [
        "import pandas as pd \n",
        "import numpy as np \n",
        "\n",
        "import seaborn as sns\n",
        "from matplotlib import pyplot as pyplot\n",
        "%matplotlib inline"
      ],
      "metadata": {
        "id": "AYuLIDRaHOeW"
      },
      "execution_count": 193,
      "outputs": []
    },
    {
      "cell_type": "code",
      "source": [
        "data = 'https://raw.githubusercontent.com/alexeygrigorev/datasets/master/housing.csv'\n",
        "!wget $data -O data.csv "
      ],
      "metadata": {
        "colab": {
          "base_uri": "https://localhost:8080/"
        },
        "id": "17ZdBDyjGzq8",
        "outputId": "5e6a3c22-32fe-453e-a328-4698fa7d78d6"
      },
      "execution_count": 194,
      "outputs": [
        {
          "output_type": "stream",
          "name": "stdout",
          "text": [
            "--2022-09-26 01:31:20--  https://raw.githubusercontent.com/alexeygrigorev/datasets/master/housing.csv\n",
            "Resolving raw.githubusercontent.com (raw.githubusercontent.com)... 185.199.110.133, 185.199.109.133, 185.199.111.133, ...\n",
            "Connecting to raw.githubusercontent.com (raw.githubusercontent.com)|185.199.110.133|:443... connected.\n",
            "HTTP request sent, awaiting response... 200 OK\n",
            "Length: 1423529 (1.4M) [text/plain]\n",
            "Saving to: ‘data.csv’\n",
            "\n",
            "data.csv            100%[===================>]   1.36M  --.-KB/s    in 0.1s    \n",
            "\n",
            "2022-09-26 01:31:20 (10.7 MB/s) - ‘data.csv’ saved [1423529/1423529]\n",
            "\n"
          ]
        }
      ]
    },
    {
      "cell_type": "code",
      "source": [
        "df = pd.read_csv('data.csv') "
      ],
      "metadata": {
        "id": "JTOmZf9hHFUj"
      },
      "execution_count": 195,
      "outputs": []
    },
    {
      "cell_type": "markdown",
      "source": [
        "# Data preparation\n",
        "Select only the features from above and fill in the missing values with 0.\n",
        "Create a new column rooms_per_household by dividing the column total_rooms by the column households from dataframe.\n",
        "Create a new column bedrooms_per_room by dividing the column total_bedrooms by the column total_rooms from dataframe.\n",
        "Create a new column population_per_household by dividing the column population by the column households from dataframe.\n",
        "\n",
        "\n",
        "\n",
        "\n",
        "\n",
        "\n",
        "\n"
      ],
      "metadata": {
        "id": "3eHQty4kCjIU"
      }
    },
    {
      "cell_type": "code",
      "source": [
        "df.columns = df.columns.str.lower().str.replace(' ', '_')\n",
        "\n",
        "categorical_columns = list(df.dtypes[df.dtypes == 'object'].index)\n",
        "\n",
        "for c in categorical_columns:\n",
        "  df[c] = df[c].str.lower().str.replace(' ', '_')\n",
        "\n",
        "df.dtypes"
      ],
      "metadata": {
        "colab": {
          "base_uri": "https://localhost:8080/"
        },
        "id": "LbiDPcKGH7Ny",
        "outputId": "cd4b5a6c-9c90-4c74-dd22-158974f12d24"
      },
      "execution_count": 196,
      "outputs": [
        {
          "output_type": "execute_result",
          "data": {
            "text/plain": [
              "longitude             float64\n",
              "latitude              float64\n",
              "housing_median_age    float64\n",
              "total_rooms           float64\n",
              "total_bedrooms        float64\n",
              "population            float64\n",
              "households            float64\n",
              "median_income         float64\n",
              "median_house_value    float64\n",
              "ocean_proximity        object\n",
              "dtype: object"
            ]
          },
          "metadata": {},
          "execution_count": 196
        }
      ]
    },
    {
      "cell_type": "code",
      "source": [
        "df = df.copy()\n",
        "df = df.fillna(0)\n",
        "df.isnull().sum()"
      ],
      "metadata": {
        "colab": {
          "base_uri": "https://localhost:8080/"
        },
        "id": "rJYG2XKOKCj6",
        "outputId": "353e2091-4632-48a8-d4f0-b67090154438"
      },
      "execution_count": 197,
      "outputs": [
        {
          "output_type": "execute_result",
          "data": {
            "text/plain": [
              "longitude             0\n",
              "latitude              0\n",
              "housing_median_age    0\n",
              "total_rooms           0\n",
              "total_bedrooms        0\n",
              "population            0\n",
              "households            0\n",
              "median_income         0\n",
              "median_house_value    0\n",
              "ocean_proximity       0\n",
              "dtype: int64"
            ]
          },
          "metadata": {},
          "execution_count": 197
        }
      ]
    },
    {
      "cell_type": "code",
      "source": [
        "df['rooms_per_household'] = df.total_rooms / df.households\n",
        "df['bedrooms_per_room'] = df.total_bedrooms / df.total_rooms\n",
        "df['population_per_household'] =  df.population / df.households\n",
        "df.columns"
      ],
      "metadata": {
        "colab": {
          "base_uri": "https://localhost:8080/"
        },
        "id": "cYGOuleKKL9S",
        "outputId": "c8014d58-391f-4776-ca60-8aafdb51b739"
      },
      "execution_count": 198,
      "outputs": [
        {
          "output_type": "execute_result",
          "data": {
            "text/plain": [
              "Index(['longitude', 'latitude', 'housing_median_age', 'total_rooms',\n",
              "       'total_bedrooms', 'population', 'households', 'median_income',\n",
              "       'median_house_value', 'ocean_proximity', 'rooms_per_household',\n",
              "       'bedrooms_per_room', 'population_per_household'],\n",
              "      dtype='object')"
            ]
          },
          "metadata": {},
          "execution_count": 198
        }
      ]
    },
    {
      "cell_type": "markdown",
      "source": [
        "# Question 1\n",
        "What is the most frequent observation (mode) for the column ocean_proximity?\n",
        "\n",
        "<br>Options:\n",
        "\n",
        "* NEAR BAY\n",
        "* **< 1H OCEAN**\n",
        "* INLAND\n",
        "* NEAR OCEAN"
      ],
      "metadata": {
        "id": "nFhHmEOaE2BL"
      }
    },
    {
      "cell_type": "code",
      "source": [
        "df.ocean_proximity.mode()"
      ],
      "metadata": {
        "colab": {
          "base_uri": "https://localhost:8080/"
        },
        "id": "NFHoOWBMKzQi",
        "outputId": "7adb99f3-346d-4793-8c6d-06c6b3ca4ac2"
      },
      "execution_count": 199,
      "outputs": [
        {
          "output_type": "execute_result",
          "data": {
            "text/plain": [
              "0    <1h_ocean\n",
              "dtype: object"
            ]
          },
          "metadata": {},
          "execution_count": 199
        }
      ]
    },
    {
      "cell_type": "markdown",
      "source": [
        "# Split the data\n",
        "* Split your data in train/val/test sets, with 60%/20%/20% distribution.\n",
        "Use Scikit-Learn for that (the train_test_split function) and set the seed to 42.\n",
        "* Make sure that the target value (median_house_value) is not in your dataframe."
      ],
      "metadata": {
        "id": "1tzrbPF7E5ri"
      }
    },
    {
      "cell_type": "code",
      "source": [
        "from sklearn.model_selection import train_test_split\n",
        "from sklearn.feature_extraction import DictVectorizer\n",
        "from sklearn.linear_model import LogisticRegression"
      ],
      "metadata": {
        "id": "FUpK_-qzL1Mp"
      },
      "execution_count": 200,
      "outputs": []
    },
    {
      "cell_type": "code",
      "source": [
        "df['above_average'] = (df.median_house_value > df.median_house_value.mean())\n",
        "df['above_average'] = (df['above_average']==True).astype(int)\n",
        "df['above_average']"
      ],
      "metadata": {
        "id": "lhqQdlOYfBCH",
        "outputId": "b650c597-8818-4d5e-b4b0-c36d98ca63ac",
        "colab": {
          "base_uri": "https://localhost:8080/"
        }
      },
      "execution_count": 201,
      "outputs": [
        {
          "output_type": "execute_result",
          "data": {
            "text/plain": [
              "0        1\n",
              "1        1\n",
              "2        1\n",
              "3        1\n",
              "4        1\n",
              "        ..\n",
              "20635    0\n",
              "20636    0\n",
              "20637    0\n",
              "20638    0\n",
              "20639    0\n",
              "Name: above_average, Length: 20640, dtype: int64"
            ]
          },
          "metadata": {},
          "execution_count": 201
        }
      ]
    },
    {
      "cell_type": "code",
      "source": [
        "df_full_train, df_test = train_test_split(df, test_size=0.2, random_state=42)\n",
        "df_train, df_val = train_test_split(df_full_train, test_size=0.25, random_state=42)"
      ],
      "metadata": {
        "id": "yHw1o3feK-wz"
      },
      "execution_count": 202,
      "outputs": []
    },
    {
      "cell_type": "code",
      "source": [
        "df_train = df_train.reset_index(drop=True)\n",
        "df_val = df_val.reset_index(drop=True)\n",
        "df_test = df_test.reset_index(drop=True)\n",
        "\n",
        "df_full_train = df_full_train.reset_index(drop=True)"
      ],
      "metadata": {
        "id": "6DlF9cCaV5jz"
      },
      "execution_count": 203,
      "outputs": []
    },
    {
      "cell_type": "code",
      "source": [
        "y_train = df_train.above_average.values\n",
        "y_val = df_val.above_average.values\n",
        "y_test = df_test.above_average.values"
      ],
      "metadata": {
        "id": "VqFsWjL7V2vs"
      },
      "execution_count": 204,
      "outputs": []
    },
    {
      "cell_type": "code",
      "source": [
        "del df_train['median_house_value']\n",
        "del df_val['median_house_value']\n",
        "del df_test['median_house_value']"
      ],
      "metadata": {
        "id": "p7NGw_jZV0Vf"
      },
      "execution_count": 205,
      "outputs": []
    },
    {
      "cell_type": "code",
      "source": [
        "del df_train['above_average']\n",
        "del df_val['above_average']\n",
        "del df_test['above_average']"
      ],
      "metadata": {
        "id": "yDTf9kRuesBP"
      },
      "execution_count": 206,
      "outputs": []
    },
    {
      "cell_type": "code",
      "source": [
        "len(df) == len(df_train)+len(df_val)+len(df_test)"
      ],
      "metadata": {
        "colab": {
          "base_uri": "https://localhost:8080/"
        },
        "id": "M80HiD6dLpB7",
        "outputId": "190efe07-cf16-434a-f351-916107c4ce12"
      },
      "execution_count": 207,
      "outputs": [
        {
          "output_type": "execute_result",
          "data": {
            "text/plain": [
              "True"
            ]
          },
          "metadata": {},
          "execution_count": 207
        }
      ]
    },
    {
      "cell_type": "code",
      "source": [
        "df_full_train.above_average.value_counts(normalize=True) # sanity check"
      ],
      "metadata": {
        "id": "j_NwnfnJWEvd",
        "outputId": "58ed0935-3326-46ae-9ba9-1245c1460480",
        "colab": {
          "base_uri": "https://localhost:8080/"
        }
      },
      "execution_count": 208,
      "outputs": [
        {
          "output_type": "execute_result",
          "data": {
            "text/plain": [
              "0    0.592236\n",
              "1    0.407764\n",
              "Name: above_average, dtype: float64"
            ]
          },
          "metadata": {},
          "execution_count": 208
        }
      ]
    },
    {
      "cell_type": "markdown",
      "source": [
        "# Question 2\n",
        "Create the correlation matrix for the numerical features of your train dataset.\n",
        "In a correlation matrix, you compute the correlation coefficient between every pair of features in the dataset.\n",
        "What are the two features that have the biggest correlation in this dataset?\n",
        "\n",
        "<br>Options:\n",
        "\n",
        "* **total_bedrooms and households**\n",
        "* total_bedrooms and total_rooms\n",
        "* population and households\n",
        "* population_per_household and total_rooms"
      ],
      "metadata": {
        "id": "r5IJmiajFArC"
      }
    },
    {
      "cell_type": "code",
      "source": [
        "corr_matrix = df.corr().abs() # absolute value, we want to see the biggest correlation, direction doesn't matter for this question.\n",
        "\n",
        "#the matrix is symmetric so we need to extract upper triangle matrix without diagonal (k = 1)\n",
        "\n",
        "corr_values = (corr_matrix.where(np.triu(np.ones(corr_matrix.shape), k=1).astype(bool)) #<- without .astype(bool) you get an error'Boolean array expected for the condition, not float64'\n",
        "                  .stack() # Formats the data as you see below\n",
        "                  .sort_values(ascending=False) # sorts highest to lowest.\n",
        "                  .head()) \n",
        "\n",
        "#first element of sol series is the pair with the biggest correlation\n",
        "corr_values\n"
      ],
      "metadata": {
        "colab": {
          "base_uri": "https://localhost:8080/"
        },
        "id": "z5hlJt7dS6zR",
        "outputId": "a3e2133b-3c66-48ab-d7c4-a70bb49118ee"
      },
      "execution_count": 209,
      "outputs": [
        {
          "output_type": "execute_result",
          "data": {
            "text/plain": [
              "total_bedrooms  households        0.966507\n",
              "longitude       latitude          0.924664\n",
              "total_rooms     total_bedrooms    0.920196\n",
              "                households        0.918484\n",
              "population      households        0.907222\n",
              "dtype: float64"
            ]
          },
          "metadata": {},
          "execution_count": 209
        }
      ]
    },
    {
      "cell_type": "code",
      "source": [
        "corr_matrix # this is why we use the .triu, notice if we get everying from the upper triangle we don't get duplicates. "
      ],
      "metadata": {
        "colab": {
          "base_uri": "https://localhost:8080/",
          "height": 501
        },
        "id": "VJQxsUW9T_2E",
        "outputId": "b2b6401b-9572-410e-8c03-cbfe41761e4c"
      },
      "execution_count": 210,
      "outputs": [
        {
          "output_type": "execute_result",
          "data": {
            "text/plain": [
              "                          longitude  latitude  housing_median_age  \\\n",
              "longitude                  1.000000  0.924664            0.108197   \n",
              "latitude                   0.924664  1.000000            0.011173   \n",
              "housing_median_age         0.108197  0.011173            1.000000   \n",
              "total_rooms                0.044568  0.036100            0.361262   \n",
              "total_bedrooms             0.068082  0.065318            0.317063   \n",
              "population                 0.099773  0.108785            0.296244   \n",
              "households                 0.055310  0.071035            0.302916   \n",
              "median_income              0.015176  0.079809            0.119034   \n",
              "median_house_value         0.045967  0.144160            0.105623   \n",
              "rooms_per_household        0.027540  0.106389            0.153277   \n",
              "bedrooms_per_room          0.084836  0.104112            0.125396   \n",
              "population_per_household   0.002476  0.002366            0.013191   \n",
              "above_average              0.072633  0.098810            0.080069   \n",
              "\n",
              "                          total_rooms  total_bedrooms  population  households  \\\n",
              "longitude                    0.044568        0.068082    0.099773    0.055310   \n",
              "latitude                     0.036100        0.065318    0.108785    0.071035   \n",
              "housing_median_age           0.361262        0.317063    0.296244    0.302916   \n",
              "total_rooms                  1.000000        0.920196    0.857126    0.918484   \n",
              "total_bedrooms               0.920196        1.000000    0.866266    0.966507   \n",
              "population                   0.857126        0.866266    1.000000    0.907222   \n",
              "households                   0.918484        0.966507    0.907222    1.000000   \n",
              "median_income                0.198050        0.007295    0.004834    0.013033   \n",
              "median_house_value           0.134153        0.049148    0.024650    0.065843   \n",
              "rooms_per_household          0.133798        0.002717    0.072213    0.080598   \n",
              "bedrooms_per_room            0.174583        0.122205    0.031397    0.059818   \n",
              "population_per_household     0.024581        0.028019    0.069863    0.027309   \n",
              "above_average                0.128782        0.056209    0.014898    0.074778   \n",
              "\n",
              "                          median_income  median_house_value  \\\n",
              "longitude                      0.015176            0.045967   \n",
              "latitude                       0.079809            0.144160   \n",
              "housing_median_age             0.119034            0.105623   \n",
              "total_rooms                    0.198050            0.134153   \n",
              "total_bedrooms                 0.007295            0.049148   \n",
              "population                     0.004834            0.024650   \n",
              "households                     0.013033            0.065843   \n",
              "median_income                  1.000000            0.688075   \n",
              "median_house_value             0.688075            1.000000   \n",
              "rooms_per_household            0.326895            0.151948   \n",
              "bedrooms_per_room              0.573836            0.238759   \n",
              "population_per_household       0.018766            0.023737   \n",
              "above_average                  0.541778            0.804353   \n",
              "\n",
              "                          rooms_per_household  bedrooms_per_room  \\\n",
              "longitude                            0.027540           0.084836   \n",
              "latitude                             0.106389           0.104112   \n",
              "housing_median_age                   0.153277           0.125396   \n",
              "total_rooms                          0.133798           0.174583   \n",
              "total_bedrooms                       0.002717           0.122205   \n",
              "population                           0.072213           0.031397   \n",
              "households                           0.080598           0.059818   \n",
              "median_income                        0.326895           0.573836   \n",
              "median_house_value                   0.151948           0.238759   \n",
              "rooms_per_household                  1.000000           0.387465   \n",
              "bedrooms_per_room                    0.387465           1.000000   \n",
              "population_per_household             0.004852           0.003047   \n",
              "above_average                        0.112104           0.211781   \n",
              "\n",
              "                          population_per_household  above_average  \n",
              "longitude                                 0.002476       0.072633  \n",
              "latitude                                  0.002366       0.098810  \n",
              "housing_median_age                        0.013191       0.080069  \n",
              "total_rooms                               0.024581       0.128782  \n",
              "total_bedrooms                            0.028019       0.056209  \n",
              "population                                0.069863       0.014898  \n",
              "households                                0.027309       0.074778  \n",
              "median_income                             0.018766       0.541778  \n",
              "median_house_value                        0.023737       0.804353  \n",
              "rooms_per_household                       0.004852       0.112104  \n",
              "bedrooms_per_room                         0.003047       0.211781  \n",
              "population_per_household                  1.000000       0.023354  \n",
              "above_average                             0.023354       1.000000  "
            ],
            "text/html": [
              "\n",
              "  <div id=\"df-87790458-8aa5-499c-af86-a7ec80eb53bb\">\n",
              "    <div class=\"colab-df-container\">\n",
              "      <div>\n",
              "<style scoped>\n",
              "    .dataframe tbody tr th:only-of-type {\n",
              "        vertical-align: middle;\n",
              "    }\n",
              "\n",
              "    .dataframe tbody tr th {\n",
              "        vertical-align: top;\n",
              "    }\n",
              "\n",
              "    .dataframe thead th {\n",
              "        text-align: right;\n",
              "    }\n",
              "</style>\n",
              "<table border=\"1\" class=\"dataframe\">\n",
              "  <thead>\n",
              "    <tr style=\"text-align: right;\">\n",
              "      <th></th>\n",
              "      <th>longitude</th>\n",
              "      <th>latitude</th>\n",
              "      <th>housing_median_age</th>\n",
              "      <th>total_rooms</th>\n",
              "      <th>total_bedrooms</th>\n",
              "      <th>population</th>\n",
              "      <th>households</th>\n",
              "      <th>median_income</th>\n",
              "      <th>median_house_value</th>\n",
              "      <th>rooms_per_household</th>\n",
              "      <th>bedrooms_per_room</th>\n",
              "      <th>population_per_household</th>\n",
              "      <th>above_average</th>\n",
              "    </tr>\n",
              "  </thead>\n",
              "  <tbody>\n",
              "    <tr>\n",
              "      <th>longitude</th>\n",
              "      <td>1.000000</td>\n",
              "      <td>0.924664</td>\n",
              "      <td>0.108197</td>\n",
              "      <td>0.044568</td>\n",
              "      <td>0.068082</td>\n",
              "      <td>0.099773</td>\n",
              "      <td>0.055310</td>\n",
              "      <td>0.015176</td>\n",
              "      <td>0.045967</td>\n",
              "      <td>0.027540</td>\n",
              "      <td>0.084836</td>\n",
              "      <td>0.002476</td>\n",
              "      <td>0.072633</td>\n",
              "    </tr>\n",
              "    <tr>\n",
              "      <th>latitude</th>\n",
              "      <td>0.924664</td>\n",
              "      <td>1.000000</td>\n",
              "      <td>0.011173</td>\n",
              "      <td>0.036100</td>\n",
              "      <td>0.065318</td>\n",
              "      <td>0.108785</td>\n",
              "      <td>0.071035</td>\n",
              "      <td>0.079809</td>\n",
              "      <td>0.144160</td>\n",
              "      <td>0.106389</td>\n",
              "      <td>0.104112</td>\n",
              "      <td>0.002366</td>\n",
              "      <td>0.098810</td>\n",
              "    </tr>\n",
              "    <tr>\n",
              "      <th>housing_median_age</th>\n",
              "      <td>0.108197</td>\n",
              "      <td>0.011173</td>\n",
              "      <td>1.000000</td>\n",
              "      <td>0.361262</td>\n",
              "      <td>0.317063</td>\n",
              "      <td>0.296244</td>\n",
              "      <td>0.302916</td>\n",
              "      <td>0.119034</td>\n",
              "      <td>0.105623</td>\n",
              "      <td>0.153277</td>\n",
              "      <td>0.125396</td>\n",
              "      <td>0.013191</td>\n",
              "      <td>0.080069</td>\n",
              "    </tr>\n",
              "    <tr>\n",
              "      <th>total_rooms</th>\n",
              "      <td>0.044568</td>\n",
              "      <td>0.036100</td>\n",
              "      <td>0.361262</td>\n",
              "      <td>1.000000</td>\n",
              "      <td>0.920196</td>\n",
              "      <td>0.857126</td>\n",
              "      <td>0.918484</td>\n",
              "      <td>0.198050</td>\n",
              "      <td>0.134153</td>\n",
              "      <td>0.133798</td>\n",
              "      <td>0.174583</td>\n",
              "      <td>0.024581</td>\n",
              "      <td>0.128782</td>\n",
              "    </tr>\n",
              "    <tr>\n",
              "      <th>total_bedrooms</th>\n",
              "      <td>0.068082</td>\n",
              "      <td>0.065318</td>\n",
              "      <td>0.317063</td>\n",
              "      <td>0.920196</td>\n",
              "      <td>1.000000</td>\n",
              "      <td>0.866266</td>\n",
              "      <td>0.966507</td>\n",
              "      <td>0.007295</td>\n",
              "      <td>0.049148</td>\n",
              "      <td>0.002717</td>\n",
              "      <td>0.122205</td>\n",
              "      <td>0.028019</td>\n",
              "      <td>0.056209</td>\n",
              "    </tr>\n",
              "    <tr>\n",
              "      <th>population</th>\n",
              "      <td>0.099773</td>\n",
              "      <td>0.108785</td>\n",
              "      <td>0.296244</td>\n",
              "      <td>0.857126</td>\n",
              "      <td>0.866266</td>\n",
              "      <td>1.000000</td>\n",
              "      <td>0.907222</td>\n",
              "      <td>0.004834</td>\n",
              "      <td>0.024650</td>\n",
              "      <td>0.072213</td>\n",
              "      <td>0.031397</td>\n",
              "      <td>0.069863</td>\n",
              "      <td>0.014898</td>\n",
              "    </tr>\n",
              "    <tr>\n",
              "      <th>households</th>\n",
              "      <td>0.055310</td>\n",
              "      <td>0.071035</td>\n",
              "      <td>0.302916</td>\n",
              "      <td>0.918484</td>\n",
              "      <td>0.966507</td>\n",
              "      <td>0.907222</td>\n",
              "      <td>1.000000</td>\n",
              "      <td>0.013033</td>\n",
              "      <td>0.065843</td>\n",
              "      <td>0.080598</td>\n",
              "      <td>0.059818</td>\n",
              "      <td>0.027309</td>\n",
              "      <td>0.074778</td>\n",
              "    </tr>\n",
              "    <tr>\n",
              "      <th>median_income</th>\n",
              "      <td>0.015176</td>\n",
              "      <td>0.079809</td>\n",
              "      <td>0.119034</td>\n",
              "      <td>0.198050</td>\n",
              "      <td>0.007295</td>\n",
              "      <td>0.004834</td>\n",
              "      <td>0.013033</td>\n",
              "      <td>1.000000</td>\n",
              "      <td>0.688075</td>\n",
              "      <td>0.326895</td>\n",
              "      <td>0.573836</td>\n",
              "      <td>0.018766</td>\n",
              "      <td>0.541778</td>\n",
              "    </tr>\n",
              "    <tr>\n",
              "      <th>median_house_value</th>\n",
              "      <td>0.045967</td>\n",
              "      <td>0.144160</td>\n",
              "      <td>0.105623</td>\n",
              "      <td>0.134153</td>\n",
              "      <td>0.049148</td>\n",
              "      <td>0.024650</td>\n",
              "      <td>0.065843</td>\n",
              "      <td>0.688075</td>\n",
              "      <td>1.000000</td>\n",
              "      <td>0.151948</td>\n",
              "      <td>0.238759</td>\n",
              "      <td>0.023737</td>\n",
              "      <td>0.804353</td>\n",
              "    </tr>\n",
              "    <tr>\n",
              "      <th>rooms_per_household</th>\n",
              "      <td>0.027540</td>\n",
              "      <td>0.106389</td>\n",
              "      <td>0.153277</td>\n",
              "      <td>0.133798</td>\n",
              "      <td>0.002717</td>\n",
              "      <td>0.072213</td>\n",
              "      <td>0.080598</td>\n",
              "      <td>0.326895</td>\n",
              "      <td>0.151948</td>\n",
              "      <td>1.000000</td>\n",
              "      <td>0.387465</td>\n",
              "      <td>0.004852</td>\n",
              "      <td>0.112104</td>\n",
              "    </tr>\n",
              "    <tr>\n",
              "      <th>bedrooms_per_room</th>\n",
              "      <td>0.084836</td>\n",
              "      <td>0.104112</td>\n",
              "      <td>0.125396</td>\n",
              "      <td>0.174583</td>\n",
              "      <td>0.122205</td>\n",
              "      <td>0.031397</td>\n",
              "      <td>0.059818</td>\n",
              "      <td>0.573836</td>\n",
              "      <td>0.238759</td>\n",
              "      <td>0.387465</td>\n",
              "      <td>1.000000</td>\n",
              "      <td>0.003047</td>\n",
              "      <td>0.211781</td>\n",
              "    </tr>\n",
              "    <tr>\n",
              "      <th>population_per_household</th>\n",
              "      <td>0.002476</td>\n",
              "      <td>0.002366</td>\n",
              "      <td>0.013191</td>\n",
              "      <td>0.024581</td>\n",
              "      <td>0.028019</td>\n",
              "      <td>0.069863</td>\n",
              "      <td>0.027309</td>\n",
              "      <td>0.018766</td>\n",
              "      <td>0.023737</td>\n",
              "      <td>0.004852</td>\n",
              "      <td>0.003047</td>\n",
              "      <td>1.000000</td>\n",
              "      <td>0.023354</td>\n",
              "    </tr>\n",
              "    <tr>\n",
              "      <th>above_average</th>\n",
              "      <td>0.072633</td>\n",
              "      <td>0.098810</td>\n",
              "      <td>0.080069</td>\n",
              "      <td>0.128782</td>\n",
              "      <td>0.056209</td>\n",
              "      <td>0.014898</td>\n",
              "      <td>0.074778</td>\n",
              "      <td>0.541778</td>\n",
              "      <td>0.804353</td>\n",
              "      <td>0.112104</td>\n",
              "      <td>0.211781</td>\n",
              "      <td>0.023354</td>\n",
              "      <td>1.000000</td>\n",
              "    </tr>\n",
              "  </tbody>\n",
              "</table>\n",
              "</div>\n",
              "      <button class=\"colab-df-convert\" onclick=\"convertToInteractive('df-87790458-8aa5-499c-af86-a7ec80eb53bb')\"\n",
              "              title=\"Convert this dataframe to an interactive table.\"\n",
              "              style=\"display:none;\">\n",
              "        \n",
              "  <svg xmlns=\"http://www.w3.org/2000/svg\" height=\"24px\"viewBox=\"0 0 24 24\"\n",
              "       width=\"24px\">\n",
              "    <path d=\"M0 0h24v24H0V0z\" fill=\"none\"/>\n",
              "    <path d=\"M18.56 5.44l.94 2.06.94-2.06 2.06-.94-2.06-.94-.94-2.06-.94 2.06-2.06.94zm-11 1L8.5 8.5l.94-2.06 2.06-.94-2.06-.94L8.5 2.5l-.94 2.06-2.06.94zm10 10l.94 2.06.94-2.06 2.06-.94-2.06-.94-.94-2.06-.94 2.06-2.06.94z\"/><path d=\"M17.41 7.96l-1.37-1.37c-.4-.4-.92-.59-1.43-.59-.52 0-1.04.2-1.43.59L10.3 9.45l-7.72 7.72c-.78.78-.78 2.05 0 2.83L4 21.41c.39.39.9.59 1.41.59.51 0 1.02-.2 1.41-.59l7.78-7.78 2.81-2.81c.8-.78.8-2.07 0-2.86zM5.41 20L4 18.59l7.72-7.72 1.47 1.35L5.41 20z\"/>\n",
              "  </svg>\n",
              "      </button>\n",
              "      \n",
              "  <style>\n",
              "    .colab-df-container {\n",
              "      display:flex;\n",
              "      flex-wrap:wrap;\n",
              "      gap: 12px;\n",
              "    }\n",
              "\n",
              "    .colab-df-convert {\n",
              "      background-color: #E8F0FE;\n",
              "      border: none;\n",
              "      border-radius: 50%;\n",
              "      cursor: pointer;\n",
              "      display: none;\n",
              "      fill: #1967D2;\n",
              "      height: 32px;\n",
              "      padding: 0 0 0 0;\n",
              "      width: 32px;\n",
              "    }\n",
              "\n",
              "    .colab-df-convert:hover {\n",
              "      background-color: #E2EBFA;\n",
              "      box-shadow: 0px 1px 2px rgba(60, 64, 67, 0.3), 0px 1px 3px 1px rgba(60, 64, 67, 0.15);\n",
              "      fill: #174EA6;\n",
              "    }\n",
              "\n",
              "    [theme=dark] .colab-df-convert {\n",
              "      background-color: #3B4455;\n",
              "      fill: #D2E3FC;\n",
              "    }\n",
              "\n",
              "    [theme=dark] .colab-df-convert:hover {\n",
              "      background-color: #434B5C;\n",
              "      box-shadow: 0px 1px 3px 1px rgba(0, 0, 0, 0.15);\n",
              "      filter: drop-shadow(0px 1px 2px rgba(0, 0, 0, 0.3));\n",
              "      fill: #FFFFFF;\n",
              "    }\n",
              "  </style>\n",
              "\n",
              "      <script>\n",
              "        const buttonEl =\n",
              "          document.querySelector('#df-87790458-8aa5-499c-af86-a7ec80eb53bb button.colab-df-convert');\n",
              "        buttonEl.style.display =\n",
              "          google.colab.kernel.accessAllowed ? 'block' : 'none';\n",
              "\n",
              "        async function convertToInteractive(key) {\n",
              "          const element = document.querySelector('#df-87790458-8aa5-499c-af86-a7ec80eb53bb');\n",
              "          const dataTable =\n",
              "            await google.colab.kernel.invokeFunction('convertToInteractive',\n",
              "                                                     [key], {});\n",
              "          if (!dataTable) return;\n",
              "\n",
              "          const docLinkHtml = 'Like what you see? Visit the ' +\n",
              "            '<a target=\"_blank\" href=https://colab.research.google.com/notebooks/data_table.ipynb>data table notebook</a>'\n",
              "            + ' to learn more about interactive tables.';\n",
              "          element.innerHTML = '';\n",
              "          dataTable['output_type'] = 'display_data';\n",
              "          await google.colab.output.renderOutput(dataTable, element);\n",
              "          const docLink = document.createElement('div');\n",
              "          docLink.innerHTML = docLinkHtml;\n",
              "          element.appendChild(docLink);\n",
              "        }\n",
              "      </script>\n",
              "    </div>\n",
              "  </div>\n",
              "  "
            ]
          },
          "metadata": {},
          "execution_count": 210
        }
      ]
    },
    {
      "cell_type": "markdown",
      "source": [
        "# Make median_house_value binary\n",
        "* We need to turn the median_house_value variable from numeric into binary.\n",
        "\n",
        "* Let's create a variable above_average which is 1 if the median_house_value is above its mean value and 0 otherwise.\n"
      ],
      "metadata": {
        "id": "LL01Pq1vFFTc"
      }
    },
    {
      "cell_type": "code",
      "source": [
        "above_average = (df_full_train.median_house_value > df_full_train.median_house_value.mean())\n",
        "above_average = (above_average==True).astype(int)\n",
        "above_average"
      ],
      "metadata": {
        "id": "hiLDxzFV2l5G",
        "outputId": "ffcd2f91-58df-4f64-bd1b-55190bc9c8aa",
        "colab": {
          "base_uri": "https://localhost:8080/"
        }
      },
      "execution_count": 211,
      "outputs": [
        {
          "output_type": "execute_result",
          "data": {
            "text/plain": [
              "0        0\n",
              "1        1\n",
              "2        0\n",
              "3        0\n",
              "4        0\n",
              "        ..\n",
              "16507    1\n",
              "16508    0\n",
              "16509    1\n",
              "16510    1\n",
              "16511    1\n",
              "Name: median_house_value, Length: 16512, dtype: int64"
            ]
          },
          "metadata": {},
          "execution_count": 211
        }
      ]
    },
    {
      "cell_type": "markdown",
      "source": [
        "# Question 3\n",
        "Calculate the mutual information score with the (binarized) price for the categorical variable that we have. Use the training set only.\n",
        "What is the value of mutual information?\n",
        "Round it to 2 decimal digits using round(score, 2)\n",
        "\n",
        "<br>Options:\n",
        "\n",
        "* 0.26\n",
        "* 0\n",
        "* **0.10**\n",
        "* 0.16"
      ],
      "metadata": {
        "id": "eY75micMFrQ7"
      }
    },
    {
      "cell_type": "code",
      "source": [
        "from sklearn.metrics import mutual_info_score "
      ],
      "metadata": {
        "id": "IvX99UU1IONn"
      },
      "execution_count": 212,
      "outputs": []
    },
    {
      "cell_type": "code",
      "source": [
        "round(mutual_info_score(df_full_train.ocean_proximity, df_full_train.above_average),2)"
      ],
      "metadata": {
        "id": "jhW7-Jn5YIkH",
        "outputId": "3d253ec8-6569-4467-abee-d960ad0198f0",
        "colab": {
          "base_uri": "https://localhost:8080/"
        }
      },
      "execution_count": 213,
      "outputs": [
        {
          "output_type": "execute_result",
          "data": {
            "text/plain": [
              "0.1"
            ]
          },
          "metadata": {},
          "execution_count": 213
        }
      ]
    },
    {
      "cell_type": "code",
      "source": [
        "round(mutual_info_score(df_full_train.ocean_proximity, above_average),2)"
      ],
      "metadata": {
        "id": "yN2Nechu20di",
        "colab": {
          "base_uri": "https://localhost:8080/"
        },
        "outputId": "760826ee-1be0-43b6-baf4-aa23c48b64e0"
      },
      "execution_count": 214,
      "outputs": [
        {
          "output_type": "execute_result",
          "data": {
            "text/plain": [
              "0.1"
            ]
          },
          "metadata": {},
          "execution_count": 214
        }
      ]
    },
    {
      "cell_type": "markdown",
      "source": [
        "# Question 4\n",
        "* Now let's train a logistic regression\n",
        "* Remember that we have one categorical variable ocean_proximity in the data; include it using one-hot encoding.\n",
        "* Fit the model on the **training dataset**.\n",
        "* To make sure the results are reproducible across different versions of Scikit-Learn, fit the model with these parameters:\n",
        "model = LogisticRegression(solver=\"liblinear\", C=1.0, max_iter=1000, random_state=42)\n",
        "* Calculate the accuracy on the **validation dataset** and round it to 2 decimal digits.\n",
        "\n",
        "<br>Options:\n",
        "\n",
        "* 0.60\n",
        "* 0.72\n",
        "* 0.84\n",
        "* 0.95"
      ],
      "metadata": {
        "id": "Iy4_vGm9FJ9q"
      }
    },
    {
      "cell_type": "code",
      "source": [
        "from sklearn.feature_extraction import DictVectorizer\n",
        "from sklearn.linear_model import LogisticRegression"
      ],
      "metadata": {
        "id": "I8lzdzGhgYqD"
      },
      "execution_count": 221,
      "outputs": []
    },
    {
      "cell_type": "code",
      "source": [
        "dv = DictVectorizer(sparse = False)\n",
        "train_dict = df_train.to_dict(orient = 'records')\n",
        "x_train = dv.fit_transform(train_dict)"
      ],
      "metadata": {
        "id": "d9js53SWZOkN"
      },
      "execution_count": 222,
      "outputs": []
    },
    {
      "cell_type": "code",
      "source": [
        "val_dict = df_val.to_dict(orient='records')\n",
        "X_val = dv.transform(val_dict)"
      ],
      "metadata": {
        "id": "826jG_hhZXpf"
      },
      "execution_count": 223,
      "outputs": []
    },
    {
      "cell_type": "code",
      "source": [
        "model = LogisticRegression(solver=\"liblinear\", C=1.0, max_iter=1000, random_state=42)\n",
        "model.fit(x_train, y_train) # long run due to 'df['above_average'] = (df.median_house_value > df.median_house_value.mean())' not being run in the beginning."
      ],
      "metadata": {
        "id": "expoHDzr3asl",
        "outputId": "2b457c20-96c3-4924-b5d4-d3ad8ff0ab62",
        "colab": {
          "base_uri": "https://localhost:8080/"
        }
      },
      "execution_count": 224,
      "outputs": [
        {
          "output_type": "execute_result",
          "data": {
            "text/plain": [
              "LogisticRegression(max_iter=1000, random_state=42, solver='liblinear')"
            ]
          },
          "metadata": {},
          "execution_count": 224
        }
      ]
    },
    {
      "cell_type": "code",
      "source": [
        "model.intercept_[0], model.coef_[0].round(3)"
      ],
      "metadata": {
        "id": "KswXOpHVZqYK",
        "outputId": "7bf53870-9f2a-4d9d-efa8-2226b220f423",
        "colab": {
          "base_uri": "https://localhost:8080/"
        }
      },
      "execution_count": 225,
      "outputs": [
        {
          "output_type": "execute_result",
          "data": {
            "text/plain": [
              "(-0.2467698702849388,\n",
              " array([ 0.73 ,  0.004,  0.036,  0.109,  0.084,  1.219,  0.408, -1.716,\n",
              "         0.076,  0.226,  0.76 , -0.002,  0.01 , -0.016,  0.002, -0.   ]))"
            ]
          },
          "metadata": {},
          "execution_count": 225
        }
      ]
    },
    {
      "cell_type": "code",
      "source": [
        "y_pred = model.predict_proba(x_val)[:, 1]"
      ],
      "metadata": {
        "id": "Hxl5aj9EaWVV",
        "colab": {
          "base_uri": "https://localhost:8080/",
          "height": 311
        },
        "outputId": "aa4b69f5-404d-4a9c-8cbb-a7771e2ff71e"
      },
      "execution_count": 227,
      "outputs": [
        {
          "output_type": "error",
          "ename": "ValueError",
          "evalue": "ignored",
          "traceback": [
            "\u001b[0;31m---------------------------------------------------------------------------\u001b[0m",
            "\u001b[0;31mValueError\u001b[0m                                Traceback (most recent call last)",
            "\u001b[0;32m<ipython-input-227-203c80e79de5>\u001b[0m in \u001b[0;36m<module>\u001b[0;34m\u001b[0m\n\u001b[0;32m----> 1\u001b[0;31m \u001b[0my_pred\u001b[0m \u001b[0;34m=\u001b[0m \u001b[0mmodel\u001b[0m\u001b[0;34m.\u001b[0m\u001b[0mpredict_proba\u001b[0m\u001b[0;34m(\u001b[0m\u001b[0mx_val\u001b[0m\u001b[0;34m)\u001b[0m\u001b[0;34m[\u001b[0m\u001b[0;34m:\u001b[0m\u001b[0;34m,\u001b[0m \u001b[0;36m1\u001b[0m\u001b[0;34m]\u001b[0m\u001b[0;34m\u001b[0m\u001b[0;34m\u001b[0m\u001b[0m\n\u001b[0m",
            "\u001b[0;32m/usr/local/lib/python3.7/dist-packages/sklearn/linear_model/_logistic.py\u001b[0m in \u001b[0;36mpredict_proba\u001b[0;34m(self, X)\u001b[0m\n\u001b[1;32m   1668\u001b[0m         )\n\u001b[1;32m   1669\u001b[0m         \u001b[0;32mif\u001b[0m \u001b[0movr\u001b[0m\u001b[0;34m:\u001b[0m\u001b[0;34m\u001b[0m\u001b[0;34m\u001b[0m\u001b[0m\n\u001b[0;32m-> 1670\u001b[0;31m             \u001b[0;32mreturn\u001b[0m \u001b[0msuper\u001b[0m\u001b[0;34m(\u001b[0m\u001b[0;34m)\u001b[0m\u001b[0;34m.\u001b[0m\u001b[0m_predict_proba_lr\u001b[0m\u001b[0;34m(\u001b[0m\u001b[0mX\u001b[0m\u001b[0;34m)\u001b[0m\u001b[0;34m\u001b[0m\u001b[0;34m\u001b[0m\u001b[0m\n\u001b[0m\u001b[1;32m   1671\u001b[0m         \u001b[0;32melse\u001b[0m\u001b[0;34m:\u001b[0m\u001b[0;34m\u001b[0m\u001b[0;34m\u001b[0m\u001b[0m\n\u001b[1;32m   1672\u001b[0m             \u001b[0mdecision\u001b[0m \u001b[0;34m=\u001b[0m \u001b[0mself\u001b[0m\u001b[0;34m.\u001b[0m\u001b[0mdecision_function\u001b[0m\u001b[0;34m(\u001b[0m\u001b[0mX\u001b[0m\u001b[0;34m)\u001b[0m\u001b[0;34m\u001b[0m\u001b[0;34m\u001b[0m\u001b[0m\n",
            "\u001b[0;32m/usr/local/lib/python3.7/dist-packages/sklearn/linear_model/_base.py\u001b[0m in \u001b[0;36m_predict_proba_lr\u001b[0;34m(self, X)\u001b[0m\n\u001b[1;32m    437\u001b[0m         \u001b[0mmulticlass\u001b[0m \u001b[0;32mis\u001b[0m \u001b[0mhandled\u001b[0m \u001b[0mby\u001b[0m \u001b[0mnormalizing\u001b[0m \u001b[0mthat\u001b[0m \u001b[0mover\u001b[0m \u001b[0mall\u001b[0m \u001b[0mclasses\u001b[0m\u001b[0;34m.\u001b[0m\u001b[0;34m\u001b[0m\u001b[0;34m\u001b[0m\u001b[0m\n\u001b[1;32m    438\u001b[0m         \"\"\"\n\u001b[0;32m--> 439\u001b[0;31m         \u001b[0mprob\u001b[0m \u001b[0;34m=\u001b[0m \u001b[0mself\u001b[0m\u001b[0;34m.\u001b[0m\u001b[0mdecision_function\u001b[0m\u001b[0;34m(\u001b[0m\u001b[0mX\u001b[0m\u001b[0;34m)\u001b[0m\u001b[0;34m\u001b[0m\u001b[0;34m\u001b[0m\u001b[0m\n\u001b[0m\u001b[1;32m    440\u001b[0m         \u001b[0mexpit\u001b[0m\u001b[0;34m(\u001b[0m\u001b[0mprob\u001b[0m\u001b[0;34m,\u001b[0m \u001b[0mout\u001b[0m\u001b[0;34m=\u001b[0m\u001b[0mprob\u001b[0m\u001b[0;34m)\u001b[0m\u001b[0;34m\u001b[0m\u001b[0;34m\u001b[0m\u001b[0m\n\u001b[1;32m    441\u001b[0m         \u001b[0;32mif\u001b[0m \u001b[0mprob\u001b[0m\u001b[0;34m.\u001b[0m\u001b[0mndim\u001b[0m \u001b[0;34m==\u001b[0m \u001b[0;36m1\u001b[0m\u001b[0;34m:\u001b[0m\u001b[0;34m\u001b[0m\u001b[0;34m\u001b[0m\u001b[0m\n",
            "\u001b[0;32m/usr/local/lib/python3.7/dist-packages/sklearn/linear_model/_base.py\u001b[0m in \u001b[0;36mdecision_function\u001b[0;34m(self, X)\u001b[0m\n\u001b[1;32m    405\u001b[0m         \u001b[0mcheck_is_fitted\u001b[0m\u001b[0;34m(\u001b[0m\u001b[0mself\u001b[0m\u001b[0;34m)\u001b[0m\u001b[0;34m\u001b[0m\u001b[0;34m\u001b[0m\u001b[0m\n\u001b[1;32m    406\u001b[0m \u001b[0;34m\u001b[0m\u001b[0m\n\u001b[0;32m--> 407\u001b[0;31m         \u001b[0mX\u001b[0m \u001b[0;34m=\u001b[0m \u001b[0mself\u001b[0m\u001b[0;34m.\u001b[0m\u001b[0m_validate_data\u001b[0m\u001b[0;34m(\u001b[0m\u001b[0mX\u001b[0m\u001b[0;34m,\u001b[0m \u001b[0maccept_sparse\u001b[0m\u001b[0;34m=\u001b[0m\u001b[0;34m\"csr\"\u001b[0m\u001b[0;34m,\u001b[0m \u001b[0mreset\u001b[0m\u001b[0;34m=\u001b[0m\u001b[0;32mFalse\u001b[0m\u001b[0;34m)\u001b[0m\u001b[0;34m\u001b[0m\u001b[0;34m\u001b[0m\u001b[0m\n\u001b[0m\u001b[1;32m    408\u001b[0m         \u001b[0mscores\u001b[0m \u001b[0;34m=\u001b[0m \u001b[0msafe_sparse_dot\u001b[0m\u001b[0;34m(\u001b[0m\u001b[0mX\u001b[0m\u001b[0;34m,\u001b[0m \u001b[0mself\u001b[0m\u001b[0;34m.\u001b[0m\u001b[0mcoef_\u001b[0m\u001b[0;34m.\u001b[0m\u001b[0mT\u001b[0m\u001b[0;34m,\u001b[0m \u001b[0mdense_output\u001b[0m\u001b[0;34m=\u001b[0m\u001b[0;32mTrue\u001b[0m\u001b[0;34m)\u001b[0m \u001b[0;34m+\u001b[0m \u001b[0mself\u001b[0m\u001b[0;34m.\u001b[0m\u001b[0mintercept_\u001b[0m\u001b[0;34m\u001b[0m\u001b[0;34m\u001b[0m\u001b[0m\n\u001b[1;32m    409\u001b[0m         \u001b[0;32mreturn\u001b[0m \u001b[0mscores\u001b[0m\u001b[0;34m.\u001b[0m\u001b[0mravel\u001b[0m\u001b[0;34m(\u001b[0m\u001b[0;34m)\u001b[0m \u001b[0;32mif\u001b[0m \u001b[0mscores\u001b[0m\u001b[0;34m.\u001b[0m\u001b[0mshape\u001b[0m\u001b[0;34m[\u001b[0m\u001b[0;36m1\u001b[0m\u001b[0;34m]\u001b[0m \u001b[0;34m==\u001b[0m \u001b[0;36m1\u001b[0m \u001b[0;32melse\u001b[0m \u001b[0mscores\u001b[0m\u001b[0;34m\u001b[0m\u001b[0;34m\u001b[0m\u001b[0m\n",
            "\u001b[0;32m/usr/local/lib/python3.7/dist-packages/sklearn/base.py\u001b[0m in \u001b[0;36m_validate_data\u001b[0;34m(self, X, y, reset, validate_separately, **check_params)\u001b[0m\n\u001b[1;32m    583\u001b[0m \u001b[0;34m\u001b[0m\u001b[0m\n\u001b[1;32m    584\u001b[0m         \u001b[0;32mif\u001b[0m \u001b[0;32mnot\u001b[0m \u001b[0mno_val_X\u001b[0m \u001b[0;32mand\u001b[0m \u001b[0mcheck_params\u001b[0m\u001b[0;34m.\u001b[0m\u001b[0mget\u001b[0m\u001b[0;34m(\u001b[0m\u001b[0;34m\"ensure_2d\"\u001b[0m\u001b[0;34m,\u001b[0m \u001b[0;32mTrue\u001b[0m\u001b[0;34m)\u001b[0m\u001b[0;34m:\u001b[0m\u001b[0;34m\u001b[0m\u001b[0;34m\u001b[0m\u001b[0m\n\u001b[0;32m--> 585\u001b[0;31m             \u001b[0mself\u001b[0m\u001b[0;34m.\u001b[0m\u001b[0m_check_n_features\u001b[0m\u001b[0;34m(\u001b[0m\u001b[0mX\u001b[0m\u001b[0;34m,\u001b[0m \u001b[0mreset\u001b[0m\u001b[0;34m=\u001b[0m\u001b[0mreset\u001b[0m\u001b[0;34m)\u001b[0m\u001b[0;34m\u001b[0m\u001b[0;34m\u001b[0m\u001b[0m\n\u001b[0m\u001b[1;32m    586\u001b[0m \u001b[0;34m\u001b[0m\u001b[0m\n\u001b[1;32m    587\u001b[0m         \u001b[0;32mreturn\u001b[0m \u001b[0mout\u001b[0m\u001b[0;34m\u001b[0m\u001b[0;34m\u001b[0m\u001b[0m\n",
            "\u001b[0;32m/usr/local/lib/python3.7/dist-packages/sklearn/base.py\u001b[0m in \u001b[0;36m_check_n_features\u001b[0;34m(self, X, reset)\u001b[0m\n\u001b[1;32m    399\u001b[0m         \u001b[0;32mif\u001b[0m \u001b[0mn_features\u001b[0m \u001b[0;34m!=\u001b[0m \u001b[0mself\u001b[0m\u001b[0;34m.\u001b[0m\u001b[0mn_features_in_\u001b[0m\u001b[0;34m:\u001b[0m\u001b[0;34m\u001b[0m\u001b[0;34m\u001b[0m\u001b[0m\n\u001b[1;32m    400\u001b[0m             raise ValueError(\n\u001b[0;32m--> 401\u001b[0;31m                 \u001b[0;34mf\"X has {n_features} features, but {self.__class__.__name__} \"\u001b[0m\u001b[0;34m\u001b[0m\u001b[0;34m\u001b[0m\u001b[0m\n\u001b[0m\u001b[1;32m    402\u001b[0m                 \u001b[0;34mf\"is expecting {self.n_features_in_} features as input.\"\u001b[0m\u001b[0;34m\u001b[0m\u001b[0;34m\u001b[0m\u001b[0m\n\u001b[1;32m    403\u001b[0m             )\n",
            "\u001b[0;31mValueError\u001b[0m: X has 15 features, but LogisticRegression is expecting 16 features as input."
          ]
        }
      ]
    },
    {
      "cell_type": "code",
      "source": [
        "mean_val = (y_pred >= 0.5)"
      ],
      "metadata": {
        "id": "pm16_zMXaPOH"
      },
      "execution_count": null,
      "outputs": []
    },
    {
      "cell_type": "code",
      "source": [
        "(y_val == mean_val).mean()"
      ],
      "metadata": {
        "id": "vSABS_lPjQuF"
      },
      "execution_count": null,
      "outputs": []
    },
    {
      "cell_type": "markdown",
      "source": [
        "# Question 5\n",
        "* Let's find the least useful feature using the feature elimination technique.\n",
        "* Train a model with all these features (using the same parameters as in Q4).\n",
        "* Now exclude each feature from this set and train a model without it. Record the accuracy for each model.\n",
        "* For each feature, calculate the difference between the original accuracy and the accuracy without the feature.\n",
        "\n",
        "<br> Which of following feature has the smallest difference?\n",
        "\n",
        "* total_rooms\n",
        "* total_bedrooms\n",
        "* population\n",
        "* households\n",
        "* **note: the difference doesn't have to be positive"
      ],
      "metadata": {
        "id": "AfuCOwqqFWWS"
      }
    },
    {
      "cell_type": "markdown",
      "source": [
        "# Question 6\n",
        "* For this question, we'll see how to use a linear regression model from Scikit-Learn\n",
        "* We'll need to use the original column 'median_house_value'. Apply the logarithmic transformation to this column.\n",
        "* Fit the Ridge regression model (model = Ridge(alpha=a, solver=\"sag\", random_state=42)) on the training data.\n",
        "* This model has a parameter alpha. Let's try the following values: [0, 0.01, 0.1, 1, 10]\n",
        "* Which of these alphas leads to the best RMSE on the validation set? Round your RMSE scores to 3 decimal digits.\n",
        "* If there are multiple options, select the smallest alpha.\n",
        "\n",
        "<br> Options:\n",
        "\n",
        "* 0\n",
        "* 0.01\n",
        "* 0.1\n",
        "* 1\n",
        "* 10"
      ],
      "metadata": {
        "id": "W7FCVFL7FaKL"
      }
    },
    {
      "cell_type": "code",
      "source": [],
      "metadata": {
        "id": "ucBn2SXDdvZm"
      },
      "execution_count": null,
      "outputs": []
    },
    {
      "cell_type": "markdown",
      "source": [
        "# Submit the results\n",
        "Submit your results here: https://forms.gle/vQXAnQDeqA81HSu86\n",
        "You can submit your solution multiple times. In this case, only the last submission will be used\n",
        "<br>If your answer doesn't match options exactly, select the closest one\n",
        "<br>\n",
        "#Deadline\n",
        "The deadline for submitting is 26 September (Monday), 23:00 CEST.\n",
        "\n",
        "After that, the form will be closed"
      ],
      "metadata": {
        "id": "cYSrRUdfFeYq"
      }
    }
  ]
}