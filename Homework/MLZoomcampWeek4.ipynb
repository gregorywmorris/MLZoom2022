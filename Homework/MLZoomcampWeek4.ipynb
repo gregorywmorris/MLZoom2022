{
  "nbformat": 4,
  "nbformat_minor": 0,
  "metadata": {
    "colab": {
      "provenance": [],
      "authorship_tag": "ABX9TyNlUXEfeEvUqJWsMqmI7/NP",
      "include_colab_link": true
    },
    "kernelspec": {
      "name": "python3",
      "display_name": "Python 3"
    },
    "language_info": {
      "name": "python"
    }
  },
  "cells": [
    {
      "cell_type": "markdown",
      "metadata": {
        "id": "view-in-github",
        "colab_type": "text"
      },
      "source": [
        "<a href=\"https://colab.research.google.com/github/gregorywmorris/MLZoom2022/blob/main/Homework/MLZoomcampWeek4.ipynb\" target=\"_parent\"><img src=\"https://colab.research.google.com/assets/colab-badge.svg\" alt=\"Open In Colab\"/></a>"
      ]
    },
    {
      "cell_type": "markdown",
      "source": [
        "# Homework\n",
        "Note: sometimes your answer doesn't match one of the options exactly. That's fine. Select the option that's closest to your solution."
      ],
      "metadata": {
        "id": "MYpmXba5_VNb"
      }
    },
    {
      "cell_type": "code",
      "source": [
        "%autosave 1\n",
        "\n",
        "%load_ext autoreload\n",
        "%autoreload 2"
      ],
      "metadata": {
        "colab": {
          "base_uri": "https://localhost:8080/",
          "height": 34
        },
        "id": "haIAIYQTAUTY",
        "outputId": "4f2785d3-6855-429f-b825-d244f621ffd4"
      },
      "execution_count": 1,
      "outputs": [
        {
          "output_type": "display_data",
          "data": {
            "application/javascript": [
              "IPython.notebook.set_autosave_interval(1000)"
            ]
          },
          "metadata": {}
        },
        {
          "output_type": "stream",
          "name": "stdout",
          "text": [
            "Autosaving every 1 seconds\n"
          ]
        }
      ]
    },
    {
      "cell_type": "code",
      "source": [
        "import pandas as pd\n",
        "import numpy as np\n",
        "\n",
        "import matplotlib.pyplot as plt\n",
        "from sklearn.model_selection import train_test_split\n",
        "from sklearn.feature_extraction import DictVectorizer\n",
        "from sklearn.linear_model import LogisticRegression"
      ],
      "metadata": {
        "id": "Jobb_C_FAfLe"
      },
      "execution_count": 2,
      "outputs": []
    },
    {
      "cell_type": "markdown",
      "source": [
        "##Dataset\n",
        "\n"
      ],
      "metadata": {
        "id": "TmFcni98Ezl9"
      }
    },
    {
      "cell_type": "markdown",
      "source": [
        "In this homework, we will use Credit Card Data from book \"Econometric Analysis\".\n",
        "\n",
        "Here's a wget-able link:\n",
        "\n",
        "wget https://raw.githubusercontent.com/alexeygrigorev/datasets/master/AER_credit_card_data.csv\n",
        "\n",
        "The goal of this homework is to inspect the output of different evaluation metrics by creating a classification model (target column card).\n",
        "\n",
        "Preparation Create the target variable by mapping yes to 1 and no to 0. Split the dataset into 3 parts: train/validation/test with 60%/20%/20% distribution. Use train_test_split funciton for that with random_state=1."
      ],
      "metadata": {
        "id": "wzL3RlR9FCsx"
      }
    },
    {
      "cell_type": "markdown",
      "source": [
        "####**Preparation**\n",
        "Create the target variable by mapping yes to 1 and no to 0.\n",
        "Split the dataset into 3 parts: train/validation/test with 60%/20%/20% distribution. Use train_test_split funciton for that with random_state=1."
      ],
      "metadata": {
        "id": "BT06BVKZE5hG"
      }
    },
    {
      "cell_type": "markdown",
      "source": [
        "# Question 1"
      ],
      "metadata": {
        "id": "iNgkSDFR_l4P"
      }
    },
    {
      "cell_type": "markdown",
      "source": [
        "ROC AUC could also be used to evaluate feature importance of numerical variables.\n",
        "\n",
        "Let's do that\n",
        "\n",
        "* For each numerical variable, use it as score and compute AUC with the card variable.\n",
        "* Use the training dataset for that.\n",
        "\n",
        "If your AUC is < 0.5, invert this variable by putting \"-\" in front\n",
        "\n",
        "(e.g. -df_train['expenditure'])\n",
        "\n",
        "AUC can go below 0.5 if the variable is negatively correlated with the target varialble. You can change the direction of the correlation by negating this variable - then negative correlation becomes positive.\n",
        "\n",
        "Which numerical variable (among the following 4) has the highest AUC?\n",
        "\n",
        "* reports\n",
        "* dependents\n",
        "* active\n",
        "*share"
      ],
      "metadata": {
        "id": "ZKclbcE4FMRe"
      }
    },
    {
      "cell_type": "markdown",
      "source": [
        "# Training the model"
      ],
      "metadata": {
        "id": "IkRGd2kX_6Hu"
      }
    },
    {
      "cell_type": "markdown",
      "source": [
        "From now on, use these columns only:\n",
        "\n",
        "`[\"reports\", \"age\", \"income\", \"share\", \"expenditure\", \"dependents\", \"months\", \"majorcards\", \"active\", \"owner\", \"selfemp\"]`\n",
        "\n",
        "Apply one-hot-encoding using DictVectorizer and train the logistic regression with these parameters:\n",
        "\n",
        "`LogisticRegression(solver='liblinear', C=1.0, max_iter=1000)`"
      ],
      "metadata": {
        "id": "N55HsvEUFR03"
      }
    },
    {
      "cell_type": "markdown",
      "source": [
        "# Question 2"
      ],
      "metadata": {
        "id": "_HQwfYnRADZY"
      }
    },
    {
      "cell_type": "markdown",
      "source": [
        "What's the AUC of this model on the validation dataset? (round to 3 digits)\n",
        "\n",
        "* 0.615\n",
        "* 0.515\n",
        "* 0.715\n",
        "* 0.995"
      ],
      "metadata": {
        "id": "1f2BBjwHFfBG"
      }
    },
    {
      "cell_type": "markdown",
      "source": [
        "# Question 3"
      ],
      "metadata": {
        "id": "bD7XaiDaAJ_n"
      }
    },
    {
      "cell_type": "markdown",
      "source": [
        "Now let's compute precision and recall for our model.\n",
        "\n",
        "* Evaluate the model on all thresholds from 0.0 to 1.0 with step 0.01\n",
        "* For each threshold, compute precision and recall\n",
        "* Plot them\n",
        "* At which threshold precision and recall curves intersect?\n",
        "\n",
        "* 0.1\n",
        "* 0.3\n",
        "* 0.6\n",
        "* 0.8"
      ],
      "metadata": {
        "id": "sRvKLVRWFkfm"
      }
    },
    {
      "cell_type": "markdown",
      "source": [
        "#Question 4"
      ],
      "metadata": {
        "id": "IAP61TXTFoF2"
      }
    },
    {
      "cell_type": "markdown",
      "source": [
        "Precision and recall are conflicting - when one grows, the other goes down. That's why they are often combined into the F1 score - a metrics that takes into account both\n",
        "\n",
        "This is the formula for computing F1:\n",
        "\n",
        "F1 = 2 * P * R / (P + R)\n",
        "\n",
        "Where P is precision and R is recall.\n",
        "\n",
        "Let's compute F1 for all thresholds from 0.0 to 1.0 with increment 0.01\n",
        "\n",
        "At which threshold F1 is maximal?\n",
        "\n",
        "* 0.1\n",
        "* 0.4\n",
        "* 0.6\n",
        "* 0.7"
      ],
      "metadata": {
        "id": "UzdFsQ5DFrFe"
      }
    },
    {
      "cell_type": "markdown",
      "source": [
        "#Question 5"
      ],
      "metadata": {
        "id": "9i9nS_gUFyDH"
      }
    },
    {
      "cell_type": "markdown",
      "source": [
        "Use the KFold class from Scikit-Learn to evaluate our model on 5 different folds:\n",
        "\n",
        "`KFold(n_splits=5, shuffle=True, random_state=1)`\n",
        "\n",
        "* Iterate over different folds of df_full_train\n",
        "* Split the data into train and validation\n",
        "* Train the model on train with these parameters: `LogisticRegression(solver='liblinear', C=1.0, max_iter=1000)`\n",
        "* Use AUC to evaluate the model on validation\n",
        "\n",
        "How large is standard devidation of the AUC scores across different folds?\n",
        "\n",
        "* 0.003\n",
        "* 0.014\n",
        "* 0.09\n",
        "* 0.24"
      ],
      "metadata": {
        "id": "WME4opeHF0xQ"
      }
    },
    {
      "cell_type": "markdown",
      "source": [],
      "metadata": {
        "id": "ZK6hAMthGEjQ"
      }
    },
    {
      "cell_type": "markdown",
      "source": [
        "#Question 6"
      ],
      "metadata": {
        "id": "GXOAV_xmGMXt"
      }
    },
    {
      "cell_type": "markdown",
      "source": [
        "Now let's use 5-Fold cross-validation to find the best parameter C\n",
        "\n",
        "* Iterate over the following C values: `[0.01, 0.1, 1, 10]`\n",
        "* Initialize KFold with the same parameters as previously\n",
        "* Use these parametes for the model: `LogisticRegression(solver='liblinear', C=C, max_iter=1000)`\n",
        "* Compute the mean score as well as the std (round the mean and std to 3 decimal digits)\n",
        "\n",
        "Which C leads to the best mean score?\n",
        "\n",
        "0.01\n",
        "0.1\n",
        "1\n",
        "10\n",
        "If you have ties, select the score with the lowest std. If you still have ties, select the smallest C"
      ],
      "metadata": {
        "id": "ofl-DVKGGPle"
      }
    },
    {
      "cell_type": "markdown",
      "source": [
        "#Submit the results"
      ],
      "metadata": {
        "id": "jmBbYsJYGegf"
      }
    },
    {
      "cell_type": "markdown",
      "source": [
        "* Submit your results here: https://forms.gle/8TfKNRd5Jq7sGK5M9\n",
        "* You can submit your solution multiple times. In this case, only the last submission will be used\n",
        "* If your answer doesn't match options exactly, select the closest one\n",
        "\n",
        "##Deadline\n",
        "The deadline for submitting is October 3 (Monday), 23:00 CEST.\n",
        "\n",
        "After that, the form will be closed."
      ],
      "metadata": {
        "id": "M_XzAHuSGiiG"
      }
    }
  ]
}