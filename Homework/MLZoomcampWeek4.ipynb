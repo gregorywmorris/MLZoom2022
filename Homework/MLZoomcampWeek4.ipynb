{
  "nbformat": 4,
  "nbformat_minor": 0,
  "metadata": {
    "colab": {
      "provenance": [],
      "include_colab_link": true
    },
    "kernelspec": {
      "name": "python3",
      "display_name": "Python 3"
    },
    "language_info": {
      "name": "python"
    }
  },
  "cells": [
    {
      "cell_type": "markdown",
      "metadata": {
        "id": "view-in-github",
        "colab_type": "text"
      },
      "source": [
        "<a href=\"https://colab.research.google.com/github/gregorywmorris/MLZoom2022/blob/main/Homework/MLZoomcampWeek4.ipynb\" target=\"_parent\"><img src=\"https://colab.research.google.com/assets/colab-badge.svg\" alt=\"Open In Colab\"/></a>"
      ]
    },
    {
      "cell_type": "markdown",
      "source": [
        "# Homework\n",
        "Note: sometimes your answer doesn't match one of the options exactly. That's fine. Select the option that's closest to your solution."
      ],
      "metadata": {
        "id": "MYpmXba5_VNb"
      }
    },
    {
      "cell_type": "code",
      "source": [
        "%autosave 1\n",
        "\n",
        "%load_ext autoreload\n",
        "%autoreload 2"
      ],
      "metadata": {
        "colab": {
          "base_uri": "https://localhost:8080/",
          "height": 34
        },
        "id": "haIAIYQTAUTY",
        "outputId": "c3de9682-3726-4c68-dfa9-e914b099eb4a"
      },
      "execution_count": 1,
      "outputs": [
        {
          "output_type": "display_data",
          "data": {
            "application/javascript": [
              "IPython.notebook.set_autosave_interval(1000)"
            ]
          },
          "metadata": {}
        },
        {
          "output_type": "stream",
          "name": "stdout",
          "text": [
            "Autosaving every 1 seconds\n"
          ]
        }
      ]
    },
    {
      "cell_type": "code",
      "source": [
        "import pandas as pd\n",
        "import numpy as np\n",
        "\n",
        "import matplotlib.pyplot as plt\n",
        "from sklearn.model_selection import train_test_split\n",
        "from sklearn.feature_extraction import DictVectorizer\n",
        "from sklearn.linear_model import LogisticRegression"
      ],
      "metadata": {
        "id": "Jobb_C_FAfLe"
      },
      "execution_count": 2,
      "outputs": []
    },
    {
      "cell_type": "markdown",
      "source": [
        "##Dataset\n",
        "\n"
      ],
      "metadata": {
        "id": "TmFcni98Ezl9"
      }
    },
    {
      "cell_type": "markdown",
      "source": [
        "In this homework, we will use Credit Card Data from book \"Econometric Analysis\".\n",
        "\n",
        "Here's a wget-able link:\n",
        "\n",
        "wget https://raw.githubusercontent.com/alexeygrigorev/datasets/master/AER_credit_card_data.csv\n",
        "\n",
        "The goal of this homework is to inspect the output of different evaluation metrics by creating a classification model (target column **card**).\n",
        "\n",
        "### Preparation \n",
        "Create the target variable by mapping yes to 1 and no to 0. Split the dataset into 3 parts: train/validation/test with 60%/20%/20% distribution. Use train_test_split funciton for that with random_state=1."
      ],
      "metadata": {
        "id": "wzL3RlR9FCsx"
      }
    },
    {
      "cell_type": "code",
      "source": [
        "data = 'https://raw.githubusercontent.com/alexeygrigorev/datasets/master/AER_credit_card_data.csv'\n",
        "!wget $data -O data.csv"
      ],
      "metadata": {
        "colab": {
          "base_uri": "https://localhost:8080/"
        },
        "id": "GSVz3ogTHPyv",
        "outputId": "5df03dc9-1756-4049-cdb8-3f139ddbc233"
      },
      "execution_count": 3,
      "outputs": [
        {
          "output_type": "stream",
          "name": "stdout",
          "text": [
            "--2022-10-03 17:56:03--  https://raw.githubusercontent.com/alexeygrigorev/datasets/master/AER_credit_card_data.csv\n",
            "Resolving raw.githubusercontent.com (raw.githubusercontent.com)... 185.199.111.133, 185.199.110.133, 185.199.109.133, ...\n",
            "Connecting to raw.githubusercontent.com (raw.githubusercontent.com)|185.199.111.133|:443... connected.\n",
            "HTTP request sent, awaiting response... 200 OK\n",
            "Length: 73250 (72K) [text/plain]\n",
            "Saving to: ‘data.csv’\n",
            "\n",
            "\rdata.csv              0%[                    ]       0  --.-KB/s               \rdata.csv            100%[===================>]  71.53K  --.-KB/s    in 0.001s  \n",
            "\n",
            "2022-10-03 17:56:04 (50.3 MB/s) - ‘data.csv’ saved [73250/73250]\n",
            "\n"
          ]
        }
      ]
    },
    {
      "cell_type": "code",
      "source": [
        "df = pd.read_csv('data.csv')"
      ],
      "metadata": {
        "id": "7uQ1930DHNu6"
      },
      "execution_count": 4,
      "outputs": []
    },
    {
      "cell_type": "code",
      "source": [
        "df.head(5) # 3 columns have yes and no for answers that need to be converted to 1's and 0's"
      ],
      "metadata": {
        "colab": {
          "base_uri": "https://localhost:8080/",
          "height": 206
        },
        "id": "VvC4bajcHuD2",
        "outputId": "99233bd6-f65c-4c85-a260-88ba2a8cfec7"
      },
      "execution_count": 5,
      "outputs": [
        {
          "output_type": "execute_result",
          "data": {
            "text/plain": [
              "  card  reports       age  income     share  expenditure owner selfemp  \\\n",
              "0  yes        0  37.66667  4.5200  0.033270   124.983300   yes      no   \n",
              "1  yes        0  33.25000  2.4200  0.005217     9.854167    no      no   \n",
              "2  yes        0  33.66667  4.5000  0.004156    15.000000   yes      no   \n",
              "3  yes        0  30.50000  2.5400  0.065214   137.869200    no      no   \n",
              "4  yes        0  32.16667  9.7867  0.067051   546.503300   yes      no   \n",
              "\n",
              "   dependents  months  majorcards  active  \n",
              "0           3      54           1      12  \n",
              "1           3      34           1      13  \n",
              "2           4      58           1       5  \n",
              "3           0      25           1       7  \n",
              "4           2      64           1       5  "
            ],
            "text/html": [
              "\n",
              "  <div id=\"df-7d5b5f26-a493-434a-bf4a-da5984c947f7\">\n",
              "    <div class=\"colab-df-container\">\n",
              "      <div>\n",
              "<style scoped>\n",
              "    .dataframe tbody tr th:only-of-type {\n",
              "        vertical-align: middle;\n",
              "    }\n",
              "\n",
              "    .dataframe tbody tr th {\n",
              "        vertical-align: top;\n",
              "    }\n",
              "\n",
              "    .dataframe thead th {\n",
              "        text-align: right;\n",
              "    }\n",
              "</style>\n",
              "<table border=\"1\" class=\"dataframe\">\n",
              "  <thead>\n",
              "    <tr style=\"text-align: right;\">\n",
              "      <th></th>\n",
              "      <th>card</th>\n",
              "      <th>reports</th>\n",
              "      <th>age</th>\n",
              "      <th>income</th>\n",
              "      <th>share</th>\n",
              "      <th>expenditure</th>\n",
              "      <th>owner</th>\n",
              "      <th>selfemp</th>\n",
              "      <th>dependents</th>\n",
              "      <th>months</th>\n",
              "      <th>majorcards</th>\n",
              "      <th>active</th>\n",
              "    </tr>\n",
              "  </thead>\n",
              "  <tbody>\n",
              "    <tr>\n",
              "      <th>0</th>\n",
              "      <td>yes</td>\n",
              "      <td>0</td>\n",
              "      <td>37.66667</td>\n",
              "      <td>4.5200</td>\n",
              "      <td>0.033270</td>\n",
              "      <td>124.983300</td>\n",
              "      <td>yes</td>\n",
              "      <td>no</td>\n",
              "      <td>3</td>\n",
              "      <td>54</td>\n",
              "      <td>1</td>\n",
              "      <td>12</td>\n",
              "    </tr>\n",
              "    <tr>\n",
              "      <th>1</th>\n",
              "      <td>yes</td>\n",
              "      <td>0</td>\n",
              "      <td>33.25000</td>\n",
              "      <td>2.4200</td>\n",
              "      <td>0.005217</td>\n",
              "      <td>9.854167</td>\n",
              "      <td>no</td>\n",
              "      <td>no</td>\n",
              "      <td>3</td>\n",
              "      <td>34</td>\n",
              "      <td>1</td>\n",
              "      <td>13</td>\n",
              "    </tr>\n",
              "    <tr>\n",
              "      <th>2</th>\n",
              "      <td>yes</td>\n",
              "      <td>0</td>\n",
              "      <td>33.66667</td>\n",
              "      <td>4.5000</td>\n",
              "      <td>0.004156</td>\n",
              "      <td>15.000000</td>\n",
              "      <td>yes</td>\n",
              "      <td>no</td>\n",
              "      <td>4</td>\n",
              "      <td>58</td>\n",
              "      <td>1</td>\n",
              "      <td>5</td>\n",
              "    </tr>\n",
              "    <tr>\n",
              "      <th>3</th>\n",
              "      <td>yes</td>\n",
              "      <td>0</td>\n",
              "      <td>30.50000</td>\n",
              "      <td>2.5400</td>\n",
              "      <td>0.065214</td>\n",
              "      <td>137.869200</td>\n",
              "      <td>no</td>\n",
              "      <td>no</td>\n",
              "      <td>0</td>\n",
              "      <td>25</td>\n",
              "      <td>1</td>\n",
              "      <td>7</td>\n",
              "    </tr>\n",
              "    <tr>\n",
              "      <th>4</th>\n",
              "      <td>yes</td>\n",
              "      <td>0</td>\n",
              "      <td>32.16667</td>\n",
              "      <td>9.7867</td>\n",
              "      <td>0.067051</td>\n",
              "      <td>546.503300</td>\n",
              "      <td>yes</td>\n",
              "      <td>no</td>\n",
              "      <td>2</td>\n",
              "      <td>64</td>\n",
              "      <td>1</td>\n",
              "      <td>5</td>\n",
              "    </tr>\n",
              "  </tbody>\n",
              "</table>\n",
              "</div>\n",
              "      <button class=\"colab-df-convert\" onclick=\"convertToInteractive('df-7d5b5f26-a493-434a-bf4a-da5984c947f7')\"\n",
              "              title=\"Convert this dataframe to an interactive table.\"\n",
              "              style=\"display:none;\">\n",
              "        \n",
              "  <svg xmlns=\"http://www.w3.org/2000/svg\" height=\"24px\"viewBox=\"0 0 24 24\"\n",
              "       width=\"24px\">\n",
              "    <path d=\"M0 0h24v24H0V0z\" fill=\"none\"/>\n",
              "    <path d=\"M18.56 5.44l.94 2.06.94-2.06 2.06-.94-2.06-.94-.94-2.06-.94 2.06-2.06.94zm-11 1L8.5 8.5l.94-2.06 2.06-.94-2.06-.94L8.5 2.5l-.94 2.06-2.06.94zm10 10l.94 2.06.94-2.06 2.06-.94-2.06-.94-.94-2.06-.94 2.06-2.06.94z\"/><path d=\"M17.41 7.96l-1.37-1.37c-.4-.4-.92-.59-1.43-.59-.52 0-1.04.2-1.43.59L10.3 9.45l-7.72 7.72c-.78.78-.78 2.05 0 2.83L4 21.41c.39.39.9.59 1.41.59.51 0 1.02-.2 1.41-.59l7.78-7.78 2.81-2.81c.8-.78.8-2.07 0-2.86zM5.41 20L4 18.59l7.72-7.72 1.47 1.35L5.41 20z\"/>\n",
              "  </svg>\n",
              "      </button>\n",
              "      \n",
              "  <style>\n",
              "    .colab-df-container {\n",
              "      display:flex;\n",
              "      flex-wrap:wrap;\n",
              "      gap: 12px;\n",
              "    }\n",
              "\n",
              "    .colab-df-convert {\n",
              "      background-color: #E8F0FE;\n",
              "      border: none;\n",
              "      border-radius: 50%;\n",
              "      cursor: pointer;\n",
              "      display: none;\n",
              "      fill: #1967D2;\n",
              "      height: 32px;\n",
              "      padding: 0 0 0 0;\n",
              "      width: 32px;\n",
              "    }\n",
              "\n",
              "    .colab-df-convert:hover {\n",
              "      background-color: #E2EBFA;\n",
              "      box-shadow: 0px 1px 2px rgba(60, 64, 67, 0.3), 0px 1px 3px 1px rgba(60, 64, 67, 0.15);\n",
              "      fill: #174EA6;\n",
              "    }\n",
              "\n",
              "    [theme=dark] .colab-df-convert {\n",
              "      background-color: #3B4455;\n",
              "      fill: #D2E3FC;\n",
              "    }\n",
              "\n",
              "    [theme=dark] .colab-df-convert:hover {\n",
              "      background-color: #434B5C;\n",
              "      box-shadow: 0px 1px 3px 1px rgba(0, 0, 0, 0.15);\n",
              "      filter: drop-shadow(0px 1px 2px rgba(0, 0, 0, 0.3));\n",
              "      fill: #FFFFFF;\n",
              "    }\n",
              "  </style>\n",
              "\n",
              "      <script>\n",
              "        const buttonEl =\n",
              "          document.querySelector('#df-7d5b5f26-a493-434a-bf4a-da5984c947f7 button.colab-df-convert');\n",
              "        buttonEl.style.display =\n",
              "          google.colab.kernel.accessAllowed ? 'block' : 'none';\n",
              "\n",
              "        async function convertToInteractive(key) {\n",
              "          const element = document.querySelector('#df-7d5b5f26-a493-434a-bf4a-da5984c947f7');\n",
              "          const dataTable =\n",
              "            await google.colab.kernel.invokeFunction('convertToInteractive',\n",
              "                                                     [key], {});\n",
              "          if (!dataTable) return;\n",
              "\n",
              "          const docLinkHtml = 'Like what you see? Visit the ' +\n",
              "            '<a target=\"_blank\" href=https://colab.research.google.com/notebooks/data_table.ipynb>data table notebook</a>'\n",
              "            + ' to learn more about interactive tables.';\n",
              "          element.innerHTML = '';\n",
              "          dataTable['output_type'] = 'display_data';\n",
              "          await google.colab.output.renderOutput(dataTable, element);\n",
              "          const docLink = document.createElement('div');\n",
              "          docLink.innerHTML = docLinkHtml;\n",
              "          element.appendChild(docLink);\n",
              "        }\n",
              "      </script>\n",
              "    </div>\n",
              "  </div>\n",
              "  "
            ]
          },
          "metadata": {},
          "execution_count": 5
        }
      ]
    },
    {
      "cell_type": "markdown",
      "source": [
        "* 3 columns have yes and no for answers that need to be converted to 1's and 0's\n",
        "* column names are already normalized"
      ],
      "metadata": {
        "id": "1zWXdFMPIEGm"
      }
    },
    {
      "cell_type": "code",
      "source": [
        "binary_columns = ['card','owner','selfemp']\n",
        "df[binary_columns] = (df[binary_columns] == 'yes').astype(int)"
      ],
      "metadata": {
        "id": "lTcsa_puH5YO"
      },
      "execution_count": 6,
      "outputs": []
    },
    {
      "cell_type": "code",
      "source": [
        "df.head(5) # confirm change"
      ],
      "metadata": {
        "colab": {
          "base_uri": "https://localhost:8080/",
          "height": 206
        },
        "id": "Hd61VNFkI2Dw",
        "outputId": "336d442f-5a8e-4f8d-8a42-b9f517b0d40b"
      },
      "execution_count": 7,
      "outputs": [
        {
          "output_type": "execute_result",
          "data": {
            "text/plain": [
              "   card  reports       age  income     share  expenditure  owner  selfemp  \\\n",
              "0     1        0  37.66667  4.5200  0.033270   124.983300      1        0   \n",
              "1     1        0  33.25000  2.4200  0.005217     9.854167      0        0   \n",
              "2     1        0  33.66667  4.5000  0.004156    15.000000      1        0   \n",
              "3     1        0  30.50000  2.5400  0.065214   137.869200      0        0   \n",
              "4     1        0  32.16667  9.7867  0.067051   546.503300      1        0   \n",
              "\n",
              "   dependents  months  majorcards  active  \n",
              "0           3      54           1      12  \n",
              "1           3      34           1      13  \n",
              "2           4      58           1       5  \n",
              "3           0      25           1       7  \n",
              "4           2      64           1       5  "
            ],
            "text/html": [
              "\n",
              "  <div id=\"df-6c348dae-e667-4207-89f0-5dd15a82e066\">\n",
              "    <div class=\"colab-df-container\">\n",
              "      <div>\n",
              "<style scoped>\n",
              "    .dataframe tbody tr th:only-of-type {\n",
              "        vertical-align: middle;\n",
              "    }\n",
              "\n",
              "    .dataframe tbody tr th {\n",
              "        vertical-align: top;\n",
              "    }\n",
              "\n",
              "    .dataframe thead th {\n",
              "        text-align: right;\n",
              "    }\n",
              "</style>\n",
              "<table border=\"1\" class=\"dataframe\">\n",
              "  <thead>\n",
              "    <tr style=\"text-align: right;\">\n",
              "      <th></th>\n",
              "      <th>card</th>\n",
              "      <th>reports</th>\n",
              "      <th>age</th>\n",
              "      <th>income</th>\n",
              "      <th>share</th>\n",
              "      <th>expenditure</th>\n",
              "      <th>owner</th>\n",
              "      <th>selfemp</th>\n",
              "      <th>dependents</th>\n",
              "      <th>months</th>\n",
              "      <th>majorcards</th>\n",
              "      <th>active</th>\n",
              "    </tr>\n",
              "  </thead>\n",
              "  <tbody>\n",
              "    <tr>\n",
              "      <th>0</th>\n",
              "      <td>1</td>\n",
              "      <td>0</td>\n",
              "      <td>37.66667</td>\n",
              "      <td>4.5200</td>\n",
              "      <td>0.033270</td>\n",
              "      <td>124.983300</td>\n",
              "      <td>1</td>\n",
              "      <td>0</td>\n",
              "      <td>3</td>\n",
              "      <td>54</td>\n",
              "      <td>1</td>\n",
              "      <td>12</td>\n",
              "    </tr>\n",
              "    <tr>\n",
              "      <th>1</th>\n",
              "      <td>1</td>\n",
              "      <td>0</td>\n",
              "      <td>33.25000</td>\n",
              "      <td>2.4200</td>\n",
              "      <td>0.005217</td>\n",
              "      <td>9.854167</td>\n",
              "      <td>0</td>\n",
              "      <td>0</td>\n",
              "      <td>3</td>\n",
              "      <td>34</td>\n",
              "      <td>1</td>\n",
              "      <td>13</td>\n",
              "    </tr>\n",
              "    <tr>\n",
              "      <th>2</th>\n",
              "      <td>1</td>\n",
              "      <td>0</td>\n",
              "      <td>33.66667</td>\n",
              "      <td>4.5000</td>\n",
              "      <td>0.004156</td>\n",
              "      <td>15.000000</td>\n",
              "      <td>1</td>\n",
              "      <td>0</td>\n",
              "      <td>4</td>\n",
              "      <td>58</td>\n",
              "      <td>1</td>\n",
              "      <td>5</td>\n",
              "    </tr>\n",
              "    <tr>\n",
              "      <th>3</th>\n",
              "      <td>1</td>\n",
              "      <td>0</td>\n",
              "      <td>30.50000</td>\n",
              "      <td>2.5400</td>\n",
              "      <td>0.065214</td>\n",
              "      <td>137.869200</td>\n",
              "      <td>0</td>\n",
              "      <td>0</td>\n",
              "      <td>0</td>\n",
              "      <td>25</td>\n",
              "      <td>1</td>\n",
              "      <td>7</td>\n",
              "    </tr>\n",
              "    <tr>\n",
              "      <th>4</th>\n",
              "      <td>1</td>\n",
              "      <td>0</td>\n",
              "      <td>32.16667</td>\n",
              "      <td>9.7867</td>\n",
              "      <td>0.067051</td>\n",
              "      <td>546.503300</td>\n",
              "      <td>1</td>\n",
              "      <td>0</td>\n",
              "      <td>2</td>\n",
              "      <td>64</td>\n",
              "      <td>1</td>\n",
              "      <td>5</td>\n",
              "    </tr>\n",
              "  </tbody>\n",
              "</table>\n",
              "</div>\n",
              "      <button class=\"colab-df-convert\" onclick=\"convertToInteractive('df-6c348dae-e667-4207-89f0-5dd15a82e066')\"\n",
              "              title=\"Convert this dataframe to an interactive table.\"\n",
              "              style=\"display:none;\">\n",
              "        \n",
              "  <svg xmlns=\"http://www.w3.org/2000/svg\" height=\"24px\"viewBox=\"0 0 24 24\"\n",
              "       width=\"24px\">\n",
              "    <path d=\"M0 0h24v24H0V0z\" fill=\"none\"/>\n",
              "    <path d=\"M18.56 5.44l.94 2.06.94-2.06 2.06-.94-2.06-.94-.94-2.06-.94 2.06-2.06.94zm-11 1L8.5 8.5l.94-2.06 2.06-.94-2.06-.94L8.5 2.5l-.94 2.06-2.06.94zm10 10l.94 2.06.94-2.06 2.06-.94-2.06-.94-.94-2.06-.94 2.06-2.06.94z\"/><path d=\"M17.41 7.96l-1.37-1.37c-.4-.4-.92-.59-1.43-.59-.52 0-1.04.2-1.43.59L10.3 9.45l-7.72 7.72c-.78.78-.78 2.05 0 2.83L4 21.41c.39.39.9.59 1.41.59.51 0 1.02-.2 1.41-.59l7.78-7.78 2.81-2.81c.8-.78.8-2.07 0-2.86zM5.41 20L4 18.59l7.72-7.72 1.47 1.35L5.41 20z\"/>\n",
              "  </svg>\n",
              "      </button>\n",
              "      \n",
              "  <style>\n",
              "    .colab-df-container {\n",
              "      display:flex;\n",
              "      flex-wrap:wrap;\n",
              "      gap: 12px;\n",
              "    }\n",
              "\n",
              "    .colab-df-convert {\n",
              "      background-color: #E8F0FE;\n",
              "      border: none;\n",
              "      border-radius: 50%;\n",
              "      cursor: pointer;\n",
              "      display: none;\n",
              "      fill: #1967D2;\n",
              "      height: 32px;\n",
              "      padding: 0 0 0 0;\n",
              "      width: 32px;\n",
              "    }\n",
              "\n",
              "    .colab-df-convert:hover {\n",
              "      background-color: #E2EBFA;\n",
              "      box-shadow: 0px 1px 2px rgba(60, 64, 67, 0.3), 0px 1px 3px 1px rgba(60, 64, 67, 0.15);\n",
              "      fill: #174EA6;\n",
              "    }\n",
              "\n",
              "    [theme=dark] .colab-df-convert {\n",
              "      background-color: #3B4455;\n",
              "      fill: #D2E3FC;\n",
              "    }\n",
              "\n",
              "    [theme=dark] .colab-df-convert:hover {\n",
              "      background-color: #434B5C;\n",
              "      box-shadow: 0px 1px 3px 1px rgba(0, 0, 0, 0.15);\n",
              "      filter: drop-shadow(0px 1px 2px rgba(0, 0, 0, 0.3));\n",
              "      fill: #FFFFFF;\n",
              "    }\n",
              "  </style>\n",
              "\n",
              "      <script>\n",
              "        const buttonEl =\n",
              "          document.querySelector('#df-6c348dae-e667-4207-89f0-5dd15a82e066 button.colab-df-convert');\n",
              "        buttonEl.style.display =\n",
              "          google.colab.kernel.accessAllowed ? 'block' : 'none';\n",
              "\n",
              "        async function convertToInteractive(key) {\n",
              "          const element = document.querySelector('#df-6c348dae-e667-4207-89f0-5dd15a82e066');\n",
              "          const dataTable =\n",
              "            await google.colab.kernel.invokeFunction('convertToInteractive',\n",
              "                                                     [key], {});\n",
              "          if (!dataTable) return;\n",
              "\n",
              "          const docLinkHtml = 'Like what you see? Visit the ' +\n",
              "            '<a target=\"_blank\" href=https://colab.research.google.com/notebooks/data_table.ipynb>data table notebook</a>'\n",
              "            + ' to learn more about interactive tables.';\n",
              "          element.innerHTML = '';\n",
              "          dataTable['output_type'] = 'display_data';\n",
              "          await google.colab.output.renderOutput(dataTable, element);\n",
              "          const docLink = document.createElement('div');\n",
              "          docLink.innerHTML = docLinkHtml;\n",
              "          element.appendChild(docLink);\n",
              "        }\n",
              "      </script>\n",
              "    </div>\n",
              "  </div>\n",
              "  "
            ]
          },
          "metadata": {},
          "execution_count": 7
        }
      ]
    },
    {
      "cell_type": "code",
      "source": [
        "df_full_train, df_val = train_test_split(df, test_size=0.2, random_state=1)\n",
        "df_train, df_test = train_test_split(df_full_train, test_size=0.25, random_state=1)\n",
        "\n",
        "df_full_train = df_full_train.reset_index(drop=True)\n",
        "df_train = df_train.reset_index(drop=True)\n",
        "df_val = df_val.reset_index(drop=True)\n",
        "df_test = df_test.reset_index(drop=True)\n",
        "\n",
        "#y_full_train = df_full_train.card.values\n",
        "y_train = df_train.card.values\n",
        "y_val = df_val.card.values\n",
        "y_test = df_test.card.values\n",
        "\n",
        "#del df_full_train['card']\n",
        "del df_train['card']\n",
        "del df_val['card']\n",
        "del df_test['card']"
      ],
      "metadata": {
        "id": "-mAOt_oyI8wH"
      },
      "execution_count": 8,
      "outputs": []
    },
    {
      "cell_type": "markdown",
      "source": [
        "# Question 1"
      ],
      "metadata": {
        "id": "iNgkSDFR_l4P"
      }
    },
    {
      "cell_type": "markdown",
      "source": [
        "**ROC AUC could also be used to evaluate feature importance of numerical variables.**\n",
        "\n",
        "Let's do that\n",
        "\n",
        "* For each numerical variable, use it as score and compute AUC with the card variable.\n",
        "* Use the training dataset for that.\n",
        "\n",
        "If your AUC is < 0.5, invert this variable by putting \"-\" in front\n",
        "\n",
        "(e.g. -df_train['expenditure'])\n",
        "\n",
        "AUC can go below 0.5 if the variable is negatively correlated with the target varialble. You can change the direction of the correlation by negating this variable - then negative correlation becomes positive.\n",
        "\n",
        "Which numerical variable (among the following 4) has the highest AUC?\n",
        "\n",
        "* ~~reports~~\n",
        "* ~~dependents~~\n",
        "* ~~active~~\n",
        "* **share**"
      ],
      "metadata": {
        "id": "ZKclbcE4FMRe"
      }
    },
    {
      "cell_type": "code",
      "source": [
        "from sklearn.metrics import roc_auc_score"
      ],
      "metadata": {
        "id": "PnvXzxfeOWqm"
      },
      "execution_count": 9,
      "outputs": []
    },
    {
      "cell_type": "code",
      "source": [
        "q1_columns = ['reports','dependents','active','share']\n",
        "\n",
        "for i in q1_columns:\n",
        "  score = roc_auc_score(y_train,df_train[i])\n",
        "  if score < 0.5:\n",
        "    score = roc_auc_score(y_train,-df_train[i])\n",
        "  print(i,'  ', score)\n"
      ],
      "metadata": {
        "colab": {
          "base_uri": "https://localhost:8080/"
        },
        "id": "GmWEvOHyKEON",
        "outputId": "b1c455a7-ab21-498e-a10a-dc43e04d8fee"
      },
      "execution_count": 10,
      "outputs": [
        {
          "output_type": "stream",
          "name": "stdout",
          "text": [
            "reports    0.7166629860689376\n",
            "dependents    0.5327757227773791\n",
            "active    0.6043173411362006\n",
            "share    0.989183643423692\n"
          ]
        }
      ]
    },
    {
      "cell_type": "code",
      "source": [
        "# try subracting feature.\n",
        "for i in q1_columns:\n",
        "  score = roc_auc_score(y_train,df_train[i])\n",
        "  if score < 0.5:\n",
        "    score = roc_auc_score(y_train,-df_train[i])\n",
        "  print(i,'  ', score)"
      ],
      "metadata": {
        "id": "8jFh0lvzgiot",
        "outputId": "21b18e4e-0416-48b1-b9b6-ed75a61f3667",
        "colab": {
          "base_uri": "https://localhost:8080/"
        }
      },
      "execution_count": 11,
      "outputs": [
        {
          "output_type": "stream",
          "name": "stdout",
          "text": [
            "reports    0.7166629860689376\n",
            "dependents    0.5327757227773791\n",
            "active    0.6043173411362006\n",
            "share    0.989183643423692\n"
          ]
        }
      ]
    },
    {
      "cell_type": "code",
      "source": [
        "# ask about RMSE and AUC"
      ],
      "metadata": {
        "id": "zuKjV197hqtv"
      },
      "execution_count": 12,
      "outputs": []
    },
    {
      "cell_type": "markdown",
      "source": [
        "**Below is just for fun to see how these compare**"
      ],
      "metadata": {
        "id": "v9H7tA8BfEyq"
      }
    },
    {
      "cell_type": "code",
      "source": [
        "from sklearn.metrics import mutual_info_score\n",
        "\n",
        "def mutual_info_card_score(series):\n",
        "  return mutual_info_score(series, df_full_train.card)\n",
        "\n",
        "mi = df_full_train[q1_columns].apply(mutual_info_card_score)\n",
        "mi.sort_values(ascending = False)"
      ],
      "metadata": {
        "colab": {
          "base_uri": "https://localhost:8080/"
        },
        "id": "e6GBVswgcmOU",
        "outputId": "af67cbb9-3cf6-4aa9-e388-2fe3a637d27b"
      },
      "execution_count": 13,
      "outputs": [
        {
          "output_type": "stream",
          "name": "stderr",
          "text": [
            "/usr/local/lib/python3.7/dist-packages/sklearn/metrics/cluster/_supervised.py:65: UserWarning: Clustering metrics expects discrete values but received continuous values for label, and binary values for target\n",
            "  warnings.warn(msg, UserWarning)\n"
          ]
        },
        {
          "output_type": "execute_result",
          "data": {
            "text/plain": [
              "share         0.500485\n",
              "reports       0.111301\n",
              "active        0.025267\n",
              "dependents    0.001211\n",
              "dtype: float64"
            ]
          },
          "metadata": {},
          "execution_count": 13
        }
      ]
    },
    {
      "cell_type": "code",
      "source": [
        "df_full_train[q1_columns].corrwith(df_full_train.card)"
      ],
      "metadata": {
        "colab": {
          "base_uri": "https://localhost:8080/"
        },
        "id": "IhtmvtLee4zT",
        "outputId": "9755d05a-a6d2-4cec-f037-a8c591f1eea8"
      },
      "execution_count": 14,
      "outputs": [
        {
          "output_type": "execute_result",
          "data": {
            "text/plain": [
              "reports      -0.453501\n",
              "dependents   -0.026171\n",
              "active        0.089404\n",
              "share         0.388468\n",
              "dtype: float64"
            ]
          },
          "metadata": {},
          "execution_count": 14
        }
      ]
    },
    {
      "cell_type": "markdown",
      "source": [
        "# Training the model"
      ],
      "metadata": {
        "id": "IkRGd2kX_6Hu"
      }
    },
    {
      "cell_type": "markdown",
      "source": [
        "From now on, use these columns only:\n",
        "\n",
        "`[\"reports\", \"age\", \"income\", \"share\", \"expenditure\", \"dependents\", \"months\", \"majorcards\", \"active\", \"owner\", \"selfemp\"]`\n",
        "\n",
        "Apply one-hot-encoding using DictVectorizer and train the logistic regression with these parameters:\n",
        "\n",
        "`LogisticRegression(solver='liblinear', C=1.0, max_iter=1000)`"
      ],
      "metadata": {
        "id": "N55HsvEUFR03"
      }
    },
    {
      "cell_type": "code",
      "source": [
        "features = [\"reports\", \"age\", \"income\", \"share\", \"expenditure\", \"dependents\", \"months\", \"majorcards\", \"active\", \"owner\", \"selfemp\"]"
      ],
      "metadata": {
        "id": "86Btz9hBX1KX"
      },
      "execution_count": 15,
      "outputs": []
    },
    {
      "cell_type": "code",
      "source": [
        "dv = DictVectorizer(sparse = False)\n",
        "train_dict = df_train[features].to_dict(orient = 'records')\n",
        "x_train = dv.fit_transform(train_dict)\n",
        "\n",
        "val_dict = df_val.to_dict(orient='records')\n",
        "x_val = dv.transform(val_dict)\n",
        "\n",
        "model = LogisticRegression(solver=\"liblinear\", C=1.0, max_iter=1000, random_state=1)\n",
        "model.fit(x_train, y_train) \n",
        "\n",
        "y_pred = model.predict_proba(x_val)[:,1]\n",
        "\n",
        "display((y_val == y_pred).mean())"
      ],
      "metadata": {
        "colab": {
          "base_uri": "https://localhost:8080/",
          "height": 0
        },
        "id": "tXQg6IwbYGBL",
        "outputId": "79e35d31-cc2c-499b-eab6-53a4f4155054"
      },
      "execution_count": 16,
      "outputs": [
        {
          "output_type": "display_data",
          "data": {
            "text/plain": [
              "0.6628787878787878"
            ]
          },
          "metadata": {}
        }
      ]
    },
    {
      "cell_type": "markdown",
      "source": [
        "# Question 2"
      ],
      "metadata": {
        "id": "_HQwfYnRADZY"
      }
    },
    {
      "cell_type": "markdown",
      "source": [
        "What's the AUC of this model on the validation dataset? (round to 3 digits)\n",
        "\n",
        "* ~~0.615~~\n",
        "* ~~0.515~~\n",
        "* ~~0.715~~\n",
        "* **0.995**"
      ],
      "metadata": {
        "id": "1f2BBjwHFfBG"
      }
    },
    {
      "cell_type": "code",
      "source": [
        "roc_auc_score(y_val, y_pred)"
      ],
      "metadata": {
        "colab": {
          "base_uri": "https://localhost:8080/"
        },
        "id": "30d3v_l5h_Sq",
        "outputId": "73c1dd61-e90f-43e8-b2c7-a169828e025d"
      },
      "execution_count": 17,
      "outputs": [
        {
          "output_type": "execute_result",
          "data": {
            "text/plain": [
              "0.9956382001836548"
            ]
          },
          "metadata": {},
          "execution_count": 17
        }
      ]
    },
    {
      "cell_type": "markdown",
      "source": [
        "# Question 3"
      ],
      "metadata": {
        "id": "bD7XaiDaAJ_n"
      }
    },
    {
      "cell_type": "markdown",
      "source": [
        "Now let's compute precision and recall for our model.\n",
        "\n",
        "* Evaluate the model on all thresholds from 0.0 to 1.0 with step 0.01\n",
        "* For each threshold, compute precision and recall\n",
        "* Plot them\n",
        "\n",
        "At which threshold precision and recall curves intersect?\n",
        "\n",
        "* 0.1\n",
        "* **0.3**\n",
        "* 0.6\n",
        "* 0.8"
      ],
      "metadata": {
        "id": "sRvKLVRWFkfm"
      }
    },
    {
      "cell_type": "code",
      "source": [
        "from sklearn.metrics import accuracy_score"
      ],
      "metadata": {
        "id": "-DestGboiXuR"
      },
      "execution_count": 18,
      "outputs": []
    },
    {
      "cell_type": "code",
      "source": [
        "thresholds = np.linspace(0, 1, 101) \n",
        "\n",
        "scores = []\n",
        "\n",
        "actual_positive = (y_val == 1)\n",
        "actual_negative = (y_val == 0)\n",
        "\n",
        "for t in thresholds:\n",
        "\n",
        "    predict_positive = (y_pred >= t)\n",
        "    predict_negative = (y_pred < t)\n",
        "\n",
        "    tp = (predict_positive & actual_positive).sum()\n",
        "    tn = (predict_negative & actual_negative).sum()\n",
        "\n",
        "    fp = (predict_positive & actual_negative).sum()\n",
        "    fn = (predict_negative & actual_positive).sum()\n",
        "\n",
        "    scores.append((t, tp, fp, fn, tn))"
      ],
      "metadata": {
        "id": "QofDFzbdOla9"
      },
      "execution_count": 19,
      "outputs": []
    },
    {
      "cell_type": "code",
      "source": [
        "# create a dataframe\n",
        "add_columns = ['threshold', 'tp', 'fp', 'fn', 'tn']\n",
        "df_scores = pd.DataFrame(scores, columns=add_columns)\n",
        "# all rows, all colums, step=10\n",
        "df_scores[::10]"
      ],
      "metadata": {
        "colab": {
          "base_uri": "https://localhost:8080/",
          "height": 394
        },
        "id": "Z755N9XDTuXk",
        "outputId": "d32649f4-3914-47f4-fe85-48ca21dbd0c5"
      },
      "execution_count": 20,
      "outputs": [
        {
          "output_type": "execute_result",
          "data": {
            "text/plain": [
              "     threshold   tp  fp  fn  tn\n",
              "0          0.0  198  66   0   0\n",
              "10         0.1  196  20   2  46\n",
              "20         0.2  195   5   3  61\n",
              "30         0.3  195   2   3  64\n",
              "40         0.4  195   1   3  65\n",
              "50         0.5  195   0   3  66\n",
              "60         0.6  195   0   3  66\n",
              "70         0.7  195   0   3  66\n",
              "80         0.8  195   0   3  66\n",
              "90         0.9  195   0   3  66\n",
              "100        1.0  175   0  23  66"
            ],
            "text/html": [
              "\n",
              "  <div id=\"df-ee72565f-65f7-40ed-8637-2f3e09ff5a63\">\n",
              "    <div class=\"colab-df-container\">\n",
              "      <div>\n",
              "<style scoped>\n",
              "    .dataframe tbody tr th:only-of-type {\n",
              "        vertical-align: middle;\n",
              "    }\n",
              "\n",
              "    .dataframe tbody tr th {\n",
              "        vertical-align: top;\n",
              "    }\n",
              "\n",
              "    .dataframe thead th {\n",
              "        text-align: right;\n",
              "    }\n",
              "</style>\n",
              "<table border=\"1\" class=\"dataframe\">\n",
              "  <thead>\n",
              "    <tr style=\"text-align: right;\">\n",
              "      <th></th>\n",
              "      <th>threshold</th>\n",
              "      <th>tp</th>\n",
              "      <th>fp</th>\n",
              "      <th>fn</th>\n",
              "      <th>tn</th>\n",
              "    </tr>\n",
              "  </thead>\n",
              "  <tbody>\n",
              "    <tr>\n",
              "      <th>0</th>\n",
              "      <td>0.0</td>\n",
              "      <td>198</td>\n",
              "      <td>66</td>\n",
              "      <td>0</td>\n",
              "      <td>0</td>\n",
              "    </tr>\n",
              "    <tr>\n",
              "      <th>10</th>\n",
              "      <td>0.1</td>\n",
              "      <td>196</td>\n",
              "      <td>20</td>\n",
              "      <td>2</td>\n",
              "      <td>46</td>\n",
              "    </tr>\n",
              "    <tr>\n",
              "      <th>20</th>\n",
              "      <td>0.2</td>\n",
              "      <td>195</td>\n",
              "      <td>5</td>\n",
              "      <td>3</td>\n",
              "      <td>61</td>\n",
              "    </tr>\n",
              "    <tr>\n",
              "      <th>30</th>\n",
              "      <td>0.3</td>\n",
              "      <td>195</td>\n",
              "      <td>2</td>\n",
              "      <td>3</td>\n",
              "      <td>64</td>\n",
              "    </tr>\n",
              "    <tr>\n",
              "      <th>40</th>\n",
              "      <td>0.4</td>\n",
              "      <td>195</td>\n",
              "      <td>1</td>\n",
              "      <td>3</td>\n",
              "      <td>65</td>\n",
              "    </tr>\n",
              "    <tr>\n",
              "      <th>50</th>\n",
              "      <td>0.5</td>\n",
              "      <td>195</td>\n",
              "      <td>0</td>\n",
              "      <td>3</td>\n",
              "      <td>66</td>\n",
              "    </tr>\n",
              "    <tr>\n",
              "      <th>60</th>\n",
              "      <td>0.6</td>\n",
              "      <td>195</td>\n",
              "      <td>0</td>\n",
              "      <td>3</td>\n",
              "      <td>66</td>\n",
              "    </tr>\n",
              "    <tr>\n",
              "      <th>70</th>\n",
              "      <td>0.7</td>\n",
              "      <td>195</td>\n",
              "      <td>0</td>\n",
              "      <td>3</td>\n",
              "      <td>66</td>\n",
              "    </tr>\n",
              "    <tr>\n",
              "      <th>80</th>\n",
              "      <td>0.8</td>\n",
              "      <td>195</td>\n",
              "      <td>0</td>\n",
              "      <td>3</td>\n",
              "      <td>66</td>\n",
              "    </tr>\n",
              "    <tr>\n",
              "      <th>90</th>\n",
              "      <td>0.9</td>\n",
              "      <td>195</td>\n",
              "      <td>0</td>\n",
              "      <td>3</td>\n",
              "      <td>66</td>\n",
              "    </tr>\n",
              "    <tr>\n",
              "      <th>100</th>\n",
              "      <td>1.0</td>\n",
              "      <td>175</td>\n",
              "      <td>0</td>\n",
              "      <td>23</td>\n",
              "      <td>66</td>\n",
              "    </tr>\n",
              "  </tbody>\n",
              "</table>\n",
              "</div>\n",
              "      <button class=\"colab-df-convert\" onclick=\"convertToInteractive('df-ee72565f-65f7-40ed-8637-2f3e09ff5a63')\"\n",
              "              title=\"Convert this dataframe to an interactive table.\"\n",
              "              style=\"display:none;\">\n",
              "        \n",
              "  <svg xmlns=\"http://www.w3.org/2000/svg\" height=\"24px\"viewBox=\"0 0 24 24\"\n",
              "       width=\"24px\">\n",
              "    <path d=\"M0 0h24v24H0V0z\" fill=\"none\"/>\n",
              "    <path d=\"M18.56 5.44l.94 2.06.94-2.06 2.06-.94-2.06-.94-.94-2.06-.94 2.06-2.06.94zm-11 1L8.5 8.5l.94-2.06 2.06-.94-2.06-.94L8.5 2.5l-.94 2.06-2.06.94zm10 10l.94 2.06.94-2.06 2.06-.94-2.06-.94-.94-2.06-.94 2.06-2.06.94z\"/><path d=\"M17.41 7.96l-1.37-1.37c-.4-.4-.92-.59-1.43-.59-.52 0-1.04.2-1.43.59L10.3 9.45l-7.72 7.72c-.78.78-.78 2.05 0 2.83L4 21.41c.39.39.9.59 1.41.59.51 0 1.02-.2 1.41-.59l7.78-7.78 2.81-2.81c.8-.78.8-2.07 0-2.86zM5.41 20L4 18.59l7.72-7.72 1.47 1.35L5.41 20z\"/>\n",
              "  </svg>\n",
              "      </button>\n",
              "      \n",
              "  <style>\n",
              "    .colab-df-container {\n",
              "      display:flex;\n",
              "      flex-wrap:wrap;\n",
              "      gap: 12px;\n",
              "    }\n",
              "\n",
              "    .colab-df-convert {\n",
              "      background-color: #E8F0FE;\n",
              "      border: none;\n",
              "      border-radius: 50%;\n",
              "      cursor: pointer;\n",
              "      display: none;\n",
              "      fill: #1967D2;\n",
              "      height: 32px;\n",
              "      padding: 0 0 0 0;\n",
              "      width: 32px;\n",
              "    }\n",
              "\n",
              "    .colab-df-convert:hover {\n",
              "      background-color: #E2EBFA;\n",
              "      box-shadow: 0px 1px 2px rgba(60, 64, 67, 0.3), 0px 1px 3px 1px rgba(60, 64, 67, 0.15);\n",
              "      fill: #174EA6;\n",
              "    }\n",
              "\n",
              "    [theme=dark] .colab-df-convert {\n",
              "      background-color: #3B4455;\n",
              "      fill: #D2E3FC;\n",
              "    }\n",
              "\n",
              "    [theme=dark] .colab-df-convert:hover {\n",
              "      background-color: #434B5C;\n",
              "      box-shadow: 0px 1px 3px 1px rgba(0, 0, 0, 0.15);\n",
              "      filter: drop-shadow(0px 1px 2px rgba(0, 0, 0, 0.3));\n",
              "      fill: #FFFFFF;\n",
              "    }\n",
              "  </style>\n",
              "\n",
              "      <script>\n",
              "        const buttonEl =\n",
              "          document.querySelector('#df-ee72565f-65f7-40ed-8637-2f3e09ff5a63 button.colab-df-convert');\n",
              "        buttonEl.style.display =\n",
              "          google.colab.kernel.accessAllowed ? 'block' : 'none';\n",
              "\n",
              "        async function convertToInteractive(key) {\n",
              "          const element = document.querySelector('#df-ee72565f-65f7-40ed-8637-2f3e09ff5a63');\n",
              "          const dataTable =\n",
              "            await google.colab.kernel.invokeFunction('convertToInteractive',\n",
              "                                                     [key], {});\n",
              "          if (!dataTable) return;\n",
              "\n",
              "          const docLinkHtml = 'Like what you see? Visit the ' +\n",
              "            '<a target=\"_blank\" href=https://colab.research.google.com/notebooks/data_table.ipynb>data table notebook</a>'\n",
              "            + ' to learn more about interactive tables.';\n",
              "          element.innerHTML = '';\n",
              "          dataTable['output_type'] = 'display_data';\n",
              "          await google.colab.output.renderOutput(dataTable, element);\n",
              "          const docLink = document.createElement('div');\n",
              "          docLink.innerHTML = docLinkHtml;\n",
              "          element.appendChild(docLink);\n",
              "        }\n",
              "      </script>\n",
              "    </div>\n",
              "  </div>\n",
              "  "
            ]
          },
          "metadata": {},
          "execution_count": 20
        }
      ]
    },
    {
      "cell_type": "code",
      "source": [
        " # Precision = TP / TP + FP\n",
        " df_scores['pre'] = df_scores.tp / (df_scores.tp + df_scores.fp)\n",
        "\n",
        "# Recall = TP / TP + FN\n",
        "\n",
        "df_scores['re'] = df_scores.tp / (df_scores.tp + df_scores.fn)"
      ],
      "metadata": {
        "id": "aYdaO646TilN"
      },
      "execution_count": 21,
      "outputs": []
    },
    {
      "cell_type": "markdown",
      "source": [
        "\n",
        "\n",
        "```\n",
        "idx = np.argwhere(np.diff(np.sign(f - g))).flatten()\n",
        "plt.plot(x[idx], f[idx], 'ro')\n",
        "```\n",
        "\n"
      ],
      "metadata": {
        "id": "-Kjzb_k44n6d"
      }
    },
    {
      "cell_type": "code",
      "source": [
        "plt.figure(figsize=(10,10))\n",
        "\n",
        "plt.plot(df_scores.threshold, df_scores['pre'], label='Precision')\n",
        "plt.plot(df_scores.threshold, df_scores['re'], label='Recall')\n",
        "\n",
        "idx = np.argwhere(np.diff(np.sign(df_scores.pre - df_scores.re))).flatten()\n",
        "plt.plot(df_scores.threshold[idx], df_scores.pre[idx], 'ro')\n",
        "\n",
        "# verticle dashed line\n",
        "plt.vlines(0.27, 0, 1, color='red', linestyle='--', alpha=1) # 0.27\n",
        "\n",
        "# intercept label\n",
        "for i in range(len(df_scores.threshold[idx])):\n",
        "  plt.text(df_scores.threshold[idx].iloc[i], df_scores.pre[idx].iloc[i] + 0.003, f'{df_scores.threshold[idx].iloc[i]}', rotation=45, ha='center')\n",
        "\n",
        "\n",
        "#graph label\n",
        "plt.xlabel(\"Threshold\")\n",
        "plt.ylabel(\"Score\")\n",
        "plt.legend()"
      ],
      "metadata": {
        "colab": {
          "base_uri": "https://localhost:8080/",
          "height": 623
        },
        "id": "-ecLcR8aPKii",
        "outputId": "096a1223-2b73-40db-f970-004851e197d4"
      },
      "execution_count": 22,
      "outputs": [
        {
          "output_type": "execute_result",
          "data": {
            "text/plain": [
              "<matplotlib.legend.Legend at 0x7fd414420310>"
            ]
          },
          "metadata": {},
          "execution_count": 22
        },
        {
          "output_type": "display_data",
          "data": {
            "text/plain": [
              "<Figure size 720x720 with 1 Axes>"
            ],
            "image/png": "[encoded data removed]"
          },
          "metadata": {
            "needs_background": "light"
          }
        }
      ]
    },
    {
      "cell_type": "code",
      "source": [
        "idx"
      ],
      "metadata": {
        "colab": {
          "base_uri": "https://localhost:8080/"
        },
        "id": "uVfPj1QDZ_mS",
        "outputId": "3075ef4d-6631-4942-8d6b-1a0320728ebb"
      },
      "execution_count": 23,
      "outputs": [
        {
          "output_type": "execute_result",
          "data": {
            "text/plain": [
              "array([22, 27])"
            ]
          },
          "metadata": {},
          "execution_count": 23
        }
      ]
    },
    {
      "cell_type": "markdown",
      "source": [
        "#Question 4"
      ],
      "metadata": {
        "id": "IAP61TXTFoF2"
      }
    },
    {
      "cell_type": "markdown",
      "source": [
        "Precision and recall are conflicting - when one grows, the other goes down. That's why they are often combined into the F1 score - a metrics that takes into account both\n",
        "\n",
        "This is the formula for computing F1:\n",
        "\n",
        "F1 = 2 * P * R / (P + R)\n",
        "\n",
        "Where P is precision and R is recall.\n",
        "\n",
        "Let's compute F1 for all thresholds from 0.0 to 1.0 with increment 0.01\n",
        "\n",
        "At which threshold F1 is maximal?\n",
        "\n",
        "* **0.1**\n",
        "* 0.4\n",
        "* 0.6\n",
        "* 0.7"
      ],
      "metadata": {
        "id": "UzdFsQ5DFrFe"
      }
    },
    {
      "cell_type": "code",
      "source": [
        "scores2 = []\n",
        "\n",
        "actual_positive = (y_val == 1)\n",
        "actual_negative = (y_val == 0)\n",
        "\n",
        "for t in thresholds:\n",
        "\n",
        "    predict_positive = (y_pred >= t)\n",
        "    predict_negative = (y_pred < t)\n",
        "\n",
        "    tp = (predict_positive & actual_positive).sum()\n",
        "    tn = (predict_negative & actual_negative).sum()\n",
        "\n",
        "    fp = (predict_positive & actual_negative).sum()\n",
        "    fn = (predict_negative & actual_positive).sum()\n",
        "    # F1 = 2 * P * R / (P + R)\n",
        "    f1 = (2* (tp/(tp+fp)) * (tp/(tp+fn))) / (tp/(tp+fp)) + (tp/(tp+fn))\n",
        "\n",
        "    scores2.append((t, tp, fp, fn, tn, f1))"
      ],
      "metadata": {
        "id": "UxNenp7LVOjz"
      },
      "execution_count": 24,
      "outputs": []
    },
    {
      "cell_type": "code",
      "source": [
        "add_columns2 = ['threshold', 'tp', 'fp', 'fn', 'tn','f1']\n",
        "df_scores2 = pd.DataFrame(scores2, columns=add_columns2)"
      ],
      "metadata": {
        "id": "2cu1IWPJV0Rp"
      },
      "execution_count": 25,
      "outputs": []
    },
    {
      "cell_type": "code",
      "source": [
        "plt.plot(df_scores2.threshold, df_scores2.f1)"
      ],
      "metadata": {
        "colab": {
          "base_uri": "https://localhost:8080/",
          "height": 282
        },
        "id": "OVv7WGXq_o5f",
        "outputId": "4aeb5289-8307-4b13-c3a1-3e0fb260871f"
      },
      "execution_count": 43,
      "outputs": [
        {
          "output_type": "execute_result",
          "data": {
            "text/plain": [
              "[<matplotlib.lines.Line2D at 0x7fd410577b10>]"
            ]
          },
          "metadata": {},
          "execution_count": 43
        },
        {
          "output_type": "display_data",
          "data": {
            "text/plain": [
              "<Figure size 432x288 with 1 Axes>"
            ],
            "image/png": "[encoded data removed]"
          },
          "metadata": {
            "needs_background": "light"
          }
        }
      ]
    },
    {
      "cell_type": "code",
      "source": [
        "df_scores2.head(20)"
      ],
      "metadata": {
        "colab": {
          "base_uri": "https://localhost:8080/",
          "height": 677
        },
        "id": "V3INiHv3VotV",
        "outputId": "ea914c6b-2867-486e-ae5a-2f19ce1e5fb0"
      },
      "execution_count": 50,
      "outputs": [
        {
          "output_type": "execute_result",
          "data": {
            "text/plain": [
              "    threshold   tp  fp  fn  tn        f1\n",
              "0        0.00  198  66   0   0  3.000000\n",
              "1        0.01  198  46   0  20  3.000000\n",
              "2        0.02  198  41   0  25  3.000000\n",
              "3        0.03  198  34   0  32  3.000000\n",
              "4        0.04  198  28   0  38  3.000000\n",
              "5        0.05  198  24   0  42  3.000000\n",
              "6        0.06  198  22   0  44  3.000000\n",
              "7        0.07  198  20   0  46  3.000000\n",
              "8        0.08  197  20   1  46  2.984848\n",
              "9        0.09  196  20   2  46  2.969697\n",
              "10       0.10  196  20   2  46  2.969697\n",
              "11       0.11  196  19   2  47  2.969697\n",
              "12       0.12  196  18   2  48  2.969697\n",
              "13       0.13  195  16   3  50  2.954545\n",
              "14       0.14  195  15   3  51  2.954545\n",
              "15       0.15  195  15   3  51  2.954545\n",
              "16       0.16  195   9   3  57  2.954545\n",
              "17       0.17  195   6   3  60  2.954545\n",
              "18       0.18  195   6   3  60  2.954545\n",
              "19       0.19  195   6   3  60  2.954545"
            ],
            "text/html": [
              "\n",
              "  <div id=\"df-3d727fc0-3b8a-42d5-8dec-370287ff3418\">\n",
              "    <div class=\"colab-df-container\">\n",
              "      <div>\n",
              "<style scoped>\n",
              "    .dataframe tbody tr th:only-of-type {\n",
              "        vertical-align: middle;\n",
              "    }\n",
              "\n",
              "    .dataframe tbody tr th {\n",
              "        vertical-align: top;\n",
              "    }\n",
              "\n",
              "    .dataframe thead th {\n",
              "        text-align: right;\n",
              "    }\n",
              "</style>\n",
              "<table border=\"1\" class=\"dataframe\">\n",
              "  <thead>\n",
              "    <tr style=\"text-align: right;\">\n",
              "      <th></th>\n",
              "      <th>threshold</th>\n",
              "      <th>tp</th>\n",
              "      <th>fp</th>\n",
              "      <th>fn</th>\n",
              "      <th>tn</th>\n",
              "      <th>f1</th>\n",
              "    </tr>\n",
              "  </thead>\n",
              "  <tbody>\n",
              "    <tr>\n",
              "      <th>0</th>\n",
              "      <td>0.00</td>\n",
              "      <td>198</td>\n",
              "      <td>66</td>\n",
              "      <td>0</td>\n",
              "      <td>0</td>\n",
              "      <td>3.000000</td>\n",
              "    </tr>\n",
              "    <tr>\n",
              "      <th>1</th>\n",
              "      <td>0.01</td>\n",
              "      <td>198</td>\n",
              "      <td>46</td>\n",
              "      <td>0</td>\n",
              "      <td>20</td>\n",
              "      <td>3.000000</td>\n",
              "    </tr>\n",
              "    <tr>\n",
              "      <th>2</th>\n",
              "      <td>0.02</td>\n",
              "      <td>198</td>\n",
              "      <td>41</td>\n",
              "      <td>0</td>\n",
              "      <td>25</td>\n",
              "      <td>3.000000</td>\n",
              "    </tr>\n",
              "    <tr>\n",
              "      <th>3</th>\n",
              "      <td>0.03</td>\n",
              "      <td>198</td>\n",
              "      <td>34</td>\n",
              "      <td>0</td>\n",
              "      <td>32</td>\n",
              "      <td>3.000000</td>\n",
              "    </tr>\n",
              "    <tr>\n",
              "      <th>4</th>\n",
              "      <td>0.04</td>\n",
              "      <td>198</td>\n",
              "      <td>28</td>\n",
              "      <td>0</td>\n",
              "      <td>38</td>\n",
              "      <td>3.000000</td>\n",
              "    </tr>\n",
              "    <tr>\n",
              "      <th>5</th>\n",
              "      <td>0.05</td>\n",
              "      <td>198</td>\n",
              "      <td>24</td>\n",
              "      <td>0</td>\n",
              "      <td>42</td>\n",
              "      <td>3.000000</td>\n",
              "    </tr>\n",
              "    <tr>\n",
              "      <th>6</th>\n",
              "      <td>0.06</td>\n",
              "      <td>198</td>\n",
              "      <td>22</td>\n",
              "      <td>0</td>\n",
              "      <td>44</td>\n",
              "      <td>3.000000</td>\n",
              "    </tr>\n",
              "    <tr>\n",
              "      <th>7</th>\n",
              "      <td>0.07</td>\n",
              "      <td>198</td>\n",
              "      <td>20</td>\n",
              "      <td>0</td>\n",
              "      <td>46</td>\n",
              "      <td>3.000000</td>\n",
              "    </tr>\n",
              "    <tr>\n",
              "      <th>8</th>\n",
              "      <td>0.08</td>\n",
              "      <td>197</td>\n",
              "      <td>20</td>\n",
              "      <td>1</td>\n",
              "      <td>46</td>\n",
              "      <td>2.984848</td>\n",
              "    </tr>\n",
              "    <tr>\n",
              "      <th>9</th>\n",
              "      <td>0.09</td>\n",
              "      <td>196</td>\n",
              "      <td>20</td>\n",
              "      <td>2</td>\n",
              "      <td>46</td>\n",
              "      <td>2.969697</td>\n",
              "    </tr>\n",
              "    <tr>\n",
              "      <th>10</th>\n",
              "      <td>0.10</td>\n",
              "      <td>196</td>\n",
              "      <td>20</td>\n",
              "      <td>2</td>\n",
              "      <td>46</td>\n",
              "      <td>2.969697</td>\n",
              "    </tr>\n",
              "    <tr>\n",
              "      <th>11</th>\n",
              "      <td>0.11</td>\n",
              "      <td>196</td>\n",
              "      <td>19</td>\n",
              "      <td>2</td>\n",
              "      <td>47</td>\n",
              "      <td>2.969697</td>\n",
              "    </tr>\n",
              "    <tr>\n",
              "      <th>12</th>\n",
              "      <td>0.12</td>\n",
              "      <td>196</td>\n",
              "      <td>18</td>\n",
              "      <td>2</td>\n",
              "      <td>48</td>\n",
              "      <td>2.969697</td>\n",
              "    </tr>\n",
              "    <tr>\n",
              "      <th>13</th>\n",
              "      <td>0.13</td>\n",
              "      <td>195</td>\n",
              "      <td>16</td>\n",
              "      <td>3</td>\n",
              "      <td>50</td>\n",
              "      <td>2.954545</td>\n",
              "    </tr>\n",
              "    <tr>\n",
              "      <th>14</th>\n",
              "      <td>0.14</td>\n",
              "      <td>195</td>\n",
              "      <td>15</td>\n",
              "      <td>3</td>\n",
              "      <td>51</td>\n",
              "      <td>2.954545</td>\n",
              "    </tr>\n",
              "    <tr>\n",
              "      <th>15</th>\n",
              "      <td>0.15</td>\n",
              "      <td>195</td>\n",
              "      <td>15</td>\n",
              "      <td>3</td>\n",
              "      <td>51</td>\n",
              "      <td>2.954545</td>\n",
              "    </tr>\n",
              "    <tr>\n",
              "      <th>16</th>\n",
              "      <td>0.16</td>\n",
              "      <td>195</td>\n",
              "      <td>9</td>\n",
              "      <td>3</td>\n",
              "      <td>57</td>\n",
              "      <td>2.954545</td>\n",
              "    </tr>\n",
              "    <tr>\n",
              "      <th>17</th>\n",
              "      <td>0.17</td>\n",
              "      <td>195</td>\n",
              "      <td>6</td>\n",
              "      <td>3</td>\n",
              "      <td>60</td>\n",
              "      <td>2.954545</td>\n",
              "    </tr>\n",
              "    <tr>\n",
              "      <th>18</th>\n",
              "      <td>0.18</td>\n",
              "      <td>195</td>\n",
              "      <td>6</td>\n",
              "      <td>3</td>\n",
              "      <td>60</td>\n",
              "      <td>2.954545</td>\n",
              "    </tr>\n",
              "    <tr>\n",
              "      <th>19</th>\n",
              "      <td>0.19</td>\n",
              "      <td>195</td>\n",
              "      <td>6</td>\n",
              "      <td>3</td>\n",
              "      <td>60</td>\n",
              "      <td>2.954545</td>\n",
              "    </tr>\n",
              "  </tbody>\n",
              "</table>\n",
              "</div>\n",
              "      <button class=\"colab-df-convert\" onclick=\"convertToInteractive('df-3d727fc0-3b8a-42d5-8dec-370287ff3418')\"\n",
              "              title=\"Convert this dataframe to an interactive table.\"\n",
              "              style=\"display:none;\">\n",
              "        \n",
              "  <svg xmlns=\"http://www.w3.org/2000/svg\" height=\"24px\"viewBox=\"0 0 24 24\"\n",
              "       width=\"24px\">\n",
              "    <path d=\"M0 0h24v24H0V0z\" fill=\"none\"/>\n",
              "    <path d=\"M18.56 5.44l.94 2.06.94-2.06 2.06-.94-2.06-.94-.94-2.06-.94 2.06-2.06.94zm-11 1L8.5 8.5l.94-2.06 2.06-.94-2.06-.94L8.5 2.5l-.94 2.06-2.06.94zm10 10l.94 2.06.94-2.06 2.06-.94-2.06-.94-.94-2.06-.94 2.06-2.06.94z\"/><path d=\"M17.41 7.96l-1.37-1.37c-.4-.4-.92-.59-1.43-.59-.52 0-1.04.2-1.43.59L10.3 9.45l-7.72 7.72c-.78.78-.78 2.05 0 2.83L4 21.41c.39.39.9.59 1.41.59.51 0 1.02-.2 1.41-.59l7.78-7.78 2.81-2.81c.8-.78.8-2.07 0-2.86zM5.41 20L4 18.59l7.72-7.72 1.47 1.35L5.41 20z\"/>\n",
              "  </svg>\n",
              "      </button>\n",
              "      \n",
              "  <style>\n",
              "    .colab-df-container {\n",
              "      display:flex;\n",
              "      flex-wrap:wrap;\n",
              "      gap: 12px;\n",
              "    }\n",
              "\n",
              "    .colab-df-convert {\n",
              "      background-color: #E8F0FE;\n",
              "      border: none;\n",
              "      border-radius: 50%;\n",
              "      cursor: pointer;\n",
              "      display: none;\n",
              "      fill: #1967D2;\n",
              "      height: 32px;\n",
              "      padding: 0 0 0 0;\n",
              "      width: 32px;\n",
              "    }\n",
              "\n",
              "    .colab-df-convert:hover {\n",
              "      background-color: #E2EBFA;\n",
              "      box-shadow: 0px 1px 2px rgba(60, 64, 67, 0.3), 0px 1px 3px 1px rgba(60, 64, 67, 0.15);\n",
              "      fill: #174EA6;\n",
              "    }\n",
              "\n",
              "    [theme=dark] .colab-df-convert {\n",
              "      background-color: #3B4455;\n",
              "      fill: #D2E3FC;\n",
              "    }\n",
              "\n",
              "    [theme=dark] .colab-df-convert:hover {\n",
              "      background-color: #434B5C;\n",
              "      box-shadow: 0px 1px 3px 1px rgba(0, 0, 0, 0.15);\n",
              "      filter: drop-shadow(0px 1px 2px rgba(0, 0, 0, 0.3));\n",
              "      fill: #FFFFFF;\n",
              "    }\n",
              "  </style>\n",
              "\n",
              "      <script>\n",
              "        const buttonEl =\n",
              "          document.querySelector('#df-3d727fc0-3b8a-42d5-8dec-370287ff3418 button.colab-df-convert');\n",
              "        buttonEl.style.display =\n",
              "          google.colab.kernel.accessAllowed ? 'block' : 'none';\n",
              "\n",
              "        async function convertToInteractive(key) {\n",
              "          const element = document.querySelector('#df-3d727fc0-3b8a-42d5-8dec-370287ff3418');\n",
              "          const dataTable =\n",
              "            await google.colab.kernel.invokeFunction('convertToInteractive',\n",
              "                                                     [key], {});\n",
              "          if (!dataTable) return;\n",
              "\n",
              "          const docLinkHtml = 'Like what you see? Visit the ' +\n",
              "            '<a target=\"_blank\" href=https://colab.research.google.com/notebooks/data_table.ipynb>data table notebook</a>'\n",
              "            + ' to learn more about interactive tables.';\n",
              "          element.innerHTML = '';\n",
              "          dataTable['output_type'] = 'display_data';\n",
              "          await google.colab.output.renderOutput(dataTable, element);\n",
              "          const docLink = document.createElement('div');\n",
              "          docLink.innerHTML = docLinkHtml;\n",
              "          element.appendChild(docLink);\n",
              "        }\n",
              "      </script>\n",
              "    </div>\n",
              "  </div>\n",
              "  "
            ]
          },
          "metadata": {},
          "execution_count": 50
        }
      ]
    },
    {
      "cell_type": "markdown",
      "source": [
        "#Question 5"
      ],
      "metadata": {
        "id": "9i9nS_gUFyDH"
      }
    },
    {
      "cell_type": "markdown",
      "source": [
        "Use the KFold class from Scikit-Learn to evaluate our model on 5 different folds:\n",
        "\n",
        "`KFold(n_splits=5, shuffle=True, random_state=1)`\n",
        "\n",
        "* Iterate over different folds of df_full_train\n",
        "* Split the data into train and validation\n",
        "* Train the model on train with these parameters: `LogisticRegression(solver='liblinear', C=1.0, max_iter=1000)`\n",
        "* Use AUC to evaluate the model on validation\n",
        "\n",
        "How large is standard devidation of the AUC scores across different folds?\n",
        "\n",
        "* **0.003**\n",
        "* 0.014\n",
        "* 0.09\n",
        "* 0.24"
      ],
      "metadata": {
        "id": "WME4opeHF0xQ"
      }
    },
    {
      "cell_type": "code",
      "source": [
        "from sklearn.model_selection import KFold\n",
        "from sklearn.model_selection import cross_val_score"
      ],
      "metadata": {
        "id": "DQh5FdNyokw4"
      },
      "execution_count": 27,
      "outputs": []
    },
    {
      "cell_type": "code",
      "source": [
        "def train(df,y):\n",
        "  train_dict = df.to_dict(orient='records')\n",
        "\n",
        "  dv = DictVectorizer(sparse=False)\n",
        "  x_train = dv.fit_transform(train_dict)\n",
        "\n",
        "  model = LogisticRegression(solver='liblinear', C=1.0, max_iter=1000, random_state=1)\n",
        "  model.fit(x_train, y)\n",
        "\n",
        "  return dv, model"
      ],
      "metadata": {
        "id": "pniHPQUamVS_"
      },
      "execution_count": 44,
      "outputs": []
    },
    {
      "cell_type": "code",
      "source": [
        "def predict(df,dv, model):\n",
        "  var_dict = df.to_dict(orient='records')\n",
        "  \n",
        "  x = dv.transform(var_dict)\n",
        "  y_pred = model.predict_proba(x)[:,1]\n",
        "\n",
        "  return y_pred"
      ],
      "metadata": {
        "id": "YN5sCQqYnuKd"
      },
      "execution_count": 45,
      "outputs": []
    },
    {
      "cell_type": "code",
      "source": [
        "kfold = KFold(n_splits=5, shuffle=True, random_state=1)"
      ],
      "metadata": {
        "id": "2z1TU01Uildl"
      },
      "execution_count": 46,
      "outputs": []
    },
    {
      "cell_type": "code",
      "source": [
        "k_scores = []\n",
        "\n",
        "for train_idx,val_idx in kfold.split(df_full_train):\n",
        "  df_train = df_full_train.iloc[train_idx]\n",
        "  df_val = df_full_train.iloc[val_idx]\n",
        "\n",
        "  y_train = df_train.card.values\n",
        "  y_val = df_val.card.values\n",
        "\n",
        "  del df_train['card']\n",
        "  del df_val['card']\n",
        "\n",
        "  dv, model = train(df_train, y_train)\n",
        "  y_pred = predict(df_val, dv, model)\n",
        "\n",
        "  auc = roc_auc_score(y_val, y_pred)\n",
        "  k_scores.append(auc)\n",
        "\n",
        "  "
      ],
      "metadata": {
        "id": "yAvaeQxkh1tj"
      },
      "execution_count": 47,
      "outputs": []
    },
    {
      "cell_type": "code",
      "source": [
        "round(np.mean(k_scores),3), round(np.std(k_scores), 3)"
      ],
      "metadata": {
        "id": "4RAuxxSSiOBV",
        "outputId": "120c48e9-010b-4ba3-c6ea-8938a81da397",
        "colab": {
          "base_uri": "https://localhost:8080/"
        }
      },
      "execution_count": 48,
      "outputs": [
        {
          "output_type": "execute_result",
          "data": {
            "text/plain": [
              "(0.996, 0.003)"
            ]
          },
          "metadata": {},
          "execution_count": 48
        }
      ]
    },
    {
      "cell_type": "markdown",
      "source": [
        "#Question 6"
      ],
      "metadata": {
        "id": "GXOAV_xmGMXt"
      }
    },
    {
      "cell_type": "markdown",
      "source": [
        "Now let's use 5-Fold cross-validation to find the best parameter C\n",
        "\n",
        "* Iterate over the following C values: `[0.01, 0.1, 1, 10]`\n",
        "* Initialize KFold with the same parameters as previously\n",
        "* Use these parametes for the model: `LogisticRegression(solver='liblinear', C=C, max_iter=1000)`\n",
        "* Compute the mean score as well as the std (round the mean and std to 3 decimal digits)\n",
        "\n",
        "Which C leads to the best mean score?\n",
        "\n",
        "* 0.01\n",
        "* **0.1**\n",
        "* 1\n",
        "* 10\n",
        "\n",
        "If you have ties, select the score with the lowest std. If you still have ties, select the smallest C"
      ],
      "metadata": {
        "id": "ofl-DVKGGPle"
      }
    },
    {
      "cell_type": "code",
      "source": [
        "def train(df, y, C=1.0):\n",
        "    dicts = df.to_dict(orient='records')\n",
        "\n",
        "    dv = DictVectorizer(sparse=False)\n",
        "    X_train = dv.fit_transform(dicts)\n",
        "\n",
        "    model = LogisticRegression(C=C, max_iter=1000)\n",
        "    model.fit(X_train, y)\n",
        "    \n",
        "    return dv, model"
      ],
      "metadata": {
        "id": "nll4dkbVt6_u"
      },
      "execution_count": 33,
      "outputs": []
    },
    {
      "cell_type": "code",
      "source": [
        "def predict(df, dv, model):\n",
        "    dicts = df.to_dict(orient='records')\n",
        "\n",
        "    X = dv.transform(dicts)\n",
        "    y_pred = model.predict_proba(X)[:, 1]\n",
        "\n",
        "    return y_pred"
      ],
      "metadata": {
        "id": "GPmiChnsujSN"
      },
      "execution_count": 34,
      "outputs": []
    },
    {
      "cell_type": "code",
      "source": [
        "df_full_train, df_val = train_test_split(df, test_size=0.2, random_state=1)"
      ],
      "metadata": {
        "id": "Sh0aqgm3w7vF"
      },
      "execution_count": 35,
      "outputs": []
    },
    {
      "cell_type": "code",
      "source": [
        "df_full_train.head(3)"
      ],
      "metadata": {
        "id": "cmfkqjI5w838",
        "outputId": "91188d9e-6e73-4388-9dbf-1957fc0d474d",
        "colab": {
          "base_uri": "https://localhost:8080/",
          "height": 0
        }
      },
      "execution_count": 36,
      "outputs": [
        {
          "output_type": "execute_result",
          "data": {
            "text/plain": [
              "      card  reports       age  income     share  expenditure  owner  selfemp  \\\n",
              "710      0        1  36.83333  3.0000  0.000400     0.000000      1        0   \n",
              "1258     1        0  35.58333  3.5606  0.109084   323.587500      0        0   \n",
              "435      1        0  25.66667  2.0000  0.004900     7.416667      0        0   \n",
              "\n",
              "      dependents  months  majorcards  active  \n",
              "710            1      12           1      16  \n",
              "1258           0      12           1       0  \n",
              "435            0      26           1      13  "
            ],
            "text/html": [
              "\n",
              "  <div id=\"df-a027a0f0-f89d-4a88-b9fe-dd17f6c67258\">\n",
              "    <div class=\"colab-df-container\">\n",
              "      <div>\n",
              "<style scoped>\n",
              "    .dataframe tbody tr th:only-of-type {\n",
              "        vertical-align: middle;\n",
              "    }\n",
              "\n",
              "    .dataframe tbody tr th {\n",
              "        vertical-align: top;\n",
              "    }\n",
              "\n",
              "    .dataframe thead th {\n",
              "        text-align: right;\n",
              "    }\n",
              "</style>\n",
              "<table border=\"1\" class=\"dataframe\">\n",
              "  <thead>\n",
              "    <tr style=\"text-align: right;\">\n",
              "      <th></th>\n",
              "      <th>card</th>\n",
              "      <th>reports</th>\n",
              "      <th>age</th>\n",
              "      <th>income</th>\n",
              "      <th>share</th>\n",
              "      <th>expenditure</th>\n",
              "      <th>owner</th>\n",
              "      <th>selfemp</th>\n",
              "      <th>dependents</th>\n",
              "      <th>months</th>\n",
              "      <th>majorcards</th>\n",
              "      <th>active</th>\n",
              "    </tr>\n",
              "  </thead>\n",
              "  <tbody>\n",
              "    <tr>\n",
              "      <th>710</th>\n",
              "      <td>0</td>\n",
              "      <td>1</td>\n",
              "      <td>36.83333</td>\n",
              "      <td>3.0000</td>\n",
              "      <td>0.000400</td>\n",
              "      <td>0.000000</td>\n",
              "      <td>1</td>\n",
              "      <td>0</td>\n",
              "      <td>1</td>\n",
              "      <td>12</td>\n",
              "      <td>1</td>\n",
              "      <td>16</td>\n",
              "    </tr>\n",
              "    <tr>\n",
              "      <th>1258</th>\n",
              "      <td>1</td>\n",
              "      <td>0</td>\n",
              "      <td>35.58333</td>\n",
              "      <td>3.5606</td>\n",
              "      <td>0.109084</td>\n",
              "      <td>323.587500</td>\n",
              "      <td>0</td>\n",
              "      <td>0</td>\n",
              "      <td>0</td>\n",
              "      <td>12</td>\n",
              "      <td>1</td>\n",
              "      <td>0</td>\n",
              "    </tr>\n",
              "    <tr>\n",
              "      <th>435</th>\n",
              "      <td>1</td>\n",
              "      <td>0</td>\n",
              "      <td>25.66667</td>\n",
              "      <td>2.0000</td>\n",
              "      <td>0.004900</td>\n",
              "      <td>7.416667</td>\n",
              "      <td>0</td>\n",
              "      <td>0</td>\n",
              "      <td>0</td>\n",
              "      <td>26</td>\n",
              "      <td>1</td>\n",
              "      <td>13</td>\n",
              "    </tr>\n",
              "  </tbody>\n",
              "</table>\n",
              "</div>\n",
              "      <button class=\"colab-df-convert\" onclick=\"convertToInteractive('df-a027a0f0-f89d-4a88-b9fe-dd17f6c67258')\"\n",
              "              title=\"Convert this dataframe to an interactive table.\"\n",
              "              style=\"display:none;\">\n",
              "        \n",
              "  <svg xmlns=\"http://www.w3.org/2000/svg\" height=\"24px\"viewBox=\"0 0 24 24\"\n",
              "       width=\"24px\">\n",
              "    <path d=\"M0 0h24v24H0V0z\" fill=\"none\"/>\n",
              "    <path d=\"M18.56 5.44l.94 2.06.94-2.06 2.06-.94-2.06-.94-.94-2.06-.94 2.06-2.06.94zm-11 1L8.5 8.5l.94-2.06 2.06-.94-2.06-.94L8.5 2.5l-.94 2.06-2.06.94zm10 10l.94 2.06.94-2.06 2.06-.94-2.06-.94-.94-2.06-.94 2.06-2.06.94z\"/><path d=\"M17.41 7.96l-1.37-1.37c-.4-.4-.92-.59-1.43-.59-.52 0-1.04.2-1.43.59L10.3 9.45l-7.72 7.72c-.78.78-.78 2.05 0 2.83L4 21.41c.39.39.9.59 1.41.59.51 0 1.02-.2 1.41-.59l7.78-7.78 2.81-2.81c.8-.78.8-2.07 0-2.86zM5.41 20L4 18.59l7.72-7.72 1.47 1.35L5.41 20z\"/>\n",
              "  </svg>\n",
              "      </button>\n",
              "      \n",
              "  <style>\n",
              "    .colab-df-container {\n",
              "      display:flex;\n",
              "      flex-wrap:wrap;\n",
              "      gap: 12px;\n",
              "    }\n",
              "\n",
              "    .colab-df-convert {\n",
              "      background-color: #E8F0FE;\n",
              "      border: none;\n",
              "      border-radius: 50%;\n",
              "      cursor: pointer;\n",
              "      display: none;\n",
              "      fill: #1967D2;\n",
              "      height: 32px;\n",
              "      padding: 0 0 0 0;\n",
              "      width: 32px;\n",
              "    }\n",
              "\n",
              "    .colab-df-convert:hover {\n",
              "      background-color: #E2EBFA;\n",
              "      box-shadow: 0px 1px 2px rgba(60, 64, 67, 0.3), 0px 1px 3px 1px rgba(60, 64, 67, 0.15);\n",
              "      fill: #174EA6;\n",
              "    }\n",
              "\n",
              "    [theme=dark] .colab-df-convert {\n",
              "      background-color: #3B4455;\n",
              "      fill: #D2E3FC;\n",
              "    }\n",
              "\n",
              "    [theme=dark] .colab-df-convert:hover {\n",
              "      background-color: #434B5C;\n",
              "      box-shadow: 0px 1px 3px 1px rgba(0, 0, 0, 0.15);\n",
              "      filter: drop-shadow(0px 1px 2px rgba(0, 0, 0, 0.3));\n",
              "      fill: #FFFFFF;\n",
              "    }\n",
              "  </style>\n",
              "\n",
              "      <script>\n",
              "        const buttonEl =\n",
              "          document.querySelector('#df-a027a0f0-f89d-4a88-b9fe-dd17f6c67258 button.colab-df-convert');\n",
              "        buttonEl.style.display =\n",
              "          google.colab.kernel.accessAllowed ? 'block' : 'none';\n",
              "\n",
              "        async function convertToInteractive(key) {\n",
              "          const element = document.querySelector('#df-a027a0f0-f89d-4a88-b9fe-dd17f6c67258');\n",
              "          const dataTable =\n",
              "            await google.colab.kernel.invokeFunction('convertToInteractive',\n",
              "                                                     [key], {});\n",
              "          if (!dataTable) return;\n",
              "\n",
              "          const docLinkHtml = 'Like what you see? Visit the ' +\n",
              "            '<a target=\"_blank\" href=https://colab.research.google.com/notebooks/data_table.ipynb>data table notebook</a>'\n",
              "            + ' to learn more about interactive tables.';\n",
              "          element.innerHTML = '';\n",
              "          dataTable['output_type'] = 'display_data';\n",
              "          await google.colab.output.renderOutput(dataTable, element);\n",
              "          const docLink = document.createElement('div');\n",
              "          docLink.innerHTML = docLinkHtml;\n",
              "          element.appendChild(docLink);\n",
              "        }\n",
              "      </script>\n",
              "    </div>\n",
              "  </div>\n",
              "  "
            ]
          },
          "metadata": {},
          "execution_count": 36
        }
      ]
    },
    {
      "cell_type": "code",
      "source": [
        "for train_idx, val_idx in kfold.split(df_full_train):\n",
        "        df_train = df_full_train.iloc[train_idx]\n",
        "        df_val = df_full_train.iloc[val_idx]"
      ],
      "metadata": {
        "id": "0-Kfa-x-xbu8"
      },
      "execution_count": 37,
      "outputs": []
    },
    {
      "cell_type": "code",
      "source": [
        "df_train.head(3)"
      ],
      "metadata": {
        "id": "ql6hcPMAxi8E",
        "outputId": "733a39be-d109-4081-8f89-8615d4559aa6",
        "colab": {
          "base_uri": "https://localhost:8080/",
          "height": 0
        }
      },
      "execution_count": 38,
      "outputs": [
        {
          "output_type": "execute_result",
          "data": {
            "text/plain": [
              "      card  reports       age  income     share  expenditure  owner  selfemp  \\\n",
              "710      0        1  36.83333  3.0000  0.000400     0.000000      1        0   \n",
              "1258     1        0  35.58333  3.5606  0.109084   323.587500      0        0   \n",
              "435      1        0  25.66667  2.0000  0.004900     7.416667      0        0   \n",
              "\n",
              "      dependents  months  majorcards  active  \n",
              "710            1      12           1      16  \n",
              "1258           0      12           1       0  \n",
              "435            0      26           1      13  "
            ],
            "text/html": [
              "\n",
              "  <div id=\"df-ff6b341c-8636-4ae6-a2bc-f305bcec1fd4\">\n",
              "    <div class=\"colab-df-container\">\n",
              "      <div>\n",
              "<style scoped>\n",
              "    .dataframe tbody tr th:only-of-type {\n",
              "        vertical-align: middle;\n",
              "    }\n",
              "\n",
              "    .dataframe tbody tr th {\n",
              "        vertical-align: top;\n",
              "    }\n",
              "\n",
              "    .dataframe thead th {\n",
              "        text-align: right;\n",
              "    }\n",
              "</style>\n",
              "<table border=\"1\" class=\"dataframe\">\n",
              "  <thead>\n",
              "    <tr style=\"text-align: right;\">\n",
              "      <th></th>\n",
              "      <th>card</th>\n",
              "      <th>reports</th>\n",
              "      <th>age</th>\n",
              "      <th>income</th>\n",
              "      <th>share</th>\n",
              "      <th>expenditure</th>\n",
              "      <th>owner</th>\n",
              "      <th>selfemp</th>\n",
              "      <th>dependents</th>\n",
              "      <th>months</th>\n",
              "      <th>majorcards</th>\n",
              "      <th>active</th>\n",
              "    </tr>\n",
              "  </thead>\n",
              "  <tbody>\n",
              "    <tr>\n",
              "      <th>710</th>\n",
              "      <td>0</td>\n",
              "      <td>1</td>\n",
              "      <td>36.83333</td>\n",
              "      <td>3.0000</td>\n",
              "      <td>0.000400</td>\n",
              "      <td>0.000000</td>\n",
              "      <td>1</td>\n",
              "      <td>0</td>\n",
              "      <td>1</td>\n",
              "      <td>12</td>\n",
              "      <td>1</td>\n",
              "      <td>16</td>\n",
              "    </tr>\n",
              "    <tr>\n",
              "      <th>1258</th>\n",
              "      <td>1</td>\n",
              "      <td>0</td>\n",
              "      <td>35.58333</td>\n",
              "      <td>3.5606</td>\n",
              "      <td>0.109084</td>\n",
              "      <td>323.587500</td>\n",
              "      <td>0</td>\n",
              "      <td>0</td>\n",
              "      <td>0</td>\n",
              "      <td>12</td>\n",
              "      <td>1</td>\n",
              "      <td>0</td>\n",
              "    </tr>\n",
              "    <tr>\n",
              "      <th>435</th>\n",
              "      <td>1</td>\n",
              "      <td>0</td>\n",
              "      <td>25.66667</td>\n",
              "      <td>2.0000</td>\n",
              "      <td>0.004900</td>\n",
              "      <td>7.416667</td>\n",
              "      <td>0</td>\n",
              "      <td>0</td>\n",
              "      <td>0</td>\n",
              "      <td>26</td>\n",
              "      <td>1</td>\n",
              "      <td>13</td>\n",
              "    </tr>\n",
              "  </tbody>\n",
              "</table>\n",
              "</div>\n",
              "      <button class=\"colab-df-convert\" onclick=\"convertToInteractive('df-ff6b341c-8636-4ae6-a2bc-f305bcec1fd4')\"\n",
              "              title=\"Convert this dataframe to an interactive table.\"\n",
              "              style=\"display:none;\">\n",
              "        \n",
              "  <svg xmlns=\"http://www.w3.org/2000/svg\" height=\"24px\"viewBox=\"0 0 24 24\"\n",
              "       width=\"24px\">\n",
              "    <path d=\"M0 0h24v24H0V0z\" fill=\"none\"/>\n",
              "    <path d=\"M18.56 5.44l.94 2.06.94-2.06 2.06-.94-2.06-.94-.94-2.06-.94 2.06-2.06.94zm-11 1L8.5 8.5l.94-2.06 2.06-.94-2.06-.94L8.5 2.5l-.94 2.06-2.06.94zm10 10l.94 2.06.94-2.06 2.06-.94-2.06-.94-.94-2.06-.94 2.06-2.06.94z\"/><path d=\"M17.41 7.96l-1.37-1.37c-.4-.4-.92-.59-1.43-.59-.52 0-1.04.2-1.43.59L10.3 9.45l-7.72 7.72c-.78.78-.78 2.05 0 2.83L4 21.41c.39.39.9.59 1.41.59.51 0 1.02-.2 1.41-.59l7.78-7.78 2.81-2.81c.8-.78.8-2.07 0-2.86zM5.41 20L4 18.59l7.72-7.72 1.47 1.35L5.41 20z\"/>\n",
              "  </svg>\n",
              "      </button>\n",
              "      \n",
              "  <style>\n",
              "    .colab-df-container {\n",
              "      display:flex;\n",
              "      flex-wrap:wrap;\n",
              "      gap: 12px;\n",
              "    }\n",
              "\n",
              "    .colab-df-convert {\n",
              "      background-color: #E8F0FE;\n",
              "      border: none;\n",
              "      border-radius: 50%;\n",
              "      cursor: pointer;\n",
              "      display: none;\n",
              "      fill: #1967D2;\n",
              "      height: 32px;\n",
              "      padding: 0 0 0 0;\n",
              "      width: 32px;\n",
              "    }\n",
              "\n",
              "    .colab-df-convert:hover {\n",
              "      background-color: #E2EBFA;\n",
              "      box-shadow: 0px 1px 2px rgba(60, 64, 67, 0.3), 0px 1px 3px 1px rgba(60, 64, 67, 0.15);\n",
              "      fill: #174EA6;\n",
              "    }\n",
              "\n",
              "    [theme=dark] .colab-df-convert {\n",
              "      background-color: #3B4455;\n",
              "      fill: #D2E3FC;\n",
              "    }\n",
              "\n",
              "    [theme=dark] .colab-df-convert:hover {\n",
              "      background-color: #434B5C;\n",
              "      box-shadow: 0px 1px 3px 1px rgba(0, 0, 0, 0.15);\n",
              "      filter: drop-shadow(0px 1px 2px rgba(0, 0, 0, 0.3));\n",
              "      fill: #FFFFFF;\n",
              "    }\n",
              "  </style>\n",
              "\n",
              "      <script>\n",
              "        const buttonEl =\n",
              "          document.querySelector('#df-ff6b341c-8636-4ae6-a2bc-f305bcec1fd4 button.colab-df-convert');\n",
              "        buttonEl.style.display =\n",
              "          google.colab.kernel.accessAllowed ? 'block' : 'none';\n",
              "\n",
              "        async function convertToInteractive(key) {\n",
              "          const element = document.querySelector('#df-ff6b341c-8636-4ae6-a2bc-f305bcec1fd4');\n",
              "          const dataTable =\n",
              "            await google.colab.kernel.invokeFunction('convertToInteractive',\n",
              "                                                     [key], {});\n",
              "          if (!dataTable) return;\n",
              "\n",
              "          const docLinkHtml = 'Like what you see? Visit the ' +\n",
              "            '<a target=\"_blank\" href=https://colab.research.google.com/notebooks/data_table.ipynb>data table notebook</a>'\n",
              "            + ' to learn more about interactive tables.';\n",
              "          element.innerHTML = '';\n",
              "          dataTable['output_type'] = 'display_data';\n",
              "          await google.colab.output.renderOutput(dataTable, element);\n",
              "          const docLink = document.createElement('div');\n",
              "          docLink.innerHTML = docLinkHtml;\n",
              "          element.appendChild(docLink);\n",
              "        }\n",
              "      </script>\n",
              "    </div>\n",
              "  </div>\n",
              "  "
            ]
          },
          "metadata": {},
          "execution_count": 38
        }
      ]
    },
    {
      "cell_type": "code",
      "source": [
        "n_splits = 5\n",
        "kfold = KFold(n_splits=n_splits, shuffle=True, random_state=1)\n",
        "\n",
        "for C in [0.01, 0.1, 1, 10]:\n",
        "\n",
        "    scores = []\n",
        "\n",
        "    for train_idx, val_idx in kfold.split(df_full_train):\n",
        "        df_train = df_full_train.iloc[train_idx]\n",
        "        df_val = df_full_train.iloc[val_idx]\n",
        "\n",
        "        y_train = df_train.card.values\n",
        "        y_val = df_val.card.values\n",
        "\n",
        "        dv, model = train(df_train, y_train, C=C)\n",
        "        y_pred = predict(df_val, dv, model)\n",
        "\n",
        "        auc = roc_auc_score(y_val, y_pred)\n",
        "        scores.append(auc)\n",
        "\n",
        "    print('C=%s %.3f +- %.3f' % (C, np.mean(scores), np.std(scores)))"
      ],
      "metadata": {
        "id": "muYSqo99ul4Q",
        "outputId": "54defa91-9160-4495-e6fb-a8f1de308998",
        "colab": {
          "base_uri": "https://localhost:8080/"
        }
      },
      "execution_count": 39,
      "outputs": [
        {
          "output_type": "stream",
          "name": "stdout",
          "text": [
            "C=0.01 0.998 +- 0.002\n",
            "C=0.1 1.000 +- 0.000\n",
            "C=1 1.000 +- 0.000\n",
            "C=10 1.000 +- 0.000\n"
          ]
        }
      ]
    },
    {
      "cell_type": "markdown",
      "source": [
        "#Submit the results"
      ],
      "metadata": {
        "id": "jmBbYsJYGegf"
      }
    },
    {
      "cell_type": "markdown",
      "source": [
        "* Submit your results here: https://forms.gle/8TfKNRd5Jq7sGK5M9\n",
        "* You can submit your solution multiple times. In this case, only the last submission will be used\n",
        "* If your answer doesn't match options exactly, select the closest one\n",
        "\n",
        "##Deadline\n",
        "The deadline for submitting is October 3 (Monday), 23:00 CEST.\n",
        "\n",
        "After that, the form will be closed."
      ],
      "metadata": {
        "id": "M_XzAHuSGiiG"
      }
    }
  ]
}