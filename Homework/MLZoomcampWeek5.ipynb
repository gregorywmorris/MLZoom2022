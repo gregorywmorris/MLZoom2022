{
  "nbformat": 4,
  "nbformat_minor": 0,
  "metadata": {
    "colab": {
      "provenance": [],
      "collapsed_sections": [],
      "authorship_tag": "ABX9TyOeTHMuWKYx9hUy7khXErEf",
      "include_colab_link": true
    },
    "kernelspec": {
      "name": "python3",
      "display_name": "Python 3"
    },
    "language_info": {
      "name": "python"
    }
  },
  "cells": [
    {
      "cell_type": "markdown",
      "metadata": {
        "id": "view-in-github",
        "colab_type": "text"
      },
      "source": [
        "<a href=\"https://colab.research.google.com/github/gregorywmorris/MLZoom2022/blob/main/Homework/MLZoomcampWeek5.ipynb\" target=\"_parent\"><img src=\"https://colab.research.google.com/assets/colab-badge.svg\" alt=\"Open In Colab\"/></a>"
      ]
    },
    {
      "cell_type": "markdown",
      "source": [
        "# MLZoomcampWeek5\n",
        "\n",
        "##Homework\n",
        "In this homework, we will use Credit Card Data from [the previous homework](https://github.com/alexeygrigorev/mlbookcamp-code/blob/master/course-zoomcamp/cohorts/2022/04-evaluation/homework.md).\n",
        "\n",
        "Note: sometimes your answer doesn't match one of the options exactly. That's fine. Select the option that's closest to your solution."
      ],
      "metadata": {
        "id": "SULFaRCQwIjL"
      }
    },
    {
      "cell_type": "code",
      "source": [
        "%autosave 1\n",
        "\n",
        "%load_ext autoreload\n",
        "%autoreload 2"
      ],
      "metadata": {
        "colab": {
          "base_uri": "https://localhost:8080/",
          "height": 34
        },
        "id": "cZHjLb6I2vSV",
        "outputId": "49edc5ba-e3b4-4b3f-c942-f78733ffa93b"
      },
      "execution_count": 1,
      "outputs": [
        {
          "output_type": "display_data",
          "data": {
            "application/javascript": [
              "IPython.notebook.set_autosave_interval(1000)"
            ]
          },
          "metadata": {}
        },
        {
          "output_type": "stream",
          "name": "stdout",
          "text": [
            "Autosaving every 1 seconds\n"
          ]
        }
      ]
    },
    {
      "cell_type": "code",
      "source": [
        "data = 'https://raw.githubusercontent.com/alexeygrigorev/datasets/master/AER_credit_card_data.csv'\n",
        "!wget $data -O data.csv"
      ],
      "metadata": {
        "colab": {
          "base_uri": "https://localhost:8080/"
        },
        "id": "CwFsG71F2yL2",
        "outputId": "a7ec0cb6-636f-4673-e7fb-d44527da74b7"
      },
      "execution_count": 2,
      "outputs": [
        {
          "output_type": "stream",
          "name": "stdout",
          "text": [
            "--2022-10-06 15:14:01--  https://raw.githubusercontent.com/alexeygrigorev/datasets/master/AER_credit_card_data.csv\n",
            "Resolving raw.githubusercontent.com (raw.githubusercontent.com)... 185.199.109.133, 185.199.110.133, 185.199.111.133, ...\n",
            "Connecting to raw.githubusercontent.com (raw.githubusercontent.com)|185.199.109.133|:443... connected.\n",
            "HTTP request sent, awaiting response... 200 OK\n",
            "Length: 73250 (72K) [text/plain]\n",
            "Saving to: ‘data.csv’\n",
            "\n",
            "\rdata.csv              0%[                    ]       0  --.-KB/s               \rdata.csv            100%[===================>]  71.53K  --.-KB/s    in 0.002s  \n",
            "\n",
            "2022-10-06 15:14:01 (43.4 MB/s) - ‘data.csv’ saved [73250/73250]\n",
            "\n"
          ]
        }
      ]
    },
    {
      "cell_type": "markdown",
      "source": [
        "# Question 1"
      ],
      "metadata": {
        "id": "81kqSXGpwWDu"
      }
    },
    {
      "cell_type": "markdown",
      "source": [
        "* Install Pipenv\n",
        "* What's the version of pipenv you installed?\n",
        "* Use `--version` to find out"
      ],
      "metadata": {
        "id": "rdhsCowezK1H"
      }
    },
    {
      "cell_type": "markdown",
      "source": [
        "** version2022.10.4**"
      ],
      "metadata": {
        "id": "dQtFCtDk3Vv1"
      }
    },
    {
      "cell_type": "markdown",
      "source": [
        "#Question 2\n",
        "* Use Pipenv to install Scikit-Learn version 1.0.2\n",
        "* What's the first hash for scikit-learn you get in Pipfile.lock?\n",
        "\n",
        "**Note:** you should create an empty folder for homework and do it there."
      ],
      "metadata": {
        "id": "QaqboqESwdfv"
      }
    },
    {
      "cell_type": "markdown",
      "source": [
        "**sha256:08ef968f6b72033c16c479c966bf37ccd49b06ea91b765e1cc27afefe723920b**"
      ],
      "metadata": {
        "id": "D4xXxiqA3fXt"
      }
    },
    {
      "cell_type": "markdown",
      "source": [
        "#Models\n"
      ],
      "metadata": {
        "id": "XTpOKKxzwiN1"
      }
    },
    {
      "cell_type": "markdown",
      "source": [
        "We've prepared a dictionary vectorizer and a model.\n",
        "\n",
        "They were trained (roughly) using this code:\n",
        "\n",
        "```\n",
        "features = ['reports', 'share', 'expenditure', 'owner']\n",
        "dicts = df[features].to_dict(orient='records')\n",
        "\n",
        "dv = DictVectorizer(sparse=False)\n",
        "X = dv.fit_transform(dicts)\n",
        "\n",
        "model = LogisticRegression(solver='liblinear').fit(X, y)\n",
        "\n",
        "```\n",
        "\n",
        "\n",
        "**Note:** You don't need to train the model. This code is just for your reference.\n",
        "\n",
        "And then saved with Pickle. Download them:\n",
        "\n",
        "* DictVectorizer\n",
        "* LogisticRegression\n",
        "\n",
        "With wget:\n",
        "\n",
        "PREFIX=https://raw.githubusercontent.com/alexeygrigorev/mlbookcamp-code/master/course-zoomcamp/cohorts/2022/05-deployment/homework\n",
        "\n",
        "wget $PREFIX/model1.bin\n",
        "\n",
        "wget $PREFIX/dv.bin"
      ],
      "metadata": {
        "id": "CRjXBrcc79RF"
      }
    },
    {
      "cell_type": "code",
      "source": [
        "PREFIX='https://raw.githubusercontent.com/alexeygrigorev/mlbookcamp-code/master/course-zoomcamp/cohorts/2022/05-deployment/homework'\n",
        "\n",
        "!wget $PREFIX/model1.bin\n",
        "\n",
        "!wget $PREFIX/dv.bin"
      ],
      "metadata": {
        "colab": {
          "base_uri": "https://localhost:8080/"
        },
        "id": "Ry_2X_H47qo_",
        "outputId": "31dc705a-7c29-40c9-f071-f0ff33b2c4e7"
      },
      "execution_count": 9,
      "outputs": [
        {
          "output_type": "stream",
          "name": "stdout",
          "text": [
            "--2022-10-06 15:42:49--  https://raw.githubusercontent.com/alexeygrigorev/mlbookcamp-code/master/course-zoomcamp/cohorts/2022/05-deployment/homework/model1.bin\n",
            "Resolving raw.githubusercontent.com (raw.githubusercontent.com)... 185.199.110.133, 185.199.111.133, 185.199.109.133, ...\n",
            "Connecting to raw.githubusercontent.com (raw.githubusercontent.com)|185.199.110.133|:443... connected.\n",
            "HTTP request sent, awaiting response... 200 OK\n",
            "Length: 889 [application/octet-stream]\n",
            "Saving to: ‘model1.bin.1’\n",
            "\n",
            "\rmodel1.bin.1          0%[                    ]       0  --.-KB/s               \rmodel1.bin.1        100%[===================>]     889  --.-KB/s    in 0s      \n",
            "\n",
            "2022-10-06 15:42:49 (33.0 MB/s) - ‘model1.bin.1’ saved [889/889]\n",
            "\n",
            "--2022-10-06 15:42:49--  https://raw.githubusercontent.com/alexeygrigorev/mlbookcamp-code/master/course-zoomcamp/cohorts/2022/05-deployment/homework/dv.bin\n",
            "Resolving raw.githubusercontent.com (raw.githubusercontent.com)... 185.199.111.133, 185.199.109.133, 185.199.110.133, ...\n",
            "Connecting to raw.githubusercontent.com (raw.githubusercontent.com)|185.199.111.133|:443... connected.\n",
            "HTTP request sent, awaiting response... 200 OK\n",
            "Length: 333 [application/octet-stream]\n",
            "Saving to: ‘dv.bin.1’\n",
            "\n",
            "dv.bin.1            100%[===================>]     333  --.-KB/s    in 0s      \n",
            "\n",
            "2022-10-06 15:42:50 (18.1 MB/s) - ‘dv.bin.1’ saved [333/333]\n",
            "\n"
          ]
        }
      ]
    },
    {
      "cell_type": "markdown",
      "source": [
        "#Question 3\n"
      ],
      "metadata": {
        "id": "OFR1CzRqw47u"
      }
    },
    {
      "cell_type": "markdown",
      "source": [
        "Let's use these models!\n",
        "\n",
        "* Write a script for loading these models with pickle\n",
        "* Score this client:\n",
        "\n",
        "`{\"reports\": 0, \"share\": 0.001694, \"expenditure\": 0.12, \"owner\": \"yes\"}`\n",
        "\n",
        "What's the probability that this client will get a credit card?\n",
        "\n",
        "* **0.162**\n",
        "* ~~0.391~~\n",
        "* ~~0.601~~\n",
        "* ~~0.993~~\n",
        "\n",
        "If you're getting errors when unpickling the files, check their checksum:\n",
        "\n",
        "\n",
        "```\n",
        "$ md5sum model1.bin dv.bin\n",
        "3f57f3ebfdf57a9e1368dcd0f28a4a14  model1.bin\n",
        "6b7cded86a52af7e81859647fa3a5c2e  dv.bin\n",
        "```"
      ],
      "metadata": {
        "id": "CzA-G1jv8DSl"
      }
    },
    {
      "cell_type": "code",
      "source": [
        "import pickle"
      ],
      "metadata": {
        "id": "jjytz86E8FEu"
      },
      "execution_count": 6,
      "outputs": []
    },
    {
      "cell_type": "code",
      "source": [
        "input_file='model1.bin'"
      ],
      "metadata": {
        "id": "zpimcESm82yl"
      },
      "execution_count": 14,
      "outputs": []
    },
    {
      "cell_type": "code",
      "source": [
        "dictv = 'dv.bin'"
      ],
      "metadata": {
        "id": "Xd4thrVBHLWv"
      },
      "execution_count": 25,
      "outputs": []
    },
    {
      "cell_type": "code",
      "source": [
        "with open(input_file, 'rb') as f_in: \n",
        "    model = pickle.load(f_in)"
      ],
      "metadata": {
        "id": "2MH53l9t9BF9"
      },
      "execution_count": 24,
      "outputs": []
    },
    {
      "cell_type": "code",
      "source": [
        "with open(dictv, 'rb') as f_in: \n",
        "    dv = pickle.load(f_in)"
      ],
      "metadata": {
        "id": "Vp_CVTC0HuK0"
      },
      "execution_count": 26,
      "outputs": []
    },
    {
      "cell_type": "code",
      "source": [
        "customer ={\"reports\": 0, \"share\": 0.001694, \"expenditure\": 0.12, \"owner\": \"yes\"}"
      ],
      "metadata": {
        "id": "hKOO0KGvGUnH"
      },
      "execution_count": 20,
      "outputs": []
    },
    {
      "cell_type": "code",
      "source": [
        "X = dv.transform([customer])"
      ],
      "metadata": {
        "id": "tFX2YhSjH5aE"
      },
      "execution_count": 27,
      "outputs": []
    },
    {
      "cell_type": "code",
      "source": [
        "y_pred = model.predict_proba(X)[0, 1]\n",
        "round(y_pred, 3)"
      ],
      "metadata": {
        "colab": {
          "base_uri": "https://localhost:8080/"
        },
        "id": "cLAe6TOAH9KU",
        "outputId": "2e9ebd29-210c-4784-d5ae-94db75f725e0"
      },
      "execution_count": 30,
      "outputs": [
        {
          "output_type": "execute_result",
          "data": {
            "text/plain": [
              "0.162"
            ]
          },
          "metadata": {},
          "execution_count": 30
        }
      ]
    },
    {
      "cell_type": "markdown",
      "source": [
        "#Question 4"
      ],
      "metadata": {
        "id": "WdjG4ttwxQpP"
      }
    },
    {
      "cell_type": "markdown",
      "source": [
        "Now let's serve this model as a web service\n",
        "\n",
        "* Install Flask and gunicorn (or waitress, if you're on Windows)\n",
        "* Write Flask code for serving the model\n",
        "* Now score this client using requests:\n",
        "\n",
        "```\n",
        "url = \"YOUR_URL\"\n",
        "client = {\"reports\": 0, \"share\": 0.245, \"expenditure\": 3.438, \"owner\": \"yes\"}\n",
        "requests.post(url, json=client).json()\n",
        "```\n",
        "\n",
        "What's the probability that this client will get a credit card?\n",
        "\n",
        "* 0.274\n",
        "* 0.484\n",
        "* 0.698\n",
        "* 0.928"
      ],
      "metadata": {
        "id": "a92IAkZzIfTA"
      }
    },
    {
      "cell_type": "markdown",
      "source": [
        "#Docker"
      ],
      "metadata": {
        "id": "th0OxH3VxhI3"
      }
    },
    {
      "cell_type": "markdown",
      "source": [
        "Install Docker. We will use it for the next two questions.\n",
        "\n",
        "For these questions, we prepared a base image: svizor/zoomcamp-model:3.9.12-slim. You'll need to use it (see Question 5 for an example).\n",
        "\n",
        "This image is based on python:3.9.12-slim and has a logistic regression model (a different one) as well a dictionary vectorizer inside.\n",
        "\n",
        "This is how the Dockerfile for this image looks like:\n",
        "\n",
        "```\n",
        "FROM python:3.9.12-slim\n",
        "WORKDIR /app\n",
        "COPY [\"model2.bin\", \"dv.bin\", \"./\"]\n",
        "```\n",
        "\n",
        "We already built it and then pushed it to svizor/zoomcamp-model:3.9.12-slim.\n",
        "\n",
        "**Note:** You don't need to build this docker image, it's just for your reference."
      ],
      "metadata": {
        "id": "q3OsvCICIjW9"
      }
    },
    {
      "cell_type": "markdown",
      "source": [
        "#Question 5"
      ],
      "metadata": {
        "id": "OHiS1oILxxmG"
      }
    },
    {
      "cell_type": "markdown",
      "source": [
        "Download the base image svizor/zoomcamp-model:3.9.12-slim. You can easily make it by using docker pull command.\n",
        "\n",
        "So what's the size of this base image?\n",
        "\n",
        "* 15 Mb\n",
        "* 125 Mb\n",
        "* 275 Mb\n",
        "* 415 Mb\n",
        "\n",
        "You can get this information when running docker images - it'll be in the \"SIZE\" column."
      ],
      "metadata": {
        "id": "0Iv7RtYXIm3U"
      }
    },
    {
      "cell_type": "markdown",
      "source": [
        "#Dockerfile"
      ],
      "metadata": {
        "id": "indW6B3xyAOd"
      }
    },
    {
      "cell_type": "markdown",
      "source": [
        "Now create your own Dockerfile based on the image we prepared.\n",
        "\n",
        "It should start like that:\n",
        "\n",
        "```\n",
        "FROM svizor/zoomcamp-model:3.9.12-slim\n",
        "# add your stuff here\n",
        "```\n",
        "\n",
        "Now complete it:\n",
        "\n",
        "* Install all the dependencies form the Pipenv file\n",
        "* Copy your Flask script\n",
        "* Run it with Gunicorn\n",
        "\n",
        "After that, you can build your docker image."
      ],
      "metadata": {
        "id": "nHM3kzIYIrJD"
      }
    },
    {
      "cell_type": "markdown",
      "source": [
        "#Question 6"
      ],
      "metadata": {
        "id": "WWYMuIXzyQWX"
      }
    },
    {
      "cell_type": "markdown",
      "source": [
        "Let's run your docker container!\n",
        "\n",
        "After running it, score this client once again:\n",
        "\n",
        "```\n",
        "url = \"YOUR_URL\"\n",
        "client = {\"reports\": 0, \"share\": 0.245, \"expenditure\": 3.438, \"owner\": \"yes\"}\n",
        "requests.post(url, json=client).json()\n",
        "```\n",
        "\n",
        "\n",
        "\n",
        "What's the probability that this client will get a credit card now?\n",
        "\n",
        "* 0.289\n",
        "* 0.502\n",
        "* 0.769\n",
        "* 0.972"
      ],
      "metadata": {
        "id": "UbFwI2WpIt33"
      }
    },
    {
      "cell_type": "markdown",
      "source": [
        "#Submit the results\n",
        "Submit your results here: https://forms.gle/jU2we8f9WeLgX3qa6\n",
        "You can submit your solution multiple times. In this case, only the last submission will be used\n",
        "If your answer doesn't match options exactly, select the closest one\n",
        "\n",
        "##Deadline\n",
        "The deadline for submitting is 10 October 2022 (Monday), 23:00 CEST (Berlin time).\n",
        "\n",
        "After that, the form will be closed."
      ],
      "metadata": {
        "id": "bU4aeLSdyatG"
      }
    }
  ]
}