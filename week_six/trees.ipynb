{
  "cells": [
    {
      "cell_type": "markdown",
      "metadata": {
        "id": "view-in-github",
        "colab_type": "text"
      },
      "source": [
        "<a href=\"https://colab.research.google.com/github/gregorywmorris/MLZoom2022/blob/main/week_six/trees.ipynb\" target=\"_parent\"><img src=\"https://colab.research.google.com/assets/colab-badge.svg\" alt=\"Open In Colab\"/></a>"
      ]
    },
    {
      "cell_type": "markdown",
      "id": "52472024",
      "metadata": {
        "id": "52472024"
      },
      "source": [
        "# 6. Decision Trees and Ensemble Learning\n",
        "\n",
        "\n",
        "This week, we'll talk about decision trees and tree-based ensemble algorithms"
      ]
    },
    {
      "cell_type": "code",
      "source": [
        "%autosave 1\n",
        "\n",
        "%load_ext autoreload\n",
        "%autoreload 2"
      ],
      "metadata": {
        "colab": {
          "base_uri": "https://localhost:8080/",
          "height": 34
        },
        "id": "o0R_4zYmRSuD",
        "outputId": "42ad3ff9-3a0f-4520-b3e6-05b5e37abaa0"
      },
      "id": "o0R_4zYmRSuD",
      "execution_count": 1,
      "outputs": [
        {
          "output_type": "display_data",
          "data": {
            "application/javascript": [
              "IPython.notebook.set_autosave_interval(1000)"
            ]
          },
          "metadata": {}
        },
        {
          "output_type": "stream",
          "name": "stdout",
          "text": [
            "Autosaving every 1 seconds\n"
          ]
        }
      ]
    },
    {
      "cell_type": "markdown",
      "id": "5b5d753c",
      "metadata": {
        "id": "5b5d753c"
      },
      "source": [
        "## 6.1 Credit risk scoring project\n",
        "\n",
        "* Dataset: https://github.com/gastonstat/CreditScoring"
      ]
    },
    {
      "cell_type": "code",
      "execution_count": 2,
      "id": "d04e7bea",
      "metadata": {
        "id": "d04e7bea"
      },
      "outputs": [],
      "source": [
        "import pandas as pd\n",
        "import numpy as np\n",
        "\n",
        "import seaborn as sns\n",
        "from matplotlib import pyplot as plt\n",
        "%matplotlib inline"
      ]
    },
    {
      "cell_type": "markdown",
      "id": "a7ff5c0c",
      "metadata": {
        "id": "a7ff5c0c"
      },
      "source": [
        "## 6.2 Data cleaning and preparation"
      ]
    },
    {
      "cell_type": "markdown",
      "id": "928e8f5f",
      "metadata": {
        "id": "928e8f5f"
      },
      "source": [
        "* Downloading the dataset\n",
        "* Re-encoding the categorical variables\n",
        "* Doing the train/validation/test split"
      ]
    },
    {
      "cell_type": "code",
      "execution_count": 3,
      "id": "8ed7436d",
      "metadata": {
        "id": "8ed7436d"
      },
      "outputs": [],
      "source": [
        "data = 'https://raw.githubusercontent.com/alexeygrigorev/mlbookcamp-code/master/chapter-06-trees/CreditScoring.csv'"
      ]
    },
    {
      "cell_type": "code",
      "execution_count": 4,
      "id": "b6a9b129",
      "metadata": {
        "id": "b6a9b129",
        "outputId": "d218992c-cdba-45f8-c4ed-b4bee3459f10",
        "colab": {
          "base_uri": "https://localhost:8080/"
        }
      },
      "outputs": [
        {
          "output_type": "stream",
          "name": "stdout",
          "text": [
            "--2022-10-10 14:21:37--  https://raw.githubusercontent.com/alexeygrigorev/mlbookcamp-code/master/chapter-06-trees/CreditScoring.csv\n",
            "Resolving raw.githubusercontent.com (raw.githubusercontent.com)... 185.199.108.133, 185.199.111.133, 185.199.110.133, ...\n",
            "Connecting to raw.githubusercontent.com (raw.githubusercontent.com)|185.199.108.133|:443... connected.\n",
            "HTTP request sent, awaiting response... 200 OK\n",
            "Length: 182489 (178K) [text/plain]\n",
            "Saving to: ‘CreditScoring.csv’\n",
            "\n",
            "\rCreditScoring.csv     0%[                    ]       0  --.-KB/s               \rCreditScoring.csv   100%[===================>] 178.21K  --.-KB/s    in 0.02s   \n",
            "\n",
            "2022-10-10 14:21:37 (7.59 MB/s) - ‘CreditScoring.csv’ saved [182489/182489]\n",
            "\n"
          ]
        }
      ],
      "source": [
        "!wget $data"
      ]
    },
    {
      "cell_type": "code",
      "execution_count": 6,
      "id": "7f8f141a",
      "metadata": {
        "id": "7f8f141a",
        "outputId": "90284262-8a37-4b00-9bf1-c3ac2fc1a2a9",
        "colab": {
          "base_uri": "https://localhost:8080/"
        }
      },
      "outputs": [
        {
          "output_type": "stream",
          "name": "stdout",
          "text": [
            "\"Status\",\"Seniority\",\"Home\",\"Time\",\"Age\",\"Marital\",\"Records\",\"Job\",\"Expenses\",\"Income\",\"Assets\",\"Debt\",\"Amount\",\"Price\"\n",
            "1,9,1,60,30,2,1,3,73,129,0,0,800,846\n",
            "1,17,1,60,58,3,1,1,48,131,0,0,1000,1658\n",
            "2,10,2,36,46,2,2,3,90,200,3000,0,2000,2985\n",
            "1,0,1,60,24,1,1,1,63,182,2500,0,900,1325\n",
            "1,0,1,36,26,1,1,1,46,107,0,0,310,910\n",
            "1,1,2,60,36,2,1,1,75,214,3500,0,650,1645\n",
            "1,29,2,60,44,2,1,1,75,125,10000,0,1600,1800\n",
            "1,9,5,12,27,1,1,1,35,80,0,0,200,1093\n",
            "1,0,2,60,32,2,1,3,90,107,15000,0,1200,1957\n"
          ]
        }
      ],
      "source": [
        "!head CreditScoring.csv"
      ]
    },
    {
      "cell_type": "code",
      "execution_count": 5,
      "id": "49807b73",
      "metadata": {
        "id": "49807b73"
      },
      "outputs": [],
      "source": [
        "df = pd.read_csv(data)"
      ]
    },
    {
      "cell_type": "code",
      "source": [
        "df.head()"
      ],
      "metadata": {
        "colab": {
          "base_uri": "https://localhost:8080/",
          "height": 206
        },
        "id": "5p9L8jjEbEX5",
        "outputId": "7f8b92c6-4b2d-42fa-dd35-673e7c771087"
      },
      "id": "5p9L8jjEbEX5",
      "execution_count": 7,
      "outputs": [
        {
          "output_type": "execute_result",
          "data": {
            "text/plain": [
              "   Status  Seniority  Home  Time  Age  Marital  Records  Job  Expenses  \\\n",
              "0       1          9     1    60   30        2        1    3        73   \n",
              "1       1         17     1    60   58        3        1    1        48   \n",
              "2       2         10     2    36   46        2        2    3        90   \n",
              "3       1          0     1    60   24        1        1    1        63   \n",
              "4       1          0     1    36   26        1        1    1        46   \n",
              "\n",
              "   Income  Assets  Debt  Amount  Price  \n",
              "0     129       0     0     800    846  \n",
              "1     131       0     0    1000   1658  \n",
              "2     200    3000     0    2000   2985  \n",
              "3     182    2500     0     900   1325  \n",
              "4     107       0     0     310    910  "
            ],
            "text/html": [
              "\n",
              "  <div id=\"df-c8afdfe3-2b48-457b-a0b2-036bb1d98a9d\">\n",
              "    <div class=\"colab-df-container\">\n",
              "      <div>\n",
              "<style scoped>\n",
              "    .dataframe tbody tr th:only-of-type {\n",
              "        vertical-align: middle;\n",
              "    }\n",
              "\n",
              "    .dataframe tbody tr th {\n",
              "        vertical-align: top;\n",
              "    }\n",
              "\n",
              "    .dataframe thead th {\n",
              "        text-align: right;\n",
              "    }\n",
              "</style>\n",
              "<table border=\"1\" class=\"dataframe\">\n",
              "  <thead>\n",
              "    <tr style=\"text-align: right;\">\n",
              "      <th></th>\n",
              "      <th>Status</th>\n",
              "      <th>Seniority</th>\n",
              "      <th>Home</th>\n",
              "      <th>Time</th>\n",
              "      <th>Age</th>\n",
              "      <th>Marital</th>\n",
              "      <th>Records</th>\n",
              "      <th>Job</th>\n",
              "      <th>Expenses</th>\n",
              "      <th>Income</th>\n",
              "      <th>Assets</th>\n",
              "      <th>Debt</th>\n",
              "      <th>Amount</th>\n",
              "      <th>Price</th>\n",
              "    </tr>\n",
              "  </thead>\n",
              "  <tbody>\n",
              "    <tr>\n",
              "      <th>0</th>\n",
              "      <td>1</td>\n",
              "      <td>9</td>\n",
              "      <td>1</td>\n",
              "      <td>60</td>\n",
              "      <td>30</td>\n",
              "      <td>2</td>\n",
              "      <td>1</td>\n",
              "      <td>3</td>\n",
              "      <td>73</td>\n",
              "      <td>129</td>\n",
              "      <td>0</td>\n",
              "      <td>0</td>\n",
              "      <td>800</td>\n",
              "      <td>846</td>\n",
              "    </tr>\n",
              "    <tr>\n",
              "      <th>1</th>\n",
              "      <td>1</td>\n",
              "      <td>17</td>\n",
              "      <td>1</td>\n",
              "      <td>60</td>\n",
              "      <td>58</td>\n",
              "      <td>3</td>\n",
              "      <td>1</td>\n",
              "      <td>1</td>\n",
              "      <td>48</td>\n",
              "      <td>131</td>\n",
              "      <td>0</td>\n",
              "      <td>0</td>\n",
              "      <td>1000</td>\n",
              "      <td>1658</td>\n",
              "    </tr>\n",
              "    <tr>\n",
              "      <th>2</th>\n",
              "      <td>2</td>\n",
              "      <td>10</td>\n",
              "      <td>2</td>\n",
              "      <td>36</td>\n",
              "      <td>46</td>\n",
              "      <td>2</td>\n",
              "      <td>2</td>\n",
              "      <td>3</td>\n",
              "      <td>90</td>\n",
              "      <td>200</td>\n",
              "      <td>3000</td>\n",
              "      <td>0</td>\n",
              "      <td>2000</td>\n",
              "      <td>2985</td>\n",
              "    </tr>\n",
              "    <tr>\n",
              "      <th>3</th>\n",
              "      <td>1</td>\n",
              "      <td>0</td>\n",
              "      <td>1</td>\n",
              "      <td>60</td>\n",
              "      <td>24</td>\n",
              "      <td>1</td>\n",
              "      <td>1</td>\n",
              "      <td>1</td>\n",
              "      <td>63</td>\n",
              "      <td>182</td>\n",
              "      <td>2500</td>\n",
              "      <td>0</td>\n",
              "      <td>900</td>\n",
              "      <td>1325</td>\n",
              "    </tr>\n",
              "    <tr>\n",
              "      <th>4</th>\n",
              "      <td>1</td>\n",
              "      <td>0</td>\n",
              "      <td>1</td>\n",
              "      <td>36</td>\n",
              "      <td>26</td>\n",
              "      <td>1</td>\n",
              "      <td>1</td>\n",
              "      <td>1</td>\n",
              "      <td>46</td>\n",
              "      <td>107</td>\n",
              "      <td>0</td>\n",
              "      <td>0</td>\n",
              "      <td>310</td>\n",
              "      <td>910</td>\n",
              "    </tr>\n",
              "  </tbody>\n",
              "</table>\n",
              "</div>\n",
              "      <button class=\"colab-df-convert\" onclick=\"convertToInteractive('df-c8afdfe3-2b48-457b-a0b2-036bb1d98a9d')\"\n",
              "              title=\"Convert this dataframe to an interactive table.\"\n",
              "              style=\"display:none;\">\n",
              "        \n",
              "  <svg xmlns=\"http://www.w3.org/2000/svg\" height=\"24px\"viewBox=\"0 0 24 24\"\n",
              "       width=\"24px\">\n",
              "    <path d=\"M0 0h24v24H0V0z\" fill=\"none\"/>\n",
              "    <path d=\"M18.56 5.44l.94 2.06.94-2.06 2.06-.94-2.06-.94-.94-2.06-.94 2.06-2.06.94zm-11 1L8.5 8.5l.94-2.06 2.06-.94-2.06-.94L8.5 2.5l-.94 2.06-2.06.94zm10 10l.94 2.06.94-2.06 2.06-.94-2.06-.94-.94-2.06-.94 2.06-2.06.94z\"/><path d=\"M17.41 7.96l-1.37-1.37c-.4-.4-.92-.59-1.43-.59-.52 0-1.04.2-1.43.59L10.3 9.45l-7.72 7.72c-.78.78-.78 2.05 0 2.83L4 21.41c.39.39.9.59 1.41.59.51 0 1.02-.2 1.41-.59l7.78-7.78 2.81-2.81c.8-.78.8-2.07 0-2.86zM5.41 20L4 18.59l7.72-7.72 1.47 1.35L5.41 20z\"/>\n",
              "  </svg>\n",
              "      </button>\n",
              "      \n",
              "  <style>\n",
              "    .colab-df-container {\n",
              "      display:flex;\n",
              "      flex-wrap:wrap;\n",
              "      gap: 12px;\n",
              "    }\n",
              "\n",
              "    .colab-df-convert {\n",
              "      background-color: #E8F0FE;\n",
              "      border: none;\n",
              "      border-radius: 50%;\n",
              "      cursor: pointer;\n",
              "      display: none;\n",
              "      fill: #1967D2;\n",
              "      height: 32px;\n",
              "      padding: 0 0 0 0;\n",
              "      width: 32px;\n",
              "    }\n",
              "\n",
              "    .colab-df-convert:hover {\n",
              "      background-color: #E2EBFA;\n",
              "      box-shadow: 0px 1px 2px rgba(60, 64, 67, 0.3), 0px 1px 3px 1px rgba(60, 64, 67, 0.15);\n",
              "      fill: #174EA6;\n",
              "    }\n",
              "\n",
              "    [theme=dark] .colab-df-convert {\n",
              "      background-color: #3B4455;\n",
              "      fill: #D2E3FC;\n",
              "    }\n",
              "\n",
              "    [theme=dark] .colab-df-convert:hover {\n",
              "      background-color: #434B5C;\n",
              "      box-shadow: 0px 1px 3px 1px rgba(0, 0, 0, 0.15);\n",
              "      filter: drop-shadow(0px 1px 2px rgba(0, 0, 0, 0.3));\n",
              "      fill: #FFFFFF;\n",
              "    }\n",
              "  </style>\n",
              "\n",
              "      <script>\n",
              "        const buttonEl =\n",
              "          document.querySelector('#df-c8afdfe3-2b48-457b-a0b2-036bb1d98a9d button.colab-df-convert');\n",
              "        buttonEl.style.display =\n",
              "          google.colab.kernel.accessAllowed ? 'block' : 'none';\n",
              "\n",
              "        async function convertToInteractive(key) {\n",
              "          const element = document.querySelector('#df-c8afdfe3-2b48-457b-a0b2-036bb1d98a9d');\n",
              "          const dataTable =\n",
              "            await google.colab.kernel.invokeFunction('convertToInteractive',\n",
              "                                                     [key], {});\n",
              "          if (!dataTable) return;\n",
              "\n",
              "          const docLinkHtml = 'Like what you see? Visit the ' +\n",
              "            '<a target=\"_blank\" href=https://colab.research.google.com/notebooks/data_table.ipynb>data table notebook</a>'\n",
              "            + ' to learn more about interactive tables.';\n",
              "          element.innerHTML = '';\n",
              "          dataTable['output_type'] = 'display_data';\n",
              "          await google.colab.output.renderOutput(dataTable, element);\n",
              "          const docLink = document.createElement('div');\n",
              "          docLink.innerHTML = docLinkHtml;\n",
              "          element.appendChild(docLink);\n",
              "        }\n",
              "      </script>\n",
              "    </div>\n",
              "  </div>\n",
              "  "
            ]
          },
          "metadata": {},
          "execution_count": 7
        }
      ]
    },
    {
      "cell_type": "markdown",
      "source": [
        "Notice some categorical values are listed as numbers."
      ],
      "metadata": {
        "id": "bPj5q3V0bJ7Z"
      },
      "id": "bPj5q3V0bJ7Z"
    },
    {
      "cell_type": "code",
      "execution_count": 8,
      "id": "28b3fadb",
      "metadata": {
        "id": "28b3fadb"
      },
      "outputs": [],
      "source": [
        "df.columns = df.columns.str.lower()"
      ]
    },
    {
      "cell_type": "code",
      "execution_count": 9,
      "id": "e7457322",
      "metadata": {
        "id": "e7457322",
        "outputId": "1a01aa6e-03c9-45c2-b651-282727446480",
        "colab": {
          "base_uri": "https://localhost:8080/"
        }
      },
      "outputs": [
        {
          "output_type": "execute_result",
          "data": {
            "text/plain": [
              "1    3200\n",
              "2    1254\n",
              "0       1\n",
              "Name: status, dtype: int64"
            ]
          },
          "metadata": {},
          "execution_count": 9
        }
      ],
      "source": [
        "df.status.value_counts() #categorical varible"
      ]
    },
    {
      "cell_type": "code",
      "execution_count": 10,
      "id": "ce035396",
      "metadata": {
        "id": "ce035396"
      },
      "outputs": [],
      "source": [
        "status_values = {\n",
        "    1: 'ok',\n",
        "    2: 'default',\n",
        "    0: 'unk'\n",
        "}\n",
        "\n",
        "df.status = df.status.map(status_values)"
      ]
    },
    {
      "cell_type": "code",
      "execution_count": 11,
      "id": "ab86b3ef",
      "metadata": {
        "id": "ab86b3ef"
      },
      "outputs": [],
      "source": [
        "home_values = {\n",
        "    1: 'rent',\n",
        "    2: 'owner',\n",
        "    3: 'private',\n",
        "    4: 'ignore',\n",
        "    5: 'parents',\n",
        "    6: 'other',\n",
        "    0: 'unk'\n",
        "}\n",
        "\n",
        "df.home = df.home.map(home_values)\n",
        "\n",
        "marital_values = {\n",
        "    1: 'single',\n",
        "    2: 'married',\n",
        "    3: 'widow',\n",
        "    4: 'separated',\n",
        "    5: 'divorced',\n",
        "    0: 'unk'\n",
        "}\n",
        "\n",
        "df.marital = df.marital.map(marital_values)\n",
        "\n",
        "records_values = {\n",
        "    1: 'no',\n",
        "    2: 'yes',\n",
        "    0: 'unk'\n",
        "}\n",
        "\n",
        "df.records = df.records.map(records_values)\n",
        "\n",
        "job_values = {\n",
        "    1: 'fixed',\n",
        "    2: 'partime',\n",
        "    3: 'freelance',\n",
        "    4: 'others',\n",
        "    0: 'unk'\n",
        "}\n",
        "\n",
        "df.job = df.job.map(job_values)"
      ]
    },
    {
      "cell_type": "code",
      "execution_count": 12,
      "id": "f1d8917e",
      "metadata": {
        "id": "f1d8917e",
        "outputId": "99d48a17-1d58-4b38-bb50-80b5773d5724",
        "colab": {
          "base_uri": "https://localhost:8080/",
          "height": 206
        }
      },
      "outputs": [
        {
          "output_type": "execute_result",
          "data": {
            "text/plain": [
              "    status  seniority   home  time  age  marital records        job  expenses  \\\n",
              "0       ok          9   rent    60   30  married      no  freelance        73   \n",
              "1       ok         17   rent    60   58    widow      no      fixed        48   \n",
              "2  default         10  owner    36   46  married     yes  freelance        90   \n",
              "3       ok          0   rent    60   24   single      no      fixed        63   \n",
              "4       ok          0   rent    36   26   single      no      fixed        46   \n",
              "\n",
              "   income  assets  debt  amount  price  \n",
              "0     129       0     0     800    846  \n",
              "1     131       0     0    1000   1658  \n",
              "2     200    3000     0    2000   2985  \n",
              "3     182    2500     0     900   1325  \n",
              "4     107       0     0     310    910  "
            ],
            "text/html": [
              "\n",
              "  <div id=\"df-6675d320-cfb2-4d77-b726-e0a965ba8e9e\">\n",
              "    <div class=\"colab-df-container\">\n",
              "      <div>\n",
              "<style scoped>\n",
              "    .dataframe tbody tr th:only-of-type {\n",
              "        vertical-align: middle;\n",
              "    }\n",
              "\n",
              "    .dataframe tbody tr th {\n",
              "        vertical-align: top;\n",
              "    }\n",
              "\n",
              "    .dataframe thead th {\n",
              "        text-align: right;\n",
              "    }\n",
              "</style>\n",
              "<table border=\"1\" class=\"dataframe\">\n",
              "  <thead>\n",
              "    <tr style=\"text-align: right;\">\n",
              "      <th></th>\n",
              "      <th>status</th>\n",
              "      <th>seniority</th>\n",
              "      <th>home</th>\n",
              "      <th>time</th>\n",
              "      <th>age</th>\n",
              "      <th>marital</th>\n",
              "      <th>records</th>\n",
              "      <th>job</th>\n",
              "      <th>expenses</th>\n",
              "      <th>income</th>\n",
              "      <th>assets</th>\n",
              "      <th>debt</th>\n",
              "      <th>amount</th>\n",
              "      <th>price</th>\n",
              "    </tr>\n",
              "  </thead>\n",
              "  <tbody>\n",
              "    <tr>\n",
              "      <th>0</th>\n",
              "      <td>ok</td>\n",
              "      <td>9</td>\n",
              "      <td>rent</td>\n",
              "      <td>60</td>\n",
              "      <td>30</td>\n",
              "      <td>married</td>\n",
              "      <td>no</td>\n",
              "      <td>freelance</td>\n",
              "      <td>73</td>\n",
              "      <td>129</td>\n",
              "      <td>0</td>\n",
              "      <td>0</td>\n",
              "      <td>800</td>\n",
              "      <td>846</td>\n",
              "    </tr>\n",
              "    <tr>\n",
              "      <th>1</th>\n",
              "      <td>ok</td>\n",
              "      <td>17</td>\n",
              "      <td>rent</td>\n",
              "      <td>60</td>\n",
              "      <td>58</td>\n",
              "      <td>widow</td>\n",
              "      <td>no</td>\n",
              "      <td>fixed</td>\n",
              "      <td>48</td>\n",
              "      <td>131</td>\n",
              "      <td>0</td>\n",
              "      <td>0</td>\n",
              "      <td>1000</td>\n",
              "      <td>1658</td>\n",
              "    </tr>\n",
              "    <tr>\n",
              "      <th>2</th>\n",
              "      <td>default</td>\n",
              "      <td>10</td>\n",
              "      <td>owner</td>\n",
              "      <td>36</td>\n",
              "      <td>46</td>\n",
              "      <td>married</td>\n",
              "      <td>yes</td>\n",
              "      <td>freelance</td>\n",
              "      <td>90</td>\n",
              "      <td>200</td>\n",
              "      <td>3000</td>\n",
              "      <td>0</td>\n",
              "      <td>2000</td>\n",
              "      <td>2985</td>\n",
              "    </tr>\n",
              "    <tr>\n",
              "      <th>3</th>\n",
              "      <td>ok</td>\n",
              "      <td>0</td>\n",
              "      <td>rent</td>\n",
              "      <td>60</td>\n",
              "      <td>24</td>\n",
              "      <td>single</td>\n",
              "      <td>no</td>\n",
              "      <td>fixed</td>\n",
              "      <td>63</td>\n",
              "      <td>182</td>\n",
              "      <td>2500</td>\n",
              "      <td>0</td>\n",
              "      <td>900</td>\n",
              "      <td>1325</td>\n",
              "    </tr>\n",
              "    <tr>\n",
              "      <th>4</th>\n",
              "      <td>ok</td>\n",
              "      <td>0</td>\n",
              "      <td>rent</td>\n",
              "      <td>36</td>\n",
              "      <td>26</td>\n",
              "      <td>single</td>\n",
              "      <td>no</td>\n",
              "      <td>fixed</td>\n",
              "      <td>46</td>\n",
              "      <td>107</td>\n",
              "      <td>0</td>\n",
              "      <td>0</td>\n",
              "      <td>310</td>\n",
              "      <td>910</td>\n",
              "    </tr>\n",
              "  </tbody>\n",
              "</table>\n",
              "</div>\n",
              "      <button class=\"colab-df-convert\" onclick=\"convertToInteractive('df-6675d320-cfb2-4d77-b726-e0a965ba8e9e')\"\n",
              "              title=\"Convert this dataframe to an interactive table.\"\n",
              "              style=\"display:none;\">\n",
              "        \n",
              "  <svg xmlns=\"http://www.w3.org/2000/svg\" height=\"24px\"viewBox=\"0 0 24 24\"\n",
              "       width=\"24px\">\n",
              "    <path d=\"M0 0h24v24H0V0z\" fill=\"none\"/>\n",
              "    <path d=\"M18.56 5.44l.94 2.06.94-2.06 2.06-.94-2.06-.94-.94-2.06-.94 2.06-2.06.94zm-11 1L8.5 8.5l.94-2.06 2.06-.94-2.06-.94L8.5 2.5l-.94 2.06-2.06.94zm10 10l.94 2.06.94-2.06 2.06-.94-2.06-.94-.94-2.06-.94 2.06-2.06.94z\"/><path d=\"M17.41 7.96l-1.37-1.37c-.4-.4-.92-.59-1.43-.59-.52 0-1.04.2-1.43.59L10.3 9.45l-7.72 7.72c-.78.78-.78 2.05 0 2.83L4 21.41c.39.39.9.59 1.41.59.51 0 1.02-.2 1.41-.59l7.78-7.78 2.81-2.81c.8-.78.8-2.07 0-2.86zM5.41 20L4 18.59l7.72-7.72 1.47 1.35L5.41 20z\"/>\n",
              "  </svg>\n",
              "      </button>\n",
              "      \n",
              "  <style>\n",
              "    .colab-df-container {\n",
              "      display:flex;\n",
              "      flex-wrap:wrap;\n",
              "      gap: 12px;\n",
              "    }\n",
              "\n",
              "    .colab-df-convert {\n",
              "      background-color: #E8F0FE;\n",
              "      border: none;\n",
              "      border-radius: 50%;\n",
              "      cursor: pointer;\n",
              "      display: none;\n",
              "      fill: #1967D2;\n",
              "      height: 32px;\n",
              "      padding: 0 0 0 0;\n",
              "      width: 32px;\n",
              "    }\n",
              "\n",
              "    .colab-df-convert:hover {\n",
              "      background-color: #E2EBFA;\n",
              "      box-shadow: 0px 1px 2px rgba(60, 64, 67, 0.3), 0px 1px 3px 1px rgba(60, 64, 67, 0.15);\n",
              "      fill: #174EA6;\n",
              "    }\n",
              "\n",
              "    [theme=dark] .colab-df-convert {\n",
              "      background-color: #3B4455;\n",
              "      fill: #D2E3FC;\n",
              "    }\n",
              "\n",
              "    [theme=dark] .colab-df-convert:hover {\n",
              "      background-color: #434B5C;\n",
              "      box-shadow: 0px 1px 3px 1px rgba(0, 0, 0, 0.15);\n",
              "      filter: drop-shadow(0px 1px 2px rgba(0, 0, 0, 0.3));\n",
              "      fill: #FFFFFF;\n",
              "    }\n",
              "  </style>\n",
              "\n",
              "      <script>\n",
              "        const buttonEl =\n",
              "          document.querySelector('#df-6675d320-cfb2-4d77-b726-e0a965ba8e9e button.colab-df-convert');\n",
              "        buttonEl.style.display =\n",
              "          google.colab.kernel.accessAllowed ? 'block' : 'none';\n",
              "\n",
              "        async function convertToInteractive(key) {\n",
              "          const element = document.querySelector('#df-6675d320-cfb2-4d77-b726-e0a965ba8e9e');\n",
              "          const dataTable =\n",
              "            await google.colab.kernel.invokeFunction('convertToInteractive',\n",
              "                                                     [key], {});\n",
              "          if (!dataTable) return;\n",
              "\n",
              "          const docLinkHtml = 'Like what you see? Visit the ' +\n",
              "            '<a target=\"_blank\" href=https://colab.research.google.com/notebooks/data_table.ipynb>data table notebook</a>'\n",
              "            + ' to learn more about interactive tables.';\n",
              "          element.innerHTML = '';\n",
              "          dataTable['output_type'] = 'display_data';\n",
              "          await google.colab.output.renderOutput(dataTable, element);\n",
              "          const docLink = document.createElement('div');\n",
              "          docLink.innerHTML = docLinkHtml;\n",
              "          element.appendChild(docLink);\n",
              "        }\n",
              "      </script>\n",
              "    </div>\n",
              "  </div>\n",
              "  "
            ]
          },
          "metadata": {},
          "execution_count": 12
        }
      ],
      "source": [
        "df.head()"
      ]
    },
    {
      "cell_type": "code",
      "execution_count": 13,
      "id": "40962339",
      "metadata": {
        "id": "40962339",
        "outputId": "3cdbbe26-1843-4c0a-d81b-3bad183bc6c8",
        "colab": {
          "base_uri": "https://localhost:8080/",
          "height": 300
        }
      },
      "outputs": [
        {
          "output_type": "execute_result",
          "data": {
            "text/plain": [
              "       seniority    time     age  expenses      income      assets  \\\n",
              "count     4455.0  4455.0  4455.0    4455.0      4455.0      4455.0   \n",
              "mean         8.0    46.0    37.0      56.0    763317.0   1060341.0   \n",
              "std          8.0    15.0    11.0      20.0   8703625.0  10217569.0   \n",
              "min          0.0     6.0    18.0      35.0         0.0         0.0   \n",
              "25%          2.0    36.0    28.0      35.0        80.0         0.0   \n",
              "50%          5.0    48.0    36.0      51.0       120.0      3500.0   \n",
              "75%         12.0    60.0    45.0      72.0       166.0      6000.0   \n",
              "max         48.0    72.0    68.0     180.0  99999999.0  99999999.0   \n",
              "\n",
              "             debt  amount    price  \n",
              "count      4455.0  4455.0   4455.0  \n",
              "mean     404382.0  1039.0   1463.0  \n",
              "std     6344253.0   475.0    628.0  \n",
              "min           0.0   100.0    105.0  \n",
              "25%           0.0   700.0   1118.0  \n",
              "50%           0.0  1000.0   1400.0  \n",
              "75%           0.0  1300.0   1692.0  \n",
              "max    99999999.0  5000.0  11140.0  "
            ],
            "text/html": [
              "\n",
              "  <div id=\"df-5175ed4a-1d11-47f3-816b-61f440c727ac\">\n",
              "    <div class=\"colab-df-container\">\n",
              "      <div>\n",
              "<style scoped>\n",
              "    .dataframe tbody tr th:only-of-type {\n",
              "        vertical-align: middle;\n",
              "    }\n",
              "\n",
              "    .dataframe tbody tr th {\n",
              "        vertical-align: top;\n",
              "    }\n",
              "\n",
              "    .dataframe thead th {\n",
              "        text-align: right;\n",
              "    }\n",
              "</style>\n",
              "<table border=\"1\" class=\"dataframe\">\n",
              "  <thead>\n",
              "    <tr style=\"text-align: right;\">\n",
              "      <th></th>\n",
              "      <th>seniority</th>\n",
              "      <th>time</th>\n",
              "      <th>age</th>\n",
              "      <th>expenses</th>\n",
              "      <th>income</th>\n",
              "      <th>assets</th>\n",
              "      <th>debt</th>\n",
              "      <th>amount</th>\n",
              "      <th>price</th>\n",
              "    </tr>\n",
              "  </thead>\n",
              "  <tbody>\n",
              "    <tr>\n",
              "      <th>count</th>\n",
              "      <td>4455.0</td>\n",
              "      <td>4455.0</td>\n",
              "      <td>4455.0</td>\n",
              "      <td>4455.0</td>\n",
              "      <td>4455.0</td>\n",
              "      <td>4455.0</td>\n",
              "      <td>4455.0</td>\n",
              "      <td>4455.0</td>\n",
              "      <td>4455.0</td>\n",
              "    </tr>\n",
              "    <tr>\n",
              "      <th>mean</th>\n",
              "      <td>8.0</td>\n",
              "      <td>46.0</td>\n",
              "      <td>37.0</td>\n",
              "      <td>56.0</td>\n",
              "      <td>763317.0</td>\n",
              "      <td>1060341.0</td>\n",
              "      <td>404382.0</td>\n",
              "      <td>1039.0</td>\n",
              "      <td>1463.0</td>\n",
              "    </tr>\n",
              "    <tr>\n",
              "      <th>std</th>\n",
              "      <td>8.0</td>\n",
              "      <td>15.0</td>\n",
              "      <td>11.0</td>\n",
              "      <td>20.0</td>\n",
              "      <td>8703625.0</td>\n",
              "      <td>10217569.0</td>\n",
              "      <td>6344253.0</td>\n",
              "      <td>475.0</td>\n",
              "      <td>628.0</td>\n",
              "    </tr>\n",
              "    <tr>\n",
              "      <th>min</th>\n",
              "      <td>0.0</td>\n",
              "      <td>6.0</td>\n",
              "      <td>18.0</td>\n",
              "      <td>35.0</td>\n",
              "      <td>0.0</td>\n",
              "      <td>0.0</td>\n",
              "      <td>0.0</td>\n",
              "      <td>100.0</td>\n",
              "      <td>105.0</td>\n",
              "    </tr>\n",
              "    <tr>\n",
              "      <th>25%</th>\n",
              "      <td>2.0</td>\n",
              "      <td>36.0</td>\n",
              "      <td>28.0</td>\n",
              "      <td>35.0</td>\n",
              "      <td>80.0</td>\n",
              "      <td>0.0</td>\n",
              "      <td>0.0</td>\n",
              "      <td>700.0</td>\n",
              "      <td>1118.0</td>\n",
              "    </tr>\n",
              "    <tr>\n",
              "      <th>50%</th>\n",
              "      <td>5.0</td>\n",
              "      <td>48.0</td>\n",
              "      <td>36.0</td>\n",
              "      <td>51.0</td>\n",
              "      <td>120.0</td>\n",
              "      <td>3500.0</td>\n",
              "      <td>0.0</td>\n",
              "      <td>1000.0</td>\n",
              "      <td>1400.0</td>\n",
              "    </tr>\n",
              "    <tr>\n",
              "      <th>75%</th>\n",
              "      <td>12.0</td>\n",
              "      <td>60.0</td>\n",
              "      <td>45.0</td>\n",
              "      <td>72.0</td>\n",
              "      <td>166.0</td>\n",
              "      <td>6000.0</td>\n",
              "      <td>0.0</td>\n",
              "      <td>1300.0</td>\n",
              "      <td>1692.0</td>\n",
              "    </tr>\n",
              "    <tr>\n",
              "      <th>max</th>\n",
              "      <td>48.0</td>\n",
              "      <td>72.0</td>\n",
              "      <td>68.0</td>\n",
              "      <td>180.0</td>\n",
              "      <td>99999999.0</td>\n",
              "      <td>99999999.0</td>\n",
              "      <td>99999999.0</td>\n",
              "      <td>5000.0</td>\n",
              "      <td>11140.0</td>\n",
              "    </tr>\n",
              "  </tbody>\n",
              "</table>\n",
              "</div>\n",
              "      <button class=\"colab-df-convert\" onclick=\"convertToInteractive('df-5175ed4a-1d11-47f3-816b-61f440c727ac')\"\n",
              "              title=\"Convert this dataframe to an interactive table.\"\n",
              "              style=\"display:none;\">\n",
              "        \n",
              "  <svg xmlns=\"http://www.w3.org/2000/svg\" height=\"24px\"viewBox=\"0 0 24 24\"\n",
              "       width=\"24px\">\n",
              "    <path d=\"M0 0h24v24H0V0z\" fill=\"none\"/>\n",
              "    <path d=\"M18.56 5.44l.94 2.06.94-2.06 2.06-.94-2.06-.94-.94-2.06-.94 2.06-2.06.94zm-11 1L8.5 8.5l.94-2.06 2.06-.94-2.06-.94L8.5 2.5l-.94 2.06-2.06.94zm10 10l.94 2.06.94-2.06 2.06-.94-2.06-.94-.94-2.06-.94 2.06-2.06.94z\"/><path d=\"M17.41 7.96l-1.37-1.37c-.4-.4-.92-.59-1.43-.59-.52 0-1.04.2-1.43.59L10.3 9.45l-7.72 7.72c-.78.78-.78 2.05 0 2.83L4 21.41c.39.39.9.59 1.41.59.51 0 1.02-.2 1.41-.59l7.78-7.78 2.81-2.81c.8-.78.8-2.07 0-2.86zM5.41 20L4 18.59l7.72-7.72 1.47 1.35L5.41 20z\"/>\n",
              "  </svg>\n",
              "      </button>\n",
              "      \n",
              "  <style>\n",
              "    .colab-df-container {\n",
              "      display:flex;\n",
              "      flex-wrap:wrap;\n",
              "      gap: 12px;\n",
              "    }\n",
              "\n",
              "    .colab-df-convert {\n",
              "      background-color: #E8F0FE;\n",
              "      border: none;\n",
              "      border-radius: 50%;\n",
              "      cursor: pointer;\n",
              "      display: none;\n",
              "      fill: #1967D2;\n",
              "      height: 32px;\n",
              "      padding: 0 0 0 0;\n",
              "      width: 32px;\n",
              "    }\n",
              "\n",
              "    .colab-df-convert:hover {\n",
              "      background-color: #E2EBFA;\n",
              "      box-shadow: 0px 1px 2px rgba(60, 64, 67, 0.3), 0px 1px 3px 1px rgba(60, 64, 67, 0.15);\n",
              "      fill: #174EA6;\n",
              "    }\n",
              "\n",
              "    [theme=dark] .colab-df-convert {\n",
              "      background-color: #3B4455;\n",
              "      fill: #D2E3FC;\n",
              "    }\n",
              "\n",
              "    [theme=dark] .colab-df-convert:hover {\n",
              "      background-color: #434B5C;\n",
              "      box-shadow: 0px 1px 3px 1px rgba(0, 0, 0, 0.15);\n",
              "      filter: drop-shadow(0px 1px 2px rgba(0, 0, 0, 0.3));\n",
              "      fill: #FFFFFF;\n",
              "    }\n",
              "  </style>\n",
              "\n",
              "      <script>\n",
              "        const buttonEl =\n",
              "          document.querySelector('#df-5175ed4a-1d11-47f3-816b-61f440c727ac button.colab-df-convert');\n",
              "        buttonEl.style.display =\n",
              "          google.colab.kernel.accessAllowed ? 'block' : 'none';\n",
              "\n",
              "        async function convertToInteractive(key) {\n",
              "          const element = document.querySelector('#df-5175ed4a-1d11-47f3-816b-61f440c727ac');\n",
              "          const dataTable =\n",
              "            await google.colab.kernel.invokeFunction('convertToInteractive',\n",
              "                                                     [key], {});\n",
              "          if (!dataTable) return;\n",
              "\n",
              "          const docLinkHtml = 'Like what you see? Visit the ' +\n",
              "            '<a target=\"_blank\" href=https://colab.research.google.com/notebooks/data_table.ipynb>data table notebook</a>'\n",
              "            + ' to learn more about interactive tables.';\n",
              "          element.innerHTML = '';\n",
              "          dataTable['output_type'] = 'display_data';\n",
              "          await google.colab.output.renderOutput(dataTable, element);\n",
              "          const docLink = document.createElement('div');\n",
              "          docLink.innerHTML = docLinkHtml;\n",
              "          element.appendChild(docLink);\n",
              "        }\n",
              "      </script>\n",
              "    </div>\n",
              "  </div>\n",
              "  "
            ]
          },
          "metadata": {},
          "execution_count": 13
        }
      ],
      "source": [
        "df.describe().round()"
      ]
    },
    {
      "cell_type": "markdown",
      "source": [
        "Notice the extreme values: 99999999.0. Changing them to NaN will make it easier to decide what to do with them in the future. "
      ],
      "metadata": {
        "id": "dTbhA3uKcHTC"
      },
      "id": "dTbhA3uKcHTC"
    },
    {
      "cell_type": "code",
      "execution_count": 14,
      "id": "476a7da9",
      "metadata": {
        "id": "476a7da9"
      },
      "outputs": [],
      "source": [
        "for c in ['income', 'assets', 'debt']:\n",
        "    df[c] = df[c].replace(to_replace=99999999, value=np.nan)"
      ]
    },
    {
      "cell_type": "code",
      "execution_count": 15,
      "id": "16b9fb41",
      "metadata": {
        "id": "16b9fb41",
        "outputId": "fb422d5f-cba1-4d4d-9a3e-be3352412729",
        "colab": {
          "base_uri": "https://localhost:8080/",
          "height": 300
        }
      },
      "outputs": [
        {
          "output_type": "execute_result",
          "data": {
            "text/plain": [
              "       seniority    time     age  expenses  income    assets     debt  amount  \\\n",
              "count     4455.0  4455.0  4455.0    4455.0  4421.0    4408.0   4437.0  4455.0   \n",
              "mean         8.0    46.0    37.0      56.0   131.0    5403.0    343.0  1039.0   \n",
              "std          8.0    15.0    11.0      20.0    86.0   11573.0   1246.0   475.0   \n",
              "min          0.0     6.0    18.0      35.0     0.0       0.0      0.0   100.0   \n",
              "25%          2.0    36.0    28.0      35.0    80.0       0.0      0.0   700.0   \n",
              "50%          5.0    48.0    36.0      51.0   120.0    3000.0      0.0  1000.0   \n",
              "75%         12.0    60.0    45.0      72.0   165.0    6000.0      0.0  1300.0   \n",
              "max         48.0    72.0    68.0     180.0   959.0  300000.0  30000.0  5000.0   \n",
              "\n",
              "         price  \n",
              "count   4455.0  \n",
              "mean    1463.0  \n",
              "std      628.0  \n",
              "min      105.0  \n",
              "25%     1118.0  \n",
              "50%     1400.0  \n",
              "75%     1692.0  \n",
              "max    11140.0  "
            ],
            "text/html": [
              "\n",
              "  <div id=\"df-71393dfb-cbe3-463a-bad9-ba6164fa651a\">\n",
              "    <div class=\"colab-df-container\">\n",
              "      <div>\n",
              "<style scoped>\n",
              "    .dataframe tbody tr th:only-of-type {\n",
              "        vertical-align: middle;\n",
              "    }\n",
              "\n",
              "    .dataframe tbody tr th {\n",
              "        vertical-align: top;\n",
              "    }\n",
              "\n",
              "    .dataframe thead th {\n",
              "        text-align: right;\n",
              "    }\n",
              "</style>\n",
              "<table border=\"1\" class=\"dataframe\">\n",
              "  <thead>\n",
              "    <tr style=\"text-align: right;\">\n",
              "      <th></th>\n",
              "      <th>seniority</th>\n",
              "      <th>time</th>\n",
              "      <th>age</th>\n",
              "      <th>expenses</th>\n",
              "      <th>income</th>\n",
              "      <th>assets</th>\n",
              "      <th>debt</th>\n",
              "      <th>amount</th>\n",
              "      <th>price</th>\n",
              "    </tr>\n",
              "  </thead>\n",
              "  <tbody>\n",
              "    <tr>\n",
              "      <th>count</th>\n",
              "      <td>4455.0</td>\n",
              "      <td>4455.0</td>\n",
              "      <td>4455.0</td>\n",
              "      <td>4455.0</td>\n",
              "      <td>4421.0</td>\n",
              "      <td>4408.0</td>\n",
              "      <td>4437.0</td>\n",
              "      <td>4455.0</td>\n",
              "      <td>4455.0</td>\n",
              "    </tr>\n",
              "    <tr>\n",
              "      <th>mean</th>\n",
              "      <td>8.0</td>\n",
              "      <td>46.0</td>\n",
              "      <td>37.0</td>\n",
              "      <td>56.0</td>\n",
              "      <td>131.0</td>\n",
              "      <td>5403.0</td>\n",
              "      <td>343.0</td>\n",
              "      <td>1039.0</td>\n",
              "      <td>1463.0</td>\n",
              "    </tr>\n",
              "    <tr>\n",
              "      <th>std</th>\n",
              "      <td>8.0</td>\n",
              "      <td>15.0</td>\n",
              "      <td>11.0</td>\n",
              "      <td>20.0</td>\n",
              "      <td>86.0</td>\n",
              "      <td>11573.0</td>\n",
              "      <td>1246.0</td>\n",
              "      <td>475.0</td>\n",
              "      <td>628.0</td>\n",
              "    </tr>\n",
              "    <tr>\n",
              "      <th>min</th>\n",
              "      <td>0.0</td>\n",
              "      <td>6.0</td>\n",
              "      <td>18.0</td>\n",
              "      <td>35.0</td>\n",
              "      <td>0.0</td>\n",
              "      <td>0.0</td>\n",
              "      <td>0.0</td>\n",
              "      <td>100.0</td>\n",
              "      <td>105.0</td>\n",
              "    </tr>\n",
              "    <tr>\n",
              "      <th>25%</th>\n",
              "      <td>2.0</td>\n",
              "      <td>36.0</td>\n",
              "      <td>28.0</td>\n",
              "      <td>35.0</td>\n",
              "      <td>80.0</td>\n",
              "      <td>0.0</td>\n",
              "      <td>0.0</td>\n",
              "      <td>700.0</td>\n",
              "      <td>1118.0</td>\n",
              "    </tr>\n",
              "    <tr>\n",
              "      <th>50%</th>\n",
              "      <td>5.0</td>\n",
              "      <td>48.0</td>\n",
              "      <td>36.0</td>\n",
              "      <td>51.0</td>\n",
              "      <td>120.0</td>\n",
              "      <td>3000.0</td>\n",
              "      <td>0.0</td>\n",
              "      <td>1000.0</td>\n",
              "      <td>1400.0</td>\n",
              "    </tr>\n",
              "    <tr>\n",
              "      <th>75%</th>\n",
              "      <td>12.0</td>\n",
              "      <td>60.0</td>\n",
              "      <td>45.0</td>\n",
              "      <td>72.0</td>\n",
              "      <td>165.0</td>\n",
              "      <td>6000.0</td>\n",
              "      <td>0.0</td>\n",
              "      <td>1300.0</td>\n",
              "      <td>1692.0</td>\n",
              "    </tr>\n",
              "    <tr>\n",
              "      <th>max</th>\n",
              "      <td>48.0</td>\n",
              "      <td>72.0</td>\n",
              "      <td>68.0</td>\n",
              "      <td>180.0</td>\n",
              "      <td>959.0</td>\n",
              "      <td>300000.0</td>\n",
              "      <td>30000.0</td>\n",
              "      <td>5000.0</td>\n",
              "      <td>11140.0</td>\n",
              "    </tr>\n",
              "  </tbody>\n",
              "</table>\n",
              "</div>\n",
              "      <button class=\"colab-df-convert\" onclick=\"convertToInteractive('df-71393dfb-cbe3-463a-bad9-ba6164fa651a')\"\n",
              "              title=\"Convert this dataframe to an interactive table.\"\n",
              "              style=\"display:none;\">\n",
              "        \n",
              "  <svg xmlns=\"http://www.w3.org/2000/svg\" height=\"24px\"viewBox=\"0 0 24 24\"\n",
              "       width=\"24px\">\n",
              "    <path d=\"M0 0h24v24H0V0z\" fill=\"none\"/>\n",
              "    <path d=\"M18.56 5.44l.94 2.06.94-2.06 2.06-.94-2.06-.94-.94-2.06-.94 2.06-2.06.94zm-11 1L8.5 8.5l.94-2.06 2.06-.94-2.06-.94L8.5 2.5l-.94 2.06-2.06.94zm10 10l.94 2.06.94-2.06 2.06-.94-2.06-.94-.94-2.06-.94 2.06-2.06.94z\"/><path d=\"M17.41 7.96l-1.37-1.37c-.4-.4-.92-.59-1.43-.59-.52 0-1.04.2-1.43.59L10.3 9.45l-7.72 7.72c-.78.78-.78 2.05 0 2.83L4 21.41c.39.39.9.59 1.41.59.51 0 1.02-.2 1.41-.59l7.78-7.78 2.81-2.81c.8-.78.8-2.07 0-2.86zM5.41 20L4 18.59l7.72-7.72 1.47 1.35L5.41 20z\"/>\n",
              "  </svg>\n",
              "      </button>\n",
              "      \n",
              "  <style>\n",
              "    .colab-df-container {\n",
              "      display:flex;\n",
              "      flex-wrap:wrap;\n",
              "      gap: 12px;\n",
              "    }\n",
              "\n",
              "    .colab-df-convert {\n",
              "      background-color: #E8F0FE;\n",
              "      border: none;\n",
              "      border-radius: 50%;\n",
              "      cursor: pointer;\n",
              "      display: none;\n",
              "      fill: #1967D2;\n",
              "      height: 32px;\n",
              "      padding: 0 0 0 0;\n",
              "      width: 32px;\n",
              "    }\n",
              "\n",
              "    .colab-df-convert:hover {\n",
              "      background-color: #E2EBFA;\n",
              "      box-shadow: 0px 1px 2px rgba(60, 64, 67, 0.3), 0px 1px 3px 1px rgba(60, 64, 67, 0.15);\n",
              "      fill: #174EA6;\n",
              "    }\n",
              "\n",
              "    [theme=dark] .colab-df-convert {\n",
              "      background-color: #3B4455;\n",
              "      fill: #D2E3FC;\n",
              "    }\n",
              "\n",
              "    [theme=dark] .colab-df-convert:hover {\n",
              "      background-color: #434B5C;\n",
              "      box-shadow: 0px 1px 3px 1px rgba(0, 0, 0, 0.15);\n",
              "      filter: drop-shadow(0px 1px 2px rgba(0, 0, 0, 0.3));\n",
              "      fill: #FFFFFF;\n",
              "    }\n",
              "  </style>\n",
              "\n",
              "      <script>\n",
              "        const buttonEl =\n",
              "          document.querySelector('#df-71393dfb-cbe3-463a-bad9-ba6164fa651a button.colab-df-convert');\n",
              "        buttonEl.style.display =\n",
              "          google.colab.kernel.accessAllowed ? 'block' : 'none';\n",
              "\n",
              "        async function convertToInteractive(key) {\n",
              "          const element = document.querySelector('#df-71393dfb-cbe3-463a-bad9-ba6164fa651a');\n",
              "          const dataTable =\n",
              "            await google.colab.kernel.invokeFunction('convertToInteractive',\n",
              "                                                     [key], {});\n",
              "          if (!dataTable) return;\n",
              "\n",
              "          const docLinkHtml = 'Like what you see? Visit the ' +\n",
              "            '<a target=\"_blank\" href=https://colab.research.google.com/notebooks/data_table.ipynb>data table notebook</a>'\n",
              "            + ' to learn more about interactive tables.';\n",
              "          element.innerHTML = '';\n",
              "          dataTable['output_type'] = 'display_data';\n",
              "          await google.colab.output.renderOutput(dataTable, element);\n",
              "          const docLink = document.createElement('div');\n",
              "          docLink.innerHTML = docLinkHtml;\n",
              "          element.appendChild(docLink);\n",
              "        }\n",
              "      </script>\n",
              "    </div>\n",
              "  </div>\n",
              "  "
            ]
          },
          "metadata": {},
          "execution_count": 15
        }
      ],
      "source": [
        "df.describe().round()"
      ]
    },
    {
      "cell_type": "code",
      "execution_count": 17,
      "id": "4fd52ad9",
      "metadata": {
        "id": "4fd52ad9"
      },
      "outputs": [],
      "source": [
        "df = df[df.status != 'unk'].reset_index(drop=True) \n",
        "# we are only interested in known values for status, this is our target variable. New DF without the unk rows"
      ]
    },
    {
      "cell_type": "code",
      "execution_count": 18,
      "id": "febb388b",
      "metadata": {
        "id": "febb388b"
      },
      "outputs": [],
      "source": [
        "from sklearn.model_selection import train_test_split\n",
        "\n",
        "df_full_train, df_test = train_test_split(df, test_size=0.2, random_state=11)\n",
        "df_train, df_val = train_test_split(df_full_train, test_size=0.25, random_state=11)"
      ]
    },
    {
      "cell_type": "code",
      "execution_count": 27,
      "id": "6f924284",
      "metadata": {
        "id": "6f924284"
      },
      "outputs": [],
      "source": [
        "df_train = df_train.reset_index(drop=True)\n",
        "df_val = df_val.reset_index(drop=True)\n",
        "df_test = df_test.reset_index(drop=True)"
      ]
    },
    {
      "cell_type": "code",
      "execution_count": 28,
      "id": "9b5c933a",
      "metadata": {
        "id": "9b5c933a"
      },
      "outputs": [],
      "source": [
        "y_train = (df_train.status == 'default').astype('int').values\n",
        "y_val = (df_val.status == 'default').astype('int').values\n",
        "y_test = (df_test.status == 'default').astype('int').values"
      ]
    },
    {
      "cell_type": "code",
      "execution_count": 29,
      "id": "b6aa7a81",
      "metadata": {
        "id": "b6aa7a81"
      },
      "outputs": [],
      "source": [
        "del df_train['status']\n",
        "del df_val['status']\n",
        "del df_test['status']"
      ]
    },
    {
      "cell_type": "code",
      "execution_count": 19,
      "id": "f3e76730",
      "metadata": {
        "id": "f3e76730",
        "outputId": "1fe26e0c-cfc6-4e03-afb1-121fe18cf139",
        "colab": {
          "base_uri": "https://localhost:8080/",
          "height": 424
        }
      },
      "outputs": [
        {
          "output_type": "execute_result",
          "data": {
            "text/plain": [
              "       status  seniority     home  time  age  marital records        job  \\\n",
              "951   default         10    owner    36   36  married      no  freelance   \n",
              "688   default          6  parents    48   32   single     yes      fixed   \n",
              "2233       ok          1  parents    48   40  married      no      fixed   \n",
              "3304  default          1  parents    48   23   single      no    partime   \n",
              "2271       ok          5    owner    36   46  married      no  freelance   \n",
              "...       ...        ...      ...   ...  ...      ...     ...        ...   \n",
              "2382       ok         18  private    36   45  married      no      fixed   \n",
              "1784       ok          7  private    60   29  married      no      fixed   \n",
              "808        ok          1  parents    24   19   single      no      fixed   \n",
              "1857       ok         15    owner    48   43  married      no  freelance   \n",
              "488        ok         12    owner    48   27  married     yes      fixed   \n",
              "\n",
              "      expenses  income   assets    debt  amount  price  \n",
              "951         75     0.0  10000.0     0.0    1000   1400  \n",
              "688         35    85.0      0.0     0.0    1100   1330  \n",
              "2233        75   121.0      0.0     0.0    1320   1600  \n",
              "3304        35    72.0      0.0     0.0    1078   1079  \n",
              "2271        60   100.0   4000.0     0.0    1100   1897  \n",
              "...        ...     ...      ...     ...     ...    ...  \n",
              "2382        45   220.0  20000.0     0.0     800   1600  \n",
              "1784        60    51.0   3500.0   500.0    1000   1290  \n",
              "808         35    28.0      0.0     0.0     400    600  \n",
              "1857        60   100.0  18000.0     0.0    2500   2976  \n",
              "488         45   110.0   5000.0  1300.0     450   1636  \n",
              "\n",
              "[2672 rows x 14 columns]"
            ],
            "text/html": [
              "\n",
              "  <div id=\"df-44cb1532-db97-4424-a260-5523b89e8eae\">\n",
              "    <div class=\"colab-df-container\">\n",
              "      <div>\n",
              "<style scoped>\n",
              "    .dataframe tbody tr th:only-of-type {\n",
              "        vertical-align: middle;\n",
              "    }\n",
              "\n",
              "    .dataframe tbody tr th {\n",
              "        vertical-align: top;\n",
              "    }\n",
              "\n",
              "    .dataframe thead th {\n",
              "        text-align: right;\n",
              "    }\n",
              "</style>\n",
              "<table border=\"1\" class=\"dataframe\">\n",
              "  <thead>\n",
              "    <tr style=\"text-align: right;\">\n",
              "      <th></th>\n",
              "      <th>status</th>\n",
              "      <th>seniority</th>\n",
              "      <th>home</th>\n",
              "      <th>time</th>\n",
              "      <th>age</th>\n",
              "      <th>marital</th>\n",
              "      <th>records</th>\n",
              "      <th>job</th>\n",
              "      <th>expenses</th>\n",
              "      <th>income</th>\n",
              "      <th>assets</th>\n",
              "      <th>debt</th>\n",
              "      <th>amount</th>\n",
              "      <th>price</th>\n",
              "    </tr>\n",
              "  </thead>\n",
              "  <tbody>\n",
              "    <tr>\n",
              "      <th>951</th>\n",
              "      <td>default</td>\n",
              "      <td>10</td>\n",
              "      <td>owner</td>\n",
              "      <td>36</td>\n",
              "      <td>36</td>\n",
              "      <td>married</td>\n",
              "      <td>no</td>\n",
              "      <td>freelance</td>\n",
              "      <td>75</td>\n",
              "      <td>0.0</td>\n",
              "      <td>10000.0</td>\n",
              "      <td>0.0</td>\n",
              "      <td>1000</td>\n",
              "      <td>1400</td>\n",
              "    </tr>\n",
              "    <tr>\n",
              "      <th>688</th>\n",
              "      <td>default</td>\n",
              "      <td>6</td>\n",
              "      <td>parents</td>\n",
              "      <td>48</td>\n",
              "      <td>32</td>\n",
              "      <td>single</td>\n",
              "      <td>yes</td>\n",
              "      <td>fixed</td>\n",
              "      <td>35</td>\n",
              "      <td>85.0</td>\n",
              "      <td>0.0</td>\n",
              "      <td>0.0</td>\n",
              "      <td>1100</td>\n",
              "      <td>1330</td>\n",
              "    </tr>\n",
              "    <tr>\n",
              "      <th>2233</th>\n",
              "      <td>ok</td>\n",
              "      <td>1</td>\n",
              "      <td>parents</td>\n",
              "      <td>48</td>\n",
              "      <td>40</td>\n",
              "      <td>married</td>\n",
              "      <td>no</td>\n",
              "      <td>fixed</td>\n",
              "      <td>75</td>\n",
              "      <td>121.0</td>\n",
              "      <td>0.0</td>\n",
              "      <td>0.0</td>\n",
              "      <td>1320</td>\n",
              "      <td>1600</td>\n",
              "    </tr>\n",
              "    <tr>\n",
              "      <th>3304</th>\n",
              "      <td>default</td>\n",
              "      <td>1</td>\n",
              "      <td>parents</td>\n",
              "      <td>48</td>\n",
              "      <td>23</td>\n",
              "      <td>single</td>\n",
              "      <td>no</td>\n",
              "      <td>partime</td>\n",
              "      <td>35</td>\n",
              "      <td>72.0</td>\n",
              "      <td>0.0</td>\n",
              "      <td>0.0</td>\n",
              "      <td>1078</td>\n",
              "      <td>1079</td>\n",
              "    </tr>\n",
              "    <tr>\n",
              "      <th>2271</th>\n",
              "      <td>ok</td>\n",
              "      <td>5</td>\n",
              "      <td>owner</td>\n",
              "      <td>36</td>\n",
              "      <td>46</td>\n",
              "      <td>married</td>\n",
              "      <td>no</td>\n",
              "      <td>freelance</td>\n",
              "      <td>60</td>\n",
              "      <td>100.0</td>\n",
              "      <td>4000.0</td>\n",
              "      <td>0.0</td>\n",
              "      <td>1100</td>\n",
              "      <td>1897</td>\n",
              "    </tr>\n",
              "    <tr>\n",
              "      <th>...</th>\n",
              "      <td>...</td>\n",
              "      <td>...</td>\n",
              "      <td>...</td>\n",
              "      <td>...</td>\n",
              "      <td>...</td>\n",
              "      <td>...</td>\n",
              "      <td>...</td>\n",
              "      <td>...</td>\n",
              "      <td>...</td>\n",
              "      <td>...</td>\n",
              "      <td>...</td>\n",
              "      <td>...</td>\n",
              "      <td>...</td>\n",
              "      <td>...</td>\n",
              "    </tr>\n",
              "    <tr>\n",
              "      <th>2382</th>\n",
              "      <td>ok</td>\n",
              "      <td>18</td>\n",
              "      <td>private</td>\n",
              "      <td>36</td>\n",
              "      <td>45</td>\n",
              "      <td>married</td>\n",
              "      <td>no</td>\n",
              "      <td>fixed</td>\n",
              "      <td>45</td>\n",
              "      <td>220.0</td>\n",
              "      <td>20000.0</td>\n",
              "      <td>0.0</td>\n",
              "      <td>800</td>\n",
              "      <td>1600</td>\n",
              "    </tr>\n",
              "    <tr>\n",
              "      <th>1784</th>\n",
              "      <td>ok</td>\n",
              "      <td>7</td>\n",
              "      <td>private</td>\n",
              "      <td>60</td>\n",
              "      <td>29</td>\n",
              "      <td>married</td>\n",
              "      <td>no</td>\n",
              "      <td>fixed</td>\n",
              "      <td>60</td>\n",
              "      <td>51.0</td>\n",
              "      <td>3500.0</td>\n",
              "      <td>500.0</td>\n",
              "      <td>1000</td>\n",
              "      <td>1290</td>\n",
              "    </tr>\n",
              "    <tr>\n",
              "      <th>808</th>\n",
              "      <td>ok</td>\n",
              "      <td>1</td>\n",
              "      <td>parents</td>\n",
              "      <td>24</td>\n",
              "      <td>19</td>\n",
              "      <td>single</td>\n",
              "      <td>no</td>\n",
              "      <td>fixed</td>\n",
              "      <td>35</td>\n",
              "      <td>28.0</td>\n",
              "      <td>0.0</td>\n",
              "      <td>0.0</td>\n",
              "      <td>400</td>\n",
              "      <td>600</td>\n",
              "    </tr>\n",
              "    <tr>\n",
              "      <th>1857</th>\n",
              "      <td>ok</td>\n",
              "      <td>15</td>\n",
              "      <td>owner</td>\n",
              "      <td>48</td>\n",
              "      <td>43</td>\n",
              "      <td>married</td>\n",
              "      <td>no</td>\n",
              "      <td>freelance</td>\n",
              "      <td>60</td>\n",
              "      <td>100.0</td>\n",
              "      <td>18000.0</td>\n",
              "      <td>0.0</td>\n",
              "      <td>2500</td>\n",
              "      <td>2976</td>\n",
              "    </tr>\n",
              "    <tr>\n",
              "      <th>488</th>\n",
              "      <td>ok</td>\n",
              "      <td>12</td>\n",
              "      <td>owner</td>\n",
              "      <td>48</td>\n",
              "      <td>27</td>\n",
              "      <td>married</td>\n",
              "      <td>yes</td>\n",
              "      <td>fixed</td>\n",
              "      <td>45</td>\n",
              "      <td>110.0</td>\n",
              "      <td>5000.0</td>\n",
              "      <td>1300.0</td>\n",
              "      <td>450</td>\n",
              "      <td>1636</td>\n",
              "    </tr>\n",
              "  </tbody>\n",
              "</table>\n",
              "<p>2672 rows × 14 columns</p>\n",
              "</div>\n",
              "      <button class=\"colab-df-convert\" onclick=\"convertToInteractive('df-44cb1532-db97-4424-a260-5523b89e8eae')\"\n",
              "              title=\"Convert this dataframe to an interactive table.\"\n",
              "              style=\"display:none;\">\n",
              "        \n",
              "  <svg xmlns=\"http://www.w3.org/2000/svg\" height=\"24px\"viewBox=\"0 0 24 24\"\n",
              "       width=\"24px\">\n",
              "    <path d=\"M0 0h24v24H0V0z\" fill=\"none\"/>\n",
              "    <path d=\"M18.56 5.44l.94 2.06.94-2.06 2.06-.94-2.06-.94-.94-2.06-.94 2.06-2.06.94zm-11 1L8.5 8.5l.94-2.06 2.06-.94-2.06-.94L8.5 2.5l-.94 2.06-2.06.94zm10 10l.94 2.06.94-2.06 2.06-.94-2.06-.94-.94-2.06-.94 2.06-2.06.94z\"/><path d=\"M17.41 7.96l-1.37-1.37c-.4-.4-.92-.59-1.43-.59-.52 0-1.04.2-1.43.59L10.3 9.45l-7.72 7.72c-.78.78-.78 2.05 0 2.83L4 21.41c.39.39.9.59 1.41.59.51 0 1.02-.2 1.41-.59l7.78-7.78 2.81-2.81c.8-.78.8-2.07 0-2.86zM5.41 20L4 18.59l7.72-7.72 1.47 1.35L5.41 20z\"/>\n",
              "  </svg>\n",
              "      </button>\n",
              "      \n",
              "  <style>\n",
              "    .colab-df-container {\n",
              "      display:flex;\n",
              "      flex-wrap:wrap;\n",
              "      gap: 12px;\n",
              "    }\n",
              "\n",
              "    .colab-df-convert {\n",
              "      background-color: #E8F0FE;\n",
              "      border: none;\n",
              "      border-radius: 50%;\n",
              "      cursor: pointer;\n",
              "      display: none;\n",
              "      fill: #1967D2;\n",
              "      height: 32px;\n",
              "      padding: 0 0 0 0;\n",
              "      width: 32px;\n",
              "    }\n",
              "\n",
              "    .colab-df-convert:hover {\n",
              "      background-color: #E2EBFA;\n",
              "      box-shadow: 0px 1px 2px rgba(60, 64, 67, 0.3), 0px 1px 3px 1px rgba(60, 64, 67, 0.15);\n",
              "      fill: #174EA6;\n",
              "    }\n",
              "\n",
              "    [theme=dark] .colab-df-convert {\n",
              "      background-color: #3B4455;\n",
              "      fill: #D2E3FC;\n",
              "    }\n",
              "\n",
              "    [theme=dark] .colab-df-convert:hover {\n",
              "      background-color: #434B5C;\n",
              "      box-shadow: 0px 1px 3px 1px rgba(0, 0, 0, 0.15);\n",
              "      filter: drop-shadow(0px 1px 2px rgba(0, 0, 0, 0.3));\n",
              "      fill: #FFFFFF;\n",
              "    }\n",
              "  </style>\n",
              "\n",
              "      <script>\n",
              "        const buttonEl =\n",
              "          document.querySelector('#df-44cb1532-db97-4424-a260-5523b89e8eae button.colab-df-convert');\n",
              "        buttonEl.style.display =\n",
              "          google.colab.kernel.accessAllowed ? 'block' : 'none';\n",
              "\n",
              "        async function convertToInteractive(key) {\n",
              "          const element = document.querySelector('#df-44cb1532-db97-4424-a260-5523b89e8eae');\n",
              "          const dataTable =\n",
              "            await google.colab.kernel.invokeFunction('convertToInteractive',\n",
              "                                                     [key], {});\n",
              "          if (!dataTable) return;\n",
              "\n",
              "          const docLinkHtml = 'Like what you see? Visit the ' +\n",
              "            '<a target=\"_blank\" href=https://colab.research.google.com/notebooks/data_table.ipynb>data table notebook</a>'\n",
              "            + ' to learn more about interactive tables.';\n",
              "          element.innerHTML = '';\n",
              "          dataTable['output_type'] = 'display_data';\n",
              "          await google.colab.output.renderOutput(dataTable, element);\n",
              "          const docLink = document.createElement('div');\n",
              "          docLink.innerHTML = docLinkHtml;\n",
              "          element.appendChild(docLink);\n",
              "        }\n",
              "      </script>\n",
              "    </div>\n",
              "  </div>\n",
              "  "
            ]
          },
          "metadata": {},
          "execution_count": 19
        }
      ],
      "source": [
        "df_train"
      ]
    },
    {
      "cell_type": "markdown",
      "id": "bff85b4b",
      "metadata": {
        "id": "bff85b4b"
      },
      "source": [
        "## 6.3 Decision trees\n",
        "\n",
        "* How a decision tree looks like\n",
        "* Training a decision tree \n",
        "* Overfitting\n",
        "* Controlling the size of a tree"
      ]
    },
    {
      "cell_type": "markdown",
      "source": [
        "![image.png](data:image/png;base64,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)"
      ],
      "metadata": {
        "id": "UjmY_6d4iPH2"
      },
      "id": "UjmY_6d4iPH2"
    },
    {
      "cell_type": "code",
      "execution_count": 20,
      "id": "f327b1df",
      "metadata": {
        "id": "f327b1df"
      },
      "outputs": [],
      "source": [
        "def assess_risk(client):\n",
        "    if client['records'] == 'yes':\n",
        "        if client['job'] == 'parttime':\n",
        "            return 'default'\n",
        "        else:\n",
        "            return 'ok'\n",
        "    else:\n",
        "        if client['assets'] > 6000:\n",
        "            return 'ok'\n",
        "        else:\n",
        "            return 'default'"
      ]
    },
    {
      "cell_type": "code",
      "execution_count": 21,
      "id": "7f783fe3",
      "metadata": {
        "id": "7f783fe3"
      },
      "outputs": [],
      "source": [
        "xi = df_train.iloc[0].to_dict()"
      ]
    },
    {
      "cell_type": "code",
      "execution_count": 22,
      "id": "a0423220",
      "metadata": {
        "id": "a0423220",
        "outputId": "77ded4cb-e71e-48c7-f521-87dd216effa5",
        "colab": {
          "base_uri": "https://localhost:8080/",
          "height": 35
        }
      },
      "outputs": [
        {
          "output_type": "execute_result",
          "data": {
            "text/plain": [
              "'ok'"
            ],
            "application/vnd.google.colaboratory.intrinsic+json": {
              "type": "string"
            }
          },
          "metadata": {},
          "execution_count": 22
        }
      ],
      "source": [
        "assess_risk(xi)"
      ]
    },
    {
      "cell_type": "code",
      "execution_count": 23,
      "id": "3af9c1c9",
      "metadata": {
        "id": "3af9c1c9"
      },
      "outputs": [],
      "source": [
        "from sklearn.tree import DecisionTreeClassifier\n",
        "from sklearn.feature_extraction import DictVectorizer\n",
        "from sklearn.metrics import roc_auc_score\n",
        "from sklearn.tree import export_text"
      ]
    },
    {
      "cell_type": "code",
      "execution_count": 30,
      "id": "1fd8b59f",
      "metadata": {
        "id": "1fd8b59f"
      },
      "outputs": [],
      "source": [
        "train_dicts = df_train.fillna(0).to_dict(orient='records')"
      ]
    },
    {
      "cell_type": "code",
      "execution_count": 31,
      "id": "5fe56815",
      "metadata": {
        "id": "5fe56815"
      },
      "outputs": [],
      "source": [
        "dv = DictVectorizer(sparse=False)\n",
        "X_train = dv.fit_transform(train_dicts)"
      ]
    },
    {
      "cell_type": "code",
      "execution_count": 32,
      "id": "47c8a000",
      "metadata": {
        "id": "47c8a000",
        "outputId": "c7512a5f-ac56-417f-d749-1cc6060bc024",
        "colab": {
          "base_uri": "https://localhost:8080/"
        }
      },
      "outputs": [
        {
          "output_type": "execute_result",
          "data": {
            "text/plain": [
              "DecisionTreeClassifier()"
            ]
          },
          "metadata": {},
          "execution_count": 32
        }
      ],
      "source": [
        "dt = DecisionTreeClassifier()\n",
        "dt.fit(X_train, y_train)"
      ]
    },
    {
      "cell_type": "code",
      "execution_count": 33,
      "id": "4b4bda82",
      "metadata": {
        "id": "4b4bda82"
      },
      "outputs": [],
      "source": [
        "val_dicts = df_val.fillna(0).to_dict(orient='records')\n",
        "X_val = dv.transform(val_dicts)"
      ]
    },
    {
      "cell_type": "code",
      "execution_count": 34,
      "id": "c17a38f4",
      "metadata": {
        "id": "c17a38f4",
        "outputId": "2173ccfd-9e4c-4bb2-ba9f-9e2ea3ad45bc",
        "colab": {
          "base_uri": "https://localhost:8080/"
        }
      },
      "outputs": [
        {
          "output_type": "execute_result",
          "data": {
            "text/plain": [
              "0.6557663897701679"
            ]
          },
          "metadata": {},
          "execution_count": 34
        }
      ],
      "source": [
        "y_pred = dt.predict_proba(X_val)[:, 1]\n",
        "roc_auc_score(y_val, y_pred)"
      ]
    },
    {
      "cell_type": "code",
      "execution_count": 35,
      "id": "45972386",
      "metadata": {
        "id": "45972386",
        "outputId": "5bca5b30-d3b9-4e7f-82ed-c96cfc41ddbe",
        "colab": {
          "base_uri": "https://localhost:8080/"
        }
      },
      "outputs": [
        {
          "output_type": "execute_result",
          "data": {
            "text/plain": [
              "1.0"
            ]
          },
          "metadata": {},
          "execution_count": 35
        }
      ],
      "source": [
        "y_pred = dt.predict_proba(X_train)[:, 1]\n",
        "roc_auc_score(y_train, y_pred)"
      ]
    },
    {
      "cell_type": "markdown",
      "source": [
        "Notice the diference between val AUC score and train AUC score. This indicates overfitting."
      ],
      "metadata": {
        "id": "rmm65s8ZkCQ4"
      },
      "id": "rmm65s8ZkCQ4"
    },
    {
      "cell_type": "code",
      "execution_count": 38,
      "id": "4d29de27",
      "metadata": {
        "id": "4d29de27",
        "outputId": "ecba436f-8a19-4225-81d7-1293a8629e83",
        "colab": {
          "base_uri": "https://localhost:8080/"
        }
      },
      "outputs": [
        {
          "output_type": "execute_result",
          "data": {
            "text/plain": [
              "DecisionTreeClassifier(max_depth=3)"
            ]
          },
          "metadata": {},
          "execution_count": 38
        }
      ],
      "source": [
        "dt = DecisionTreeClassifier(max_depth=3)\n",
        "dt.fit(X_train, y_train)\n",
        "# restricting tree depth  with 'max_depth' due to over fitting."
      ]
    },
    {
      "cell_type": "code",
      "execution_count": 39,
      "id": "3c961387",
      "metadata": {
        "id": "3c961387",
        "outputId": "08978608-5fbc-4d93-f6be-fbac05dde885",
        "colab": {
          "base_uri": "https://localhost:8080/"
        }
      },
      "outputs": [
        {
          "output_type": "stream",
          "name": "stdout",
          "text": [
            "train: 0.7761016984958594\n",
            "val: 0.7389079944782155\n"
          ]
        }
      ],
      "source": [
        "y_pred = dt.predict_proba(X_train)[:, 1]\n",
        "auc = roc_auc_score(y_train, y_pred)\n",
        "print('train:', auc)\n",
        "\n",
        "y_pred = dt.predict_proba(X_val)[:, 1]\n",
        "auc = roc_auc_score(y_val, y_pred)\n",
        "print('val:', auc)"
      ]
    },
    {
      "cell_type": "code",
      "execution_count": null,
      "id": "1bfb617f",
      "metadata": {
        "id": "1bfb617f",
        "outputId": "ed0af0e6-f9ff-4ed7-a2c2-7f79daab5c20"
      },
      "outputs": [
        {
          "name": "stdout",
          "output_type": "stream",
          "text": [
            "|--- records=no <= 0.50\n",
            "|   |--- seniority <= 6.50\n",
            "|   |   |--- class: 1\n",
            "|   |--- seniority >  6.50\n",
            "|   |   |--- class: 0\n",
            "|--- records=no >  0.50\n",
            "|   |--- job=partime <= 0.50\n",
            "|   |   |--- class: 0\n",
            "|   |--- job=partime >  0.50\n",
            "|   |   |--- class: 1\n",
            "\n"
          ]
        }
      ],
      "source": [
        "print(export_text(dt, feature_names=dv.get_feature_names()))"
      ]
    },
    {
      "cell_type": "markdown",
      "id": "3f21216d",
      "metadata": {
        "id": "3f21216d"
      },
      "source": [
        "## 6.4 Decision tree learning algorithm\n",
        "\n",
        "* Finding the best split for one column\n",
        "* Finding the best split for the entire dataset\n",
        "* Stopping criteria\n",
        "* Decision tree learning algorithm"
      ]
    },
    {
      "cell_type": "code",
      "execution_count": null,
      "id": "2b337b88",
      "metadata": {
        "id": "2b337b88",
        "outputId": "9021bdc4-5167-44a2-a1c4-822bf01b67c0"
      },
      "outputs": [
        {
          "data": {
            "text/html": [
              "<div>\n",
              "<style scoped>\n",
              "    .dataframe tbody tr th:only-of-type {\n",
              "        vertical-align: middle;\n",
              "    }\n",
              "\n",
              "    .dataframe tbody tr th {\n",
              "        vertical-align: top;\n",
              "    }\n",
              "\n",
              "    .dataframe thead th {\n",
              "        text-align: right;\n",
              "    }\n",
              "</style>\n",
              "<table border=\"1\" class=\"dataframe\">\n",
              "  <thead>\n",
              "    <tr style=\"text-align: right;\">\n",
              "      <th></th>\n",
              "      <th>assets</th>\n",
              "      <th>status</th>\n",
              "    </tr>\n",
              "  </thead>\n",
              "  <tbody>\n",
              "    <tr>\n",
              "      <th>0</th>\n",
              "      <td>8000</td>\n",
              "      <td>default</td>\n",
              "    </tr>\n",
              "    <tr>\n",
              "      <th>1</th>\n",
              "      <td>2000</td>\n",
              "      <td>default</td>\n",
              "    </tr>\n",
              "    <tr>\n",
              "      <th>2</th>\n",
              "      <td>0</td>\n",
              "      <td>default</td>\n",
              "    </tr>\n",
              "    <tr>\n",
              "      <th>3</th>\n",
              "      <td>5000</td>\n",
              "      <td>ok</td>\n",
              "    </tr>\n",
              "    <tr>\n",
              "      <th>4</th>\n",
              "      <td>5000</td>\n",
              "      <td>ok</td>\n",
              "    </tr>\n",
              "    <tr>\n",
              "      <th>5</th>\n",
              "      <td>4000</td>\n",
              "      <td>ok</td>\n",
              "    </tr>\n",
              "    <tr>\n",
              "      <th>6</th>\n",
              "      <td>9000</td>\n",
              "      <td>ok</td>\n",
              "    </tr>\n",
              "    <tr>\n",
              "      <th>7</th>\n",
              "      <td>3000</td>\n",
              "      <td>default</td>\n",
              "    </tr>\n",
              "  </tbody>\n",
              "</table>\n",
              "</div>"
            ],
            "text/plain": [
              "   assets   status\n",
              "0    8000  default\n",
              "1    2000  default\n",
              "2       0  default\n",
              "3    5000       ok\n",
              "4    5000       ok\n",
              "5    4000       ok\n",
              "6    9000       ok\n",
              "7    3000  default"
            ]
          },
          "execution_count": 85,
          "metadata": {},
          "output_type": "execute_result"
        }
      ],
      "source": [
        "data = [\n",
        "    [8000, 'default'],\n",
        "    [2000, 'default'],\n",
        "    [   0, 'default'],\n",
        "    [5000, 'ok'],\n",
        "    [5000, 'ok'],\n",
        "    [4000, 'ok'],\n",
        "    [9000, 'ok'],\n",
        "    [3000, 'default'],\n",
        "]\n",
        "\n",
        "df_example = pd.DataFrame(data, columns=['assets', 'status'])\n",
        "df_example"
      ]
    },
    {
      "cell_type": "code",
      "execution_count": null,
      "id": "4e58696d",
      "metadata": {
        "id": "4e58696d",
        "outputId": "21a7e0f9-f01d-4a96-9c41-a67df36ca633"
      },
      "outputs": [
        {
          "data": {
            "text/html": [
              "<div>\n",
              "<style scoped>\n",
              "    .dataframe tbody tr th:only-of-type {\n",
              "        vertical-align: middle;\n",
              "    }\n",
              "\n",
              "    .dataframe tbody tr th {\n",
              "        vertical-align: top;\n",
              "    }\n",
              "\n",
              "    .dataframe thead th {\n",
              "        text-align: right;\n",
              "    }\n",
              "</style>\n",
              "<table border=\"1\" class=\"dataframe\">\n",
              "  <thead>\n",
              "    <tr style=\"text-align: right;\">\n",
              "      <th></th>\n",
              "      <th>assets</th>\n",
              "      <th>status</th>\n",
              "    </tr>\n",
              "  </thead>\n",
              "  <tbody>\n",
              "    <tr>\n",
              "      <th>2</th>\n",
              "      <td>0</td>\n",
              "      <td>default</td>\n",
              "    </tr>\n",
              "    <tr>\n",
              "      <th>1</th>\n",
              "      <td>2000</td>\n",
              "      <td>default</td>\n",
              "    </tr>\n",
              "    <tr>\n",
              "      <th>7</th>\n",
              "      <td>3000</td>\n",
              "      <td>default</td>\n",
              "    </tr>\n",
              "    <tr>\n",
              "      <th>5</th>\n",
              "      <td>4000</td>\n",
              "      <td>ok</td>\n",
              "    </tr>\n",
              "    <tr>\n",
              "      <th>3</th>\n",
              "      <td>5000</td>\n",
              "      <td>ok</td>\n",
              "    </tr>\n",
              "    <tr>\n",
              "      <th>4</th>\n",
              "      <td>5000</td>\n",
              "      <td>ok</td>\n",
              "    </tr>\n",
              "    <tr>\n",
              "      <th>0</th>\n",
              "      <td>8000</td>\n",
              "      <td>default</td>\n",
              "    </tr>\n",
              "    <tr>\n",
              "      <th>6</th>\n",
              "      <td>9000</td>\n",
              "      <td>ok</td>\n",
              "    </tr>\n",
              "  </tbody>\n",
              "</table>\n",
              "</div>"
            ],
            "text/plain": [
              "   assets   status\n",
              "2       0  default\n",
              "1    2000  default\n",
              "7    3000  default\n",
              "5    4000       ok\n",
              "3    5000       ok\n",
              "4    5000       ok\n",
              "0    8000  default\n",
              "6    9000       ok"
            ]
          },
          "execution_count": 86,
          "metadata": {},
          "output_type": "execute_result"
        }
      ],
      "source": [
        "df_example.sort_values('assets')"
      ]
    },
    {
      "cell_type": "code",
      "execution_count": null,
      "id": "63ad2cc5",
      "metadata": {
        "id": "63ad2cc5"
      },
      "outputs": [],
      "source": [
        "Ts = [0, 2000, 3000, 4000, 5000, 8000]"
      ]
    },
    {
      "cell_type": "code",
      "execution_count": null,
      "id": "9d786e42",
      "metadata": {
        "id": "9d786e42",
        "outputId": "894e4da1-6de5-4548-82cd-ea4ced3e0cc3"
      },
      "outputs": [
        {
          "data": {
            "text/html": [
              "<div>\n",
              "<style scoped>\n",
              "    .dataframe tbody tr th:only-of-type {\n",
              "        vertical-align: middle;\n",
              "    }\n",
              "\n",
              "    .dataframe tbody tr th {\n",
              "        vertical-align: top;\n",
              "    }\n",
              "\n",
              "    .dataframe thead th {\n",
              "        text-align: right;\n",
              "    }\n",
              "</style>\n",
              "<table border=\"1\" class=\"dataframe\">\n",
              "  <thead>\n",
              "    <tr style=\"text-align: right;\">\n",
              "      <th></th>\n",
              "      <th>assets</th>\n",
              "      <th>status</th>\n",
              "    </tr>\n",
              "  </thead>\n",
              "  <tbody>\n",
              "    <tr>\n",
              "      <th>1</th>\n",
              "      <td>2000</td>\n",
              "      <td>default</td>\n",
              "    </tr>\n",
              "    <tr>\n",
              "      <th>2</th>\n",
              "      <td>0</td>\n",
              "      <td>default</td>\n",
              "    </tr>\n",
              "    <tr>\n",
              "      <th>5</th>\n",
              "      <td>4000</td>\n",
              "      <td>ok</td>\n",
              "    </tr>\n",
              "    <tr>\n",
              "      <th>7</th>\n",
              "      <td>3000</td>\n",
              "      <td>default</td>\n",
              "    </tr>\n",
              "  </tbody>\n",
              "</table>\n",
              "</div>"
            ],
            "text/plain": [
              "   assets   status\n",
              "1    2000  default\n",
              "2       0  default\n",
              "5    4000       ok\n",
              "7    3000  default"
            ]
          },
          "metadata": {},
          "output_type": "display_data"
        },
        {
          "name": "stdout",
          "output_type": "stream",
          "text": [
            "default    0.75\n",
            "ok         0.25\n",
            "Name: status, dtype: float64\n"
          ]
        },
        {
          "data": {
            "text/html": [
              "<div>\n",
              "<style scoped>\n",
              "    .dataframe tbody tr th:only-of-type {\n",
              "        vertical-align: middle;\n",
              "    }\n",
              "\n",
              "    .dataframe tbody tr th {\n",
              "        vertical-align: top;\n",
              "    }\n",
              "\n",
              "    .dataframe thead th {\n",
              "        text-align: right;\n",
              "    }\n",
              "</style>\n",
              "<table border=\"1\" class=\"dataframe\">\n",
              "  <thead>\n",
              "    <tr style=\"text-align: right;\">\n",
              "      <th></th>\n",
              "      <th>assets</th>\n",
              "      <th>status</th>\n",
              "    </tr>\n",
              "  </thead>\n",
              "  <tbody>\n",
              "    <tr>\n",
              "      <th>0</th>\n",
              "      <td>8000</td>\n",
              "      <td>default</td>\n",
              "    </tr>\n",
              "    <tr>\n",
              "      <th>3</th>\n",
              "      <td>5000</td>\n",
              "      <td>ok</td>\n",
              "    </tr>\n",
              "    <tr>\n",
              "      <th>4</th>\n",
              "      <td>5000</td>\n",
              "      <td>ok</td>\n",
              "    </tr>\n",
              "    <tr>\n",
              "      <th>6</th>\n",
              "      <td>9000</td>\n",
              "      <td>ok</td>\n",
              "    </tr>\n",
              "  </tbody>\n",
              "</table>\n",
              "</div>"
            ],
            "text/plain": [
              "   assets   status\n",
              "0    8000  default\n",
              "3    5000       ok\n",
              "4    5000       ok\n",
              "6    9000       ok"
            ]
          },
          "metadata": {},
          "output_type": "display_data"
        },
        {
          "name": "stdout",
          "output_type": "stream",
          "text": [
            "default    0.75\n",
            "ok         0.25\n",
            "Name: status, dtype: float64\n"
          ]
        }
      ],
      "source": [
        "T = 4000\n",
        "df_left = df_example[df_example.assets <= T]\n",
        "df_right = df_example[df_example.assets > T]\n",
        "\n",
        "display(df_left)\n",
        "print(df_left.status.value_counts(normalize=True))\n",
        "display(df_right)\n",
        "print(df_left.status.value_counts(normalize=True))"
      ]
    },
    {
      "cell_type": "code",
      "execution_count": null,
      "id": "bdcf4ac4",
      "metadata": {
        "id": "bdcf4ac4"
      },
      "outputs": [],
      "source": [
        "from IPython.display import display"
      ]
    },
    {
      "cell_type": "code",
      "execution_count": null,
      "id": "0c4b8afa",
      "metadata": {
        "id": "0c4b8afa",
        "outputId": "257d65f4-1058-4aff-f5d6-40f60d941bfa"
      },
      "outputs": [
        {
          "name": "stdout",
          "output_type": "stream",
          "text": [
            "0\n"
          ]
        },
        {
          "data": {
            "text/html": [
              "<div>\n",
              "<style scoped>\n",
              "    .dataframe tbody tr th:only-of-type {\n",
              "        vertical-align: middle;\n",
              "    }\n",
              "\n",
              "    .dataframe tbody tr th {\n",
              "        vertical-align: top;\n",
              "    }\n",
              "\n",
              "    .dataframe thead th {\n",
              "        text-align: right;\n",
              "    }\n",
              "</style>\n",
              "<table border=\"1\" class=\"dataframe\">\n",
              "  <thead>\n",
              "    <tr style=\"text-align: right;\">\n",
              "      <th></th>\n",
              "      <th>assets</th>\n",
              "      <th>status</th>\n",
              "    </tr>\n",
              "  </thead>\n",
              "  <tbody>\n",
              "    <tr>\n",
              "      <th>2</th>\n",
              "      <td>0</td>\n",
              "      <td>default</td>\n",
              "    </tr>\n",
              "  </tbody>\n",
              "</table>\n",
              "</div>"
            ],
            "text/plain": [
              "   assets   status\n",
              "2       0  default"
            ]
          },
          "metadata": {},
          "output_type": "display_data"
        },
        {
          "name": "stdout",
          "output_type": "stream",
          "text": [
            "default    1.0\n",
            "Name: status, dtype: float64\n"
          ]
        },
        {
          "data": {
            "text/html": [
              "<div>\n",
              "<style scoped>\n",
              "    .dataframe tbody tr th:only-of-type {\n",
              "        vertical-align: middle;\n",
              "    }\n",
              "\n",
              "    .dataframe tbody tr th {\n",
              "        vertical-align: top;\n",
              "    }\n",
              "\n",
              "    .dataframe thead th {\n",
              "        text-align: right;\n",
              "    }\n",
              "</style>\n",
              "<table border=\"1\" class=\"dataframe\">\n",
              "  <thead>\n",
              "    <tr style=\"text-align: right;\">\n",
              "      <th></th>\n",
              "      <th>assets</th>\n",
              "      <th>status</th>\n",
              "    </tr>\n",
              "  </thead>\n",
              "  <tbody>\n",
              "    <tr>\n",
              "      <th>0</th>\n",
              "      <td>8000</td>\n",
              "      <td>default</td>\n",
              "    </tr>\n",
              "    <tr>\n",
              "      <th>1</th>\n",
              "      <td>2000</td>\n",
              "      <td>default</td>\n",
              "    </tr>\n",
              "    <tr>\n",
              "      <th>3</th>\n",
              "      <td>5000</td>\n",
              "      <td>ok</td>\n",
              "    </tr>\n",
              "    <tr>\n",
              "      <th>4</th>\n",
              "      <td>5000</td>\n",
              "      <td>ok</td>\n",
              "    </tr>\n",
              "    <tr>\n",
              "      <th>5</th>\n",
              "      <td>4000</td>\n",
              "      <td>ok</td>\n",
              "    </tr>\n",
              "    <tr>\n",
              "      <th>6</th>\n",
              "      <td>9000</td>\n",
              "      <td>ok</td>\n",
              "    </tr>\n",
              "    <tr>\n",
              "      <th>7</th>\n",
              "      <td>3000</td>\n",
              "      <td>default</td>\n",
              "    </tr>\n",
              "  </tbody>\n",
              "</table>\n",
              "</div>"
            ],
            "text/plain": [
              "   assets   status\n",
              "0    8000  default\n",
              "1    2000  default\n",
              "3    5000       ok\n",
              "4    5000       ok\n",
              "5    4000       ok\n",
              "6    9000       ok\n",
              "7    3000  default"
            ]
          },
          "metadata": {},
          "output_type": "display_data"
        },
        {
          "name": "stdout",
          "output_type": "stream",
          "text": [
            "ok         0.571429\n",
            "default    0.428571\n",
            "Name: status, dtype: float64\n",
            "\n",
            "2000\n"
          ]
        },
        {
          "data": {
            "text/html": [
              "<div>\n",
              "<style scoped>\n",
              "    .dataframe tbody tr th:only-of-type {\n",
              "        vertical-align: middle;\n",
              "    }\n",
              "\n",
              "    .dataframe tbody tr th {\n",
              "        vertical-align: top;\n",
              "    }\n",
              "\n",
              "    .dataframe thead th {\n",
              "        text-align: right;\n",
              "    }\n",
              "</style>\n",
              "<table border=\"1\" class=\"dataframe\">\n",
              "  <thead>\n",
              "    <tr style=\"text-align: right;\">\n",
              "      <th></th>\n",
              "      <th>assets</th>\n",
              "      <th>status</th>\n",
              "    </tr>\n",
              "  </thead>\n",
              "  <tbody>\n",
              "    <tr>\n",
              "      <th>1</th>\n",
              "      <td>2000</td>\n",
              "      <td>default</td>\n",
              "    </tr>\n",
              "    <tr>\n",
              "      <th>2</th>\n",
              "      <td>0</td>\n",
              "      <td>default</td>\n",
              "    </tr>\n",
              "  </tbody>\n",
              "</table>\n",
              "</div>"
            ],
            "text/plain": [
              "   assets   status\n",
              "1    2000  default\n",
              "2       0  default"
            ]
          },
          "metadata": {},
          "output_type": "display_data"
        },
        {
          "name": "stdout",
          "output_type": "stream",
          "text": [
            "default    1.0\n",
            "Name: status, dtype: float64\n"
          ]
        },
        {
          "data": {
            "text/html": [
              "<div>\n",
              "<style scoped>\n",
              "    .dataframe tbody tr th:only-of-type {\n",
              "        vertical-align: middle;\n",
              "    }\n",
              "\n",
              "    .dataframe tbody tr th {\n",
              "        vertical-align: top;\n",
              "    }\n",
              "\n",
              "    .dataframe thead th {\n",
              "        text-align: right;\n",
              "    }\n",
              "</style>\n",
              "<table border=\"1\" class=\"dataframe\">\n",
              "  <thead>\n",
              "    <tr style=\"text-align: right;\">\n",
              "      <th></th>\n",
              "      <th>assets</th>\n",
              "      <th>status</th>\n",
              "    </tr>\n",
              "  </thead>\n",
              "  <tbody>\n",
              "    <tr>\n",
              "      <th>0</th>\n",
              "      <td>8000</td>\n",
              "      <td>default</td>\n",
              "    </tr>\n",
              "    <tr>\n",
              "      <th>3</th>\n",
              "      <td>5000</td>\n",
              "      <td>ok</td>\n",
              "    </tr>\n",
              "    <tr>\n",
              "      <th>4</th>\n",
              "      <td>5000</td>\n",
              "      <td>ok</td>\n",
              "    </tr>\n",
              "    <tr>\n",
              "      <th>5</th>\n",
              "      <td>4000</td>\n",
              "      <td>ok</td>\n",
              "    </tr>\n",
              "    <tr>\n",
              "      <th>6</th>\n",
              "      <td>9000</td>\n",
              "      <td>ok</td>\n",
              "    </tr>\n",
              "    <tr>\n",
              "      <th>7</th>\n",
              "      <td>3000</td>\n",
              "      <td>default</td>\n",
              "    </tr>\n",
              "  </tbody>\n",
              "</table>\n",
              "</div>"
            ],
            "text/plain": [
              "   assets   status\n",
              "0    8000  default\n",
              "3    5000       ok\n",
              "4    5000       ok\n",
              "5    4000       ok\n",
              "6    9000       ok\n",
              "7    3000  default"
            ]
          },
          "metadata": {},
          "output_type": "display_data"
        },
        {
          "name": "stdout",
          "output_type": "stream",
          "text": [
            "ok         0.666667\n",
            "default    0.333333\n",
            "Name: status, dtype: float64\n",
            "\n",
            "3000\n"
          ]
        },
        {
          "data": {
            "text/html": [
              "<div>\n",
              "<style scoped>\n",
              "    .dataframe tbody tr th:only-of-type {\n",
              "        vertical-align: middle;\n",
              "    }\n",
              "\n",
              "    .dataframe tbody tr th {\n",
              "        vertical-align: top;\n",
              "    }\n",
              "\n",
              "    .dataframe thead th {\n",
              "        text-align: right;\n",
              "    }\n",
              "</style>\n",
              "<table border=\"1\" class=\"dataframe\">\n",
              "  <thead>\n",
              "    <tr style=\"text-align: right;\">\n",
              "      <th></th>\n",
              "      <th>assets</th>\n",
              "      <th>status</th>\n",
              "    </tr>\n",
              "  </thead>\n",
              "  <tbody>\n",
              "    <tr>\n",
              "      <th>1</th>\n",
              "      <td>2000</td>\n",
              "      <td>default</td>\n",
              "    </tr>\n",
              "    <tr>\n",
              "      <th>2</th>\n",
              "      <td>0</td>\n",
              "      <td>default</td>\n",
              "    </tr>\n",
              "    <tr>\n",
              "      <th>7</th>\n",
              "      <td>3000</td>\n",
              "      <td>default</td>\n",
              "    </tr>\n",
              "  </tbody>\n",
              "</table>\n",
              "</div>"
            ],
            "text/plain": [
              "   assets   status\n",
              "1    2000  default\n",
              "2       0  default\n",
              "7    3000  default"
            ]
          },
          "metadata": {},
          "output_type": "display_data"
        },
        {
          "name": "stdout",
          "output_type": "stream",
          "text": [
            "default    1.0\n",
            "Name: status, dtype: float64\n"
          ]
        },
        {
          "data": {
            "text/html": [
              "<div>\n",
              "<style scoped>\n",
              "    .dataframe tbody tr th:only-of-type {\n",
              "        vertical-align: middle;\n",
              "    }\n",
              "\n",
              "    .dataframe tbody tr th {\n",
              "        vertical-align: top;\n",
              "    }\n",
              "\n",
              "    .dataframe thead th {\n",
              "        text-align: right;\n",
              "    }\n",
              "</style>\n",
              "<table border=\"1\" class=\"dataframe\">\n",
              "  <thead>\n",
              "    <tr style=\"text-align: right;\">\n",
              "      <th></th>\n",
              "      <th>assets</th>\n",
              "      <th>status</th>\n",
              "    </tr>\n",
              "  </thead>\n",
              "  <tbody>\n",
              "    <tr>\n",
              "      <th>0</th>\n",
              "      <td>8000</td>\n",
              "      <td>default</td>\n",
              "    </tr>\n",
              "    <tr>\n",
              "      <th>3</th>\n",
              "      <td>5000</td>\n",
              "      <td>ok</td>\n",
              "    </tr>\n",
              "    <tr>\n",
              "      <th>4</th>\n",
              "      <td>5000</td>\n",
              "      <td>ok</td>\n",
              "    </tr>\n",
              "    <tr>\n",
              "      <th>5</th>\n",
              "      <td>4000</td>\n",
              "      <td>ok</td>\n",
              "    </tr>\n",
              "    <tr>\n",
              "      <th>6</th>\n",
              "      <td>9000</td>\n",
              "      <td>ok</td>\n",
              "    </tr>\n",
              "  </tbody>\n",
              "</table>\n",
              "</div>"
            ],
            "text/plain": [
              "   assets   status\n",
              "0    8000  default\n",
              "3    5000       ok\n",
              "4    5000       ok\n",
              "5    4000       ok\n",
              "6    9000       ok"
            ]
          },
          "metadata": {},
          "output_type": "display_data"
        },
        {
          "name": "stdout",
          "output_type": "stream",
          "text": [
            "ok         0.8\n",
            "default    0.2\n",
            "Name: status, dtype: float64\n",
            "\n",
            "4000\n"
          ]
        },
        {
          "data": {
            "text/html": [
              "<div>\n",
              "<style scoped>\n",
              "    .dataframe tbody tr th:only-of-type {\n",
              "        vertical-align: middle;\n",
              "    }\n",
              "\n",
              "    .dataframe tbody tr th {\n",
              "        vertical-align: top;\n",
              "    }\n",
              "\n",
              "    .dataframe thead th {\n",
              "        text-align: right;\n",
              "    }\n",
              "</style>\n",
              "<table border=\"1\" class=\"dataframe\">\n",
              "  <thead>\n",
              "    <tr style=\"text-align: right;\">\n",
              "      <th></th>\n",
              "      <th>assets</th>\n",
              "      <th>status</th>\n",
              "    </tr>\n",
              "  </thead>\n",
              "  <tbody>\n",
              "    <tr>\n",
              "      <th>1</th>\n",
              "      <td>2000</td>\n",
              "      <td>default</td>\n",
              "    </tr>\n",
              "    <tr>\n",
              "      <th>2</th>\n",
              "      <td>0</td>\n",
              "      <td>default</td>\n",
              "    </tr>\n",
              "    <tr>\n",
              "      <th>5</th>\n",
              "      <td>4000</td>\n",
              "      <td>ok</td>\n",
              "    </tr>\n",
              "    <tr>\n",
              "      <th>7</th>\n",
              "      <td>3000</td>\n",
              "      <td>default</td>\n",
              "    </tr>\n",
              "  </tbody>\n",
              "</table>\n",
              "</div>"
            ],
            "text/plain": [
              "   assets   status\n",
              "1    2000  default\n",
              "2       0  default\n",
              "5    4000       ok\n",
              "7    3000  default"
            ]
          },
          "metadata": {},
          "output_type": "display_data"
        },
        {
          "name": "stdout",
          "output_type": "stream",
          "text": [
            "default    0.75\n",
            "ok         0.25\n",
            "Name: status, dtype: float64\n"
          ]
        },
        {
          "data": {
            "text/html": [
              "<div>\n",
              "<style scoped>\n",
              "    .dataframe tbody tr th:only-of-type {\n",
              "        vertical-align: middle;\n",
              "    }\n",
              "\n",
              "    .dataframe tbody tr th {\n",
              "        vertical-align: top;\n",
              "    }\n",
              "\n",
              "    .dataframe thead th {\n",
              "        text-align: right;\n",
              "    }\n",
              "</style>\n",
              "<table border=\"1\" class=\"dataframe\">\n",
              "  <thead>\n",
              "    <tr style=\"text-align: right;\">\n",
              "      <th></th>\n",
              "      <th>assets</th>\n",
              "      <th>status</th>\n",
              "    </tr>\n",
              "  </thead>\n",
              "  <tbody>\n",
              "    <tr>\n",
              "      <th>0</th>\n",
              "      <td>8000</td>\n",
              "      <td>default</td>\n",
              "    </tr>\n",
              "    <tr>\n",
              "      <th>3</th>\n",
              "      <td>5000</td>\n",
              "      <td>ok</td>\n",
              "    </tr>\n",
              "    <tr>\n",
              "      <th>4</th>\n",
              "      <td>5000</td>\n",
              "      <td>ok</td>\n",
              "    </tr>\n",
              "    <tr>\n",
              "      <th>6</th>\n",
              "      <td>9000</td>\n",
              "      <td>ok</td>\n",
              "    </tr>\n",
              "  </tbody>\n",
              "</table>\n",
              "</div>"
            ],
            "text/plain": [
              "   assets   status\n",
              "0    8000  default\n",
              "3    5000       ok\n",
              "4    5000       ok\n",
              "6    9000       ok"
            ]
          },
          "metadata": {},
          "output_type": "display_data"
        },
        {
          "name": "stdout",
          "output_type": "stream",
          "text": [
            "ok         0.75\n",
            "default    0.25\n",
            "Name: status, dtype: float64\n",
            "\n",
            "5000\n"
          ]
        },
        {
          "data": {
            "text/html": [
              "<div>\n",
              "<style scoped>\n",
              "    .dataframe tbody tr th:only-of-type {\n",
              "        vertical-align: middle;\n",
              "    }\n",
              "\n",
              "    .dataframe tbody tr th {\n",
              "        vertical-align: top;\n",
              "    }\n",
              "\n",
              "    .dataframe thead th {\n",
              "        text-align: right;\n",
              "    }\n",
              "</style>\n",
              "<table border=\"1\" class=\"dataframe\">\n",
              "  <thead>\n",
              "    <tr style=\"text-align: right;\">\n",
              "      <th></th>\n",
              "      <th>assets</th>\n",
              "      <th>status</th>\n",
              "    </tr>\n",
              "  </thead>\n",
              "  <tbody>\n",
              "    <tr>\n",
              "      <th>1</th>\n",
              "      <td>2000</td>\n",
              "      <td>default</td>\n",
              "    </tr>\n",
              "    <tr>\n",
              "      <th>2</th>\n",
              "      <td>0</td>\n",
              "      <td>default</td>\n",
              "    </tr>\n",
              "    <tr>\n",
              "      <th>3</th>\n",
              "      <td>5000</td>\n",
              "      <td>ok</td>\n",
              "    </tr>\n",
              "    <tr>\n",
              "      <th>4</th>\n",
              "      <td>5000</td>\n",
              "      <td>ok</td>\n",
              "    </tr>\n",
              "    <tr>\n",
              "      <th>5</th>\n",
              "      <td>4000</td>\n",
              "      <td>ok</td>\n",
              "    </tr>\n",
              "    <tr>\n",
              "      <th>7</th>\n",
              "      <td>3000</td>\n",
              "      <td>default</td>\n",
              "    </tr>\n",
              "  </tbody>\n",
              "</table>\n",
              "</div>"
            ],
            "text/plain": [
              "   assets   status\n",
              "1    2000  default\n",
              "2       0  default\n",
              "3    5000       ok\n",
              "4    5000       ok\n",
              "5    4000       ok\n",
              "7    3000  default"
            ]
          },
          "metadata": {},
          "output_type": "display_data"
        },
        {
          "name": "stdout",
          "output_type": "stream",
          "text": [
            "default    0.5\n",
            "ok         0.5\n",
            "Name: status, dtype: float64\n"
          ]
        },
        {
          "data": {
            "text/html": [
              "<div>\n",
              "<style scoped>\n",
              "    .dataframe tbody tr th:only-of-type {\n",
              "        vertical-align: middle;\n",
              "    }\n",
              "\n",
              "    .dataframe tbody tr th {\n",
              "        vertical-align: top;\n",
              "    }\n",
              "\n",
              "    .dataframe thead th {\n",
              "        text-align: right;\n",
              "    }\n",
              "</style>\n",
              "<table border=\"1\" class=\"dataframe\">\n",
              "  <thead>\n",
              "    <tr style=\"text-align: right;\">\n",
              "      <th></th>\n",
              "      <th>assets</th>\n",
              "      <th>status</th>\n",
              "    </tr>\n",
              "  </thead>\n",
              "  <tbody>\n",
              "    <tr>\n",
              "      <th>0</th>\n",
              "      <td>8000</td>\n",
              "      <td>default</td>\n",
              "    </tr>\n",
              "    <tr>\n",
              "      <th>6</th>\n",
              "      <td>9000</td>\n",
              "      <td>ok</td>\n",
              "    </tr>\n",
              "  </tbody>\n",
              "</table>\n",
              "</div>"
            ],
            "text/plain": [
              "   assets   status\n",
              "0    8000  default\n",
              "6    9000       ok"
            ]
          },
          "metadata": {},
          "output_type": "display_data"
        },
        {
          "name": "stdout",
          "output_type": "stream",
          "text": [
            "default    0.5\n",
            "ok         0.5\n",
            "Name: status, dtype: float64\n",
            "\n",
            "8000\n"
          ]
        },
        {
          "data": {
            "text/html": [
              "<div>\n",
              "<style scoped>\n",
              "    .dataframe tbody tr th:only-of-type {\n",
              "        vertical-align: middle;\n",
              "    }\n",
              "\n",
              "    .dataframe tbody tr th {\n",
              "        vertical-align: top;\n",
              "    }\n",
              "\n",
              "    .dataframe thead th {\n",
              "        text-align: right;\n",
              "    }\n",
              "</style>\n",
              "<table border=\"1\" class=\"dataframe\">\n",
              "  <thead>\n",
              "    <tr style=\"text-align: right;\">\n",
              "      <th></th>\n",
              "      <th>assets</th>\n",
              "      <th>status</th>\n",
              "    </tr>\n",
              "  </thead>\n",
              "  <tbody>\n",
              "    <tr>\n",
              "      <th>0</th>\n",
              "      <td>8000</td>\n",
              "      <td>default</td>\n",
              "    </tr>\n",
              "    <tr>\n",
              "      <th>1</th>\n",
              "      <td>2000</td>\n",
              "      <td>default</td>\n",
              "    </tr>\n",
              "    <tr>\n",
              "      <th>2</th>\n",
              "      <td>0</td>\n",
              "      <td>default</td>\n",
              "    </tr>\n",
              "    <tr>\n",
              "      <th>3</th>\n",
              "      <td>5000</td>\n",
              "      <td>ok</td>\n",
              "    </tr>\n",
              "    <tr>\n",
              "      <th>4</th>\n",
              "      <td>5000</td>\n",
              "      <td>ok</td>\n",
              "    </tr>\n",
              "    <tr>\n",
              "      <th>5</th>\n",
              "      <td>4000</td>\n",
              "      <td>ok</td>\n",
              "    </tr>\n",
              "    <tr>\n",
              "      <th>7</th>\n",
              "      <td>3000</td>\n",
              "      <td>default</td>\n",
              "    </tr>\n",
              "  </tbody>\n",
              "</table>\n",
              "</div>"
            ],
            "text/plain": [
              "   assets   status\n",
              "0    8000  default\n",
              "1    2000  default\n",
              "2       0  default\n",
              "3    5000       ok\n",
              "4    5000       ok\n",
              "5    4000       ok\n",
              "7    3000  default"
            ]
          },
          "metadata": {},
          "output_type": "display_data"
        },
        {
          "name": "stdout",
          "output_type": "stream",
          "text": [
            "default    0.571429\n",
            "ok         0.428571\n",
            "Name: status, dtype: float64\n"
          ]
        },
        {
          "data": {
            "text/html": [
              "<div>\n",
              "<style scoped>\n",
              "    .dataframe tbody tr th:only-of-type {\n",
              "        vertical-align: middle;\n",
              "    }\n",
              "\n",
              "    .dataframe tbody tr th {\n",
              "        vertical-align: top;\n",
              "    }\n",
              "\n",
              "    .dataframe thead th {\n",
              "        text-align: right;\n",
              "    }\n",
              "</style>\n",
              "<table border=\"1\" class=\"dataframe\">\n",
              "  <thead>\n",
              "    <tr style=\"text-align: right;\">\n",
              "      <th></th>\n",
              "      <th>assets</th>\n",
              "      <th>status</th>\n",
              "    </tr>\n",
              "  </thead>\n",
              "  <tbody>\n",
              "    <tr>\n",
              "      <th>6</th>\n",
              "      <td>9000</td>\n",
              "      <td>ok</td>\n",
              "    </tr>\n",
              "  </tbody>\n",
              "</table>\n",
              "</div>"
            ],
            "text/plain": [
              "   assets status\n",
              "6    9000     ok"
            ]
          },
          "metadata": {},
          "output_type": "display_data"
        },
        {
          "name": "stdout",
          "output_type": "stream",
          "text": [
            "ok    1.0\n",
            "Name: status, dtype: float64\n",
            "\n"
          ]
        }
      ],
      "source": [
        "for T in Ts:\n",
        "    print(T)\n",
        "    df_left = df_example[df_example.assets <= T]\n",
        "    df_right = df_example[df_example.assets > T]\n",
        "    \n",
        "    display(df_left)\n",
        "    print(df_left.status.value_counts(normalize=True))\n",
        "    display(df_right)\n",
        "    print(df_right.status.value_counts(normalize=True))\n",
        "\n",
        "    print()"
      ]
    },
    {
      "cell_type": "code",
      "execution_count": null,
      "id": "d3f490e9",
      "metadata": {
        "id": "d3f490e9",
        "outputId": "7a86318b-8abe-4c7b-d77e-44284b56025b"
      },
      "outputs": [
        {
          "data": {
            "text/html": [
              "<div>\n",
              "<style scoped>\n",
              "    .dataframe tbody tr th:only-of-type {\n",
              "        vertical-align: middle;\n",
              "    }\n",
              "\n",
              "    .dataframe tbody tr th {\n",
              "        vertical-align: top;\n",
              "    }\n",
              "\n",
              "    .dataframe thead th {\n",
              "        text-align: right;\n",
              "    }\n",
              "</style>\n",
              "<table border=\"1\" class=\"dataframe\">\n",
              "  <thead>\n",
              "    <tr style=\"text-align: right;\">\n",
              "      <th></th>\n",
              "      <th>assets</th>\n",
              "      <th>debt</th>\n",
              "      <th>status</th>\n",
              "    </tr>\n",
              "  </thead>\n",
              "  <tbody>\n",
              "    <tr>\n",
              "      <th>0</th>\n",
              "      <td>8000</td>\n",
              "      <td>3000</td>\n",
              "      <td>default</td>\n",
              "    </tr>\n",
              "    <tr>\n",
              "      <th>1</th>\n",
              "      <td>2000</td>\n",
              "      <td>1000</td>\n",
              "      <td>default</td>\n",
              "    </tr>\n",
              "    <tr>\n",
              "      <th>2</th>\n",
              "      <td>0</td>\n",
              "      <td>1000</td>\n",
              "      <td>default</td>\n",
              "    </tr>\n",
              "    <tr>\n",
              "      <th>3</th>\n",
              "      <td>5000</td>\n",
              "      <td>1000</td>\n",
              "      <td>ok</td>\n",
              "    </tr>\n",
              "    <tr>\n",
              "      <th>4</th>\n",
              "      <td>5000</td>\n",
              "      <td>1000</td>\n",
              "      <td>ok</td>\n",
              "    </tr>\n",
              "    <tr>\n",
              "      <th>5</th>\n",
              "      <td>4000</td>\n",
              "      <td>1000</td>\n",
              "      <td>ok</td>\n",
              "    </tr>\n",
              "    <tr>\n",
              "      <th>6</th>\n",
              "      <td>9000</td>\n",
              "      <td>500</td>\n",
              "      <td>ok</td>\n",
              "    </tr>\n",
              "    <tr>\n",
              "      <th>7</th>\n",
              "      <td>3000</td>\n",
              "      <td>2000</td>\n",
              "      <td>default</td>\n",
              "    </tr>\n",
              "  </tbody>\n",
              "</table>\n",
              "</div>"
            ],
            "text/plain": [
              "   assets  debt   status\n",
              "0    8000  3000  default\n",
              "1    2000  1000  default\n",
              "2       0  1000  default\n",
              "3    5000  1000       ok\n",
              "4    5000  1000       ok\n",
              "5    4000  1000       ok\n",
              "6    9000   500       ok\n",
              "7    3000  2000  default"
            ]
          },
          "execution_count": 99,
          "metadata": {},
          "output_type": "execute_result"
        }
      ],
      "source": [
        "data = [\n",
        "    [8000, 3000, 'default'],\n",
        "    [2000, 1000, 'default'],\n",
        "    [   0, 1000, 'default'],\n",
        "    [5000, 1000, 'ok'],\n",
        "    [5000, 1000, 'ok'],\n",
        "    [4000, 1000, 'ok'],\n",
        "    [9000,  500, 'ok'],\n",
        "    [3000, 2000, 'default'],\n",
        "]\n",
        "\n",
        "df_example = pd.DataFrame(data, columns=['assets', 'debt', 'status'])\n",
        "df_example"
      ]
    },
    {
      "cell_type": "code",
      "execution_count": null,
      "id": "4fb4a432",
      "metadata": {
        "id": "4fb4a432",
        "outputId": "bfb82060-0d92-42f6-d995-d53cb93f0d85"
      },
      "outputs": [
        {
          "data": {
            "text/html": [
              "<div>\n",
              "<style scoped>\n",
              "    .dataframe tbody tr th:only-of-type {\n",
              "        vertical-align: middle;\n",
              "    }\n",
              "\n",
              "    .dataframe tbody tr th {\n",
              "        vertical-align: top;\n",
              "    }\n",
              "\n",
              "    .dataframe thead th {\n",
              "        text-align: right;\n",
              "    }\n",
              "</style>\n",
              "<table border=\"1\" class=\"dataframe\">\n",
              "  <thead>\n",
              "    <tr style=\"text-align: right;\">\n",
              "      <th></th>\n",
              "      <th>assets</th>\n",
              "      <th>debt</th>\n",
              "      <th>status</th>\n",
              "    </tr>\n",
              "  </thead>\n",
              "  <tbody>\n",
              "    <tr>\n",
              "      <th>6</th>\n",
              "      <td>9000</td>\n",
              "      <td>500</td>\n",
              "      <td>ok</td>\n",
              "    </tr>\n",
              "    <tr>\n",
              "      <th>1</th>\n",
              "      <td>2000</td>\n",
              "      <td>1000</td>\n",
              "      <td>default</td>\n",
              "    </tr>\n",
              "    <tr>\n",
              "      <th>2</th>\n",
              "      <td>0</td>\n",
              "      <td>1000</td>\n",
              "      <td>default</td>\n",
              "    </tr>\n",
              "    <tr>\n",
              "      <th>3</th>\n",
              "      <td>5000</td>\n",
              "      <td>1000</td>\n",
              "      <td>ok</td>\n",
              "    </tr>\n",
              "    <tr>\n",
              "      <th>4</th>\n",
              "      <td>5000</td>\n",
              "      <td>1000</td>\n",
              "      <td>ok</td>\n",
              "    </tr>\n",
              "    <tr>\n",
              "      <th>5</th>\n",
              "      <td>4000</td>\n",
              "      <td>1000</td>\n",
              "      <td>ok</td>\n",
              "    </tr>\n",
              "    <tr>\n",
              "      <th>7</th>\n",
              "      <td>3000</td>\n",
              "      <td>2000</td>\n",
              "      <td>default</td>\n",
              "    </tr>\n",
              "    <tr>\n",
              "      <th>0</th>\n",
              "      <td>8000</td>\n",
              "      <td>3000</td>\n",
              "      <td>default</td>\n",
              "    </tr>\n",
              "  </tbody>\n",
              "</table>\n",
              "</div>"
            ],
            "text/plain": [
              "   assets  debt   status\n",
              "6    9000   500       ok\n",
              "1    2000  1000  default\n",
              "2       0  1000  default\n",
              "3    5000  1000       ok\n",
              "4    5000  1000       ok\n",
              "5    4000  1000       ok\n",
              "7    3000  2000  default\n",
              "0    8000  3000  default"
            ]
          },
          "execution_count": 100,
          "metadata": {},
          "output_type": "execute_result"
        }
      ],
      "source": [
        "df_example.sort_values('debt')"
      ]
    },
    {
      "cell_type": "code",
      "execution_count": null,
      "id": "13044480",
      "metadata": {
        "id": "13044480"
      },
      "outputs": [],
      "source": [
        "thresholds = {\n",
        "    'assets': [0, 2000, 3000, 4000, 5000, 8000],\n",
        "    'debt': [500, 1000, 2000]\n",
        "}"
      ]
    },
    {
      "cell_type": "code",
      "execution_count": null,
      "id": "6c29ca81",
      "metadata": {
        "scrolled": true,
        "id": "6c29ca81",
        "outputId": "bee955c8-52d7-4e42-e060-880af5ebb996"
      },
      "outputs": [
        {
          "name": "stdout",
          "output_type": "stream",
          "text": [
            "#####################\n",
            "assets\n",
            "0\n"
          ]
        },
        {
          "data": {
            "text/html": [
              "<div>\n",
              "<style scoped>\n",
              "    .dataframe tbody tr th:only-of-type {\n",
              "        vertical-align: middle;\n",
              "    }\n",
              "\n",
              "    .dataframe tbody tr th {\n",
              "        vertical-align: top;\n",
              "    }\n",
              "\n",
              "    .dataframe thead th {\n",
              "        text-align: right;\n",
              "    }\n",
              "</style>\n",
              "<table border=\"1\" class=\"dataframe\">\n",
              "  <thead>\n",
              "    <tr style=\"text-align: right;\">\n",
              "      <th></th>\n",
              "      <th>assets</th>\n",
              "      <th>debt</th>\n",
              "      <th>status</th>\n",
              "    </tr>\n",
              "  </thead>\n",
              "  <tbody>\n",
              "    <tr>\n",
              "      <th>2</th>\n",
              "      <td>0</td>\n",
              "      <td>1000</td>\n",
              "      <td>default</td>\n",
              "    </tr>\n",
              "  </tbody>\n",
              "</table>\n",
              "</div>"
            ],
            "text/plain": [
              "   assets  debt   status\n",
              "2       0  1000  default"
            ]
          },
          "metadata": {},
          "output_type": "display_data"
        },
        {
          "name": "stdout",
          "output_type": "stream",
          "text": [
            "default    1.0\n",
            "Name: status, dtype: float64\n"
          ]
        },
        {
          "data": {
            "text/html": [
              "<div>\n",
              "<style scoped>\n",
              "    .dataframe tbody tr th:only-of-type {\n",
              "        vertical-align: middle;\n",
              "    }\n",
              "\n",
              "    .dataframe tbody tr th {\n",
              "        vertical-align: top;\n",
              "    }\n",
              "\n",
              "    .dataframe thead th {\n",
              "        text-align: right;\n",
              "    }\n",
              "</style>\n",
              "<table border=\"1\" class=\"dataframe\">\n",
              "  <thead>\n",
              "    <tr style=\"text-align: right;\">\n",
              "      <th></th>\n",
              "      <th>assets</th>\n",
              "      <th>debt</th>\n",
              "      <th>status</th>\n",
              "    </tr>\n",
              "  </thead>\n",
              "  <tbody>\n",
              "    <tr>\n",
              "      <th>0</th>\n",
              "      <td>8000</td>\n",
              "      <td>3000</td>\n",
              "      <td>default</td>\n",
              "    </tr>\n",
              "    <tr>\n",
              "      <th>1</th>\n",
              "      <td>2000</td>\n",
              "      <td>1000</td>\n",
              "      <td>default</td>\n",
              "    </tr>\n",
              "    <tr>\n",
              "      <th>3</th>\n",
              "      <td>5000</td>\n",
              "      <td>1000</td>\n",
              "      <td>ok</td>\n",
              "    </tr>\n",
              "    <tr>\n",
              "      <th>4</th>\n",
              "      <td>5000</td>\n",
              "      <td>1000</td>\n",
              "      <td>ok</td>\n",
              "    </tr>\n",
              "    <tr>\n",
              "      <th>5</th>\n",
              "      <td>4000</td>\n",
              "      <td>1000</td>\n",
              "      <td>ok</td>\n",
              "    </tr>\n",
              "    <tr>\n",
              "      <th>6</th>\n",
              "      <td>9000</td>\n",
              "      <td>500</td>\n",
              "      <td>ok</td>\n",
              "    </tr>\n",
              "    <tr>\n",
              "      <th>7</th>\n",
              "      <td>3000</td>\n",
              "      <td>2000</td>\n",
              "      <td>default</td>\n",
              "    </tr>\n",
              "  </tbody>\n",
              "</table>\n",
              "</div>"
            ],
            "text/plain": [
              "   assets  debt   status\n",
              "0    8000  3000  default\n",
              "1    2000  1000  default\n",
              "3    5000  1000       ok\n",
              "4    5000  1000       ok\n",
              "5    4000  1000       ok\n",
              "6    9000   500       ok\n",
              "7    3000  2000  default"
            ]
          },
          "metadata": {},
          "output_type": "display_data"
        },
        {
          "name": "stdout",
          "output_type": "stream",
          "text": [
            "ok         0.571429\n",
            "default    0.428571\n",
            "Name: status, dtype: float64\n",
            "\n",
            "2000\n"
          ]
        },
        {
          "data": {
            "text/html": [
              "<div>\n",
              "<style scoped>\n",
              "    .dataframe tbody tr th:only-of-type {\n",
              "        vertical-align: middle;\n",
              "    }\n",
              "\n",
              "    .dataframe tbody tr th {\n",
              "        vertical-align: top;\n",
              "    }\n",
              "\n",
              "    .dataframe thead th {\n",
              "        text-align: right;\n",
              "    }\n",
              "</style>\n",
              "<table border=\"1\" class=\"dataframe\">\n",
              "  <thead>\n",
              "    <tr style=\"text-align: right;\">\n",
              "      <th></th>\n",
              "      <th>assets</th>\n",
              "      <th>debt</th>\n",
              "      <th>status</th>\n",
              "    </tr>\n",
              "  </thead>\n",
              "  <tbody>\n",
              "    <tr>\n",
              "      <th>1</th>\n",
              "      <td>2000</td>\n",
              "      <td>1000</td>\n",
              "      <td>default</td>\n",
              "    </tr>\n",
              "    <tr>\n",
              "      <th>2</th>\n",
              "      <td>0</td>\n",
              "      <td>1000</td>\n",
              "      <td>default</td>\n",
              "    </tr>\n",
              "  </tbody>\n",
              "</table>\n",
              "</div>"
            ],
            "text/plain": [
              "   assets  debt   status\n",
              "1    2000  1000  default\n",
              "2       0  1000  default"
            ]
          },
          "metadata": {},
          "output_type": "display_data"
        },
        {
          "name": "stdout",
          "output_type": "stream",
          "text": [
            "default    1.0\n",
            "Name: status, dtype: float64\n"
          ]
        },
        {
          "data": {
            "text/html": [
              "<div>\n",
              "<style scoped>\n",
              "    .dataframe tbody tr th:only-of-type {\n",
              "        vertical-align: middle;\n",
              "    }\n",
              "\n",
              "    .dataframe tbody tr th {\n",
              "        vertical-align: top;\n",
              "    }\n",
              "\n",
              "    .dataframe thead th {\n",
              "        text-align: right;\n",
              "    }\n",
              "</style>\n",
              "<table border=\"1\" class=\"dataframe\">\n",
              "  <thead>\n",
              "    <tr style=\"text-align: right;\">\n",
              "      <th></th>\n",
              "      <th>assets</th>\n",
              "      <th>debt</th>\n",
              "      <th>status</th>\n",
              "    </tr>\n",
              "  </thead>\n",
              "  <tbody>\n",
              "    <tr>\n",
              "      <th>0</th>\n",
              "      <td>8000</td>\n",
              "      <td>3000</td>\n",
              "      <td>default</td>\n",
              "    </tr>\n",
              "    <tr>\n",
              "      <th>3</th>\n",
              "      <td>5000</td>\n",
              "      <td>1000</td>\n",
              "      <td>ok</td>\n",
              "    </tr>\n",
              "    <tr>\n",
              "      <th>4</th>\n",
              "      <td>5000</td>\n",
              "      <td>1000</td>\n",
              "      <td>ok</td>\n",
              "    </tr>\n",
              "    <tr>\n",
              "      <th>5</th>\n",
              "      <td>4000</td>\n",
              "      <td>1000</td>\n",
              "      <td>ok</td>\n",
              "    </tr>\n",
              "    <tr>\n",
              "      <th>6</th>\n",
              "      <td>9000</td>\n",
              "      <td>500</td>\n",
              "      <td>ok</td>\n",
              "    </tr>\n",
              "    <tr>\n",
              "      <th>7</th>\n",
              "      <td>3000</td>\n",
              "      <td>2000</td>\n",
              "      <td>default</td>\n",
              "    </tr>\n",
              "  </tbody>\n",
              "</table>\n",
              "</div>"
            ],
            "text/plain": [
              "   assets  debt   status\n",
              "0    8000  3000  default\n",
              "3    5000  1000       ok\n",
              "4    5000  1000       ok\n",
              "5    4000  1000       ok\n",
              "6    9000   500       ok\n",
              "7    3000  2000  default"
            ]
          },
          "metadata": {},
          "output_type": "display_data"
        },
        {
          "name": "stdout",
          "output_type": "stream",
          "text": [
            "ok         0.666667\n",
            "default    0.333333\n",
            "Name: status, dtype: float64\n",
            "\n",
            "3000\n"
          ]
        },
        {
          "data": {
            "text/html": [
              "<div>\n",
              "<style scoped>\n",
              "    .dataframe tbody tr th:only-of-type {\n",
              "        vertical-align: middle;\n",
              "    }\n",
              "\n",
              "    .dataframe tbody tr th {\n",
              "        vertical-align: top;\n",
              "    }\n",
              "\n",
              "    .dataframe thead th {\n",
              "        text-align: right;\n",
              "    }\n",
              "</style>\n",
              "<table border=\"1\" class=\"dataframe\">\n",
              "  <thead>\n",
              "    <tr style=\"text-align: right;\">\n",
              "      <th></th>\n",
              "      <th>assets</th>\n",
              "      <th>debt</th>\n",
              "      <th>status</th>\n",
              "    </tr>\n",
              "  </thead>\n",
              "  <tbody>\n",
              "    <tr>\n",
              "      <th>1</th>\n",
              "      <td>2000</td>\n",
              "      <td>1000</td>\n",
              "      <td>default</td>\n",
              "    </tr>\n",
              "    <tr>\n",
              "      <th>2</th>\n",
              "      <td>0</td>\n",
              "      <td>1000</td>\n",
              "      <td>default</td>\n",
              "    </tr>\n",
              "    <tr>\n",
              "      <th>7</th>\n",
              "      <td>3000</td>\n",
              "      <td>2000</td>\n",
              "      <td>default</td>\n",
              "    </tr>\n",
              "  </tbody>\n",
              "</table>\n",
              "</div>"
            ],
            "text/plain": [
              "   assets  debt   status\n",
              "1    2000  1000  default\n",
              "2       0  1000  default\n",
              "7    3000  2000  default"
            ]
          },
          "metadata": {},
          "output_type": "display_data"
        },
        {
          "name": "stdout",
          "output_type": "stream",
          "text": [
            "default    1.0\n",
            "Name: status, dtype: float64\n"
          ]
        },
        {
          "data": {
            "text/html": [
              "<div>\n",
              "<style scoped>\n",
              "    .dataframe tbody tr th:only-of-type {\n",
              "        vertical-align: middle;\n",
              "    }\n",
              "\n",
              "    .dataframe tbody tr th {\n",
              "        vertical-align: top;\n",
              "    }\n",
              "\n",
              "    .dataframe thead th {\n",
              "        text-align: right;\n",
              "    }\n",
              "</style>\n",
              "<table border=\"1\" class=\"dataframe\">\n",
              "  <thead>\n",
              "    <tr style=\"text-align: right;\">\n",
              "      <th></th>\n",
              "      <th>assets</th>\n",
              "      <th>debt</th>\n",
              "      <th>status</th>\n",
              "    </tr>\n",
              "  </thead>\n",
              "  <tbody>\n",
              "    <tr>\n",
              "      <th>0</th>\n",
              "      <td>8000</td>\n",
              "      <td>3000</td>\n",
              "      <td>default</td>\n",
              "    </tr>\n",
              "    <tr>\n",
              "      <th>3</th>\n",
              "      <td>5000</td>\n",
              "      <td>1000</td>\n",
              "      <td>ok</td>\n",
              "    </tr>\n",
              "    <tr>\n",
              "      <th>4</th>\n",
              "      <td>5000</td>\n",
              "      <td>1000</td>\n",
              "      <td>ok</td>\n",
              "    </tr>\n",
              "    <tr>\n",
              "      <th>5</th>\n",
              "      <td>4000</td>\n",
              "      <td>1000</td>\n",
              "      <td>ok</td>\n",
              "    </tr>\n",
              "    <tr>\n",
              "      <th>6</th>\n",
              "      <td>9000</td>\n",
              "      <td>500</td>\n",
              "      <td>ok</td>\n",
              "    </tr>\n",
              "  </tbody>\n",
              "</table>\n",
              "</div>"
            ],
            "text/plain": [
              "   assets  debt   status\n",
              "0    8000  3000  default\n",
              "3    5000  1000       ok\n",
              "4    5000  1000       ok\n",
              "5    4000  1000       ok\n",
              "6    9000   500       ok"
            ]
          },
          "metadata": {},
          "output_type": "display_data"
        },
        {
          "name": "stdout",
          "output_type": "stream",
          "text": [
            "ok         0.8\n",
            "default    0.2\n",
            "Name: status, dtype: float64\n",
            "\n",
            "4000\n"
          ]
        },
        {
          "data": {
            "text/html": [
              "<div>\n",
              "<style scoped>\n",
              "    .dataframe tbody tr th:only-of-type {\n",
              "        vertical-align: middle;\n",
              "    }\n",
              "\n",
              "    .dataframe tbody tr th {\n",
              "        vertical-align: top;\n",
              "    }\n",
              "\n",
              "    .dataframe thead th {\n",
              "        text-align: right;\n",
              "    }\n",
              "</style>\n",
              "<table border=\"1\" class=\"dataframe\">\n",
              "  <thead>\n",
              "    <tr style=\"text-align: right;\">\n",
              "      <th></th>\n",
              "      <th>assets</th>\n",
              "      <th>debt</th>\n",
              "      <th>status</th>\n",
              "    </tr>\n",
              "  </thead>\n",
              "  <tbody>\n",
              "    <tr>\n",
              "      <th>1</th>\n",
              "      <td>2000</td>\n",
              "      <td>1000</td>\n",
              "      <td>default</td>\n",
              "    </tr>\n",
              "    <tr>\n",
              "      <th>2</th>\n",
              "      <td>0</td>\n",
              "      <td>1000</td>\n",
              "      <td>default</td>\n",
              "    </tr>\n",
              "    <tr>\n",
              "      <th>5</th>\n",
              "      <td>4000</td>\n",
              "      <td>1000</td>\n",
              "      <td>ok</td>\n",
              "    </tr>\n",
              "    <tr>\n",
              "      <th>7</th>\n",
              "      <td>3000</td>\n",
              "      <td>2000</td>\n",
              "      <td>default</td>\n",
              "    </tr>\n",
              "  </tbody>\n",
              "</table>\n",
              "</div>"
            ],
            "text/plain": [
              "   assets  debt   status\n",
              "1    2000  1000  default\n",
              "2       0  1000  default\n",
              "5    4000  1000       ok\n",
              "7    3000  2000  default"
            ]
          },
          "metadata": {},
          "output_type": "display_data"
        },
        {
          "name": "stdout",
          "output_type": "stream",
          "text": [
            "default    0.75\n",
            "ok         0.25\n",
            "Name: status, dtype: float64\n"
          ]
        },
        {
          "data": {
            "text/html": [
              "<div>\n",
              "<style scoped>\n",
              "    .dataframe tbody tr th:only-of-type {\n",
              "        vertical-align: middle;\n",
              "    }\n",
              "\n",
              "    .dataframe tbody tr th {\n",
              "        vertical-align: top;\n",
              "    }\n",
              "\n",
              "    .dataframe thead th {\n",
              "        text-align: right;\n",
              "    }\n",
              "</style>\n",
              "<table border=\"1\" class=\"dataframe\">\n",
              "  <thead>\n",
              "    <tr style=\"text-align: right;\">\n",
              "      <th></th>\n",
              "      <th>assets</th>\n",
              "      <th>debt</th>\n",
              "      <th>status</th>\n",
              "    </tr>\n",
              "  </thead>\n",
              "  <tbody>\n",
              "    <tr>\n",
              "      <th>0</th>\n",
              "      <td>8000</td>\n",
              "      <td>3000</td>\n",
              "      <td>default</td>\n",
              "    </tr>\n",
              "    <tr>\n",
              "      <th>3</th>\n",
              "      <td>5000</td>\n",
              "      <td>1000</td>\n",
              "      <td>ok</td>\n",
              "    </tr>\n",
              "    <tr>\n",
              "      <th>4</th>\n",
              "      <td>5000</td>\n",
              "      <td>1000</td>\n",
              "      <td>ok</td>\n",
              "    </tr>\n",
              "    <tr>\n",
              "      <th>6</th>\n",
              "      <td>9000</td>\n",
              "      <td>500</td>\n",
              "      <td>ok</td>\n",
              "    </tr>\n",
              "  </tbody>\n",
              "</table>\n",
              "</div>"
            ],
            "text/plain": [
              "   assets  debt   status\n",
              "0    8000  3000  default\n",
              "3    5000  1000       ok\n",
              "4    5000  1000       ok\n",
              "6    9000   500       ok"
            ]
          },
          "metadata": {},
          "output_type": "display_data"
        },
        {
          "name": "stdout",
          "output_type": "stream",
          "text": [
            "ok         0.75\n",
            "default    0.25\n",
            "Name: status, dtype: float64\n",
            "\n",
            "5000\n"
          ]
        },
        {
          "data": {
            "text/html": [
              "<div>\n",
              "<style scoped>\n",
              "    .dataframe tbody tr th:only-of-type {\n",
              "        vertical-align: middle;\n",
              "    }\n",
              "\n",
              "    .dataframe tbody tr th {\n",
              "        vertical-align: top;\n",
              "    }\n",
              "\n",
              "    .dataframe thead th {\n",
              "        text-align: right;\n",
              "    }\n",
              "</style>\n",
              "<table border=\"1\" class=\"dataframe\">\n",
              "  <thead>\n",
              "    <tr style=\"text-align: right;\">\n",
              "      <th></th>\n",
              "      <th>assets</th>\n",
              "      <th>debt</th>\n",
              "      <th>status</th>\n",
              "    </tr>\n",
              "  </thead>\n",
              "  <tbody>\n",
              "    <tr>\n",
              "      <th>1</th>\n",
              "      <td>2000</td>\n",
              "      <td>1000</td>\n",
              "      <td>default</td>\n",
              "    </tr>\n",
              "    <tr>\n",
              "      <th>2</th>\n",
              "      <td>0</td>\n",
              "      <td>1000</td>\n",
              "      <td>default</td>\n",
              "    </tr>\n",
              "    <tr>\n",
              "      <th>3</th>\n",
              "      <td>5000</td>\n",
              "      <td>1000</td>\n",
              "      <td>ok</td>\n",
              "    </tr>\n",
              "    <tr>\n",
              "      <th>4</th>\n",
              "      <td>5000</td>\n",
              "      <td>1000</td>\n",
              "      <td>ok</td>\n",
              "    </tr>\n",
              "    <tr>\n",
              "      <th>5</th>\n",
              "      <td>4000</td>\n",
              "      <td>1000</td>\n",
              "      <td>ok</td>\n",
              "    </tr>\n",
              "    <tr>\n",
              "      <th>7</th>\n",
              "      <td>3000</td>\n",
              "      <td>2000</td>\n",
              "      <td>default</td>\n",
              "    </tr>\n",
              "  </tbody>\n",
              "</table>\n",
              "</div>"
            ],
            "text/plain": [
              "   assets  debt   status\n",
              "1    2000  1000  default\n",
              "2       0  1000  default\n",
              "3    5000  1000       ok\n",
              "4    5000  1000       ok\n",
              "5    4000  1000       ok\n",
              "7    3000  2000  default"
            ]
          },
          "metadata": {},
          "output_type": "display_data"
        },
        {
          "name": "stdout",
          "output_type": "stream",
          "text": [
            "default    0.5\n",
            "ok         0.5\n",
            "Name: status, dtype: float64\n"
          ]
        },
        {
          "data": {
            "text/html": [
              "<div>\n",
              "<style scoped>\n",
              "    .dataframe tbody tr th:only-of-type {\n",
              "        vertical-align: middle;\n",
              "    }\n",
              "\n",
              "    .dataframe tbody tr th {\n",
              "        vertical-align: top;\n",
              "    }\n",
              "\n",
              "    .dataframe thead th {\n",
              "        text-align: right;\n",
              "    }\n",
              "</style>\n",
              "<table border=\"1\" class=\"dataframe\">\n",
              "  <thead>\n",
              "    <tr style=\"text-align: right;\">\n",
              "      <th></th>\n",
              "      <th>assets</th>\n",
              "      <th>debt</th>\n",
              "      <th>status</th>\n",
              "    </tr>\n",
              "  </thead>\n",
              "  <tbody>\n",
              "    <tr>\n",
              "      <th>0</th>\n",
              "      <td>8000</td>\n",
              "      <td>3000</td>\n",
              "      <td>default</td>\n",
              "    </tr>\n",
              "    <tr>\n",
              "      <th>6</th>\n",
              "      <td>9000</td>\n",
              "      <td>500</td>\n",
              "      <td>ok</td>\n",
              "    </tr>\n",
              "  </tbody>\n",
              "</table>\n",
              "</div>"
            ],
            "text/plain": [
              "   assets  debt   status\n",
              "0    8000  3000  default\n",
              "6    9000   500       ok"
            ]
          },
          "metadata": {},
          "output_type": "display_data"
        },
        {
          "name": "stdout",
          "output_type": "stream",
          "text": [
            "default    0.5\n",
            "ok         0.5\n",
            "Name: status, dtype: float64\n",
            "\n",
            "8000\n"
          ]
        },
        {
          "data": {
            "text/html": [
              "<div>\n",
              "<style scoped>\n",
              "    .dataframe tbody tr th:only-of-type {\n",
              "        vertical-align: middle;\n",
              "    }\n",
              "\n",
              "    .dataframe tbody tr th {\n",
              "        vertical-align: top;\n",
              "    }\n",
              "\n",
              "    .dataframe thead th {\n",
              "        text-align: right;\n",
              "    }\n",
              "</style>\n",
              "<table border=\"1\" class=\"dataframe\">\n",
              "  <thead>\n",
              "    <tr style=\"text-align: right;\">\n",
              "      <th></th>\n",
              "      <th>assets</th>\n",
              "      <th>debt</th>\n",
              "      <th>status</th>\n",
              "    </tr>\n",
              "  </thead>\n",
              "  <tbody>\n",
              "    <tr>\n",
              "      <th>0</th>\n",
              "      <td>8000</td>\n",
              "      <td>3000</td>\n",
              "      <td>default</td>\n",
              "    </tr>\n",
              "    <tr>\n",
              "      <th>1</th>\n",
              "      <td>2000</td>\n",
              "      <td>1000</td>\n",
              "      <td>default</td>\n",
              "    </tr>\n",
              "    <tr>\n",
              "      <th>2</th>\n",
              "      <td>0</td>\n",
              "      <td>1000</td>\n",
              "      <td>default</td>\n",
              "    </tr>\n",
              "    <tr>\n",
              "      <th>3</th>\n",
              "      <td>5000</td>\n",
              "      <td>1000</td>\n",
              "      <td>ok</td>\n",
              "    </tr>\n",
              "    <tr>\n",
              "      <th>4</th>\n",
              "      <td>5000</td>\n",
              "      <td>1000</td>\n",
              "      <td>ok</td>\n",
              "    </tr>\n",
              "    <tr>\n",
              "      <th>5</th>\n",
              "      <td>4000</td>\n",
              "      <td>1000</td>\n",
              "      <td>ok</td>\n",
              "    </tr>\n",
              "    <tr>\n",
              "      <th>7</th>\n",
              "      <td>3000</td>\n",
              "      <td>2000</td>\n",
              "      <td>default</td>\n",
              "    </tr>\n",
              "  </tbody>\n",
              "</table>\n",
              "</div>"
            ],
            "text/plain": [
              "   assets  debt   status\n",
              "0    8000  3000  default\n",
              "1    2000  1000  default\n",
              "2       0  1000  default\n",
              "3    5000  1000       ok\n",
              "4    5000  1000       ok\n",
              "5    4000  1000       ok\n",
              "7    3000  2000  default"
            ]
          },
          "metadata": {},
          "output_type": "display_data"
        },
        {
          "name": "stdout",
          "output_type": "stream",
          "text": [
            "default    0.571429\n",
            "ok         0.428571\n",
            "Name: status, dtype: float64\n"
          ]
        },
        {
          "data": {
            "text/html": [
              "<div>\n",
              "<style scoped>\n",
              "    .dataframe tbody tr th:only-of-type {\n",
              "        vertical-align: middle;\n",
              "    }\n",
              "\n",
              "    .dataframe tbody tr th {\n",
              "        vertical-align: top;\n",
              "    }\n",
              "\n",
              "    .dataframe thead th {\n",
              "        text-align: right;\n",
              "    }\n",
              "</style>\n",
              "<table border=\"1\" class=\"dataframe\">\n",
              "  <thead>\n",
              "    <tr style=\"text-align: right;\">\n",
              "      <th></th>\n",
              "      <th>assets</th>\n",
              "      <th>debt</th>\n",
              "      <th>status</th>\n",
              "    </tr>\n",
              "  </thead>\n",
              "  <tbody>\n",
              "    <tr>\n",
              "      <th>6</th>\n",
              "      <td>9000</td>\n",
              "      <td>500</td>\n",
              "      <td>ok</td>\n",
              "    </tr>\n",
              "  </tbody>\n",
              "</table>\n",
              "</div>"
            ],
            "text/plain": [
              "   assets  debt status\n",
              "6    9000   500     ok"
            ]
          },
          "metadata": {},
          "output_type": "display_data"
        },
        {
          "name": "stdout",
          "output_type": "stream",
          "text": [
            "ok    1.0\n",
            "Name: status, dtype: float64\n",
            "\n",
            "#####################\n",
            "#####################\n",
            "debt\n",
            "500\n"
          ]
        },
        {
          "data": {
            "text/html": [
              "<div>\n",
              "<style scoped>\n",
              "    .dataframe tbody tr th:only-of-type {\n",
              "        vertical-align: middle;\n",
              "    }\n",
              "\n",
              "    .dataframe tbody tr th {\n",
              "        vertical-align: top;\n",
              "    }\n",
              "\n",
              "    .dataframe thead th {\n",
              "        text-align: right;\n",
              "    }\n",
              "</style>\n",
              "<table border=\"1\" class=\"dataframe\">\n",
              "  <thead>\n",
              "    <tr style=\"text-align: right;\">\n",
              "      <th></th>\n",
              "      <th>assets</th>\n",
              "      <th>debt</th>\n",
              "      <th>status</th>\n",
              "    </tr>\n",
              "  </thead>\n",
              "  <tbody>\n",
              "    <tr>\n",
              "      <th>6</th>\n",
              "      <td>9000</td>\n",
              "      <td>500</td>\n",
              "      <td>ok</td>\n",
              "    </tr>\n",
              "  </tbody>\n",
              "</table>\n",
              "</div>"
            ],
            "text/plain": [
              "   assets  debt status\n",
              "6    9000   500     ok"
            ]
          },
          "metadata": {},
          "output_type": "display_data"
        },
        {
          "name": "stdout",
          "output_type": "stream",
          "text": [
            "ok    1.0\n",
            "Name: status, dtype: float64\n"
          ]
        },
        {
          "data": {
            "text/html": [
              "<div>\n",
              "<style scoped>\n",
              "    .dataframe tbody tr th:only-of-type {\n",
              "        vertical-align: middle;\n",
              "    }\n",
              "\n",
              "    .dataframe tbody tr th {\n",
              "        vertical-align: top;\n",
              "    }\n",
              "\n",
              "    .dataframe thead th {\n",
              "        text-align: right;\n",
              "    }\n",
              "</style>\n",
              "<table border=\"1\" class=\"dataframe\">\n",
              "  <thead>\n",
              "    <tr style=\"text-align: right;\">\n",
              "      <th></th>\n",
              "      <th>assets</th>\n",
              "      <th>debt</th>\n",
              "      <th>status</th>\n",
              "    </tr>\n",
              "  </thead>\n",
              "  <tbody>\n",
              "    <tr>\n",
              "      <th>0</th>\n",
              "      <td>8000</td>\n",
              "      <td>3000</td>\n",
              "      <td>default</td>\n",
              "    </tr>\n",
              "    <tr>\n",
              "      <th>1</th>\n",
              "      <td>2000</td>\n",
              "      <td>1000</td>\n",
              "      <td>default</td>\n",
              "    </tr>\n",
              "    <tr>\n",
              "      <th>2</th>\n",
              "      <td>0</td>\n",
              "      <td>1000</td>\n",
              "      <td>default</td>\n",
              "    </tr>\n",
              "    <tr>\n",
              "      <th>3</th>\n",
              "      <td>5000</td>\n",
              "      <td>1000</td>\n",
              "      <td>ok</td>\n",
              "    </tr>\n",
              "    <tr>\n",
              "      <th>4</th>\n",
              "      <td>5000</td>\n",
              "      <td>1000</td>\n",
              "      <td>ok</td>\n",
              "    </tr>\n",
              "    <tr>\n",
              "      <th>5</th>\n",
              "      <td>4000</td>\n",
              "      <td>1000</td>\n",
              "      <td>ok</td>\n",
              "    </tr>\n",
              "    <tr>\n",
              "      <th>7</th>\n",
              "      <td>3000</td>\n",
              "      <td>2000</td>\n",
              "      <td>default</td>\n",
              "    </tr>\n",
              "  </tbody>\n",
              "</table>\n",
              "</div>"
            ],
            "text/plain": [
              "   assets  debt   status\n",
              "0    8000  3000  default\n",
              "1    2000  1000  default\n",
              "2       0  1000  default\n",
              "3    5000  1000       ok\n",
              "4    5000  1000       ok\n",
              "5    4000  1000       ok\n",
              "7    3000  2000  default"
            ]
          },
          "metadata": {},
          "output_type": "display_data"
        },
        {
          "name": "stdout",
          "output_type": "stream",
          "text": [
            "default    0.571429\n",
            "ok         0.428571\n",
            "Name: status, dtype: float64\n",
            "\n",
            "1000\n"
          ]
        },
        {
          "data": {
            "text/html": [
              "<div>\n",
              "<style scoped>\n",
              "    .dataframe tbody tr th:only-of-type {\n",
              "        vertical-align: middle;\n",
              "    }\n",
              "\n",
              "    .dataframe tbody tr th {\n",
              "        vertical-align: top;\n",
              "    }\n",
              "\n",
              "    .dataframe thead th {\n",
              "        text-align: right;\n",
              "    }\n",
              "</style>\n",
              "<table border=\"1\" class=\"dataframe\">\n",
              "  <thead>\n",
              "    <tr style=\"text-align: right;\">\n",
              "      <th></th>\n",
              "      <th>assets</th>\n",
              "      <th>debt</th>\n",
              "      <th>status</th>\n",
              "    </tr>\n",
              "  </thead>\n",
              "  <tbody>\n",
              "    <tr>\n",
              "      <th>1</th>\n",
              "      <td>2000</td>\n",
              "      <td>1000</td>\n",
              "      <td>default</td>\n",
              "    </tr>\n",
              "    <tr>\n",
              "      <th>2</th>\n",
              "      <td>0</td>\n",
              "      <td>1000</td>\n",
              "      <td>default</td>\n",
              "    </tr>\n",
              "    <tr>\n",
              "      <th>3</th>\n",
              "      <td>5000</td>\n",
              "      <td>1000</td>\n",
              "      <td>ok</td>\n",
              "    </tr>\n",
              "    <tr>\n",
              "      <th>4</th>\n",
              "      <td>5000</td>\n",
              "      <td>1000</td>\n",
              "      <td>ok</td>\n",
              "    </tr>\n",
              "    <tr>\n",
              "      <th>5</th>\n",
              "      <td>4000</td>\n",
              "      <td>1000</td>\n",
              "      <td>ok</td>\n",
              "    </tr>\n",
              "    <tr>\n",
              "      <th>6</th>\n",
              "      <td>9000</td>\n",
              "      <td>500</td>\n",
              "      <td>ok</td>\n",
              "    </tr>\n",
              "  </tbody>\n",
              "</table>\n",
              "</div>"
            ],
            "text/plain": [
              "   assets  debt   status\n",
              "1    2000  1000  default\n",
              "2       0  1000  default\n",
              "3    5000  1000       ok\n",
              "4    5000  1000       ok\n",
              "5    4000  1000       ok\n",
              "6    9000   500       ok"
            ]
          },
          "metadata": {},
          "output_type": "display_data"
        },
        {
          "name": "stdout",
          "output_type": "stream",
          "text": [
            "ok         0.666667\n",
            "default    0.333333\n",
            "Name: status, dtype: float64\n"
          ]
        },
        {
          "data": {
            "text/html": [
              "<div>\n",
              "<style scoped>\n",
              "    .dataframe tbody tr th:only-of-type {\n",
              "        vertical-align: middle;\n",
              "    }\n",
              "\n",
              "    .dataframe tbody tr th {\n",
              "        vertical-align: top;\n",
              "    }\n",
              "\n",
              "    .dataframe thead th {\n",
              "        text-align: right;\n",
              "    }\n",
              "</style>\n",
              "<table border=\"1\" class=\"dataframe\">\n",
              "  <thead>\n",
              "    <tr style=\"text-align: right;\">\n",
              "      <th></th>\n",
              "      <th>assets</th>\n",
              "      <th>debt</th>\n",
              "      <th>status</th>\n",
              "    </tr>\n",
              "  </thead>\n",
              "  <tbody>\n",
              "    <tr>\n",
              "      <th>0</th>\n",
              "      <td>8000</td>\n",
              "      <td>3000</td>\n",
              "      <td>default</td>\n",
              "    </tr>\n",
              "    <tr>\n",
              "      <th>7</th>\n",
              "      <td>3000</td>\n",
              "      <td>2000</td>\n",
              "      <td>default</td>\n",
              "    </tr>\n",
              "  </tbody>\n",
              "</table>\n",
              "</div>"
            ],
            "text/plain": [
              "   assets  debt   status\n",
              "0    8000  3000  default\n",
              "7    3000  2000  default"
            ]
          },
          "metadata": {},
          "output_type": "display_data"
        },
        {
          "name": "stdout",
          "output_type": "stream",
          "text": [
            "default    1.0\n",
            "Name: status, dtype: float64\n",
            "\n",
            "2000\n"
          ]
        },
        {
          "data": {
            "text/html": [
              "<div>\n",
              "<style scoped>\n",
              "    .dataframe tbody tr th:only-of-type {\n",
              "        vertical-align: middle;\n",
              "    }\n",
              "\n",
              "    .dataframe tbody tr th {\n",
              "        vertical-align: top;\n",
              "    }\n",
              "\n",
              "    .dataframe thead th {\n",
              "        text-align: right;\n",
              "    }\n",
              "</style>\n",
              "<table border=\"1\" class=\"dataframe\">\n",
              "  <thead>\n",
              "    <tr style=\"text-align: right;\">\n",
              "      <th></th>\n",
              "      <th>assets</th>\n",
              "      <th>debt</th>\n",
              "      <th>status</th>\n",
              "    </tr>\n",
              "  </thead>\n",
              "  <tbody>\n",
              "    <tr>\n",
              "      <th>1</th>\n",
              "      <td>2000</td>\n",
              "      <td>1000</td>\n",
              "      <td>default</td>\n",
              "    </tr>\n",
              "    <tr>\n",
              "      <th>2</th>\n",
              "      <td>0</td>\n",
              "      <td>1000</td>\n",
              "      <td>default</td>\n",
              "    </tr>\n",
              "    <tr>\n",
              "      <th>3</th>\n",
              "      <td>5000</td>\n",
              "      <td>1000</td>\n",
              "      <td>ok</td>\n",
              "    </tr>\n",
              "    <tr>\n",
              "      <th>4</th>\n",
              "      <td>5000</td>\n",
              "      <td>1000</td>\n",
              "      <td>ok</td>\n",
              "    </tr>\n",
              "    <tr>\n",
              "      <th>5</th>\n",
              "      <td>4000</td>\n",
              "      <td>1000</td>\n",
              "      <td>ok</td>\n",
              "    </tr>\n",
              "    <tr>\n",
              "      <th>6</th>\n",
              "      <td>9000</td>\n",
              "      <td>500</td>\n",
              "      <td>ok</td>\n",
              "    </tr>\n",
              "    <tr>\n",
              "      <th>7</th>\n",
              "      <td>3000</td>\n",
              "      <td>2000</td>\n",
              "      <td>default</td>\n",
              "    </tr>\n",
              "  </tbody>\n",
              "</table>\n",
              "</div>"
            ],
            "text/plain": [
              "   assets  debt   status\n",
              "1    2000  1000  default\n",
              "2       0  1000  default\n",
              "3    5000  1000       ok\n",
              "4    5000  1000       ok\n",
              "5    4000  1000       ok\n",
              "6    9000   500       ok\n",
              "7    3000  2000  default"
            ]
          },
          "metadata": {},
          "output_type": "display_data"
        },
        {
          "name": "stdout",
          "output_type": "stream",
          "text": [
            "ok         0.571429\n",
            "default    0.428571\n",
            "Name: status, dtype: float64\n"
          ]
        },
        {
          "data": {
            "text/html": [
              "<div>\n",
              "<style scoped>\n",
              "    .dataframe tbody tr th:only-of-type {\n",
              "        vertical-align: middle;\n",
              "    }\n",
              "\n",
              "    .dataframe tbody tr th {\n",
              "        vertical-align: top;\n",
              "    }\n",
              "\n",
              "    .dataframe thead th {\n",
              "        text-align: right;\n",
              "    }\n",
              "</style>\n",
              "<table border=\"1\" class=\"dataframe\">\n",
              "  <thead>\n",
              "    <tr style=\"text-align: right;\">\n",
              "      <th></th>\n",
              "      <th>assets</th>\n",
              "      <th>debt</th>\n",
              "      <th>status</th>\n",
              "    </tr>\n",
              "  </thead>\n",
              "  <tbody>\n",
              "    <tr>\n",
              "      <th>0</th>\n",
              "      <td>8000</td>\n",
              "      <td>3000</td>\n",
              "      <td>default</td>\n",
              "    </tr>\n",
              "  </tbody>\n",
              "</table>\n",
              "</div>"
            ],
            "text/plain": [
              "   assets  debt   status\n",
              "0    8000  3000  default"
            ]
          },
          "metadata": {},
          "output_type": "display_data"
        },
        {
          "name": "stdout",
          "output_type": "stream",
          "text": [
            "default    1.0\n",
            "Name: status, dtype: float64\n",
            "\n",
            "#####################\n"
          ]
        }
      ],
      "source": [
        "for feature, Ts in thresholds.items():\n",
        "    print('#####################')\n",
        "    print(feature)\n",
        "    for T in Ts:\n",
        "        print(T)\n",
        "        df_left = df_example[df_example[feature] <= T]\n",
        "        df_right = df_example[df_example[feature] > T]\n",
        "\n",
        "        display(df_left)\n",
        "        print(df_left.status.value_counts(normalize=True))\n",
        "        display(df_right)\n",
        "        print(df_right.status.value_counts(normalize=True))\n",
        "\n",
        "        print()\n",
        "    print('#####################')"
      ]
    },
    {
      "cell_type": "markdown",
      "id": "f778bdd6",
      "metadata": {
        "id": "f778bdd6"
      },
      "source": [
        "## 6.5 Decision trees parameter tuning\n",
        "\n",
        "* selecting `max_depth`\n",
        "* selecting `min_samples_leaf`"
      ]
    },
    {
      "cell_type": "code",
      "execution_count": null,
      "id": "1378499f",
      "metadata": {
        "id": "1378499f",
        "outputId": "acf1d76b-a887-44f4-baa2-d44b07fbd182"
      },
      "outputs": [
        {
          "name": "stdout",
          "output_type": "stream",
          "text": [
            "   1 -> 0.606\n",
            "   2 -> 0.669\n",
            "   3 -> 0.739\n",
            "   4 -> 0.761\n",
            "   5 -> 0.767\n",
            "   6 -> 0.744\n",
            "  10 -> 0.683\n",
            "  15 -> 0.654\n",
            "  20 -> 0.654\n",
            "None -> 0.662\n"
          ]
        }
      ],
      "source": [
        "depths = [1, 2, 3, 4, 5, 6, 10, 15, 20, None]\n",
        "\n",
        "for depth in depths: \n",
        "    dt = DecisionTreeClassifier(max_depth=depth)\n",
        "    dt.fit(X_train, y_train)\n",
        "    \n",
        "    y_pred = dt.predict_proba(X_val)[:, 1]\n",
        "    auc = roc_auc_score(y_val, y_pred)\n",
        "    \n",
        "    print('%4s -> %.3f' % (depth, auc))"
      ]
    },
    {
      "cell_type": "code",
      "execution_count": null,
      "id": "479b1fa6",
      "metadata": {
        "id": "479b1fa6"
      },
      "outputs": [],
      "source": [
        "scores = []\n",
        "\n",
        "for depth in [4, 5, 6]:\n",
        "    for s in [1, 5, 10, 15, 20, 500, 100, 200]:\n",
        "        dt = DecisionTreeClassifier(max_depth=depth, min_samples_leaf=s)\n",
        "        dt.fit(X_train, y_train)\n",
        "\n",
        "        y_pred = dt.predict_proba(X_val)[:, 1]\n",
        "        auc = roc_auc_score(y_val, y_pred)\n",
        "        \n",
        "        scores.append((depth, s, auc))"
      ]
    },
    {
      "cell_type": "code",
      "execution_count": null,
      "id": "69e95a9f",
      "metadata": {
        "id": "69e95a9f"
      },
      "outputs": [],
      "source": [
        "columns = ['max_depth', 'min_samples_leaf', 'auc']\n",
        "df_scores = pd.DataFrame(scores, columns=columns)"
      ]
    },
    {
      "cell_type": "code",
      "execution_count": null,
      "id": "8c635465",
      "metadata": {
        "id": "8c635465",
        "outputId": "ec6f719d-3ca7-47e2-fbd0-d1cc099f0898"
      },
      "outputs": [
        {
          "data": {
            "text/html": [
              "<div>\n",
              "<style scoped>\n",
              "    .dataframe tbody tr th:only-of-type {\n",
              "        vertical-align: middle;\n",
              "    }\n",
              "\n",
              "    .dataframe tbody tr th {\n",
              "        vertical-align: top;\n",
              "    }\n",
              "\n",
              "    .dataframe thead tr th {\n",
              "        text-align: left;\n",
              "    }\n",
              "\n",
              "    .dataframe thead tr:last-of-type th {\n",
              "        text-align: right;\n",
              "    }\n",
              "</style>\n",
              "<table border=\"1\" class=\"dataframe\">\n",
              "  <thead>\n",
              "    <tr>\n",
              "      <th></th>\n",
              "      <th colspan=\"3\" halign=\"left\">auc</th>\n",
              "    </tr>\n",
              "    <tr>\n",
              "      <th>max_depth</th>\n",
              "      <th>4</th>\n",
              "      <th>5</th>\n",
              "      <th>6</th>\n",
              "    </tr>\n",
              "    <tr>\n",
              "      <th>min_samples_leaf</th>\n",
              "      <th></th>\n",
              "      <th></th>\n",
              "      <th></th>\n",
              "    </tr>\n",
              "  </thead>\n",
              "  <tbody>\n",
              "    <tr>\n",
              "      <th>1</th>\n",
              "      <td>0.761</td>\n",
              "      <td>0.767</td>\n",
              "      <td>0.759</td>\n",
              "    </tr>\n",
              "    <tr>\n",
              "      <th>5</th>\n",
              "      <td>0.761</td>\n",
              "      <td>0.768</td>\n",
              "      <td>0.759</td>\n",
              "    </tr>\n",
              "    <tr>\n",
              "      <th>10</th>\n",
              "      <td>0.761</td>\n",
              "      <td>0.762</td>\n",
              "      <td>0.778</td>\n",
              "    </tr>\n",
              "    <tr>\n",
              "      <th>15</th>\n",
              "      <td>0.764</td>\n",
              "      <td>0.772</td>\n",
              "      <td>0.785</td>\n",
              "    </tr>\n",
              "    <tr>\n",
              "      <th>20</th>\n",
              "      <td>0.761</td>\n",
              "      <td>0.774</td>\n",
              "      <td>0.774</td>\n",
              "    </tr>\n",
              "    <tr>\n",
              "      <th>100</th>\n",
              "      <td>0.756</td>\n",
              "      <td>0.763</td>\n",
              "      <td>0.776</td>\n",
              "    </tr>\n",
              "    <tr>\n",
              "      <th>200</th>\n",
              "      <td>0.747</td>\n",
              "      <td>0.759</td>\n",
              "      <td>0.768</td>\n",
              "    </tr>\n",
              "    <tr>\n",
              "      <th>500</th>\n",
              "      <td>0.680</td>\n",
              "      <td>0.680</td>\n",
              "      <td>0.680</td>\n",
              "    </tr>\n",
              "  </tbody>\n",
              "</table>\n",
              "</div>"
            ],
            "text/plain": [
              "                    auc              \n",
              "max_depth             4      5      6\n",
              "min_samples_leaf                     \n",
              "1                 0.761  0.767  0.759\n",
              "5                 0.761  0.768  0.759\n",
              "10                0.761  0.762  0.778\n",
              "15                0.764  0.772  0.785\n",
              "20                0.761  0.774  0.774\n",
              "100               0.756  0.763  0.776\n",
              "200               0.747  0.759  0.768\n",
              "500               0.680  0.680  0.680"
            ]
          },
          "execution_count": 30,
          "metadata": {},
          "output_type": "execute_result"
        }
      ],
      "source": [
        "df_scores_pivot = df_scores.pivot(index='min_samples_leaf', columns=['max_depth'], values=['auc'])\n",
        "df_scores_pivot.round(3)"
      ]
    },
    {
      "cell_type": "code",
      "execution_count": null,
      "id": "0786f509",
      "metadata": {
        "id": "0786f509",
        "outputId": "5474c447-86fb-4971-eab9-d72262769acd"
      },
      "outputs": [
        {
          "data": {
            "text/plain": [
              "<AxesSubplot:xlabel='None-max_depth', ylabel='min_samples_leaf'>"
            ]
          },
          "execution_count": 31,
          "metadata": {},
          "output_type": "execute_result"
        },
        {
          "data": {
            "image/png": "[encoded data removed]",
            "text/plain": [
              "<Figure size 432x288 with 2 Axes>"
            ]
          },
          "metadata": {
            "needs_background": "light"
          },
          "output_type": "display_data"
        }
      ],
      "source": [
        "sns.heatmap(df_scores_pivot, annot=True, fmt=\".3f\")"
      ]
    },
    {
      "cell_type": "code",
      "execution_count": null,
      "id": "853d72f1",
      "metadata": {
        "id": "853d72f1",
        "outputId": "83601f73-2306-48ca-8743-d30eccc8da3f"
      },
      "outputs": [
        {
          "data": {
            "text/plain": [
              "DecisionTreeClassifier(max_depth=6, min_samples_leaf=15)"
            ]
          },
          "execution_count": 32,
          "metadata": {},
          "output_type": "execute_result"
        }
      ],
      "source": [
        "dt = DecisionTreeClassifier(max_depth=6, min_samples_leaf=15)\n",
        "dt.fit(X_train, y_train)"
      ]
    },
    {
      "cell_type": "code",
      "execution_count": null,
      "id": "8bff643c",
      "metadata": {
        "id": "8bff643c",
        "outputId": "80fd1893-4310-4ff7-cd1e-2d08ed158f09"
      },
      "outputs": [
        {
          "name": "stdout",
          "output_type": "stream",
          "text": [
            "|--- records=no <= 0.50\n",
            "|   |--- seniority <= 6.50\n",
            "|   |   |--- amount <= 862.50\n",
            "|   |   |   |--- price <= 925.00\n",
            "|   |   |   |   |--- amount <= 525.00\n",
            "|   |   |   |   |   |--- class: 1\n",
            "|   |   |   |   |--- amount >  525.00\n",
            "|   |   |   |   |   |--- class: 1\n",
            "|   |   |   |--- price >  925.00\n",
            "|   |   |   |   |--- price <= 1382.00\n",
            "|   |   |   |   |   |--- class: 0\n",
            "|   |   |   |   |--- price >  1382.00\n",
            "|   |   |   |   |   |--- class: 0\n",
            "|   |   |--- amount >  862.50\n",
            "|   |   |   |--- assets <= 8250.00\n",
            "|   |   |   |   |--- job=fixed <= 0.50\n",
            "|   |   |   |   |   |--- assets <= 3425.00\n",
            "|   |   |   |   |   |   |--- class: 1\n",
            "|   |   |   |   |   |--- assets >  3425.00\n",
            "|   |   |   |   |   |   |--- class: 1\n",
            "|   |   |   |   |--- job=fixed >  0.50\n",
            "|   |   |   |   |   |--- age <= 31.50\n",
            "|   |   |   |   |   |   |--- class: 1\n",
            "|   |   |   |   |   |--- age >  31.50\n",
            "|   |   |   |   |   |   |--- class: 1\n",
            "|   |   |   |--- assets >  8250.00\n",
            "|   |   |   |   |--- income <= 132.50\n",
            "|   |   |   |   |   |--- class: 1\n",
            "|   |   |   |   |--- income >  132.50\n",
            "|   |   |   |   |   |--- class: 0\n",
            "|   |--- seniority >  6.50\n",
            "|   |   |--- income <= 103.50\n",
            "|   |   |   |--- assets <= 4500.00\n",
            "|   |   |   |   |--- seniority <= 12.50\n",
            "|   |   |   |   |   |--- class: 1\n",
            "|   |   |   |   |--- seniority >  12.50\n",
            "|   |   |   |   |   |--- class: 1\n",
            "|   |   |   |--- assets >  4500.00\n",
            "|   |   |   |   |--- class: 0\n",
            "|   |   |--- income >  103.50\n",
            "|   |   |   |--- time <= 33.00\n",
            "|   |   |   |   |--- class: 0\n",
            "|   |   |   |--- time >  33.00\n",
            "|   |   |   |   |--- seniority <= 11.50\n",
            "|   |   |   |   |   |--- age <= 37.50\n",
            "|   |   |   |   |   |   |--- class: 1\n",
            "|   |   |   |   |   |--- age >  37.50\n",
            "|   |   |   |   |   |   |--- class: 0\n",
            "|   |   |   |   |--- seniority >  11.50\n",
            "|   |   |   |   |   |--- assets <= 7250.00\n",
            "|   |   |   |   |   |   |--- class: 0\n",
            "|   |   |   |   |   |--- assets >  7250.00\n",
            "|   |   |   |   |   |   |--- class: 0\n",
            "|--- records=no >  0.50\n",
            "|   |--- job=partime <= 0.50\n",
            "|   |   |--- income <= 74.50\n",
            "|   |   |   |--- assets <= 4250.00\n",
            "|   |   |   |   |--- income <= 20.00\n",
            "|   |   |   |   |   |--- seniority <= 1.50\n",
            "|   |   |   |   |   |   |--- class: 1\n",
            "|   |   |   |   |   |--- seniority >  1.50\n",
            "|   |   |   |   |   |   |--- class: 1\n",
            "|   |   |   |   |--- income >  20.00\n",
            "|   |   |   |   |   |--- expenses <= 71.00\n",
            "|   |   |   |   |   |   |--- class: 0\n",
            "|   |   |   |   |   |--- expenses >  71.00\n",
            "|   |   |   |   |   |   |--- class: 1\n",
            "|   |   |   |--- assets >  4250.00\n",
            "|   |   |   |   |--- debt <= 1600.00\n",
            "|   |   |   |   |   |--- seniority <= 2.50\n",
            "|   |   |   |   |   |   |--- class: 0\n",
            "|   |   |   |   |   |--- seniority >  2.50\n",
            "|   |   |   |   |   |   |--- class: 0\n",
            "|   |   |   |   |--- debt >  1600.00\n",
            "|   |   |   |   |   |--- class: 1\n",
            "|   |   |--- income >  74.50\n",
            "|   |   |   |--- seniority <= 5.50\n",
            "|   |   |   |   |--- amount <= 1330.00\n",
            "|   |   |   |   |   |--- assets <= 3326.00\n",
            "|   |   |   |   |   |   |--- class: 0\n",
            "|   |   |   |   |   |--- assets >  3326.00\n",
            "|   |   |   |   |   |   |--- class: 0\n",
            "|   |   |   |   |--- amount >  1330.00\n",
            "|   |   |   |   |   |--- assets <= 3750.00\n",
            "|   |   |   |   |   |   |--- class: 1\n",
            "|   |   |   |   |   |--- assets >  3750.00\n",
            "|   |   |   |   |   |   |--- class: 0\n",
            "|   |   |   |--- seniority >  5.50\n",
            "|   |   |   |   |--- income <= 114.50\n",
            "|   |   |   |   |   |--- expenses <= 84.00\n",
            "|   |   |   |   |   |   |--- class: 0\n",
            "|   |   |   |   |   |--- expenses >  84.00\n",
            "|   |   |   |   |   |   |--- class: 0\n",
            "|   |   |   |   |--- income >  114.50\n",
            "|   |   |   |   |   |--- amount <= 1188.50\n",
            "|   |   |   |   |   |   |--- class: 0\n",
            "|   |   |   |   |   |--- amount >  1188.50\n",
            "|   |   |   |   |   |   |--- class: 0\n",
            "|   |--- job=partime >  0.50\n",
            "|   |   |--- assets <= 7250.00\n",
            "|   |   |   |--- time <= 27.00\n",
            "|   |   |   |   |--- price <= 909.50\n",
            "|   |   |   |   |   |--- class: 1\n",
            "|   |   |   |   |--- price >  909.50\n",
            "|   |   |   |   |   |--- class: 0\n",
            "|   |   |   |--- time >  27.00\n",
            "|   |   |   |   |--- age <= 34.50\n",
            "|   |   |   |   |   |--- price <= 1049.00\n",
            "|   |   |   |   |   |   |--- class: 1\n",
            "|   |   |   |   |   |--- price >  1049.00\n",
            "|   |   |   |   |   |   |--- class: 1\n",
            "|   |   |   |   |--- age >  34.50\n",
            "|   |   |   |   |   |--- assets <= 2750.00\n",
            "|   |   |   |   |   |   |--- class: 1\n",
            "|   |   |   |   |   |--- assets >  2750.00\n",
            "|   |   |   |   |   |   |--- class: 1\n",
            "|   |   |--- assets >  7250.00\n",
            "|   |   |   |--- class: 0\n",
            "\n"
          ]
        }
      ],
      "source": [
        "print(export_text(dt, feature_names=dv.get_feature_names()))"
      ]
    },
    {
      "cell_type": "markdown",
      "id": "2ff722ec",
      "metadata": {
        "id": "2ff722ec"
      },
      "source": [
        "## 6.6 Ensembles and random forest\n",
        "\n",
        "* Board of experts\n",
        "* Ensembling models \n",
        "* Random forest - ensembling decision trees\n",
        "* Tuning random forest"
      ]
    },
    {
      "cell_type": "code",
      "execution_count": null,
      "id": "75d43abc",
      "metadata": {
        "id": "75d43abc"
      },
      "outputs": [],
      "source": [
        "from sklearn.ensemble import RandomForestClassifier"
      ]
    },
    {
      "cell_type": "code",
      "execution_count": null,
      "id": "3091e6c8",
      "metadata": {
        "id": "3091e6c8"
      },
      "outputs": [],
      "source": [
        "scores = []\n",
        "\n",
        "for n in range(10, 201, 10):\n",
        "    rf = RandomForestClassifier(n_estimators=n, random_state=1)\n",
        "    rf.fit(X_train, y_train)\n",
        "\n",
        "    y_pred = rf.predict_proba(X_val)[:, 1]\n",
        "    auc = roc_auc_score(y_val, y_pred)\n",
        "    \n",
        "    scores.append((n, auc))"
      ]
    },
    {
      "cell_type": "code",
      "execution_count": null,
      "id": "507a1009",
      "metadata": {
        "id": "507a1009"
      },
      "outputs": [],
      "source": [
        "df_scores = pd.DataFrame(scores, columns=['n_estimators', 'auc'])"
      ]
    },
    {
      "cell_type": "code",
      "execution_count": null,
      "id": "687263dc",
      "metadata": {
        "id": "687263dc",
        "outputId": "227eb50f-e20f-4773-ffc9-129f999ab352"
      },
      "outputs": [
        {
          "data": {
            "text/plain": [
              "[<matplotlib.lines.Line2D at 0xff7f36d618e0>]"
            ]
          },
          "execution_count": 37,
          "metadata": {},
          "output_type": "execute_result"
        },
        {
          "data": {
            "image/png": "[encoded data removed]",
            "text/plain": [
              "<Figure size 432x288 with 1 Axes>"
            ]
          },
          "metadata": {
            "needs_background": "light"
          },
          "output_type": "display_data"
        }
      ],
      "source": [
        "plt.plot(df_scores.n_estimators, df_scores.auc)"
      ]
    },
    {
      "cell_type": "code",
      "execution_count": null,
      "id": "871ebe9e",
      "metadata": {
        "id": "871ebe9e"
      },
      "outputs": [],
      "source": [
        "scores = []\n",
        "\n",
        "for d in [5, 10, 15]:\n",
        "    for n in range(10, 201, 10):\n",
        "        rf = RandomForestClassifier(n_estimators=n,\n",
        "                                    max_depth=d,\n",
        "                                    random_state=1)\n",
        "        rf.fit(X_train, y_train)\n",
        "\n",
        "        y_pred = rf.predict_proba(X_val)[:, 1]\n",
        "        auc = roc_auc_score(y_val, y_pred)\n",
        "\n",
        "        scores.append((d, n, auc))"
      ]
    },
    {
      "cell_type": "code",
      "execution_count": null,
      "id": "96f07149",
      "metadata": {
        "id": "96f07149"
      },
      "outputs": [],
      "source": [
        "columns = ['max_depth', 'n_estimators', 'auc']\n",
        "df_scores = pd.DataFrame(scores, columns=columns)"
      ]
    },
    {
      "cell_type": "code",
      "execution_count": null,
      "id": "e4e839b8",
      "metadata": {
        "id": "e4e839b8",
        "outputId": "1ffd02ca-5bc1-4c51-aa7e-fc65a5436dca"
      },
      "outputs": [
        {
          "data": {
            "text/plain": [
              "<matplotlib.legend.Legend at 0xff7f375fe490>"
            ]
          },
          "execution_count": 43,
          "metadata": {},
          "output_type": "execute_result"
        },
        {
          "data": {
            "image/png": "[encoded data removed]",
            "text/plain": [
              "<Figure size 432x288 with 1 Axes>"
            ]
          },
          "metadata": {
            "needs_background": "light"
          },
          "output_type": "display_data"
        }
      ],
      "source": [
        "for d in [5, 10, 15]:\n",
        "    df_subset = df_scores[df_scores.max_depth == d]\n",
        "    \n",
        "    plt.plot(df_subset.n_estimators, df_subset.auc,\n",
        "             label='max_depth=%d' % d)\n",
        "\n",
        "plt.legend()"
      ]
    },
    {
      "cell_type": "code",
      "execution_count": null,
      "id": "effdcd40",
      "metadata": {
        "id": "effdcd40"
      },
      "outputs": [],
      "source": [
        "max_depth = 10"
      ]
    },
    {
      "cell_type": "code",
      "execution_count": null,
      "id": "eb3418f9",
      "metadata": {
        "id": "eb3418f9"
      },
      "outputs": [],
      "source": [
        "scores = []\n",
        "\n",
        "for s in [1, 3, 5, 10, 50]:\n",
        "    for n in range(10, 201, 10):\n",
        "        rf = RandomForestClassifier(n_estimators=n,\n",
        "                                    max_depth=max_depth,\n",
        "                                    min_samples_leaf=s,\n",
        "                                    random_state=1)\n",
        "        rf.fit(X_train, y_train)\n",
        "\n",
        "        y_pred = rf.predict_proba(X_val)[:, 1]\n",
        "        auc = roc_auc_score(y_val, y_pred)\n",
        "\n",
        "        scores.append((s, n, auc))"
      ]
    },
    {
      "cell_type": "code",
      "execution_count": null,
      "id": "695d60f2",
      "metadata": {
        "id": "695d60f2"
      },
      "outputs": [],
      "source": [
        "columns = ['min_samples_leaf', 'n_estimators', 'auc']\n",
        "df_scores = pd.DataFrame(scores, columns=columns)"
      ]
    },
    {
      "cell_type": "code",
      "execution_count": null,
      "id": "274f7625",
      "metadata": {
        "id": "274f7625",
        "outputId": "e64460b1-5909-4e2f-b0c8-95c3b41a3e7c"
      },
      "outputs": [
        {
          "data": {
            "text/plain": [
              "<matplotlib.legend.Legend at 0xff7f363cd310>"
            ]
          },
          "execution_count": 48,
          "metadata": {},
          "output_type": "execute_result"
        },
        {
          "data": {
            "image/png": "[encoded data removed]",
            "text/plain": [
              "<Figure size 432x288 with 1 Axes>"
            ]
          },
          "metadata": {
            "needs_background": "light"
          },
          "output_type": "display_data"
        }
      ],
      "source": [
        "colors = ['black', 'blue', 'orange', 'red', 'grey']\n",
        "values = [1, 3, 5, 10, 50]\n",
        "\n",
        "for s, col in zip(values, colors):\n",
        "    df_subset = df_scores[df_scores.min_samples_leaf == s]\n",
        "    \n",
        "    plt.plot(df_subset.n_estimators, df_subset.auc,\n",
        "             color=col,\n",
        "             label='min_samples_leaf=%d' % s)\n",
        "\n",
        "plt.legend()"
      ]
    },
    {
      "cell_type": "code",
      "execution_count": null,
      "id": "33fed76c",
      "metadata": {
        "id": "33fed76c"
      },
      "outputs": [],
      "source": [
        "min_samples_leaf = 3"
      ]
    },
    {
      "cell_type": "code",
      "execution_count": null,
      "id": "a84fa9d2",
      "metadata": {
        "id": "a84fa9d2",
        "outputId": "ca7bb9b3-572a-4ea0-b116-0900cf460dc6"
      },
      "outputs": [
        {
          "data": {
            "text/plain": [
              "RandomForestClassifier(max_depth=10, min_samples_leaf=3, n_estimators=200,\n",
              "                       random_state=1)"
            ]
          },
          "execution_count": 50,
          "metadata": {},
          "output_type": "execute_result"
        }
      ],
      "source": [
        "rf = RandomForestClassifier(n_estimators=200,\n",
        "                            max_depth=max_depth,\n",
        "                            min_samples_leaf=min_samples_leaf,\n",
        "                            random_state=1)\n",
        "rf.fit(X_train, y_train)"
      ]
    },
    {
      "cell_type": "markdown",
      "id": "fe3e097b",
      "metadata": {
        "id": "fe3e097b"
      },
      "source": [
        "Other useful parametes:\n",
        "\n",
        "* `max_features`\n",
        "* `bootstrap`\n",
        "\n",
        "https://scikit-learn.org/stable/modules/generated/sklearn.ensemble.RandomForestClassifier.html"
      ]
    },
    {
      "cell_type": "markdown",
      "id": "a1d8776c",
      "metadata": {
        "id": "a1d8776c"
      },
      "source": [
        "## 6.7 Gradient boosting and XGBoost\n",
        "\n",
        "* Gradient boosting vs random forest\n",
        "* Installing XGBoost\n",
        "* Training the first model\n",
        "* Performance monitoring\n",
        "* Parsing xgboost's monitoring output"
      ]
    },
    {
      "cell_type": "code",
      "execution_count": null,
      "id": "60051cde",
      "metadata": {
        "id": "60051cde",
        "outputId": "32ae0c80-1f0a-4b8a-e198-b1fe9edb69af"
      },
      "outputs": [
        {
          "name": "stdout",
          "output_type": "stream",
          "text": [
            "Requirement already satisfied: xgboost in /home/alexey/.pyenv/versions/3.8.11/lib/python3.8/site-packages (1.4.2)\r\n",
            "Requirement already satisfied: numpy in /home/alexey/.pyenv/versions/3.8.11/lib/python3.8/site-packages (from xgboost) (1.21.1)\r\n",
            "Requirement already satisfied: scipy in /home/alexey/.pyenv/versions/3.8.11/lib/python3.8/site-packages (from xgboost) (1.7.0)\r\n"
          ]
        }
      ],
      "source": [
        "!pip install xgboost"
      ]
    },
    {
      "cell_type": "code",
      "execution_count": null,
      "id": "2b7df0bb",
      "metadata": {
        "id": "2b7df0bb"
      },
      "outputs": [],
      "source": [
        "import xgboost as xgb"
      ]
    },
    {
      "cell_type": "code",
      "execution_count": null,
      "id": "63185f7a",
      "metadata": {
        "id": "63185f7a"
      },
      "outputs": [],
      "source": [
        "features = dv.get_feature_names()\n",
        "dtrain = xgb.DMatrix(X_train, label=y_train, feature_names=features)\n",
        "dval = xgb.DMatrix(X_val, label=y_val, feature_names=features)"
      ]
    },
    {
      "cell_type": "code",
      "execution_count": null,
      "id": "d27e12df",
      "metadata": {
        "id": "d27e12df",
        "outputId": "5ef53ba1-0f5f-48c7-ffd3-5b979bbdf8b8"
      },
      "outputs": [
        {
          "name": "stdout",
          "output_type": "stream",
          "text": [
            "[22:13:34] WARNING: ../src/learner.cc:1095: Starting in XGBoost 1.3.0, the default evaluation metric used with the objective 'binary:logistic' was changed from 'error' to 'logloss'. Explicitly set eval_metric if you'd like to restore the old behavior.\n"
          ]
        }
      ],
      "source": [
        "xgb_params = {\n",
        "    'eta': 0.3, \n",
        "    'max_depth': 6,\n",
        "    'min_child_weight': 1,\n",
        "    \n",
        "    'objective': 'binary:logistic',\n",
        "    'nthread': 8,\n",
        "    \n",
        "    'seed': 1,\n",
        "    'verbosity': 1,\n",
        "}\n",
        "\n",
        "model = xgb.train(xgb_params, dtrain, num_boost_round=10)"
      ]
    },
    {
      "cell_type": "code",
      "execution_count": null,
      "id": "796098e2",
      "metadata": {
        "id": "796098e2"
      },
      "outputs": [],
      "source": [
        "y_pred = model.predict(dval)"
      ]
    },
    {
      "cell_type": "code",
      "execution_count": null,
      "id": "167421e4",
      "metadata": {
        "id": "167421e4",
        "outputId": "866ba9c5-025d-44be-bdb9-4d3c3cea8c7c"
      },
      "outputs": [
        {
          "data": {
            "text/plain": [
              "0.8152745150274878"
            ]
          },
          "execution_count": 67,
          "metadata": {},
          "output_type": "execute_result"
        }
      ],
      "source": [
        "roc_auc_score(y_val, y_pred)"
      ]
    },
    {
      "cell_type": "code",
      "execution_count": null,
      "id": "82cf8da9",
      "metadata": {
        "id": "82cf8da9"
      },
      "outputs": [],
      "source": [
        "watchlist = [(dtrain, 'train'), (dval, 'val')]"
      ]
    },
    {
      "cell_type": "code",
      "execution_count": null,
      "id": "e5ffdb5a",
      "metadata": {
        "id": "e5ffdb5a"
      },
      "outputs": [],
      "source": [
        "%%capture output\n",
        "\n",
        "xgb_params = {\n",
        "    'eta': 0.3, \n",
        "    'max_depth': 6,\n",
        "    'min_child_weight': 1,\n",
        "    \n",
        "    'objective': 'binary:logistic',\n",
        "    'eval_metric': 'auc',\n",
        "\n",
        "    'nthread': 8,\n",
        "    'seed': 1,\n",
        "    'verbosity': 1,\n",
        "}\n",
        "\n",
        "model = xgb.train(xgb_params, dtrain, num_boost_round=200,\n",
        "                  verbose_eval=5,\n",
        "                  evals=watchlist)"
      ]
    },
    {
      "cell_type": "code",
      "execution_count": null,
      "id": "491eb842",
      "metadata": {
        "id": "491eb842"
      },
      "outputs": [],
      "source": [
        "s = output.stdout"
      ]
    },
    {
      "cell_type": "code",
      "execution_count": null,
      "id": "bb1fbf42",
      "metadata": {
        "scrolled": true,
        "id": "bb1fbf42",
        "outputId": "0d6eca08-626e-4068-b902-ca61809bdba5"
      },
      "outputs": [
        {
          "name": "stdout",
          "output_type": "stream",
          "text": [
            "[0]\ttrain-auc:0.86300\tval-auc:0.76818\n",
            "[5]\ttrain-auc:0.92863\tval-auc:0.80606\n",
            "[10]\ttrain-auc:0.95002\tval-auc:0.81558\n",
            "[15]\ttrain-auc:0.96558\tval-auc:0.81680\n",
            "[20]\ttrain-auc:0.97316\tval-auc:0.81775\n",
            "[25]\ttr\n"
          ]
        }
      ],
      "source": [
        "print(s[:200])"
      ]
    },
    {
      "cell_type": "code",
      "execution_count": null,
      "id": "aa0257b1",
      "metadata": {
        "id": "aa0257b1"
      },
      "outputs": [],
      "source": [
        "def parse_xgb_output(output):\n",
        "    results = []\n",
        "\n",
        "    for line in output.stdout.strip().split('\\n'):\n",
        "        it_line, train_line, val_line = line.split('\\t')\n",
        "\n",
        "        it = int(it_line.strip('[]'))\n",
        "        train = float(train_line.split(':')[1])\n",
        "        val = float(val_line.split(':')[1])\n",
        "\n",
        "        results.append((it, train, val))\n",
        "    \n",
        "    columns = ['num_iter', 'train_auc', 'val_auc']\n",
        "    df_results = pd.DataFrame(results, columns=columns)\n",
        "    return df_results"
      ]
    },
    {
      "cell_type": "code",
      "execution_count": null,
      "id": "e4956bc7",
      "metadata": {
        "id": "e4956bc7"
      },
      "outputs": [],
      "source": [
        "df_score = parse_xgb_output(output)"
      ]
    },
    {
      "cell_type": "code",
      "execution_count": null,
      "id": "70c1cc20",
      "metadata": {
        "id": "70c1cc20",
        "outputId": "95de008a-2ade-4a2b-aba5-2d31f172370f"
      },
      "outputs": [
        {
          "data": {
            "text/plain": [
              "<matplotlib.legend.Legend at 0xff7f789d6c70>"
            ]
          },
          "execution_count": 98,
          "metadata": {},
          "output_type": "execute_result"
        },
        {
          "data": {
            "image/png": "[encoded data removed]",
            "text/plain": [
              "<Figure size 432x288 with 1 Axes>"
            ]
          },
          "metadata": {
            "needs_background": "light"
          },
          "output_type": "display_data"
        }
      ],
      "source": [
        "plt.plot(df_score.num_iter, df_score.train_auc, label='train')\n",
        "plt.plot(df_score.num_iter, df_score.val_auc, label='val')\n",
        "plt.legend()"
      ]
    },
    {
      "cell_type": "code",
      "execution_count": null,
      "id": "737dda99",
      "metadata": {
        "id": "737dda99",
        "outputId": "6e3702d5-3091-46b1-f655-140d7cb9d923"
      },
      "outputs": [
        {
          "data": {
            "text/plain": [
              "<matplotlib.legend.Legend at 0xff7f78c5fd90>"
            ]
          },
          "execution_count": 95,
          "metadata": {},
          "output_type": "execute_result"
        },
        {
          "data": {
            "image/png": "[encoded data removed]",
            "text/plain": [
              "<Figure size 432x288 with 1 Axes>"
            ]
          },
          "metadata": {
            "needs_background": "light"
          },
          "output_type": "display_data"
        }
      ],
      "source": [
        "plt.plot(df_score.num_iter, df_score.val_auc, label='val')\n",
        "plt.legend()"
      ]
    },
    {
      "cell_type": "markdown",
      "id": "76389daf",
      "metadata": {
        "id": "76389daf"
      },
      "source": [
        "## 6.8 XGBoost parameter tuning\n",
        "\n",
        "Tuning the following parameters:\n",
        "\n",
        "* `eta`\n",
        "* `max_depth`\n",
        "* `min_child_weight`\n"
      ]
    },
    {
      "cell_type": "code",
      "execution_count": null,
      "id": "dd8c7ee2",
      "metadata": {
        "id": "dd8c7ee2"
      },
      "outputs": [],
      "source": [
        "scores = {}"
      ]
    },
    {
      "cell_type": "code",
      "execution_count": null,
      "id": "71beb544",
      "metadata": {
        "id": "71beb544"
      },
      "outputs": [],
      "source": [
        "%%capture output\n",
        "\n",
        "xgb_params = {\n",
        "    'eta': 0.01, \n",
        "    'max_depth': 6,\n",
        "    'min_child_weight': 1,\n",
        "    \n",
        "    'objective': 'binary:logistic',\n",
        "    'eval_metric': 'auc',\n",
        "\n",
        "    'nthread': 8,\n",
        "    'seed': 1,\n",
        "    'verbosity': 1,\n",
        "}\n",
        "\n",
        "model = xgb.train(xgb_params, dtrain, num_boost_round=200,\n",
        "                  verbose_eval=5,\n",
        "                  evals=watchlist)"
      ]
    },
    {
      "cell_type": "code",
      "execution_count": null,
      "id": "a6e7e90a",
      "metadata": {
        "id": "a6e7e90a"
      },
      "outputs": [],
      "source": [
        "scores = {}"
      ]
    },
    {
      "cell_type": "code",
      "execution_count": null,
      "id": "4a942338",
      "metadata": {
        "id": "4a942338",
        "outputId": "884fd5aa-9eb0-4df3-a406-779f299877e9"
      },
      "outputs": [
        {
          "data": {
            "text/plain": [
              "'eta=0.01'"
            ]
          },
          "execution_count": 115,
          "metadata": {},
          "output_type": "execute_result"
        }
      ],
      "source": [
        "key = 'eta=%s' % (xgb_params['eta'])\n",
        "scores[key] = parse_xgb_output(output)\n",
        "key"
      ]
    },
    {
      "cell_type": "code",
      "execution_count": null,
      "id": "fcab5ce9",
      "metadata": {
        "id": "fcab5ce9"
      },
      "outputs": [],
      "source": [
        "scores = {}"
      ]
    },
    {
      "cell_type": "code",
      "execution_count": null,
      "id": "2775e115",
      "metadata": {
        "id": "2775e115"
      },
      "outputs": [],
      "source": [
        "%%capture output\n",
        "\n",
        "xgb_params = {\n",
        "    'eta': 0.1, \n",
        "    'max_depth': 10,\n",
        "    'min_child_weight': 1,\n",
        "    \n",
        "    'objective': 'binary:logistic',\n",
        "    'eval_metric': 'auc',\n",
        "\n",
        "    'nthread': 8,\n",
        "    'seed': 1,\n",
        "    'verbosity': 1,\n",
        "}\n",
        "\n",
        "model = xgb.train(xgb_params, dtrain, num_boost_round=200,\n",
        "                  verbose_eval=5,\n",
        "                  evals=watchlist)"
      ]
    },
    {
      "cell_type": "code",
      "execution_count": null,
      "id": "87011661",
      "metadata": {
        "id": "87011661",
        "outputId": "b511b141-8c55-4abb-e3e8-a08c1f608e29"
      },
      "outputs": [
        {
          "data": {
            "text/plain": [
              "'max_depth=10'"
            ]
          },
          "execution_count": 129,
          "metadata": {},
          "output_type": "execute_result"
        }
      ],
      "source": [
        "key = 'max_depth=%s' % (xgb_params['max_depth'])\n",
        "scores[key] = parse_xgb_output(output)\n",
        "key"
      ]
    },
    {
      "cell_type": "code",
      "execution_count": null,
      "id": "71c17c58",
      "metadata": {
        "id": "71c17c58"
      },
      "outputs": [],
      "source": [
        "del scores['max_depth=10']"
      ]
    },
    {
      "cell_type": "code",
      "execution_count": null,
      "id": "b4ca0a0f",
      "metadata": {
        "id": "b4ca0a0f",
        "outputId": "00ea93c0-cb87-4b8f-a2c5-b8c0bfa74783"
      },
      "outputs": [
        {
          "data": {
            "text/plain": [
              "<matplotlib.legend.Legend at 0xff7f787909d0>"
            ]
          },
          "execution_count": 133,
          "metadata": {},
          "output_type": "execute_result"
        },
        {
          "data": {
            "image/png": "[encoded data removed]",
            "text/plain": [
              "<Figure size 432x288 with 1 Axes>"
            ]
          },
          "metadata": {
            "needs_background": "light"
          },
          "output_type": "display_data"
        }
      ],
      "source": [
        "for max_depth, df_score in scores.items():\n",
        "    plt.plot(df_score.num_iter, df_score.val_auc, label=max_depth)\n",
        "\n",
        "plt.ylim(0.8, 0.84)\n",
        "plt.legend()"
      ]
    },
    {
      "cell_type": "code",
      "execution_count": null,
      "id": "5f8916c8",
      "metadata": {
        "id": "5f8916c8"
      },
      "outputs": [],
      "source": [
        "scores = {}"
      ]
    },
    {
      "cell_type": "code",
      "execution_count": null,
      "id": "c16ac409",
      "metadata": {
        "id": "c16ac409"
      },
      "outputs": [],
      "source": [
        "%%capture output\n",
        "\n",
        "xgb_params = {\n",
        "    'eta': 0.1, \n",
        "    'max_depth': 3,\n",
        "    'min_child_weight': 30,\n",
        "    \n",
        "    'objective': 'binary:logistic',\n",
        "    'eval_metric': 'auc',\n",
        "\n",
        "    'nthread': 8,\n",
        "    'seed': 1,\n",
        "    'verbosity': 1,\n",
        "}\n",
        "\n",
        "model = xgb.train(xgb_params, dtrain, num_boost_round=200,\n",
        "                  verbose_eval=5,\n",
        "                  evals=watchlist)"
      ]
    },
    {
      "cell_type": "code",
      "execution_count": null,
      "id": "d8ca1530",
      "metadata": {
        "id": "d8ca1530",
        "outputId": "ff229b7f-0280-4c2d-e172-433b5d5aae2d"
      },
      "outputs": [
        {
          "data": {
            "text/plain": [
              "'min_child_weight=30'"
            ]
          },
          "execution_count": 139,
          "metadata": {},
          "output_type": "execute_result"
        }
      ],
      "source": [
        "key = 'min_child_weight=%s' % (xgb_params['min_child_weight'])\n",
        "scores[key] = parse_xgb_output(output)\n",
        "key"
      ]
    },
    {
      "cell_type": "code",
      "execution_count": null,
      "id": "c08950e0",
      "metadata": {
        "id": "c08950e0",
        "outputId": "59a770d2-081f-4f05-c7ca-8716a4d061ab"
      },
      "outputs": [
        {
          "data": {
            "text/plain": [
              "<matplotlib.legend.Legend at 0xff7f784f6b50>"
            ]
          },
          "execution_count": 144,
          "metadata": {},
          "output_type": "execute_result"
        },
        {
          "data": {
            "image/png": "[encoded data removed]",
            "text/plain": [
              "<Figure size 432x288 with 1 Axes>"
            ]
          },
          "metadata": {
            "needs_background": "light"
          },
          "output_type": "display_data"
        }
      ],
      "source": [
        "for min_child_weight, df_score in scores.items():\n",
        "    plt.plot(df_score.num_iter, df_score.val_auc, label=min_child_weight)\n",
        "\n",
        "plt.ylim(0.82, 0.84)\n",
        "plt.legend()"
      ]
    },
    {
      "cell_type": "code",
      "execution_count": null,
      "id": "c5663990",
      "metadata": {
        "id": "c5663990"
      },
      "outputs": [],
      "source": [
        "xgb_params = {\n",
        "    'eta': 0.1, \n",
        "    'max_depth': 3,\n",
        "    'min_child_weight': 1,\n",
        "\n",
        "    'objective': 'binary:logistic',\n",
        "    'eval_metric': 'auc',\n",
        "\n",
        "    'nthread': 8,\n",
        "    'seed': 1,\n",
        "    'verbosity': 1,\n",
        "}\n",
        "\n",
        "model = xgb.train(xgb_params, dtrain, num_boost_round=175)"
      ]
    },
    {
      "cell_type": "markdown",
      "id": "9209de3a",
      "metadata": {
        "id": "9209de3a"
      },
      "source": [
        "Other parameters: https://xgboost.readthedocs.io/en/latest/parameter.html\n",
        "\n",
        "Useful ones:\n",
        "\n",
        "* `subsample` and `colsample_bytree`\n",
        "* `lambda` and `alpha`"
      ]
    },
    {
      "cell_type": "markdown",
      "id": "0519a9e0",
      "metadata": {
        "id": "0519a9e0"
      },
      "source": [
        "## 6.9 Selecting the final model\n",
        "\n",
        "* Choosing between xgboost, random forest and decision tree\n",
        "* Training the final model\n",
        "* Saving the model"
      ]
    },
    {
      "cell_type": "code",
      "execution_count": null,
      "id": "a4ec2011",
      "metadata": {
        "id": "a4ec2011",
        "outputId": "327fdf17-4419-4910-bb48-54afbf06bd52"
      },
      "outputs": [
        {
          "data": {
            "text/plain": [
              "DecisionTreeClassifier(max_depth=6, min_samples_leaf=15)"
            ]
          },
          "execution_count": 146,
          "metadata": {},
          "output_type": "execute_result"
        }
      ],
      "source": [
        "dt = DecisionTreeClassifier(max_depth=6, min_samples_leaf=15)\n",
        "dt.fit(X_train, y_train)"
      ]
    },
    {
      "cell_type": "code",
      "execution_count": null,
      "id": "aa4525d6",
      "metadata": {
        "id": "aa4525d6",
        "outputId": "490891dc-9e09-4577-fd65-eb343c388086"
      },
      "outputs": [
        {
          "data": {
            "text/plain": [
              "0.7850802838390931"
            ]
          },
          "execution_count": 150,
          "metadata": {},
          "output_type": "execute_result"
        }
      ],
      "source": [
        "y_pred = dt.predict_proba(X_val)[:, 1]\n",
        "roc_auc_score(y_val, y_pred)"
      ]
    },
    {
      "cell_type": "code",
      "execution_count": null,
      "id": "aa1a1a70",
      "metadata": {
        "id": "aa1a1a70",
        "outputId": "509e6a83-7e44-45bb-9d7a-9fb38290fe43"
      },
      "outputs": [
        {
          "data": {
            "text/plain": [
              "RandomForestClassifier(max_depth=10, min_samples_leaf=3, n_estimators=200,\n",
              "                       random_state=1)"
            ]
          },
          "execution_count": 148,
          "metadata": {},
          "output_type": "execute_result"
        }
      ],
      "source": [
        "rf = RandomForestClassifier(n_estimators=200,\n",
        "                            max_depth=10,\n",
        "                            min_samples_leaf=3,\n",
        "                            random_state=1)\n",
        "rf.fit(X_train, y_train)"
      ]
    },
    {
      "cell_type": "code",
      "execution_count": null,
      "id": "a623a21d",
      "metadata": {
        "id": "a623a21d",
        "outputId": "a716ad78-d10b-4980-ac19-b301c6c71036"
      },
      "outputs": [
        {
          "data": {
            "text/plain": [
              "0.8249709379767989"
            ]
          },
          "execution_count": 151,
          "metadata": {},
          "output_type": "execute_result"
        }
      ],
      "source": [
        "y_pred = rf.predict_proba(X_val)[:, 1]\n",
        "roc_auc_score(y_val, y_pred)"
      ]
    },
    {
      "cell_type": "code",
      "execution_count": null,
      "id": "d1e284f4",
      "metadata": {
        "id": "d1e284f4"
      },
      "outputs": [],
      "source": [
        "xgb_params = {\n",
        "    'eta': 0.1, \n",
        "    'max_depth': 3,\n",
        "    'min_child_weight': 1,\n",
        "\n",
        "    'objective': 'binary:logistic',\n",
        "    'eval_metric': 'auc',\n",
        "\n",
        "    'nthread': 8,\n",
        "    'seed': 1,\n",
        "    'verbosity': 1,\n",
        "}\n",
        "\n",
        "model = xgb.train(xgb_params, dtrain, num_boost_round=175)"
      ]
    },
    {
      "cell_type": "code",
      "execution_count": null,
      "id": "27904559",
      "metadata": {
        "id": "27904559",
        "outputId": "bb8e68df-acc3-4353-8c4b-40c98cf311d3"
      },
      "outputs": [
        {
          "data": {
            "text/plain": [
              "0.8360387251459157"
            ]
          },
          "execution_count": 152,
          "metadata": {},
          "output_type": "execute_result"
        }
      ],
      "source": [
        "y_pred = model.predict(dval)\n",
        "roc_auc_score(y_val, y_pred)"
      ]
    },
    {
      "cell_type": "code",
      "execution_count": null,
      "id": "89314e47",
      "metadata": {
        "id": "89314e47"
      },
      "outputs": [],
      "source": [
        "df_full_train = df_full_train.reset_index(drop=True)"
      ]
    },
    {
      "cell_type": "code",
      "execution_count": null,
      "id": "c43e218a",
      "metadata": {
        "id": "c43e218a"
      },
      "outputs": [],
      "source": [
        "y_full_train = (df_full_train.status == 'default').astype(int).values"
      ]
    },
    {
      "cell_type": "code",
      "execution_count": null,
      "id": "f92f8492",
      "metadata": {
        "id": "f92f8492"
      },
      "outputs": [],
      "source": [
        "del df_full_train['status']"
      ]
    },
    {
      "cell_type": "code",
      "execution_count": null,
      "id": "29f22b05",
      "metadata": {
        "id": "29f22b05"
      },
      "outputs": [],
      "source": [
        "dicts_full_train = df_full_train.to_dict(orient='records')\n",
        "\n",
        "dv = DictVectorizer(sparse=False)\n",
        "X_full_train = dv.fit_transform(dicts_full_train)\n",
        "\n",
        "dicts_test = df_test.to_dict(orient='records')\n",
        "X_test = dv.transform(dicts_test)"
      ]
    },
    {
      "cell_type": "code",
      "execution_count": null,
      "id": "4abf51bd",
      "metadata": {
        "id": "4abf51bd"
      },
      "outputs": [],
      "source": [
        "dfulltrain = xgb.DMatrix(X_full_train, label=y_full_train,\n",
        "                    feature_names=dv.get_feature_names())\n",
        "\n",
        "dtest = xgb.DMatrix(X_test, feature_names=dv.get_feature_names())"
      ]
    },
    {
      "cell_type": "code",
      "execution_count": null,
      "id": "d77e0221",
      "metadata": {
        "id": "d77e0221"
      },
      "outputs": [],
      "source": [
        "xgb_params = {\n",
        "    'eta': 0.1, \n",
        "    'max_depth': 3,\n",
        "    'min_child_weight': 1,\n",
        "\n",
        "    'objective': 'binary:logistic',\n",
        "    'eval_metric': 'auc',\n",
        "\n",
        "    'nthread': 8,\n",
        "    'seed': 1,\n",
        "    'verbosity': 1,\n",
        "}\n",
        "\n",
        "model = xgb.train(xgb_params, dfulltrain, num_boost_round=175)"
      ]
    },
    {
      "cell_type": "code",
      "execution_count": null,
      "id": "667da6cd",
      "metadata": {
        "id": "667da6cd"
      },
      "outputs": [],
      "source": [
        "y_pred = model.predict(dtest)"
      ]
    },
    {
      "cell_type": "code",
      "execution_count": null,
      "id": "936f74d3",
      "metadata": {
        "id": "936f74d3",
        "outputId": "2d74e08e-70df-4bbe-8774-2a5490be9565"
      },
      "outputs": [
        {
          "data": {
            "text/plain": [
              "0.8322662626460096"
            ]
          },
          "execution_count": 169,
          "metadata": {},
          "output_type": "execute_result"
        }
      ],
      "source": [
        "roc_auc_score(y_test, y_pred)"
      ]
    },
    {
      "cell_type": "markdown",
      "id": "4d28d67d",
      "metadata": {
        "id": "4d28d67d"
      },
      "source": [
        "## 6.10 Summary\n",
        "\n",
        "* Decision trees learn if-then-else rules from data.\n",
        "* Finding the best split: select the least impure split. This algorithm can overfit, that's why we control it by limiting the max depth and the size of the group.\n",
        "* Random forest is a way of combininig multiple decision trees. It should have a diverse set of models to make good predictions.\n",
        "* Gradient boosting trains model sequentially: each model tries to fix errors of the previous model. XGBoost is an implementation of gradient boosting. "
      ]
    },
    {
      "cell_type": "markdown",
      "id": "c3329e00",
      "metadata": {
        "id": "c3329e00"
      },
      "source": [
        "## 6.11 Explore more\n",
        "\n",
        "* For this dataset we didn't do EDA or feature engineering. You can do it to get more insights into the problem.\n",
        "* For random forest, there are more parameters that we can tune. Check `max_features` and `bootstrap`.\n",
        "* There's a variation of random forest caled \"extremely randomized trees\", or \"extra trees\". Instead of selecting the best split among all possible thresholds, it selects a few thresholds randomly and picks the best one among them. Because of that extra trees never overfit. In Scikit-Learn, they are implemented in `ExtraTreesClassifier`. Try it for this project.\n",
        "* XGBoost can deal with NAs - we don't have to do `fillna` for it. Check if not filling NA's help improve performance.\n",
        "* Experiment with other XGBoost parameters: `subsample` and `colsample_bytree`.\n",
        "* When selecting the best split, decision trees find the most useful features. This information can be used for understanding which features are more important than otheres. See example here for [random forest](https://scikit-learn.org/stable/auto_examples/ensemble/plot_forest_importances.html) (it's the same for plain decision trees) and for [xgboost](https://stackoverflow.com/questions/37627923/how-to-get-feature-importance-in-xgboost)\n",
        "* Trees can also be used for solving the regression problems: check `DecisionTreeRegressor`, `RandomForestRegressor` and the `objective=reg:squarederror` parameter for XGBoost."
      ]
    }
  ],
  "metadata": {
    "kernelspec": {
      "display_name": "Python 3 (ipykernel)",
      "language": "python",
      "name": "python3"
    },
    "language_info": {
      "codemirror_mode": {
        "name": "ipython",
        "version": 3
      },
      "file_extension": ".py",
      "mimetype": "text/x-python",
      "name": "python",
      "nbconvert_exporter": "python",
      "pygments_lexer": "ipython3",
      "version": "3.8.11"
    },
    "colab": {
      "provenance": [],
      "include_colab_link": true
    }
  },
  "nbformat": 4,
  "nbformat_minor": 5
}