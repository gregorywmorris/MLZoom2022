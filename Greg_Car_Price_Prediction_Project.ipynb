{
  "nbformat": 4,
  "nbformat_minor": 0,
  "metadata": {
    "colab": {
      "provenance": [],
      "include_colab_link": true
    },
    "kernelspec": {
      "name": "python3",
      "display_name": "Python 3"
    },
    "language_info": {
      "name": "python"
    }
  },
  "cells": [
    {
      "cell_type": "markdown",
      "metadata": {
        "id": "view-in-github",
        "colab_type": "text"
      },
      "source": [
        "<a href=\"https://colab.research.google.com/github/gregorywmorris/MLZoom2022/blob/main/Greg_Car_Price_Prediction_Project.ipynb\" target=\"_parent\"><img src=\"https://colab.research.google.com/assets/colab-badge.svg\" alt=\"Open In Colab\"/></a>"
      ]
    },
    {
      "cell_type": "code",
      "execution_count": 127,
      "metadata": {
        "id": "9syNVTcyeW17"
      },
      "outputs": [],
      "source": [
        "# Import Libraries\n",
        "import pandas as pd # Import Pandas library\n",
        "import numpy as np # Import NumPy\n",
        "\n",
        "import seaborn as sns\n",
        "from matplotlib import pyplot as pyplot\n",
        "%matplotlib inline\n",
        "# Allows the plot to be displayed in the notebook"
      ]
    },
    {
      "cell_type": "markdown",
      "source": [
        "## Section 2.1: The Car Price Prediction Project"
      ],
      "metadata": {
        "id": "s9hPJQZ0WLAT"
      }
    },
    {
      "cell_type": "markdown",
      "source": [
        "**RECALL:** In the first chapter, we discussed how to develop a model that would help users sell the car at an optimal price.\n",
        "\n",
        "The dataset for this car prediction project was obtained from a [Kaggle competition](https://www.kaggle.com/datasets/CooperUnion/cardataset).\n",
        "\n",
        "*   Prepar data and do an exploratory data analysis (EDA)\n",
        "*   Linear regression for predicting price\n",
        "*   Understand the internals of linear regression\n",
        "*   Evaluating the model with RMSE\n",
        "*   Feature engineering\n",
        "*   Regularization\n",
        "*   Using the model\n",
        "\n",
        "\n",
        "\n",
        "\n",
        "\n",
        "\n",
        "\n",
        "\n"
      ],
      "metadata": {
        "id": "7V8eOLdsWR4K"
      }
    },
    {
      "cell_type": "markdown",
      "source": [
        "## Section 2.2: Data Preparation"
      ],
      "metadata": {
        "id": "QhNrMz_rvNkg"
      }
    },
    {
      "cell_type": "code",
      "source": [
        "# Input the data from the URL.\n",
        "data = 'https://raw.githubusercontent.com/alexeygrigorev/mlbookcamp-code/master/chapter-02-car-price/data.csv'"
      ],
      "metadata": {
        "id": "1gD4X5cqxwns"
      },
      "execution_count": 128,
      "outputs": []
    },
    {
      "cell_type": "code",
      "source": [
        "!wget $data # Get the data."
      ],
      "metadata": {
        "colab": {
          "base_uri": "https://localhost:8080/"
        },
        "id": "551GKQvax6-A",
        "outputId": "75cc4b3c-0b0c-4b35-c36e-58ca62d20b15"
      },
      "execution_count": 129,
      "outputs": [
        {
          "output_type": "stream",
          "name": "stdout",
          "text": [
            "--2022-09-19 17:17:47--  https://raw.githubusercontent.com/alexeygrigorev/mlbookcamp-code/master/chapter-02-car-price/data.csv\n",
            "Resolving raw.githubusercontent.com (raw.githubusercontent.com)... 185.199.108.133, 185.199.109.133, 185.199.110.133, ...\n",
            "Connecting to raw.githubusercontent.com (raw.githubusercontent.com)|185.199.108.133|:443... connected.\n",
            "HTTP request sent, awaiting response... 200 OK\n",
            "Length: 1475504 (1.4M) [text/plain]\n",
            "Saving to: ‘data.csv.1’\n",
            "\n",
            "\rdata.csv.1            0%[                    ]       0  --.-KB/s               \rdata.csv.1          100%[===================>]   1.41M  --.-KB/s    in 0.009s  \n",
            "\n",
            "2022-09-19 17:17:48 (155 MB/s) - ‘data.csv.1’ saved [1475504/1475504]\n",
            "\n"
          ]
        }
      ]
    },
    {
      "cell_type": "code",
      "source": [
        "df = pd.read_csv('data.csv') # Load the data using the read_csv command; store\n",
        "# as a dataframe. Make sure to input the correct file name in the argument."
      ],
      "metadata": {
        "id": "oENLR7_HvI19"
      },
      "execution_count": 130,
      "outputs": []
    },
    {
      "cell_type": "code",
      "source": [
        "df.head() # Display the first five rows of the dataframe."
      ],
      "metadata": {
        "colab": {
          "base_uri": "https://localhost:8080/",
          "height": 0
        },
        "id": "ifpnwrITdk5C",
        "outputId": "d7a84f2f-893c-4d35-e214-3666240e703c"
      },
      "execution_count": 131,
      "outputs": [
        {
          "output_type": "execute_result",
          "data": {
            "text/plain": [
              "  Make       Model  Year             Engine Fuel Type  Engine HP  \\\n",
              "0  BMW  1 Series M  2011  premium unleaded (required)      335.0   \n",
              "1  BMW    1 Series  2011  premium unleaded (required)      300.0   \n",
              "2  BMW    1 Series  2011  premium unleaded (required)      300.0   \n",
              "3  BMW    1 Series  2011  premium unleaded (required)      230.0   \n",
              "4  BMW    1 Series  2011  premium unleaded (required)      230.0   \n",
              "\n",
              "   Engine Cylinders Transmission Type     Driven_Wheels  Number of Doors  \\\n",
              "0               6.0            MANUAL  rear wheel drive              2.0   \n",
              "1               6.0            MANUAL  rear wheel drive              2.0   \n",
              "2               6.0            MANUAL  rear wheel drive              2.0   \n",
              "3               6.0            MANUAL  rear wheel drive              2.0   \n",
              "4               6.0            MANUAL  rear wheel drive              2.0   \n",
              "\n",
              "                         Market Category Vehicle Size Vehicle Style  \\\n",
              "0  Factory Tuner,Luxury,High-Performance      Compact         Coupe   \n",
              "1                     Luxury,Performance      Compact   Convertible   \n",
              "2                Luxury,High-Performance      Compact         Coupe   \n",
              "3                     Luxury,Performance      Compact         Coupe   \n",
              "4                                 Luxury      Compact   Convertible   \n",
              "\n",
              "   highway MPG  city mpg  Popularity   MSRP  \n",
              "0           26        19        3916  46135  \n",
              "1           28        19        3916  40650  \n",
              "2           28        20        3916  36350  \n",
              "3           28        18        3916  29450  \n",
              "4           28        18        3916  34500  "
            ],
            "text/html": [
              "\n",
              "  <div id=\"df-08e03883-a604-4142-a664-c7dfb5e97814\">\n",
              "    <div class=\"colab-df-container\">\n",
              "      <div>\n",
              "<style scoped>\n",
              "    .dataframe tbody tr th:only-of-type {\n",
              "        vertical-align: middle;\n",
              "    }\n",
              "\n",
              "    .dataframe tbody tr th {\n",
              "        vertical-align: top;\n",
              "    }\n",
              "\n",
              "    .dataframe thead th {\n",
              "        text-align: right;\n",
              "    }\n",
              "</style>\n",
              "<table border=\"1\" class=\"dataframe\">\n",
              "  <thead>\n",
              "    <tr style=\"text-align: right;\">\n",
              "      <th></th>\n",
              "      <th>Make</th>\n",
              "      <th>Model</th>\n",
              "      <th>Year</th>\n",
              "      <th>Engine Fuel Type</th>\n",
              "      <th>Engine HP</th>\n",
              "      <th>Engine Cylinders</th>\n",
              "      <th>Transmission Type</th>\n",
              "      <th>Driven_Wheels</th>\n",
              "      <th>Number of Doors</th>\n",
              "      <th>Market Category</th>\n",
              "      <th>Vehicle Size</th>\n",
              "      <th>Vehicle Style</th>\n",
              "      <th>highway MPG</th>\n",
              "      <th>city mpg</th>\n",
              "      <th>Popularity</th>\n",
              "      <th>MSRP</th>\n",
              "    </tr>\n",
              "  </thead>\n",
              "  <tbody>\n",
              "    <tr>\n",
              "      <th>0</th>\n",
              "      <td>BMW</td>\n",
              "      <td>1 Series M</td>\n",
              "      <td>2011</td>\n",
              "      <td>premium unleaded (required)</td>\n",
              "      <td>335.0</td>\n",
              "      <td>6.0</td>\n",
              "      <td>MANUAL</td>\n",
              "      <td>rear wheel drive</td>\n",
              "      <td>2.0</td>\n",
              "      <td>Factory Tuner,Luxury,High-Performance</td>\n",
              "      <td>Compact</td>\n",
              "      <td>Coupe</td>\n",
              "      <td>26</td>\n",
              "      <td>19</td>\n",
              "      <td>3916</td>\n",
              "      <td>46135</td>\n",
              "    </tr>\n",
              "    <tr>\n",
              "      <th>1</th>\n",
              "      <td>BMW</td>\n",
              "      <td>1 Series</td>\n",
              "      <td>2011</td>\n",
              "      <td>premium unleaded (required)</td>\n",
              "      <td>300.0</td>\n",
              "      <td>6.0</td>\n",
              "      <td>MANUAL</td>\n",
              "      <td>rear wheel drive</td>\n",
              "      <td>2.0</td>\n",
              "      <td>Luxury,Performance</td>\n",
              "      <td>Compact</td>\n",
              "      <td>Convertible</td>\n",
              "      <td>28</td>\n",
              "      <td>19</td>\n",
              "      <td>3916</td>\n",
              "      <td>40650</td>\n",
              "    </tr>\n",
              "    <tr>\n",
              "      <th>2</th>\n",
              "      <td>BMW</td>\n",
              "      <td>1 Series</td>\n",
              "      <td>2011</td>\n",
              "      <td>premium unleaded (required)</td>\n",
              "      <td>300.0</td>\n",
              "      <td>6.0</td>\n",
              "      <td>MANUAL</td>\n",
              "      <td>rear wheel drive</td>\n",
              "      <td>2.0</td>\n",
              "      <td>Luxury,High-Performance</td>\n",
              "      <td>Compact</td>\n",
              "      <td>Coupe</td>\n",
              "      <td>28</td>\n",
              "      <td>20</td>\n",
              "      <td>3916</td>\n",
              "      <td>36350</td>\n",
              "    </tr>\n",
              "    <tr>\n",
              "      <th>3</th>\n",
              "      <td>BMW</td>\n",
              "      <td>1 Series</td>\n",
              "      <td>2011</td>\n",
              "      <td>premium unleaded (required)</td>\n",
              "      <td>230.0</td>\n",
              "      <td>6.0</td>\n",
              "      <td>MANUAL</td>\n",
              "      <td>rear wheel drive</td>\n",
              "      <td>2.0</td>\n",
              "      <td>Luxury,Performance</td>\n",
              "      <td>Compact</td>\n",
              "      <td>Coupe</td>\n",
              "      <td>28</td>\n",
              "      <td>18</td>\n",
              "      <td>3916</td>\n",
              "      <td>29450</td>\n",
              "    </tr>\n",
              "    <tr>\n",
              "      <th>4</th>\n",
              "      <td>BMW</td>\n",
              "      <td>1 Series</td>\n",
              "      <td>2011</td>\n",
              "      <td>premium unleaded (required)</td>\n",
              "      <td>230.0</td>\n",
              "      <td>6.0</td>\n",
              "      <td>MANUAL</td>\n",
              "      <td>rear wheel drive</td>\n",
              "      <td>2.0</td>\n",
              "      <td>Luxury</td>\n",
              "      <td>Compact</td>\n",
              "      <td>Convertible</td>\n",
              "      <td>28</td>\n",
              "      <td>18</td>\n",
              "      <td>3916</td>\n",
              "      <td>34500</td>\n",
              "    </tr>\n",
              "  </tbody>\n",
              "</table>\n",
              "</div>\n",
              "      <button class=\"colab-df-convert\" onclick=\"convertToInteractive('df-08e03883-a604-4142-a664-c7dfb5e97814')\"\n",
              "              title=\"Convert this dataframe to an interactive table.\"\n",
              "              style=\"display:none;\">\n",
              "        \n",
              "  <svg xmlns=\"http://www.w3.org/2000/svg\" height=\"24px\"viewBox=\"0 0 24 24\"\n",
              "       width=\"24px\">\n",
              "    <path d=\"M0 0h24v24H0V0z\" fill=\"none\"/>\n",
              "    <path d=\"M18.56 5.44l.94 2.06.94-2.06 2.06-.94-2.06-.94-.94-2.06-.94 2.06-2.06.94zm-11 1L8.5 8.5l.94-2.06 2.06-.94-2.06-.94L8.5 2.5l-.94 2.06-2.06.94zm10 10l.94 2.06.94-2.06 2.06-.94-2.06-.94-.94-2.06-.94 2.06-2.06.94z\"/><path d=\"M17.41 7.96l-1.37-1.37c-.4-.4-.92-.59-1.43-.59-.52 0-1.04.2-1.43.59L10.3 9.45l-7.72 7.72c-.78.78-.78 2.05 0 2.83L4 21.41c.39.39.9.59 1.41.59.51 0 1.02-.2 1.41-.59l7.78-7.78 2.81-2.81c.8-.78.8-2.07 0-2.86zM5.41 20L4 18.59l7.72-7.72 1.47 1.35L5.41 20z\"/>\n",
              "  </svg>\n",
              "      </button>\n",
              "      \n",
              "  <style>\n",
              "    .colab-df-container {\n",
              "      display:flex;\n",
              "      flex-wrap:wrap;\n",
              "      gap: 12px;\n",
              "    }\n",
              "\n",
              "    .colab-df-convert {\n",
              "      background-color: #E8F0FE;\n",
              "      border: none;\n",
              "      border-radius: 50%;\n",
              "      cursor: pointer;\n",
              "      display: none;\n",
              "      fill: #1967D2;\n",
              "      height: 32px;\n",
              "      padding: 0 0 0 0;\n",
              "      width: 32px;\n",
              "    }\n",
              "\n",
              "    .colab-df-convert:hover {\n",
              "      background-color: #E2EBFA;\n",
              "      box-shadow: 0px 1px 2px rgba(60, 64, 67, 0.3), 0px 1px 3px 1px rgba(60, 64, 67, 0.15);\n",
              "      fill: #174EA6;\n",
              "    }\n",
              "\n",
              "    [theme=dark] .colab-df-convert {\n",
              "      background-color: #3B4455;\n",
              "      fill: #D2E3FC;\n",
              "    }\n",
              "\n",
              "    [theme=dark] .colab-df-convert:hover {\n",
              "      background-color: #434B5C;\n",
              "      box-shadow: 0px 1px 3px 1px rgba(0, 0, 0, 0.15);\n",
              "      filter: drop-shadow(0px 1px 2px rgba(0, 0, 0, 0.3));\n",
              "      fill: #FFFFFF;\n",
              "    }\n",
              "  </style>\n",
              "\n",
              "      <script>\n",
              "        const buttonEl =\n",
              "          document.querySelector('#df-08e03883-a604-4142-a664-c7dfb5e97814 button.colab-df-convert');\n",
              "        buttonEl.style.display =\n",
              "          google.colab.kernel.accessAllowed ? 'block' : 'none';\n",
              "\n",
              "        async function convertToInteractive(key) {\n",
              "          const element = document.querySelector('#df-08e03883-a604-4142-a664-c7dfb5e97814');\n",
              "          const dataTable =\n",
              "            await google.colab.kernel.invokeFunction('convertToInteractive',\n",
              "                                                     [key], {});\n",
              "          if (!dataTable) return;\n",
              "\n",
              "          const docLinkHtml = 'Like what you see? Visit the ' +\n",
              "            '<a target=\"_blank\" href=https://colab.research.google.com/notebooks/data_table.ipynb>data table notebook</a>'\n",
              "            + ' to learn more about interactive tables.';\n",
              "          element.innerHTML = '';\n",
              "          dataTable['output_type'] = 'display_data';\n",
              "          await google.colab.output.renderOutput(dataTable, element);\n",
              "          const docLink = document.createElement('div');\n",
              "          docLink.innerHTML = docLinkHtml;\n",
              "          element.appendChild(docLink);\n",
              "        }\n",
              "      </script>\n",
              "    </div>\n",
              "  </div>\n",
              "  "
            ]
          },
          "metadata": {},
          "execution_count": 131
        }
      ]
    },
    {
      "cell_type": "markdown",
      "source": [
        "We need to do a bit of cleaning; start by adding some uniformity to the column headers."
      ],
      "metadata": {
        "id": "uWzBkMWTeBI0"
      }
    },
    {
      "cell_type": "markdown",
      "source": [
        "# Section 2.3 Exploritory Data Analysis"
      ],
      "metadata": {
        "id": "a6kvgza_4yFk"
      }
    },
    {
      "cell_type": "markdown",
      "source": [
        "## Normalize the Dataset"
      ],
      "metadata": {
        "id": "IvilIcnYedqx"
      }
    },
    {
      "cell_type": "code",
      "source": [
        "df.columns # Generate the column names to investigate."
      ],
      "metadata": {
        "colab": {
          "base_uri": "https://localhost:8080/"
        },
        "id": "lds1hkZ8dlFT",
        "outputId": "51f77641-f06f-41b1-c03e-88b1d5701a9b"
      },
      "execution_count": 132,
      "outputs": [
        {
          "output_type": "execute_result",
          "data": {
            "text/plain": [
              "Index(['Make', 'Model', 'Year', 'Engine Fuel Type', 'Engine HP',\n",
              "       'Engine Cylinders', 'Transmission Type', 'Driven_Wheels',\n",
              "       'Number of Doors', 'Market Category', 'Vehicle Size', 'Vehicle Style',\n",
              "       'highway MPG', 'city mpg', 'Popularity', 'MSRP'],\n",
              "      dtype='object')"
            ]
          },
          "metadata": {},
          "execution_count": 132
        }
      ]
    },
    {
      "cell_type": "code",
      "source": [
        "df.columns = df.columns.str.lower().str.replace(' ', '_') # Makes all of the strings for\n",
        "# column names lowercase; we can also chain with another string command to\n",
        "# replace the spaces in the strings with an underscore. Then, set our new\n",
        "# column equal to our column's dataframe."
      ],
      "metadata": {
        "id": "v9Ydw068dlOt"
      },
      "execution_count": 133,
      "outputs": []
    },
    {
      "cell_type": "code",
      "source": [
        "df.head() # Display the first five rows of the data frame to confirm changes and review next normaliztion needed. "
      ],
      "metadata": {
        "colab": {
          "base_uri": "https://localhost:8080/",
          "height": 0
        },
        "id": "miZvUWDcdlVm",
        "outputId": "f520c0bb-8f25-42ed-dd80-3e3e9344eac9"
      },
      "execution_count": 134,
      "outputs": [
        {
          "output_type": "execute_result",
          "data": {
            "text/plain": [
              "  make       model  year             engine_fuel_type  engine_hp  \\\n",
              "0  BMW  1 Series M  2011  premium unleaded (required)      335.0   \n",
              "1  BMW    1 Series  2011  premium unleaded (required)      300.0   \n",
              "2  BMW    1 Series  2011  premium unleaded (required)      300.0   \n",
              "3  BMW    1 Series  2011  premium unleaded (required)      230.0   \n",
              "4  BMW    1 Series  2011  premium unleaded (required)      230.0   \n",
              "\n",
              "   engine_cylinders transmission_type     driven_wheels  number_of_doors  \\\n",
              "0               6.0            MANUAL  rear wheel drive              2.0   \n",
              "1               6.0            MANUAL  rear wheel drive              2.0   \n",
              "2               6.0            MANUAL  rear wheel drive              2.0   \n",
              "3               6.0            MANUAL  rear wheel drive              2.0   \n",
              "4               6.0            MANUAL  rear wheel drive              2.0   \n",
              "\n",
              "                         market_category vehicle_size vehicle_style  \\\n",
              "0  Factory Tuner,Luxury,High-Performance      Compact         Coupe   \n",
              "1                     Luxury,Performance      Compact   Convertible   \n",
              "2                Luxury,High-Performance      Compact         Coupe   \n",
              "3                     Luxury,Performance      Compact         Coupe   \n",
              "4                                 Luxury      Compact   Convertible   \n",
              "\n",
              "   highway_mpg  city_mpg  popularity   msrp  \n",
              "0           26        19        3916  46135  \n",
              "1           28        19        3916  40650  \n",
              "2           28        20        3916  36350  \n",
              "3           28        18        3916  29450  \n",
              "4           28        18        3916  34500  "
            ],
            "text/html": [
              "\n",
              "  <div id=\"df-2be45d99-6032-425f-8e81-d828b2f2fab8\">\n",
              "    <div class=\"colab-df-container\">\n",
              "      <div>\n",
              "<style scoped>\n",
              "    .dataframe tbody tr th:only-of-type {\n",
              "        vertical-align: middle;\n",
              "    }\n",
              "\n",
              "    .dataframe tbody tr th {\n",
              "        vertical-align: top;\n",
              "    }\n",
              "\n",
              "    .dataframe thead th {\n",
              "        text-align: right;\n",
              "    }\n",
              "</style>\n",
              "<table border=\"1\" class=\"dataframe\">\n",
              "  <thead>\n",
              "    <tr style=\"text-align: right;\">\n",
              "      <th></th>\n",
              "      <th>make</th>\n",
              "      <th>model</th>\n",
              "      <th>year</th>\n",
              "      <th>engine_fuel_type</th>\n",
              "      <th>engine_hp</th>\n",
              "      <th>engine_cylinders</th>\n",
              "      <th>transmission_type</th>\n",
              "      <th>driven_wheels</th>\n",
              "      <th>number_of_doors</th>\n",
              "      <th>market_category</th>\n",
              "      <th>vehicle_size</th>\n",
              "      <th>vehicle_style</th>\n",
              "      <th>highway_mpg</th>\n",
              "      <th>city_mpg</th>\n",
              "      <th>popularity</th>\n",
              "      <th>msrp</th>\n",
              "    </tr>\n",
              "  </thead>\n",
              "  <tbody>\n",
              "    <tr>\n",
              "      <th>0</th>\n",
              "      <td>BMW</td>\n",
              "      <td>1 Series M</td>\n",
              "      <td>2011</td>\n",
              "      <td>premium unleaded (required)</td>\n",
              "      <td>335.0</td>\n",
              "      <td>6.0</td>\n",
              "      <td>MANUAL</td>\n",
              "      <td>rear wheel drive</td>\n",
              "      <td>2.0</td>\n",
              "      <td>Factory Tuner,Luxury,High-Performance</td>\n",
              "      <td>Compact</td>\n",
              "      <td>Coupe</td>\n",
              "      <td>26</td>\n",
              "      <td>19</td>\n",
              "      <td>3916</td>\n",
              "      <td>46135</td>\n",
              "    </tr>\n",
              "    <tr>\n",
              "      <th>1</th>\n",
              "      <td>BMW</td>\n",
              "      <td>1 Series</td>\n",
              "      <td>2011</td>\n",
              "      <td>premium unleaded (required)</td>\n",
              "      <td>300.0</td>\n",
              "      <td>6.0</td>\n",
              "      <td>MANUAL</td>\n",
              "      <td>rear wheel drive</td>\n",
              "      <td>2.0</td>\n",
              "      <td>Luxury,Performance</td>\n",
              "      <td>Compact</td>\n",
              "      <td>Convertible</td>\n",
              "      <td>28</td>\n",
              "      <td>19</td>\n",
              "      <td>3916</td>\n",
              "      <td>40650</td>\n",
              "    </tr>\n",
              "    <tr>\n",
              "      <th>2</th>\n",
              "      <td>BMW</td>\n",
              "      <td>1 Series</td>\n",
              "      <td>2011</td>\n",
              "      <td>premium unleaded (required)</td>\n",
              "      <td>300.0</td>\n",
              "      <td>6.0</td>\n",
              "      <td>MANUAL</td>\n",
              "      <td>rear wheel drive</td>\n",
              "      <td>2.0</td>\n",
              "      <td>Luxury,High-Performance</td>\n",
              "      <td>Compact</td>\n",
              "      <td>Coupe</td>\n",
              "      <td>28</td>\n",
              "      <td>20</td>\n",
              "      <td>3916</td>\n",
              "      <td>36350</td>\n",
              "    </tr>\n",
              "    <tr>\n",
              "      <th>3</th>\n",
              "      <td>BMW</td>\n",
              "      <td>1 Series</td>\n",
              "      <td>2011</td>\n",
              "      <td>premium unleaded (required)</td>\n",
              "      <td>230.0</td>\n",
              "      <td>6.0</td>\n",
              "      <td>MANUAL</td>\n",
              "      <td>rear wheel drive</td>\n",
              "      <td>2.0</td>\n",
              "      <td>Luxury,Performance</td>\n",
              "      <td>Compact</td>\n",
              "      <td>Coupe</td>\n",
              "      <td>28</td>\n",
              "      <td>18</td>\n",
              "      <td>3916</td>\n",
              "      <td>29450</td>\n",
              "    </tr>\n",
              "    <tr>\n",
              "      <th>4</th>\n",
              "      <td>BMW</td>\n",
              "      <td>1 Series</td>\n",
              "      <td>2011</td>\n",
              "      <td>premium unleaded (required)</td>\n",
              "      <td>230.0</td>\n",
              "      <td>6.0</td>\n",
              "      <td>MANUAL</td>\n",
              "      <td>rear wheel drive</td>\n",
              "      <td>2.0</td>\n",
              "      <td>Luxury</td>\n",
              "      <td>Compact</td>\n",
              "      <td>Convertible</td>\n",
              "      <td>28</td>\n",
              "      <td>18</td>\n",
              "      <td>3916</td>\n",
              "      <td>34500</td>\n",
              "    </tr>\n",
              "  </tbody>\n",
              "</table>\n",
              "</div>\n",
              "      <button class=\"colab-df-convert\" onclick=\"convertToInteractive('df-2be45d99-6032-425f-8e81-d828b2f2fab8')\"\n",
              "              title=\"Convert this dataframe to an interactive table.\"\n",
              "              style=\"display:none;\">\n",
              "        \n",
              "  <svg xmlns=\"http://www.w3.org/2000/svg\" height=\"24px\"viewBox=\"0 0 24 24\"\n",
              "       width=\"24px\">\n",
              "    <path d=\"M0 0h24v24H0V0z\" fill=\"none\"/>\n",
              "    <path d=\"M18.56 5.44l.94 2.06.94-2.06 2.06-.94-2.06-.94-.94-2.06-.94 2.06-2.06.94zm-11 1L8.5 8.5l.94-2.06 2.06-.94-2.06-.94L8.5 2.5l-.94 2.06-2.06.94zm10 10l.94 2.06.94-2.06 2.06-.94-2.06-.94-.94-2.06-.94 2.06-2.06.94z\"/><path d=\"M17.41 7.96l-1.37-1.37c-.4-.4-.92-.59-1.43-.59-.52 0-1.04.2-1.43.59L10.3 9.45l-7.72 7.72c-.78.78-.78 2.05 0 2.83L4 21.41c.39.39.9.59 1.41.59.51 0 1.02-.2 1.41-.59l7.78-7.78 2.81-2.81c.8-.78.8-2.07 0-2.86zM5.41 20L4 18.59l7.72-7.72 1.47 1.35L5.41 20z\"/>\n",
              "  </svg>\n",
              "      </button>\n",
              "      \n",
              "  <style>\n",
              "    .colab-df-container {\n",
              "      display:flex;\n",
              "      flex-wrap:wrap;\n",
              "      gap: 12px;\n",
              "    }\n",
              "\n",
              "    .colab-df-convert {\n",
              "      background-color: #E8F0FE;\n",
              "      border: none;\n",
              "      border-radius: 50%;\n",
              "      cursor: pointer;\n",
              "      display: none;\n",
              "      fill: #1967D2;\n",
              "      height: 32px;\n",
              "      padding: 0 0 0 0;\n",
              "      width: 32px;\n",
              "    }\n",
              "\n",
              "    .colab-df-convert:hover {\n",
              "      background-color: #E2EBFA;\n",
              "      box-shadow: 0px 1px 2px rgba(60, 64, 67, 0.3), 0px 1px 3px 1px rgba(60, 64, 67, 0.15);\n",
              "      fill: #174EA6;\n",
              "    }\n",
              "\n",
              "    [theme=dark] .colab-df-convert {\n",
              "      background-color: #3B4455;\n",
              "      fill: #D2E3FC;\n",
              "    }\n",
              "\n",
              "    [theme=dark] .colab-df-convert:hover {\n",
              "      background-color: #434B5C;\n",
              "      box-shadow: 0px 1px 3px 1px rgba(0, 0, 0, 0.15);\n",
              "      filter: drop-shadow(0px 1px 2px rgba(0, 0, 0, 0.3));\n",
              "      fill: #FFFFFF;\n",
              "    }\n",
              "  </style>\n",
              "\n",
              "      <script>\n",
              "        const buttonEl =\n",
              "          document.querySelector('#df-2be45d99-6032-425f-8e81-d828b2f2fab8 button.colab-df-convert');\n",
              "        buttonEl.style.display =\n",
              "          google.colab.kernel.accessAllowed ? 'block' : 'none';\n",
              "\n",
              "        async function convertToInteractive(key) {\n",
              "          const element = document.querySelector('#df-2be45d99-6032-425f-8e81-d828b2f2fab8');\n",
              "          const dataTable =\n",
              "            await google.colab.kernel.invokeFunction('convertToInteractive',\n",
              "                                                     [key], {});\n",
              "          if (!dataTable) return;\n",
              "\n",
              "          const docLinkHtml = 'Like what you see? Visit the ' +\n",
              "            '<a target=\"_blank\" href=https://colab.research.google.com/notebooks/data_table.ipynb>data table notebook</a>'\n",
              "            + ' to learn more about interactive tables.';\n",
              "          element.innerHTML = '';\n",
              "          dataTable['output_type'] = 'display_data';\n",
              "          await google.colab.output.renderOutput(dataTable, element);\n",
              "          const docLink = document.createElement('div');\n",
              "          docLink.innerHTML = docLinkHtml;\n",
              "          element.appendChild(docLink);\n",
              "        }\n",
              "      </script>\n",
              "    </div>\n",
              "  </div>\n",
              "  "
            ]
          },
          "metadata": {},
          "execution_count": 134
        }
      ]
    },
    {
      "cell_type": "markdown",
      "source": [
        "We observe that the elements in the series are not standardized. So, we need to apply consistency.\n",
        "\n",
        "String operations will not work on numerical values, so we need to sort the data."
      ],
      "metadata": {
        "id": "1WNTxs89hV83"
      }
    },
    {
      "cell_type": "code",
      "source": [
        "df.dtypes # Displays all of the data types for each column so that we can identify the data types and then normalize them."
      ],
      "metadata": {
        "colab": {
          "base_uri": "https://localhost:8080/"
        },
        "id": "lpEHXHMudlbq",
        "outputId": "8d621ad8-b739-4a5b-e366-df506457e234"
      },
      "execution_count": 135,
      "outputs": [
        {
          "output_type": "execute_result",
          "data": {
            "text/plain": [
              "make                  object\n",
              "model                 object\n",
              "year                   int64\n",
              "engine_fuel_type      object\n",
              "engine_hp            float64\n",
              "engine_cylinders     float64\n",
              "transmission_type     object\n",
              "driven_wheels         object\n",
              "number_of_doors      float64\n",
              "market_category       object\n",
              "vehicle_size          object\n",
              "vehicle_style         object\n",
              "highway_mpg            int64\n",
              "city_mpg               int64\n",
              "popularity             int64\n",
              "msrp                   int64\n",
              "dtype: object"
            ]
          },
          "metadata": {},
          "execution_count": 135
        }
      ]
    },
    {
      "cell_type": "markdown",
      "source": [
        "\n",
        "\n",
        "*   strings = object\n",
        "*   integers = int64\n",
        "*   numerical values w/ decimal = float64\n",
        "\n",
        "\n",
        "\n"
      ],
      "metadata": {
        "id": "8GrttOKHimhp"
      }
    },
    {
      "cell_type": "code",
      "source": [
        "# We are interested in strings.\n",
        "df.dtypes == 'object' # Displays a boolean to indicate which column outputs\n",
        "# strings."
      ],
      "metadata": {
        "colab": {
          "base_uri": "https://localhost:8080/"
        },
        "id": "mphqo_27iZ0s",
        "outputId": "e0f72b49-484f-4b03-dfb6-d40449093f60"
      },
      "execution_count": 136,
      "outputs": [
        {
          "output_type": "execute_result",
          "data": {
            "text/plain": [
              "make                  True\n",
              "model                 True\n",
              "year                 False\n",
              "engine_fuel_type      True\n",
              "engine_hp            False\n",
              "engine_cylinders     False\n",
              "transmission_type     True\n",
              "driven_wheels         True\n",
              "number_of_doors      False\n",
              "market_category       True\n",
              "vehicle_size          True\n",
              "vehicle_style         True\n",
              "highway_mpg          False\n",
              "city_mpg             False\n",
              "popularity           False\n",
              "msrp                 False\n",
              "dtype: bool"
            ]
          },
          "metadata": {},
          "execution_count": 136
        }
      ]
    },
    {
      "cell_type": "code",
      "source": [
        "df.dtypes[df.dtypes == 'object'] # Extracts only the columns which have strings."
      ],
      "metadata": {
        "colab": {
          "base_uri": "https://localhost:8080/"
        },
        "id": "jRsfKSSMiZ5o",
        "outputId": "f99b2e26-64f3-4cc7-e235-dd82219ce357"
      },
      "execution_count": 137,
      "outputs": [
        {
          "output_type": "execute_result",
          "data": {
            "text/plain": [
              "make                 object\n",
              "model                object\n",
              "engine_fuel_type     object\n",
              "transmission_type    object\n",
              "driven_wheels        object\n",
              "market_category      object\n",
              "vehicle_size         object\n",
              "vehicle_style        object\n",
              "dtype: object"
            ]
          },
          "metadata": {},
          "execution_count": 137
        }
      ]
    },
    {
      "cell_type": "markdown",
      "source": [
        "The objects are all values in the series, the column headers are the indexes in the series. We need to access the indexes."
      ],
      "metadata": {
        "id": "xWH1_NQYkckK"
      }
    },
    {
      "cell_type": "code",
      "source": [
        "# Identify the columns that are strings, object type.\n",
        "df.dtypes[df.dtypes == 'object'].index"
      ],
      "metadata": {
        "colab": {
          "base_uri": "https://localhost:8080/"
        },
        "id": "zNfis5B-iZ9V",
        "outputId": "f091cfbe-4f24-4967-c672-2cd6673b5a39"
      },
      "execution_count": 138,
      "outputs": [
        {
          "output_type": "execute_result",
          "data": {
            "text/plain": [
              "Index(['make', 'model', 'engine_fuel_type', 'transmission_type',\n",
              "       'driven_wheels', 'market_category', 'vehicle_size', 'vehicle_style'],\n",
              "      dtype='object')"
            ]
          },
          "metadata": {},
          "execution_count": 138
        }
      ]
    },
    {
      "cell_type": "code",
      "source": [
        "# We can convert them to a python list (for no particular reason) and store it\n",
        "# as a variable, strings:\n",
        "strings = list(df.dtypes[df.dtypes == 'object'].index)"
      ],
      "metadata": {
        "id": "TVW_8G7uiZ_8"
      },
      "execution_count": 139,
      "outputs": []
    },
    {
      "cell_type": "code",
      "source": [
        "strings # Display strings"
      ],
      "metadata": {
        "colab": {
          "base_uri": "https://localhost:8080/"
        },
        "id": "GKhO1HhoiaCz",
        "outputId": "a78c27cc-9b6b-4e73-8df5-5c50e7379434"
      },
      "execution_count": 140,
      "outputs": [
        {
          "output_type": "execute_result",
          "data": {
            "text/plain": [
              "['make',\n",
              " 'model',\n",
              " 'engine_fuel_type',\n",
              " 'transmission_type',\n",
              " 'driven_wheels',\n",
              " 'market_category',\n",
              " 'vehicle_size',\n",
              " 'vehicle_style']"
            ]
          },
          "metadata": {},
          "execution_count": 140
        }
      ]
    },
    {
      "cell_type": "markdown",
      "source": [
        "We can loop over the column names."
      ],
      "metadata": {
        "id": "Jul7H66Pno3R"
      }
    },
    {
      "cell_type": "code",
      "source": [
        "df['make'].str.lower().str.replace(' ', '_') # Sets all characters in the make\n",
        "# column to be lowercase and replaces all the spaces with underscores."
      ],
      "metadata": {
        "colab": {
          "base_uri": "https://localhost:8080/"
        },
        "id": "CpkoIcP9oKHb",
        "outputId": "9af46044-a681-4e83-ff7d-e5a32f1713de"
      },
      "execution_count": 141,
      "outputs": [
        {
          "output_type": "execute_result",
          "data": {
            "text/plain": [
              "0            bmw\n",
              "1            bmw\n",
              "2            bmw\n",
              "3            bmw\n",
              "4            bmw\n",
              "          ...   \n",
              "11909      acura\n",
              "11910      acura\n",
              "11911      acura\n",
              "11912      acura\n",
              "11913    lincoln\n",
              "Name: make, Length: 11914, dtype: object"
            ]
          },
          "metadata": {},
          "execution_count": 141
        }
      ]
    },
    {
      "cell_type": "markdown",
      "source": [
        "We want to perform the operation we just did for the make column to all the other columns."
      ],
      "metadata": {
        "id": "_J3k-pfhoogk"
      }
    },
    {
      "cell_type": "code",
      "source": [
        "for col in strings: #strings is the variable created above\n",
        "  df[col] = df[col].str.lower().str.replace(' ', '_')\n",
        "\n",
        "# This for loop runs the previous operation in a systemic fashion throughout\n",
        "# the remaining columns and stores it as df[col]."
      ],
      "metadata": {
        "id": "59esV3Rtl2c0"
      },
      "execution_count": 142,
      "outputs": []
    },
    {
      "cell_type": "code",
      "source": [
        "df.head() # Display the first five rows of the dataframe."
      ],
      "metadata": {
        "colab": {
          "base_uri": "https://localhost:8080/",
          "height": 0
        },
        "id": "kl3uv8AXl2wu",
        "outputId": "77640157-02ea-4ad8-ad33-d4a18fe5b871"
      },
      "execution_count": 143,
      "outputs": [
        {
          "output_type": "execute_result",
          "data": {
            "text/plain": [
              "  make       model  year             engine_fuel_type  engine_hp  \\\n",
              "0  bmw  1_series_m  2011  premium_unleaded_(required)      335.0   \n",
              "1  bmw    1_series  2011  premium_unleaded_(required)      300.0   \n",
              "2  bmw    1_series  2011  premium_unleaded_(required)      300.0   \n",
              "3  bmw    1_series  2011  premium_unleaded_(required)      230.0   \n",
              "4  bmw    1_series  2011  premium_unleaded_(required)      230.0   \n",
              "\n",
              "   engine_cylinders transmission_type     driven_wheels  number_of_doors  \\\n",
              "0               6.0            manual  rear_wheel_drive              2.0   \n",
              "1               6.0            manual  rear_wheel_drive              2.0   \n",
              "2               6.0            manual  rear_wheel_drive              2.0   \n",
              "3               6.0            manual  rear_wheel_drive              2.0   \n",
              "4               6.0            manual  rear_wheel_drive              2.0   \n",
              "\n",
              "                         market_category vehicle_size vehicle_style  \\\n",
              "0  factory_tuner,luxury,high-performance      compact         coupe   \n",
              "1                     luxury,performance      compact   convertible   \n",
              "2                luxury,high-performance      compact         coupe   \n",
              "3                     luxury,performance      compact         coupe   \n",
              "4                                 luxury      compact   convertible   \n",
              "\n",
              "   highway_mpg  city_mpg  popularity   msrp  \n",
              "0           26        19        3916  46135  \n",
              "1           28        19        3916  40650  \n",
              "2           28        20        3916  36350  \n",
              "3           28        18        3916  29450  \n",
              "4           28        18        3916  34500  "
            ],
            "text/html": [
              "\n",
              "  <div id=\"df-62b7b90d-3f40-4349-9776-04c38d64e892\">\n",
              "    <div class=\"colab-df-container\">\n",
              "      <div>\n",
              "<style scoped>\n",
              "    .dataframe tbody tr th:only-of-type {\n",
              "        vertical-align: middle;\n",
              "    }\n",
              "\n",
              "    .dataframe tbody tr th {\n",
              "        vertical-align: top;\n",
              "    }\n",
              "\n",
              "    .dataframe thead th {\n",
              "        text-align: right;\n",
              "    }\n",
              "</style>\n",
              "<table border=\"1\" class=\"dataframe\">\n",
              "  <thead>\n",
              "    <tr style=\"text-align: right;\">\n",
              "      <th></th>\n",
              "      <th>make</th>\n",
              "      <th>model</th>\n",
              "      <th>year</th>\n",
              "      <th>engine_fuel_type</th>\n",
              "      <th>engine_hp</th>\n",
              "      <th>engine_cylinders</th>\n",
              "      <th>transmission_type</th>\n",
              "      <th>driven_wheels</th>\n",
              "      <th>number_of_doors</th>\n",
              "      <th>market_category</th>\n",
              "      <th>vehicle_size</th>\n",
              "      <th>vehicle_style</th>\n",
              "      <th>highway_mpg</th>\n",
              "      <th>city_mpg</th>\n",
              "      <th>popularity</th>\n",
              "      <th>msrp</th>\n",
              "    </tr>\n",
              "  </thead>\n",
              "  <tbody>\n",
              "    <tr>\n",
              "      <th>0</th>\n",
              "      <td>bmw</td>\n",
              "      <td>1_series_m</td>\n",
              "      <td>2011</td>\n",
              "      <td>premium_unleaded_(required)</td>\n",
              "      <td>335.0</td>\n",
              "      <td>6.0</td>\n",
              "      <td>manual</td>\n",
              "      <td>rear_wheel_drive</td>\n",
              "      <td>2.0</td>\n",
              "      <td>factory_tuner,luxury,high-performance</td>\n",
              "      <td>compact</td>\n",
              "      <td>coupe</td>\n",
              "      <td>26</td>\n",
              "      <td>19</td>\n",
              "      <td>3916</td>\n",
              "      <td>46135</td>\n",
              "    </tr>\n",
              "    <tr>\n",
              "      <th>1</th>\n",
              "      <td>bmw</td>\n",
              "      <td>1_series</td>\n",
              "      <td>2011</td>\n",
              "      <td>premium_unleaded_(required)</td>\n",
              "      <td>300.0</td>\n",
              "      <td>6.0</td>\n",
              "      <td>manual</td>\n",
              "      <td>rear_wheel_drive</td>\n",
              "      <td>2.0</td>\n",
              "      <td>luxury,performance</td>\n",
              "      <td>compact</td>\n",
              "      <td>convertible</td>\n",
              "      <td>28</td>\n",
              "      <td>19</td>\n",
              "      <td>3916</td>\n",
              "      <td>40650</td>\n",
              "    </tr>\n",
              "    <tr>\n",
              "      <th>2</th>\n",
              "      <td>bmw</td>\n",
              "      <td>1_series</td>\n",
              "      <td>2011</td>\n",
              "      <td>premium_unleaded_(required)</td>\n",
              "      <td>300.0</td>\n",
              "      <td>6.0</td>\n",
              "      <td>manual</td>\n",
              "      <td>rear_wheel_drive</td>\n",
              "      <td>2.0</td>\n",
              "      <td>luxury,high-performance</td>\n",
              "      <td>compact</td>\n",
              "      <td>coupe</td>\n",
              "      <td>28</td>\n",
              "      <td>20</td>\n",
              "      <td>3916</td>\n",
              "      <td>36350</td>\n",
              "    </tr>\n",
              "    <tr>\n",
              "      <th>3</th>\n",
              "      <td>bmw</td>\n",
              "      <td>1_series</td>\n",
              "      <td>2011</td>\n",
              "      <td>premium_unleaded_(required)</td>\n",
              "      <td>230.0</td>\n",
              "      <td>6.0</td>\n",
              "      <td>manual</td>\n",
              "      <td>rear_wheel_drive</td>\n",
              "      <td>2.0</td>\n",
              "      <td>luxury,performance</td>\n",
              "      <td>compact</td>\n",
              "      <td>coupe</td>\n",
              "      <td>28</td>\n",
              "      <td>18</td>\n",
              "      <td>3916</td>\n",
              "      <td>29450</td>\n",
              "    </tr>\n",
              "    <tr>\n",
              "      <th>4</th>\n",
              "      <td>bmw</td>\n",
              "      <td>1_series</td>\n",
              "      <td>2011</td>\n",
              "      <td>premium_unleaded_(required)</td>\n",
              "      <td>230.0</td>\n",
              "      <td>6.0</td>\n",
              "      <td>manual</td>\n",
              "      <td>rear_wheel_drive</td>\n",
              "      <td>2.0</td>\n",
              "      <td>luxury</td>\n",
              "      <td>compact</td>\n",
              "      <td>convertible</td>\n",
              "      <td>28</td>\n",
              "      <td>18</td>\n",
              "      <td>3916</td>\n",
              "      <td>34500</td>\n",
              "    </tr>\n",
              "  </tbody>\n",
              "</table>\n",
              "</div>\n",
              "      <button class=\"colab-df-convert\" onclick=\"convertToInteractive('df-62b7b90d-3f40-4349-9776-04c38d64e892')\"\n",
              "              title=\"Convert this dataframe to an interactive table.\"\n",
              "              style=\"display:none;\">\n",
              "        \n",
              "  <svg xmlns=\"http://www.w3.org/2000/svg\" height=\"24px\"viewBox=\"0 0 24 24\"\n",
              "       width=\"24px\">\n",
              "    <path d=\"M0 0h24v24H0V0z\" fill=\"none\"/>\n",
              "    <path d=\"M18.56 5.44l.94 2.06.94-2.06 2.06-.94-2.06-.94-.94-2.06-.94 2.06-2.06.94zm-11 1L8.5 8.5l.94-2.06 2.06-.94-2.06-.94L8.5 2.5l-.94 2.06-2.06.94zm10 10l.94 2.06.94-2.06 2.06-.94-2.06-.94-.94-2.06-.94 2.06-2.06.94z\"/><path d=\"M17.41 7.96l-1.37-1.37c-.4-.4-.92-.59-1.43-.59-.52 0-1.04.2-1.43.59L10.3 9.45l-7.72 7.72c-.78.78-.78 2.05 0 2.83L4 21.41c.39.39.9.59 1.41.59.51 0 1.02-.2 1.41-.59l7.78-7.78 2.81-2.81c.8-.78.8-2.07 0-2.86zM5.41 20L4 18.59l7.72-7.72 1.47 1.35L5.41 20z\"/>\n",
              "  </svg>\n",
              "      </button>\n",
              "      \n",
              "  <style>\n",
              "    .colab-df-container {\n",
              "      display:flex;\n",
              "      flex-wrap:wrap;\n",
              "      gap: 12px;\n",
              "    }\n",
              "\n",
              "    .colab-df-convert {\n",
              "      background-color: #E8F0FE;\n",
              "      border: none;\n",
              "      border-radius: 50%;\n",
              "      cursor: pointer;\n",
              "      display: none;\n",
              "      fill: #1967D2;\n",
              "      height: 32px;\n",
              "      padding: 0 0 0 0;\n",
              "      width: 32px;\n",
              "    }\n",
              "\n",
              "    .colab-df-convert:hover {\n",
              "      background-color: #E2EBFA;\n",
              "      box-shadow: 0px 1px 2px rgba(60, 64, 67, 0.3), 0px 1px 3px 1px rgba(60, 64, 67, 0.15);\n",
              "      fill: #174EA6;\n",
              "    }\n",
              "\n",
              "    [theme=dark] .colab-df-convert {\n",
              "      background-color: #3B4455;\n",
              "      fill: #D2E3FC;\n",
              "    }\n",
              "\n",
              "    [theme=dark] .colab-df-convert:hover {\n",
              "      background-color: #434B5C;\n",
              "      box-shadow: 0px 1px 3px 1px rgba(0, 0, 0, 0.15);\n",
              "      filter: drop-shadow(0px 1px 2px rgba(0, 0, 0, 0.3));\n",
              "      fill: #FFFFFF;\n",
              "    }\n",
              "  </style>\n",
              "\n",
              "      <script>\n",
              "        const buttonEl =\n",
              "          document.querySelector('#df-62b7b90d-3f40-4349-9776-04c38d64e892 button.colab-df-convert');\n",
              "        buttonEl.style.display =\n",
              "          google.colab.kernel.accessAllowed ? 'block' : 'none';\n",
              "\n",
              "        async function convertToInteractive(key) {\n",
              "          const element = document.querySelector('#df-62b7b90d-3f40-4349-9776-04c38d64e892');\n",
              "          const dataTable =\n",
              "            await google.colab.kernel.invokeFunction('convertToInteractive',\n",
              "                                                     [key], {});\n",
              "          if (!dataTable) return;\n",
              "\n",
              "          const docLinkHtml = 'Like what you see? Visit the ' +\n",
              "            '<a target=\"_blank\" href=https://colab.research.google.com/notebooks/data_table.ipynb>data table notebook</a>'\n",
              "            + ' to learn more about interactive tables.';\n",
              "          element.innerHTML = '';\n",
              "          dataTable['output_type'] = 'display_data';\n",
              "          await google.colab.output.renderOutput(dataTable, element);\n",
              "          const docLink = document.createElement('div');\n",
              "          docLink.innerHTML = docLinkHtml;\n",
              "          element.appendChild(docLink);\n",
              "        }\n",
              "      </script>\n",
              "    </div>\n",
              "  </div>\n",
              "  "
            ]
          },
          "metadata": {},
          "execution_count": 143
        }
      ]
    },
    {
      "cell_type": "code",
      "source": [
        "df.dtypes # Display the column data types."
      ],
      "metadata": {
        "colab": {
          "base_uri": "https://localhost:8080/"
        },
        "id": "0_skOPA8l27D",
        "outputId": "858da5c9-d71b-4638-9da1-04d3b8aef23a"
      },
      "execution_count": 144,
      "outputs": [
        {
          "output_type": "execute_result",
          "data": {
            "text/plain": [
              "make                  object\n",
              "model                 object\n",
              "year                   int64\n",
              "engine_fuel_type      object\n",
              "engine_hp            float64\n",
              "engine_cylinders     float64\n",
              "transmission_type     object\n",
              "driven_wheels         object\n",
              "number_of_doors      float64\n",
              "market_category       object\n",
              "vehicle_size          object\n",
              "vehicle_style         object\n",
              "highway_mpg            int64\n",
              "city_mpg               int64\n",
              "popularity             int64\n",
              "msrp                   int64\n",
              "dtype: object"
            ]
          },
          "metadata": {},
          "execution_count": 144
        }
      ]
    },
    {
      "cell_type": "markdown",
      "source": [
        "## Section 2.3: Exploratory Data Analysis"
      ],
      "metadata": {
        "id": "GNIajaUWqC0m"
      }
    },
    {
      "cell_type": "code",
      "source": [
        "df # Display the dataframe."
      ],
      "metadata": {
        "colab": {
          "base_uri": "https://localhost:8080/",
          "height": 0
        },
        "id": "mrWo_k23qCHA",
        "outputId": "67869641-86ea-4a20-b56f-165ad1134b15"
      },
      "execution_count": 145,
      "outputs": [
        {
          "output_type": "execute_result",
          "data": {
            "text/plain": [
              "          make       model  year                engine_fuel_type  engine_hp  \\\n",
              "0          bmw  1_series_m  2011     premium_unleaded_(required)      335.0   \n",
              "1          bmw    1_series  2011     premium_unleaded_(required)      300.0   \n",
              "2          bmw    1_series  2011     premium_unleaded_(required)      300.0   \n",
              "3          bmw    1_series  2011     premium_unleaded_(required)      230.0   \n",
              "4          bmw    1_series  2011     premium_unleaded_(required)      230.0   \n",
              "...        ...         ...   ...                             ...        ...   \n",
              "11909    acura         zdx  2012     premium_unleaded_(required)      300.0   \n",
              "11910    acura         zdx  2012     premium_unleaded_(required)      300.0   \n",
              "11911    acura         zdx  2012     premium_unleaded_(required)      300.0   \n",
              "11912    acura         zdx  2013  premium_unleaded_(recommended)      300.0   \n",
              "11913  lincoln      zephyr  2006                regular_unleaded      221.0   \n",
              "\n",
              "       engine_cylinders transmission_type      driven_wheels  number_of_doors  \\\n",
              "0                   6.0            manual   rear_wheel_drive              2.0   \n",
              "1                   6.0            manual   rear_wheel_drive              2.0   \n",
              "2                   6.0            manual   rear_wheel_drive              2.0   \n",
              "3                   6.0            manual   rear_wheel_drive              2.0   \n",
              "4                   6.0            manual   rear_wheel_drive              2.0   \n",
              "...                 ...               ...                ...              ...   \n",
              "11909               6.0         automatic    all_wheel_drive              4.0   \n",
              "11910               6.0         automatic    all_wheel_drive              4.0   \n",
              "11911               6.0         automatic    all_wheel_drive              4.0   \n",
              "11912               6.0         automatic    all_wheel_drive              4.0   \n",
              "11913               6.0         automatic  front_wheel_drive              4.0   \n",
              "\n",
              "                             market_category vehicle_size  vehicle_style  \\\n",
              "0      factory_tuner,luxury,high-performance      compact          coupe   \n",
              "1                         luxury,performance      compact    convertible   \n",
              "2                    luxury,high-performance      compact          coupe   \n",
              "3                         luxury,performance      compact          coupe   \n",
              "4                                     luxury      compact    convertible   \n",
              "...                                      ...          ...            ...   \n",
              "11909             crossover,hatchback,luxury      midsize  4dr_hatchback   \n",
              "11910             crossover,hatchback,luxury      midsize  4dr_hatchback   \n",
              "11911             crossover,hatchback,luxury      midsize  4dr_hatchback   \n",
              "11912             crossover,hatchback,luxury      midsize  4dr_hatchback   \n",
              "11913                                 luxury      midsize          sedan   \n",
              "\n",
              "       highway_mpg  city_mpg  popularity   msrp  \n",
              "0               26        19        3916  46135  \n",
              "1               28        19        3916  40650  \n",
              "2               28        20        3916  36350  \n",
              "3               28        18        3916  29450  \n",
              "4               28        18        3916  34500  \n",
              "...            ...       ...         ...    ...  \n",
              "11909           23        16         204  46120  \n",
              "11910           23        16         204  56670  \n",
              "11911           23        16         204  50620  \n",
              "11912           23        16         204  50920  \n",
              "11913           26        17          61  28995  \n",
              "\n",
              "[11914 rows x 16 columns]"
            ],
            "text/html": [
              "\n",
              "  <div id=\"df-5830e4d9-ad97-436b-819d-2f24c75f312e\">\n",
              "    <div class=\"colab-df-container\">\n",
              "      <div>\n",
              "<style scoped>\n",
              "    .dataframe tbody tr th:only-of-type {\n",
              "        vertical-align: middle;\n",
              "    }\n",
              "\n",
              "    .dataframe tbody tr th {\n",
              "        vertical-align: top;\n",
              "    }\n",
              "\n",
              "    .dataframe thead th {\n",
              "        text-align: right;\n",
              "    }\n",
              "</style>\n",
              "<table border=\"1\" class=\"dataframe\">\n",
              "  <thead>\n",
              "    <tr style=\"text-align: right;\">\n",
              "      <th></th>\n",
              "      <th>make</th>\n",
              "      <th>model</th>\n",
              "      <th>year</th>\n",
              "      <th>engine_fuel_type</th>\n",
              "      <th>engine_hp</th>\n",
              "      <th>engine_cylinders</th>\n",
              "      <th>transmission_type</th>\n",
              "      <th>driven_wheels</th>\n",
              "      <th>number_of_doors</th>\n",
              "      <th>market_category</th>\n",
              "      <th>vehicle_size</th>\n",
              "      <th>vehicle_style</th>\n",
              "      <th>highway_mpg</th>\n",
              "      <th>city_mpg</th>\n",
              "      <th>popularity</th>\n",
              "      <th>msrp</th>\n",
              "    </tr>\n",
              "  </thead>\n",
              "  <tbody>\n",
              "    <tr>\n",
              "      <th>0</th>\n",
              "      <td>bmw</td>\n",
              "      <td>1_series_m</td>\n",
              "      <td>2011</td>\n",
              "      <td>premium_unleaded_(required)</td>\n",
              "      <td>335.0</td>\n",
              "      <td>6.0</td>\n",
              "      <td>manual</td>\n",
              "      <td>rear_wheel_drive</td>\n",
              "      <td>2.0</td>\n",
              "      <td>factory_tuner,luxury,high-performance</td>\n",
              "      <td>compact</td>\n",
              "      <td>coupe</td>\n",
              "      <td>26</td>\n",
              "      <td>19</td>\n",
              "      <td>3916</td>\n",
              "      <td>46135</td>\n",
              "    </tr>\n",
              "    <tr>\n",
              "      <th>1</th>\n",
              "      <td>bmw</td>\n",
              "      <td>1_series</td>\n",
              "      <td>2011</td>\n",
              "      <td>premium_unleaded_(required)</td>\n",
              "      <td>300.0</td>\n",
              "      <td>6.0</td>\n",
              "      <td>manual</td>\n",
              "      <td>rear_wheel_drive</td>\n",
              "      <td>2.0</td>\n",
              "      <td>luxury,performance</td>\n",
              "      <td>compact</td>\n",
              "      <td>convertible</td>\n",
              "      <td>28</td>\n",
              "      <td>19</td>\n",
              "      <td>3916</td>\n",
              "      <td>40650</td>\n",
              "    </tr>\n",
              "    <tr>\n",
              "      <th>2</th>\n",
              "      <td>bmw</td>\n",
              "      <td>1_series</td>\n",
              "      <td>2011</td>\n",
              "      <td>premium_unleaded_(required)</td>\n",
              "      <td>300.0</td>\n",
              "      <td>6.0</td>\n",
              "      <td>manual</td>\n",
              "      <td>rear_wheel_drive</td>\n",
              "      <td>2.0</td>\n",
              "      <td>luxury,high-performance</td>\n",
              "      <td>compact</td>\n",
              "      <td>coupe</td>\n",
              "      <td>28</td>\n",
              "      <td>20</td>\n",
              "      <td>3916</td>\n",
              "      <td>36350</td>\n",
              "    </tr>\n",
              "    <tr>\n",
              "      <th>3</th>\n",
              "      <td>bmw</td>\n",
              "      <td>1_series</td>\n",
              "      <td>2011</td>\n",
              "      <td>premium_unleaded_(required)</td>\n",
              "      <td>230.0</td>\n",
              "      <td>6.0</td>\n",
              "      <td>manual</td>\n",
              "      <td>rear_wheel_drive</td>\n",
              "      <td>2.0</td>\n",
              "      <td>luxury,performance</td>\n",
              "      <td>compact</td>\n",
              "      <td>coupe</td>\n",
              "      <td>28</td>\n",
              "      <td>18</td>\n",
              "      <td>3916</td>\n",
              "      <td>29450</td>\n",
              "    </tr>\n",
              "    <tr>\n",
              "      <th>4</th>\n",
              "      <td>bmw</td>\n",
              "      <td>1_series</td>\n",
              "      <td>2011</td>\n",
              "      <td>premium_unleaded_(required)</td>\n",
              "      <td>230.0</td>\n",
              "      <td>6.0</td>\n",
              "      <td>manual</td>\n",
              "      <td>rear_wheel_drive</td>\n",
              "      <td>2.0</td>\n",
              "      <td>luxury</td>\n",
              "      <td>compact</td>\n",
              "      <td>convertible</td>\n",
              "      <td>28</td>\n",
              "      <td>18</td>\n",
              "      <td>3916</td>\n",
              "      <td>34500</td>\n",
              "    </tr>\n",
              "    <tr>\n",
              "      <th>...</th>\n",
              "      <td>...</td>\n",
              "      <td>...</td>\n",
              "      <td>...</td>\n",
              "      <td>...</td>\n",
              "      <td>...</td>\n",
              "      <td>...</td>\n",
              "      <td>...</td>\n",
              "      <td>...</td>\n",
              "      <td>...</td>\n",
              "      <td>...</td>\n",
              "      <td>...</td>\n",
              "      <td>...</td>\n",
              "      <td>...</td>\n",
              "      <td>...</td>\n",
              "      <td>...</td>\n",
              "      <td>...</td>\n",
              "    </tr>\n",
              "    <tr>\n",
              "      <th>11909</th>\n",
              "      <td>acura</td>\n",
              "      <td>zdx</td>\n",
              "      <td>2012</td>\n",
              "      <td>premium_unleaded_(required)</td>\n",
              "      <td>300.0</td>\n",
              "      <td>6.0</td>\n",
              "      <td>automatic</td>\n",
              "      <td>all_wheel_drive</td>\n",
              "      <td>4.0</td>\n",
              "      <td>crossover,hatchback,luxury</td>\n",
              "      <td>midsize</td>\n",
              "      <td>4dr_hatchback</td>\n",
              "      <td>23</td>\n",
              "      <td>16</td>\n",
              "      <td>204</td>\n",
              "      <td>46120</td>\n",
              "    </tr>\n",
              "    <tr>\n",
              "      <th>11910</th>\n",
              "      <td>acura</td>\n",
              "      <td>zdx</td>\n",
              "      <td>2012</td>\n",
              "      <td>premium_unleaded_(required)</td>\n",
              "      <td>300.0</td>\n",
              "      <td>6.0</td>\n",
              "      <td>automatic</td>\n",
              "      <td>all_wheel_drive</td>\n",
              "      <td>4.0</td>\n",
              "      <td>crossover,hatchback,luxury</td>\n",
              "      <td>midsize</td>\n",
              "      <td>4dr_hatchback</td>\n",
              "      <td>23</td>\n",
              "      <td>16</td>\n",
              "      <td>204</td>\n",
              "      <td>56670</td>\n",
              "    </tr>\n",
              "    <tr>\n",
              "      <th>11911</th>\n",
              "      <td>acura</td>\n",
              "      <td>zdx</td>\n",
              "      <td>2012</td>\n",
              "      <td>premium_unleaded_(required)</td>\n",
              "      <td>300.0</td>\n",
              "      <td>6.0</td>\n",
              "      <td>automatic</td>\n",
              "      <td>all_wheel_drive</td>\n",
              "      <td>4.0</td>\n",
              "      <td>crossover,hatchback,luxury</td>\n",
              "      <td>midsize</td>\n",
              "      <td>4dr_hatchback</td>\n",
              "      <td>23</td>\n",
              "      <td>16</td>\n",
              "      <td>204</td>\n",
              "      <td>50620</td>\n",
              "    </tr>\n",
              "    <tr>\n",
              "      <th>11912</th>\n",
              "      <td>acura</td>\n",
              "      <td>zdx</td>\n",
              "      <td>2013</td>\n",
              "      <td>premium_unleaded_(recommended)</td>\n",
              "      <td>300.0</td>\n",
              "      <td>6.0</td>\n",
              "      <td>automatic</td>\n",
              "      <td>all_wheel_drive</td>\n",
              "      <td>4.0</td>\n",
              "      <td>crossover,hatchback,luxury</td>\n",
              "      <td>midsize</td>\n",
              "      <td>4dr_hatchback</td>\n",
              "      <td>23</td>\n",
              "      <td>16</td>\n",
              "      <td>204</td>\n",
              "      <td>50920</td>\n",
              "    </tr>\n",
              "    <tr>\n",
              "      <th>11913</th>\n",
              "      <td>lincoln</td>\n",
              "      <td>zephyr</td>\n",
              "      <td>2006</td>\n",
              "      <td>regular_unleaded</td>\n",
              "      <td>221.0</td>\n",
              "      <td>6.0</td>\n",
              "      <td>automatic</td>\n",
              "      <td>front_wheel_drive</td>\n",
              "      <td>4.0</td>\n",
              "      <td>luxury</td>\n",
              "      <td>midsize</td>\n",
              "      <td>sedan</td>\n",
              "      <td>26</td>\n",
              "      <td>17</td>\n",
              "      <td>61</td>\n",
              "      <td>28995</td>\n",
              "    </tr>\n",
              "  </tbody>\n",
              "</table>\n",
              "<p>11914 rows × 16 columns</p>\n",
              "</div>\n",
              "      <button class=\"colab-df-convert\" onclick=\"convertToInteractive('df-5830e4d9-ad97-436b-819d-2f24c75f312e')\"\n",
              "              title=\"Convert this dataframe to an interactive table.\"\n",
              "              style=\"display:none;\">\n",
              "        \n",
              "  <svg xmlns=\"http://www.w3.org/2000/svg\" height=\"24px\"viewBox=\"0 0 24 24\"\n",
              "       width=\"24px\">\n",
              "    <path d=\"M0 0h24v24H0V0z\" fill=\"none\"/>\n",
              "    <path d=\"M18.56 5.44l.94 2.06.94-2.06 2.06-.94-2.06-.94-.94-2.06-.94 2.06-2.06.94zm-11 1L8.5 8.5l.94-2.06 2.06-.94-2.06-.94L8.5 2.5l-.94 2.06-2.06.94zm10 10l.94 2.06.94-2.06 2.06-.94-2.06-.94-.94-2.06-.94 2.06-2.06.94z\"/><path d=\"M17.41 7.96l-1.37-1.37c-.4-.4-.92-.59-1.43-.59-.52 0-1.04.2-1.43.59L10.3 9.45l-7.72 7.72c-.78.78-.78 2.05 0 2.83L4 21.41c.39.39.9.59 1.41.59.51 0 1.02-.2 1.41-.59l7.78-7.78 2.81-2.81c.8-.78.8-2.07 0-2.86zM5.41 20L4 18.59l7.72-7.72 1.47 1.35L5.41 20z\"/>\n",
              "  </svg>\n",
              "      </button>\n",
              "      \n",
              "  <style>\n",
              "    .colab-df-container {\n",
              "      display:flex;\n",
              "      flex-wrap:wrap;\n",
              "      gap: 12px;\n",
              "    }\n",
              "\n",
              "    .colab-df-convert {\n",
              "      background-color: #E8F0FE;\n",
              "      border: none;\n",
              "      border-radius: 50%;\n",
              "      cursor: pointer;\n",
              "      display: none;\n",
              "      fill: #1967D2;\n",
              "      height: 32px;\n",
              "      padding: 0 0 0 0;\n",
              "      width: 32px;\n",
              "    }\n",
              "\n",
              "    .colab-df-convert:hover {\n",
              "      background-color: #E2EBFA;\n",
              "      box-shadow: 0px 1px 2px rgba(60, 64, 67, 0.3), 0px 1px 3px 1px rgba(60, 64, 67, 0.15);\n",
              "      fill: #174EA6;\n",
              "    }\n",
              "\n",
              "    [theme=dark] .colab-df-convert {\n",
              "      background-color: #3B4455;\n",
              "      fill: #D2E3FC;\n",
              "    }\n",
              "\n",
              "    [theme=dark] .colab-df-convert:hover {\n",
              "      background-color: #434B5C;\n",
              "      box-shadow: 0px 1px 3px 1px rgba(0, 0, 0, 0.15);\n",
              "      filter: drop-shadow(0px 1px 2px rgba(0, 0, 0, 0.3));\n",
              "      fill: #FFFFFF;\n",
              "    }\n",
              "  </style>\n",
              "\n",
              "      <script>\n",
              "        const buttonEl =\n",
              "          document.querySelector('#df-5830e4d9-ad97-436b-819d-2f24c75f312e button.colab-df-convert');\n",
              "        buttonEl.style.display =\n",
              "          google.colab.kernel.accessAllowed ? 'block' : 'none';\n",
              "\n",
              "        async function convertToInteractive(key) {\n",
              "          const element = document.querySelector('#df-5830e4d9-ad97-436b-819d-2f24c75f312e');\n",
              "          const dataTable =\n",
              "            await google.colab.kernel.invokeFunction('convertToInteractive',\n",
              "                                                     [key], {});\n",
              "          if (!dataTable) return;\n",
              "\n",
              "          const docLinkHtml = 'Like what you see? Visit the ' +\n",
              "            '<a target=\"_blank\" href=https://colab.research.google.com/notebooks/data_table.ipynb>data table notebook</a>'\n",
              "            + ' to learn more about interactive tables.';\n",
              "          element.innerHTML = '';\n",
              "          dataTable['output_type'] = 'display_data';\n",
              "          await google.colab.output.renderOutput(dataTable, element);\n",
              "          const docLink = document.createElement('div');\n",
              "          docLink.innerHTML = docLinkHtml;\n",
              "          element.appendChild(docLink);\n",
              "        }\n",
              "      </script>\n",
              "    </div>\n",
              "  </div>\n",
              "  "
            ]
          },
          "metadata": {},
          "execution_count": 145
        }
      ]
    },
    {
      "cell_type": "code",
      "source": [
        "df.columns # Display the columns."
      ],
      "metadata": {
        "colab": {
          "base_uri": "https://localhost:8080/"
        },
        "id": "aB4-FcDYl3CA",
        "outputId": "afd15093-ebc7-461a-da30-4f8c137c1659"
      },
      "execution_count": 146,
      "outputs": [
        {
          "output_type": "execute_result",
          "data": {
            "text/plain": [
              "Index(['make', 'model', 'year', 'engine_fuel_type', 'engine_hp',\n",
              "       'engine_cylinders', 'transmission_type', 'driven_wheels',\n",
              "       'number_of_doors', 'market_category', 'vehicle_size', 'vehicle_style',\n",
              "       'highway_mpg', 'city_mpg', 'popularity', 'msrp'],\n",
              "      dtype='object')"
            ]
          },
          "metadata": {},
          "execution_count": 146
        }
      ]
    },
    {
      "cell_type": "code",
      "source": [
        "# We can iterate over the columns in order to print specific information:\n",
        "for col in df.columns:\n",
        "  print(col)\n",
        "  print(df[col].head())\n",
        "  print()\n",
        "# This iteration prints the first five values of each column."
      ],
      "metadata": {
        "colab": {
          "base_uri": "https://localhost:8080/"
        },
        "id": "ijocu3espyVs",
        "outputId": "b945a7c2-dec8-4655-8497-ecf2ffe5b64a"
      },
      "execution_count": 147,
      "outputs": [
        {
          "output_type": "stream",
          "name": "stdout",
          "text": [
            "make\n",
            "0    bmw\n",
            "1    bmw\n",
            "2    bmw\n",
            "3    bmw\n",
            "4    bmw\n",
            "Name: make, dtype: object\n",
            "\n",
            "model\n",
            "0    1_series_m\n",
            "1      1_series\n",
            "2      1_series\n",
            "3      1_series\n",
            "4      1_series\n",
            "Name: model, dtype: object\n",
            "\n",
            "year\n",
            "0    2011\n",
            "1    2011\n",
            "2    2011\n",
            "3    2011\n",
            "4    2011\n",
            "Name: year, dtype: int64\n",
            "\n",
            "engine_fuel_type\n",
            "0    premium_unleaded_(required)\n",
            "1    premium_unleaded_(required)\n",
            "2    premium_unleaded_(required)\n",
            "3    premium_unleaded_(required)\n",
            "4    premium_unleaded_(required)\n",
            "Name: engine_fuel_type, dtype: object\n",
            "\n",
            "engine_hp\n",
            "0    335.0\n",
            "1    300.0\n",
            "2    300.0\n",
            "3    230.0\n",
            "4    230.0\n",
            "Name: engine_hp, dtype: float64\n",
            "\n",
            "engine_cylinders\n",
            "0    6.0\n",
            "1    6.0\n",
            "2    6.0\n",
            "3    6.0\n",
            "4    6.0\n",
            "Name: engine_cylinders, dtype: float64\n",
            "\n",
            "transmission_type\n",
            "0    manual\n",
            "1    manual\n",
            "2    manual\n",
            "3    manual\n",
            "4    manual\n",
            "Name: transmission_type, dtype: object\n",
            "\n",
            "driven_wheels\n",
            "0    rear_wheel_drive\n",
            "1    rear_wheel_drive\n",
            "2    rear_wheel_drive\n",
            "3    rear_wheel_drive\n",
            "4    rear_wheel_drive\n",
            "Name: driven_wheels, dtype: object\n",
            "\n",
            "number_of_doors\n",
            "0    2.0\n",
            "1    2.0\n",
            "2    2.0\n",
            "3    2.0\n",
            "4    2.0\n",
            "Name: number_of_doors, dtype: float64\n",
            "\n",
            "market_category\n",
            "0    factory_tuner,luxury,high-performance\n",
            "1                       luxury,performance\n",
            "2                  luxury,high-performance\n",
            "3                       luxury,performance\n",
            "4                                   luxury\n",
            "Name: market_category, dtype: object\n",
            "\n",
            "vehicle_size\n",
            "0    compact\n",
            "1    compact\n",
            "2    compact\n",
            "3    compact\n",
            "4    compact\n",
            "Name: vehicle_size, dtype: object\n",
            "\n",
            "vehicle_style\n",
            "0          coupe\n",
            "1    convertible\n",
            "2          coupe\n",
            "3          coupe\n",
            "4    convertible\n",
            "Name: vehicle_style, dtype: object\n",
            "\n",
            "highway_mpg\n",
            "0    26\n",
            "1    28\n",
            "2    28\n",
            "3    28\n",
            "4    28\n",
            "Name: highway_mpg, dtype: int64\n",
            "\n",
            "city_mpg\n",
            "0    19\n",
            "1    19\n",
            "2    20\n",
            "3    18\n",
            "4    18\n",
            "Name: city_mpg, dtype: int64\n",
            "\n",
            "popularity\n",
            "0    3916\n",
            "1    3916\n",
            "2    3916\n",
            "3    3916\n",
            "4    3916\n",
            "Name: popularity, dtype: int64\n",
            "\n",
            "msrp\n",
            "0    46135\n",
            "1    40650\n",
            "2    36350\n",
            "3    29450\n",
            "4    34500\n",
            "Name: msrp, dtype: int64\n",
            "\n"
          ]
        }
      ]
    },
    {
      "cell_type": "markdown",
      "source": [
        "## Returning Unique Values"
      ],
      "metadata": {
        "id": "SdwVNRxCyyf9"
      }
    },
    {
      "cell_type": "code",
      "source": [
        "for col in df.columns:\n",
        "  print(col) # column name\n",
        "  print(df[col].unique()[:5]) # Print the first five unique values of each column.\n",
        "  print(df[col].nunique()) # Print the unique values for the entire column.\n",
        "  print() # line break"
      ],
      "metadata": {
        "colab": {
          "base_uri": "https://localhost:8080/"
        },
        "id": "lLxwAxampyeH",
        "outputId": "a9033925-8f99-43a5-9449-f5f5102bbaf8"
      },
      "execution_count": 148,
      "outputs": [
        {
          "output_type": "stream",
          "name": "stdout",
          "text": [
            "make\n",
            "['bmw' 'audi' 'fiat' 'mercedes-benz' 'chrysler']\n",
            "48\n",
            "\n",
            "model\n",
            "['1_series_m' '1_series' '100' '124_spider' '190-class']\n",
            "914\n",
            "\n",
            "year\n",
            "[2011 2012 2013 1992 1993]\n",
            "28\n",
            "\n",
            "engine_fuel_type\n",
            "['premium_unleaded_(required)' 'regular_unleaded'\n",
            " 'premium_unleaded_(recommended)' 'flex-fuel_(unleaded/e85)' 'diesel']\n",
            "10\n",
            "\n",
            "engine_hp\n",
            "[335. 300. 230. 320. 172.]\n",
            "356\n",
            "\n",
            "engine_cylinders\n",
            "[ 6.  4.  5.  8. 12.]\n",
            "9\n",
            "\n",
            "transmission_type\n",
            "['manual' 'automatic' 'automated_manual' 'direct_drive' 'unknown']\n",
            "5\n",
            "\n",
            "driven_wheels\n",
            "['rear_wheel_drive' 'front_wheel_drive' 'all_wheel_drive'\n",
            " 'four_wheel_drive']\n",
            "4\n",
            "\n",
            "number_of_doors\n",
            "[ 2.  4.  3. nan]\n",
            "3\n",
            "\n",
            "market_category\n",
            "['factory_tuner,luxury,high-performance' 'luxury,performance'\n",
            " 'luxury,high-performance' 'luxury' 'performance']\n",
            "71\n",
            "\n",
            "vehicle_size\n",
            "['compact' 'midsize' 'large']\n",
            "3\n",
            "\n",
            "vehicle_style\n",
            "['coupe' 'convertible' 'sedan' 'wagon' '4dr_hatchback']\n",
            "16\n",
            "\n",
            "highway_mpg\n",
            "[26 28 27 25 24]\n",
            "59\n",
            "\n",
            "city_mpg\n",
            "[19 20 18 17 16]\n",
            "69\n",
            "\n",
            "popularity\n",
            "[3916 3105  819  617 1013]\n",
            "48\n",
            "\n",
            "msrp\n",
            "[46135 40650 36350 29450 34500]\n",
            "6049\n",
            "\n"
          ]
        }
      ]
    },
    {
      "cell_type": "markdown",
      "source": [],
      "metadata": {
        "id": "c1DG0XkTyr-E"
      }
    },
    {
      "cell_type": "markdown",
      "source": [
        "## Visualization"
      ],
      "metadata": {
        "id": "I7bYj_yyy8TM"
      }
    },
    {
      "cell_type": "code",
      "source": [
        "df # Display data frame - we will next look at the MSRP column."
      ],
      "metadata": {
        "colab": {
          "base_uri": "https://localhost:8080/",
          "height": 0
        },
        "id": "blgx6oSppyk7",
        "outputId": "68c15285-b47c-44f2-cdd8-b38aa985559f"
      },
      "execution_count": 149,
      "outputs": [
        {
          "output_type": "execute_result",
          "data": {
            "text/plain": [
              "          make       model  year                engine_fuel_type  engine_hp  \\\n",
              "0          bmw  1_series_m  2011     premium_unleaded_(required)      335.0   \n",
              "1          bmw    1_series  2011     premium_unleaded_(required)      300.0   \n",
              "2          bmw    1_series  2011     premium_unleaded_(required)      300.0   \n",
              "3          bmw    1_series  2011     premium_unleaded_(required)      230.0   \n",
              "4          bmw    1_series  2011     premium_unleaded_(required)      230.0   \n",
              "...        ...         ...   ...                             ...        ...   \n",
              "11909    acura         zdx  2012     premium_unleaded_(required)      300.0   \n",
              "11910    acura         zdx  2012     premium_unleaded_(required)      300.0   \n",
              "11911    acura         zdx  2012     premium_unleaded_(required)      300.0   \n",
              "11912    acura         zdx  2013  premium_unleaded_(recommended)      300.0   \n",
              "11913  lincoln      zephyr  2006                regular_unleaded      221.0   \n",
              "\n",
              "       engine_cylinders transmission_type      driven_wheels  number_of_doors  \\\n",
              "0                   6.0            manual   rear_wheel_drive              2.0   \n",
              "1                   6.0            manual   rear_wheel_drive              2.0   \n",
              "2                   6.0            manual   rear_wheel_drive              2.0   \n",
              "3                   6.0            manual   rear_wheel_drive              2.0   \n",
              "4                   6.0            manual   rear_wheel_drive              2.0   \n",
              "...                 ...               ...                ...              ...   \n",
              "11909               6.0         automatic    all_wheel_drive              4.0   \n",
              "11910               6.0         automatic    all_wheel_drive              4.0   \n",
              "11911               6.0         automatic    all_wheel_drive              4.0   \n",
              "11912               6.0         automatic    all_wheel_drive              4.0   \n",
              "11913               6.0         automatic  front_wheel_drive              4.0   \n",
              "\n",
              "                             market_category vehicle_size  vehicle_style  \\\n",
              "0      factory_tuner,luxury,high-performance      compact          coupe   \n",
              "1                         luxury,performance      compact    convertible   \n",
              "2                    luxury,high-performance      compact          coupe   \n",
              "3                         luxury,performance      compact          coupe   \n",
              "4                                     luxury      compact    convertible   \n",
              "...                                      ...          ...            ...   \n",
              "11909             crossover,hatchback,luxury      midsize  4dr_hatchback   \n",
              "11910             crossover,hatchback,luxury      midsize  4dr_hatchback   \n",
              "11911             crossover,hatchback,luxury      midsize  4dr_hatchback   \n",
              "11912             crossover,hatchback,luxury      midsize  4dr_hatchback   \n",
              "11913                                 luxury      midsize          sedan   \n",
              "\n",
              "       highway_mpg  city_mpg  popularity   msrp  \n",
              "0               26        19        3916  46135  \n",
              "1               28        19        3916  40650  \n",
              "2               28        20        3916  36350  \n",
              "3               28        18        3916  29450  \n",
              "4               28        18        3916  34500  \n",
              "...            ...       ...         ...    ...  \n",
              "11909           23        16         204  46120  \n",
              "11910           23        16         204  56670  \n",
              "11911           23        16         204  50620  \n",
              "11912           23        16         204  50920  \n",
              "11913           26        17          61  28995  \n",
              "\n",
              "[11914 rows x 16 columns]"
            ],
            "text/html": [
              "\n",
              "  <div id=\"df-cb75094f-f2ed-4523-bb12-8bb7be0fee36\">\n",
              "    <div class=\"colab-df-container\">\n",
              "      <div>\n",
              "<style scoped>\n",
              "    .dataframe tbody tr th:only-of-type {\n",
              "        vertical-align: middle;\n",
              "    }\n",
              "\n",
              "    .dataframe tbody tr th {\n",
              "        vertical-align: top;\n",
              "    }\n",
              "\n",
              "    .dataframe thead th {\n",
              "        text-align: right;\n",
              "    }\n",
              "</style>\n",
              "<table border=\"1\" class=\"dataframe\">\n",
              "  <thead>\n",
              "    <tr style=\"text-align: right;\">\n",
              "      <th></th>\n",
              "      <th>make</th>\n",
              "      <th>model</th>\n",
              "      <th>year</th>\n",
              "      <th>engine_fuel_type</th>\n",
              "      <th>engine_hp</th>\n",
              "      <th>engine_cylinders</th>\n",
              "      <th>transmission_type</th>\n",
              "      <th>driven_wheels</th>\n",
              "      <th>number_of_doors</th>\n",
              "      <th>market_category</th>\n",
              "      <th>vehicle_size</th>\n",
              "      <th>vehicle_style</th>\n",
              "      <th>highway_mpg</th>\n",
              "      <th>city_mpg</th>\n",
              "      <th>popularity</th>\n",
              "      <th>msrp</th>\n",
              "    </tr>\n",
              "  </thead>\n",
              "  <tbody>\n",
              "    <tr>\n",
              "      <th>0</th>\n",
              "      <td>bmw</td>\n",
              "      <td>1_series_m</td>\n",
              "      <td>2011</td>\n",
              "      <td>premium_unleaded_(required)</td>\n",
              "      <td>335.0</td>\n",
              "      <td>6.0</td>\n",
              "      <td>manual</td>\n",
              "      <td>rear_wheel_drive</td>\n",
              "      <td>2.0</td>\n",
              "      <td>factory_tuner,luxury,high-performance</td>\n",
              "      <td>compact</td>\n",
              "      <td>coupe</td>\n",
              "      <td>26</td>\n",
              "      <td>19</td>\n",
              "      <td>3916</td>\n",
              "      <td>46135</td>\n",
              "    </tr>\n",
              "    <tr>\n",
              "      <th>1</th>\n",
              "      <td>bmw</td>\n",
              "      <td>1_series</td>\n",
              "      <td>2011</td>\n",
              "      <td>premium_unleaded_(required)</td>\n",
              "      <td>300.0</td>\n",
              "      <td>6.0</td>\n",
              "      <td>manual</td>\n",
              "      <td>rear_wheel_drive</td>\n",
              "      <td>2.0</td>\n",
              "      <td>luxury,performance</td>\n",
              "      <td>compact</td>\n",
              "      <td>convertible</td>\n",
              "      <td>28</td>\n",
              "      <td>19</td>\n",
              "      <td>3916</td>\n",
              "      <td>40650</td>\n",
              "    </tr>\n",
              "    <tr>\n",
              "      <th>2</th>\n",
              "      <td>bmw</td>\n",
              "      <td>1_series</td>\n",
              "      <td>2011</td>\n",
              "      <td>premium_unleaded_(required)</td>\n",
              "      <td>300.0</td>\n",
              "      <td>6.0</td>\n",
              "      <td>manual</td>\n",
              "      <td>rear_wheel_drive</td>\n",
              "      <td>2.0</td>\n",
              "      <td>luxury,high-performance</td>\n",
              "      <td>compact</td>\n",
              "      <td>coupe</td>\n",
              "      <td>28</td>\n",
              "      <td>20</td>\n",
              "      <td>3916</td>\n",
              "      <td>36350</td>\n",
              "    </tr>\n",
              "    <tr>\n",
              "      <th>3</th>\n",
              "      <td>bmw</td>\n",
              "      <td>1_series</td>\n",
              "      <td>2011</td>\n",
              "      <td>premium_unleaded_(required)</td>\n",
              "      <td>230.0</td>\n",
              "      <td>6.0</td>\n",
              "      <td>manual</td>\n",
              "      <td>rear_wheel_drive</td>\n",
              "      <td>2.0</td>\n",
              "      <td>luxury,performance</td>\n",
              "      <td>compact</td>\n",
              "      <td>coupe</td>\n",
              "      <td>28</td>\n",
              "      <td>18</td>\n",
              "      <td>3916</td>\n",
              "      <td>29450</td>\n",
              "    </tr>\n",
              "    <tr>\n",
              "      <th>4</th>\n",
              "      <td>bmw</td>\n",
              "      <td>1_series</td>\n",
              "      <td>2011</td>\n",
              "      <td>premium_unleaded_(required)</td>\n",
              "      <td>230.0</td>\n",
              "      <td>6.0</td>\n",
              "      <td>manual</td>\n",
              "      <td>rear_wheel_drive</td>\n",
              "      <td>2.0</td>\n",
              "      <td>luxury</td>\n",
              "      <td>compact</td>\n",
              "      <td>convertible</td>\n",
              "      <td>28</td>\n",
              "      <td>18</td>\n",
              "      <td>3916</td>\n",
              "      <td>34500</td>\n",
              "    </tr>\n",
              "    <tr>\n",
              "      <th>...</th>\n",
              "      <td>...</td>\n",
              "      <td>...</td>\n",
              "      <td>...</td>\n",
              "      <td>...</td>\n",
              "      <td>...</td>\n",
              "      <td>...</td>\n",
              "      <td>...</td>\n",
              "      <td>...</td>\n",
              "      <td>...</td>\n",
              "      <td>...</td>\n",
              "      <td>...</td>\n",
              "      <td>...</td>\n",
              "      <td>...</td>\n",
              "      <td>...</td>\n",
              "      <td>...</td>\n",
              "      <td>...</td>\n",
              "    </tr>\n",
              "    <tr>\n",
              "      <th>11909</th>\n",
              "      <td>acura</td>\n",
              "      <td>zdx</td>\n",
              "      <td>2012</td>\n",
              "      <td>premium_unleaded_(required)</td>\n",
              "      <td>300.0</td>\n",
              "      <td>6.0</td>\n",
              "      <td>automatic</td>\n",
              "      <td>all_wheel_drive</td>\n",
              "      <td>4.0</td>\n",
              "      <td>crossover,hatchback,luxury</td>\n",
              "      <td>midsize</td>\n",
              "      <td>4dr_hatchback</td>\n",
              "      <td>23</td>\n",
              "      <td>16</td>\n",
              "      <td>204</td>\n",
              "      <td>46120</td>\n",
              "    </tr>\n",
              "    <tr>\n",
              "      <th>11910</th>\n",
              "      <td>acura</td>\n",
              "      <td>zdx</td>\n",
              "      <td>2012</td>\n",
              "      <td>premium_unleaded_(required)</td>\n",
              "      <td>300.0</td>\n",
              "      <td>6.0</td>\n",
              "      <td>automatic</td>\n",
              "      <td>all_wheel_drive</td>\n",
              "      <td>4.0</td>\n",
              "      <td>crossover,hatchback,luxury</td>\n",
              "      <td>midsize</td>\n",
              "      <td>4dr_hatchback</td>\n",
              "      <td>23</td>\n",
              "      <td>16</td>\n",
              "      <td>204</td>\n",
              "      <td>56670</td>\n",
              "    </tr>\n",
              "    <tr>\n",
              "      <th>11911</th>\n",
              "      <td>acura</td>\n",
              "      <td>zdx</td>\n",
              "      <td>2012</td>\n",
              "      <td>premium_unleaded_(required)</td>\n",
              "      <td>300.0</td>\n",
              "      <td>6.0</td>\n",
              "      <td>automatic</td>\n",
              "      <td>all_wheel_drive</td>\n",
              "      <td>4.0</td>\n",
              "      <td>crossover,hatchback,luxury</td>\n",
              "      <td>midsize</td>\n",
              "      <td>4dr_hatchback</td>\n",
              "      <td>23</td>\n",
              "      <td>16</td>\n",
              "      <td>204</td>\n",
              "      <td>50620</td>\n",
              "    </tr>\n",
              "    <tr>\n",
              "      <th>11912</th>\n",
              "      <td>acura</td>\n",
              "      <td>zdx</td>\n",
              "      <td>2013</td>\n",
              "      <td>premium_unleaded_(recommended)</td>\n",
              "      <td>300.0</td>\n",
              "      <td>6.0</td>\n",
              "      <td>automatic</td>\n",
              "      <td>all_wheel_drive</td>\n",
              "      <td>4.0</td>\n",
              "      <td>crossover,hatchback,luxury</td>\n",
              "      <td>midsize</td>\n",
              "      <td>4dr_hatchback</td>\n",
              "      <td>23</td>\n",
              "      <td>16</td>\n",
              "      <td>204</td>\n",
              "      <td>50920</td>\n",
              "    </tr>\n",
              "    <tr>\n",
              "      <th>11913</th>\n",
              "      <td>lincoln</td>\n",
              "      <td>zephyr</td>\n",
              "      <td>2006</td>\n",
              "      <td>regular_unleaded</td>\n",
              "      <td>221.0</td>\n",
              "      <td>6.0</td>\n",
              "      <td>automatic</td>\n",
              "      <td>front_wheel_drive</td>\n",
              "      <td>4.0</td>\n",
              "      <td>luxury</td>\n",
              "      <td>midsize</td>\n",
              "      <td>sedan</td>\n",
              "      <td>26</td>\n",
              "      <td>17</td>\n",
              "      <td>61</td>\n",
              "      <td>28995</td>\n",
              "    </tr>\n",
              "  </tbody>\n",
              "</table>\n",
              "<p>11914 rows × 16 columns</p>\n",
              "</div>\n",
              "      <button class=\"colab-df-convert\" onclick=\"convertToInteractive('df-cb75094f-f2ed-4523-bb12-8bb7be0fee36')\"\n",
              "              title=\"Convert this dataframe to an interactive table.\"\n",
              "              style=\"display:none;\">\n",
              "        \n",
              "  <svg xmlns=\"http://www.w3.org/2000/svg\" height=\"24px\"viewBox=\"0 0 24 24\"\n",
              "       width=\"24px\">\n",
              "    <path d=\"M0 0h24v24H0V0z\" fill=\"none\"/>\n",
              "    <path d=\"M18.56 5.44l.94 2.06.94-2.06 2.06-.94-2.06-.94-.94-2.06-.94 2.06-2.06.94zm-11 1L8.5 8.5l.94-2.06 2.06-.94-2.06-.94L8.5 2.5l-.94 2.06-2.06.94zm10 10l.94 2.06.94-2.06 2.06-.94-2.06-.94-.94-2.06-.94 2.06-2.06.94z\"/><path d=\"M17.41 7.96l-1.37-1.37c-.4-.4-.92-.59-1.43-.59-.52 0-1.04.2-1.43.59L10.3 9.45l-7.72 7.72c-.78.78-.78 2.05 0 2.83L4 21.41c.39.39.9.59 1.41.59.51 0 1.02-.2 1.41-.59l7.78-7.78 2.81-2.81c.8-.78.8-2.07 0-2.86zM5.41 20L4 18.59l7.72-7.72 1.47 1.35L5.41 20z\"/>\n",
              "  </svg>\n",
              "      </button>\n",
              "      \n",
              "  <style>\n",
              "    .colab-df-container {\n",
              "      display:flex;\n",
              "      flex-wrap:wrap;\n",
              "      gap: 12px;\n",
              "    }\n",
              "\n",
              "    .colab-df-convert {\n",
              "      background-color: #E8F0FE;\n",
              "      border: none;\n",
              "      border-radius: 50%;\n",
              "      cursor: pointer;\n",
              "      display: none;\n",
              "      fill: #1967D2;\n",
              "      height: 32px;\n",
              "      padding: 0 0 0 0;\n",
              "      width: 32px;\n",
              "    }\n",
              "\n",
              "    .colab-df-convert:hover {\n",
              "      background-color: #E2EBFA;\n",
              "      box-shadow: 0px 1px 2px rgba(60, 64, 67, 0.3), 0px 1px 3px 1px rgba(60, 64, 67, 0.15);\n",
              "      fill: #174EA6;\n",
              "    }\n",
              "\n",
              "    [theme=dark] .colab-df-convert {\n",
              "      background-color: #3B4455;\n",
              "      fill: #D2E3FC;\n",
              "    }\n",
              "\n",
              "    [theme=dark] .colab-df-convert:hover {\n",
              "      background-color: #434B5C;\n",
              "      box-shadow: 0px 1px 3px 1px rgba(0, 0, 0, 0.15);\n",
              "      filter: drop-shadow(0px 1px 2px rgba(0, 0, 0, 0.3));\n",
              "      fill: #FFFFFF;\n",
              "    }\n",
              "  </style>\n",
              "\n",
              "      <script>\n",
              "        const buttonEl =\n",
              "          document.querySelector('#df-cb75094f-f2ed-4523-bb12-8bb7be0fee36 button.colab-df-convert');\n",
              "        buttonEl.style.display =\n",
              "          google.colab.kernel.accessAllowed ? 'block' : 'none';\n",
              "\n",
              "        async function convertToInteractive(key) {\n",
              "          const element = document.querySelector('#df-cb75094f-f2ed-4523-bb12-8bb7be0fee36');\n",
              "          const dataTable =\n",
              "            await google.colab.kernel.invokeFunction('convertToInteractive',\n",
              "                                                     [key], {});\n",
              "          if (!dataTable) return;\n",
              "\n",
              "          const docLinkHtml = 'Like what you see? Visit the ' +\n",
              "            '<a target=\"_blank\" href=https://colab.research.google.com/notebooks/data_table.ipynb>data table notebook</a>'\n",
              "            + ' to learn more about interactive tables.';\n",
              "          element.innerHTML = '';\n",
              "          dataTable['output_type'] = 'display_data';\n",
              "          await google.colab.output.renderOutput(dataTable, element);\n",
              "          const docLink = document.createElement('div');\n",
              "          docLink.innerHTML = docLinkHtml;\n",
              "          element.appendChild(docLink);\n",
              "        }\n",
              "      </script>\n",
              "    </div>\n",
              "  </div>\n",
              "  "
            ]
          },
          "metadata": {},
          "execution_count": 149
        }
      ]
    },
    {
      "cell_type": "markdown",
      "source": [
        "## Price Distribution"
      ],
      "metadata": {
        "id": "bzSLVHUYzsVA"
      }
    },
    {
      "cell_type": "code",
      "source": [
        "sns.histplot(df.msrp) # Plots a histogram of the MSRP column."
      ],
      "metadata": {
        "colab": {
          "base_uri": "https://localhost:8080/",
          "height": 0
        },
        "id": "JNA9V2EWpyv7",
        "outputId": "ec51e1bf-51ba-42ea-f7e3-acfb90eab72d"
      },
      "execution_count": 150,
      "outputs": [
        {
          "output_type": "execute_result",
          "data": {
            "text/plain": [
              "<matplotlib.axes._subplots.AxesSubplot at 0x7f01b9c1cf50>"
            ]
          },
          "metadata": {},
          "execution_count": 150
        },
        {
          "output_type": "display_data",
          "data": {
            "text/plain": [
              "<Figure size 432x288 with 1 Axes>"
            ],
            "image/png": "[encoded data removed]"
          },
          "metadata": {
            "needs_background": "light"
          }
        }
      ]
    },
    {
      "cell_type": "markdown",
      "source": [
        "This graph is not very good, we need a better resolution."
      ],
      "metadata": {
        "id": "RKHU7jeW0Xbi"
      }
    },
    {
      "cell_type": "code",
      "source": [
        "sns.histplot(df.msrp, bins = 50) # Better resolution plot."
      ],
      "metadata": {
        "colab": {
          "base_uri": "https://localhost:8080/",
          "height": 0
        },
        "id": "gpBRg5Kjpy0n",
        "outputId": "7e73c26a-b32a-4b69-ae33-86c0c3760e33"
      },
      "execution_count": 151,
      "outputs": [
        {
          "output_type": "execute_result",
          "data": {
            "text/plain": [
              "<matplotlib.axes._subplots.AxesSubplot at 0x7f01b9198810>"
            ]
          },
          "metadata": {},
          "execution_count": 151
        },
        {
          "output_type": "display_data",
          "data": {
            "text/plain": [
              "<Figure size 432x288 with 1 Axes>"
            ],
            "image/png": "[encoded data removed]"
          },
          "metadata": {
            "needs_background": "light"
          }
        }
      ]
    },
    {
      "cell_type": "code",
      "source": [
        "sns.histplot(df.msrp, bins = 10)"
      ],
      "metadata": {
        "colab": {
          "base_uri": "https://localhost:8080/",
          "height": 0
        },
        "id": "ChvSHOv9py4Y",
        "outputId": "dff5ea4b-f1ec-4559-b417-efbc56caed1b"
      },
      "execution_count": 152,
      "outputs": [
        {
          "output_type": "execute_result",
          "data": {
            "text/plain": [
              "<matplotlib.axes._subplots.AxesSubplot at 0x7f01b9e3af10>"
            ]
          },
          "metadata": {},
          "execution_count": 152
        },
        {
          "output_type": "display_data",
          "data": {
            "text/plain": [
              "<Figure size 432x288 with 1 Axes>"
            ],
            "image/png": "[encoded data removed]"
          },
          "metadata": {
            "needs_background": "light"
          }
        }
      ]
    },
    {
      "cell_type": "code",
      "source": [
        "sns.histplot(df.msrp, bins = 50) # Use this plot. The 1e6 at the bottom is like\n",
        "# scientific notation, and is meant to convey 1M."
      ],
      "metadata": {
        "colab": {
          "base_uri": "https://localhost:8080/",
          "height": 0
        },
        "id": "1IZteir402R3",
        "outputId": "a6f20941-5b71-4a28-ff85-f9cf2f07e981"
      },
      "execution_count": 153,
      "outputs": [
        {
          "output_type": "execute_result",
          "data": {
            "text/plain": [
              "<matplotlib.axes._subplots.AxesSubplot at 0x7f01b8fd9f90>"
            ]
          },
          "metadata": {},
          "execution_count": 153
        },
        {
          "output_type": "display_data",
          "data": {
            "text/plain": [
              "<Figure size 432x288 with 1 Axes>"
            ],
            "image/png": "[encoded data removed]"
          },
          "metadata": {
            "needs_background": "light"
          }
        }
      ]
    },
    {
      "cell_type": "markdown",
      "source": [
        "The issue with this graph is that it is meant to convey how cars are priced. Very few cars are priced at $1M dollars, but most cars are priced closer to 0.0e6. This can be thought of as a ***long tail distribution***."
      ],
      "metadata": {
        "id": "0Fx19S3D1QFD"
      }
    },
    {
      "cell_type": "code",
      "source": [
        "# So, we can plot a historgram by setting the MSRP scope to be less than $100K.\n",
        "sns.histplot(df.msrp[df.msrp < 100000], bins = 50)"
      ],
      "metadata": {
        "colab": {
          "base_uri": "https://localhost:8080/",
          "height": 0
        },
        "id": "fdZ0Mxbl02i0",
        "outputId": "f8a655ed-0496-4f89-bf15-d4604c27d622"
      },
      "execution_count": 154,
      "outputs": [
        {
          "output_type": "execute_result",
          "data": {
            "text/plain": [
              "<matplotlib.axes._subplots.AxesSubplot at 0x7f01b8e51610>"
            ]
          },
          "metadata": {},
          "execution_count": 154
        },
        {
          "output_type": "display_data",
          "data": {
            "text/plain": [
              "<Figure size 432x288 with 1 Axes>"
            ],
            "image/png": "[encoded data removed]"
          },
          "metadata": {
            "needs_background": "light"
          }
        }
      ]
    },
    {
      "cell_type": "markdown",
      "source": [
        "The histogram displays what he minimum price value should be for cars with the far left bar acting as a guideline. Suppose we increase the resolution by looking at the MSRP being less than $60K."
      ],
      "metadata": {
        "id": "-Az9eCjS9Ccm"
      }
    },
    {
      "cell_type": "code",
      "source": [
        "sns.histplot(df.msrp[df.msrp < 60000], bins = 50)\n",
        "# Historgram plot by setting the MSRP scope to be less than $60K."
      ],
      "metadata": {
        "colab": {
          "base_uri": "https://localhost:8080/",
          "height": 0
        },
        "id": "gpIXXum502pj",
        "outputId": "8f58a3a1-253c-4d10-cd19-c86f87912ddf"
      },
      "execution_count": 155,
      "outputs": [
        {
          "output_type": "execute_result",
          "data": {
            "text/plain": [
              "<matplotlib.axes._subplots.AxesSubplot at 0x7f01b8fdfbd0>"
            ]
          },
          "metadata": {},
          "execution_count": 155
        },
        {
          "output_type": "display_data",
          "data": {
            "text/plain": [
              "<Figure size 432x288 with 1 Axes>"
            ],
            "image/png": "[encoded data removed]"
          },
          "metadata": {
            "needs_background": "light"
          }
        }
      ]
    },
    {
      "cell_type": "markdown",
      "source": [
        "Now that there is a stronger resolution to the histogram, return to following along with the course."
      ],
      "metadata": {
        "id": "2DTdPJi199y9"
      }
    },
    {
      "cell_type": "code",
      "source": [
        "sns.histplot(df.msrp[df.msrp < 100000], bins = 50)\n",
        "# Historgram plot by setting the MSRP scope back to less than $100K."
      ],
      "metadata": {
        "colab": {
          "base_uri": "https://localhost:8080/",
          "height": 0
        },
        "id": "c3jA4UIs02vh",
        "outputId": "d570f9e1-41dc-4bfb-f41b-a44bb757889d"
      },
      "execution_count": 156,
      "outputs": [
        {
          "output_type": "execute_result",
          "data": {
            "text/plain": [
              "<matplotlib.axes._subplots.AxesSubplot at 0x7f01b8c56590>"
            ]
          },
          "metadata": {},
          "execution_count": 156
        },
        {
          "output_type": "display_data",
          "data": {
            "text/plain": [
              "<Figure size 432x288 with 1 Axes>"
            ],
            "image/png": "[encoded data removed]"
          },
          "metadata": {
            "needs_background": "light"
          }
        }
      ]
    },
    {
      "cell_type": "markdown",
      "source": [
        "Long tail distribution is not good for machine learning because it will confuse our model. So, we want to get rid of the long tail."
      ],
      "metadata": {
        "id": "MtePKPMX-2at"
      }
    },
    {
      "cell_type": "markdown",
      "source": [
        "## Apply Logarithmic Distribution\n",
        "\n",
        "To reduce the tail seen in the plot"
      ],
      "metadata": {
        "id": "YjQRQDMU-nc2"
      }
    },
    {
      "cell_type": "code",
      "source": [
        "np.log([1, 10, 1000, 100000]) # Apply logarithmic distribution."
      ],
      "metadata": {
        "colab": {
          "base_uri": "https://localhost:8080/"
        },
        "id": "4kRECHvH020Z",
        "outputId": "095c0e53-85b6-4e51-e618-166a932f976c"
      },
      "execution_count": 157,
      "outputs": [
        {
          "output_type": "execute_result",
          "data": {
            "text/plain": [
              "array([ 0.        ,  2.30258509,  6.90775528, 11.51292546])"
            ]
          },
          "metadata": {},
          "execution_count": 157
        }
      ]
    },
    {
      "cell_type": "code",
      "source": [
        "np.log([0, 1, 10, 1000, 100000]) # Adding zero is problematic, because at zero,\n",
        "# it does not exist."
      ],
      "metadata": {
        "colab": {
          "base_uri": "https://localhost:8080/"
        },
        "id": "FSiQUeKz024A",
        "outputId": "0dd5dca8-3deb-45c8-f4ef-ee6bfca6af7b"
      },
      "execution_count": 158,
      "outputs": [
        {
          "output_type": "stream",
          "name": "stderr",
          "text": [
            "/usr/local/lib/python3.7/dist-packages/ipykernel_launcher.py:1: RuntimeWarning: divide by zero encountered in log\n",
            "  \"\"\"Entry point for launching an IPython kernel.\n"
          ]
        },
        {
          "output_type": "execute_result",
          "data": {
            "text/plain": [
              "array([       -inf,  0.        ,  2.30258509,  6.90775528, 11.51292546])"
            ]
          },
          "metadata": {},
          "execution_count": 158
        }
      ]
    },
    {
      "cell_type": "code",
      "source": [
        "# The problem with zero can be prevented by adding zero to each of the\n",
        "# logarithmic values.\n",
        "np.log([0 + 1, 1 + 1,  10 + 1, 1000 + 1, 100000 + 1])"
      ],
      "metadata": {
        "colab": {
          "base_uri": "https://localhost:8080/"
        },
        "id": "uy20Hu05028d",
        "outputId": "02128e91-a799-4d7d-846c-411dda7de35b"
      },
      "execution_count": 159,
      "outputs": [
        {
          "output_type": "execute_result",
          "data": {
            "text/plain": [
              "array([ 0.        ,  0.69314718,  2.39789527,  6.90875478, 11.51293546])"
            ]
          },
          "metadata": {},
          "execution_count": 159
        }
      ]
    },
    {
      "cell_type": "code",
      "source": [
        "# There is a function in NumPy that adds the \"+ 1\" to the above logarithm array\n",
        "# automatically.\n",
        "np.log1p([0, 1, 10, 1000, 100000]) # The 1p stands for \"+ 1.\""
      ],
      "metadata": {
        "colab": {
          "base_uri": "https://localhost:8080/"
        },
        "id": "X1b9wRWf03AX",
        "outputId": "b5cdfb38-0e4c-486f-a1c2-f0f03a41edcc"
      },
      "execution_count": 160,
      "outputs": [
        {
          "output_type": "execute_result",
          "data": {
            "text/plain": [
              "array([ 0.        ,  0.69314718,  2.39789527,  6.90875478, 11.51293546])"
            ]
          },
          "metadata": {},
          "execution_count": 160
        }
      ]
    },
    {
      "cell_type": "code",
      "source": [
        "price_logs = np.log1p(df.msrp) # Apply the log1p to the MSRP column; store as\n",
        "# price_logs."
      ],
      "metadata": {
        "id": "fXwiltfV03Dn"
      },
      "execution_count": 161,
      "outputs": []
    },
    {
      "cell_type": "code",
      "source": [
        "price_logs # Display price_logs"
      ],
      "metadata": {
        "colab": {
          "base_uri": "https://localhost:8080/"
        },
        "id": "hvEKMGW903GU",
        "outputId": "00168e91-63d0-4c39-a911-8e6d27d6bb78"
      },
      "execution_count": 162,
      "outputs": [
        {
          "output_type": "execute_result",
          "data": {
            "text/plain": [
              "0        10.739349\n",
              "1        10.612779\n",
              "2        10.500977\n",
              "3        10.290483\n",
              "4        10.448744\n",
              "           ...    \n",
              "11909    10.739024\n",
              "11910    10.945018\n",
              "11911    10.832122\n",
              "11912    10.838031\n",
              "11913    10.274913\n",
              "Name: msrp, Length: 11914, dtype: float64"
            ]
          },
          "metadata": {},
          "execution_count": 162
        }
      ]
    },
    {
      "cell_type": "code",
      "source": [
        "sns.histplot(price_logs, bins = 50) # Plot price_logs on histogram."
      ],
      "metadata": {
        "colab": {
          "base_uri": "https://localhost:8080/",
          "height": 0
        },
        "id": "TJ6EYVDpBRXP",
        "outputId": "2ae1cf79-900c-4836-f660-619f028da8e4"
      },
      "execution_count": 163,
      "outputs": [
        {
          "output_type": "execute_result",
          "data": {
            "text/plain": [
              "<matplotlib.axes._subplots.AxesSubplot at 0x7f01b8b70290>"
            ]
          },
          "metadata": {},
          "execution_count": 163
        },
        {
          "output_type": "display_data",
          "data": {
            "text/plain": [
              "<Figure size 432x288 with 1 Axes>"
            ],
            "image/png": "[encoded data removed]"
          },
          "metadata": {
            "needs_background": "light"
          }
        }
      ]
    },
    {
      "cell_type": "markdown",
      "source": [
        "This graph represents the normal distribution curve and it resembles a bell curve (despte the tick at the far left). This is ideal for models. This is what we would incorporate into our machine learning practices."
      ],
      "metadata": {
        "id": "JIfUmsyKB-Ac"
      }
    },
    {
      "cell_type": "markdown",
      "source": [
        "## Missing Values"
      ],
      "metadata": {
        "id": "jld0V56cCZQK"
      }
    },
    {
      "cell_type": "code",
      "source": [
        "df # Display data frame"
      ],
      "metadata": {
        "colab": {
          "base_uri": "https://localhost:8080/",
          "height": 0
        },
        "id": "PA07ULZZBRdE",
        "outputId": "ad73c7ac-37f1-4eeb-bb39-0d319370a2a5"
      },
      "execution_count": 164,
      "outputs": [
        {
          "output_type": "execute_result",
          "data": {
            "text/plain": [
              "          make       model  year                engine_fuel_type  engine_hp  \\\n",
              "0          bmw  1_series_m  2011     premium_unleaded_(required)      335.0   \n",
              "1          bmw    1_series  2011     premium_unleaded_(required)      300.0   \n",
              "2          bmw    1_series  2011     premium_unleaded_(required)      300.0   \n",
              "3          bmw    1_series  2011     premium_unleaded_(required)      230.0   \n",
              "4          bmw    1_series  2011     premium_unleaded_(required)      230.0   \n",
              "...        ...         ...   ...                             ...        ...   \n",
              "11909    acura         zdx  2012     premium_unleaded_(required)      300.0   \n",
              "11910    acura         zdx  2012     premium_unleaded_(required)      300.0   \n",
              "11911    acura         zdx  2012     premium_unleaded_(required)      300.0   \n",
              "11912    acura         zdx  2013  premium_unleaded_(recommended)      300.0   \n",
              "11913  lincoln      zephyr  2006                regular_unleaded      221.0   \n",
              "\n",
              "       engine_cylinders transmission_type      driven_wheels  number_of_doors  \\\n",
              "0                   6.0            manual   rear_wheel_drive              2.0   \n",
              "1                   6.0            manual   rear_wheel_drive              2.0   \n",
              "2                   6.0            manual   rear_wheel_drive              2.0   \n",
              "3                   6.0            manual   rear_wheel_drive              2.0   \n",
              "4                   6.0            manual   rear_wheel_drive              2.0   \n",
              "...                 ...               ...                ...              ...   \n",
              "11909               6.0         automatic    all_wheel_drive              4.0   \n",
              "11910               6.0         automatic    all_wheel_drive              4.0   \n",
              "11911               6.0         automatic    all_wheel_drive              4.0   \n",
              "11912               6.0         automatic    all_wheel_drive              4.0   \n",
              "11913               6.0         automatic  front_wheel_drive              4.0   \n",
              "\n",
              "                             market_category vehicle_size  vehicle_style  \\\n",
              "0      factory_tuner,luxury,high-performance      compact          coupe   \n",
              "1                         luxury,performance      compact    convertible   \n",
              "2                    luxury,high-performance      compact          coupe   \n",
              "3                         luxury,performance      compact          coupe   \n",
              "4                                     luxury      compact    convertible   \n",
              "...                                      ...          ...            ...   \n",
              "11909             crossover,hatchback,luxury      midsize  4dr_hatchback   \n",
              "11910             crossover,hatchback,luxury      midsize  4dr_hatchback   \n",
              "11911             crossover,hatchback,luxury      midsize  4dr_hatchback   \n",
              "11912             crossover,hatchback,luxury      midsize  4dr_hatchback   \n",
              "11913                                 luxury      midsize          sedan   \n",
              "\n",
              "       highway_mpg  city_mpg  popularity   msrp  \n",
              "0               26        19        3916  46135  \n",
              "1               28        19        3916  40650  \n",
              "2               28        20        3916  36350  \n",
              "3               28        18        3916  29450  \n",
              "4               28        18        3916  34500  \n",
              "...            ...       ...         ...    ...  \n",
              "11909           23        16         204  46120  \n",
              "11910           23        16         204  56670  \n",
              "11911           23        16         204  50620  \n",
              "11912           23        16         204  50920  \n",
              "11913           26        17          61  28995  \n",
              "\n",
              "[11914 rows x 16 columns]"
            ],
            "text/html": [
              "\n",
              "  <div id=\"df-7349a2f8-f86b-4658-9c36-0255a8d29c2d\">\n",
              "    <div class=\"colab-df-container\">\n",
              "      <div>\n",
              "<style scoped>\n",
              "    .dataframe tbody tr th:only-of-type {\n",
              "        vertical-align: middle;\n",
              "    }\n",
              "\n",
              "    .dataframe tbody tr th {\n",
              "        vertical-align: top;\n",
              "    }\n",
              "\n",
              "    .dataframe thead th {\n",
              "        text-align: right;\n",
              "    }\n",
              "</style>\n",
              "<table border=\"1\" class=\"dataframe\">\n",
              "  <thead>\n",
              "    <tr style=\"text-align: right;\">\n",
              "      <th></th>\n",
              "      <th>make</th>\n",
              "      <th>model</th>\n",
              "      <th>year</th>\n",
              "      <th>engine_fuel_type</th>\n",
              "      <th>engine_hp</th>\n",
              "      <th>engine_cylinders</th>\n",
              "      <th>transmission_type</th>\n",
              "      <th>driven_wheels</th>\n",
              "      <th>number_of_doors</th>\n",
              "      <th>market_category</th>\n",
              "      <th>vehicle_size</th>\n",
              "      <th>vehicle_style</th>\n",
              "      <th>highway_mpg</th>\n",
              "      <th>city_mpg</th>\n",
              "      <th>popularity</th>\n",
              "      <th>msrp</th>\n",
              "    </tr>\n",
              "  </thead>\n",
              "  <tbody>\n",
              "    <tr>\n",
              "      <th>0</th>\n",
              "      <td>bmw</td>\n",
              "      <td>1_series_m</td>\n",
              "      <td>2011</td>\n",
              "      <td>premium_unleaded_(required)</td>\n",
              "      <td>335.0</td>\n",
              "      <td>6.0</td>\n",
              "      <td>manual</td>\n",
              "      <td>rear_wheel_drive</td>\n",
              "      <td>2.0</td>\n",
              "      <td>factory_tuner,luxury,high-performance</td>\n",
              "      <td>compact</td>\n",
              "      <td>coupe</td>\n",
              "      <td>26</td>\n",
              "      <td>19</td>\n",
              "      <td>3916</td>\n",
              "      <td>46135</td>\n",
              "    </tr>\n",
              "    <tr>\n",
              "      <th>1</th>\n",
              "      <td>bmw</td>\n",
              "      <td>1_series</td>\n",
              "      <td>2011</td>\n",
              "      <td>premium_unleaded_(required)</td>\n",
              "      <td>300.0</td>\n",
              "      <td>6.0</td>\n",
              "      <td>manual</td>\n",
              "      <td>rear_wheel_drive</td>\n",
              "      <td>2.0</td>\n",
              "      <td>luxury,performance</td>\n",
              "      <td>compact</td>\n",
              "      <td>convertible</td>\n",
              "      <td>28</td>\n",
              "      <td>19</td>\n",
              "      <td>3916</td>\n",
              "      <td>40650</td>\n",
              "    </tr>\n",
              "    <tr>\n",
              "      <th>2</th>\n",
              "      <td>bmw</td>\n",
              "      <td>1_series</td>\n",
              "      <td>2011</td>\n",
              "      <td>premium_unleaded_(required)</td>\n",
              "      <td>300.0</td>\n",
              "      <td>6.0</td>\n",
              "      <td>manual</td>\n",
              "      <td>rear_wheel_drive</td>\n",
              "      <td>2.0</td>\n",
              "      <td>luxury,high-performance</td>\n",
              "      <td>compact</td>\n",
              "      <td>coupe</td>\n",
              "      <td>28</td>\n",
              "      <td>20</td>\n",
              "      <td>3916</td>\n",
              "      <td>36350</td>\n",
              "    </tr>\n",
              "    <tr>\n",
              "      <th>3</th>\n",
              "      <td>bmw</td>\n",
              "      <td>1_series</td>\n",
              "      <td>2011</td>\n",
              "      <td>premium_unleaded_(required)</td>\n",
              "      <td>230.0</td>\n",
              "      <td>6.0</td>\n",
              "      <td>manual</td>\n",
              "      <td>rear_wheel_drive</td>\n",
              "      <td>2.0</td>\n",
              "      <td>luxury,performance</td>\n",
              "      <td>compact</td>\n",
              "      <td>coupe</td>\n",
              "      <td>28</td>\n",
              "      <td>18</td>\n",
              "      <td>3916</td>\n",
              "      <td>29450</td>\n",
              "    </tr>\n",
              "    <tr>\n",
              "      <th>4</th>\n",
              "      <td>bmw</td>\n",
              "      <td>1_series</td>\n",
              "      <td>2011</td>\n",
              "      <td>premium_unleaded_(required)</td>\n",
              "      <td>230.0</td>\n",
              "      <td>6.0</td>\n",
              "      <td>manual</td>\n",
              "      <td>rear_wheel_drive</td>\n",
              "      <td>2.0</td>\n",
              "      <td>luxury</td>\n",
              "      <td>compact</td>\n",
              "      <td>convertible</td>\n",
              "      <td>28</td>\n",
              "      <td>18</td>\n",
              "      <td>3916</td>\n",
              "      <td>34500</td>\n",
              "    </tr>\n",
              "    <tr>\n",
              "      <th>...</th>\n",
              "      <td>...</td>\n",
              "      <td>...</td>\n",
              "      <td>...</td>\n",
              "      <td>...</td>\n",
              "      <td>...</td>\n",
              "      <td>...</td>\n",
              "      <td>...</td>\n",
              "      <td>...</td>\n",
              "      <td>...</td>\n",
              "      <td>...</td>\n",
              "      <td>...</td>\n",
              "      <td>...</td>\n",
              "      <td>...</td>\n",
              "      <td>...</td>\n",
              "      <td>...</td>\n",
              "      <td>...</td>\n",
              "    </tr>\n",
              "    <tr>\n",
              "      <th>11909</th>\n",
              "      <td>acura</td>\n",
              "      <td>zdx</td>\n",
              "      <td>2012</td>\n",
              "      <td>premium_unleaded_(required)</td>\n",
              "      <td>300.0</td>\n",
              "      <td>6.0</td>\n",
              "      <td>automatic</td>\n",
              "      <td>all_wheel_drive</td>\n",
              "      <td>4.0</td>\n",
              "      <td>crossover,hatchback,luxury</td>\n",
              "      <td>midsize</td>\n",
              "      <td>4dr_hatchback</td>\n",
              "      <td>23</td>\n",
              "      <td>16</td>\n",
              "      <td>204</td>\n",
              "      <td>46120</td>\n",
              "    </tr>\n",
              "    <tr>\n",
              "      <th>11910</th>\n",
              "      <td>acura</td>\n",
              "      <td>zdx</td>\n",
              "      <td>2012</td>\n",
              "      <td>premium_unleaded_(required)</td>\n",
              "      <td>300.0</td>\n",
              "      <td>6.0</td>\n",
              "      <td>automatic</td>\n",
              "      <td>all_wheel_drive</td>\n",
              "      <td>4.0</td>\n",
              "      <td>crossover,hatchback,luxury</td>\n",
              "      <td>midsize</td>\n",
              "      <td>4dr_hatchback</td>\n",
              "      <td>23</td>\n",
              "      <td>16</td>\n",
              "      <td>204</td>\n",
              "      <td>56670</td>\n",
              "    </tr>\n",
              "    <tr>\n",
              "      <th>11911</th>\n",
              "      <td>acura</td>\n",
              "      <td>zdx</td>\n",
              "      <td>2012</td>\n",
              "      <td>premium_unleaded_(required)</td>\n",
              "      <td>300.0</td>\n",
              "      <td>6.0</td>\n",
              "      <td>automatic</td>\n",
              "      <td>all_wheel_drive</td>\n",
              "      <td>4.0</td>\n",
              "      <td>crossover,hatchback,luxury</td>\n",
              "      <td>midsize</td>\n",
              "      <td>4dr_hatchback</td>\n",
              "      <td>23</td>\n",
              "      <td>16</td>\n",
              "      <td>204</td>\n",
              "      <td>50620</td>\n",
              "    </tr>\n",
              "    <tr>\n",
              "      <th>11912</th>\n",
              "      <td>acura</td>\n",
              "      <td>zdx</td>\n",
              "      <td>2013</td>\n",
              "      <td>premium_unleaded_(recommended)</td>\n",
              "      <td>300.0</td>\n",
              "      <td>6.0</td>\n",
              "      <td>automatic</td>\n",
              "      <td>all_wheel_drive</td>\n",
              "      <td>4.0</td>\n",
              "      <td>crossover,hatchback,luxury</td>\n",
              "      <td>midsize</td>\n",
              "      <td>4dr_hatchback</td>\n",
              "      <td>23</td>\n",
              "      <td>16</td>\n",
              "      <td>204</td>\n",
              "      <td>50920</td>\n",
              "    </tr>\n",
              "    <tr>\n",
              "      <th>11913</th>\n",
              "      <td>lincoln</td>\n",
              "      <td>zephyr</td>\n",
              "      <td>2006</td>\n",
              "      <td>regular_unleaded</td>\n",
              "      <td>221.0</td>\n",
              "      <td>6.0</td>\n",
              "      <td>automatic</td>\n",
              "      <td>front_wheel_drive</td>\n",
              "      <td>4.0</td>\n",
              "      <td>luxury</td>\n",
              "      <td>midsize</td>\n",
              "      <td>sedan</td>\n",
              "      <td>26</td>\n",
              "      <td>17</td>\n",
              "      <td>61</td>\n",
              "      <td>28995</td>\n",
              "    </tr>\n",
              "  </tbody>\n",
              "</table>\n",
              "<p>11914 rows × 16 columns</p>\n",
              "</div>\n",
              "      <button class=\"colab-df-convert\" onclick=\"convertToInteractive('df-7349a2f8-f86b-4658-9c36-0255a8d29c2d')\"\n",
              "              title=\"Convert this dataframe to an interactive table.\"\n",
              "              style=\"display:none;\">\n",
              "        \n",
              "  <svg xmlns=\"http://www.w3.org/2000/svg\" height=\"24px\"viewBox=\"0 0 24 24\"\n",
              "       width=\"24px\">\n",
              "    <path d=\"M0 0h24v24H0V0z\" fill=\"none\"/>\n",
              "    <path d=\"M18.56 5.44l.94 2.06.94-2.06 2.06-.94-2.06-.94-.94-2.06-.94 2.06-2.06.94zm-11 1L8.5 8.5l.94-2.06 2.06-.94-2.06-.94L8.5 2.5l-.94 2.06-2.06.94zm10 10l.94 2.06.94-2.06 2.06-.94-2.06-.94-.94-2.06-.94 2.06-2.06.94z\"/><path d=\"M17.41 7.96l-1.37-1.37c-.4-.4-.92-.59-1.43-.59-.52 0-1.04.2-1.43.59L10.3 9.45l-7.72 7.72c-.78.78-.78 2.05 0 2.83L4 21.41c.39.39.9.59 1.41.59.51 0 1.02-.2 1.41-.59l7.78-7.78 2.81-2.81c.8-.78.8-2.07 0-2.86zM5.41 20L4 18.59l7.72-7.72 1.47 1.35L5.41 20z\"/>\n",
              "  </svg>\n",
              "      </button>\n",
              "      \n",
              "  <style>\n",
              "    .colab-df-container {\n",
              "      display:flex;\n",
              "      flex-wrap:wrap;\n",
              "      gap: 12px;\n",
              "    }\n",
              "\n",
              "    .colab-df-convert {\n",
              "      background-color: #E8F0FE;\n",
              "      border: none;\n",
              "      border-radius: 50%;\n",
              "      cursor: pointer;\n",
              "      display: none;\n",
              "      fill: #1967D2;\n",
              "      height: 32px;\n",
              "      padding: 0 0 0 0;\n",
              "      width: 32px;\n",
              "    }\n",
              "\n",
              "    .colab-df-convert:hover {\n",
              "      background-color: #E2EBFA;\n",
              "      box-shadow: 0px 1px 2px rgba(60, 64, 67, 0.3), 0px 1px 3px 1px rgba(60, 64, 67, 0.15);\n",
              "      fill: #174EA6;\n",
              "    }\n",
              "\n",
              "    [theme=dark] .colab-df-convert {\n",
              "      background-color: #3B4455;\n",
              "      fill: #D2E3FC;\n",
              "    }\n",
              "\n",
              "    [theme=dark] .colab-df-convert:hover {\n",
              "      background-color: #434B5C;\n",
              "      box-shadow: 0px 1px 3px 1px rgba(0, 0, 0, 0.15);\n",
              "      filter: drop-shadow(0px 1px 2px rgba(0, 0, 0, 0.3));\n",
              "      fill: #FFFFFF;\n",
              "    }\n",
              "  </style>\n",
              "\n",
              "      <script>\n",
              "        const buttonEl =\n",
              "          document.querySelector('#df-7349a2f8-f86b-4658-9c36-0255a8d29c2d button.colab-df-convert');\n",
              "        buttonEl.style.display =\n",
              "          google.colab.kernel.accessAllowed ? 'block' : 'none';\n",
              "\n",
              "        async function convertToInteractive(key) {\n",
              "          const element = document.querySelector('#df-7349a2f8-f86b-4658-9c36-0255a8d29c2d');\n",
              "          const dataTable =\n",
              "            await google.colab.kernel.invokeFunction('convertToInteractive',\n",
              "                                                     [key], {});\n",
              "          if (!dataTable) return;\n",
              "\n",
              "          const docLinkHtml = 'Like what you see? Visit the ' +\n",
              "            '<a target=\"_blank\" href=https://colab.research.google.com/notebooks/data_table.ipynb>data table notebook</a>'\n",
              "            + ' to learn more about interactive tables.';\n",
              "          element.innerHTML = '';\n",
              "          dataTable['output_type'] = 'display_data';\n",
              "          await google.colab.output.renderOutput(dataTable, element);\n",
              "          const docLink = document.createElement('div');\n",
              "          docLink.innerHTML = docLinkHtml;\n",
              "          element.appendChild(docLink);\n",
              "        }\n",
              "      </script>\n",
              "    </div>\n",
              "  </div>\n",
              "  "
            ]
          },
          "metadata": {},
          "execution_count": 164
        }
      ]
    },
    {
      "cell_type": "markdown",
      "source": [
        "We want to search for missing values."
      ],
      "metadata": {
        "id": "e_Jn12HRCn3k"
      }
    },
    {
      "cell_type": "code",
      "source": [
        "df.isnull().sum() # Summarizes the missing values in each column."
      ],
      "metadata": {
        "colab": {
          "base_uri": "https://localhost:8080/"
        },
        "id": "OqxfzyAkBRjY",
        "outputId": "e0f2f3d1-68c0-46da-bf55-d683ca332d36"
      },
      "execution_count": 165,
      "outputs": [
        {
          "output_type": "execute_result",
          "data": {
            "text/plain": [
              "make                    0\n",
              "model                   0\n",
              "year                    0\n",
              "engine_fuel_type        3\n",
              "engine_hp              69\n",
              "engine_cylinders       30\n",
              "transmission_type       0\n",
              "driven_wheels           0\n",
              "number_of_doors         6\n",
              "market_category      3742\n",
              "vehicle_size            0\n",
              "vehicle_style           0\n",
              "highway_mpg             0\n",
              "city_mpg                0\n",
              "popularity              0\n",
              "msrp                    0\n",
              "dtype: int64"
            ]
          },
          "metadata": {},
          "execution_count": 165
        }
      ]
    },
    {
      "cell_type": "code",
      "source": [],
      "metadata": {
        "id": "FY1K4VFTBR1g"
      },
      "execution_count": 165,
      "outputs": []
    },
    {
      "cell_type": "markdown",
      "source": [
        "## Section 2.4: Setting Up the Validation Framework"
      ],
      "metadata": {
        "id": "0jR0T03eDDOn"
      }
    },
    {
      "cell_type": "markdown",
      "source": [
        "Recall: From chapter 1, we take our data and we split it into three parts: training data, validation data, and test data. The percentage into which we can split our data is up to your own discretion.\n",
        "\n",
        "We train a model, and we test to see how it performs against a validation dataset. If the training dataset performs well against the training dataset, we use it against the testing dataset.\n",
        "\n",
        "Each part will have its own feature matrix it's own target variable y.\n",
        "\n",
        "Let's draw it.\n",
        "\n",
        "The validation data and the test data will be split to 20% each, leaving 60% to work with the training data.\n",
        "\n",
        "We need to calculate how much 20% is from our dataframe."
      ],
      "metadata": {
        "id": "362NqIIwb9sF"
      }
    },
    {
      "cell_type": "code",
      "source": [
        "n = len(df) # Display the dataframe's total length; stored as n."
      ],
      "metadata": {
        "id": "bps6lQaSBSD2"
      },
      "execution_count": 166,
      "outputs": []
    },
    {
      "cell_type": "code",
      "source": [
        "n"
      ],
      "metadata": {
        "colab": {
          "base_uri": "https://localhost:8080/"
        },
        "id": "vJl7EL_BiY8D",
        "outputId": "ccb4d220-174a-4506-ba58-0100ce0f2cf1"
      },
      "execution_count": 167,
      "outputs": [
        {
          "output_type": "execute_result",
          "data": {
            "text/plain": [
              "11914"
            ]
          },
          "metadata": {},
          "execution_count": 167
        }
      ]
    },
    {
      "cell_type": "code",
      "source": [
        "len(df) * 0.2 # Display 20% of the data frame."
      ],
      "metadata": {
        "colab": {
          "base_uri": "https://localhost:8080/"
        },
        "id": "SQyldk0shSzF",
        "outputId": "e4b4dbc6-5a54-45c1-d63e-8250b3fa0e81"
      },
      "execution_count": 168,
      "outputs": [
        {
          "output_type": "execute_result",
          "data": {
            "text/plain": [
              "2382.8"
            ]
          },
          "metadata": {},
          "execution_count": 168
        }
      ]
    },
    {
      "cell_type": "code",
      "source": [
        "n_val = int(n * 0.2) # Round the decimal number down to an integer,\n",
        "# stored as n_val, will act as our validation dataset.\n",
        "n_val # Display validation dataset value."
      ],
      "metadata": {
        "colab": {
          "base_uri": "https://localhost:8080/"
        },
        "id": "GO9w3zU9hS5I",
        "outputId": "d29496ea-7863-438e-edb4-def2ab24a68f"
      },
      "execution_count": 169,
      "outputs": [
        {
          "output_type": "execute_result",
          "data": {
            "text/plain": [
              "2382"
            ]
          },
          "metadata": {},
          "execution_count": 169
        }
      ]
    },
    {
      "cell_type": "code",
      "source": [
        "n_test = int(n * 0.2) # Round the decimal number down to an integer,\n",
        "# stored as n_test, will act as our test dataset.\n",
        "n_test # Display test dataset value."
      ],
      "metadata": {
        "colab": {
          "base_uri": "https://localhost:8080/"
        },
        "id": "QpBm6VrAhTAO",
        "outputId": "49939343-868f-4e3b-f8c2-882db06db7e4"
      },
      "execution_count": 170,
      "outputs": [
        {
          "output_type": "execute_result",
          "data": {
            "text/plain": [
              "2382"
            ]
          },
          "metadata": {},
          "execution_count": 170
        }
      ]
    },
    {
      "cell_type": "code",
      "source": [
        "n_train = n - n_val - n_test # Subtract the validation and test dataset from\n",
        "# the entire dataset to get the value for your training dataset,\n",
        "# stored as n_train.\n",
        "n_train # Display training dataset."
      ],
      "metadata": {
        "colab": {
          "base_uri": "https://localhost:8080/"
        },
        "id": "oZnyFQcThTDZ",
        "outputId": "d50054fc-94f0-4742-bcb4-e79c0b9c9125"
      },
      "execution_count": 171,
      "outputs": [
        {
          "output_type": "execute_result",
          "data": {
            "text/plain": [
              "7150"
            ]
          },
          "metadata": {},
          "execution_count": 171
        }
      ]
    },
    {
      "cell_type": "code",
      "source": [
        "n, n_val + n_test + n_train # Displays two equal values between each dataset,\n",
        "# and the original dataset."
      ],
      "metadata": {
        "colab": {
          "base_uri": "https://localhost:8080/"
        },
        "id": "pbYk1GZthTLi",
        "outputId": "f42c3e67-249c-4858-de4b-33f70299af95"
      },
      "execution_count": 172,
      "outputs": [
        {
          "output_type": "execute_result",
          "data": {
            "text/plain": [
              "(11914, 11914)"
            ]
          },
          "metadata": {},
          "execution_count": 172
        }
      ]
    },
    {
      "cell_type": "code",
      "source": [
        "n_val, n_test, n_train # Display the size of each dataset."
      ],
      "metadata": {
        "colab": {
          "base_uri": "https://localhost:8080/"
        },
        "id": "lgUjFkD9lXTk",
        "outputId": "20d453be-e3a9-45e6-add5-fc89d5ca45c3"
      },
      "execution_count": 173,
      "outputs": [
        {
          "output_type": "execute_result",
          "data": {
            "text/plain": [
              "(2382, 2382, 7150)"
            ]
          },
          "metadata": {},
          "execution_count": 173
        }
      ]
    },
    {
      "cell_type": "markdown",
      "source": [
        "## Create a new dataframe"
      ],
      "metadata": {
        "id": "KUsgfo0qnmB3"
      }
    },
    {
      "cell_type": "markdown",
      "source": [
        "This would lock the first three rows (read as: a list) in the dataframe's index:\n",
        "\n",
        "df.iloc[0, 1, 2]\n",
        "\n",
        "Alternatively, you can index lock a range; this one locks the first 10 records (excluding 10) from index 0 to index 9:\n",
        "\n",
        "df.iloc[:10]\n",
        "\n",
        "We can lock from index 10 to index 20 (not including 20):\n",
        "\n",
        "df.iloc[10:20]\n",
        "\n",
        "Or, if we want to index lock the last four records for this entire data frame (11,910 - 11,913):\n",
        "\n",
        "df.iloc[11910:]"
      ],
      "metadata": {
        "id": "cw3yQsRIpW9f"
      }
    },
    {
      "cell_type": "code",
      "source": [
        "df_train = df.iloc[n_train:] # Locks the beginning 7,150 indexes in the\n",
        " # entire dataframe; stored as df_train.\n",
        "df_val = df.iloc[n_train:n_train + n_val] # Locks the next 2,382 indexes up to \n",
        " # the test dataframe; stored as df_val.\n",
        "df_test = df.iloc[n_train + n_val:] # Locks the remaining indexes in the \n",
        " # dataframe; stored as df_test."
      ],
      "metadata": {
        "id": "Id1WK2valXfQ"
      },
      "execution_count": 174,
      "outputs": []
    },
    {
      "cell_type": "markdown",
      "source": [
        "## Shuffle the Records in the Dataframe"
      ],
      "metadata": {
        "id": "RWqTeF4BxCtP"
      }
    },
    {
      "cell_type": "markdown",
      "source": [
        "If we display the validation dataframe, we will see "
      ],
      "metadata": {
        "id": "KgzImUzAzGmL"
      }
    },
    {
      "cell_type": "code",
      "source": [
        "df_val # Display validation dataset."
      ],
      "metadata": {
        "colab": {
          "base_uri": "https://localhost:8080/",
          "height": 468
        },
        "id": "xUc5DuqOzFn1",
        "outputId": "5a5215d5-83b8-4e56-e7fb-6c7620aef948"
      },
      "execution_count": 175,
      "outputs": [
        {
          "output_type": "execute_result",
          "data": {
            "text/plain": [
              "           make           model  year          engine_fuel_type  engine_hp  \\\n",
              "7150    lincoln       navigator  2015          regular_unleaded      365.0   \n",
              "7151    lincoln       navigator  2016          regular_unleaded      380.0   \n",
              "7152    lincoln       navigator  2016          regular_unleaded      380.0   \n",
              "7153    lincoln       navigator  2016          regular_unleaded      380.0   \n",
              "7154    lincoln       navigator  2016          regular_unleaded      380.0   \n",
              "...         ...             ...   ...                       ...        ...   \n",
              "9527  chevrolet  silverado_1500  2015  flex-fuel_(unleaded/e85)      285.0   \n",
              "9528  chevrolet  silverado_1500  2015          regular_unleaded      355.0   \n",
              "9529  chevrolet  silverado_1500  2015          regular_unleaded      355.0   \n",
              "9530  chevrolet  silverado_1500  2015          regular_unleaded      355.0   \n",
              "9531  chevrolet  silverado_1500  2015          regular_unleaded      355.0   \n",
              "\n",
              "      engine_cylinders transmission_type     driven_wheels  number_of_doors  \\\n",
              "7150               6.0         automatic  rear_wheel_drive              4.0   \n",
              "7151               6.0         automatic  rear_wheel_drive              4.0   \n",
              "7152               6.0         automatic  four_wheel_drive              4.0   \n",
              "7153               6.0         automatic  four_wheel_drive              4.0   \n",
              "7154               6.0         automatic  rear_wheel_drive              4.0   \n",
              "...                ...               ...               ...              ...   \n",
              "9527               6.0         automatic  four_wheel_drive              4.0   \n",
              "9528               8.0         automatic  rear_wheel_drive              4.0   \n",
              "9529               8.0         automatic  rear_wheel_drive              4.0   \n",
              "9530               8.0         automatic  rear_wheel_drive              4.0   \n",
              "9531               8.0         automatic  four_wheel_drive              4.0   \n",
              "\n",
              "     market_category vehicle_size        vehicle_style  highway_mpg  city_mpg  \\\n",
              "7150          luxury        large              4dr_suv           20        15   \n",
              "7151          luxury        large              4dr_suv           22        16   \n",
              "7152          luxury        large              4dr_suv           19        15   \n",
              "7153          luxury        large              4dr_suv           19        15   \n",
              "7154          luxury        large              4dr_suv           20        15   \n",
              "...              ...          ...                  ...          ...       ...   \n",
              "9527       flex_fuel        large      crew_cab_pickup           22        17   \n",
              "9528             NaN        large  extended_cab_pickup           23        16   \n",
              "9529             NaN        large      crew_cab_pickup           23        16   \n",
              "9530             NaN        large      crew_cab_pickup           23        16   \n",
              "9531             NaN        large      crew_cab_pickup           22        16   \n",
              "\n",
              "      popularity   msrp  \n",
              "7150          61  63645  \n",
              "7151          61  63195  \n",
              "7152          61  76650  \n",
              "7153          61  69135  \n",
              "7154          61  65560  \n",
              "...          ...    ...  \n",
              "9527        1385  37380  \n",
              "9528        1385  40100  \n",
              "9529        1385  42560  \n",
              "9530        1385  42860  \n",
              "9531        1385  45120  \n",
              "\n",
              "[2382 rows x 16 columns]"
            ],
            "text/html": [
              "\n",
              "  <div id=\"df-144228a6-5e2c-40f1-b398-99c689668315\">\n",
              "    <div class=\"colab-df-container\">\n",
              "      <div>\n",
              "<style scoped>\n",
              "    .dataframe tbody tr th:only-of-type {\n",
              "        vertical-align: middle;\n",
              "    }\n",
              "\n",
              "    .dataframe tbody tr th {\n",
              "        vertical-align: top;\n",
              "    }\n",
              "\n",
              "    .dataframe thead th {\n",
              "        text-align: right;\n",
              "    }\n",
              "</style>\n",
              "<table border=\"1\" class=\"dataframe\">\n",
              "  <thead>\n",
              "    <tr style=\"text-align: right;\">\n",
              "      <th></th>\n",
              "      <th>make</th>\n",
              "      <th>model</th>\n",
              "      <th>year</th>\n",
              "      <th>engine_fuel_type</th>\n",
              "      <th>engine_hp</th>\n",
              "      <th>engine_cylinders</th>\n",
              "      <th>transmission_type</th>\n",
              "      <th>driven_wheels</th>\n",
              "      <th>number_of_doors</th>\n",
              "      <th>market_category</th>\n",
              "      <th>vehicle_size</th>\n",
              "      <th>vehicle_style</th>\n",
              "      <th>highway_mpg</th>\n",
              "      <th>city_mpg</th>\n",
              "      <th>popularity</th>\n",
              "      <th>msrp</th>\n",
              "    </tr>\n",
              "  </thead>\n",
              "  <tbody>\n",
              "    <tr>\n",
              "      <th>7150</th>\n",
              "      <td>lincoln</td>\n",
              "      <td>navigator</td>\n",
              "      <td>2015</td>\n",
              "      <td>regular_unleaded</td>\n",
              "      <td>365.0</td>\n",
              "      <td>6.0</td>\n",
              "      <td>automatic</td>\n",
              "      <td>rear_wheel_drive</td>\n",
              "      <td>4.0</td>\n",
              "      <td>luxury</td>\n",
              "      <td>large</td>\n",
              "      <td>4dr_suv</td>\n",
              "      <td>20</td>\n",
              "      <td>15</td>\n",
              "      <td>61</td>\n",
              "      <td>63645</td>\n",
              "    </tr>\n",
              "    <tr>\n",
              "      <th>7151</th>\n",
              "      <td>lincoln</td>\n",
              "      <td>navigator</td>\n",
              "      <td>2016</td>\n",
              "      <td>regular_unleaded</td>\n",
              "      <td>380.0</td>\n",
              "      <td>6.0</td>\n",
              "      <td>automatic</td>\n",
              "      <td>rear_wheel_drive</td>\n",
              "      <td>4.0</td>\n",
              "      <td>luxury</td>\n",
              "      <td>large</td>\n",
              "      <td>4dr_suv</td>\n",
              "      <td>22</td>\n",
              "      <td>16</td>\n",
              "      <td>61</td>\n",
              "      <td>63195</td>\n",
              "    </tr>\n",
              "    <tr>\n",
              "      <th>7152</th>\n",
              "      <td>lincoln</td>\n",
              "      <td>navigator</td>\n",
              "      <td>2016</td>\n",
              "      <td>regular_unleaded</td>\n",
              "      <td>380.0</td>\n",
              "      <td>6.0</td>\n",
              "      <td>automatic</td>\n",
              "      <td>four_wheel_drive</td>\n",
              "      <td>4.0</td>\n",
              "      <td>luxury</td>\n",
              "      <td>large</td>\n",
              "      <td>4dr_suv</td>\n",
              "      <td>19</td>\n",
              "      <td>15</td>\n",
              "      <td>61</td>\n",
              "      <td>76650</td>\n",
              "    </tr>\n",
              "    <tr>\n",
              "      <th>7153</th>\n",
              "      <td>lincoln</td>\n",
              "      <td>navigator</td>\n",
              "      <td>2016</td>\n",
              "      <td>regular_unleaded</td>\n",
              "      <td>380.0</td>\n",
              "      <td>6.0</td>\n",
              "      <td>automatic</td>\n",
              "      <td>four_wheel_drive</td>\n",
              "      <td>4.0</td>\n",
              "      <td>luxury</td>\n",
              "      <td>large</td>\n",
              "      <td>4dr_suv</td>\n",
              "      <td>19</td>\n",
              "      <td>15</td>\n",
              "      <td>61</td>\n",
              "      <td>69135</td>\n",
              "    </tr>\n",
              "    <tr>\n",
              "      <th>7154</th>\n",
              "      <td>lincoln</td>\n",
              "      <td>navigator</td>\n",
              "      <td>2016</td>\n",
              "      <td>regular_unleaded</td>\n",
              "      <td>380.0</td>\n",
              "      <td>6.0</td>\n",
              "      <td>automatic</td>\n",
              "      <td>rear_wheel_drive</td>\n",
              "      <td>4.0</td>\n",
              "      <td>luxury</td>\n",
              "      <td>large</td>\n",
              "      <td>4dr_suv</td>\n",
              "      <td>20</td>\n",
              "      <td>15</td>\n",
              "      <td>61</td>\n",
              "      <td>65560</td>\n",
              "    </tr>\n",
              "    <tr>\n",
              "      <th>...</th>\n",
              "      <td>...</td>\n",
              "      <td>...</td>\n",
              "      <td>...</td>\n",
              "      <td>...</td>\n",
              "      <td>...</td>\n",
              "      <td>...</td>\n",
              "      <td>...</td>\n",
              "      <td>...</td>\n",
              "      <td>...</td>\n",
              "      <td>...</td>\n",
              "      <td>...</td>\n",
              "      <td>...</td>\n",
              "      <td>...</td>\n",
              "      <td>...</td>\n",
              "      <td>...</td>\n",
              "      <td>...</td>\n",
              "    </tr>\n",
              "    <tr>\n",
              "      <th>9527</th>\n",
              "      <td>chevrolet</td>\n",
              "      <td>silverado_1500</td>\n",
              "      <td>2015</td>\n",
              "      <td>flex-fuel_(unleaded/e85)</td>\n",
              "      <td>285.0</td>\n",
              "      <td>6.0</td>\n",
              "      <td>automatic</td>\n",
              "      <td>four_wheel_drive</td>\n",
              "      <td>4.0</td>\n",
              "      <td>flex_fuel</td>\n",
              "      <td>large</td>\n",
              "      <td>crew_cab_pickup</td>\n",
              "      <td>22</td>\n",
              "      <td>17</td>\n",
              "      <td>1385</td>\n",
              "      <td>37380</td>\n",
              "    </tr>\n",
              "    <tr>\n",
              "      <th>9528</th>\n",
              "      <td>chevrolet</td>\n",
              "      <td>silverado_1500</td>\n",
              "      <td>2015</td>\n",
              "      <td>regular_unleaded</td>\n",
              "      <td>355.0</td>\n",
              "      <td>8.0</td>\n",
              "      <td>automatic</td>\n",
              "      <td>rear_wheel_drive</td>\n",
              "      <td>4.0</td>\n",
              "      <td>NaN</td>\n",
              "      <td>large</td>\n",
              "      <td>extended_cab_pickup</td>\n",
              "      <td>23</td>\n",
              "      <td>16</td>\n",
              "      <td>1385</td>\n",
              "      <td>40100</td>\n",
              "    </tr>\n",
              "    <tr>\n",
              "      <th>9529</th>\n",
              "      <td>chevrolet</td>\n",
              "      <td>silverado_1500</td>\n",
              "      <td>2015</td>\n",
              "      <td>regular_unleaded</td>\n",
              "      <td>355.0</td>\n",
              "      <td>8.0</td>\n",
              "      <td>automatic</td>\n",
              "      <td>rear_wheel_drive</td>\n",
              "      <td>4.0</td>\n",
              "      <td>NaN</td>\n",
              "      <td>large</td>\n",
              "      <td>crew_cab_pickup</td>\n",
              "      <td>23</td>\n",
              "      <td>16</td>\n",
              "      <td>1385</td>\n",
              "      <td>42560</td>\n",
              "    </tr>\n",
              "    <tr>\n",
              "      <th>9530</th>\n",
              "      <td>chevrolet</td>\n",
              "      <td>silverado_1500</td>\n",
              "      <td>2015</td>\n",
              "      <td>regular_unleaded</td>\n",
              "      <td>355.0</td>\n",
              "      <td>8.0</td>\n",
              "      <td>automatic</td>\n",
              "      <td>rear_wheel_drive</td>\n",
              "      <td>4.0</td>\n",
              "      <td>NaN</td>\n",
              "      <td>large</td>\n",
              "      <td>crew_cab_pickup</td>\n",
              "      <td>23</td>\n",
              "      <td>16</td>\n",
              "      <td>1385</td>\n",
              "      <td>42860</td>\n",
              "    </tr>\n",
              "    <tr>\n",
              "      <th>9531</th>\n",
              "      <td>chevrolet</td>\n",
              "      <td>silverado_1500</td>\n",
              "      <td>2015</td>\n",
              "      <td>regular_unleaded</td>\n",
              "      <td>355.0</td>\n",
              "      <td>8.0</td>\n",
              "      <td>automatic</td>\n",
              "      <td>four_wheel_drive</td>\n",
              "      <td>4.0</td>\n",
              "      <td>NaN</td>\n",
              "      <td>large</td>\n",
              "      <td>crew_cab_pickup</td>\n",
              "      <td>22</td>\n",
              "      <td>16</td>\n",
              "      <td>1385</td>\n",
              "      <td>45120</td>\n",
              "    </tr>\n",
              "  </tbody>\n",
              "</table>\n",
              "<p>2382 rows × 16 columns</p>\n",
              "</div>\n",
              "      <button class=\"colab-df-convert\" onclick=\"convertToInteractive('df-144228a6-5e2c-40f1-b398-99c689668315')\"\n",
              "              title=\"Convert this dataframe to an interactive table.\"\n",
              "              style=\"display:none;\">\n",
              "        \n",
              "  <svg xmlns=\"http://www.w3.org/2000/svg\" height=\"24px\"viewBox=\"0 0 24 24\"\n",
              "       width=\"24px\">\n",
              "    <path d=\"M0 0h24v24H0V0z\" fill=\"none\"/>\n",
              "    <path d=\"M18.56 5.44l.94 2.06.94-2.06 2.06-.94-2.06-.94-.94-2.06-.94 2.06-2.06.94zm-11 1L8.5 8.5l.94-2.06 2.06-.94-2.06-.94L8.5 2.5l-.94 2.06-2.06.94zm10 10l.94 2.06.94-2.06 2.06-.94-2.06-.94-.94-2.06-.94 2.06-2.06.94z\"/><path d=\"M17.41 7.96l-1.37-1.37c-.4-.4-.92-.59-1.43-.59-.52 0-1.04.2-1.43.59L10.3 9.45l-7.72 7.72c-.78.78-.78 2.05 0 2.83L4 21.41c.39.39.9.59 1.41.59.51 0 1.02-.2 1.41-.59l7.78-7.78 2.81-2.81c.8-.78.8-2.07 0-2.86zM5.41 20L4 18.59l7.72-7.72 1.47 1.35L5.41 20z\"/>\n",
              "  </svg>\n",
              "      </button>\n",
              "      \n",
              "  <style>\n",
              "    .colab-df-container {\n",
              "      display:flex;\n",
              "      flex-wrap:wrap;\n",
              "      gap: 12px;\n",
              "    }\n",
              "\n",
              "    .colab-df-convert {\n",
              "      background-color: #E8F0FE;\n",
              "      border: none;\n",
              "      border-radius: 50%;\n",
              "      cursor: pointer;\n",
              "      display: none;\n",
              "      fill: #1967D2;\n",
              "      height: 32px;\n",
              "      padding: 0 0 0 0;\n",
              "      width: 32px;\n",
              "    }\n",
              "\n",
              "    .colab-df-convert:hover {\n",
              "      background-color: #E2EBFA;\n",
              "      box-shadow: 0px 1px 2px rgba(60, 64, 67, 0.3), 0px 1px 3px 1px rgba(60, 64, 67, 0.15);\n",
              "      fill: #174EA6;\n",
              "    }\n",
              "\n",
              "    [theme=dark] .colab-df-convert {\n",
              "      background-color: #3B4455;\n",
              "      fill: #D2E3FC;\n",
              "    }\n",
              "\n",
              "    [theme=dark] .colab-df-convert:hover {\n",
              "      background-color: #434B5C;\n",
              "      box-shadow: 0px 1px 3px 1px rgba(0, 0, 0, 0.15);\n",
              "      filter: drop-shadow(0px 1px 2px rgba(0, 0, 0, 0.3));\n",
              "      fill: #FFFFFF;\n",
              "    }\n",
              "  </style>\n",
              "\n",
              "      <script>\n",
              "        const buttonEl =\n",
              "          document.querySelector('#df-144228a6-5e2c-40f1-b398-99c689668315 button.colab-df-convert');\n",
              "        buttonEl.style.display =\n",
              "          google.colab.kernel.accessAllowed ? 'block' : 'none';\n",
              "\n",
              "        async function convertToInteractive(key) {\n",
              "          const element = document.querySelector('#df-144228a6-5e2c-40f1-b398-99c689668315');\n",
              "          const dataTable =\n",
              "            await google.colab.kernel.invokeFunction('convertToInteractive',\n",
              "                                                     [key], {});\n",
              "          if (!dataTable) return;\n",
              "\n",
              "          const docLinkHtml = 'Like what you see? Visit the ' +\n",
              "            '<a target=\"_blank\" href=https://colab.research.google.com/notebooks/data_table.ipynb>data table notebook</a>'\n",
              "            + ' to learn more about interactive tables.';\n",
              "          element.innerHTML = '';\n",
              "          dataTable['output_type'] = 'display_data';\n",
              "          await google.colab.output.renderOutput(dataTable, element);\n",
              "          const docLink = document.createElement('div');\n",
              "          docLink.innerHTML = docLinkHtml;\n",
              "          element.appendChild(docLink);\n",
              "        }\n",
              "      </script>\n",
              "    </div>\n",
              "  </div>\n",
              "  "
            ]
          },
          "metadata": {},
          "execution_count": 175
        }
      ]
    },
    {
      "cell_type": "markdown",
      "source": [
        "We need to shuffle each row among the different dataset so that each of the different makes are randomly distributed among the df_test, df_validation_ and df_train. If there is some accidental order in the dataset, we want to break it.\n",
        "\n",
        "Recall that with the iloc function, we can specify an arbitrary sequence of numbers.\n",
        "\n",
        "For example: df.iloc[[10, 0, 3, 5]]"
      ],
      "metadata": {
        "id": "2HOta-xk0tna"
      }
    },
    {
      "cell_type": "code",
      "source": [
        "idx = np.arange(n) # Generates an array of numbers from 1 to (n - 1); uses NumPy \n",
        "# function called arange; stored as idx (short for index).\n",
        "# n is the variable set above\n",
        "idx # Display index"
      ],
      "metadata": {
        "colab": {
          "base_uri": "https://localhost:8080/"
        },
        "id": "RXrmgRW9lXmG",
        "outputId": "650c6a29-be79-4f01-a2b6-1da9425fd95c"
      },
      "execution_count": 176,
      "outputs": [
        {
          "output_type": "execute_result",
          "data": {
            "text/plain": [
              "array([    0,     1,     2, ..., 11911, 11912, 11913])"
            ]
          },
          "metadata": {},
          "execution_count": 176
        }
      ]
    },
    {
      "cell_type": "code",
      "source": [
        "np.random.seed(2) # Establish a reproduceable shuffle\n",
        "np.random.shuffle(idx) # Shuffle the index."
      ],
      "metadata": {
        "id": "Z1zROpg-lXty"
      },
      "execution_count": 177,
      "outputs": []
    },
    {
      "cell_type": "code",
      "source": [
        "idx"
      ],
      "metadata": {
        "colab": {
          "base_uri": "https://localhost:8080/"
        },
        "id": "0kQkrHerlX1o",
        "outputId": "3bb1b4ce-4b0a-4fb9-82ee-c74e90db57db"
      },
      "execution_count": 178,
      "outputs": [
        {
          "output_type": "execute_result",
          "data": {
            "text/plain": [
              "array([2735, 6720, 5878, ..., 6637, 2575, 7336])"
            ]
          },
          "metadata": {},
          "execution_count": 178
        }
      ]
    },
    {
      "cell_type": "markdown",
      "source": [
        "Now that the index is shuffled, we apply it to our traning dataset, our test dataset, and our validation dataset by extracting the appropriate amount of data from the entire dataset."
      ],
      "metadata": {
        "id": "AaSSKx_-7JZn"
      }
    },
    {
      "cell_type": "markdown",
      "source": [
        "## Newly Shuffled Dataframes"
      ],
      "metadata": {
        "id": "wDrVOeg58liy"
      }
    },
    {
      "cell_type": "code",
      "source": [
        "df_train = df.iloc[idx[:n_train]] # Locks the beginning 7,150 indexes in the\n",
        " # newly-shuffled index; stored as df_train.\n",
        "df_val = df.iloc[idx[n_train:n_train + n_val]] # Locks the next 2,382 indexes up \n",
        " # to the test dataframe; stored as df_val.\n",
        "df_test = df.iloc[idx[n_train + n_val:]] # Locks the remaining indexes in the \n",
        " # dataframe; stored as df_test."
      ],
      "metadata": {
        "id": "7j2oJkUBlX87"
      },
      "execution_count": 179,
      "outputs": []
    },
    {
      "cell_type": "code",
      "source": [
        "df_train.head() # Display first five rows of the training dataset."
      ],
      "metadata": {
        "colab": {
          "base_uri": "https://localhost:8080/",
          "height": 206
        },
        "id": "UAxxzhQWlYAE",
        "outputId": "9e852efc-1c6e-4bda-b80a-5f47eb2e1742"
      },
      "execution_count": 180,
      "outputs": [
        {
          "output_type": "execute_result",
          "data": {
            "text/plain": [
              "             make    model  year          engine_fuel_type  engine_hp  \\\n",
              "2735    chevrolet   cobalt  2008          regular_unleaded      148.0   \n",
              "6720       toyota   matrix  2012          regular_unleaded      132.0   \n",
              "5878       subaru  impreza  2016          regular_unleaded      148.0   \n",
              "11190  volkswagen  vanagon  1991          regular_unleaded       90.0   \n",
              "4554         ford    f-150  2017  flex-fuel_(unleaded/e85)      385.0   \n",
              "\n",
              "       engine_cylinders transmission_type      driven_wheels  number_of_doors  \\\n",
              "2735                4.0            manual  front_wheel_drive              2.0   \n",
              "6720                4.0         automatic  front_wheel_drive              4.0   \n",
              "5878                4.0         automatic    all_wheel_drive              4.0   \n",
              "11190               4.0            manual   rear_wheel_drive              3.0   \n",
              "4554                8.0         automatic   four_wheel_drive              4.0   \n",
              "\n",
              "      market_category vehicle_size      vehicle_style  highway_mpg  city_mpg  \\\n",
              "2735              NaN      compact              coupe           33        24   \n",
              "6720        hatchback      compact      4dr_hatchback           32        25   \n",
              "5878        hatchback      compact      4dr_hatchback           37        28   \n",
              "11190             NaN        large  passenger_minivan           18        16   \n",
              "4554        flex_fuel        large    crew_cab_pickup           21        15   \n",
              "\n",
              "       popularity   msrp  \n",
              "2735         1385  14410  \n",
              "6720         2031  19685  \n",
              "5878          640  19795  \n",
              "11190         873   2000  \n",
              "4554         5657  56260  "
            ],
            "text/html": [
              "\n",
              "  <div id=\"df-c31117cc-77a1-43ff-83a9-ec5b56142d2b\">\n",
              "    <div class=\"colab-df-container\">\n",
              "      <div>\n",
              "<style scoped>\n",
              "    .dataframe tbody tr th:only-of-type {\n",
              "        vertical-align: middle;\n",
              "    }\n",
              "\n",
              "    .dataframe tbody tr th {\n",
              "        vertical-align: top;\n",
              "    }\n",
              "\n",
              "    .dataframe thead th {\n",
              "        text-align: right;\n",
              "    }\n",
              "</style>\n",
              "<table border=\"1\" class=\"dataframe\">\n",
              "  <thead>\n",
              "    <tr style=\"text-align: right;\">\n",
              "      <th></th>\n",
              "      <th>make</th>\n",
              "      <th>model</th>\n",
              "      <th>year</th>\n",
              "      <th>engine_fuel_type</th>\n",
              "      <th>engine_hp</th>\n",
              "      <th>engine_cylinders</th>\n",
              "      <th>transmission_type</th>\n",
              "      <th>driven_wheels</th>\n",
              "      <th>number_of_doors</th>\n",
              "      <th>market_category</th>\n",
              "      <th>vehicle_size</th>\n",
              "      <th>vehicle_style</th>\n",
              "      <th>highway_mpg</th>\n",
              "      <th>city_mpg</th>\n",
              "      <th>popularity</th>\n",
              "      <th>msrp</th>\n",
              "    </tr>\n",
              "  </thead>\n",
              "  <tbody>\n",
              "    <tr>\n",
              "      <th>2735</th>\n",
              "      <td>chevrolet</td>\n",
              "      <td>cobalt</td>\n",
              "      <td>2008</td>\n",
              "      <td>regular_unleaded</td>\n",
              "      <td>148.0</td>\n",
              "      <td>4.0</td>\n",
              "      <td>manual</td>\n",
              "      <td>front_wheel_drive</td>\n",
              "      <td>2.0</td>\n",
              "      <td>NaN</td>\n",
              "      <td>compact</td>\n",
              "      <td>coupe</td>\n",
              "      <td>33</td>\n",
              "      <td>24</td>\n",
              "      <td>1385</td>\n",
              "      <td>14410</td>\n",
              "    </tr>\n",
              "    <tr>\n",
              "      <th>6720</th>\n",
              "      <td>toyota</td>\n",
              "      <td>matrix</td>\n",
              "      <td>2012</td>\n",
              "      <td>regular_unleaded</td>\n",
              "      <td>132.0</td>\n",
              "      <td>4.0</td>\n",
              "      <td>automatic</td>\n",
              "      <td>front_wheel_drive</td>\n",
              "      <td>4.0</td>\n",
              "      <td>hatchback</td>\n",
              "      <td>compact</td>\n",
              "      <td>4dr_hatchback</td>\n",
              "      <td>32</td>\n",
              "      <td>25</td>\n",
              "      <td>2031</td>\n",
              "      <td>19685</td>\n",
              "    </tr>\n",
              "    <tr>\n",
              "      <th>5878</th>\n",
              "      <td>subaru</td>\n",
              "      <td>impreza</td>\n",
              "      <td>2016</td>\n",
              "      <td>regular_unleaded</td>\n",
              "      <td>148.0</td>\n",
              "      <td>4.0</td>\n",
              "      <td>automatic</td>\n",
              "      <td>all_wheel_drive</td>\n",
              "      <td>4.0</td>\n",
              "      <td>hatchback</td>\n",
              "      <td>compact</td>\n",
              "      <td>4dr_hatchback</td>\n",
              "      <td>37</td>\n",
              "      <td>28</td>\n",
              "      <td>640</td>\n",
              "      <td>19795</td>\n",
              "    </tr>\n",
              "    <tr>\n",
              "      <th>11190</th>\n",
              "      <td>volkswagen</td>\n",
              "      <td>vanagon</td>\n",
              "      <td>1991</td>\n",
              "      <td>regular_unleaded</td>\n",
              "      <td>90.0</td>\n",
              "      <td>4.0</td>\n",
              "      <td>manual</td>\n",
              "      <td>rear_wheel_drive</td>\n",
              "      <td>3.0</td>\n",
              "      <td>NaN</td>\n",
              "      <td>large</td>\n",
              "      <td>passenger_minivan</td>\n",
              "      <td>18</td>\n",
              "      <td>16</td>\n",
              "      <td>873</td>\n",
              "      <td>2000</td>\n",
              "    </tr>\n",
              "    <tr>\n",
              "      <th>4554</th>\n",
              "      <td>ford</td>\n",
              "      <td>f-150</td>\n",
              "      <td>2017</td>\n",
              "      <td>flex-fuel_(unleaded/e85)</td>\n",
              "      <td>385.0</td>\n",
              "      <td>8.0</td>\n",
              "      <td>automatic</td>\n",
              "      <td>four_wheel_drive</td>\n",
              "      <td>4.0</td>\n",
              "      <td>flex_fuel</td>\n",
              "      <td>large</td>\n",
              "      <td>crew_cab_pickup</td>\n",
              "      <td>21</td>\n",
              "      <td>15</td>\n",
              "      <td>5657</td>\n",
              "      <td>56260</td>\n",
              "    </tr>\n",
              "  </tbody>\n",
              "</table>\n",
              "</div>\n",
              "      <button class=\"colab-df-convert\" onclick=\"convertToInteractive('df-c31117cc-77a1-43ff-83a9-ec5b56142d2b')\"\n",
              "              title=\"Convert this dataframe to an interactive table.\"\n",
              "              style=\"display:none;\">\n",
              "        \n",
              "  <svg xmlns=\"http://www.w3.org/2000/svg\" height=\"24px\"viewBox=\"0 0 24 24\"\n",
              "       width=\"24px\">\n",
              "    <path d=\"M0 0h24v24H0V0z\" fill=\"none\"/>\n",
              "    <path d=\"M18.56 5.44l.94 2.06.94-2.06 2.06-.94-2.06-.94-.94-2.06-.94 2.06-2.06.94zm-11 1L8.5 8.5l.94-2.06 2.06-.94-2.06-.94L8.5 2.5l-.94 2.06-2.06.94zm10 10l.94 2.06.94-2.06 2.06-.94-2.06-.94-.94-2.06-.94 2.06-2.06.94z\"/><path d=\"M17.41 7.96l-1.37-1.37c-.4-.4-.92-.59-1.43-.59-.52 0-1.04.2-1.43.59L10.3 9.45l-7.72 7.72c-.78.78-.78 2.05 0 2.83L4 21.41c.39.39.9.59 1.41.59.51 0 1.02-.2 1.41-.59l7.78-7.78 2.81-2.81c.8-.78.8-2.07 0-2.86zM5.41 20L4 18.59l7.72-7.72 1.47 1.35L5.41 20z\"/>\n",
              "  </svg>\n",
              "      </button>\n",
              "      \n",
              "  <style>\n",
              "    .colab-df-container {\n",
              "      display:flex;\n",
              "      flex-wrap:wrap;\n",
              "      gap: 12px;\n",
              "    }\n",
              "\n",
              "    .colab-df-convert {\n",
              "      background-color: #E8F0FE;\n",
              "      border: none;\n",
              "      border-radius: 50%;\n",
              "      cursor: pointer;\n",
              "      display: none;\n",
              "      fill: #1967D2;\n",
              "      height: 32px;\n",
              "      padding: 0 0 0 0;\n",
              "      width: 32px;\n",
              "    }\n",
              "\n",
              "    .colab-df-convert:hover {\n",
              "      background-color: #E2EBFA;\n",
              "      box-shadow: 0px 1px 2px rgba(60, 64, 67, 0.3), 0px 1px 3px 1px rgba(60, 64, 67, 0.15);\n",
              "      fill: #174EA6;\n",
              "    }\n",
              "\n",
              "    [theme=dark] .colab-df-convert {\n",
              "      background-color: #3B4455;\n",
              "      fill: #D2E3FC;\n",
              "    }\n",
              "\n",
              "    [theme=dark] .colab-df-convert:hover {\n",
              "      background-color: #434B5C;\n",
              "      box-shadow: 0px 1px 3px 1px rgba(0, 0, 0, 0.15);\n",
              "      filter: drop-shadow(0px 1px 2px rgba(0, 0, 0, 0.3));\n",
              "      fill: #FFFFFF;\n",
              "    }\n",
              "  </style>\n",
              "\n",
              "      <script>\n",
              "        const buttonEl =\n",
              "          document.querySelector('#df-c31117cc-77a1-43ff-83a9-ec5b56142d2b button.colab-df-convert');\n",
              "        buttonEl.style.display =\n",
              "          google.colab.kernel.accessAllowed ? 'block' : 'none';\n",
              "\n",
              "        async function convertToInteractive(key) {\n",
              "          const element = document.querySelector('#df-c31117cc-77a1-43ff-83a9-ec5b56142d2b');\n",
              "          const dataTable =\n",
              "            await google.colab.kernel.invokeFunction('convertToInteractive',\n",
              "                                                     [key], {});\n",
              "          if (!dataTable) return;\n",
              "\n",
              "          const docLinkHtml = 'Like what you see? Visit the ' +\n",
              "            '<a target=\"_blank\" href=https://colab.research.google.com/notebooks/data_table.ipynb>data table notebook</a>'\n",
              "            + ' to learn more about interactive tables.';\n",
              "          element.innerHTML = '';\n",
              "          dataTable['output_type'] = 'display_data';\n",
              "          await google.colab.output.renderOutput(dataTable, element);\n",
              "          const docLink = document.createElement('div');\n",
              "          docLink.innerHTML = docLinkHtml;\n",
              "          element.appendChild(docLink);\n",
              "        }\n",
              "      </script>\n",
              "    </div>\n",
              "  </div>\n",
              "  "
            ]
          },
          "metadata": {},
          "execution_count": 180
        }
      ]
    },
    {
      "cell_type": "markdown",
      "source": [
        "Check the lengths of each dataset"
      ],
      "metadata": {
        "id": "_YLE7pZd-eIr"
      }
    },
    {
      "cell_type": "code",
      "source": [
        "len(df_train), len(df_val), len(df_test) # Display lengths for each dataset."
      ],
      "metadata": {
        "colab": {
          "base_uri": "https://localhost:8080/"
        },
        "id": "6H5YWrTQ9-l7",
        "outputId": "7fd01d06-940f-4a44-9c30-f93462982169"
      },
      "execution_count": 181,
      "outputs": [
        {
          "output_type": "execute_result",
          "data": {
            "text/plain": [
              "(7150, 2382, 2382)"
            ]
          },
          "metadata": {},
          "execution_count": 181
        }
      ]
    },
    {
      "cell_type": "markdown",
      "source": [
        "Reset the index for each data frame."
      ],
      "metadata": {
        "id": "koxn2lDR_o8a"
      }
    },
    {
      "cell_type": "code",
      "source": [
        "df_train = df_train.reset_index(drop = True)\n",
        "df_val = df_val.reset_index(drop = True)\n",
        "df_test = df_test.reset_index(drop = True)"
      ],
      "metadata": {
        "id": "C3Ca7f9Y9--V"
      },
      "execution_count": 182,
      "outputs": []
    },
    {
      "cell_type": "markdown",
      "source": [
        "## Get the Target Variable, y"
      ],
      "metadata": {
        "id": "VGkaK0Xh_hQ8"
      }
    },
    {
      "cell_type": "code",
      "source": [
        "# use numpy becasue we do not need the overhad of a dataframe\n",
        "y_train = np.log1p(df_train.msrp.values)\n",
        "y_val = np.log1p(df_val.msrp.values)\n",
        "y_test = np.log1p(df_test.msrp.values)"
      ],
      "metadata": {
        "id": "-5_g8h7W9_H_"
      },
      "execution_count": 183,
      "outputs": []
    },
    {
      "cell_type": "markdown",
      "source": [
        "Remove the MSRP column from the training dataframe, the test dataframe, and the validation dataframe using the del command."
      ],
      "metadata": {
        "id": "N4Qkp035APOs"
      }
    },
    {
      "cell_type": "code",
      "source": [
        "del df_train['msrp']\n",
        "del df_val['msrp']\n",
        "del df_test['msrp']"
      ],
      "metadata": {
        "id": "QbCXhxFz9_Qm"
      },
      "execution_count": 184,
      "outputs": []
    },
    {
      "cell_type": "code",
      "source": [
        "len(y_train), len(y_val), len(y_test) # Sanity check"
      ],
      "metadata": {
        "id": "API7olZx8iD7",
        "outputId": "0d627bf3-79cb-4151-a386-586c9da8e865",
        "colab": {
          "base_uri": "https://localhost:8080/"
        }
      },
      "execution_count": 185,
      "outputs": [
        {
          "output_type": "execute_result",
          "data": {
            "text/plain": [
              "(7150, 2382, 2382)"
            ]
          },
          "metadata": {},
          "execution_count": 185
        }
      ]
    },
    {
      "cell_type": "markdown",
      "source": [
        "## Section 2.5: Linear Regression"
      ],
      "metadata": {
        "id": "2m72bw16A8gs"
      }
    },
    {
      "cell_type": "markdown",
      "source": [
        "Begin with the feature matrix for the training data:"
      ],
      "metadata": {
        "id": "Gq2lzbm7cedP"
      }
    },
    {
      "cell_type": "code",
      "source": [
        "df_train.iloc[10] # Displays row 10 of the training data."
      ],
      "metadata": {
        "colab": {
          "base_uri": "https://localhost:8080/"
        },
        "id": "hqK_-BanaGoL",
        "outputId": "0ead5e9f-e228-4538-e717-24ed983bdd74"
      },
      "execution_count": 186,
      "outputs": [
        {
          "output_type": "execute_result",
          "data": {
            "text/plain": [
              "make                                 rolls-royce\n",
              "model                     phantom_drophead_coupe\n",
              "year                                        2015\n",
              "engine_fuel_type     premium_unleaded_(required)\n",
              "engine_hp                                  453.0\n",
              "engine_cylinders                            12.0\n",
              "transmission_type                      automatic\n",
              "driven_wheels                   rear_wheel_drive\n",
              "number_of_doors                              2.0\n",
              "market_category        exotic,luxury,performance\n",
              "vehicle_size                               large\n",
              "vehicle_style                        convertible\n",
              "highway_mpg                                   19\n",
              "city_mpg                                      11\n",
              "popularity                                    86\n",
              "Name: 10, dtype: object"
            ]
          },
          "metadata": {},
          "execution_count": 186
        }
      ]
    },
    {
      "cell_type": "markdown",
      "source": [
        "Take the engine_hp, city_mpg, and popularity elements:"
      ],
      "metadata": {
        "id": "jsxBN3vNdEqn"
      }
    },
    {
      "cell_type": "markdown",
      "source": [
        "# Example on Training Data"
      ],
      "metadata": {
        "id": "KA_WicG6ebMV"
      }
    },
    {
      "cell_type": "code",
      "source": [
        "x_i = [453, 11, 86] # This is our feature matrix, x-sub-i for i = 10.\n",
        "# hp = 453, city mpg = 11, popularity = 86"
      ],
      "metadata": {
        "id": "XSn-mi6JadGV"
      },
      "execution_count": 187,
      "outputs": []
    },
    {
      "cell_type": "markdown",
      "source": [
        "Now, we need to write a function that takes in this X-sub-i and produces a prediction y-sub-i."
      ],
      "metadata": {
        "id": "wjfoGHpPdlgQ"
      }
    },
    {
      "cell_type": "code",
      "source": [
        "def g(x_i): # Define command; defines g(xi)\n",
        "  # do something\n",
        "  return 10000\n",
        "# This is something we implement; this will be our linear regression."
      ],
      "metadata": {
        "id": "TqRIS0Rdc2Py"
      },
      "execution_count": 188,
      "outputs": []
    },
    {
      "cell_type": "code",
      "source": [
        "g(x_i)"
      ],
      "metadata": {
        "colab": {
          "base_uri": "https://localhost:8080/"
        },
        "id": "o5KKQFKxc2Z1",
        "outputId": "5e422e51-4018-424a-dd58-cc424c7f7b12"
      },
      "execution_count": 189,
      "outputs": [
        {
          "output_type": "execute_result",
          "data": {
            "text/plain": [
              "10000"
            ]
          },
          "metadata": {},
          "execution_count": 189
        }
      ]
    },
    {
      "cell_type": "markdown",
      "source": [
        "# Implementation"
      ],
      "metadata": {
        "id": "AQ05LuNzeigM"
      }
    },
    {
      "cell_type": "markdown",
      "source": [
        "Consider x_i, where i = 10; we extracted elements from the 10th row of the training dataframe.\n",
        "\n",
        "x_i = [453, 11, 86]\n",
        "x_i1 = 453\n",
        "x_i2 = 11\n",
        "x_i3 = 86\n",
        "\n",
        "The formula for finding the linear regression would look something like this:\n",
        "\n",
        "g(x_i) = w_0 + w_1*x_i1 + w_2*x_i2 + w_3*x_i3\n",
        "\n",
        "w_0 is some prediction we make without knowing about the car, aka bias term. Then, w_1, w_2, and w_3, are multipliers that will be considered with respects to the features we extracted from the 10th row."
      ],
      "metadata": {
        "id": "BCY1qKPIgmJP"
      }
    },
    {
      "cell_type": "markdown",
      "source": [
        "# Implementation in Code"
      ],
      "metadata": {
        "id": "wgACJrnQnnSl"
      }
    },
    {
      "cell_type": "code",
      "source": [
        "x_i"
      ],
      "metadata": {
        "colab": {
          "base_uri": "https://localhost:8080/"
        },
        "id": "qEXjsLZen8sq",
        "outputId": "ad6e199b-a8c0-4ebf-c091-aacfe5081c40"
      },
      "execution_count": 190,
      "outputs": [
        {
          "output_type": "execute_result",
          "data": {
            "text/plain": [
              "[453, 11, 86]"
            ]
          },
          "metadata": {},
          "execution_count": 190
        }
      ]
    },
    {
      "cell_type": "code",
      "source": [
        "w_0 = 7.17 # w_0 is referred to as our biased term.\n",
        "w_0 "
      ],
      "metadata": {
        "colab": {
          "base_uri": "https://localhost:8080/"
        },
        "id": "ez_FHnZHoEls",
        "outputId": "bad8a636-add2-4371-dcd6-d4873af38b20"
      },
      "execution_count": 191,
      "outputs": [
        {
          "output_type": "execute_result",
          "data": {
            "text/plain": [
              "7.17"
            ]
          },
          "metadata": {},
          "execution_count": 191
        }
      ]
    },
    {
      "cell_type": "code",
      "source": [
        "w = [0.01, 0.04, 0.002] # The weights for the features we selected. For this example they were just chosen rather than justified for project purposes.\n",
        "w "
      ],
      "metadata": {
        "colab": {
          "base_uri": "https://localhost:8080/"
        },
        "id": "WOsAZ8WKoaOM",
        "outputId": "eb11102d-b0c7-46f8-a4fb-a5f57e52163c"
      },
      "execution_count": 192,
      "outputs": [
        {
          "output_type": "execute_result",
          "data": {
            "text/plain": [
              "[0.01, 0.04, 0.002]"
            ]
          },
          "metadata": {},
          "execution_count": 192
        }
      ]
    },
    {
      "cell_type": "code",
      "source": [
        "def linear_regression(x_i): # Define command; defines linear_regression(x_i)\n",
        "  n = len(x_i)\n",
        "\n",
        "  pred = w_0\n",
        "  # g(x_i) = w_0 + w_1x_i1 + w_2x_i2 + w_3*x_i3\n",
        "  for j in range(n):\n",
        "    pred = pred + w[j] * x_i[j]\n",
        "  # do something\n",
        "  return pred\n",
        "# This is something we implement; this will be our linear regression."
      ],
      "metadata": {
        "id": "2wAtwiS7c2eK"
      },
      "execution_count": 193,
      "outputs": []
    },
    {
      "cell_type": "code",
      "source": [
        "linear_regression(x_i)"
      ],
      "metadata": {
        "colab": {
          "base_uri": "https://localhost:8080/"
        },
        "id": "lWuj7UZhc2p-",
        "outputId": "7c6dc23d-df93-4b9d-a41a-0dfcd59a8815"
      },
      "execution_count": 194,
      "outputs": [
        {
          "output_type": "execute_result",
          "data": {
            "text/plain": [
              "12.312"
            ]
          },
          "metadata": {},
          "execution_count": 194
        }
      ]
    },
    {
      "cell_type": "markdown",
      "source": [
        "Start with the biased term: w_0 = 7.17; this is what we predict about the car if we don't know anything about it. What would we predict about the car if we do not know anything about the car.\n",
        "\n",
        "Then we multiply each of our featurs by their corresponding weights, and add them all together to get the expression:\n",
        "\n",
        "w_0 + (x_i1)(w_1) + (x_i2)(w_2) + (x_i3)(w_3)\n",
        "\n",
        "Plug in our values:\n",
        "\n",
        "7.17 + (453)(0.01) + (11)(0.04) + (86)(0.002) = 12.3\n",
        "\n",
        "We do know something about the car; we know it has 453 HP. If the car had 1 HP, and it was multipled by 0.01, we would get 0.01; corollary, if the car had 100 HP, and it was multipled by 0.01, we would get 1. We draw a correlation between horse power and price; that is, the more horse power a car has, the more expensive it is.\n",
        "\n",
        "The the next feature, we assess MPG in the city (we know this particular car gets 11 MPG in the city. The more fuel efficient that a car is in the city, the more expensive it is. So, if a car got 10 MPG in the city, we know that it is 0.04% cheaper than a car that gets 11 MPG.\n",
        "\n",
        "The last feature is a car's popularity; in this case 86 mentions on Twitter. This weight would be lower in this case. The car would need to be mentioned more often to be more expensive. Increasing demand can increase price.\n",
        "\n",
        "![Linear Regression Implementation Formula.jpg](data:image/jpeg;base64,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)"
      ],
      "metadata": {
        "id": "qo0CQhNbslnW"
      }
    },
    {
      "cell_type": "markdown",
      "source": [
        "# Getting Exponents"
      ],
      "metadata": {
        "id": "9WV8A5eTy8Lz"
      }
    },
    {
      "cell_type": "markdown",
      "source": [
        "We need to undo the logarithm that we applied earlier: log(y+1), so we will do the expontnet."
      ],
      "metadata": {
        "id": "FWrBHXWFzn6j"
      }
    },
    {
      "cell_type": "code",
      "source": [
        "np.exp(12.312) # Prediction value from above"
      ],
      "metadata": {
        "colab": {
          "base_uri": "https://localhost:8080/"
        },
        "id": "U1_LUT7qy62A",
        "outputId": "d682df91-87b8-4dd4-d23a-e4adc79c4568"
      },
      "execution_count": 195,
      "outputs": [
        {
          "output_type": "execute_result",
          "data": {
            "text/plain": [
              "222348.2221101062"
            ]
          },
          "metadata": {},
          "execution_count": 195
        }
      ]
    },
    {
      "cell_type": "code",
      "source": [
        "np.exp(12.312) - 1"
      ],
      "metadata": {
        "colab": {
          "base_uri": "https://localhost:8080/"
        },
        "id": "pHEFGgO4yU_5",
        "outputId": "379a4453-55e4-42d2-b61f-9e31864eb34e"
      },
      "execution_count": 196,
      "outputs": [
        {
          "output_type": "execute_result",
          "data": {
            "text/plain": [
              "222347.2221101062"
            ]
          },
          "metadata": {},
          "execution_count": 196
        }
      ]
    },
    {
      "cell_type": "code",
      "source": [
        "np.expm1(12.312) # A python function to include \"minus 1\" into the operation."
      ],
      "metadata": {
        "colab": {
          "base_uri": "https://localhost:8080/"
        },
        "id": "gH5yUjTf0MfD",
        "outputId": "956c6641-a36d-4321-ebb5-a1c456c9c0fb"
      },
      "execution_count": 197,
      "outputs": [
        {
          "output_type": "execute_result",
          "data": {
            "text/plain": [
              "222347.2221101062"
            ]
          },
          "metadata": {},
          "execution_count": 197
        }
      ]
    },
    {
      "cell_type": "code",
      "source": [
        "np.log1p(np.expm1(12.312)) # Proof"
      ],
      "metadata": {
        "colab": {
          "base_uri": "https://localhost:8080/"
        },
        "id": "H_dGJ2PC0ogm",
        "outputId": "75b57be4-7d1c-486a-c7e5-82a9c55e86d4"
      },
      "execution_count": 198,
      "outputs": [
        {
          "output_type": "execute_result",
          "data": {
            "text/plain": [
              "12.312"
            ]
          },
          "metadata": {},
          "execution_count": 198
        }
      ]
    },
    {
      "cell_type": "markdown",
      "source": [
        "# Section 2.6: Linear Regression: Vector Form"
      ],
      "metadata": {
        "id": "uxF42q5BA-az"
      }
    },
    {
      "cell_type": "code",
      "source": [
        "df_train.iloc[10]"
      ],
      "metadata": {
        "colab": {
          "base_uri": "https://localhost:8080/"
        },
        "id": "BtgT5iE7EwDN",
        "outputId": "a084782a-66f2-473e-c5e0-04a4d9920fc4"
      },
      "execution_count": 199,
      "outputs": [
        {
          "output_type": "execute_result",
          "data": {
            "text/plain": [
              "make                                 rolls-royce\n",
              "model                     phantom_drophead_coupe\n",
              "year                                        2015\n",
              "engine_fuel_type     premium_unleaded_(required)\n",
              "engine_hp                                  453.0\n",
              "engine_cylinders                            12.0\n",
              "transmission_type                      automatic\n",
              "driven_wheels                   rear_wheel_drive\n",
              "number_of_doors                              2.0\n",
              "market_category        exotic,luxury,performance\n",
              "vehicle_size                               large\n",
              "vehicle_style                        convertible\n",
              "highway_mpg                                   19\n",
              "city_mpg                                      11\n",
              "popularity                                    86\n",
              "Name: 10, dtype: object"
            ]
          },
          "metadata": {},
          "execution_count": 199
        }
      ]
    },
    {
      "cell_type": "code",
      "source": [
        "# Lets use Horespower, MPG, and poularity. Formula is g(xi) = W0 (prediction) + w1*xi1 + w2*xi2 + w3*xi3 (weight * features)\n",
        "# for the rolls-royce shown above\n",
        "xi = [453,11,86]\n",
        "# Default value\n",
        "w0 = 7.17 \n",
        "# weights given for chosen features\n",
        "w = [0.01,0.04,0.002]"
      ],
      "metadata": {
        "id": "fvfAYP0XExr-"
      },
      "execution_count": 200,
      "outputs": []
    },
    {
      "cell_type": "code",
      "source": [
        "# This will execute a dot product between x_i (feature values) and w (weights)\n",
        "def dot(x_i, w):\n",
        "  n = len(x_i)\n",
        "\n",
        "  res = 0.0\n",
        "\n",
        "  for j in range(n):\n",
        "    res = res + x_i[j] * w[j]\n",
        "\n",
        "  return res"
      ],
      "metadata": {
        "id": "LtknnLcU6v83"
      },
      "execution_count": 201,
      "outputs": []
    },
    {
      "cell_type": "code",
      "source": [
        "# Copy the linear regression function from earlier; and modify it.\n",
        "\n",
        "def linear_regression(x_i): # Define command; defines linear_regression(x_i)\n",
        "  return w_0 + dot(x_i, w) # built in dot function"
      ],
      "metadata": {
        "id": "CUaZFz9-aHfM"
      },
      "execution_count": 202,
      "outputs": []
    },
    {
      "cell_type": "markdown",
      "source": [
        "Consider the idea of an extra feature to be multiplied with our biased term, that equals 1.\n",
        "\n",
        "So the equation would actually look like this:\n",
        "\n",
        "(w_0)*(x_iO) + (x_i1)(w_1) + (x_i2)(w_2) + (x_i3)(w_3)\n",
        "\n",
        "where x_i0 = 1.\n",
        "\n",
        "So,\n",
        "\n",
        "w = [w_0, w_1, w_2, . . . , w_n]; an n + 1 dimensional vector.\n",
        "\n",
        "x_i = [x_i0, x_i1, x_i2, . . . , x_in]\n",
        "x_i = [1, x_i1, x_i2, . . . , x_in]\n",
        "\n",
        "(w^T)(x_i) = (x_i)^T(w) = w_0 + . . .\n",
        "\n",
        "We want to get everything into vector form."
      ],
      "metadata": {
        "id": "J3OZhtEU-ZQ_"
      }
    },
    {
      "cell_type": "code",
      "source": [
        "w_new = [w_0] + w # Generates a weighted vector with the biased term. Note this term is multiplied by 1 when applied\n",
        "w_new"
      ],
      "metadata": {
        "colab": {
          "base_uri": "https://localhost:8080/"
        },
        "id": "zsO7hn-fadfO",
        "outputId": "2419c41c-cce8-4b41-a7e2-88f4b4a3f3a3"
      },
      "execution_count": 203,
      "outputs": [
        {
          "output_type": "execute_result",
          "data": {
            "text/plain": [
              "[7.17, 0.01, 0.04, 0.002]"
            ]
          },
          "metadata": {},
          "execution_count": 203
        }
      ]
    },
    {
      "cell_type": "code",
      "source": [
        "def linear_regression(x_i): # Define command; defines linear_regression(x_i)\n",
        "  x_i = [1] + x_i # add in the default value for car. The one mentioned in the line above.\n",
        "  return w_0 + dot(x_i, w_new)"
      ],
      "metadata": {
        "id": "eGGxR5P3AlXb"
      },
      "execution_count": 204,
      "outputs": []
    },
    {
      "cell_type": "code",
      "source": [
        "linear_regression(x_i) # Display the linear regression."
      ],
      "metadata": {
        "colab": {
          "base_uri": "https://localhost:8080/"
        },
        "id": "OTQ8NotUAlHI",
        "outputId": "6a3527f6-1dac-4c1c-9322-762aa0c1be7e"
      },
      "execution_count": 205,
      "outputs": [
        {
          "output_type": "execute_result",
          "data": {
            "text/plain": [
              "19.482"
            ]
          },
          "metadata": {},
          "execution_count": 205
        }
      ]
    },
    {
      "cell_type": "code",
      "source": [
        "x_i = [453, 11, 86]\n",
        "w_0 = 7.17\n",
        "w = [0.01, 0.04, 0.002]\n",
        "w_new = [w_0] + w\n",
        "w_new"
      ],
      "metadata": {
        "colab": {
          "base_uri": "https://localhost:8080/"
        },
        "id": "0InVr2AOAk3V",
        "outputId": "0d9a3875-5656-4d55-9559-dce1d6636c27"
      },
      "execution_count": 206,
      "outputs": [
        {
          "output_type": "execute_result",
          "data": {
            "text/plain": [
              "[7.17, 0.01, 0.04, 0.002]"
            ]
          },
          "metadata": {},
          "execution_count": 206
        }
      ]
    },
    {
      "cell_type": "code",
      "source": [
        "x_1  = [1, 148, 24, 1385] # Features for x_1 - list\n",
        "x_2  = [1, 132, 25, 2031] # Features for x_2 - list\n",
        "x_10 = [1, 453, 11, 86] # Features for x_10 - list\n",
        "\n",
        "X = [x_1, x_2, x_10] # Creates a list of list of features\n",
        "\n",
        "X = np.array(X) # Converts everything into a 2D NumPy array.\n",
        "X # Display X"
      ],
      "metadata": {
        "id": "9GyD1ReRDFSQ",
        "colab": {
          "base_uri": "https://localhost:8080/"
        },
        "outputId": "2112bd18-2735-48e4-a7d5-88061914ab35"
      },
      "execution_count": 207,
      "outputs": [
        {
          "output_type": "execute_result",
          "data": {
            "text/plain": [
              "array([[   1,  148,   24, 1385],\n",
              "       [   1,  132,   25, 2031],\n",
              "       [   1,  453,   11,   86]])"
            ]
          },
          "metadata": {},
          "execution_count": 207
        }
      ]
    },
    {
      "cell_type": "code",
      "source": [
        "def linear_regression(X):\n",
        "  return X.dot(w_new) #applying weighted values against the features"
      ],
      "metadata": {
        "id": "OvS4tpdNDFAN"
      },
      "execution_count": 208,
      "outputs": []
    },
    {
      "cell_type": "code",
      "source": [
        "linear_regression(X)  # Display linear regression in vector form. i.e. this is our prediction based on the the feature values and weights. "
      ],
      "metadata": {
        "colab": {
          "base_uri": "https://localhost:8080/"
        },
        "id": "PJdKK17qGzte",
        "outputId": "7d53e538-52fd-47e3-b8ed-3f4bda52c0e5"
      },
      "execution_count": 209,
      "outputs": [
        {
          "output_type": "execute_result",
          "data": {
            "text/plain": [
              "array([12.38 , 13.552, 12.312])"
            ]
          },
          "metadata": {},
          "execution_count": 209
        }
      ]
    },
    {
      "cell_type": "code",
      "source": [],
      "metadata": {
        "id": "2DhclBFPYKyJ"
      },
      "execution_count": 209,
      "outputs": []
    },
    {
      "cell_type": "markdown",
      "source": [
        "#Section 2.7: Training Linear Regression: Normal Equation"
      ],
      "metadata": {
        "id": "CBNVaJlZA-vO"
      }
    },
    {
      "cell_type": "markdown",
      "source": [
        "We have g(X) = Xw (read as: the features matrix multiplied by the weights vector).\n",
        "\n",
        "Xw should be approximately equal to y; it may converge on the value of y, or it may end up equal to y, but there are times where it is impossible.\n",
        "\n",
        "I = inverse <br>\n",
        "T = transpose\n",
        "\n",
        "(XIX = 1)w = XIy (May not have an inverse)\n",
        "\n",
        "Gram metrix when inverse usually exists (multiply both sides by XT)\n",
        "\n",
        "(XTX)I*X= identity matrix) w = (XTX)I *XTy"
      ],
      "metadata": {
        "id": "9l_5Rt_y1Srg"
      }
    },
    {
      "cell_type": "code",
      "source": [
        "def train_linear_regression(X,y): # Implement the training program\n",
        "  pass"
      ],
      "metadata": {
        "id": "1f5DafKiaIZh"
      },
      "execution_count": 266,
      "outputs": []
    },
    {
      "cell_type": "code",
      "source": [
        "X # Display the feature matrix"
      ],
      "metadata": {
        "id": "KYUCRRVLaeXj",
        "colab": {
          "base_uri": "https://localhost:8080/"
        },
        "outputId": "5fc32c74-3928-42d3-ab16-b23267c5a7a6"
      },
      "execution_count": 267,
      "outputs": [
        {
          "output_type": "execute_result",
          "data": {
            "text/plain": [
              "array([[1.000e+00, 1.000e+00, 1.480e+02, 2.400e+01, 1.385e+03],\n",
              "       [1.000e+00, 1.000e+00, 1.320e+02, 2.500e+01, 2.031e+03],\n",
              "       [1.000e+00, 1.000e+00, 4.530e+02, 1.100e+01, 8.600e+01],\n",
              "       [1.000e+00, 1.000e+00, 1.580e+02, 2.400e+01, 1.850e+02],\n",
              "       [1.000e+00, 1.000e+00, 1.720e+02, 2.500e+01, 2.010e+02],\n",
              "       [1.000e+00, 1.000e+00, 4.130e+02, 1.100e+01, 8.600e+01],\n",
              "       [1.000e+00, 1.000e+00, 3.800e+01, 5.400e+01, 1.850e+02],\n",
              "       [1.000e+00, 1.000e+00, 1.420e+02, 2.500e+01, 4.310e+02],\n",
              "       [1.000e+00, 1.000e+00, 1.530e+02, 3.100e+01, 8.600e+01]])"
            ]
          },
          "metadata": {},
          "execution_count": 267
        }
      ]
    },
    {
      "cell_type": "markdown",
      "source": [
        "Note, that the feature matrix is problematic because it has more column than rows. So I returned to our featur matrix's original definition, and modified it below. This matrix will have more rows than columns."
      ],
      "metadata": {
        "id": "JOapkfylbnV1"
      }
    },
    {
      "cell_type": "code",
      "source": [
        "\n",
        "X = [\n",
        "    [148, 24, 1385],\n",
        "    [132, 25, 2031],\n",
        "    [453, 11, 86],\n",
        "    [158, 24, 185],\n",
        "    [172, 25, 201],\n",
        "    [413, 11, 86],\n",
        "    [38, 54, 185],\n",
        "    [142, 25, 431],\n",
        "    [153, 31, 86],\n",
        "     \n",
        "] # Creates a list of lists"
      ],
      "metadata": {
        "id": "eB-KOdJObmTX"
      },
      "execution_count": 294,
      "outputs": []
    },
    {
      "cell_type": "code",
      "source": [
        "X = np.array(X) # Converts everything into a 2D NumPy array.\n",
        "X # Display X"
      ],
      "metadata": {
        "id": "SpXyOuAyueGa",
        "outputId": "f3fd598c-96d4-46fa-97d8-ef89cdee3c7e",
        "colab": {
          "base_uri": "https://localhost:8080/"
        }
      },
      "execution_count": 295,
      "outputs": [
        {
          "output_type": "execute_result",
          "data": {
            "text/plain": [
              "array([[ 148,   24, 1385],\n",
              "       [ 132,   25, 2031],\n",
              "       [ 453,   11,   86],\n",
              "       [ 158,   24,  185],\n",
              "       [ 172,   25,  201],\n",
              "       [ 413,   11,   86],\n",
              "       [  38,   54,  185],\n",
              "       [ 142,   25,  431],\n",
              "       [ 153,   31,   86]])"
            ]
          },
          "metadata": {},
          "execution_count": 295
        }
      ]
    },
    {
      "cell_type": "code",
      "source": [
        "y = [100, 200, 150, 250, 100, 200, 150, 250, 120] # Define y\n",
        "# Provided for example purposes"
      ],
      "metadata": {
        "id": "w2q8aXqXux9T"
      },
      "execution_count": 270,
      "outputs": []
    },
    {
      "cell_type": "code",
      "source": [
        "XTX = X.T.dot(X) # Dot product of X-transpose and X"
      ],
      "metadata": {
        "id": "oLp-EOtNukBK"
      },
      "execution_count": 271,
      "outputs": []
    },
    {
      "cell_type": "code",
      "source": [
        "XTX_inv = np.linalg.inv(XTX) # Detemine XTX inverse\n",
        "XTX_inv"
      ],
      "metadata": {
        "colab": {
          "base_uri": "https://localhost:8080/"
        },
        "outputId": "39c3a93d-ddf4-4a64-b42a-9b9ca9faba10",
        "id": "4zea-m_1u9ii"
      },
      "execution_count": 272,
      "outputs": [
        {
          "output_type": "execute_result",
          "data": {
            "text/plain": [
              "array([[ 2.92317922e-06, -1.29788223e-05, -7.59561648e-08],\n",
              "       [-1.29788223e-05,  2.60597525e-04, -3.45422433e-06],\n",
              "       [-7.59561648e-08, -3.45422433e-06,  2.30030394e-07]])"
            ]
          },
          "metadata": {},
          "execution_count": 272
        }
      ]
    },
    {
      "cell_type": "code",
      "source": [
        "XTX_inv.dot(X.T).dot(y) # Obtain dot product between the XTX and XTX_inv to \n"
      ],
      "metadata": {
        "id": "7CEE5ny1vIEh",
        "outputId": "c680f92e-a9d4-4cdf-a447-526ba41197b7",
        "colab": {
          "base_uri": "https://localhost:8080/"
        }
      },
      "execution_count": 273,
      "outputs": [
        {
          "output_type": "execute_result",
          "data": {
            "text/plain": [
              "array([0.34973415, 3.1398204 , 0.026993  ])"
            ]
          },
          "metadata": {},
          "execution_count": 273
        }
      ]
    },
    {
      "cell_type": "markdown",
      "source": [
        "We need to add a column of ones to the far left of the matrix for the default or bias value."
      ],
      "metadata": {
        "id": "jGixyt59kw3D"
      }
    },
    {
      "cell_type": "code",
      "source": [
        "#ones = np.ones(9) # Generates an array of 9 one's."
      ],
      "metadata": {
        "id": "cSk6IbR-kwEt"
      },
      "execution_count": 274,
      "outputs": []
    },
    {
      "cell_type": "markdown",
      "source": [
        "To be safe, we can acutally generate it based on the shape of X by extracting the number of rows:"
      ],
      "metadata": {
        "id": "PwzfNzhflKUQ"
      }
    },
    {
      "cell_type": "code",
      "source": [
        "ones = np.ones(X.shape[0])"
      ],
      "metadata": {
        "id": "Iuw1slBzlJd8"
      },
      "execution_count": 293,
      "outputs": []
    },
    {
      "cell_type": "code",
      "source": [
        "X = np.column_stack([ones, X]) # Combine the ones array with X; overwrite as X\n",
        "X "
      ],
      "metadata": {
        "colab": {
          "base_uri": "https://localhost:8080/"
        },
        "id": "YDpSjFXSmmjO",
        "outputId": "edfdf2ba-720b-4795-ff57-d50fcce5bcdc"
      },
      "execution_count": 276,
      "outputs": [
        {
          "output_type": "execute_result",
          "data": {
            "text/plain": [
              "array([[1.000e+00, 1.480e+02, 2.400e+01, 1.385e+03],\n",
              "       [1.000e+00, 1.320e+02, 2.500e+01, 2.031e+03],\n",
              "       [1.000e+00, 4.530e+02, 1.100e+01, 8.600e+01],\n",
              "       [1.000e+00, 1.580e+02, 2.400e+01, 1.850e+02],\n",
              "       [1.000e+00, 1.720e+02, 2.500e+01, 2.010e+02],\n",
              "       [1.000e+00, 4.130e+02, 1.100e+01, 8.600e+01],\n",
              "       [1.000e+00, 3.800e+01, 5.400e+01, 1.850e+02],\n",
              "       [1.000e+00, 1.420e+02, 2.500e+01, 4.310e+02],\n",
              "       [1.000e+00, 1.530e+02, 3.100e+01, 8.600e+01]])"
            ]
          },
          "metadata": {},
          "execution_count": 276
        }
      ]
    },
    {
      "cell_type": "markdown",
      "source": [
        "We want to implement the following into code:\n",
        "\n",
        "w = (X^T * X)^(-1) * X^T * y"
      ],
      "metadata": {
        "id": "AjcqCNKnfXQl"
      }
    },
    {
      "cell_type": "code",
      "source": [
        "y = [10000, 20000, 15000, 20050, 10000, 20000, 15000, 25000, 12000] # Define y"
      ],
      "metadata": {
        "id": "pX1pN48Cj3G5"
      },
      "execution_count": 286,
      "outputs": []
    },
    {
      "cell_type": "code",
      "source": [
        "XTX = X.T.dot(X) # Dot product of X-transpose and X"
      ],
      "metadata": {
        "id": "W20rTVhNx7zC"
      },
      "execution_count": 287,
      "outputs": []
    },
    {
      "cell_type": "code",
      "source": [
        "XTX_inv = np.linalg.inv(XTX) # Detemine XTX inverse"
      ],
      "metadata": {
        "id": "xSn_uId5blKO"
      },
      "execution_count": 288,
      "outputs": []
    },
    {
      "cell_type": "code",
      "source": [
        "w_full = XTX_inv.dot(X.T).dot(y) # Defines w."
      ],
      "metadata": {
        "id": "LEQJcmX6gi0A"
      },
      "execution_count": 289,
      "outputs": []
    },
    {
      "cell_type": "code",
      "source": [
        "W_0 = w_full[0]\n",
        "w = w_full[1:]"
      ],
      "metadata": {
        "id": "ND-04rmui8YV"
      },
      "execution_count": 290,
      "outputs": []
    },
    {
      "cell_type": "code",
      "source": [
        "w_0, w"
      ],
      "metadata": {
        "id": "pnsqCCNZykAx",
        "outputId": "4888c226-c05e-472c-bb59-4bd4f306e7bf",
        "colab": {
          "base_uri": "https://localhost:8080/"
        }
      },
      "execution_count": 291,
      "outputs": [
        {
          "output_type": "execute_result",
          "data": {
            "text/plain": [
              "(291.0462245987429, array([  -9.54495911, -160.77058197,   -0.2773146 ]))"
            ]
          },
          "metadata": {},
          "execution_count": 291
        }
      ]
    },
    {
      "cell_type": "code",
      "source": [
        "def train_linear_regression(X, y): # Implement the training program\n",
        "  ones = np.ones(X.shape[0])\n",
        "  X = np.column_stack([ones, X])\n",
        "  \n",
        "  XTX = X.T.dot(X)\n",
        "  XTX_inv = np.linalg.inv(XTX)\n",
        "  w_full = XTX_inv.dot(X.T).dot(y)\n",
        "\n",
        "  return w_full[0], w_full[1:]"
      ],
      "metadata": {
        "id": "Ux2YjGgnqWFm"
      },
      "execution_count": 283,
      "outputs": []
    },
    {
      "cell_type": "code",
      "source": [
        "train_linear_regression(X, y)"
      ],
      "metadata": {
        "colab": {
          "base_uri": "https://localhost:8080/"
        },
        "id": "ZR-U9CA-rN0e",
        "outputId": "4c0943b5-6cfd-46a3-e95b-655924bc312e"
      },
      "execution_count": 296,
      "outputs": [
        {
          "output_type": "execute_result",
          "data": {
            "text/plain": [
              "(22510.087549204396, array([  -9.54495911, -160.77058197,   -0.2773146 ]))"
            ]
          },
          "metadata": {},
          "execution_count": 296
        }
      ]
    },
    {
      "cell_type": "markdown",
      "source": [
        "# Section 2.8: Baseline Model for Car Price Prediction Project"
      ],
      "metadata": {
        "id": "fRNzrwI3A_D2"
      }
    },
    {
      "cell_type": "code",
      "source": [
        "df_train"
      ],
      "metadata": {
        "colab": {
          "base_uri": "https://localhost:8080/",
          "height": 488
        },
        "id": "Tka5Rheyzc7D",
        "outputId": "25c4f87d-32ee-40ba-c4ff-a17c8afb9fa7"
      },
      "execution_count": 297,
      "outputs": [
        {
          "output_type": "execute_result",
          "data": {
            "text/plain": [
              "             make        model  year                engine_fuel_type  \\\n",
              "0       chevrolet       cobalt  2008                regular_unleaded   \n",
              "1          toyota       matrix  2012                regular_unleaded   \n",
              "2          subaru      impreza  2016                regular_unleaded   \n",
              "3      volkswagen      vanagon  1991                regular_unleaded   \n",
              "4            ford        f-150  2017        flex-fuel_(unleaded/e85)   \n",
              "...           ...          ...   ...                             ...   \n",
              "7145          bmw     4_series  2015     premium_unleaded_(required)   \n",
              "7146   volkswagen       beetle  2015  premium_unleaded_(recommended)   \n",
              "7147          gmc  sierra_1500  2015        flex-fuel_(unleaded/e85)   \n",
              "7148  rolls-royce        ghost  2014     premium_unleaded_(required)   \n",
              "7149   volkswagen           cc  2017  premium_unleaded_(recommended)   \n",
              "\n",
              "      engine_hp  engine_cylinders transmission_type      driven_wheels  \\\n",
              "0         148.0               4.0            manual  front_wheel_drive   \n",
              "1         132.0               4.0         automatic  front_wheel_drive   \n",
              "2         148.0               4.0         automatic    all_wheel_drive   \n",
              "3          90.0               4.0            manual   rear_wheel_drive   \n",
              "4         385.0               8.0         automatic   four_wheel_drive   \n",
              "...         ...               ...               ...                ...   \n",
              "7145      300.0               6.0         automatic   rear_wheel_drive   \n",
              "7146      210.0               4.0  automated_manual  front_wheel_drive   \n",
              "7147      285.0               6.0         automatic   four_wheel_drive   \n",
              "7148      563.0              12.0         automatic   rear_wheel_drive   \n",
              "7149      200.0               4.0  automated_manual  front_wheel_drive   \n",
              "\n",
              "      number_of_doors            market_category vehicle_size  \\\n",
              "0                 2.0                        NaN      compact   \n",
              "1                 4.0                  hatchback      compact   \n",
              "2                 4.0                  hatchback      compact   \n",
              "3                 3.0                        NaN        large   \n",
              "4                 4.0                  flex_fuel        large   \n",
              "...               ...                        ...          ...   \n",
              "7145              2.0         luxury,performance      midsize   \n",
              "7146              2.0      hatchback,performance      compact   \n",
              "7147              4.0                  flex_fuel        large   \n",
              "7148              4.0  exotic,luxury,performance        large   \n",
              "7149              4.0                performance      midsize   \n",
              "\n",
              "            vehicle_style  highway_mpg  city_mpg  popularity  \n",
              "0                   coupe           33        24        1385  \n",
              "1           4dr_hatchback           32        25        2031  \n",
              "2           4dr_hatchback           37        28         640  \n",
              "3       passenger_minivan           18        16         873  \n",
              "4         crew_cab_pickup           21        15        5657  \n",
              "...                   ...          ...       ...         ...  \n",
              "7145          convertible           31        20        3916  \n",
              "7146        2dr_hatchback           30        24         873  \n",
              "7147  extended_cab_pickup           22        17         549  \n",
              "7148                sedan           21        13          86  \n",
              "7149                sedan           31        22         873  \n",
              "\n",
              "[7150 rows x 15 columns]"
            ],
            "text/html": [
              "\n",
              "  <div id=\"df-70ce7f3b-164b-4919-857f-4588c9284ec9\">\n",
              "    <div class=\"colab-df-container\">\n",
              "      <div>\n",
              "<style scoped>\n",
              "    .dataframe tbody tr th:only-of-type {\n",
              "        vertical-align: middle;\n",
              "    }\n",
              "\n",
              "    .dataframe tbody tr th {\n",
              "        vertical-align: top;\n",
              "    }\n",
              "\n",
              "    .dataframe thead th {\n",
              "        text-align: right;\n",
              "    }\n",
              "</style>\n",
              "<table border=\"1\" class=\"dataframe\">\n",
              "  <thead>\n",
              "    <tr style=\"text-align: right;\">\n",
              "      <th></th>\n",
              "      <th>make</th>\n",
              "      <th>model</th>\n",
              "      <th>year</th>\n",
              "      <th>engine_fuel_type</th>\n",
              "      <th>engine_hp</th>\n",
              "      <th>engine_cylinders</th>\n",
              "      <th>transmission_type</th>\n",
              "      <th>driven_wheels</th>\n",
              "      <th>number_of_doors</th>\n",
              "      <th>market_category</th>\n",
              "      <th>vehicle_size</th>\n",
              "      <th>vehicle_style</th>\n",
              "      <th>highway_mpg</th>\n",
              "      <th>city_mpg</th>\n",
              "      <th>popularity</th>\n",
              "    </tr>\n",
              "  </thead>\n",
              "  <tbody>\n",
              "    <tr>\n",
              "      <th>0</th>\n",
              "      <td>chevrolet</td>\n",
              "      <td>cobalt</td>\n",
              "      <td>2008</td>\n",
              "      <td>regular_unleaded</td>\n",
              "      <td>148.0</td>\n",
              "      <td>4.0</td>\n",
              "      <td>manual</td>\n",
              "      <td>front_wheel_drive</td>\n",
              "      <td>2.0</td>\n",
              "      <td>NaN</td>\n",
              "      <td>compact</td>\n",
              "      <td>coupe</td>\n",
              "      <td>33</td>\n",
              "      <td>24</td>\n",
              "      <td>1385</td>\n",
              "    </tr>\n",
              "    <tr>\n",
              "      <th>1</th>\n",
              "      <td>toyota</td>\n",
              "      <td>matrix</td>\n",
              "      <td>2012</td>\n",
              "      <td>regular_unleaded</td>\n",
              "      <td>132.0</td>\n",
              "      <td>4.0</td>\n",
              "      <td>automatic</td>\n",
              "      <td>front_wheel_drive</td>\n",
              "      <td>4.0</td>\n",
              "      <td>hatchback</td>\n",
              "      <td>compact</td>\n",
              "      <td>4dr_hatchback</td>\n",
              "      <td>32</td>\n",
              "      <td>25</td>\n",
              "      <td>2031</td>\n",
              "    </tr>\n",
              "    <tr>\n",
              "      <th>2</th>\n",
              "      <td>subaru</td>\n",
              "      <td>impreza</td>\n",
              "      <td>2016</td>\n",
              "      <td>regular_unleaded</td>\n",
              "      <td>148.0</td>\n",
              "      <td>4.0</td>\n",
              "      <td>automatic</td>\n",
              "      <td>all_wheel_drive</td>\n",
              "      <td>4.0</td>\n",
              "      <td>hatchback</td>\n",
              "      <td>compact</td>\n",
              "      <td>4dr_hatchback</td>\n",
              "      <td>37</td>\n",
              "      <td>28</td>\n",
              "      <td>640</td>\n",
              "    </tr>\n",
              "    <tr>\n",
              "      <th>3</th>\n",
              "      <td>volkswagen</td>\n",
              "      <td>vanagon</td>\n",
              "      <td>1991</td>\n",
              "      <td>regular_unleaded</td>\n",
              "      <td>90.0</td>\n",
              "      <td>4.0</td>\n",
              "      <td>manual</td>\n",
              "      <td>rear_wheel_drive</td>\n",
              "      <td>3.0</td>\n",
              "      <td>NaN</td>\n",
              "      <td>large</td>\n",
              "      <td>passenger_minivan</td>\n",
              "      <td>18</td>\n",
              "      <td>16</td>\n",
              "      <td>873</td>\n",
              "    </tr>\n",
              "    <tr>\n",
              "      <th>4</th>\n",
              "      <td>ford</td>\n",
              "      <td>f-150</td>\n",
              "      <td>2017</td>\n",
              "      <td>flex-fuel_(unleaded/e85)</td>\n",
              "      <td>385.0</td>\n",
              "      <td>8.0</td>\n",
              "      <td>automatic</td>\n",
              "      <td>four_wheel_drive</td>\n",
              "      <td>4.0</td>\n",
              "      <td>flex_fuel</td>\n",
              "      <td>large</td>\n",
              "      <td>crew_cab_pickup</td>\n",
              "      <td>21</td>\n",
              "      <td>15</td>\n",
              "      <td>5657</td>\n",
              "    </tr>\n",
              "    <tr>\n",
              "      <th>...</th>\n",
              "      <td>...</td>\n",
              "      <td>...</td>\n",
              "      <td>...</td>\n",
              "      <td>...</td>\n",
              "      <td>...</td>\n",
              "      <td>...</td>\n",
              "      <td>...</td>\n",
              "      <td>...</td>\n",
              "      <td>...</td>\n",
              "      <td>...</td>\n",
              "      <td>...</td>\n",
              "      <td>...</td>\n",
              "      <td>...</td>\n",
              "      <td>...</td>\n",
              "      <td>...</td>\n",
              "    </tr>\n",
              "    <tr>\n",
              "      <th>7145</th>\n",
              "      <td>bmw</td>\n",
              "      <td>4_series</td>\n",
              "      <td>2015</td>\n",
              "      <td>premium_unleaded_(required)</td>\n",
              "      <td>300.0</td>\n",
              "      <td>6.0</td>\n",
              "      <td>automatic</td>\n",
              "      <td>rear_wheel_drive</td>\n",
              "      <td>2.0</td>\n",
              "      <td>luxury,performance</td>\n",
              "      <td>midsize</td>\n",
              "      <td>convertible</td>\n",
              "      <td>31</td>\n",
              "      <td>20</td>\n",
              "      <td>3916</td>\n",
              "    </tr>\n",
              "    <tr>\n",
              "      <th>7146</th>\n",
              "      <td>volkswagen</td>\n",
              "      <td>beetle</td>\n",
              "      <td>2015</td>\n",
              "      <td>premium_unleaded_(recommended)</td>\n",
              "      <td>210.0</td>\n",
              "      <td>4.0</td>\n",
              "      <td>automated_manual</td>\n",
              "      <td>front_wheel_drive</td>\n",
              "      <td>2.0</td>\n",
              "      <td>hatchback,performance</td>\n",
              "      <td>compact</td>\n",
              "      <td>2dr_hatchback</td>\n",
              "      <td>30</td>\n",
              "      <td>24</td>\n",
              "      <td>873</td>\n",
              "    </tr>\n",
              "    <tr>\n",
              "      <th>7147</th>\n",
              "      <td>gmc</td>\n",
              "      <td>sierra_1500</td>\n",
              "      <td>2015</td>\n",
              "      <td>flex-fuel_(unleaded/e85)</td>\n",
              "      <td>285.0</td>\n",
              "      <td>6.0</td>\n",
              "      <td>automatic</td>\n",
              "      <td>four_wheel_drive</td>\n",
              "      <td>4.0</td>\n",
              "      <td>flex_fuel</td>\n",
              "      <td>large</td>\n",
              "      <td>extended_cab_pickup</td>\n",
              "      <td>22</td>\n",
              "      <td>17</td>\n",
              "      <td>549</td>\n",
              "    </tr>\n",
              "    <tr>\n",
              "      <th>7148</th>\n",
              "      <td>rolls-royce</td>\n",
              "      <td>ghost</td>\n",
              "      <td>2014</td>\n",
              "      <td>premium_unleaded_(required)</td>\n",
              "      <td>563.0</td>\n",
              "      <td>12.0</td>\n",
              "      <td>automatic</td>\n",
              "      <td>rear_wheel_drive</td>\n",
              "      <td>4.0</td>\n",
              "      <td>exotic,luxury,performance</td>\n",
              "      <td>large</td>\n",
              "      <td>sedan</td>\n",
              "      <td>21</td>\n",
              "      <td>13</td>\n",
              "      <td>86</td>\n",
              "    </tr>\n",
              "    <tr>\n",
              "      <th>7149</th>\n",
              "      <td>volkswagen</td>\n",
              "      <td>cc</td>\n",
              "      <td>2017</td>\n",
              "      <td>premium_unleaded_(recommended)</td>\n",
              "      <td>200.0</td>\n",
              "      <td>4.0</td>\n",
              "      <td>automated_manual</td>\n",
              "      <td>front_wheel_drive</td>\n",
              "      <td>4.0</td>\n",
              "      <td>performance</td>\n",
              "      <td>midsize</td>\n",
              "      <td>sedan</td>\n",
              "      <td>31</td>\n",
              "      <td>22</td>\n",
              "      <td>873</td>\n",
              "    </tr>\n",
              "  </tbody>\n",
              "</table>\n",
              "<p>7150 rows × 15 columns</p>\n",
              "</div>\n",
              "      <button class=\"colab-df-convert\" onclick=\"convertToInteractive('df-70ce7f3b-164b-4919-857f-4588c9284ec9')\"\n",
              "              title=\"Convert this dataframe to an interactive table.\"\n",
              "              style=\"display:none;\">\n",
              "        \n",
              "  <svg xmlns=\"http://www.w3.org/2000/svg\" height=\"24px\"viewBox=\"0 0 24 24\"\n",
              "       width=\"24px\">\n",
              "    <path d=\"M0 0h24v24H0V0z\" fill=\"none\"/>\n",
              "    <path d=\"M18.56 5.44l.94 2.06.94-2.06 2.06-.94-2.06-.94-.94-2.06-.94 2.06-2.06.94zm-11 1L8.5 8.5l.94-2.06 2.06-.94-2.06-.94L8.5 2.5l-.94 2.06-2.06.94zm10 10l.94 2.06.94-2.06 2.06-.94-2.06-.94-.94-2.06-.94 2.06-2.06.94z\"/><path d=\"M17.41 7.96l-1.37-1.37c-.4-.4-.92-.59-1.43-.59-.52 0-1.04.2-1.43.59L10.3 9.45l-7.72 7.72c-.78.78-.78 2.05 0 2.83L4 21.41c.39.39.9.59 1.41.59.51 0 1.02-.2 1.41-.59l7.78-7.78 2.81-2.81c.8-.78.8-2.07 0-2.86zM5.41 20L4 18.59l7.72-7.72 1.47 1.35L5.41 20z\"/>\n",
              "  </svg>\n",
              "      </button>\n",
              "      \n",
              "  <style>\n",
              "    .colab-df-container {\n",
              "      display:flex;\n",
              "      flex-wrap:wrap;\n",
              "      gap: 12px;\n",
              "    }\n",
              "\n",
              "    .colab-df-convert {\n",
              "      background-color: #E8F0FE;\n",
              "      border: none;\n",
              "      border-radius: 50%;\n",
              "      cursor: pointer;\n",
              "      display: none;\n",
              "      fill: #1967D2;\n",
              "      height: 32px;\n",
              "      padding: 0 0 0 0;\n",
              "      width: 32px;\n",
              "    }\n",
              "\n",
              "    .colab-df-convert:hover {\n",
              "      background-color: #E2EBFA;\n",
              "      box-shadow: 0px 1px 2px rgba(60, 64, 67, 0.3), 0px 1px 3px 1px rgba(60, 64, 67, 0.15);\n",
              "      fill: #174EA6;\n",
              "    }\n",
              "\n",
              "    [theme=dark] .colab-df-convert {\n",
              "      background-color: #3B4455;\n",
              "      fill: #D2E3FC;\n",
              "    }\n",
              "\n",
              "    [theme=dark] .colab-df-convert:hover {\n",
              "      background-color: #434B5C;\n",
              "      box-shadow: 0px 1px 3px 1px rgba(0, 0, 0, 0.15);\n",
              "      filter: drop-shadow(0px 1px 2px rgba(0, 0, 0, 0.3));\n",
              "      fill: #FFFFFF;\n",
              "    }\n",
              "  </style>\n",
              "\n",
              "      <script>\n",
              "        const buttonEl =\n",
              "          document.querySelector('#df-70ce7f3b-164b-4919-857f-4588c9284ec9 button.colab-df-convert');\n",
              "        buttonEl.style.display =\n",
              "          google.colab.kernel.accessAllowed ? 'block' : 'none';\n",
              "\n",
              "        async function convertToInteractive(key) {\n",
              "          const element = document.querySelector('#df-70ce7f3b-164b-4919-857f-4588c9284ec9');\n",
              "          const dataTable =\n",
              "            await google.colab.kernel.invokeFunction('convertToInteractive',\n",
              "                                                     [key], {});\n",
              "          if (!dataTable) return;\n",
              "\n",
              "          const docLinkHtml = 'Like what you see? Visit the ' +\n",
              "            '<a target=\"_blank\" href=https://colab.research.google.com/notebooks/data_table.ipynb>data table notebook</a>'\n",
              "            + ' to learn more about interactive tables.';\n",
              "          element.innerHTML = '';\n",
              "          dataTable['output_type'] = 'display_data';\n",
              "          await google.colab.output.renderOutput(dataTable, element);\n",
              "          const docLink = document.createElement('div');\n",
              "          docLink.innerHTML = docLinkHtml;\n",
              "          element.appendChild(docLink);\n",
              "        }\n",
              "      </script>\n",
              "    </div>\n",
              "  </div>\n",
              "  "
            ]
          },
          "metadata": {},
          "execution_count": 297
        }
      ]
    },
    {
      "cell_type": "code",
      "source": [
        "df_train.dtypes # look for numberical data (int and float)"
      ],
      "metadata": {
        "colab": {
          "base_uri": "https://localhost:8080/"
        },
        "id": "KZw2c1nO2oa2",
        "outputId": "ea38ee93-0a52-4119-b55a-da5a9bc639fe"
      },
      "execution_count": 300,
      "outputs": [
        {
          "output_type": "execute_result",
          "data": {
            "text/plain": [
              "make                  object\n",
              "model                 object\n",
              "year                   int64\n",
              "engine_fuel_type      object\n",
              "engine_hp            float64\n",
              "engine_cylinders     float64\n",
              "transmission_type     object\n",
              "driven_wheels         object\n",
              "number_of_doors      float64\n",
              "market_category       object\n",
              "vehicle_size          object\n",
              "vehicle_style         object\n",
              "highway_mpg            int64\n",
              "city_mpg               int64\n",
              "popularity             int64\n",
              "dtype: object"
            ]
          },
          "metadata": {},
          "execution_count": 300
        }
      ]
    },
    {
      "cell_type": "code",
      "source": [
        "df_train.select_dtypes(include=np.number).columns.tolist()"
      ],
      "metadata": {
        "colab": {
          "base_uri": "https://localhost:8080/"
        },
        "id": "91Dx-Ybs5uv4",
        "outputId": "39001905-6cba-4721-abbe-96e1a32416de"
      },
      "execution_count": 315,
      "outputs": [
        {
          "output_type": "execute_result",
          "data": {
            "text/plain": [
              "['year',\n",
              " 'engine_hp',\n",
              " 'engine_cylinders',\n",
              " 'number_of_doors',\n",
              " 'highway_mpg',\n",
              " 'city_mpg',\n",
              " 'popularity']"
            ]
          },
          "metadata": {},
          "execution_count": 315
        }
      ]
    },
    {
      "cell_type": "code",
      "source": [
        "df_train.select_dtypes(include='object').columns.tolist()"
      ],
      "metadata": {
        "id": "CpU4V9_a6JDg",
        "outputId": "101b8d19-01d8-404f-a110-bc1ae98cad72",
        "colab": {
          "base_uri": "https://localhost:8080/"
        }
      },
      "execution_count": 316,
      "outputs": [
        {
          "output_type": "execute_result",
          "data": {
            "text/plain": [
              "['make',\n",
              " 'model',\n",
              " 'engine_fuel_type',\n",
              " 'transmission_type',\n",
              " 'driven_wheels',\n",
              " 'market_category',\n",
              " 'vehicle_size',\n",
              " 'vehicle_style']"
            ]
          },
          "metadata": {},
          "execution_count": 316
        }
      ]
    },
    {
      "cell_type": "markdown",
      "source": [
        "We are going to build a model using the numerical data from the engine_hp, engine_cylinders, highway_mpg, city_mpg, and popularity. We are going to extract the columns from the training data frame."
      ],
      "metadata": {
        "id": "Jhck5D0M3FY0"
      }
    },
    {
      "cell_type": "code",
      "source": [
        "base = ['engine_hp', 'engine_cylinders', 'highway_mpg', 'city_mpg', 'popularity']\n",
        "\n",
        "df_train[base]"
      ],
      "metadata": {
        "colab": {
          "base_uri": "https://localhost:8080/",
          "height": 424
        },
        "id": "yorR_tdk2pBQ",
        "outputId": "9d1918d6-46fc-46e5-bdfc-dc8532374565"
      },
      "execution_count": 317,
      "outputs": [
        {
          "output_type": "execute_result",
          "data": {
            "text/plain": [
              "      engine_hp  engine_cylinders  highway_mpg  city_mpg  popularity\n",
              "0         148.0               4.0           33        24        1385\n",
              "1         132.0               4.0           32        25        2031\n",
              "2         148.0               4.0           37        28         640\n",
              "3          90.0               4.0           18        16         873\n",
              "4         385.0               8.0           21        15        5657\n",
              "...         ...               ...          ...       ...         ...\n",
              "7145      300.0               6.0           31        20        3916\n",
              "7146      210.0               4.0           30        24         873\n",
              "7147      285.0               6.0           22        17         549\n",
              "7148      563.0              12.0           21        13          86\n",
              "7149      200.0               4.0           31        22         873\n",
              "\n",
              "[7150 rows x 5 columns]"
            ],
            "text/html": [
              "\n",
              "  <div id=\"df-b303eaeb-2110-4d2d-97ae-0b2082a56dae\">\n",
              "    <div class=\"colab-df-container\">\n",
              "      <div>\n",
              "<style scoped>\n",
              "    .dataframe tbody tr th:only-of-type {\n",
              "        vertical-align: middle;\n",
              "    }\n",
              "\n",
              "    .dataframe tbody tr th {\n",
              "        vertical-align: top;\n",
              "    }\n",
              "\n",
              "    .dataframe thead th {\n",
              "        text-align: right;\n",
              "    }\n",
              "</style>\n",
              "<table border=\"1\" class=\"dataframe\">\n",
              "  <thead>\n",
              "    <tr style=\"text-align: right;\">\n",
              "      <th></th>\n",
              "      <th>engine_hp</th>\n",
              "      <th>engine_cylinders</th>\n",
              "      <th>highway_mpg</th>\n",
              "      <th>city_mpg</th>\n",
              "      <th>popularity</th>\n",
              "    </tr>\n",
              "  </thead>\n",
              "  <tbody>\n",
              "    <tr>\n",
              "      <th>0</th>\n",
              "      <td>148.0</td>\n",
              "      <td>4.0</td>\n",
              "      <td>33</td>\n",
              "      <td>24</td>\n",
              "      <td>1385</td>\n",
              "    </tr>\n",
              "    <tr>\n",
              "      <th>1</th>\n",
              "      <td>132.0</td>\n",
              "      <td>4.0</td>\n",
              "      <td>32</td>\n",
              "      <td>25</td>\n",
              "      <td>2031</td>\n",
              "    </tr>\n",
              "    <tr>\n",
              "      <th>2</th>\n",
              "      <td>148.0</td>\n",
              "      <td>4.0</td>\n",
              "      <td>37</td>\n",
              "      <td>28</td>\n",
              "      <td>640</td>\n",
              "    </tr>\n",
              "    <tr>\n",
              "      <th>3</th>\n",
              "      <td>90.0</td>\n",
              "      <td>4.0</td>\n",
              "      <td>18</td>\n",
              "      <td>16</td>\n",
              "      <td>873</td>\n",
              "    </tr>\n",
              "    <tr>\n",
              "      <th>4</th>\n",
              "      <td>385.0</td>\n",
              "      <td>8.0</td>\n",
              "      <td>21</td>\n",
              "      <td>15</td>\n",
              "      <td>5657</td>\n",
              "    </tr>\n",
              "    <tr>\n",
              "      <th>...</th>\n",
              "      <td>...</td>\n",
              "      <td>...</td>\n",
              "      <td>...</td>\n",
              "      <td>...</td>\n",
              "      <td>...</td>\n",
              "    </tr>\n",
              "    <tr>\n",
              "      <th>7145</th>\n",
              "      <td>300.0</td>\n",
              "      <td>6.0</td>\n",
              "      <td>31</td>\n",
              "      <td>20</td>\n",
              "      <td>3916</td>\n",
              "    </tr>\n",
              "    <tr>\n",
              "      <th>7146</th>\n",
              "      <td>210.0</td>\n",
              "      <td>4.0</td>\n",
              "      <td>30</td>\n",
              "      <td>24</td>\n",
              "      <td>873</td>\n",
              "    </tr>\n",
              "    <tr>\n",
              "      <th>7147</th>\n",
              "      <td>285.0</td>\n",
              "      <td>6.0</td>\n",
              "      <td>22</td>\n",
              "      <td>17</td>\n",
              "      <td>549</td>\n",
              "    </tr>\n",
              "    <tr>\n",
              "      <th>7148</th>\n",
              "      <td>563.0</td>\n",
              "      <td>12.0</td>\n",
              "      <td>21</td>\n",
              "      <td>13</td>\n",
              "      <td>86</td>\n",
              "    </tr>\n",
              "    <tr>\n",
              "      <th>7149</th>\n",
              "      <td>200.0</td>\n",
              "      <td>4.0</td>\n",
              "      <td>31</td>\n",
              "      <td>22</td>\n",
              "      <td>873</td>\n",
              "    </tr>\n",
              "  </tbody>\n",
              "</table>\n",
              "<p>7150 rows × 5 columns</p>\n",
              "</div>\n",
              "      <button class=\"colab-df-convert\" onclick=\"convertToInteractive('df-b303eaeb-2110-4d2d-97ae-0b2082a56dae')\"\n",
              "              title=\"Convert this dataframe to an interactive table.\"\n",
              "              style=\"display:none;\">\n",
              "        \n",
              "  <svg xmlns=\"http://www.w3.org/2000/svg\" height=\"24px\"viewBox=\"0 0 24 24\"\n",
              "       width=\"24px\">\n",
              "    <path d=\"M0 0h24v24H0V0z\" fill=\"none\"/>\n",
              "    <path d=\"M18.56 5.44l.94 2.06.94-2.06 2.06-.94-2.06-.94-.94-2.06-.94 2.06-2.06.94zm-11 1L8.5 8.5l.94-2.06 2.06-.94-2.06-.94L8.5 2.5l-.94 2.06-2.06.94zm10 10l.94 2.06.94-2.06 2.06-.94-2.06-.94-.94-2.06-.94 2.06-2.06.94z\"/><path d=\"M17.41 7.96l-1.37-1.37c-.4-.4-.92-.59-1.43-.59-.52 0-1.04.2-1.43.59L10.3 9.45l-7.72 7.72c-.78.78-.78 2.05 0 2.83L4 21.41c.39.39.9.59 1.41.59.51 0 1.02-.2 1.41-.59l7.78-7.78 2.81-2.81c.8-.78.8-2.07 0-2.86zM5.41 20L4 18.59l7.72-7.72 1.47 1.35L5.41 20z\"/>\n",
              "  </svg>\n",
              "      </button>\n",
              "      \n",
              "  <style>\n",
              "    .colab-df-container {\n",
              "      display:flex;\n",
              "      flex-wrap:wrap;\n",
              "      gap: 12px;\n",
              "    }\n",
              "\n",
              "    .colab-df-convert {\n",
              "      background-color: #E8F0FE;\n",
              "      border: none;\n",
              "      border-radius: 50%;\n",
              "      cursor: pointer;\n",
              "      display: none;\n",
              "      fill: #1967D2;\n",
              "      height: 32px;\n",
              "      padding: 0 0 0 0;\n",
              "      width: 32px;\n",
              "    }\n",
              "\n",
              "    .colab-df-convert:hover {\n",
              "      background-color: #E2EBFA;\n",
              "      box-shadow: 0px 1px 2px rgba(60, 64, 67, 0.3), 0px 1px 3px 1px rgba(60, 64, 67, 0.15);\n",
              "      fill: #174EA6;\n",
              "    }\n",
              "\n",
              "    [theme=dark] .colab-df-convert {\n",
              "      background-color: #3B4455;\n",
              "      fill: #D2E3FC;\n",
              "    }\n",
              "\n",
              "    [theme=dark] .colab-df-convert:hover {\n",
              "      background-color: #434B5C;\n",
              "      box-shadow: 0px 1px 3px 1px rgba(0, 0, 0, 0.15);\n",
              "      filter: drop-shadow(0px 1px 2px rgba(0, 0, 0, 0.3));\n",
              "      fill: #FFFFFF;\n",
              "    }\n",
              "  </style>\n",
              "\n",
              "      <script>\n",
              "        const buttonEl =\n",
              "          document.querySelector('#df-b303eaeb-2110-4d2d-97ae-0b2082a56dae button.colab-df-convert');\n",
              "        buttonEl.style.display =\n",
              "          google.colab.kernel.accessAllowed ? 'block' : 'none';\n",
              "\n",
              "        async function convertToInteractive(key) {\n",
              "          const element = document.querySelector('#df-b303eaeb-2110-4d2d-97ae-0b2082a56dae');\n",
              "          const dataTable =\n",
              "            await google.colab.kernel.invokeFunction('convertToInteractive',\n",
              "                                                     [key], {});\n",
              "          if (!dataTable) return;\n",
              "\n",
              "          const docLinkHtml = 'Like what you see? Visit the ' +\n",
              "            '<a target=\"_blank\" href=https://colab.research.google.com/notebooks/data_table.ipynb>data table notebook</a>'\n",
              "            + ' to learn more about interactive tables.';\n",
              "          element.innerHTML = '';\n",
              "          dataTable['output_type'] = 'display_data';\n",
              "          await google.colab.output.renderOutput(dataTable, element);\n",
              "          const docLink = document.createElement('div');\n",
              "          docLink.innerHTML = docLinkHtml;\n",
              "          element.appendChild(docLink);\n",
              "        }\n",
              "      </script>\n",
              "    </div>\n",
              "  </div>\n",
              "  "
            ]
          },
          "metadata": {},
          "execution_count": 317
        }
      ]
    },
    {
      "cell_type": "markdown",
      "source": [
        "Next, we need to extract the values from these columns."
      ],
      "metadata": {
        "id": "OH3MgwTo6JTL"
      }
    },
    {
      "cell_type": "code",
      "source": [
        "X_train = df_train[base].values # Extract the values from the columns in the \n",
        "# base array; stored as X_train."
      ],
      "metadata": {
        "id": "ow7z19VB2pkZ"
      },
      "execution_count": 328,
      "outputs": []
    },
    {
      "cell_type": "code",
      "source": [
        "df_train[base].isnull().sum() # Show number of null values in base columns."
      ],
      "metadata": {
        "colab": {
          "base_uri": "https://localhost:8080/"
        },
        "id": "RSD7SyiF7KnT",
        "outputId": "16af33ad-0b3a-4b36-de20-8044cc0b5ee7"
      },
      "execution_count": 329,
      "outputs": [
        {
          "output_type": "execute_result",
          "data": {
            "text/plain": [
              "engine_hp           40\n",
              "engine_cylinders    14\n",
              "highway_mpg          0\n",
              "city_mpg             0\n",
              "popularity           0\n",
              "dtype: int64"
            ]
          },
          "metadata": {},
          "execution_count": 329
        }
      ]
    },
    {
      "cell_type": "markdown",
      "source": [
        "The easiest way to address the problem with null values is to fill the missing values with 0."
      ],
      "metadata": {
        "id": "Gde5xSfK7eW0"
      }
    },
    {
      "cell_type": "markdown",
      "source": [
        "By filling in these missing values with 0, we can make our model ignore these features."
      ],
      "metadata": {
        "id": "fmI3T5t5-vIY"
      }
    },
    {
      "cell_type": "code",
      "source": [
        "X_train = df_train[base].fillna(0).values # Set X_train to equal the matrix with\n",
        "# no missing values."
      ],
      "metadata": {
        "id": "ruW8ebFsFo7D"
      },
      "execution_count": 330,
      "outputs": []
    },
    {
      "cell_type": "code",
      "source": [
        "w_0, w = train_linear_regression(X_train, y_train) # Apply\n",
        "# train_linear_regression to X_train and y_train.\n",
        "w_0, w # Display w_0, w"
      ],
      "metadata": {
        "id": "jvRXUwSgaJUa",
        "colab": {
          "base_uri": "https://localhost:8080/"
        },
        "outputId": "1da3621b-1896-4f2f-a56d-eb855df1ba3e"
      },
      "execution_count": 331,
      "outputs": [
        {
          "output_type": "execute_result",
          "data": {
            "text/plain": [
              "(7.927257388069986,\n",
              " array([ 9.70589522e-03, -1.59103494e-01,  1.43792133e-02,  1.49441072e-02,\n",
              "        -9.06908672e-06]))"
            ]
          },
          "metadata": {},
          "execution_count": 331
        }
      ]
    },
    {
      "cell_type": "code",
      "source": [
        "y_pred = w_0 + X_train.dot(w) # Establish the prediction for y; store as y_pred\n",
        "y_pred # Display y_pred"
      ],
      "metadata": {
        "colab": {
          "base_uri": "https://localhost:8080/"
        },
        "id": "1b5X9scZ2qxf",
        "outputId": "3e9e9df5-c312-46c4-9ba4-e229a7dd1976"
      },
      "execution_count": 332,
      "outputs": [
        {
          "output_type": "execute_result",
          "data": {
            "text/plain": [
              "array([ 9.54792783,  9.38733977,  9.67197758, ..., 10.30423015,\n",
              "       11.9778914 ,  9.99863111])"
            ]
          },
          "metadata": {},
          "execution_count": 332
        }
      ]
    },
    {
      "cell_type": "markdown",
      "source": [
        "Now, we can plug in these predictions and see if they look similar to the original target variable."
      ],
      "metadata": {
        "id": "MnAZWDhpHGIh"
      }
    },
    {
      "cell_type": "code",
      "source": [
        "sns.histplot(y_pred, color = 'red', alpha = 0.5, bins = 50)\n",
        "sns.histplot(y_train, color = 'blue', alpha = 0.5, bins = 50)"
      ],
      "metadata": {
        "id": "h8KNfaEnaex_",
        "colab": {
          "base_uri": "https://localhost:8080/",
          "height": 282
        },
        "outputId": "a53f43fa-0ebd-4ca0-ec80-554afd188449"
      },
      "execution_count": 333,
      "outputs": [
        {
          "output_type": "execute_result",
          "data": {
            "text/plain": [
              "<matplotlib.axes._subplots.AxesSubplot at 0x7f01b69dfc10>"
            ]
          },
          "metadata": {},
          "execution_count": 333
        },
        {
          "output_type": "display_data",
          "data": {
            "text/plain": [
              "<Figure size 432x288 with 1 Axes>"
            ],
            "image/png": "[encoded data removed]"
          },
          "metadata": {
            "needs_background": "light"
          }
        }
      ]
    },
    {
      "cell_type": "markdown",
      "source": [
        "# Section 2.9: Root Mean Squared Error (RMSE)"
      ],
      "metadata": {
        "id": "EeHtEbHlA_rq"
      }
    },
    {
      "cell_type": "markdown",
      "source": [
        "\n",
        "![RMSE.jpg](data:image/jpeg;base64,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)"
      ],
      "metadata": {
        "id": "4cxrU0Jj_wAZ"
      }
    },
    {
      "cell_type": "code",
      "source": [
        "def rmse(y, y_pred):\n",
        "  error = y - y_pred # Difference between y and y_pred.\n",
        "  se = error ** 2 # Square to eliminate negative values; square error correction\n",
        "  mse = se.mean() # Finds the mean\n",
        "  return np.sqrt(mse) # Finds square root of mse."
      ],
      "metadata": {
        "id": "84sdoTJs_sp9"
      },
      "execution_count": null,
      "outputs": []
    },
    {
      "cell_type": "code",
      "source": [
        "rmse(y_train, y_pred) # RMSE - closer to zero, the better."
      ],
      "metadata": {
        "id": "YnYdIyFAaKGQ",
        "colab": {
          "base_uri": "https://localhost:8080/"
        },
        "outputId": "eaa2c0f6-2129-494c-dd36-12cf7839bd72"
      },
      "execution_count": null,
      "outputs": [
        {
          "output_type": "execute_result",
          "data": {
            "text/plain": [
              "0.7554192603920132"
            ]
          },
          "metadata": {},
          "execution_count": 167
        }
      ]
    },
    {
      "cell_type": "code",
      "source": [],
      "metadata": {
        "id": "eAsLYAOEafKT"
      },
      "execution_count": null,
      "outputs": []
    },
    {
      "cell_type": "markdown",
      "source": [
        "# Section 2.10: Computing RMSE on Validation Data"
      ],
      "metadata": {
        "id": "hoyvBN1UBCBL"
      }
    },
    {
      "cell_type": "code",
      "source": [
        "# This is the code for training the model.\n",
        "\n",
        "base = ['engine_hp', 'engine_cylinders', 'highway_mpg', 'city_mpg', 'popularity']\n",
        "\n",
        "X_train = df_train[base].fillna(0).values\n",
        "\n",
        "w_0, w = train_linear_regression(X_train, y_train)\n",
        "\n",
        "y_pred = w_0 + X_train.dot(w)"
      ],
      "metadata": {
        "id": "p32JhltTaKrH"
      },
      "execution_count": null,
      "outputs": []
    },
    {
      "cell_type": "code",
      "source": [
        "def prepare_X(df):\n",
        "    df_num = df[base]\n",
        "    df_num = df_num.fillna(0)\n",
        "    X = df_num.values\n",
        "    return X"
      ],
      "metadata": {
        "id": "c05RW_1saf5b"
      },
      "execution_count": null,
      "outputs": []
    },
    {
      "cell_type": "code",
      "source": [
        "len(y_val)"
      ],
      "metadata": {
        "colab": {
          "base_uri": "https://localhost:8080/"
        },
        "id": "KZcRSZ3VoI3f",
        "outputId": "c2cc5499-3187-47d3-8c06-a9e4b7aec2d3"
      },
      "execution_count": null,
      "outputs": [
        {
          "output_type": "execute_result",
          "data": {
            "text/plain": [
              "2382"
            ]
          },
          "metadata": {},
          "execution_count": 115
        }
      ]
    },
    {
      "cell_type": "code",
      "source": [
        "len(y_pred)"
      ],
      "metadata": {
        "colab": {
          "base_uri": "https://localhost:8080/"
        },
        "id": "548PLB_spUwP",
        "outputId": "c21e27fe-a308-4058-bd3a-83f0ee769233"
      },
      "execution_count": null,
      "outputs": [
        {
          "output_type": "execute_result",
          "data": {
            "text/plain": [
              "7150"
            ]
          },
          "metadata": {},
          "execution_count": 116
        }
      ]
    },
    {
      "cell_type": "code",
      "source": [
        "# Training\n",
        "\n",
        "X_train = prepare_X(df_train)\n",
        "w_0, w = train_linear_regression(X_train, y_train)\n",
        "\n",
        "# Validation\n",
        "\n",
        "X_val = prepare_X(df_val)\n",
        "y_pred = w_0 + X_val.dot(w)\n",
        "\n",
        "rmse(y_val, y_pred)"
      ],
      "metadata": {
        "colab": {
          "base_uri": "https://localhost:8080/"
        },
        "id": "3Mc8iXBYFQk6",
        "outputId": "39ec95df-2a8d-4d83-d99e-954091ac6283"
      },
      "execution_count": null,
      "outputs": [
        {
          "output_type": "execute_result",
          "data": {
            "text/plain": [
              "0.761653099130156"
            ]
          },
          "metadata": {},
          "execution_count": 117
        }
      ]
    },
    {
      "cell_type": "code",
      "source": [],
      "metadata": {
        "id": "rtsq546OGI2S"
      },
      "execution_count": null,
      "outputs": []
    },
    {
      "cell_type": "markdown",
      "source": [
        "# Section 2.11: Feature Engineering"
      ],
      "metadata": {
        "id": "uEcJh0e6BCoz"
      }
    },
    {
      "cell_type": "code",
      "source": [
        "2017 - df_train.year # Compute the age of the cars."
      ],
      "metadata": {
        "id": "na2QjcL5aLY9",
        "colab": {
          "base_uri": "https://localhost:8080/"
        },
        "outputId": "f13db0f5-1387-42cc-acc2-3aebe51247c4"
      },
      "execution_count": null,
      "outputs": [
        {
          "output_type": "execute_result",
          "data": {
            "text/plain": [
              "0        9\n",
              "1        5\n",
              "2        1\n",
              "3       26\n",
              "4        0\n",
              "        ..\n",
              "7145     2\n",
              "7146     2\n",
              "7147     2\n",
              "7148     3\n",
              "7149     0\n",
              "Name: year, Length: 7150, dtype: int64"
            ]
          },
          "metadata": {},
          "execution_count": 118
        }
      ]
    },
    {
      "cell_type": "code",
      "source": [
        "def prepare_X(df):\n",
        "    df = df.copy()\n",
        "\n",
        "    df['age'] = 2017 - df.year\n",
        "    features = base + ['age']\n",
        "\n",
        "    df_num = df[features]\n",
        "    df_num = df_num.fillna(0)\n",
        "    X = df_num.values\n",
        "    return X"
      ],
      "metadata": {
        "id": "KyMvEzlZaLq2"
      },
      "execution_count": null,
      "outputs": []
    },
    {
      "cell_type": "code",
      "source": [
        "X_train = prepare_X(df_train)"
      ],
      "metadata": {
        "id": "1Xsh1MIJJcBC"
      },
      "execution_count": null,
      "outputs": []
    },
    {
      "cell_type": "code",
      "source": [
        "df_train.dtypes"
      ],
      "metadata": {
        "colab": {
          "base_uri": "https://localhost:8080/"
        },
        "id": "kaxT-nLyJb9a",
        "outputId": "1d8ee955-7b20-4b98-8036-dc35126f4af7"
      },
      "execution_count": null,
      "outputs": [
        {
          "output_type": "execute_result",
          "data": {
            "text/plain": [
              "make                  object\n",
              "model                 object\n",
              "year                   int64\n",
              "engine_fuel_type      object\n",
              "engine_hp            float64\n",
              "engine_cylinders     float64\n",
              "transmission_type     object\n",
              "driven_wheels         object\n",
              "number_of_doors      float64\n",
              "market_category       object\n",
              "vehicle_size          object\n",
              "vehicle_style         object\n",
              "highway_mpg            int64\n",
              "city_mpg               int64\n",
              "popularity             int64\n",
              "dtype: object"
            ]
          },
          "metadata": {},
          "execution_count": 121
        }
      ]
    },
    {
      "cell_type": "code",
      "source": [
        "df_train.columns"
      ],
      "metadata": {
        "colab": {
          "base_uri": "https://localhost:8080/"
        },
        "id": "QbL4ySlGKFG1",
        "outputId": "29db5f1e-2291-47f7-a743-d229026f8a38"
      },
      "execution_count": null,
      "outputs": [
        {
          "output_type": "execute_result",
          "data": {
            "text/plain": [
              "Index(['make', 'model', 'year', 'engine_fuel_type', 'engine_hp',\n",
              "       'engine_cylinders', 'transmission_type', 'driven_wheels',\n",
              "       'number_of_doors', 'market_category', 'vehicle_size', 'vehicle_style',\n",
              "       'highway_mpg', 'city_mpg', 'popularity'],\n",
              "      dtype='object')"
            ]
          },
          "metadata": {},
          "execution_count": 122
        }
      ]
    },
    {
      "cell_type": "code",
      "source": [
        "X_train = prepare_X(df_train)"
      ],
      "metadata": {
        "id": "sOT-AkmNKQ6d"
      },
      "execution_count": null,
      "outputs": []
    },
    {
      "cell_type": "code",
      "source": [
        "X_train"
      ],
      "metadata": {
        "colab": {
          "base_uri": "https://localhost:8080/"
        },
        "id": "uPT2FD8qKQ4c",
        "outputId": "9bb87897-e05f-4e97-a6f3-cda94c244f49"
      },
      "execution_count": null,
      "outputs": [
        {
          "output_type": "execute_result",
          "data": {
            "text/plain": [
              "array([[1.480e+02, 4.000e+00, 3.300e+01, 2.400e+01, 1.385e+03, 9.000e+00],\n",
              "       [1.320e+02, 4.000e+00, 3.200e+01, 2.500e+01, 2.031e+03, 5.000e+00],\n",
              "       [1.480e+02, 4.000e+00, 3.700e+01, 2.800e+01, 6.400e+02, 1.000e+00],\n",
              "       ...,\n",
              "       [2.850e+02, 6.000e+00, 2.200e+01, 1.700e+01, 5.490e+02, 2.000e+00],\n",
              "       [5.630e+02, 1.200e+01, 2.100e+01, 1.300e+01, 8.600e+01, 3.000e+00],\n",
              "       [2.000e+02, 4.000e+00, 3.100e+01, 2.200e+01, 8.730e+02, 0.000e+00]])"
            ]
          },
          "metadata": {},
          "execution_count": 124
        }
      ]
    },
    {
      "cell_type": "code",
      "source": [
        "def prepare_X(df):\n",
        "    df = df.copy()\n",
        "\n",
        "    df['age'] = 2017 - df.year\n",
        "    features = base + ['age']\n",
        "\n",
        "    df_num = df[features]\n",
        "    df_num = df_num.fillna(0)\n",
        "    X = df_num.values\n",
        "    return X"
      ],
      "metadata": {
        "id": "Spc5kZKHKQlS"
      },
      "execution_count": null,
      "outputs": []
    },
    {
      "cell_type": "code",
      "source": [
        "X_train = prepare_X(df_train)\n",
        "w_0, w = train_linear_regression(X_train, y_train)\n",
        "\n",
        "# Validation\n",
        "\n",
        "X_val = prepare_X(df_val)\n",
        "y_pred = w_0 + X_val.dot(w)\n",
        "\n",
        "rmse(y_val, y_pred)"
      ],
      "metadata": {
        "colab": {
          "base_uri": "https://localhost:8080/"
        },
        "id": "szCBXd4RKvbu",
        "outputId": "d95456a6-4588-4287-cab0-804c8e90a669"
      },
      "execution_count": null,
      "outputs": [
        {
          "output_type": "execute_result",
          "data": {
            "text/plain": [
              "0.5172055461058299"
            ]
          },
          "metadata": {},
          "execution_count": 126
        }
      ]
    },
    {
      "cell_type": "code",
      "source": [
        "sns.histplot(y_pred, color = 'red', alpha = 0.5, bins = 50)\n",
        "sns.histplot(y_val, color = 'blue', alpha = 0.5, bins = 50)"
      ],
      "metadata": {
        "colab": {
          "base_uri": "https://localhost:8080/",
          "height": 282
        },
        "id": "araTg3xUKvIF",
        "outputId": "07619140-1c8d-4a3a-e295-7fb1dc402a2e"
      },
      "execution_count": null,
      "outputs": [
        {
          "output_type": "execute_result",
          "data": {
            "text/plain": [
              "<matplotlib.axes._subplots.AxesSubplot at 0x7f8dd761bf90>"
            ]
          },
          "metadata": {},
          "execution_count": 127
        },
        {
          "output_type": "display_data",
          "data": {
            "text/plain": [
              "<Figure size 432x288 with 1 Axes>"
            ],
            "image/png": "[encoded data removed]"
          },
          "metadata": {
            "needs_background": "light"
          }
        }
      ]
    },
    {
      "cell_type": "code",
      "source": [],
      "metadata": {
        "id": "S1440INILCqG"
      },
      "execution_count": null,
      "outputs": []
    },
    {
      "cell_type": "code",
      "source": [],
      "metadata": {
        "id": "ItC5bvlhLCYX"
      },
      "execution_count": null,
      "outputs": []
    },
    {
      "cell_type": "markdown",
      "source": [
        "# Section 2.12: Categorical Variables"
      ],
      "metadata": {
        "id": "9Dtd3JffBDFR"
      }
    },
    {
      "cell_type": "code",
      "source": [
        "df_train"
      ],
      "metadata": {
        "id": "NtH11gT0aMPd",
        "colab": {
          "base_uri": "https://localhost:8080/",
          "height": 488
        },
        "outputId": "295f538c-0779-4b58-9fff-bc1640cf1c15"
      },
      "execution_count": null,
      "outputs": [
        {
          "output_type": "execute_result",
          "data": {
            "text/plain": [
              "             make        model  year                engine_fuel_type  \\\n",
              "0       chevrolet       cobalt  2008                regular_unleaded   \n",
              "1          toyota       matrix  2012                regular_unleaded   \n",
              "2          subaru      impreza  2016                regular_unleaded   \n",
              "3      volkswagen      vanagon  1991                regular_unleaded   \n",
              "4            ford        f-150  2017        flex-fuel_(unleaded/e85)   \n",
              "...           ...          ...   ...                             ...   \n",
              "7145          bmw     4_series  2015     premium_unleaded_(required)   \n",
              "7146   volkswagen       beetle  2015  premium_unleaded_(recommended)   \n",
              "7147          gmc  sierra_1500  2015        flex-fuel_(unleaded/e85)   \n",
              "7148  rolls-royce        ghost  2014     premium_unleaded_(required)   \n",
              "7149   volkswagen           cc  2017  premium_unleaded_(recommended)   \n",
              "\n",
              "      engine_hp  engine_cylinders transmission_type      driven_wheels  \\\n",
              "0         148.0               4.0            manual  front_wheel_drive   \n",
              "1         132.0               4.0         automatic  front_wheel_drive   \n",
              "2         148.0               4.0         automatic    all_wheel_drive   \n",
              "3          90.0               4.0            manual   rear_wheel_drive   \n",
              "4         385.0               8.0         automatic   four_wheel_drive   \n",
              "...         ...               ...               ...                ...   \n",
              "7145      300.0               6.0         automatic   rear_wheel_drive   \n",
              "7146      210.0               4.0  automated_manual  front_wheel_drive   \n",
              "7147      285.0               6.0         automatic   four_wheel_drive   \n",
              "7148      563.0              12.0         automatic   rear_wheel_drive   \n",
              "7149      200.0               4.0  automated_manual  front_wheel_drive   \n",
              "\n",
              "      number_of_doors            market_category vehicle_size  \\\n",
              "0                 2.0                        NaN      compact   \n",
              "1                 4.0                  hatchback      compact   \n",
              "2                 4.0                  hatchback      compact   \n",
              "3                 3.0                        NaN        large   \n",
              "4                 4.0                  flex_fuel        large   \n",
              "...               ...                        ...          ...   \n",
              "7145              2.0         luxury,performance      midsize   \n",
              "7146              2.0      hatchback,performance      compact   \n",
              "7147              4.0                  flex_fuel        large   \n",
              "7148              4.0  exotic,luxury,performance        large   \n",
              "7149              4.0                performance      midsize   \n",
              "\n",
              "            vehicle_style  highway_mpg  city_mpg  popularity  \n",
              "0                   coupe           33        24        1385  \n",
              "1           4dr_hatchback           32        25        2031  \n",
              "2           4dr_hatchback           37        28         640  \n",
              "3       passenger_minivan           18        16         873  \n",
              "4         crew_cab_pickup           21        15        5657  \n",
              "...                   ...          ...       ...         ...  \n",
              "7145          convertible           31        20        3916  \n",
              "7146        2dr_hatchback           30        24         873  \n",
              "7147  extended_cab_pickup           22        17         549  \n",
              "7148                sedan           21        13          86  \n",
              "7149                sedan           31        22         873  \n",
              "\n",
              "[7150 rows x 15 columns]"
            ],
            "text/html": [
              "\n",
              "  <div id=\"df-e70f847f-7c02-41ca-ae41-19472ebf5cd7\">\n",
              "    <div class=\"colab-df-container\">\n",
              "      <div>\n",
              "<style scoped>\n",
              "    .dataframe tbody tr th:only-of-type {\n",
              "        vertical-align: middle;\n",
              "    }\n",
              "\n",
              "    .dataframe tbody tr th {\n",
              "        vertical-align: top;\n",
              "    }\n",
              "\n",
              "    .dataframe thead th {\n",
              "        text-align: right;\n",
              "    }\n",
              "</style>\n",
              "<table border=\"1\" class=\"dataframe\">\n",
              "  <thead>\n",
              "    <tr style=\"text-align: right;\">\n",
              "      <th></th>\n",
              "      <th>make</th>\n",
              "      <th>model</th>\n",
              "      <th>year</th>\n",
              "      <th>engine_fuel_type</th>\n",
              "      <th>engine_hp</th>\n",
              "      <th>engine_cylinders</th>\n",
              "      <th>transmission_type</th>\n",
              "      <th>driven_wheels</th>\n",
              "      <th>number_of_doors</th>\n",
              "      <th>market_category</th>\n",
              "      <th>vehicle_size</th>\n",
              "      <th>vehicle_style</th>\n",
              "      <th>highway_mpg</th>\n",
              "      <th>city_mpg</th>\n",
              "      <th>popularity</th>\n",
              "    </tr>\n",
              "  </thead>\n",
              "  <tbody>\n",
              "    <tr>\n",
              "      <th>0</th>\n",
              "      <td>chevrolet</td>\n",
              "      <td>cobalt</td>\n",
              "      <td>2008</td>\n",
              "      <td>regular_unleaded</td>\n",
              "      <td>148.0</td>\n",
              "      <td>4.0</td>\n",
              "      <td>manual</td>\n",
              "      <td>front_wheel_drive</td>\n",
              "      <td>2.0</td>\n",
              "      <td>NaN</td>\n",
              "      <td>compact</td>\n",
              "      <td>coupe</td>\n",
              "      <td>33</td>\n",
              "      <td>24</td>\n",
              "      <td>1385</td>\n",
              "    </tr>\n",
              "    <tr>\n",
              "      <th>1</th>\n",
              "      <td>toyota</td>\n",
              "      <td>matrix</td>\n",
              "      <td>2012</td>\n",
              "      <td>regular_unleaded</td>\n",
              "      <td>132.0</td>\n",
              "      <td>4.0</td>\n",
              "      <td>automatic</td>\n",
              "      <td>front_wheel_drive</td>\n",
              "      <td>4.0</td>\n",
              "      <td>hatchback</td>\n",
              "      <td>compact</td>\n",
              "      <td>4dr_hatchback</td>\n",
              "      <td>32</td>\n",
              "      <td>25</td>\n",
              "      <td>2031</td>\n",
              "    </tr>\n",
              "    <tr>\n",
              "      <th>2</th>\n",
              "      <td>subaru</td>\n",
              "      <td>impreza</td>\n",
              "      <td>2016</td>\n",
              "      <td>regular_unleaded</td>\n",
              "      <td>148.0</td>\n",
              "      <td>4.0</td>\n",
              "      <td>automatic</td>\n",
              "      <td>all_wheel_drive</td>\n",
              "      <td>4.0</td>\n",
              "      <td>hatchback</td>\n",
              "      <td>compact</td>\n",
              "      <td>4dr_hatchback</td>\n",
              "      <td>37</td>\n",
              "      <td>28</td>\n",
              "      <td>640</td>\n",
              "    </tr>\n",
              "    <tr>\n",
              "      <th>3</th>\n",
              "      <td>volkswagen</td>\n",
              "      <td>vanagon</td>\n",
              "      <td>1991</td>\n",
              "      <td>regular_unleaded</td>\n",
              "      <td>90.0</td>\n",
              "      <td>4.0</td>\n",
              "      <td>manual</td>\n",
              "      <td>rear_wheel_drive</td>\n",
              "      <td>3.0</td>\n",
              "      <td>NaN</td>\n",
              "      <td>large</td>\n",
              "      <td>passenger_minivan</td>\n",
              "      <td>18</td>\n",
              "      <td>16</td>\n",
              "      <td>873</td>\n",
              "    </tr>\n",
              "    <tr>\n",
              "      <th>4</th>\n",
              "      <td>ford</td>\n",
              "      <td>f-150</td>\n",
              "      <td>2017</td>\n",
              "      <td>flex-fuel_(unleaded/e85)</td>\n",
              "      <td>385.0</td>\n",
              "      <td>8.0</td>\n",
              "      <td>automatic</td>\n",
              "      <td>four_wheel_drive</td>\n",
              "      <td>4.0</td>\n",
              "      <td>flex_fuel</td>\n",
              "      <td>large</td>\n",
              "      <td>crew_cab_pickup</td>\n",
              "      <td>21</td>\n",
              "      <td>15</td>\n",
              "      <td>5657</td>\n",
              "    </tr>\n",
              "    <tr>\n",
              "      <th>...</th>\n",
              "      <td>...</td>\n",
              "      <td>...</td>\n",
              "      <td>...</td>\n",
              "      <td>...</td>\n",
              "      <td>...</td>\n",
              "      <td>...</td>\n",
              "      <td>...</td>\n",
              "      <td>...</td>\n",
              "      <td>...</td>\n",
              "      <td>...</td>\n",
              "      <td>...</td>\n",
              "      <td>...</td>\n",
              "      <td>...</td>\n",
              "      <td>...</td>\n",
              "      <td>...</td>\n",
              "    </tr>\n",
              "    <tr>\n",
              "      <th>7145</th>\n",
              "      <td>bmw</td>\n",
              "      <td>4_series</td>\n",
              "      <td>2015</td>\n",
              "      <td>premium_unleaded_(required)</td>\n",
              "      <td>300.0</td>\n",
              "      <td>6.0</td>\n",
              "      <td>automatic</td>\n",
              "      <td>rear_wheel_drive</td>\n",
              "      <td>2.0</td>\n",
              "      <td>luxury,performance</td>\n",
              "      <td>midsize</td>\n",
              "      <td>convertible</td>\n",
              "      <td>31</td>\n",
              "      <td>20</td>\n",
              "      <td>3916</td>\n",
              "    </tr>\n",
              "    <tr>\n",
              "      <th>7146</th>\n",
              "      <td>volkswagen</td>\n",
              "      <td>beetle</td>\n",
              "      <td>2015</td>\n",
              "      <td>premium_unleaded_(recommended)</td>\n",
              "      <td>210.0</td>\n",
              "      <td>4.0</td>\n",
              "      <td>automated_manual</td>\n",
              "      <td>front_wheel_drive</td>\n",
              "      <td>2.0</td>\n",
              "      <td>hatchback,performance</td>\n",
              "      <td>compact</td>\n",
              "      <td>2dr_hatchback</td>\n",
              "      <td>30</td>\n",
              "      <td>24</td>\n",
              "      <td>873</td>\n",
              "    </tr>\n",
              "    <tr>\n",
              "      <th>7147</th>\n",
              "      <td>gmc</td>\n",
              "      <td>sierra_1500</td>\n",
              "      <td>2015</td>\n",
              "      <td>flex-fuel_(unleaded/e85)</td>\n",
              "      <td>285.0</td>\n",
              "      <td>6.0</td>\n",
              "      <td>automatic</td>\n",
              "      <td>four_wheel_drive</td>\n",
              "      <td>4.0</td>\n",
              "      <td>flex_fuel</td>\n",
              "      <td>large</td>\n",
              "      <td>extended_cab_pickup</td>\n",
              "      <td>22</td>\n",
              "      <td>17</td>\n",
              "      <td>549</td>\n",
              "    </tr>\n",
              "    <tr>\n",
              "      <th>7148</th>\n",
              "      <td>rolls-royce</td>\n",
              "      <td>ghost</td>\n",
              "      <td>2014</td>\n",
              "      <td>premium_unleaded_(required)</td>\n",
              "      <td>563.0</td>\n",
              "      <td>12.0</td>\n",
              "      <td>automatic</td>\n",
              "      <td>rear_wheel_drive</td>\n",
              "      <td>4.0</td>\n",
              "      <td>exotic,luxury,performance</td>\n",
              "      <td>large</td>\n",
              "      <td>sedan</td>\n",
              "      <td>21</td>\n",
              "      <td>13</td>\n",
              "      <td>86</td>\n",
              "    </tr>\n",
              "    <tr>\n",
              "      <th>7149</th>\n",
              "      <td>volkswagen</td>\n",
              "      <td>cc</td>\n",
              "      <td>2017</td>\n",
              "      <td>premium_unleaded_(recommended)</td>\n",
              "      <td>200.0</td>\n",
              "      <td>4.0</td>\n",
              "      <td>automated_manual</td>\n",
              "      <td>front_wheel_drive</td>\n",
              "      <td>4.0</td>\n",
              "      <td>performance</td>\n",
              "      <td>midsize</td>\n",
              "      <td>sedan</td>\n",
              "      <td>31</td>\n",
              "      <td>22</td>\n",
              "      <td>873</td>\n",
              "    </tr>\n",
              "  </tbody>\n",
              "</table>\n",
              "<p>7150 rows × 15 columns</p>\n",
              "</div>\n",
              "      <button class=\"colab-df-convert\" onclick=\"convertToInteractive('df-e70f847f-7c02-41ca-ae41-19472ebf5cd7')\"\n",
              "              title=\"Convert this dataframe to an interactive table.\"\n",
              "              style=\"display:none;\">\n",
              "        \n",
              "  <svg xmlns=\"http://www.w3.org/2000/svg\" height=\"24px\"viewBox=\"0 0 24 24\"\n",
              "       width=\"24px\">\n",
              "    <path d=\"M0 0h24v24H0V0z\" fill=\"none\"/>\n",
              "    <path d=\"M18.56 5.44l.94 2.06.94-2.06 2.06-.94-2.06-.94-.94-2.06-.94 2.06-2.06.94zm-11 1L8.5 8.5l.94-2.06 2.06-.94-2.06-.94L8.5 2.5l-.94 2.06-2.06.94zm10 10l.94 2.06.94-2.06 2.06-.94-2.06-.94-.94-2.06-.94 2.06-2.06.94z\"/><path d=\"M17.41 7.96l-1.37-1.37c-.4-.4-.92-.59-1.43-.59-.52 0-1.04.2-1.43.59L10.3 9.45l-7.72 7.72c-.78.78-.78 2.05 0 2.83L4 21.41c.39.39.9.59 1.41.59.51 0 1.02-.2 1.41-.59l7.78-7.78 2.81-2.81c.8-.78.8-2.07 0-2.86zM5.41 20L4 18.59l7.72-7.72 1.47 1.35L5.41 20z\"/>\n",
              "  </svg>\n",
              "      </button>\n",
              "      \n",
              "  <style>\n",
              "    .colab-df-container {\n",
              "      display:flex;\n",
              "      flex-wrap:wrap;\n",
              "      gap: 12px;\n",
              "    }\n",
              "\n",
              "    .colab-df-convert {\n",
              "      background-color: #E8F0FE;\n",
              "      border: none;\n",
              "      border-radius: 50%;\n",
              "      cursor: pointer;\n",
              "      display: none;\n",
              "      fill: #1967D2;\n",
              "      height: 32px;\n",
              "      padding: 0 0 0 0;\n",
              "      width: 32px;\n",
              "    }\n",
              "\n",
              "    .colab-df-convert:hover {\n",
              "      background-color: #E2EBFA;\n",
              "      box-shadow: 0px 1px 2px rgba(60, 64, 67, 0.3), 0px 1px 3px 1px rgba(60, 64, 67, 0.15);\n",
              "      fill: #174EA6;\n",
              "    }\n",
              "\n",
              "    [theme=dark] .colab-df-convert {\n",
              "      background-color: #3B4455;\n",
              "      fill: #D2E3FC;\n",
              "    }\n",
              "\n",
              "    [theme=dark] .colab-df-convert:hover {\n",
              "      background-color: #434B5C;\n",
              "      box-shadow: 0px 1px 3px 1px rgba(0, 0, 0, 0.15);\n",
              "      filter: drop-shadow(0px 1px 2px rgba(0, 0, 0, 0.3));\n",
              "      fill: #FFFFFF;\n",
              "    }\n",
              "  </style>\n",
              "\n",
              "      <script>\n",
              "        const buttonEl =\n",
              "          document.querySelector('#df-e70f847f-7c02-41ca-ae41-19472ebf5cd7 button.colab-df-convert');\n",
              "        buttonEl.style.display =\n",
              "          google.colab.kernel.accessAllowed ? 'block' : 'none';\n",
              "\n",
              "        async function convertToInteractive(key) {\n",
              "          const element = document.querySelector('#df-e70f847f-7c02-41ca-ae41-19472ebf5cd7');\n",
              "          const dataTable =\n",
              "            await google.colab.kernel.invokeFunction('convertToInteractive',\n",
              "                                                     [key], {});\n",
              "          if (!dataTable) return;\n",
              "\n",
              "          const docLinkHtml = 'Like what you see? Visit the ' +\n",
              "            '<a target=\"_blank\" href=https://colab.research.google.com/notebooks/data_table.ipynb>data table notebook</a>'\n",
              "            + ' to learn more about interactive tables.';\n",
              "          element.innerHTML = '';\n",
              "          dataTable['output_type'] = 'display_data';\n",
              "          await google.colab.output.renderOutput(dataTable, element);\n",
              "          const docLink = document.createElement('div');\n",
              "          docLink.innerHTML = docLinkHtml;\n",
              "          element.appendChild(docLink);\n",
              "        }\n",
              "      </script>\n",
              "    </div>\n",
              "  </div>\n",
              "  "
            ]
          },
          "metadata": {},
          "execution_count": 128
        }
      ]
    },
    {
      "cell_type": "code",
      "source": [
        "df_train.dtypes # All 'object' datatypes are categorical variables."
      ],
      "metadata": {
        "colab": {
          "base_uri": "https://localhost:8080/"
        },
        "id": "ayQlLE3kLPl_",
        "outputId": "6b142da1-4da6-45e3-e747-c8fcc519bb0e"
      },
      "execution_count": null,
      "outputs": [
        {
          "output_type": "execute_result",
          "data": {
            "text/plain": [
              "make                  object\n",
              "model                 object\n",
              "year                   int64\n",
              "engine_fuel_type      object\n",
              "engine_hp            float64\n",
              "engine_cylinders     float64\n",
              "transmission_type     object\n",
              "driven_wheels         object\n",
              "number_of_doors      float64\n",
              "market_category       object\n",
              "vehicle_size          object\n",
              "vehicle_style         object\n",
              "highway_mpg            int64\n",
              "city_mpg               int64\n",
              "popularity             int64\n",
              "dtype: object"
            ]
          },
          "metadata": {},
          "execution_count": 129
        }
      ]
    },
    {
      "cell_type": "markdown",
      "source": [
        "The column, number_of_doors may not look like it; it looks like a number, but it is also a categorical variable."
      ],
      "metadata": {
        "id": "BOZHEE0SMF_k"
      }
    },
    {
      "cell_type": "code",
      "source": [
        "df_train.number_of_doors # Display the number_of_doors for each row."
      ],
      "metadata": {
        "colab": {
          "base_uri": "https://localhost:8080/"
        },
        "id": "JInvXwLILPUj",
        "outputId": "6cc73859-9c11-4c80-f7ee-35f203e20397"
      },
      "execution_count": null,
      "outputs": [
        {
          "output_type": "execute_result",
          "data": {
            "text/plain": [
              "0       2.0\n",
              "1       4.0\n",
              "2       4.0\n",
              "3       3.0\n",
              "4       4.0\n",
              "       ... \n",
              "7145    2.0\n",
              "7146    2.0\n",
              "7147    4.0\n",
              "7148    4.0\n",
              "7149    4.0\n",
              "Name: number_of_doors, Length: 7150, dtype: float64"
            ]
          },
          "metadata": {},
          "execution_count": 130
        }
      ]
    },
    {
      "cell_type": "code",
      "source": [
        "df_train['num_doors_2'] = (df_train.number_of_doors == 2).astype('int') \n",
        "# Converts the boolean into an integer, for 2-door vehicles."
      ],
      "metadata": {
        "id": "868l_7Ppagjn"
      },
      "execution_count": null,
      "outputs": []
    },
    {
      "cell_type": "code",
      "source": [
        "df_train['num_doors_3'] = (df_train.number_of_doors == 3).astype('int') \n",
        "# Converts the boolean into an integer, for 3-door vehicles."
      ],
      "metadata": {
        "id": "P0op4ZqWMXKx"
      },
      "execution_count": null,
      "outputs": []
    },
    {
      "cell_type": "code",
      "source": [
        "df_train['num_doors_4'] = (df_train.number_of_doors == 4).astype('int') \n",
        "\n",
        "# Converts the boolean into an integer, for 4-door vehicles."
      ],
      "metadata": {
        "id": "KlrW4neJMXIN"
      },
      "execution_count": null,
      "outputs": []
    },
    {
      "cell_type": "code",
      "source": [
        "del df_train['num_doors_2']\n",
        "del df_train['num_doors_3']\n",
        "del df_train['num_doors_4']"
      ],
      "metadata": {
        "id": "C8IlzIYeQy0O"
      },
      "execution_count": null,
      "outputs": []
    },
    {
      "cell_type": "code",
      "source": [
        "makes = list(df.make.value_counts().head().index)"
      ],
      "metadata": {
        "id": "oHNQLg-ltRqS"
      },
      "execution_count": null,
      "outputs": []
    },
    {
      "cell_type": "markdown",
      "source": [
        "The previous operations can be written into a for loop."
      ],
      "metadata": {
        "id": "bHNi_tfpQIsH"
      }
    },
    {
      "cell_type": "code",
      "source": [
        "for v in [2, 3, 4]:\n",
        "  df_train['num_doors_%s' % v] = (df_train.number_of_doors == v).astype('int')"
      ],
      "metadata": {
        "id": "LUAK-QeRMXF5"
      },
      "execution_count": null,
      "outputs": []
    },
    {
      "cell_type": "code",
      "source": [
        "def prepare_X(df):\n",
        "    df = df.copy()\n",
        "    features = base.copy()\n",
        "\n",
        "    df['age'] = 2017 - df.year\n",
        "    features.append('age')\n",
        "\n",
        "    for v in [2, 3, 4]:\n",
        "      df['num_doors_%s' % v] = (df.number_of_doors == v).astype('int')\n",
        "      features.append('num_doors_%s' % v)\n",
        "\n",
        "    for v in makes:\n",
        "      df['make_%s' % v] = (df.make == v).astype('int')\n",
        "      features.append('make_%s' % v)\n",
        "\n",
        "    df_num = df[features]\n",
        "    df_num = df_num.fillna(0)\n",
        "    X = df_num.values\n",
        "\n",
        "    return X"
      ],
      "metadata": {
        "id": "Opl7fCd5MWv9"
      },
      "execution_count": null,
      "outputs": []
    },
    {
      "cell_type": "code",
      "source": [
        "prepare_X(df_train)"
      ],
      "metadata": {
        "colab": {
          "base_uri": "https://localhost:8080/"
        },
        "id": "HvD9_KyGRKHH",
        "outputId": "cf19c6b8-6b93-4f51-f37e-5f464e321ad5"
      },
      "execution_count": null,
      "outputs": [
        {
          "output_type": "execute_result",
          "data": {
            "text/plain": [
              "array([[148.,   4.,  33., ...,   0.,   0.,   0.],\n",
              "       [132.,   4.,  32., ...,   0.,   1.,   0.],\n",
              "       [148.,   4.,  37., ...,   0.,   0.,   0.],\n",
              "       ...,\n",
              "       [285.,   6.,  22., ...,   0.,   0.,   0.],\n",
              "       [563.,  12.,  21., ...,   0.,   0.,   0.],\n",
              "       [200.,   4.,  31., ...,   1.,   0.,   0.]])"
            ]
          },
          "metadata": {},
          "execution_count": 138
        }
      ]
    },
    {
      "cell_type": "code",
      "source": [
        "X_train = prepare_X(df_train)\n",
        "w_0, w = train_linear_regression(X_train, y_train)\n",
        "\n",
        "X_val = prepare_X(df_val)\n",
        "y_pred = w_0 + X_val.dot(w)\n",
        "\n",
        "rmse(y_val, y_pred)"
      ],
      "metadata": {
        "colab": {
          "base_uri": "https://localhost:8080/"
        },
        "id": "EqQSW1aRRJxz",
        "outputId": "45960696-6c67-493c-ce50-2ba72fbd1622"
      },
      "execution_count": null,
      "outputs": [
        {
          "output_type": "execute_result",
          "data": {
            "text/plain": [
              "0.5076038849556795"
            ]
          },
          "metadata": {},
          "execution_count": 139
        }
      ]
    },
    {
      "cell_type": "code",
      "source": [
        "def prepare_X(df):\n",
        "    df = df.copy()\n",
        "    features = base.copy()\n",
        "\n",
        "    df['age'] = 2017 - df.year\n",
        "    features.append('age')\n",
        "\n",
        "    for v in [2, 3, 4]:\n",
        "      df['num_doors_%s' % v] = (df.number_of_doors == v).astype('int')\n",
        "      features.append('num_doors_%s' % v)\n",
        "\n",
        "    for v in makes:\n",
        "      df['make_%s' % v] = (df.make == v).astype('int')\n",
        "      features.append('make_%s' % v)\n",
        "\n",
        "    df_num = df[features]\n",
        "    df_num = df_num.fillna(0)\n",
        "    X = df_num.values\n",
        "\n",
        "    return X"
      ],
      "metadata": {
        "id": "qLerrOPut4pu"
      },
      "execution_count": null,
      "outputs": []
    },
    {
      "cell_type": "code",
      "source": [
        "X_train = prepare_X(df_train)\n",
        "w_0, w = train_linear_regression(X_train, y_train)\n",
        "\n",
        "X_val = prepare_X(df_val)\n",
        "y_pred = w_0 + X_val.dot(w)\n",
        "\n",
        "rmse(y_val, y_pred)"
      ],
      "metadata": {
        "colab": {
          "base_uri": "https://localhost:8080/"
        },
        "id": "ldvp-QO_Wo3r",
        "outputId": "d659c5d7-8997-4288-c74a-8eafc8098bd4"
      },
      "execution_count": null,
      "outputs": [
        {
          "output_type": "execute_result",
          "data": {
            "text/plain": [
              "0.5076038849556795"
            ]
          },
          "metadata": {},
          "execution_count": 141
        }
      ]
    },
    {
      "cell_type": "code",
      "source": [
        "categorical_columns = [\n",
        "    'make', 'model', 'engine_fuel_type', 'driven_wheels', 'market_category',\n",
        "    'vehicle_size', 'vehicle_style']"
      ],
      "metadata": {
        "id": "PgUCrsYvWo09"
      },
      "execution_count": null,
      "outputs": []
    },
    {
      "cell_type": "code",
      "source": [
        "makes = list(df.make.value_counts().head().index)\n",
        "makes"
      ],
      "metadata": {
        "colab": {
          "base_uri": "https://localhost:8080/"
        },
        "id": "ERdrDWeXz4ZV",
        "outputId": "844ebd51-0572-4a24-cffa-0df0c42c609c"
      },
      "execution_count": null,
      "outputs": [
        {
          "output_type": "execute_result",
          "data": {
            "text/plain": [
              "['chevrolet', 'ford', 'volkswagen', 'toyota', 'dodge']"
            ]
          },
          "metadata": {},
          "execution_count": 143
        }
      ]
    },
    {
      "cell_type": "code",
      "source": [
        "categories = {}\n",
        "\n",
        "for c in categories:\n",
        "    categories[c] = list(df[c].value_counts().head().index)"
      ],
      "metadata": {
        "id": "tINP12Ai0Fvq"
      },
      "execution_count": null,
      "outputs": []
    },
    {
      "cell_type": "code",
      "source": [
        "categories"
      ],
      "metadata": {
        "colab": {
          "base_uri": "https://localhost:8080/"
        },
        "id": "Azbxj0wi0VMC",
        "outputId": "afcb9391-6c8f-4c8c-c8a4-109a6f9db033"
      },
      "execution_count": null,
      "outputs": [
        {
          "output_type": "execute_result",
          "data": {
            "text/plain": [
              "{}"
            ]
          },
          "metadata": {},
          "execution_count": 145
        }
      ]
    },
    {
      "cell_type": "code",
      "source": [
        "def prepare_X(df):\n",
        "    df = df.copy()\n",
        "    \n",
        "    df['age'] = 2017 - df['year']\n",
        "    features = base + ['age']\n",
        "\n",
        "    for v in [2, 3, 4]:\n",
        "        df['num_doors_%d' % v] = (df.number_of_doors == v).astype(int)\n",
        "        features.append('num_doors_%d' % v)\n",
        "\n",
        "    for name, values in categories.items():\n",
        "        for value in values:\n",
        "            df['%s_%s' % (name, value)] = (df[name] == value).astype(int)\n",
        "            features.append('%s_%s' % (name, value))\n",
        "\n",
        "    df_num = df[features]\n",
        "    df_num = df_num.fillna(0)\n",
        "    X = df_num.values\n",
        "\n",
        "    return X"
      ],
      "metadata": {
        "id": "1jCGRlTI0UyY"
      },
      "execution_count": null,
      "outputs": []
    },
    {
      "cell_type": "code",
      "source": [
        "X_train = prepare_X(df_train)\n",
        "w0, w = train_linear_regression(X_train, y_train)\n",
        "\n",
        "X_val = prepare_X(df_val)\n",
        "y_pred = w0 + X_val.dot(w)\n",
        "rmse(y_val, y_pred)"
      ],
      "metadata": {
        "colab": {
          "base_uri": "https://localhost:8080/"
        },
        "id": "HC0IF9ah0hjs",
        "outputId": "604d2942-93e0-42aa-e0ca-b760fd0ec1b4"
      },
      "execution_count": null,
      "outputs": [
        {
          "output_type": "execute_result",
          "data": {
            "text/plain": [
              "0.5157995641501678"
            ]
          },
          "metadata": {},
          "execution_count": 147
        }
      ]
    },
    {
      "cell_type": "code",
      "source": [
        "w0, w"
      ],
      "metadata": {
        "colab": {
          "base_uri": "https://localhost:8080/"
        },
        "id": "ikUF0W3S0hJA",
        "outputId": "1cb54852-8c81-4add-ee5e-ed67b6f00da0"
      },
      "execution_count": null,
      "outputs": [
        {
          "output_type": "execute_result",
          "data": {
            "text/plain": [
              "(10.659085118454128,\n",
              " array([ 3.71362023e-03,  7.55896758e-02, -3.94226970e-03,  1.05656089e-02,\n",
              "        -4.55063701e-05, -9.45102320e-02, -1.26327322e+00, -1.47267350e+00,\n",
              "        -1.30655848e+00]))"
            ]
          },
          "metadata": {},
          "execution_count": 148
        }
      ]
    },
    {
      "cell_type": "code",
      "source": [],
      "metadata": {
        "id": "P0JPBvnM0utp"
      },
      "execution_count": null,
      "outputs": []
    },
    {
      "cell_type": "markdown",
      "source": [
        "# Section 2.13: Regularization"
      ],
      "metadata": {
        "id": "-dkW3J77BDtu"
      }
    },
    {
      "cell_type": "code",
      "source": [
        "X = [\n",
        "    [4, 4, 4],\n",
        "    [3, 5, 5],\n",
        "    [5, 1, 1],\n",
        "    [5, 4, 4],\n",
        "    [7, 5, 5],\n",
        "    [4, 5, 5.00000001],\n",
        "]\n",
        "\n",
        "X = np.array(X) # Convert to a NumPy array.\n",
        "X"
      ],
      "metadata": {
        "id": "OUIhzRmpaM0F",
        "colab": {
          "base_uri": "https://localhost:8080/"
        },
        "outputId": "5cceb514-ac89-4718-9438-8db2a8b1a3b3"
      },
      "execution_count": null,
      "outputs": [
        {
          "output_type": "execute_result",
          "data": {
            "text/plain": [
              "array([[4.        , 4.        , 4.        ],\n",
              "       [3.        , 5.        , 5.        ],\n",
              "       [5.        , 1.        , 1.        ],\n",
              "       [5.        , 4.        , 4.        ],\n",
              "       [7.        , 5.        , 5.        ],\n",
              "       [4.        , 5.        , 5.00000001]])"
            ]
          },
          "metadata": {},
          "execution_count": 149
        }
      ]
    },
    {
      "cell_type": "code",
      "source": [
        "y = [1, 2, 3, 1, 2, 3]"
      ],
      "metadata": {
        "id": "Uvq8DHizDQkK"
      },
      "execution_count": null,
      "outputs": []
    },
    {
      "cell_type": "code",
      "source": [
        "XTX = X.T.dot(X) # Multiply X-transpose by X.\n",
        "XTX # Display XTX"
      ],
      "metadata": {
        "id": "8v065_CiahDB",
        "colab": {
          "base_uri": "https://localhost:8080/"
        },
        "outputId": "dd857205-87b6-4489-99f7-272c6e87ba31"
      },
      "execution_count": null,
      "outputs": [
        {
          "output_type": "execute_result",
          "data": {
            "text/plain": [
              "array([[140.        , 111.        , 111.00000004],\n",
              "       [111.        , 108.        , 108.00000005],\n",
              "       [111.00000004, 108.00000005, 108.0000001 ]])"
            ]
          },
          "metadata": {},
          "execution_count": 151
        }
      ]
    },
    {
      "cell_type": "code",
      "source": [
        "# XTX_inv = np.linalg.inv(XTX) # Generates an error because the inverse does not \n",
        "# exist."
      ],
      "metadata": {
        "id": "ETxlPNnFCCN5"
      },
      "execution_count": null,
      "outputs": []
    },
    {
      "cell_type": "code",
      "source": [
        "XTX_inv.dot(X.T).dot(y)"
      ],
      "metadata": {
        "colab": {
          "base_uri": "https://localhost:8080/",
          "height": 165
        },
        "id": "QW-0y-MlChjw",
        "outputId": "34e4bc76-39b6-4627-f81a-a38eea6667f7"
      },
      "execution_count": null,
      "outputs": [
        {
          "output_type": "error",
          "ename": "ValueError",
          "evalue": "ignored",
          "traceback": [
            "\u001b[0;31m---------------------------------------------------------------------------\u001b[0m",
            "\u001b[0;31mValueError\u001b[0m                                Traceback (most recent call last)",
            "\u001b[0;32m<ipython-input-153-59c502512f50>\u001b[0m in \u001b[0;36m<module>\u001b[0;34m\u001b[0m\n\u001b[0;32m----> 1\u001b[0;31m \u001b[0mXTX_inv\u001b[0m\u001b[0;34m.\u001b[0m\u001b[0mdot\u001b[0m\u001b[0;34m(\u001b[0m\u001b[0mX\u001b[0m\u001b[0;34m.\u001b[0m\u001b[0mT\u001b[0m\u001b[0;34m)\u001b[0m\u001b[0;34m.\u001b[0m\u001b[0mdot\u001b[0m\u001b[0;34m(\u001b[0m\u001b[0my\u001b[0m\u001b[0;34m)\u001b[0m\u001b[0;34m\u001b[0m\u001b[0;34m\u001b[0m\u001b[0m\n\u001b[0m",
            "\u001b[0;31mValueError\u001b[0m: shapes (4,4) and (3,6) not aligned: 4 (dim 1) != 3 (dim 0)"
          ]
        }
      ]
    },
    {
      "cell_type": "code",
      "source": [
        "XTX = [\n",
        "    [1, 2, 2],\n",
        "    [2, 1., 1.0000001],\n",
        "    [2, 1.0000001, 1]\n",
        "]\n",
        "\n",
        "XTX = np.array(XTX)"
      ],
      "metadata": {
        "id": "Cg416NytClx0"
      },
      "execution_count": null,
      "outputs": []
    },
    {
      "cell_type": "code",
      "source": [
        "np.linalg.inv(XTX)"
      ],
      "metadata": {
        "id": "t_-jMRkQEJbd"
      },
      "execution_count": null,
      "outputs": []
    },
    {
      "cell_type": "code",
      "source": [
        "np.eye(3) # Identity matrix; I_3;"
      ],
      "metadata": {
        "id": "4H1fdikrEJ1p"
      },
      "execution_count": null,
      "outputs": []
    },
    {
      "cell_type": "code",
      "source": [
        "XTX = XTX + 0.01 * np.eye(3) # Add X to the Identity matrix.\n",
        "XTX # Display XTX"
      ],
      "metadata": {
        "id": "gXonnylNEJ4G"
      },
      "execution_count": null,
      "outputs": []
    },
    {
      "cell_type": "code",
      "source": [
        "np.linalg.inv(XTX)"
      ],
      "metadata": {
        "id": "l6JFHPIFE3rD"
      },
      "execution_count": null,
      "outputs": []
    },
    {
      "cell_type": "code",
      "source": [
        "def train_linear_regression_reg(X, y, r=0.001):\n",
        "    ones = np.ones(X.shape[0])\n",
        "    X = np.column_stack([ones, X])\n",
        "\n",
        "    XTX = X.T.dot(X)\n",
        "    XTX = XTX + r * np.eye(XTX.shape[0])\n",
        "\n",
        "    XTX_inv = np.linalg.inv(XTX)\n",
        "    w_full = XTX_inv.dot(X.T).dot(y)\n",
        "    \n",
        "    return w_full[0], w_full[1:]"
      ],
      "metadata": {
        "id": "RVoT3-SLEJ6b"
      },
      "execution_count": null,
      "outputs": []
    },
    {
      "cell_type": "code",
      "source": [
        "X_train = prepare_X(df_train)\n",
        "w0, w = train_linear_regression_reg(X_train, y_train, r=0.01)\n",
        "\n",
        "X_val = prepare_X(df_val)\n",
        "y_pred = w0 + X_val.dot(w)\n",
        "rmse(y_val, y_pred)"
      ],
      "metadata": {
        "id": "zcSBPLHwGR8a"
      },
      "execution_count": null,
      "outputs": []
    },
    {
      "cell_type": "code",
      "source": [],
      "metadata": {
        "id": "eqF6HBixGRfZ"
      },
      "execution_count": null,
      "outputs": []
    },
    {
      "cell_type": "markdown",
      "source": [
        "# Section 2.14: Tuning the Model"
      ],
      "metadata": {
        "id": "Q-Ilr45RBEMt"
      }
    },
    {
      "cell_type": "code",
      "source": [
        "for r in [0.0, 0.00001, 0.0001, 0.001, 0.1, 1, 10]:\n",
        "    X_train = prepare_X(df_train)\n",
        "    w0, w = train_linear_regression_reg(X_train, y_train, r=r)\n",
        "\n",
        "    X_val = prepare_X(df_val)\n",
        "    y_pred = w0 + X_val.dot(w)\n",
        "    score = rmse(y_val, y_pred)\n",
        "    \n",
        "    print(r, w0, score)"
      ],
      "metadata": {
        "id": "PPWa6oEPaNYH"
      },
      "execution_count": null,
      "outputs": []
    },
    {
      "cell_type": "code",
      "source": [
        "r = 0.001\n",
        "X_train = prepare_X(df_train)\n",
        "w0, w = train_linear_regression_reg(X_train, y_train, r=r)\n",
        "\n",
        "X_val = prepare_X(df_val)\n",
        "y_pred = w0 + X_val.dot(w)\n",
        "score = rmse(y_val, y_pred)\n",
        "score"
      ],
      "metadata": {
        "id": "Cz3t9p_kahv6"
      },
      "execution_count": null,
      "outputs": []
    },
    {
      "cell_type": "code",
      "source": [],
      "metadata": {
        "id": "LAcyVzILHHId"
      },
      "execution_count": null,
      "outputs": []
    },
    {
      "cell_type": "code",
      "source": [],
      "metadata": {
        "id": "eDKg3_TpHGqa"
      },
      "execution_count": null,
      "outputs": []
    },
    {
      "cell_type": "code",
      "source": [],
      "metadata": {
        "id": "IWkq1Cd1HGGm"
      },
      "execution_count": null,
      "outputs": []
    },
    {
      "cell_type": "markdown",
      "source": [
        "# Section 2.15: Using the Model"
      ],
      "metadata": {
        "id": "DF0C70MMBEr0"
      }
    },
    {
      "cell_type": "code",
      "source": [],
      "metadata": {
        "id": "NVkmEUj1aN3p"
      },
      "execution_count": null,
      "outputs": []
    },
    {
      "cell_type": "code",
      "source": [],
      "metadata": {
        "id": "49lAK9QpaiKK"
      },
      "execution_count": null,
      "outputs": []
    },
    {
      "cell_type": "markdown",
      "source": [
        "# Section 2.16: Car Price Prediction Summary"
      ],
      "metadata": {
        "id": "MeyWpa2VCSB1"
      }
    },
    {
      "cell_type": "code",
      "source": [],
      "metadata": {
        "id": "Ro7PuwbPaOpt"
      },
      "execution_count": null,
      "outputs": []
    },
    {
      "cell_type": "code",
      "source": [],
      "metadata": {
        "id": "lXzO6-e6X-PS"
      },
      "execution_count": null,
      "outputs": []
    }
  ]
}