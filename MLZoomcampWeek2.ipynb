{
  "nbformat": 4,
  "nbformat_minor": 0,
  "metadata": {
    "colab": {
      "provenance": [],
      "include_colab_link": true
    },
    "kernelspec": {
      "name": "python3",
      "display_name": "Python 3"
    },
    "language_info": {
      "name": "python"
    }
  },
  "cells": [
    {
      "cell_type": "markdown",
      "metadata": {
        "id": "view-in-github",
        "colab_type": "text"
      },
      "source": [
        "<a href=\"https://colab.research.google.com/github/gregorywmorris/MLZoom2022/blob/main/MLZoomcampWeek2.ipynb\" target=\"_parent\"><img src=\"https://colab.research.google.com/assets/colab-badge.svg\" alt=\"Open In Colab\"/></a>"
      ]
    },
    {
      "cell_type": "markdown",
      "source": [
        "# Week 2 Homework"
      ],
      "metadata": {
        "id": "JzYN3DSiQVUM"
      }
    },
    {
      "cell_type": "code",
      "execution_count": 2,
      "metadata": {
        "id": "7sNaLsdAQPDo"
      },
      "outputs": [],
      "source": [
        "import pandas as pd\n",
        "import numpy as np\n",
        "\n",
        "import seaborn as sns\n",
        "from matplotlib import pyplot as plt\n",
        "%matplotlib inline "
      ]
    },
    {
      "cell_type": "code",
      "source": [
        "data = 'https://raw.githubusercontent.com/alexeygrigorev/datasets/master/housing.csv'\n",
        "!wget $data"
      ],
      "metadata": {
        "colab": {
          "base_uri": "https://localhost:8080/"
        },
        "id": "bI9If0hNQamN",
        "outputId": "e8513239-5068-47c5-fb30-65d3419b7080"
      },
      "execution_count": 3,
      "outputs": [
        {
          "output_type": "stream",
          "name": "stdout",
          "text": [
            "--2022-09-19 23:15:45--  https://raw.githubusercontent.com/alexeygrigorev/datasets/master/housing.csv\n",
            "Resolving raw.githubusercontent.com (raw.githubusercontent.com)... 185.199.110.133, 185.199.111.133, 185.199.109.133, ...\n",
            "Connecting to raw.githubusercontent.com (raw.githubusercontent.com)|185.199.110.133|:443... connected.\n",
            "HTTP request sent, awaiting response... 200 OK\n",
            "Length: 1423529 (1.4M) [text/plain]\n",
            "Saving to: ‘housing.csv’\n",
            "\n",
            "housing.csv         100%[===================>]   1.36M  --.-KB/s    in 0.02s   \n",
            "\n",
            "2022-09-19 23:15:45 (69.6 MB/s) - ‘housing.csv’ saved [1423529/1423529]\n",
            "\n"
          ]
        }
      ]
    },
    {
      "cell_type": "code",
      "source": [
        "df = pd.read_csv('housing.csv')"
      ],
      "metadata": {
        "id": "YL__j0vGRqA4"
      },
      "execution_count": 4,
      "outputs": []
    },
    {
      "cell_type": "code",
      "source": [
        "base = ['latitude',\n",
        "'longitude',\n",
        "'housing_median_age',\n",
        "'total_rooms',\n",
        "'total_bedrooms',\n",
        "'population',\n",
        "'households',\n",
        "'median_income',\n",
        "'median_house_value']\n",
        "\n",
        "df = df[base]\n",
        "\n",
        "df.dtypes"
      ],
      "metadata": {
        "id": "-3K1kmPoyXDF",
        "outputId": "9667b457-50c0-4a5d-d4cf-d2a4d1d3c05e",
        "colab": {
          "base_uri": "https://localhost:8080/"
        }
      },
      "execution_count": 5,
      "outputs": [
        {
          "output_type": "execute_result",
          "data": {
            "text/plain": [
              "latitude              float64\n",
              "longitude             float64\n",
              "housing_median_age    float64\n",
              "total_rooms           float64\n",
              "total_bedrooms        float64\n",
              "population            float64\n",
              "households            float64\n",
              "median_income         float64\n",
              "median_house_value    float64\n",
              "dtype: object"
            ]
          },
          "metadata": {},
          "execution_count": 5
        }
      ]
    },
    {
      "cell_type": "code",
      "source": [
        "sns.histplot(df.median_house_value, bins = 50)"
      ],
      "metadata": {
        "id": "lqObehjvBwsS",
        "outputId": "c680116c-70a6-498f-db42-aa5e6daac20e",
        "colab": {
          "base_uri": "https://localhost:8080/",
          "height": 297
        }
      },
      "execution_count": 6,
      "outputs": [
        {
          "output_type": "execute_result",
          "data": {
            "text/plain": [
              "<matplotlib.axes._subplots.AxesSubplot at 0x7f3bd620f110>"
            ]
          },
          "metadata": {},
          "execution_count": 6
        },
        {
          "output_type": "display_data",
          "data": {
            "text/plain": [
              "<Figure size 432x288 with 1 Axes>"
            ],
            "image/png": "[encoded data removed]"
          },
          "metadata": {
            "needs_background": "light"
          }
        }
      ]
    },
    {
      "cell_type": "markdown",
      "source": [
        "#Q1\n",
        "Find a feature with missing values. How many missing values does it have?\n",
        "\n",
        "a. 207\n",
        "b. 307\n",
        "c. 408\n",
        "d. 508"
      ],
      "metadata": {
        "id": "Sk-b7blqQr2K"
      }
    },
    {
      "cell_type": "code",
      "source": [
        "df.isnull().sum()"
      ],
      "metadata": {
        "colab": {
          "base_uri": "https://localhost:8080/"
        },
        "id": "JG6Qp8WzQddZ",
        "outputId": "a80b7e24-9969-4c97-ab11-9a7f91f87224"
      },
      "execution_count": 14,
      "outputs": [
        {
          "output_type": "execute_result",
          "data": {
            "text/plain": [
              "latitude                0\n",
              "longitude               0\n",
              "housing_median_age      0\n",
              "total_rooms             0\n",
              "total_bedrooms        207\n",
              "population              0\n",
              "households              0\n",
              "median_income           0\n",
              "median_house_value      0\n",
              "dtype: int64"
            ]
          },
          "metadata": {},
          "execution_count": 14
        }
      ]
    },
    {
      "cell_type": "markdown",
      "source": [
        "# Q2\n",
        "What's the median (50% percentile) for variable 'population'?\n",
        "\n",
        "a. 1133\n",
        "b. 1122\n",
        "c. 1166\n",
        "d. 1188"
      ],
      "metadata": {
        "id": "JXki94gzQzuW"
      }
    },
    {
      "cell_type": "code",
      "source": [
        "df['population'].median()"
      ],
      "metadata": {
        "colab": {
          "base_uri": "https://localhost:8080/"
        },
        "id": "2gLRPduEQ3e5",
        "outputId": "c094c640-32d3-46c6-af3b-691c2bfe9a1c"
      },
      "execution_count": 15,
      "outputs": [
        {
          "output_type": "execute_result",
          "data": {
            "text/plain": [
              "1166.0"
            ]
          },
          "metadata": {},
          "execution_count": 15
        }
      ]
    },
    {
      "cell_type": "markdown",
      "source": [
        "#Split the data\n",
        "Shuffle the initial dataset, use seed 42.\n",
        "Split your data in train/val/test sets, with 60%/20%/20% distribution.\n",
        "Make sure that the target value ('median_house_value') is not in your dataframe.\n",
        "Apply the log transformation to the median_house_value variable using the np.log1p() function."
      ],
      "metadata": {
        "id": "5Sg36yV3Q39e"
      }
    },
    {
      "cell_type": "code",
      "source": [
        "n = len(df)"
      ],
      "metadata": {
        "id": "vVUgkz7ORBMs"
      },
      "execution_count": 16,
      "outputs": []
    },
    {
      "cell_type": "code",
      "source": [
        "idx = np.arange(n)\n",
        "np.random.seed(42)\n",
        "np.random.shuffle(idx) "
      ],
      "metadata": {
        "id": "efnnAsVUC9XQ"
      },
      "execution_count": 18,
      "outputs": []
    },
    {
      "cell_type": "code",
      "source": [
        "# Creating a \n",
        "n_val = int(n * 0.2)\n",
        "n_test = int(n * 0.2)\n",
        "n_train = n - n_val - n_test \n",
        "\n",
        "n, n_val + n_test + n_train #Sanity Check"
      ],
      "metadata": {
        "id": "NE-qWB3gTYSL",
        "colab": {
          "base_uri": "https://localhost:8080/"
        },
        "outputId": "e9ba33b8-f096-4b98-cb05-8b29889f3932"
      },
      "execution_count": 19,
      "outputs": [
        {
          "output_type": "execute_result",
          "data": {
            "text/plain": [
              "(20640, 20640)"
            ]
          },
          "metadata": {},
          "execution_count": 19
        }
      ]
    },
    {
      "cell_type": "code",
      "source": [
        "df_train = df.iloc[idx[:n_train]]\n",
        "df_val = df.iloc[idx[n_train:n_train + n_val]] \n",
        "df_test = df.iloc[idx[n_train + n_val:]]\n",
        "\n",
        "split_total = len(df_train) + len(df_val) + len(df_test) \n",
        "split = len(df_train), len(df_val), len(df_test)\n",
        "\n",
        "split_total, split"
      ],
      "metadata": {
        "colab": {
          "base_uri": "https://localhost:8080/"
        },
        "id": "EAJWCrk21s0H",
        "outputId": "b3a64075-080b-433b-80dc-02d4e91d5ee0"
      },
      "execution_count": 24,
      "outputs": [
        {
          "output_type": "execute_result",
          "data": {
            "text/plain": [
              "(20640, (12384, 4128, 4128))"
            ]
          },
          "metadata": {},
          "execution_count": 24
        }
      ]
    },
    {
      "cell_type": "code",
      "source": [
        "y_train = np.log1p(df_train.median_house_value.values)\n",
        "y_val = np.log1p(df_val.median_house_value.values)\n",
        "y_test = np.log1p(df_test.median_house_value.values)"
      ],
      "metadata": {
        "id": "hwqo9J9gEwcW"
      },
      "execution_count": 25,
      "outputs": []
    },
    {
      "cell_type": "code",
      "source": [
        "df_train = df_train.reset_index(drop = True)\n",
        "df_val = df_val.reset_index(drop = True)\n",
        "df_test = df_test.reset_index(drop = True)"
      ],
      "metadata": {
        "id": "v8UUPXH3Ek9q"
      },
      "execution_count": 26,
      "outputs": []
    },
    {
      "cell_type": "code",
      "source": [
        "# origional data remains intact\n",
        "df.columns"
      ],
      "metadata": {
        "colab": {
          "base_uri": "https://localhost:8080/"
        },
        "id": "p0Gka9JLVe4f",
        "outputId": "b3a1cfe3-9509-4806-b727-50b26fffd202"
      },
      "execution_count": 27,
      "outputs": [
        {
          "output_type": "execute_result",
          "data": {
            "text/plain": [
              "Index(['latitude', 'longitude', 'housing_median_age', 'total_rooms',\n",
              "       'total_bedrooms', 'population', 'households', 'median_income',\n",
              "       'median_house_value'],\n",
              "      dtype='object')"
            ]
          },
          "metadata": {},
          "execution_count": 27
        }
      ]
    },
    {
      "cell_type": "markdown",
      "source": [
        "#Q3\n",
        "* We need to deal with missing values for the column from Q1.\n",
        "* We have two options: fill it with 0 or with the mean of this variable.\n",
        "* Try both options. For each, train a linear regression model without regularization using the code from the lessons.\n",
        "* For computing the mean, use the training only!\n",
        "* Use the validation dataset to evaluate the models and compare the RMSE of each option.\n",
        "* Round the RMSE scores to 2 decimal digits using round(score, 2)\n",
        "Which option gives better RMSE?\n",
        "\n",
        "Options:\n",
        "\n",
        "a. With 0\n",
        "b. With mean\n",
        "c. Both are equally good"
      ],
      "metadata": {
        "id": "jymGpLgaRBnO"
      }
    },
    {
      "cell_type": "code",
      "source": [
        "X_mean = df_val.copy()\n",
        "X_mean = X.fillna(df_train['total_bedrooms'].mean())"
      ],
      "metadata": {
        "id": "_SyGaKaURIcK",
        "outputId": "308d6189-dfcc-4179-8065-84fe120a305d",
        "colab": {
          "base_uri": "https://localhost:8080/",
          "height": 183
        }
      },
      "execution_count": 34,
      "outputs": [
        {
          "output_type": "error",
          "ename": "AttributeError",
          "evalue": "ignored",
          "traceback": [
            "\u001b[0;31m---------------------------------------------------------------------------\u001b[0m",
            "\u001b[0;31mAttributeError\u001b[0m                            Traceback (most recent call last)",
            "\u001b[0;32m<ipython-input-34-61c1656803ba>\u001b[0m in \u001b[0;36m<module>\u001b[0;34m\u001b[0m\n\u001b[1;32m      1\u001b[0m \u001b[0mX_mean\u001b[0m \u001b[0;34m=\u001b[0m \u001b[0mdf_val\u001b[0m\u001b[0;34m.\u001b[0m\u001b[0mcopy\u001b[0m\u001b[0;34m(\u001b[0m\u001b[0;34m)\u001b[0m\u001b[0;34m\u001b[0m\u001b[0;34m\u001b[0m\u001b[0m\n\u001b[0;32m----> 2\u001b[0;31m \u001b[0mX_mean\u001b[0m \u001b[0;34m=\u001b[0m \u001b[0mX\u001b[0m\u001b[0;34m.\u001b[0m\u001b[0mfillna\u001b[0m\u001b[0;34m(\u001b[0m\u001b[0mdf_train\u001b[0m\u001b[0;34m[\u001b[0m\u001b[0;34m'total_bedrooms'\u001b[0m\u001b[0;34m]\u001b[0m\u001b[0;34m.\u001b[0m\u001b[0mmean\u001b[0m\u001b[0;34m(\u001b[0m\u001b[0;34m)\u001b[0m\u001b[0;34m)\u001b[0m\u001b[0;34m\u001b[0m\u001b[0;34m\u001b[0m\u001b[0m\n\u001b[0m",
            "\u001b[0;31mAttributeError\u001b[0m: 'numpy.ndarray' object has no attribute 'fillna'"
          ]
        }
      ]
    },
    {
      "cell_type": "code",
      "source": [
        "X_mean = np.array(X_mean)\n",
        "X_mean"
      ],
      "metadata": {
        "id": "WcTQnxrjFsJ9"
      },
      "execution_count": null,
      "outputs": []
    },
    {
      "cell_type": "code",
      "source": [
        "def train_linear_regression(X, y): # Implement the training program\n",
        "  #ones = np.ones(X.shape[0])\n",
        "  #X = np.column_stack([ones, X])\n",
        "  \n",
        "  XTX = X.T.dot(X)\n",
        "  XTX_inv = np.linalg.inv(XTX)\n",
        "  w_full = XTX_inv.dot(X.T).dot(y)\n",
        "\n",
        "  return w_full[0], w_full[1:]"
      ],
      "metadata": {
        "id": "QWjysD7nrsKu"
      },
      "execution_count": 29,
      "outputs": []
    },
    {
      "cell_type": "code",
      "source": [
        "x_mean = train_linear_regression(X, y_val)\n",
        "x_mean"
      ],
      "metadata": {
        "id": "zDex63Sfr9oG",
        "outputId": "92968112-8f91-4dc3-d40e-4cb92d87b1ed",
        "colab": {
          "base_uri": "https://localhost:8080/"
        }
      },
      "execution_count": 30,
      "outputs": [
        {
          "output_type": "execute_result",
          "data": {
            "text/plain": [
              "(-0.13263445800485088,\n",
              " array([-1.33378491e-01, -1.57123523e-03,  6.62904639e-06,  7.42093204e-05,\n",
              "        -5.69160679e-06, -5.98730642e-05,  7.46836970e-03,  4.14793319e-06]))"
            ]
          },
          "metadata": {},
          "execution_count": 30
        }
      ]
    },
    {
      "cell_type": "code",
      "source": [
        "y_pred_mean = df_val.dot(x_mean)\n",
        "y_pred_mean"
      ],
      "metadata": {
        "id": "Z5NjqH-c4IF9",
        "outputId": "82f1bb81-23ee-4651-e14b-d22dee0821dd",
        "colab": {
          "base_uri": "https://localhost:8080/",
          "height": 359
        }
      },
      "execution_count": 31,
      "outputs": [
        {
          "output_type": "stream",
          "name": "stderr",
          "text": [
            "/usr/local/lib/python3.7/dist-packages/pandas/core/frame.py:1455: VisibleDeprecationWarning: Creating an ndarray from ragged nested sequences (which is a list-or-tuple of lists-or-tuples-or ndarrays with different lengths or shapes) is deprecated. If you meant to do this, you must specify 'dtype=object' when creating the ndarray.\n",
            "  rvals = np.asarray(other)\n"
          ]
        },
        {
          "output_type": "error",
          "ename": "ValueError",
          "evalue": "ignored",
          "traceback": [
            "\u001b[0;31m---------------------------------------------------------------------------\u001b[0m",
            "\u001b[0;31mValueError\u001b[0m                                Traceback (most recent call last)",
            "\u001b[0;32m<ipython-input-31-8b4038775325>\u001b[0m in \u001b[0;36m<module>\u001b[0;34m\u001b[0m\n\u001b[0;32m----> 1\u001b[0;31m \u001b[0my_pred_mean\u001b[0m \u001b[0;34m=\u001b[0m \u001b[0mdf_val\u001b[0m\u001b[0;34m.\u001b[0m\u001b[0mdot\u001b[0m\u001b[0;34m(\u001b[0m\u001b[0mx_mean\u001b[0m\u001b[0;34m)\u001b[0m\u001b[0;34m\u001b[0m\u001b[0;34m\u001b[0m\u001b[0m\n\u001b[0m\u001b[1;32m      2\u001b[0m \u001b[0my_pred_mean\u001b[0m\u001b[0;34m\u001b[0m\u001b[0;34m\u001b[0m\u001b[0m\n",
            "\u001b[0;32m/usr/local/lib/python3.7/dist-packages/pandas/core/frame.py\u001b[0m in \u001b[0;36mdot\u001b[0;34m(self, other)\u001b[0m\n\u001b[1;32m   1456\u001b[0m             \u001b[0;32mif\u001b[0m \u001b[0mlvals\u001b[0m\u001b[0;34m.\u001b[0m\u001b[0mshape\u001b[0m\u001b[0;34m[\u001b[0m\u001b[0;36m1\u001b[0m\u001b[0;34m]\u001b[0m \u001b[0;34m!=\u001b[0m \u001b[0mrvals\u001b[0m\u001b[0;34m.\u001b[0m\u001b[0mshape\u001b[0m\u001b[0;34m[\u001b[0m\u001b[0;36m0\u001b[0m\u001b[0;34m]\u001b[0m\u001b[0;34m:\u001b[0m\u001b[0;34m\u001b[0m\u001b[0;34m\u001b[0m\u001b[0m\n\u001b[1;32m   1457\u001b[0m                 raise ValueError(\n\u001b[0;32m-> 1458\u001b[0;31m                     \u001b[0;34mf\"Dot product shape mismatch, {lvals.shape} vs {rvals.shape}\"\u001b[0m\u001b[0;34m\u001b[0m\u001b[0;34m\u001b[0m\u001b[0m\n\u001b[0m\u001b[1;32m   1459\u001b[0m                 )\n\u001b[1;32m   1460\u001b[0m \u001b[0;34m\u001b[0m\u001b[0m\n",
            "\u001b[0;31mValueError\u001b[0m: Dot product shape mismatch, (4128, 9) vs (2,)"
          ]
        }
      ]
    },
    {
      "cell_type": "code",
      "source": [
        "def rmse(y, y_pred):\n",
        "  error = y - y_pred # Difference between y and y_pred.\n",
        "  se = error ** 2 # Square to eliminate negative values; square error correction\n",
        "  mse = se.mean() # Finds the mean\n",
        "  return np.sqrt(mse) # Finds square root of mse."
      ],
      "metadata": {
        "id": "W2yz96Qd4qnz"
      },
      "execution_count": null,
      "outputs": []
    },
    {
      "cell_type": "code",
      "source": [
        "rmse_mean = rmse(df_val, y_pred_mean)\n",
        "rmse_mean"
      ],
      "metadata": {
        "id": "tCmoF_-x4sSt",
        "outputId": "33a1f955-eaff-4437-e975-58a3cfbb1066",
        "colab": {
          "base_uri": "https://localhost:8080/"
        }
      },
      "execution_count": null,
      "outputs": [
        {
          "output_type": "execute_result",
          "data": {
            "text/plain": [
              "12384            NaN\n",
              "12385            NaN\n",
              "12386            NaN\n",
              "12387            NaN\n",
              "12388            NaN\n",
              "                  ..\n",
              "longitude        NaN\n",
              "median_income    NaN\n",
              "population       NaN\n",
              "total_bedrooms   NaN\n",
              "total_rooms      NaN\n",
              "Length: 4136, dtype: float64"
            ]
          },
          "metadata": {},
          "execution_count": 262
        }
      ]
    },
    {
      "cell_type": "code",
      "source": [
        "X = df_val.copy()\n",
        "X = X.fillna(0)"
      ],
      "metadata": {
        "id": "y9R4jhaXr21m"
      },
      "execution_count": null,
      "outputs": []
    },
    {
      "cell_type": "markdown",
      "source": [
        "Question 4\n",
        "Now let's train a regularized linear regression.\n",
        "For this question, fill the NAs with 0.\n",
        "Try different values of r from this list: [0, 0.000001, 0.0001, 0.001, 0.01, 0.1, 1, 5, 10].\n",
        "Use RMSE to evaluate the model on the validation dataset.\n",
        "Round the RMSE scores to 2 decimal digits.\n",
        "Which r gives the best RMSE?\n",
        "If there are multiple options, select the smallest r.\n",
        "\n",
        "Options:\n",
        "\n",
        "0\n",
        "0.000001\n",
        "0.001\n",
        "0.0001"
      ],
      "metadata": {
        "id": "MMH9mDRFRLXp"
      }
    },
    {
      "cell_type": "code",
      "source": [],
      "metadata": {
        "id": "BHtntigCRSj3"
      },
      "execution_count": null,
      "outputs": []
    },
    {
      "cell_type": "markdown",
      "source": [
        "Question 5\n",
        "We used seed 42 for splitting the data. Let's find out how selecting the seed influences our score.\n",
        "Try different seed values: [0, 1, 2, 3, 4, 5, 6, 7, 8, 9].\n",
        "For each seed, do the train/validation/test split with 60%/20%/20% distribution.\n",
        "Fill the missing values with 0 and train a model without regularization.\n",
        "For each seed, evaluate the model on the validation dataset and collect the RMSE scores.\n",
        "What's the standard deviation of all the scores? To compute the standard deviation, use np.std.\n",
        "Round the result to 3 decimal digits (round(std, 3))\n",
        "Note: Standard deviation shows how different the values are. If it's low, then all values are approximately the same. If it's high, the values are different. If standard deviation of scores is low, then our model is stable.\n",
        "\n",
        "Options:\n",
        "\n",
        "0.16\n",
        "0.00005\n",
        "0.005\n",
        "0.15555"
      ],
      "metadata": {
        "id": "xT53RWnhRX07"
      }
    },
    {
      "cell_type": "code",
      "source": [],
      "metadata": {
        "id": "IDM1fR9jRZYK"
      },
      "execution_count": null,
      "outputs": []
    },
    {
      "cell_type": "markdown",
      "source": [
        "Question 6\n",
        "Split the dataset like previously, use seed 9.\n",
        "Combine train and validation datasets.\n",
        "Fill the missing values with 0 and train a model with r=0.001.\n",
        "What's the RMSE on the test dataset?\n",
        "Options:\n",
        "\n",
        "0.35\n",
        "0.135\n",
        "0.450\n",
        "0.245"
      ],
      "metadata": {
        "id": "fyK5jeyVRZn6"
      }
    },
    {
      "cell_type": "code",
      "source": [],
      "metadata": {
        "id": "-xJPjXYARc9H"
      },
      "execution_count": null,
      "outputs": []
    },
    {
      "cell_type": "markdown",
      "source": [
        "Submit the results\n",
        "Submit your results here: https://forms.gle/WCVb4KMNsgbkuJtr6\n",
        "If your answer doesn't match options exactly, select the closest one.\n",
        "You can submit your solution multiple times. In this case, only the last submission will be used\n",
        "Deadline\n",
        "The deadline for submitting is, 19 September 2022, 23:00 CET. After that, the form will be closed."
      ],
      "metadata": {
        "id": "zgdVTct7Rdbs"
      }
    }
  ]
}