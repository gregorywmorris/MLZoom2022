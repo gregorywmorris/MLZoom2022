{
  "nbformat": 4,
  "nbformat_minor": 0,
  "metadata": {
    "colab": {
      "provenance": [],
      "include_colab_link": true
    },
    "kernelspec": {
      "name": "python3",
      "display_name": "Python 3"
    },
    "language_info": {
      "name": "python"
    }
  },
  "cells": [
    {
      "cell_type": "markdown",
      "metadata": {
        "id": "view-in-github",
        "colab_type": "text"
      },
      "source": [
        "<a href=\"https://colab.research.google.com/github/gregorywmorris/MLZoom2022/blob/main/MLZoomcampWeek2.ipynb\" target=\"_parent\"><img src=\"https://colab.research.google.com/assets/colab-badge.svg\" alt=\"Open In Colab\"/></a>"
      ]
    },
    {
      "cell_type": "markdown",
      "source": [
        "# Week 2 Homework"
      ],
      "metadata": {
        "id": "JzYN3DSiQVUM"
      }
    },
    {
      "cell_type": "code",
      "execution_count": 35,
      "metadata": {
        "id": "7sNaLsdAQPDo"
      },
      "outputs": [],
      "source": [
        "import pandas as pd\n",
        "import numpy as np\n",
        "\n",
        "import seaborn as sns\n",
        "from matplotlib import pyplot as plt\n",
        "%matplotlib inline "
      ]
    },
    {
      "cell_type": "code",
      "source": [
        "data = 'https://raw.githubusercontent.com/alexeygrigorev/datasets/master/housing.csv'\n",
        "!wget $data"
      ],
      "metadata": {
        "colab": {
          "base_uri": "https://localhost:8080/"
        },
        "id": "bI9If0hNQamN",
        "outputId": "7245f931-4ae7-4b51-df8e-044d8df2f0d3"
      },
      "execution_count": 36,
      "outputs": [
        {
          "output_type": "stream",
          "name": "stdout",
          "text": [
            "--2022-09-19 23:31:21--  https://raw.githubusercontent.com/alexeygrigorev/datasets/master/housing.csv\n",
            "Resolving raw.githubusercontent.com (raw.githubusercontent.com)... 185.199.108.133, 185.199.109.133, 185.199.110.133, ...\n",
            "Connecting to raw.githubusercontent.com (raw.githubusercontent.com)|185.199.108.133|:443... connected.\n",
            "HTTP request sent, awaiting response... 200 OK\n",
            "Length: 1423529 (1.4M) [text/plain]\n",
            "Saving to: ‘housing.csv.1’\n",
            "\n",
            "housing.csv.1       100%[===================>]   1.36M  --.-KB/s    in 0.02s   \n",
            "\n",
            "2022-09-19 23:31:21 (69.8 MB/s) - ‘housing.csv.1’ saved [1423529/1423529]\n",
            "\n"
          ]
        }
      ]
    },
    {
      "cell_type": "code",
      "source": [
        "df = pd.read_csv('housing.csv')"
      ],
      "metadata": {
        "id": "YL__j0vGRqA4"
      },
      "execution_count": 37,
      "outputs": []
    },
    {
      "cell_type": "code",
      "source": [
        "base = ['latitude',\n",
        "'longitude',\n",
        "'housing_median_age',\n",
        "'total_rooms',\n",
        "'total_bedrooms',\n",
        "'population',\n",
        "'households',\n",
        "'median_income',\n",
        "'median_house_value']\n",
        "\n",
        "df = df[base]\n",
        "\n",
        "df.dtypes"
      ],
      "metadata": {
        "id": "-3K1kmPoyXDF",
        "outputId": "9cc3f0ce-f5c6-40dd-ab08-86ec0d6c50a9",
        "colab": {
          "base_uri": "https://localhost:8080/"
        }
      },
      "execution_count": 38,
      "outputs": [
        {
          "output_type": "execute_result",
          "data": {
            "text/plain": [
              "latitude              float64\n",
              "longitude             float64\n",
              "housing_median_age    float64\n",
              "total_rooms           float64\n",
              "total_bedrooms        float64\n",
              "population            float64\n",
              "households            float64\n",
              "median_income         float64\n",
              "median_house_value    float64\n",
              "dtype: object"
            ]
          },
          "metadata": {},
          "execution_count": 38
        }
      ]
    },
    {
      "cell_type": "code",
      "source": [
        "sns.histplot(df.median_house_value, bins = 50)"
      ],
      "metadata": {
        "id": "lqObehjvBwsS",
        "outputId": "bbf04659-9824-4c96-98f7-9b42506d7433",
        "colab": {
          "base_uri": "https://localhost:8080/",
          "height": 297
        }
      },
      "execution_count": 56,
      "outputs": [
        {
          "output_type": "execute_result",
          "data": {
            "text/plain": [
              "<matplotlib.axes._subplots.AxesSubplot at 0x7f3bd091a310>"
            ]
          },
          "metadata": {},
          "execution_count": 56
        },
        {
          "output_type": "display_data",
          "data": {
            "text/plain": [
              "<Figure size 432x288 with 1 Axes>"
            ],
            "image/png": "[encoded data removed]"
          },
          "metadata": {
            "needs_background": "light"
          }
        }
      ]
    },
    {
      "cell_type": "markdown",
      "source": [
        "#Q1\n",
        "Find a feature with missing values. How many missing values does it have?\n",
        "\n",
        "a. 207\n",
        "b. 307\n",
        "c. 408\n",
        "d. 508"
      ],
      "metadata": {
        "id": "Sk-b7blqQr2K"
      }
    },
    {
      "cell_type": "code",
      "source": [
        "df.isnull().sum()"
      ],
      "metadata": {
        "colab": {
          "base_uri": "https://localhost:8080/"
        },
        "id": "JG6Qp8WzQddZ",
        "outputId": "a305497f-41fb-4cb2-ae82-2f9f2dc58a73"
      },
      "execution_count": 57,
      "outputs": [
        {
          "output_type": "execute_result",
          "data": {
            "text/plain": [
              "latitude                0\n",
              "longitude               0\n",
              "housing_median_age      0\n",
              "total_rooms             0\n",
              "total_bedrooms        207\n",
              "population              0\n",
              "households              0\n",
              "median_income           0\n",
              "median_house_value      0\n",
              "dtype: int64"
            ]
          },
          "metadata": {},
          "execution_count": 57
        }
      ]
    },
    {
      "cell_type": "markdown",
      "source": [
        "# Q2\n",
        "What's the median (50% percentile) for variable 'population'?\n",
        "\n",
        "a. 1133\n",
        "b. 1122\n",
        "c. 1166\n",
        "d. 1188"
      ],
      "metadata": {
        "id": "JXki94gzQzuW"
      }
    },
    {
      "cell_type": "code",
      "source": [
        "df['population'].median()"
      ],
      "metadata": {
        "colab": {
          "base_uri": "https://localhost:8080/"
        },
        "id": "2gLRPduEQ3e5",
        "outputId": "852328d9-6cfb-4b00-a3b4-3fa9ec383bcf"
      },
      "execution_count": 58,
      "outputs": [
        {
          "output_type": "execute_result",
          "data": {
            "text/plain": [
              "1166.0"
            ]
          },
          "metadata": {},
          "execution_count": 58
        }
      ]
    },
    {
      "cell_type": "markdown",
      "source": [
        "#Split the data\n",
        "Shuffle the initial dataset, use seed 42.\n",
        "Split your data in train/val/test sets, with 60%/20%/20% distribution.\n",
        "Make sure that the target value ('median_house_value') is not in your dataframe.\n",
        "Apply the log transformation to the median_house_value variable using the np.log1p() function."
      ],
      "metadata": {
        "id": "5Sg36yV3Q39e"
      }
    },
    {
      "cell_type": "code",
      "source": [
        "n = len(df)"
      ],
      "metadata": {
        "id": "vVUgkz7ORBMs"
      },
      "execution_count": 60,
      "outputs": []
    },
    {
      "cell_type": "code",
      "source": [
        "idx = np.arange(n)\n",
        "np.random.seed(42)\n",
        "np.random.shuffle(idx) "
      ],
      "metadata": {
        "id": "efnnAsVUC9XQ"
      },
      "execution_count": 61,
      "outputs": []
    },
    {
      "cell_type": "code",
      "source": [
        "# Creating a \n",
        "n_val = int(n * 0.2)\n",
        "n_test = int(n * 0.2)\n",
        "n_train = n - n_val - n_test \n",
        "\n",
        "n, n_val + n_test + n_train #Sanity Check"
      ],
      "metadata": {
        "id": "NE-qWB3gTYSL",
        "colab": {
          "base_uri": "https://localhost:8080/"
        },
        "outputId": "8c9966d8-183a-4a65-8c12-8846087f5d93"
      },
      "execution_count": 62,
      "outputs": [
        {
          "output_type": "execute_result",
          "data": {
            "text/plain": [
              "(20640, 20640)"
            ]
          },
          "metadata": {},
          "execution_count": 62
        }
      ]
    },
    {
      "cell_type": "code",
      "source": [
        "df_train = df.iloc[idx[:n_train]]\n",
        "df_val = df.iloc[idx[n_train:n_train + n_val]] \n",
        "df_test = df.iloc[idx[n_train + n_val:]]\n",
        "\n",
        "split_total = len(df_train) + len(df_val) + len(df_test) \n",
        "split = len(df_train), len(df_val), len(df_test)\n",
        "\n",
        "split_total, split"
      ],
      "metadata": {
        "colab": {
          "base_uri": "https://localhost:8080/"
        },
        "id": "EAJWCrk21s0H",
        "outputId": "6fd1601a-7d94-417a-b983-8708729192f6"
      },
      "execution_count": 63,
      "outputs": [
        {
          "output_type": "execute_result",
          "data": {
            "text/plain": [
              "(20640, (12384, 4128, 4128))"
            ]
          },
          "metadata": {},
          "execution_count": 63
        }
      ]
    },
    {
      "cell_type": "code",
      "source": [
        "y_train = np.log1p(df_train.median_house_value.values)\n",
        "y_val = np.log1p(df_val.median_house_value.values)\n",
        "y_test = np.log1p(df_test.median_house_value.values)"
      ],
      "metadata": {
        "id": "hwqo9J9gEwcW"
      },
      "execution_count": 64,
      "outputs": []
    },
    {
      "cell_type": "code",
      "source": [
        "df_train = df_train.reset_index(drop = True)\n",
        "df_val = df_val.reset_index(drop = True)\n",
        "df_test = df_test.reset_index(drop = True)"
      ],
      "metadata": {
        "id": "v8UUPXH3Ek9q"
      },
      "execution_count": 65,
      "outputs": []
    },
    {
      "cell_type": "code",
      "source": [
        "# origional data remains intact\n",
        "df.columns"
      ],
      "metadata": {
        "colab": {
          "base_uri": "https://localhost:8080/"
        },
        "id": "p0Gka9JLVe4f",
        "outputId": "3e838501-3820-4525-cec8-e9a04e789477"
      },
      "execution_count": 66,
      "outputs": [
        {
          "output_type": "execute_result",
          "data": {
            "text/plain": [
              "Index(['latitude', 'longitude', 'housing_median_age', 'total_rooms',\n",
              "       'total_bedrooms', 'population', 'households', 'median_income',\n",
              "       'median_house_value'],\n",
              "      dtype='object')"
            ]
          },
          "metadata": {},
          "execution_count": 66
        }
      ]
    },
    {
      "cell_type": "markdown",
      "source": [
        "#Q3\n",
        "* We need to deal with missing values for the column from Q1.\n",
        "* We have two options: fill it with 0 or with the mean of this variable.\n",
        "* Try both options. For each, train a linear regression model without regularization using the code from the lessons.\n",
        "* For computing the mean, use the training only!\n",
        "* Use the validation dataset to evaluate the models and compare the RMSE of each option.\n",
        "* Round the RMSE scores to 2 decimal digits using round(score, 2)\n",
        "Which option gives better RMSE?\n",
        "\n",
        "Options:\n",
        "\n",
        "a. With 0\n",
        "b. With mean\n",
        "c. Both are equally good"
      ],
      "metadata": {
        "id": "jymGpLgaRBnO"
      }
    },
    {
      "cell_type": "markdown",
      "source": [
        "## Mean"
      ],
      "metadata": {
        "id": "vo8_qMQ0LzNj"
      }
    },
    {
      "cell_type": "code",
      "source": [
        "X_mean = df_train.copy()\n",
        "X_mean = X_mean.fillna(df_train.mean())\n",
        "X_mean"
      ],
      "metadata": {
        "id": "_SyGaKaURIcK",
        "outputId": "07f9e771-da2b-4615-ea49-648c536fda76",
        "colab": {
          "base_uri": "https://localhost:8080/",
          "height": 424
        }
      },
      "execution_count": 118,
      "outputs": [
        {
          "output_type": "execute_result",
          "data": {
            "text/plain": [
              "       latitude  longitude  housing_median_age  total_rooms  total_bedrooms  \\\n",
              "0         36.06    -119.01                25.0       1505.0      533.480332   \n",
              "1         35.14    -119.46                30.0       2943.0      533.480332   \n",
              "2         37.80    -122.44                52.0       3830.0      533.480332   \n",
              "3         34.28    -118.72                17.0       3051.0      533.480332   \n",
              "4         36.62    -121.93                34.0       2351.0      533.480332   \n",
              "...         ...        ...                 ...          ...             ...   \n",
              "12379     33.88    -117.81                19.0       2265.0      283.000000   \n",
              "12380     35.48    -120.68                15.0       2608.0      525.000000   \n",
              "12381     38.98    -120.91                13.0       7689.0     1415.000000   \n",
              "12382     34.09    -117.72                36.0       1473.0      328.000000   \n",
              "12383     37.76    -122.47                34.0       2807.0      487.000000   \n",
              "\n",
              "       population  households  median_income  median_house_value  \n",
              "0          1392.0       359.0         1.6812             47700.0  \n",
              "1          1565.0       584.0         2.5313             45800.0  \n",
              "2          1310.0       963.0         3.4801            500001.0  \n",
              "3          1705.0       495.0         5.7376            218600.0  \n",
              "4          1063.0       428.0         3.7250            278000.0  \n",
              "...           ...         ...            ...                 ...  \n",
              "12379       904.0       279.0         9.2327            461300.0  \n",
              "12380      1351.0       502.0         2.7798            205800.0  \n",
              "12381      3264.0      1198.0         3.6530            146800.0  \n",
              "12382       785.0       299.0         3.2566            151800.0  \n",
              "12383      1152.0       445.0         5.1893            420300.0  \n",
              "\n",
              "[12384 rows x 9 columns]"
            ],
            "text/html": [
              "\n",
              "  <div id=\"df-61a0c277-1617-4f84-8811-5b55a4483ee0\">\n",
              "    <div class=\"colab-df-container\">\n",
              "      <div>\n",
              "<style scoped>\n",
              "    .dataframe tbody tr th:only-of-type {\n",
              "        vertical-align: middle;\n",
              "    }\n",
              "\n",
              "    .dataframe tbody tr th {\n",
              "        vertical-align: top;\n",
              "    }\n",
              "\n",
              "    .dataframe thead th {\n",
              "        text-align: right;\n",
              "    }\n",
              "</style>\n",
              "<table border=\"1\" class=\"dataframe\">\n",
              "  <thead>\n",
              "    <tr style=\"text-align: right;\">\n",
              "      <th></th>\n",
              "      <th>latitude</th>\n",
              "      <th>longitude</th>\n",
              "      <th>housing_median_age</th>\n",
              "      <th>total_rooms</th>\n",
              "      <th>total_bedrooms</th>\n",
              "      <th>population</th>\n",
              "      <th>households</th>\n",
              "      <th>median_income</th>\n",
              "      <th>median_house_value</th>\n",
              "    </tr>\n",
              "  </thead>\n",
              "  <tbody>\n",
              "    <tr>\n",
              "      <th>0</th>\n",
              "      <td>36.06</td>\n",
              "      <td>-119.01</td>\n",
              "      <td>25.0</td>\n",
              "      <td>1505.0</td>\n",
              "      <td>533.480332</td>\n",
              "      <td>1392.0</td>\n",
              "      <td>359.0</td>\n",
              "      <td>1.6812</td>\n",
              "      <td>47700.0</td>\n",
              "    </tr>\n",
              "    <tr>\n",
              "      <th>1</th>\n",
              "      <td>35.14</td>\n",
              "      <td>-119.46</td>\n",
              "      <td>30.0</td>\n",
              "      <td>2943.0</td>\n",
              "      <td>533.480332</td>\n",
              "      <td>1565.0</td>\n",
              "      <td>584.0</td>\n",
              "      <td>2.5313</td>\n",
              "      <td>45800.0</td>\n",
              "    </tr>\n",
              "    <tr>\n",
              "      <th>2</th>\n",
              "      <td>37.80</td>\n",
              "      <td>-122.44</td>\n",
              "      <td>52.0</td>\n",
              "      <td>3830.0</td>\n",
              "      <td>533.480332</td>\n",
              "      <td>1310.0</td>\n",
              "      <td>963.0</td>\n",
              "      <td>3.4801</td>\n",
              "      <td>500001.0</td>\n",
              "    </tr>\n",
              "    <tr>\n",
              "      <th>3</th>\n",
              "      <td>34.28</td>\n",
              "      <td>-118.72</td>\n",
              "      <td>17.0</td>\n",
              "      <td>3051.0</td>\n",
              "      <td>533.480332</td>\n",
              "      <td>1705.0</td>\n",
              "      <td>495.0</td>\n",
              "      <td>5.7376</td>\n",
              "      <td>218600.0</td>\n",
              "    </tr>\n",
              "    <tr>\n",
              "      <th>4</th>\n",
              "      <td>36.62</td>\n",
              "      <td>-121.93</td>\n",
              "      <td>34.0</td>\n",
              "      <td>2351.0</td>\n",
              "      <td>533.480332</td>\n",
              "      <td>1063.0</td>\n",
              "      <td>428.0</td>\n",
              "      <td>3.7250</td>\n",
              "      <td>278000.0</td>\n",
              "    </tr>\n",
              "    <tr>\n",
              "      <th>...</th>\n",
              "      <td>...</td>\n",
              "      <td>...</td>\n",
              "      <td>...</td>\n",
              "      <td>...</td>\n",
              "      <td>...</td>\n",
              "      <td>...</td>\n",
              "      <td>...</td>\n",
              "      <td>...</td>\n",
              "      <td>...</td>\n",
              "    </tr>\n",
              "    <tr>\n",
              "      <th>12379</th>\n",
              "      <td>33.88</td>\n",
              "      <td>-117.81</td>\n",
              "      <td>19.0</td>\n",
              "      <td>2265.0</td>\n",
              "      <td>283.000000</td>\n",
              "      <td>904.0</td>\n",
              "      <td>279.0</td>\n",
              "      <td>9.2327</td>\n",
              "      <td>461300.0</td>\n",
              "    </tr>\n",
              "    <tr>\n",
              "      <th>12380</th>\n",
              "      <td>35.48</td>\n",
              "      <td>-120.68</td>\n",
              "      <td>15.0</td>\n",
              "      <td>2608.0</td>\n",
              "      <td>525.000000</td>\n",
              "      <td>1351.0</td>\n",
              "      <td>502.0</td>\n",
              "      <td>2.7798</td>\n",
              "      <td>205800.0</td>\n",
              "    </tr>\n",
              "    <tr>\n",
              "      <th>12381</th>\n",
              "      <td>38.98</td>\n",
              "      <td>-120.91</td>\n",
              "      <td>13.0</td>\n",
              "      <td>7689.0</td>\n",
              "      <td>1415.000000</td>\n",
              "      <td>3264.0</td>\n",
              "      <td>1198.0</td>\n",
              "      <td>3.6530</td>\n",
              "      <td>146800.0</td>\n",
              "    </tr>\n",
              "    <tr>\n",
              "      <th>12382</th>\n",
              "      <td>34.09</td>\n",
              "      <td>-117.72</td>\n",
              "      <td>36.0</td>\n",
              "      <td>1473.0</td>\n",
              "      <td>328.000000</td>\n",
              "      <td>785.0</td>\n",
              "      <td>299.0</td>\n",
              "      <td>3.2566</td>\n",
              "      <td>151800.0</td>\n",
              "    </tr>\n",
              "    <tr>\n",
              "      <th>12383</th>\n",
              "      <td>37.76</td>\n",
              "      <td>-122.47</td>\n",
              "      <td>34.0</td>\n",
              "      <td>2807.0</td>\n",
              "      <td>487.000000</td>\n",
              "      <td>1152.0</td>\n",
              "      <td>445.0</td>\n",
              "      <td>5.1893</td>\n",
              "      <td>420300.0</td>\n",
              "    </tr>\n",
              "  </tbody>\n",
              "</table>\n",
              "<p>12384 rows × 9 columns</p>\n",
              "</div>\n",
              "      <button class=\"colab-df-convert\" onclick=\"convertToInteractive('df-61a0c277-1617-4f84-8811-5b55a4483ee0')\"\n",
              "              title=\"Convert this dataframe to an interactive table.\"\n",
              "              style=\"display:none;\">\n",
              "        \n",
              "  <svg xmlns=\"http://www.w3.org/2000/svg\" height=\"24px\"viewBox=\"0 0 24 24\"\n",
              "       width=\"24px\">\n",
              "    <path d=\"M0 0h24v24H0V0z\" fill=\"none\"/>\n",
              "    <path d=\"M18.56 5.44l.94 2.06.94-2.06 2.06-.94-2.06-.94-.94-2.06-.94 2.06-2.06.94zm-11 1L8.5 8.5l.94-2.06 2.06-.94-2.06-.94L8.5 2.5l-.94 2.06-2.06.94zm10 10l.94 2.06.94-2.06 2.06-.94-2.06-.94-.94-2.06-.94 2.06-2.06.94z\"/><path d=\"M17.41 7.96l-1.37-1.37c-.4-.4-.92-.59-1.43-.59-.52 0-1.04.2-1.43.59L10.3 9.45l-7.72 7.72c-.78.78-.78 2.05 0 2.83L4 21.41c.39.39.9.59 1.41.59.51 0 1.02-.2 1.41-.59l7.78-7.78 2.81-2.81c.8-.78.8-2.07 0-2.86zM5.41 20L4 18.59l7.72-7.72 1.47 1.35L5.41 20z\"/>\n",
              "  </svg>\n",
              "      </button>\n",
              "      \n",
              "  <style>\n",
              "    .colab-df-container {\n",
              "      display:flex;\n",
              "      flex-wrap:wrap;\n",
              "      gap: 12px;\n",
              "    }\n",
              "\n",
              "    .colab-df-convert {\n",
              "      background-color: #E8F0FE;\n",
              "      border: none;\n",
              "      border-radius: 50%;\n",
              "      cursor: pointer;\n",
              "      display: none;\n",
              "      fill: #1967D2;\n",
              "      height: 32px;\n",
              "      padding: 0 0 0 0;\n",
              "      width: 32px;\n",
              "    }\n",
              "\n",
              "    .colab-df-convert:hover {\n",
              "      background-color: #E2EBFA;\n",
              "      box-shadow: 0px 1px 2px rgba(60, 64, 67, 0.3), 0px 1px 3px 1px rgba(60, 64, 67, 0.15);\n",
              "      fill: #174EA6;\n",
              "    }\n",
              "\n",
              "    [theme=dark] .colab-df-convert {\n",
              "      background-color: #3B4455;\n",
              "      fill: #D2E3FC;\n",
              "    }\n",
              "\n",
              "    [theme=dark] .colab-df-convert:hover {\n",
              "      background-color: #434B5C;\n",
              "      box-shadow: 0px 1px 3px 1px rgba(0, 0, 0, 0.15);\n",
              "      filter: drop-shadow(0px 1px 2px rgba(0, 0, 0, 0.3));\n",
              "      fill: #FFFFFF;\n",
              "    }\n",
              "  </style>\n",
              "\n",
              "      <script>\n",
              "        const buttonEl =\n",
              "          document.querySelector('#df-61a0c277-1617-4f84-8811-5b55a4483ee0 button.colab-df-convert');\n",
              "        buttonEl.style.display =\n",
              "          google.colab.kernel.accessAllowed ? 'block' : 'none';\n",
              "\n",
              "        async function convertToInteractive(key) {\n",
              "          const element = document.querySelector('#df-61a0c277-1617-4f84-8811-5b55a4483ee0');\n",
              "          const dataTable =\n",
              "            await google.colab.kernel.invokeFunction('convertToInteractive',\n",
              "                                                     [key], {});\n",
              "          if (!dataTable) return;\n",
              "\n",
              "          const docLinkHtml = 'Like what you see? Visit the ' +\n",
              "            '<a target=\"_blank\" href=https://colab.research.google.com/notebooks/data_table.ipynb>data table notebook</a>'\n",
              "            + ' to learn more about interactive tables.';\n",
              "          element.innerHTML = '';\n",
              "          dataTable['output_type'] = 'display_data';\n",
              "          await google.colab.output.renderOutput(dataTable, element);\n",
              "          const docLink = document.createElement('div');\n",
              "          docLink.innerHTML = docLinkHtml;\n",
              "          element.appendChild(docLink);\n",
              "        }\n",
              "      </script>\n",
              "    </div>\n",
              "  </div>\n",
              "  "
            ]
          },
          "metadata": {},
          "execution_count": 118
        }
      ]
    },
    {
      "cell_type": "code",
      "source": [
        "X_train_mean = df_train.fillna(df_val.mean())"
      ],
      "metadata": {
        "id": "Vsu76is9NZtr"
      },
      "execution_count": 119,
      "outputs": []
    },
    {
      "cell_type": "code",
      "source": [
        "def train_linear_regression(X, y): # Implement the training program\n",
        "  ones = np.ones(X.shape[0])\n",
        "  X = np.column_stack([ones, X])\n",
        "  \n",
        "  XTX = X.T.dot(X)\n",
        "  XTX_inv = np.linalg.inv(XTX)\n",
        "  w_full = XTX_inv.dot(X.T).dot(y)\n",
        "\n",
        "  return w_full[0], w_full[1:]"
      ],
      "metadata": {
        "id": "QWjysD7nrsKu"
      },
      "execution_count": 120,
      "outputs": []
    },
    {
      "cell_type": "code",
      "source": [
        "w0, tlr_mean = train_linear_regression(X_mean, y_train)\n",
        "w0, tlr_mean"
      ],
      "metadata": {
        "id": "zDex63Sfr9oG",
        "outputId": "78f131ee-113b-425d-9a3e-01bf7bcb8959",
        "colab": {
          "base_uri": "https://localhost:8080/"
        }
      },
      "execution_count": 121,
      "outputs": [
        {
          "output_type": "execute_result",
          "data": {
            "text/plain": [
              "(3.8668309378082237,\n",
              " array([-9.55734707e-02, -8.99357321e-02, -1.82969843e-03,  3.36165000e-06,\n",
              "        -3.30145779e-06, -1.15577346e-05,  4.72132381e-05,  5.54497041e-03,\n",
              "         4.28874645e-06]))"
            ]
          },
          "metadata": {},
          "execution_count": 121
        }
      ]
    },
    {
      "cell_type": "code",
      "source": [
        "y_pred_mean = w0 + df_train.dot(tlr_mean)\n",
        "y_pred_mean"
      ],
      "metadata": {
        "id": "Z5NjqH-c4IF9",
        "outputId": "cefa1f9b-267b-4c58-bd7b-1feb4d3ca461",
        "colab": {
          "base_uri": "https://localhost:8080/"
        }
      },
      "execution_count": 122,
      "outputs": [
        {
          "output_type": "execute_result",
          "data": {
            "text/plain": [
              "0              NaN\n",
              "1              NaN\n",
              "2              NaN\n",
              "3              NaN\n",
              "4              NaN\n",
              "           ...    \n",
              "12379    13.228364\n",
              "12380    12.215041\n",
              "12381    11.681577\n",
              "12382    11.808099\n",
              "12383    13.057054\n",
              "Length: 12384, dtype: float64"
            ]
          },
          "metadata": {},
          "execution_count": 122
        }
      ]
    },
    {
      "cell_type": "code",
      "source": [
        "def rmse(y, y_pred):\n",
        "  error = y - y_pred\n",
        "  se = error ** 2\n",
        "  mse = se.mean()\n",
        "  return np.sqrt(mse)"
      ],
      "metadata": {
        "id": "W2yz96Qd4qnz"
      },
      "execution_count": 116,
      "outputs": []
    },
    {
      "cell_type": "code",
      "source": [
        "rmse_mean = round(rmse(df_val, y_pred_mean), 2)\n",
        "rmse_mean"
      ],
      "metadata": {
        "id": "tCmoF_-x4sSt",
        "outputId": "b0fedd72-e65f-45e7-b191-c2528caaf102",
        "colab": {
          "base_uri": "https://localhost:8080/"
        }
      },
      "execution_count": 117,
      "outputs": [
        {
          "output_type": "execute_result",
          "data": {
            "text/plain": [
              "0                    NaN\n",
              "1                    NaN\n",
              "2                    NaN\n",
              "3                    NaN\n",
              "4                    NaN\n",
              "                      ..\n",
              "median_house_value   NaN\n",
              "median_income        NaN\n",
              "population           NaN\n",
              "total_bedrooms       NaN\n",
              "total_rooms          NaN\n",
              "Length: 4137, dtype: float64"
            ]
          },
          "metadata": {},
          "execution_count": 117
        }
      ]
    },
    {
      "cell_type": "markdown",
      "source": [
        "## Zeroes"
      ],
      "metadata": {
        "id": "pwI20hylL3Ew"
      }
    },
    {
      "cell_type": "code",
      "source": [
        "X0 = df_val.copy()\n",
        "X0 = X0.fillna(0)"
      ],
      "metadata": {
        "id": "y9R4jhaXr21m"
      },
      "execution_count": 90,
      "outputs": []
    },
    {
      "cell_type": "code",
      "source": [
        "w0, tlr_0 = train_linear_regression(X0, y_val)\n",
        "w0, tlr_0"
      ],
      "metadata": {
        "id": "7O2lvGCgL2Xi",
        "outputId": "84bfc688-c86c-43b3-807c-d416b5b4c68a",
        "colab": {
          "base_uri": "https://localhost:8080/"
        }
      },
      "execution_count": 92,
      "outputs": [
        {
          "output_type": "execute_result",
          "data": {
            "text/plain": [
              "(2.703495402089332,\n",
              " array([-1.06202350e-01, -1.02680109e-01, -1.33845086e-03,  3.66794245e-06,\n",
              "         2.21962511e-05, -3.17629212e-06,  6.56044017e-06,  5.96024232e-03,\n",
              "         4.26113487e-06]))"
            ]
          },
          "metadata": {},
          "execution_count": 92
        }
      ]
    },
    {
      "cell_type": "code",
      "source": [
        "y_pred_0 = w0 + df_val.dot(tlr_mean)\n",
        "y_pred_mean"
      ],
      "metadata": {
        "id": "45cNNrqQMThh",
        "outputId": "9f6d7f08-b2aa-4ad5-905f-e0f8ad2a3cfb",
        "colab": {
          "base_uri": "https://localhost:8080/"
        }
      },
      "execution_count": 93,
      "outputs": [
        {
          "output_type": "execute_result",
          "data": {
            "text/plain": [
              "0       11.524634\n",
              "1       11.996099\n",
              "2       12.733562\n",
              "3       12.091288\n",
              "4       12.551592\n",
              "          ...    \n",
              "4123    11.324098\n",
              "4124    11.530815\n",
              "4125    11.655581\n",
              "4126    11.918464\n",
              "4127    11.945643\n",
              "Length: 4128, dtype: float64"
            ]
          },
          "metadata": {},
          "execution_count": 93
        }
      ]
    },
    {
      "cell_type": "code",
      "source": [
        "rmse_0 = round(rmse(df_val, y_pred_0), 2)\n",
        "rmse_0"
      ],
      "metadata": {
        "id": "LNGtnxBjMPhm",
        "outputId": "c6af5956-910e-4806-81b4-bcb894c1aae5",
        "colab": {
          "base_uri": "https://localhost:8080/"
        }
      },
      "execution_count": 94,
      "outputs": [
        {
          "output_type": "execute_result",
          "data": {
            "text/plain": [
              "0                    NaN\n",
              "1                    NaN\n",
              "2                    NaN\n",
              "3                    NaN\n",
              "4                    NaN\n",
              "                      ..\n",
              "median_house_value   NaN\n",
              "median_income        NaN\n",
              "population           NaN\n",
              "total_bedrooms       NaN\n",
              "total_rooms          NaN\n",
              "Length: 4137, dtype: float64"
            ]
          },
          "metadata": {},
          "execution_count": 94
        }
      ]
    },
    {
      "cell_type": "markdown",
      "source": [
        "Question 4\n",
        "Now let's train a regularized linear regression.\n",
        "For this question, fill the NAs with 0.\n",
        "Try different values of r from this list: [0, 0.000001, 0.0001, 0.001, 0.01, 0.1, 1, 5, 10].\n",
        "Use RMSE to evaluate the model on the validation dataset.\n",
        "Round the RMSE scores to 2 decimal digits.\n",
        "Which r gives the best RMSE?\n",
        "If there are multiple options, select the smallest r.\n",
        "\n",
        "Options:\n",
        "\n",
        "0\n",
        "0.000001\n",
        "0.001\n",
        "0.0001"
      ],
      "metadata": {
        "id": "MMH9mDRFRLXp"
      }
    },
    {
      "cell_type": "code",
      "source": [],
      "metadata": {
        "id": "BHtntigCRSj3"
      },
      "execution_count": null,
      "outputs": []
    },
    {
      "cell_type": "markdown",
      "source": [
        "Question 5\n",
        "We used seed 42 for splitting the data. Let's find out how selecting the seed influences our score.\n",
        "Try different seed values: [0, 1, 2, 3, 4, 5, 6, 7, 8, 9].\n",
        "For each seed, do the train/validation/test split with 60%/20%/20% distribution.\n",
        "Fill the missing values with 0 and train a model without regularization.\n",
        "For each seed, evaluate the model on the validation dataset and collect the RMSE scores.\n",
        "What's the standard deviation of all the scores? To compute the standard deviation, use np.std.\n",
        "Round the result to 3 decimal digits (round(std, 3))\n",
        "Note: Standard deviation shows how different the values are. If it's low, then all values are approximately the same. If it's high, the values are different. If standard deviation of scores is low, then our model is stable.\n",
        "\n",
        "Options:\n",
        "\n",
        "0.16\n",
        "0.00005\n",
        "0.005\n",
        "0.15555"
      ],
      "metadata": {
        "id": "xT53RWnhRX07"
      }
    },
    {
      "cell_type": "code",
      "source": [],
      "metadata": {
        "id": "IDM1fR9jRZYK"
      },
      "execution_count": null,
      "outputs": []
    },
    {
      "cell_type": "markdown",
      "source": [
        "Question 6\n",
        "Split the dataset like previously, use seed 9.\n",
        "Combine train and validation datasets.\n",
        "Fill the missing values with 0 and train a model with r=0.001.\n",
        "What's the RMSE on the test dataset?\n",
        "Options:\n",
        "\n",
        "0.35\n",
        "0.135\n",
        "0.450\n",
        "0.245"
      ],
      "metadata": {
        "id": "fyK5jeyVRZn6"
      }
    },
    {
      "cell_type": "code",
      "source": [],
      "metadata": {
        "id": "-xJPjXYARc9H"
      },
      "execution_count": null,
      "outputs": []
    },
    {
      "cell_type": "markdown",
      "source": [
        "Submit the results\n",
        "Submit your results here: https://forms.gle/WCVb4KMNsgbkuJtr6\n",
        "If your answer doesn't match options exactly, select the closest one.\n",
        "You can submit your solution multiple times. In this case, only the last submission will be used\n",
        "Deadline\n",
        "The deadline for submitting is, 19 September 2022, 23:00 CET. After that, the form will be closed."
      ],
      "metadata": {
        "id": "zgdVTct7Rdbs"
      }
    }
  ]
}