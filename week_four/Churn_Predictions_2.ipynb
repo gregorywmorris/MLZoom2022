{
  "cells": [
    {
      "cell_type": "markdown",
      "metadata": {
        "id": "view-in-github",
        "colab_type": "text"
      },
      "source": [
        "<a href=\"https://colab.research.google.com/github/gregorywmorris/MLZoom2022/blob/main/week_four/Churn_Predictions_2.ipynb\" target=\"_parent\"><img src=\"https://colab.research.google.com/assets/colab-badge.svg\" alt=\"Open In Colab\"/></a>"
      ]
    },
    {
      "cell_type": "code",
      "execution_count": 1,
      "id": "3fb05700",
      "metadata": {
        "colab": {
          "base_uri": "https://localhost:8080/",
          "height": 34
        },
        "id": "3fb05700",
        "outputId": "16f48916-66ce-49d7-f1f8-6fe41840a3df"
      },
      "outputs": [
        {
          "output_type": "display_data",
          "data": {
            "application/javascript": [
              "IPython.notebook.set_autosave_interval(1000)"
            ]
          },
          "metadata": {}
        },
        {
          "output_type": "stream",
          "name": "stdout",
          "text": [
            "Autosaving every 1 seconds\n"
          ]
        }
      ],
      "source": [
        "%autosave 1\n",
        "\n",
        "%load_ext autoreload\n",
        "%autoreload 2"
      ]
    },
    {
      "cell_type": "markdown",
      "id": "464b9b4a",
      "metadata": {
        "id": "464b9b4a"
      },
      "source": [
        "# 4. Evaluation Metrics for Classification\n",
        "\n",
        "In the previous session we trained a model for predicting churn. How do we know if it's good?\n"
      ]
    },
    {
      "cell_type": "markdown",
      "source": [
        "## 4.1 Evaluation metrics: session overview \n",
        "\n",
        "* Dataset: https://www.kaggle.com/blastchar/telco-customer-churn\n",
        "* https://raw.githubusercontent.com/alexeygrigorev/mlbookcamp-code/master/chapter-03-churn-prediction/WA_Fn-UseC_-Telco-Customer-Churn.csv\n",
        "\n",
        "\n",
        "*Metric* - function that compares the predictions with the actual values and outputs a single number that tells how good the predictions are"
      ],
      "metadata": {
        "id": "4GC0QuncHGVE"
      },
      "id": "4GC0QuncHGVE"
    },
    {
      "cell_type": "code",
      "execution_count": 2,
      "id": "b3ff7c44",
      "metadata": {
        "id": "b3ff7c44"
      },
      "outputs": [],
      "source": [
        "import pandas as pd\n",
        "import numpy as np\n",
        "\n",
        "import matplotlib.pyplot as plt"
      ]
    },
    {
      "cell_type": "code",
      "execution_count": 3,
      "id": "ff66e768",
      "metadata": {
        "id": "ff66e768"
      },
      "outputs": [],
      "source": [
        "from sklearn.model_selection import train_test_split\n",
        "from sklearn.feature_extraction import DictVectorizer\n",
        "from sklearn.linear_model import LogisticRegression"
      ]
    },
    {
      "cell_type": "code",
      "source": [
        "data = 'https://raw.githubusercontent.com/alexeygrigorev/mlbookcamp-code/master/chapter-03-churn-prediction/WA_Fn-UseC_-Telco-Customer-Churn.csv'\n",
        "!wget $data -O data-week-3.csv"
      ],
      "metadata": {
        "colab": {
          "base_uri": "https://localhost:8080/"
        },
        "id": "cboK0EpK6l_n",
        "outputId": "5e208a26-8b62-42a5-fde9-a64e620308f2"
      },
      "id": "cboK0EpK6l_n",
      "execution_count": 4,
      "outputs": [
        {
          "output_type": "stream",
          "name": "stdout",
          "text": [
            "--2022-09-27 12:58:25--  https://raw.githubusercontent.com/alexeygrigorev/mlbookcamp-code/master/chapter-03-churn-prediction/WA_Fn-UseC_-Telco-Customer-Churn.csv\n",
            "Resolving raw.githubusercontent.com (raw.githubusercontent.com)... 185.199.109.133, 185.199.108.133, 185.199.111.133, ...\n",
            "Connecting to raw.githubusercontent.com (raw.githubusercontent.com)|185.199.109.133|:443... connected.\n",
            "HTTP request sent, awaiting response... 200 OK\n",
            "Length: 977501 (955K) [text/plain]\n",
            "Saving to: ‘data-week-3.csv’\n",
            "\n",
            "data-week-3.csv     100%[===================>] 954.59K  --.-KB/s    in 0.03s   \n",
            "\n",
            "2022-09-27 12:58:25 (30.0 MB/s) - ‘data-week-3.csv’ saved [977501/977501]\n",
            "\n"
          ]
        }
      ]
    },
    {
      "cell_type": "code",
      "execution_count": 5,
      "id": "81ee3ecc",
      "metadata": {
        "id": "81ee3ecc"
      },
      "outputs": [],
      "source": [
        "df = pd.read_csv('data-week-3.csv')\n",
        "\n",
        "df.columns = df.columns.str.lower().str.replace(' ', '_')\n",
        "\n",
        "categorical = list(df.dtypes[df.dtypes == 'object'].index)\n",
        "\n",
        "for c in categorical:\n",
        "    df[c] = df[c].str.lower().str.replace(' ', '_')\n",
        "\n",
        "df.totalcharges = pd.to_numeric(df.totalcharges, errors='coerce')\n",
        "df.totalcharges = df.totalcharges.fillna(0)\n",
        "\n",
        "df.churn = (df.churn == 'yes').astype(int)"
      ]
    },
    {
      "cell_type": "code",
      "execution_count": 6,
      "id": "0b1903b3",
      "metadata": {
        "id": "0b1903b3"
      },
      "outputs": [],
      "source": [
        "df_full_train, df_test = train_test_split(df, test_size=0.2, random_state=1)\n",
        "df_train, df_val = train_test_split(df_full_train, test_size=0.25, random_state=1)\n",
        "\n",
        "df_train = df_train.reset_index(drop=True)\n",
        "df_val = df_val.reset_index(drop=True)\n",
        "df_test = df_test.reset_index(drop=True)\n",
        "\n",
        "y_train = df_train.churn.values\n",
        "y_val = df_val.churn.values\n",
        "y_test = df_test.churn.values\n",
        "\n",
        "del df_train['churn']\n",
        "del df_val['churn']\n",
        "del df_test['churn']"
      ]
    },
    {
      "cell_type": "code",
      "execution_count": 7,
      "id": "ab4132a4",
      "metadata": {
        "id": "ab4132a4"
      },
      "outputs": [],
      "source": [
        "numerical = ['tenure', 'monthlycharges', 'totalcharges']\n",
        "\n",
        "categorical = [\n",
        "    'gender',\n",
        "    'seniorcitizen',\n",
        "    'partner',\n",
        "    'dependents',\n",
        "    'phoneservice',\n",
        "    'multiplelines',\n",
        "    'internetservice',\n",
        "    'onlinesecurity',\n",
        "    'onlinebackup',\n",
        "    'deviceprotection',\n",
        "    'techsupport',\n",
        "    'streamingtv',\n",
        "    'streamingmovies',\n",
        "    'contract',\n",
        "    'paperlessbilling',\n",
        "    'paymentmethod',\n",
        "]"
      ]
    },
    {
      "cell_type": "code",
      "execution_count": 8,
      "id": "cc4583b9",
      "metadata": {
        "colab": {
          "base_uri": "https://localhost:8080/"
        },
        "id": "cc4583b9",
        "outputId": "8141d31c-7670-4805-8960-497c4c993528"
      },
      "outputs": [
        {
          "output_type": "execute_result",
          "data": {
            "text/plain": [
              "LogisticRegression()"
            ]
          },
          "metadata": {},
          "execution_count": 8
        }
      ],
      "source": [
        "dv = DictVectorizer(sparse=False)\n",
        "\n",
        "train_dict = df_train[categorical + numerical].to_dict(orient='records')\n",
        "X_train = dv.fit_transform(train_dict)\n",
        "\n",
        "model = LogisticRegression()\n",
        "model.fit(X_train, y_train)"
      ]
    },
    {
      "cell_type": "code",
      "execution_count": 9,
      "id": "4ea51f38",
      "metadata": {
        "colab": {
          "base_uri": "https://localhost:8080/"
        },
        "id": "4ea51f38",
        "outputId": "dec5f549-00b1-484e-bdd5-babedb4798d7"
      },
      "outputs": [
        {
          "output_type": "execute_result",
          "data": {
            "text/plain": [
              "0.8034066713981547"
            ]
          },
          "metadata": {},
          "execution_count": 9
        }
      ],
      "source": [
        "val_dict = df_val[categorical + numerical].to_dict(orient='records')\n",
        "X_val = dv.transform(val_dict)\n",
        "\n",
        "y_pred = model.predict_proba(X_val)[:, 1]\n",
        "churn_decision = (y_pred >= 0.5)\n",
        "(y_val == churn_decision).mean()"
      ]
    },
    {
      "cell_type": "markdown",
      "id": "3d8a7559",
      "metadata": {
        "id": "3d8a7559"
      },
      "source": [
        "## 4.2 Accuracy and dummy model\n",
        "\n",
        "* Evaluate the model on different thresholds\n",
        "* Check the accuracy of dummy baselines"
      ]
    },
    {
      "cell_type": "code",
      "execution_count": 10,
      "id": "948eda88",
      "metadata": {
        "colab": {
          "base_uri": "https://localhost:8080/"
        },
        "id": "948eda88",
        "outputId": "e536c0b6-f7cf-4492-b0aa-2d1833342d40"
      },
      "outputs": [
        {
          "output_type": "execute_result",
          "data": {
            "text/plain": [
              "1409"
            ]
          },
          "metadata": {},
          "execution_count": 10
        }
      ],
      "source": [
        "len(y_val) # tells us how many customers we have"
      ]
    },
    {
      "cell_type": "code",
      "execution_count": 11,
      "id": "fc59dff6",
      "metadata": {
        "colab": {
          "base_uri": "https://localhost:8080/"
        },
        "id": "fc59dff6",
        "outputId": "e2f46539-cd5f-40e0-a0d2-b502b419157f"
      },
      "outputs": [
        {
          "output_type": "execute_result",
          "data": {
            "text/plain": [
              "0.8034066713981547"
            ]
          },
          "metadata": {},
          "execution_count": 11
        }
      ],
      "source": [
        "(y_val == churn_decision).mean() # our accurace when comparing actual with prediction"
      ]
    },
    {
      "cell_type": "code",
      "execution_count": 12,
      "id": "6bcb4def",
      "metadata": {
        "colab": {
          "base_uri": "https://localhost:8080/"
        },
        "id": "6bcb4def",
        "outputId": "8539f9df-a644-4889-fc8e-85888b9bcd12"
      },
      "outputs": [
        {
          "output_type": "execute_result",
          "data": {
            "text/plain": [
              "0.8034066713981547"
            ]
          },
          "metadata": {},
          "execution_count": 12
        }
      ],
      "source": [
        "1132/ 1409 # correct answers divided by customers"
      ]
    },
    {
      "cell_type": "code",
      "execution_count": 13,
      "id": "adf1012b",
      "metadata": {
        "id": "adf1012b"
      },
      "outputs": [],
      "source": [
        "from sklearn.metrics import accuracy_score"
      ]
    },
    {
      "cell_type": "code",
      "execution_count": 14,
      "id": "ffb75fc5",
      "metadata": {
        "colab": {
          "base_uri": "https://localhost:8080/"
        },
        "id": "ffb75fc5",
        "outputId": "f466570c-e7ea-4d0d-bc40-c6759d2ffd84"
      },
      "outputs": [
        {
          "output_type": "execute_result",
          "data": {
            "text/plain": [
              "0.8034066713981547"
            ]
          },
          "metadata": {},
          "execution_count": 14
        }
      ],
      "source": [
        "accuracy_score(y_val, y_pred >= 0.5) # our chosed threashold"
      ]
    },
    {
      "cell_type": "code",
      "execution_count": 15,
      "id": "27840301",
      "metadata": {
        "colab": {
          "base_uri": "https://localhost:8080/"
        },
        "id": "27840301",
        "outputId": "7d1cb582-2acf-41b8-9421-0f497cb37f77"
      },
      "outputs": [
        {
          "output_type": "stream",
          "name": "stdout",
          "text": [
            "0.00 0.274\n",
            "0.05 0.509\n",
            "0.10 0.591\n",
            "0.15 0.666\n",
            "0.20 0.710\n",
            "0.25 0.739\n",
            "0.30 0.760\n",
            "0.35 0.772\n",
            "0.40 0.785\n",
            "0.45 0.793\n",
            "0.50 0.803\n",
            "0.55 0.801\n",
            "0.60 0.795\n",
            "0.65 0.786\n",
            "0.70 0.766\n",
            "0.75 0.744\n",
            "0.80 0.735\n",
            "0.85 0.726\n",
            "0.90 0.726\n",
            "0.95 0.726\n",
            "1.00 0.726\n"
          ]
        }
      ],
      "source": [
        "thresholds = np.linspace(0, 1, 21) \n",
        "# testing other thresholds. np.linspace(start, stop, num) *note that num default is 50, we chose 21\n",
        "\n",
        "scores = []\n",
        "\n",
        "for t in thresholds:\n",
        "    score = accuracy_score(y_val, y_pred >= t)\n",
        "    print('%.2f %.3f' % (t, score))\n",
        "    scores.append(score)"
      ]
    },
    {
      "cell_type": "code",
      "execution_count": 16,
      "id": "11f492a8",
      "metadata": {
        "colab": {
          "base_uri": "https://localhost:8080/",
          "height": 0
        },
        "id": "11f492a8",
        "outputId": "eb89dd3a-ac07-4a2a-b3d1-957b0132d9f6"
      },
      "outputs": [
        {
          "output_type": "execute_result",
          "data": {
            "text/plain": [
              "[<matplotlib.lines.Line2D at 0x7f7af2d08110>]"
            ]
          },
          "metadata": {},
          "execution_count": 16
        },
        {
          "output_type": "display_data",
          "data": {
            "text/plain": [
              "<Figure size 432x288 with 1 Axes>"
            ],
            "image/png": "[encoded data removed]"
          },
          "metadata": {
            "needs_background": "light"
          }
        }
      ],
      "source": [
        "plt.plot(thresholds, scores) \n",
        "# 0.50 0.803 is the best option, although linear_regression trys to select the best threshold"
      ]
    },
    {
      "cell_type": "code",
      "execution_count": 17,
      "id": "174b048b",
      "metadata": {
        "id": "174b048b"
      },
      "outputs": [],
      "source": [
        "from collections import Counter"
      ]
    },
    {
      "cell_type": "code",
      "execution_count": 18,
      "id": "e0897055",
      "metadata": {
        "colab": {
          "base_uri": "https://localhost:8080/"
        },
        "id": "e0897055",
        "outputId": "ca36cc7c-7790-4baa-b71b-60e2efa5f51f"
      },
      "outputs": [
        {
          "output_type": "execute_result",
          "data": {
            "text/plain": [
              "Counter({False: 1409})"
            ]
          },
          "metadata": {},
          "execution_count": 18
        }
      ],
      "source": [
        "Counter(y_pred >= 1.0) # count of prediction values, notice it is wrong for the people who are churning."
      ]
    },
    {
      "cell_type": "code",
      "source": [
        "Counter(y_val) \n",
        "# Count of actual values, notice the class imbalance (3 times as many are not compared to those that are)"
      ],
      "metadata": {
        "id": "phd2vvevLWYm",
        "outputId": "78ca575a-c5d0-45f6-e9ff-b63078a56efd",
        "colab": {
          "base_uri": "https://localhost:8080/"
        }
      },
      "id": "phd2vvevLWYm",
      "execution_count": 19,
      "outputs": [
        {
          "output_type": "execute_result",
          "data": {
            "text/plain": [
              "Counter({0: 1023, 1: 386})"
            ]
          },
          "metadata": {},
          "execution_count": 19
        }
      ]
    },
    {
      "cell_type": "code",
      "execution_count": 20,
      "id": "8b8ece7e",
      "metadata": {
        "colab": {
          "base_uri": "https://localhost:8080/"
        },
        "id": "8b8ece7e",
        "outputId": "452cf112-dc62-4d28-cfb2-399d588099df"
      },
      "outputs": [
        {
          "output_type": "execute_result",
          "data": {
            "text/plain": [
              "0.7260468417317246"
            ]
          },
          "metadata": {},
          "execution_count": 20
        }
      ],
      "source": [
        "1 - y_val.mean() "
      ]
    },
    {
      "cell_type": "markdown",
      "id": "b1600912",
      "metadata": {
        "id": "b1600912"
      },
      "source": [
        "## 4.3 Confusion table\n",
        "\n",
        "* Different types of errors and correct decisions\n",
        "* Arranging them in a table"
      ]
    },
    {
      "cell_type": "code",
      "execution_count": 21,
      "id": "501711e7",
      "metadata": {
        "id": "501711e7"
      },
      "outputs": [],
      "source": [
        "actual_positive = (y_val == 1)\n",
        "actual_negative = (y_val == 0)"
      ]
    },
    {
      "cell_type": "markdown",
      "source": [
        "![confusion matrix.JPG](data:image/jpeg;base64,/9j/4AAQSkZJRgABAQEAYABgAAD/4RDuRXhpZgAATU0AKgAAAAgABAE7AAIAAAAMAAAISodpAAQAAAABAAAIVpydAAEAAAAYAAAQzuocAAcAAAgMAAAAPgAAAAAc6gAAAAgAAAAAAAAAAAAAAAAAAAAAAAAAAAAAAAAAAAAAAAAAAAAAAAAAAAAAAAAAAAAAAAAAAAAAAAAAAAAAAAAAAAAAAAAAAAAAAAAAAAAAAAAAAAAAAAAAAAAAAAAAAAAAAAAAAAAAAAAAAAAAAAAAAAAAAAAAAAAAAAAAAAAAAAAAAAAAAAAAAAAAAAAAAAAAAAAAAAAAAAAAAAAAAAAAAAAAAAAAAAAAAAAAAAAAAAAAAAAAAAAAAAAAAAAAAAAAAAAAAAAAAAAAAAAAAAAAAAAAAAAAAAAAAAAAAAAAAAAAAAAAAAAAAAAAAAAAAAAAAAAAAAAAAAAAAAAAAAAAAAAAAAAAAAAAAAAAAAAAAAAAAAAAAAAAAAAAAAAAAAAAAAAAAAAAAAAAAAAAAAAAAAAAAAAAAAAAAAAAAAAAAAAAAAAAAAAAAAAAAAAAAAAAAAAAAAAAAAAAAAAAAAAAAAAAAAAAAAAAAAAAAAAAAAAAAAAAAAAAAAAAAAAAAAAAAAAAAAAAAAAAAAAAAAAAAAAAAAAAAAAAAAAAAAAAAAAAAAAAAAAAAAAAAAAAAAAAAAAAAAAAAAAAAAAAAAAAAAAAAAAAAAAAAAAAAAAAAAAAAAAAAAAAAAAAAAAAAAAAAAAAAAAAAAAAAAAAAAAAAAAAAAAAAAAAAAAAAAAAAAAAAAAAAAAAAAAAAAAAAAAAAAAAAAAAAAAAAAAAAAAAAAAAAAAAAAAAAAAAAAAAAAAAAAAAAAAAAAAAAAAAAAAAAAAAAAAAAAAAAAAAAAAAAAAAAAAAAAAAAAAAAAAAAAAAAAAAAAAAAAAAAAAAAAAAAAAAAAAAAAAAAAAAAAAAAAAAAAAAAAAAAAAAAAAAAAAAAAAAAAAAAAAAAAAAAAAAAAAAAAAAAAAAAAAAAAAAAAAAAAAAAAAAAAAAAAAAAAAAAAAAAAAAAAAAAAAAAAAAAAAAAAAAAAAAAAAAAAAAAAAAAAAAAAAAAAAAAAAAAAAAAAAAAAAAAAAAAAAAAAAAAAAAAAAAAAAAAAAAAAAAAAAAAAAAAAAAAAAAAAAAAAAAAAAAAAAAAAAAAAAAAAAAAAAAAAAAAAAAAAAAAAAAAAAAAAAAAAAAAAAAAAAAAAAAAAAAAAAAAAAAAAAAAAAAAAAAAAAAAAAAAAAAAAAAAAAAAAAAAAAAAAAAAAAAAAAAAAAAAAAAAAAAAAAAAAAAAAAAAAAAAAAAAAAAAAAAAAAAAAAAAAAAAAAAAAAAAAAAAAAAAAAAAAAAAAAAAAAAAAAAAAAAAAAAAAAAAAAAAAAAAAAAAAAAAAAAAAAAAAAAAAAAAAAAAAAAAAAAAAAAAAAAAAAAAAAAAAAAAAAAAAAAAAAAAAAAAAAAAAAAAAAAAAAAAAAAAAAAAAAAAAAAAAAAAAAAAAAAAAAAAAAAAAAAAAAAAAAAAAAAAAAAAAAAAAAAAAAAAAAAAAAAAAAAAAAAAAAAAAAAAAAAAAAAAAAAAAAAAAAAAAAAAAAAAAAAAAAAAAAAAAAAAAAAAAAAAAAAAAAAAAAAAAAAAAAAAAAAAAAAAAAAAAAAAAAAAAAAAAAAAAAAAAAAAAAAAAAAAAAAAAAAAAAAAAAAAAAAAAAAAAAAAAAAAAAAAAAAAAAAAAAAAAAAAAAAAAAAAAAAAAAAAAAAAAAAAAAAAAAAAAAAAAAAAAAAAAAAAAAAAAAAAAAAAAAAAAAAAAAAAAAAAAAAAAAAAAAAAAAAAAAAAAAAAAAAAAAAAAAAAAAAAAAAAAAAAAAAAAAAAAAAAAAAAAAAAAAAAAAAAAAAAAAAAAAAAAAAAAAAAAAAAAAAAAAAAAAAAAAAAAAAAAAAAAAAAAAAAAAAAAAAAAAAAAAAAAAAAAAAAAAAAAAAAAAAAAAAAAAAAAAAAAAAAAAAAAAAAAAAAAAAAAAAAAAAAAAAAAAAAAAAAAAAAAAAAAAAAAAAAAAAAAAAAAAAAAAAAAAAAAAAAAAAAAAAAAAAAAAAAAAAAAAAAAAAAAAAAAAAAAAAAAAAAAAAAAAAAAAAAAAAAAAAAAAAAAAAAAAAAAAAAAAAAAAAAAAAAAAAAAAAAAAAAAAAAAAAAAAAAAAAAAAAAAAAAAAAAAAAAAAAAAAAAAAAAAAAAAAAAAAAAAAAAAAAAAAAAAAAAAAAAAAAAAAAAAAAAAAAAAAAAAAAAAAAAAAAAAAAAAAAAAAAAAAAAAAAAAAAAAAAAAAAAAAAAAAAAAAAAAAAAAAAAAAAAAAAAAAAAAAAAAAAAAAAAAAAAAAAAAAAAAAAAAAAAAAAAAAAAAAAAAAAAAAAAAAAAAAAAAAAAAAAAAAAAAAAAAAAAAAAAAAAAAAAAAAAAAAAAAAAAAAAAAAAAAAAAAAAAAAAAAAAAAAAAAAAAAAAAAAAAAAAAAAAAAAAAAAAAAAAAAAAAAAAAAAAAAAAAAAAAAAAAAAAAAAAAAAAAAAAAAAAAAAAAAAAAAAAAAAAAAAAAAAAAAAAAAAAAAAAAAAAAAAAAAAAAAAAAAAAAAAAAAAAAAAAAAAAAAAAAAAAAAAAAAAAAAAAAAAAAAAAAAAAAAAAAAAAAAAAAAAAAAAAAAAAAAAAAAAAAAAAAAAAAAAAAAAAAAAAAAAAAAAAAAAAAAAAAAAAAAAAAAAAAAAAAAAAAAAAAAAAAAAAAAAAAAAAAAAAAAAAAAAAAAAAAAAAAAAAAAAAAAAAAAAAAAAAAAAAAAAAAAAAAAAAAEdyZWcgTW9ycmlzAAAFkAMAAgAAABQAABCkkAQAAgAAABQAABC4kpEAAgAAAAM1NAAAkpIAAgAAAAM1NAAA6hwABwAACAwAAAiYAAAAABzqAAAACAAAAAAAAAAAAAAAAAAAAAAAAAAAAAAAAAAAAAAAAAAAAAAAAAAAAAAAAAAAAAAAAAAAAAAAAAAAAAAAAAAAAAAAAAAAAAAAAAAAAAAAAAAAAAAAAAAAAAAAAAAAAAAAAAAAAAAAAAAAAAAAAAAAAAAAAAAAAAAAAAAAAAAAAAAAAAAAAAAAAAAAAAAAAAAAAAAAAAAAAAAAAAAAAAAAAAAAAAAAAAAAAAAAAAAAAAAAAAAAAAAAAAAAAAAAAAAAAAAAAAAAAAAAAAAAAAAAAAAAAAAAAAAAAAAAAAAAAAAAAAAAAAAAAAAAAAAAAAAAAAAAAAAAAAAAAAAAAAAAAAAAAAAAAAAAAAAAAAAAAAAAAAAAAAAAAAAAAAAAAAAAAAAAAAAAAAAAAAAAAAAAAAAAAAAAAAAAAAAAAAAAAAAAAAAAAAAAAAAAAAAAAAAAAAAAAAAAAAAAAAAAAAAAAAAAAAAAAAAAAAAAAAAAAAAAAAAAAAAAAAAAAAAAAAAAAAAAAAAAAAAAAAAAAAAAAAAAAAAAAAAAAAAAAAAAAAAAAAAAAAAAAAAAAAAAAAAAAAAAAAAAAAAAAAAAAAAAAAAAAAAAAAAAAAAAAAAAAAAAAAAAAAAAAAAAAAAAAAAAAAAAAAAAAAAAAAAAAAAAAAAAAAAAAAAAAAAAAAAAAAAAAAAAAAAAAAAAAAAAAAAAAAAAAAAAAAAAAAAAAAAAAAAAAAAAAAAAAAAAAAAAAAAAAAAAAAAAAAAAAAAAAAAAAAAAAAAAAAAAAAAAAAAAAAAAAAAAAAAAAAAAAAAAAAAAAAAAAAAAAAAAAAAAAAAAAAAAAAAAAAAAAAAAAAAAAAAAAAAAAAAAAAAAAAAAAAAAAAAAAAAAAAAAAAAAAAAAAAAAAAAAAAAAAAAAAAAAAAAAAAAAAAAAAAAAAAAAAAAAAAAAAAAAAAAAAAAAAAAAAAAAAAAAAAAAAAAAAAAAAAAAAAAAAAAAAAAAAAAAAAAAAAAAAAAAAAAAAAAAAAAAAAAAAAAAAAAAAAAAAAAAAAAAAAAAAAAAAAAAAAAAAAAAAAAAAAAAAAAAAAAAAAAAAAAAAAAAAAAAAAAAAAAAAAAAAAAAAAAAAAAAAAAAAAAAAAAAAAAAAAAAAAAAAAAAAAAAAAAAAAAAAAAAAAAAAAAAAAAAAAAAAAAAAAAAAAAAAAAAAAAAAAAAAAAAAAAAAAAAAAAAAAAAAAAAAAAAAAAAAAAAAAAAAAAAAAAAAAAAAAAAAAAAAAAAAAAAAAAAAAAAAAAAAAAAAAAAAAAAAAAAAAAAAAAAAAAAAAAAAAAAAAAAAAAAAAAAAAAAAAAAAAAAAAAAAAAAAAAAAAAAAAAAAAAAAAAAAAAAAAAAAAAAAAAAAAAAAAAAAAAAAAAAAAAAAAAAAAAAAAAAAAAAAAAAAAAAAAAAAAAAAAAAAAAAAAAAAAAAAAAAAAAAAAAAAAAAAAAAAAAAAAAAAAAAAAAAAAAAAAAAAAAAAAAAAAAAAAAAAAAAAAAAAAAAAAAAAAAAAAAAAAAAAAAAAAAAAAAAAAAAAAAAAAAAAAAAAAAAAAAAAAAAAAAAAAAAAAAAAAAAAAAAAAAAAAAAAAAAAAAAAAAAAAAAAAAAAAAAAAAAAAAAAAAAAAAAAAAAAAAAAAAAAAAAAAAAAAAAAAAAAAAAAAAAAAAAAAAAAAAAAAAAAAAAAAAAAAAAAAAAAAAAAAAAAAAAAAAAAAAAAAAAAAAAAAAAAAAAAAAAAAAAAAAAAAAAAAAAAAAAAAAAAAAAAAAAAAAAAAAAAAAAAAAAAAAAAAAAAAAAAAAAAAAAAAAAAAAAAAAAAAAAAAAAAAAAAAAAAAAAAAAAAAAAAAAAAAAAAAAAAAAAAAAAAAAAAAAAAAAAAAAAAAAAAAAAAAAAAAAAAAAAAAAAAAAAAAAAAAAAAAAAAAAAAAAAAAAAAAAAAAAAAAAAAAAAAAAAAAAAAAAAAAAAAAAAAAAAAAAAAAAAAAAAAAAAAAAAAAAAAAAAAAAAAAAAAAAAAAAAAAAAAAAAAAAAAAAAAAAAAAAAAAAAAAAAAAAAAAAAAAAAAAAAAAAAAAAAAAAAAAAAAAAAAAAAAAAAAAAAAAAAAAAAAAAAAAAAAAAAAAAAAAAAAAAAAAAAAAAAAAAAAAAAAAAAAAAAAAAAAAAAAAAAAAAAAAAAAAAAAAAAAAAAAAAAAAAAAAAAAAAAAAAAAAAAAAAAAAAAAAAAAAAAAAAAAAAAAAAAAAAAAAAAAAAAAAAAAAAAAAAAAAAAAAAAAAAAAAAAAAAAAAAAAAAAAAAAAAAAAAAAAAAAAAAAAAAAAAAAAAAAAAAAAAAAAAAAAAAAAAAAAAAAAAAAAAAAAAAAAAAAAAAAAAAAAAAAAAAAAAAAAAAAAAAAAAAAAAAAAAAAAAAAAAAAAAAAAAAAAAAAAAAAAAAAAAAAAAAAAAAAAAAAAAAAAAAAAAAAAAAAAAAAAAAAAAAAAAAAAAAAAAAAAAAAAAAAAAAAAAAAAAAAAAAAAAAAAAAAAAAAAAAAAAAAAAAAAAAAAAAAAAAAAAAAAAAAAAAAAAAAAAAAAAAAAAAAAAAAAAAAAAAAAAAAAAAAAAAAAAAAAAAAAAAAAAAAAAAAAAAAAAAAAAAAAAAAAAAAAAAAAAAAAAAAAAAAAAAAAAAAAAAAAAAAAAAAAAAAAAAAAAAAAAAAAAAAAAAAAAAAAAAAAAAAAAAAMjAyMjowOToyNiAxOTozMTowNgAyMDIyOjA5OjI2IDE5OjMxOjA2AAAARwByAGUAZwAgAE0AbwByAHIAaQBzAAAA/+ELHmh0dHA6Ly9ucy5hZG9iZS5jb20veGFwLzEuMC8APD94cGFja2V0IGJlZ2luPSfvu78nIGlkPSdXNU0wTXBDZWhpSHpyZVN6TlRjemtjOWQnPz4NCjx4OnhtcG1ldGEgeG1sbnM6eD0iYWRvYmU6bnM6bWV0YS8iPjxyZGY6UkRGIHhtbG5zOnJkZj0iaHR0cDovL3d3dy53My5vcmcvMTk5OS8wMi8yMi1yZGYtc3ludGF4LW5zIyI+PHJkZjpEZXNjcmlwdGlvbiByZGY6YWJvdXQ9InV1aWQ6ZmFmNWJkZDUtYmEzZC0xMWRhLWFkMzEtZDMzZDc1MTgyZjFiIiB4bWxuczpkYz0iaHR0cDovL3B1cmwub3JnL2RjL2VsZW1lbnRzLzEuMS8iLz48cmRmOkRlc2NyaXB0aW9uIHJkZjphYm91dD0idXVpZDpmYWY1YmRkNS1iYTNkLTExZGEtYWQzMS1kMzNkNzUxODJmMWIiIHhtbG5zOnhtcD0iaHR0cDovL25zLmFkb2JlLmNvbS94YXAvMS4wLyI+PHhtcDpDcmVhdGVEYXRlPjIwMjItMDktMjZUMTk6MzE6MDYuNTQxPC94bXA6Q3JlYXRlRGF0ZT48L3JkZjpEZXNjcmlwdGlvbj48cmRmOkRlc2NyaXB0aW9uIHJkZjphYm91dD0idXVpZDpmYWY1YmRkNS1iYTNkLTExZGEtYWQzMS1kMzNkNzUxODJmMWIiIHhtbG5zOmRjPSJodHRwOi8vcHVybC5vcmcvZGMvZWxlbWVudHMvMS4xLyI+PGRjOmNyZWF0b3I+PHJkZjpTZXEgeG1sbnM6cmRmPSJodHRwOi8vd3d3LnczLm9yZy8xOTk5LzAyLzIyLXJkZi1zeW50YXgtbnMjIj48cmRmOmxpPkdyZWcgTW9ycmlzPC9yZGY6bGk+PC9yZGY6U2VxPg0KCQkJPC9kYzpjcmVhdG9yPjwvcmRmOkRlc2NyaXB0aW9uPjwvcmRmOlJERj48L3g6eG1wbWV0YT4NCiAgICAgICAgICAgICAgICAgICAgICAgICAgICAgICAgICAgICAgICAgICAgICAgICAgICAgICAgICAgICAgICAgICAgICAgICAgICAgICAgICAgICAgICAgICAgICAgICAgICAKICAgICAgICAgICAgICAgICAgICAgICAgICAgICAgICAgICAgICAgICAgICAgICAgICAgICAgICAgICAgICAgICAgICAgICAgICAgICAgICAgICAgICAgICAgICAgICAgICAgIAogICAgICAgICAgICAgICAgICAgICAgICAgICAgICAgICAgICAgICAgICAgICAgICAgICAgICAgICAgICAgICAgICAgICAgICAgICAgICAgICAgICAgICAgICAgICAgICAgICAgCiAgICAgICAgICAgICAgICAgICAgICAgICAgICAgICAgICAgICAgICAgICAgICAgICAgICAgICAgICAgICAgICAgICAgICAgICAgICAgICAgICAgICAgICAgICAgICAgICAgICAKICAgICAgICAgICAgICAgICAgICAgICAgICAgICAgICAgICAgICAgICAgICAgICAgICAgICAgICAgICAgICAgICAgICAgICAgICAgICAgICAgICAgICAgICAgICAgICAgICAgIAogICAgICAgICAgICAgICAgICAgICAgICAgICAgICAgICAgICAgICAgICAgICAgICAgICAgICAgICAgICAgICAgICAgICAgICAgICAgICAgICAgICAgICAgICAgICAgICAgICAgCiAgICAgICAgICAgICAgICAgICAgICAgICAgICAgICAgICAgICAgICAgICAgICAgICAgICAgICAgICAgICAgICAgICAgICAgICAgICAgICAgICAgICAgICAgICAgICAgICAgICAKICAgICAgICAgICAgICAgICAgICAgICAgICAgICAgICAgICAgICAgICAgICAgICAgICAgICAgICAgICAgICAgICAgICAgICAgICAgICAgICAgICAgICAgICAgICAgICAgICAgIAogICAgICAgICAgICAgICAgICAgICAgICAgICAgICAgICAgICAgICAgICAgICAgICAgICAgICAgICAgICAgICAgICAgICAgICAgICAgICAgICAgICAgICAgICAgICAgICAgICAgCiAgICAgICAgICAgICAgICAgICAgICAgICAgICAgICAgICAgICAgICAgICAgICAgICAgICAgICAgICAgICAgICAgICAgICAgICAgICAgICAgICAgICAgICAgICAgICAgICAgICAKICAgICAgICAgICAgICAgICAgICAgICAgICAgICAgICAgICAgICAgICAgICAgICAgICAgICAgICAgICAgICAgICAgICAgICAgICAgICAgICAgICAgICAgICAgICAgICAgICAgIAogICAgICAgICAgICAgICAgICAgICAgICAgICAgICAgICAgICAgICAgICAgICAgICAgICAgICAgICAgICAgICAgICAgICAgICAgICAgICAgICAgICAgICAgICAgICAgICAgICAgCiAgICAgICAgICAgICAgICAgICAgICAgICAgICAgICAgICAgICAgICAgICAgICAgICAgICAgICAgICAgICAgICAgICAgICAgICAgICAgICAgICAgICAgICAgICAgICAgICAgICAKICAgICAgICAgICAgICAgICAgICAgICAgICAgICAgICAgICAgICAgICAgICAgICAgICAgICAgICAgICAgICAgICAgICAgICAgICAgICAgICAgICAgICAgICAgICAgICAgICAgIAogICAgICAgICAgICAgICAgICAgICAgICAgICAgICAgICAgICAgICAgICAgICAgICAgICAgICAgICAgICAgICAgICAgICAgICAgICAgICAgICAgICAgICAgICAgICAgICAgICAgCiAgICAgICAgICAgICAgICAgICAgICAgICAgICAgICAgICAgICAgICAgICAgICAgICAgICAgICAgICAgICAgICAgICAgICAgICAgICAgICAgICAgICAgICAgICAgICAgICAgICAKICAgICAgICAgICAgICAgICAgICAgICAgICAgICAgICAgICAgICAgICAgICAgICAgICAgICAgICAgICAgICAgICAgICAgICAgICAgICAgICAgICAgICAgICAgICAgICAgICAgIAogICAgICAgICAgICAgICAgICAgICAgICAgICAgICAgICAgICAgICAgICAgICAgICAgICAgICAgICAgICAgICAgICAgICAgICAgICAgICAgICAgICAgICAgICAgICAgICAgICAgCiAgICAgICAgICAgICAgICAgICAgICAgICAgICAgICAgICAgICAgICAgICAgICAgICAgICAgICAgICAgICAgICAgICAgICAgICAgICAgICAgICAgICAgICAgICAgICAgICAgICAKICAgICAgICAgICAgICAgICAgICAgICAgICAgICAgICAgICAgICAgICAgICAgICAgICAgICAgICAgICAgICAgICAgICAgICAgICAgICAgICAgICAgICAgICAgICAgICAgICAgIAogICAgICAgICAgICAgICAgICAgICAgICAgICAgPD94cGFja2V0IGVuZD0ndyc/Pv/bAEMABwUFBgUEBwYFBggHBwgKEQsKCQkKFQ8QDBEYFRoZGBUYFxseJyEbHSUdFxgiLiIlKCkrLCsaIC8zLyoyJyorKv/bAEMBBwgICgkKFAsLFCocGBwqKioqKioqKioqKioqKioqKioqKioqKioqKioqKioqKioqKioqKioqKioqKioqKioqKv/AABEIAm4DrAMBIgACEQEDEQH/xAAfAAABBQEBAQEBAQAAAAAAAAAAAQIDBAUGBwgJCgv/xAC1EAACAQMDAgQDBQUEBAAAAX0BAgMABBEFEiExQQYTUWEHInEUMoGRoQgjQrHBFVLR8CQzYnKCCQoWFxgZGiUmJygpKjQ1Njc4OTpDREVGR0hJSlNUVVZXWFlaY2RlZmdoaWpzdHV2d3h5eoOEhYaHiImKkpOUlZaXmJmaoqOkpaanqKmqsrO0tba3uLm6wsPExcbHyMnK0tPU1dbX2Nna4eLj5OXm5+jp6vHy8/T19vf4+fr/xAAfAQADAQEBAQEBAQEBAAAAAAAAAQIDBAUGBwgJCgv/xAC1EQACAQIEBAMEBwUEBAABAncAAQIDEQQFITEGEkFRB2FxEyIygQgUQpGhscEJIzNS8BVictEKFiQ04SXxFxgZGiYnKCkqNTY3ODk6Q0RFRkdISUpTVFVWV1hZWmNkZWZnaGlqc3R1dnd4eXqCg4SFhoeIiYqSk5SVlpeYmZqio6Slpqeoqaqys7S1tre4ubrCw8TFxsfIycrS09TV1tfY2dri4+Tl5ufo6ery8/T19vf4+fr/2gAMAwEAAhEDEQA/APoEZPc1yfiL4n+FPDLPFfaqLi6X/l1sx50gPoccL+JFeC+KviZ4n8Wlorm8NhYsTizsmKKR6O33n/Qe1csY1+yJ5ageUdpwOx6f1rFUu5Vz1rWP2g9RmLJ4e0WG1X+Ga+kMjfXYuAPzNcZqXxQ8baozef4iuYEb+CzVYV/NRn9a5Mc0uK05IoLlm61C+vmJvtSvronqZrqR/wCbVTMEROWXd67uafir+lX9vpsslxLZJd3KgfZhNgxRtn7zr/FjsOmeuaqyEZot4hyq7f8Ad4q7a6lqNiQbHU7+2I6eTdSJj8mqXV7621C4S5tLNbOSRc3EcZ/dmTPLIP4QfTsenFUOfWjQDrNN+KXjfS2Hk+Iri5Qf8s7xFmB+pI3frXaaL+0FfxFU8R6JFcLnDTWEpRseux8g/wDfVeP8+tJz61LhFjufVnh34leFvE7LFp2qLFdN/wAul0PJl/ANw34E11RyOua+Lyiiy/egEyNgZGcAd/zrrfCvxU8UeFNsIujqlgvAtL1y20f7En3l+hyPaspUn0C59R5Pv+dJk+9cj4O+JWgeNEEVlK1pqAGXsbkgSD/dPRx7j8QK67GOtYtNbjDJ96Mn3pKKV2AuT70ZPvSUUXYC5PvRk+9JRRdgLk+9GT70lFF2AuT70ZPvSUUXYC5Pv+dLk02ii7AduPrRuPrTaKLsB24+tG4+tNoouxjtx9aNx9abRRdgO3H1o3H1ptFF2A7cfWjcfWm0UXYDtx9aNx9abRRdgO3H1o3H1ptFF2A7cfWjcfWm0UXYDtx9aNx9abRRdgO3H1o3H1ptFF2A7cfWjcfWm0UXYDtx9aNx9abRRdgO3H1o3H1ptFF2A7cfWjcfWm0UXYDtx9aNx9abRRdgO3H1o3H1ptFF2A7cfWjcfWm0UXYDtx9aNx9abRRdgO3H1o3H1ptFF2Idk+tGT602ii7AduPrRuPrTaKLsB24+tG4+tNoouxjtx9aNx9abRRdgO3H1o3H1ptFF2A7cfWjcfWm0UXYDtx9aNx9abRRdgO3H1o3H1ptFF2A7cfWjcfWm0UXYDtx9aNx9abRRdgO3H1o3H1ptFF2A7cfWjcfWm0UXYDtx9aNx9abRRdgO3H1o3H1ptFF2A7cfWjcfWm0UXYDtx9aNx9abRRdgO3H1o3H1ptFF2A7cfWjcfWm0UXYDtx9aNx9abRRdgO3H1o3H1ptFF2Idk+tGT602ii7AduPrRuPrTaKLsB24+tG4+tNoouxjtx9aNx9abRRdgO3H1o3H1ptFF2A7cfWjcfWm0UXYDtx9aNx9abRRdgfFmalt2zL5bHCSDY39D+dOs7G61K8jtNPt5Lm4kOEiiUszfgK9b8MfAmT7OL/AMb3y2FuBuNtA43gf7T9F/DNd5m2krs8gSJ2lEKIzSZwEVckn6V1ekfC3xlrSq9vos0ETdJLsiEY9cNz+len6r8RPAXw3XyPDOire3jj/WwKAGI4+aVsk/hmvPta/aA8ZamzLpzWulRHoIYt7/8AfTZ/kK97A8P4/HQVSnG0X1b/AKZzvE0krp3N+x/Z51+VQ2oavYW2eqxhpCP0ArUT9nWMD9/4oCnvstR/V68X1Dxt4p1Qn7f4h1KUHkr9pZV/IECsiS7upWzLdTyH1eVj/M19BDgmu179ZL0TZl9cj2Pf3/Z1Qj/R/FW49g1oP6PWXffs86/DltP1awugOiuGjY/oRXikV5dwMDDdXEZHQpKy/wAjWxp/jjxVpbA2HiHUoQOi/aWdfybIpT4JxCXuVk/VNf5h9cj2Ok1f4X+MNEUvdaLPLGvWS2xMuPX5eR+Vct5T+d5TKUkzgqwwRXdaJ+0F4w01lXUxaarEDz5sflvj/eXj9K7aH4pfDHxzst/F9gmlX0mQs1woABPHEy9P+BYr57H5Fjsvjz1o+73T0N6deE3ZHiFwwebapysYCL7471FXr/ij4FTpbHUfBF8mqWjLuWCRxvI/2XHyt+leT3Nnc2N1Ja3sElvPGdrxSoVZT6EGvDNyAcOrozxyIwZJI2KshHQgjkGvYfAPxtltWi0rx1L5sJIWLV8cp2AmA/8AQx+PrXj9B6c9/WplHmVgPtJHSSNJInWRHUMrochgehB7ilr5r+G3xQufBlxHpusySXGgSNxn5msie6+qeq9uo9K+kYJ4bq3juLWVJoZVDxyRtlWU9CDXHKLi7FD6KKKkAooooAKKKKACiiigAooooAKKKKACiiigAooooAKKKKACiiigAooooAKKKKACiiigAooooAKKKKACiiigAooooAKKKKACiiigAooooAKKKKACiiigAooooAKKKKACiiigAooooAKKKKACiiigAooooAKKKKACiiigAooooAKKKKACiiigAooooAKKKKACiiigAooooAKKKKACiiigAooooAKKKKACiiigAooooAKKKKACiiigAooooAKKKKACiiigAooooAKKKKAPOvtnhX4S6ebDRbf7ZqrL+8kJBkY+rN/CP9kf/XrzvX/Fer+JLgvqV0fK/hgjOEX8O/1NY7yNI7PIzO7HLMxyWPqTTa2lUb0PzzF5hWxL1dl2M3X7P7VpbMnLwnev07/59q4yvRcZyCAQRgg964TUrQ2OoS256K3yn1Hav1XgnMPa4aWEk9Yar0f+TOzLat4um+hVooor9APVCiiimAdKwdTn827IByqcCti6mEFs7nrj5frXNsctk9Tya/OeMsfpDBxfm/0PQwlPeZ13gj4n+J/AN0raJfs1rnMllOS8L/8AAex9xg19DaP4m8D/AB70wWV9GNJ8SRx5VcjzF9Sjf8tF9jz9OtfJVS21zPZXUdzaTSQTxMHjljYqyMOhBHQ1+cHeeveMvBGr+CNTFtqke+GQnyLqMfJMB6eh9QapaEmkz3cVrqsF45nmRFkt5lQICccgqc9fUV6T8Mvi1pfxL0keCviMkbX8w2W902FFwR05/hlHbHX9Dxfj7wLf+BNcEExaWymYtaXYGA4HYnsw7j8aYznNQtxZald2gbcsMzxAnuAxH9K9D+EfxGPhq+i8Pa3N/wASi5fbbSuf+PSUngZ/uMfyPsa80YkncTn1zSEB1KtyCMVMoqSGfauKSvLvgt46bXdHbQNWm36np0Y8qR2y1xB0B9yvQ/ga9RricXF2GFFFFIAooooAKKKKACiiigAooooAKKKKACiiigAooooAKKKKACiiigAooooAKKKKACiiigAooooAKKKKACiiigAooooAKKKKACikZgqlmIVVBJJ6ADvXJR/FDwq/hu511r547C3na33SRlWlcc4QfxfhXRRwtev/AAot6207vYlyUdzrqK8Q1b41eKLrTrjV/DXhpYNEtyA17fKTvycDGCB17DNeq+ENefxH4P0rWLuJbaW+gDmLPG72z24zXdjMoxWDpqpVS1dtHez3s7Exqxk7I2qKoa1rem+HdOa+1q9is7Zf45T1PoB1J9hWR4U+IXhzxnc3FvoV28k1uu90kjKErnG4Z6jNcUcLiJUXXUHyLrbQvmV7XOmoqC/vrbS9PuL6/lENtbRmSVz/AAqBk1xPgn4gax401mWS28OPb+HsMItQlkwzMOny98+3SrpYKtVozrxXux3f6Luxc8U+U72iiiuMoKKOtGKBhRRRQIKKKKACiiigAooooAKKKKACiiigAooooAKKKKACiiigAooooAKKKKACiiigAooooAKKKKACiiigAooooAKKKKACiiigAooooAKKKKACiiigAooooAKKKKACiiigAooooAKKKKAPlyiiiqPywKwPFNnvgiu0HMfyOfY9K36jngW6tpYH+7IpXPp6GvayLHvL8wp1n8Oz9GdGGq+yqqR58aTFXbTSNRv7xrTT7G4u51O0pBEXPp2rprb4SeO7pA6eHblAf+erKh/Imv3SpjsLS/iVEvVo+sjGUtkcZS12N18JfHVpGXl8O3LKOvlFXP5A1yuo2V5pLsmp2k9pIo5WeMofyNTHH4WcXKFRNLs0HJLqjC1mf5lhXHAyTWVUk8pmmZ26sc1HX4hmWMljcXOu+r09Oh7FOHJFRCiiivPNByO8UiyRsyOpDKynBBHQg19T/C/xtY/GPwRceDfGEi/2zbRZjnON0yj7sq/7a9/Xr3NfK1aPh/Xb/wAM+ILPWNJlMV3ZyCRGHQ46g+oI4I9DQB6D4h0C+8L6/c6Rqi4nt2xuHR1P3WHsRzWZjtXu3ju1svil8K7DxxoMY+120O+aNeW2f8tIz7ocke2fWvCe2aYy7outXnhzX7PWtNOLizk37f8AnovRkPsRX15pGp22t6NaapYOHtruJZYz7Ht9R0r44RWZgEUk+gFe3/APxA4tb/wxduN9uftdqpbJ2MfnX8G5x71hVjdXGj2OilNJXMMKKKKACiiigAooooAKKKKACiiigAooooAKKKKACiiigAooooAKKKKACiiigAooooAKKKKACiiigAooooAKKKKAClpKWgDH8W3L2fgvWbiPho7GZh/3wa+fvhH4YHjzU4k14mXRvD0AKW2cI7uxOD9cEn1AAr33xpH5vgXXEH8VhMP/ABw188fC/wAEa94y0rUYtN11tK0rzljvFQndM23I4GMjB7mvvMi5Y5RXk5qHvL3n03287bHHWv7VJK51/j/WP+Fi+KdN+H/g/Dadbyh7y4gGI0C8HGONqjP1JFaXx00tdL8J+H9Q0u4ltBo1ykFvFE20Y2jB+o2fqa7/AMGeBtG8D6Y1rpERaWTme5lx5kp9z2HsOK85/aJ1NpLHRPD1qrST3UxuSiDLHA2qAPUlj+VTl2JhiczoYfDL91C+/W695v1CcXCm5S3Zm+H9EuvipfXHjb4hTm28PWhPkW3mFIyq9cHsvqepPFW/gzZw6t8RvEviXSrNbTRo1NtaIi7V+ZgQB/wFQT/vVy3hGDUfiffweFtZ11NI0vTYlWPS4V2NKF4O1f4m7knPXpX0RoWg6f4b0aDStHt1t7WEcKOSx7sT3J9avO8V9Tp1MK370kkor4YR3+bfcVGPO1JdDjfjleG0+E96qsVNxPFCSD2LZP8AKuQ0Xxx468JeHdN04eBDPZW9sghlh3nepGQ2VB5Oc/jWr+0Rdj/hGtG0sMFN5f7mycAKq4yfxYVu6r8XvB3hmwW3h1IahPbxiNILP59xAwBu6dqzwdOay2hTWH9rzyk+umyvdDnb2jfNYreEfiP4m8Q69b2WoeCbqwtJc+ZdszBYuOp3KM+mOtehXtyLLT7m6YZEELykeu1Sf6VgeBPEGseJ/DQ1TXtM/s15Zm8iLcSTDxtY55B6/wA61PEcZk8L6qgOC1lMAf8AgBr53FKlPHKnGmoJNJpO6+83jdQve55HZfHe6j8E29xNaRXviK9uZEgtYQQqIGwpYDJ74A74qC78YfF3wzZp4h8Q2MD6XuBltSigxqemcfMv1Ofes39nfw5b32s3+vXUYkOnqsNuGGQsjDJb6gD9a991Kwt9V0u5sLxFeG6iaJwRxhhivosxrZfluNlhKdFSjf3m99eke1kY01OcOZsq+HNfs/E/h201jTWJguk3BT1RujKfcHijxNrUfh3wtqWryjIs7dpFX+82PlH4nFeYfAK7msx4j8MXLEtpt35iAnpklG/VQfxrf+Otw0Hwk1AJ1lmhQ/Tdn+leN/ZsKecRwb1jzL/wF6/ka+0bpcxa+D82tX3w9h1HxDeyXc99cSTxGXkpETgDPpkEj61q+MfHmieCLNZNXnLXEo/c2kQ3SS/Qdh7mnaRc23hj4YWN1ccW9hpMcrY4yBGDj8TXn/wr8Pt4z1S7+IPiuJbm4nnZLCGQZSJVPUA+nQfQmrjRoVqtbHYlWpqWiWl29ku2m4rtJQjuJdfGTxPa2o1m48Ez2+ghwHnmch9pOARxXfat8RfCmhqo1TWbeGVkD+QDvkAIyMqORwat+MPDMfi/wxPos9y1tHcPGzSIoJwrA4x74rIufhV4SuvEX9sz6cJZyD5sUjbopSQAGKnuMdsU/bZRXUZVYOFr6R1vta7fXcLVVs7mJc/H3wVCf3Ml7c/9c7Yj+eKzJ/2htIYkaboOp3RxxkKv8s12XiHQNI0DwlqmoaH4e0r7ZaWzzRLJbLtJUZ549Kf8Odct/FHgWw1j7BaWs0oaOVIYgqh1Yg49jwfxre+Uxw/1iOHlKN7ayS1tfoif3rlytnM+Gvi9qPiPWraxi8F6kkU0gRrgHKxj+8cgDA+tbfjzx7P4S1XRdN0/S21K61KU5jRsERqRnaO7dcD2rtwcLt4x6CvJ/i5J/ZXjvwJrjcRw3xhkPYAsv9Ca58KsHjcdywo8seWXu3vdpNrUuXPCF7nq3UA+tMlmjt4XmnkWOKNSzu5wFA6kmpMYOOteF/E/xdeeMfFkfw68Oho1e8WG6uM/6w45XH91ep9cVwZbl88dWcb2jFXk+yKqVORHounfFLwbqmsjS7PWoWuWbYm9SqOfQMeDXXkYryDx38I/DOm/DG7k0u2MF7pcHnJebiXmK/e3fXnp0rrPhLrN3rvwy0y71FzJcJvgaQ9XCHAJ98Yrpx2Dwn1ZYvBt8vNytS3vun6MmE5c3JM627u4NPsZ7y7kEcFvG0sjnoqgZJrnvBnjnTvGmlLeWitaO8siR287r5jqpxvAHasD456pLp3wvuYYP9Zfzx2owecE5P8A6DivAri6PhT4iRXOnMwXSLmJA699gAYfj81enlXD8cfgJVea09Wu1lbT5t/gZ1K7hNLofXOo6hbaVplzqF/IIra2jaWVz2UDJrN8I+LLDxpoA1bSY5kgMrRbZ12tlf6Vw3x9177J8Ore0tXwdWuFAwesQG8/rtFdZ4S06DwR8MrKGdMLY2RuLgLzlyu9/wBc15MsBCGX06zv7SpJpLyW/wCJrzvna6I6O6u7exgae9njt4l+9JKwVR+Jrg9U+N3gvTZ2hjvZr514ItISw/PgGuO8L+G7/wCM003iXxhqE6aOJ2jtdNgfC8Hv6Y6Z6n2r1jTvBnh3R7JrXTNHtbdGUqWWMFyCMfePOa66mFy3AS9niXKc1uo6JPtfr8kSpVJq8dEV/B3jrRfHNlPcaHJITbsFmimTa6E9PzroqxfCvhLSvBuj/wBnaLCUjLmSSRzueVj3Y9/StqvDxXsPbS+r35Ol9zaPNb3twooormGFFFFABRRRQAUUUUAFFFFABRRRQAUUUUAFFFFABRRRQAUUUUAFFFFABRRRQAUUUUAFFFFABRRRQB8uUUpU0mDVH5YPgglubhIbeNpZZCFRFGSxr1rwn8IkWOO88Tne55FohwF/3j3+grX+G/gSPQ7FNT1OMNqM6AqrD/Uqe319fyrv66IwVrs+ty/KYxiqldXfYq2Om2WmwiLT7SG2j9IowufrjrVqiitm23dn0SSWiCqGraJpevWTWms6fb30DjBSeMMPwz0/Cr9FK7Wwz5v+Jf7NEYt5dT+HpfcoLPpkz5yP+mbHv7H8+1fOFzbTWdzJb3UTwzRMVeN1wykdQRX6P14j8fPhDD4m0mfxRoFvt1q0TdcRRj/j7jHXj++B09Rx6UAfJVFGOcUoBY4AJPoKAEorvvCHwX8aeMSklnpjWdm3/L3e5iTHqM8t+ANe7+EP2Y/DWj+XceJrmXWrheTEMxQg/Qcn8x9KAOL/AGXPEV7HrGpeGbi2mn0y8iM6vsLRxSAYIJ6AMv6getY/jvw5F4R8bX+mlXaIP5tuOgMbcjnvjp+FfV+m6XYaPYpZ6VZwWdsgwsUEYRR+Arx39onRA1npWuRr80bm1lPsfmX9Q350AeHvO5UquI0P8KDH/wCutbwTrjeGvHOk6nvZYknEU+D96N/lb+YP4Vh5yKZKu+FlHUjj2okrqwz7XPHvSVh+CNXOu+BNG1FyC81om8g/xgbW/UGtyuF6FBRRRSAKKKKACiiigAooooAKKKKACiiigAooooAKKKKACiiigAooooAKKKKACiiigAooooAKKKKACiiigAooooAKWkpaAKGtp5vh7UkPRrSUf+OGvO/2erZIfho8y/fuL+RmP0CqP5V13xD1FtJ+HGu3cZ2yLZuiH0LfKP51xP7Ol35vgO+tCcta37H6BlU/zBr6SjTn/YdWa254/gn/AJo55fxl6HrX8VeE68x8Q/tU6ZadY9NeLjPTy0Mh/U17uD81ed6H8Pr3TvjPrPi27khezuY2FqA2XDNtzkdsAEfjWOT4ilhoYipN+84NR9XZFVU5cq8zH+NfhBIdPTxxoI+yatpsiySyQjb5i54Y+4OPqCc16J4T11fE3hDTdYUBTd26u6r0V+jD/voGl8WaZJrfg3V9MgAMt1aSRRg9CxXj9cVifCnRNT8O/Dmx0zXIRBdxPKTHuDbQzkgHHfmivXjiMrh7SV5wlZd+Vr9GOKtUdtjgfjZZx6n8RvBtjdtI1tcsIpEDYGDKAxHocH9K9K0f4c+E9AkSTTdCtVkQ/LLKvmMPxbNcp8XvBmv+Ib7QtV8LIj3emu2QzhSp3BlYZ4OCKw1+FnxF1lTLrnjVrd5Dloo5nIX/AL5wK9vmhiMvoR+tqnFJpq7ve76LyMbctR3jc9sAwvHT2qjr7iPw1qjnkLZTH/xw1heAPBtz4M0u5trzW7nVpLiUSFpidqYGMLkk1093brd2U9s/3Z4mjJ9AwI/rXydqVHFLllzRT32udOsobHjv7NjL/wAIvraj7wvUJ+nl16d4m8UaX4T0eXUdYuFiRFzHHn55W7Ko7k15P4a8HfED4eeFNWTQLW2udRvL5FjAcNshVWHmAEgZJxwelXdI+DWp6/qaav8AE3VpL6YHcLSOTIHfBboB7LX1GOw2BrY6rja1ZezctEtZPb7vU5oSmoKCWo74FabeXl54h8X3sRhTVZisK/3vnLMR7AkDPsa1P2gZNvwsdf797EP/AEI/0r0q2t4LO1itrSFIYIlCRxxrhVA7AVwPxt0HUPEHw6aHSLd7m4t7lJvJjXLOoBBwO/XNcOEx0cXncMTP3VdW8ktEXKHJRcUP+IaPD8Bb1FzuTTYFOPT5M1f+FHlf8Kn8P+TjH2bnH97cd361rNpn/CQeBBpupQtbtfacsM0bdYmaMD9D/KvLPhZ4s/4Qm+uvAfjFxZyW87GzuJDhG3HJXJ7H7wPvShCWKyypSp6yhPma7pq1/kD92om+qPbKXtUbTwrH5jSoExnduGMU8EFQQcg8givm5Rkt0dFzK8Vf8ifrGf8Anxm/9ANcZ8BWB+EdoB1+1T5/77rudftzdeG9Tt1zmWzlQY9Shrz39n69in+Gf2NXUz2l5KJIwfmUNggke/P5V7dNOWTVLdKkfyZi/wCKvQ9R/iFeX/H+33fDuK8UfPZ38UgPpkEf4V6j/EK4H42wed8JdW/6ZtFJ/wCPgf1rLJJcuZUf8SX36FVv4bO10y5F5pdldA5E0EcmfXKg15T8HbSz1LxV4x1aa1iku4dWcQTumWjDbs4PbNeheBLj7V4A0Cf+/YQ5/BQP6V4/oPi+L4Ta14x0zWbO4luri9+0WKIvE+c457DBBzXfl+Hq1aOKw9D420reSlr8u5nNpOLex1vxx8UDT/C8fhvTyZdT1l1iEScsI888e5wo/H0rsfBHh4eFfBWmaPx5lvDmYjvI3zN+pxXBfDbwTqmseI38f+Olb+0JjvsrVxjyR2YjtgfdH4165isMzqU6FGGAou6i7yfeXl5LYqknJ87PI/2gp9mgeH4W4V9UVifQAf8A168ustHOt/DfxzrjLueG+gdG68b23c/RxXo/7SBx4c0PHX7Y/wD6BUvwq8LG8+A+p2sinfrf2h0B9NoVD+a5r6rA4qOCyXD1r7zS+XNd/kcs489VryOL8VakfFa/DDTyfM822iSQdfmMojP/AKAa+kriGK4hkhmjDwyqUZD0KkYI/Kvkf4e6hFF8RfDY1u6it7XTpiN8zBVjxubBJ6fMa+qIfEeiXS7rfWLGUdcpcKf615nE2Gq4epRw9JO0E2mvOTZph5J3kzx670zxT8E9SnvtBjbV/Ck8nmS2zZJh+v8AdPbd0PGa9X8I+LtM8aaEmpaRIWXO2WJxh4X7qw/zmqmu/ELwlolm51PWLWQFSDBGwlZ+Om0Zrzb4HQzXfjXxHrGk2r2fh+4BEUTdNxfKge4XP0ziuXE05Y7ATxeIp8lSFve2U/Vd/NFRtCajF3TPcKKKK+SOsKKKKBBRRRQAUUUUAFFFFABRRRQAUUUUAFFFFABRRRQAUUUUAFFFFABRRRQAUUUUAFFFFABRRRQAUUUUAfKiyuhFd18K9ETxB4rE1ym63sF85xjhmzhR+fP4Vwpr3T4K6etv4RubzGHurojOP4VAA/XNeVl1SpOryt6H3fFeQZTCh9cVFKpdWa0v6rZno9FFFfSHwIUUUhdVYAsAWOACetAC0UUUAFFFFAHzvrn7Mbaz8RNQvrfUodO0G4kEyRxpukBbllA6AZzg5/CvTfCHwc8GeDVSSx0tbq7Xrd3uJXz6jPA/AV3dYnjCS/i8Jag+k7/tYhJj8sZbPtUzlyxcuxrRp+1qRpp2u0jY8yPafmGF6+1Z+satJpkVnJBbfaI7i7it3bzAvlq7Bd3vyRxXhXgW5eXxFKniC8vU0yTP2vdI4Rn/AIQ57DP0r1TwnBbXd9qkFo0tzokM0Mll5hLIsikltjHqAwU9xXLQxXtknax62Y5S8DOUHLmtZ3tpr59yVPGdzNcLbQWEZnuR5toGmwGjBcEscfKf3Z4Geoqh8Soo/E/wbvbqKMnNsl7GncEYb+Wa6ZvCujvHKhtSPMfflZGBQ5JwpByo+ZuBgfMfWn63ZQnwjqFlFGqw/YpIlRRgAbCABXYeIfGI6UUiZKjPJpRzTGfRPwHvvtPw3NsRg2d7LEBnscMP/QjXpVeOfs7XG7SfENuRjy7uJx77k/8ArV7HXDP4igoooqQCiiigAooooAKKKKACiiigAooooAKKKKACiiigAooooAKKKKACiiigAooooAKKKKACiiigAooooAKKKKAClFJRQBy/xL0m71v4bazp+nRmW5khDRoOrbWDYHvxXAfs66fqFlp+vte2s1vFJNEI/NQruZQ27GfTivaKCc8169PM5wy6eA5dJO9+xm6ac1MSiiivINAooooAKKKKACiiigAooooAKKKKACuY8ZfD/QvHFqqavAUuIxiO6h4kQenuPY109Fb0MRVw1RVaMnGS7ClFSVmePWvwCVZli1HxVf3GnKf+PZMruHp1wPyr162gitLOG2t02RQoI0XOcKBgD8qfRXTjcyxOOaeIle22iX5EwhGHwhjPXp3964zwJ8PIvA2ra7c21558GqSq8UOzHkqCxwT3+9+ldnRXPTxNWnSnRi/dla69NhuKbuLVbUNPtNV0+Wy1GBLi2mXbJFIMhhViisYycGpRdminruRWdpb2FnDaWUKwW8KBI40GAijgAU2ews7qeOe5tIJpYvuSSRBmX6E9Knopqck+ZPUBSOOuaQdaKQVAHn3xc8Cap470rS7XR3hRra6LymZtuEIwSPXHpXa6NpcOh6LZaZaf6mzgSFMjrtGM/j1q9SV21cbWq4enhpP3YXt8yFTSk5Hntx8EvCF3rN/qF3DcSG9Yt5Ik2pCxOSyY56+tYc/7OPhuRybbVb+EE/dZUbH48V69RXdTz/M6ekazJdCm+h5jpHwC8H6dcCW7+1akVIISdwi5+i9fzr0iysrXTrOO0sLeO2t4xhIolCqv4VK7LGu6Rgq5xknFLmuLF5hi8Y74ibkXGEYbIWkoorhLCiimQzw3CkwSpIFOCUYHB9KBD6KKKACiiigAoo+lc1N4+0eH4gxeDE+0T6rJF5riKLKQjG75z24/mPWnuB0tFFFIAooooAKKKKACiiigAooooAKKKKACiiigAooooAKKKKACiiigAooooA+VK+h/hPj/AIV3Z4/56S5/77NfO5r3P4Kaktx4Wu7EsN9rclgP9lwCP1BrycraVdryP1Li+nKWAUl0kj0miiivpT8qCvD/ABbZeP2+POnzRS2f2ExSDRZJ4pntoX2/MJBGRiQjPLcY6V7hRQBxWk2vxLTVrdtc1Hw3Jp4f9+lrbzLIV/2Sxxn612tFFABRRRQAUhGaWuN1HWNVsJLu4VpWlgklLW8kX7oQAfIwYdT0PXnJGOKAOr+x222Rfs8W2X/WDYPn+vrUkcaRRrHEioijCqowAPpXHN4p1tJbdI9MM4kVyXETqGH8LgY6eqnn0pLrW9ZsLmS/wZbCKFpZFMLDzSFQnbn7pwWwD1IpWQ3JvRs7Sq+o/wDILuv+uL/+gmlsZJ5bGCS7VUmdAzqucAntzVXxHcC08L6pcMcCKzlfP0Q0xHxlbecLuL7KwWbzB5ZJAAbPHJ46+ta/iuWxl15m0/yy2xRdPAMQvP8AxtGOy5/rjisNc7Rnr3pRxn0zTGez/s6n/kZf+ulv/wCgtXtleO/s724GkeILn/npdxJ/3yn/ANevYq4p/EygoooqACiiigAooooAKKKKACiiigAooooAKKKKACiiigAooooAKKKKACiiigAooooAKKKKACiiigAooooAKKKKACiquo6nYaRaNdapeQWcC9ZJ5Ai/ma8f8c/tFab4d8QW9j4dtodatwqvc3Mc+FAP8K4ByQPWqUW9gPaqXBqtp19DqmmWt/a5MF1Ck0eRztZQR/OvKfiX4v17WfG1p8OPAlwbW+nTzNRv1ODbx4zgHtxyT15AHWhRuwPXgQRkEH6UYrlPAPgUeBbC5t01m/1X7Syu32x8iNgOSvpnPP0FYfxI+LEXg+8i0XQbJtY1+ZDJ9mUnbAmM7nI9hnHpycUct3ZAej0V578IPiXJ8SNAu57+G3tb+0n2PDC+QyEAh8HkDOR+Fdve6vp2mywRahfW9rJcNshSaUKZG9FB6nmk007AS3dyllYz3UoYpBE0rBRkkKMnA/Cs3wr4o03xj4dg1nRpC9tNkYYYZGBwVYdjWye4YAjoQe9eFeGJH+GH7Ql54TjbboPiMfaLSP8AhikIJXHpyGT/AL59KaV0wPdKKKq6lqdjo9jJe6rdxWltGMtLM4VR+JpAWqK8rsfjFc+K/GsGk+AtBl1PTo5QL3UpiY0RM4LLx+PPX0r1XA7njPWm4tAJRXkvhT4zQT+K/FemeM73T9Ng0u7KWchbaZFDMpHJ+Y8A8etem6NrWneIdJj1LRruO7tJSQksZyCQcH9aHFoC7RRRUgFFFFABRRRQAUUUUAFFFFABRRRQAUvTrXmfxO+JGo6Dq9j4T8GWYvvEuojcikZWBDnDEevBPPAAJNcvrfhr4heFvDN14s1/4j+Vc2aec1qIt0Lt2i4xnJ44HetFBsD3Piorq6t7Gzmu72VYbeBDJLK5wEUDJJ/CvJ/AHxYupPBU3ib4k3dpp9re3ph0wRoQzqOGwoySoPf2NV/jlq97rmo6B8OdDlKXGuSrJduvaHPy59uGY/7lLkd7AV9Jm1P44eMhqkjz2HgjR7j/AEaEMUa+mU5DHH4H2GB1Jr1DxN438N+D4RJ4h1WC0LcrETmRvoo5NVtQsT4J+GF3aeEbXM2mWDizjCZLOB94juSefc1xPhz4PaBoumzeKfiPdnXNT8o3N1NduTDEMZIweuPf8BVaNgdn4Q+I/hnxzJPF4dvWlmtxukhljKMF6bsHqK6mvi6217xD4o+K17c/DyFtNuNUcwww2aBBHAMAZwMKMKCTX11fprlr4PaPSTBea3FaKqNcHaksoABJ9MnNE48r0A2AcV4Xr2nL8GviloWo6BPMnh/xBOba9sXkLKkhI+cZ/wB4H8CO9e1ac14+l2rapHHHemFTOkTZVXx8wB9M15B+0Y4Fn4QQ9Tq4IP4D/GlDewHrGq69pWhz2cWr30Vo99MILYSNjzZD/CK0SMda4b4ueAZfHvhiKPTJhb6tpsv2mxcnAL45UntnA59QK5Dw18d10vGi/FHT7vSNWtxse58kmOXH8RA5BPtkGlytq6A9normvCnxC8N+Nry8t/Dd8bt7NVaX92yjDdCMjmt65v7Ozlgju7qGCS4fZCkjhTI3ouepqbNbgcF41+K0nhjxUugaP4dvNdv0t/tU6QcCOP16HPHNeQfDv4raDp/xF8T+LvFK3UNxqhC20cURkEaZyQSO4AUV9C+NpRp/gnXtQhjQXMWmzbZQo3/cPGetee/s96Jpl38IIJb3T7W5klvp2LTQq54IA5I9q2TioiN7wt8aPDfi/wARQ6PpFrqRmmBIle2xGuATyc8dO9ehVFb2lraLts7aC3B7QxqmfyqWsnboMKKKKkAooooAKKKKACiiigAooooAKKKKACiiigAooooAKKKKACiiigD530fwLrOrMG8j7NCf+Wk3yj8B1Neq+A/Ctv4SvZJBcyTSXCCOTPCcHPArYzRmvyOOf4mFeNWOiT27n2OYZtiMfB05aRfRHVClrO0y+EqiGQ/Oo4J71o1+v4LGUcbQVai7p/1Y+NnBwfKwooorsJCiiigAooqC9uhZWU1yys4iQsVXGTjsM0m0ldjSbdkT02SNJYykih1bqpGQa5H/AIWDbd9Lvf8AvqP/AOLrW0LxHFrskyxWk8HlAEmUr82fTaTWcasJOyZ0TwlenHmnFpG1TJYo5o9kyK65BwwyK57QtQa+8SamIb95raE+WYZduVkDEEqAMhcYHPUjNdJWpzBXEfF/VBpfwv1Ulir3KrbIQe7nB/TNdvXhv7ROu/8AIK0KJznLXUwB/wCApn/x6gDw7GBSiimyMVjYjrjj3NNjPo34E2P2b4aC5xg3t5LMDjqAQo/9Br0esbwdpH9g+CNH0wgK1vaIHAH8RGT+pNbNcMtygoooqQCiiigAooooAKKKKACiiigAooooAKKKKACiiigAooooAKKKKACiiigAooooAiuruCxtZLm7lWGGJdzuxwFFU9H8QaXr8Ly6ReR3KocMFPK/UVy2v6vpvjI6n4Yiums/s7RBrxhlC5fAT3OePeub1XSv+FbeNtGvdMlkFjdEQzqxznoGz+e4emK5ZV2ndK8e572HyynVpunOTVazajbRpK/3s9eopSMUldR4IUUUUAFRXl0ljYXF3Nny7eJpXwMnCgk4/KpaCAykMAQRggjqKYHyzbeJ/DnxC1y88U/FXXfJ021kZNO0CBmLEAZyQPqOepOegFc5pHh7Q/iR8UtSmsBF4b8MWqC6nEzBfKgXapHJ+8x/LPfFe4+O9O+Ffw4gOs6r4dspdQmObaxQZMrDuEzgL6nGK8g8A+BpvjL421rVrqVNJ0oTrJdQWowSGJKxoOnG3qenpXUmkrkn0R4F8f8Ah7xb/aFp4ZhnWw0VUjE7RbY3QAgbD7Be9ef/AABjbxB4k8ZeNbv55by8+zwueyk7yB+GwfhXqtr4ZsNE8G3OieG7OOziNrJFEidS5QgEnqST3NeQ/s7+KtG0XwtqPhvWbyLTtVt795HhuWCFwVVeM9wVIIrJbOxR7jqEl1Hpty+nRJNeLC5gjdsK0mDtBPYZxXzH4xMvgnQrvRhIdT+IHiZWl1i5i+drSA/MYVI6ZA59s9sV9PW11b3tus9pNHPE33ZI2DA/iK5Dw98LtE0HxdrXiOR5tQvtXeTc11giFHJ3Kv1zjPoMUoO24HB/sxeHba18H3/iAjdd3tybYH+7GgBx+LHP4Cu+8Y+FvC03iDTPF/ifeZNMKQW6MxMbOz/J8ndtzcY/pVb4f/DBPh9qWovp+tXdxpt0SYbCT7kJJBLe54xnjjrTPi34U1/xRoelyeFZ0TUNL1BL1IpG2rKV6e2Qeefek9ZAd+ehzXhXxnx/wur4dfZObvz0zt67fPXH/s1eseHbjV7LwfDdeOZ7SLUIY3kvJYjiJFBJH5LjNeN+B5pvit+0DdeMfKYaJoa+XZlhwxAIjH1OWf24pw0uB33xJ+Ldh4InXSdMtzq3iC44isYedmful8evYDk1yWlfCrxR8Qr6PW/i5qcq2+d8OjW7bQg7AgcL+re9UvEvwz8deF/iZfeNvAv2XVmu5XlEVwFaSLeclcNjp0BU5xxU0Xxy8a6I5h8VeALjeOC8IdAT9CD/ADqrJL3QPa9I0fTtB06Ow0azhs7WMfLFCuB9T6n3Nc18SPBOo+OdHtrDTfEM+irHKWm8pSROCMAHBB4/Kpfh/wCOG8daPcXr6NeaSYZfL2XI4fjOVPeusFZ3aYHy78NPhvoEvxo8ReF/E0bakNMRmtzIxTzCHUFiAechulfSFsdH0JLTRrQ2lhuG22s0ZULY5O1e9eW/EH4Y+Kz8RF8a/De9it9Qmi8u5jdgpzt2lhu4IIxx6jNWPh38IdS0vxMPF3j7Vm1XXEz5CByywkjGSe5wcADgZq5NS1A9booorEAooooAKKKKACiiigAooooAKXpSUUAeC+LdX/4Vt+0ZN4t1+wubnSdSsBFBPCm7y22qpA7ZBQ8ejZrhPi38RdV+ItgJrO0m07wxZyDyhcHa11MeM47kDPAzgcnrX1ZqCWLafK+qxwSWkSmSTz0DKoAyTg+wr44+IOs6l4/Oo+KwgtPD9hdJYadbBdqruy2FUcbsLub6j2rpg0xHoPwY+GWo+KDpXibxrvfR9NjCaTYyDiTBzv2/3MnP+0fauj04i/8A2yNTN2M/YtO/0cH+H90nI/77b869T8GWZ07wFoFo2Q0OnQKQex8sV5R8V7TVPA3xS0v4laRZSXtmYhb6lFGOQANuT6ArjB9V96nmuxnuXfivKPjfpPjLxTaab4Z8KWbHT71y1/db8KNpG1W9F7++BXQeCPit4f8AH9/NZ6Kt3HcQw+c6TwlcLkDr0zkiu2rK7jID5n0fRNQ/Z/8AiLb3t9aT6zpGoWgt5Lq1iOUckFgB7EdD1Br2L4q+LdR8K/C+51/QlVbpWgKGZMhVdhnK/Q4rtSqlcMAwznBGapazo9h4h0W50nV4BcWV0myWMnGRnPXsR1qua+4CaJq1trug2Wp2MyTRXMKuGQ5GSMkfhXj/AO0G4u9f8CaTF81xNqRcL6DdGv8AX9K9X0Dw1p/hHw2NI8NQC3gj3vGsjFsu3OWPU815z4Y+F/ie++JMfi/4l6nb3k1j/wAeNtbHMannB9gM5xySetEbJtgevsMMcc189+O/EGofGnxcfA/gq2gbTbN83urSIGAAPJDdlB6Y5Y+1fQMiCSN0k5V1Ktg9iMGuEbR9E+Dfw11m88PWxAgie4JkO5pZOiBj6AkCnB2A5241XwX+z/4cGl6ah1DW7hQWhTBmuG7M5/hXPQfzNU/B3gbxL448X2njz4lFrdICJNN0kZURYOVJHYd/UnrxgU/4IeAobuyX4g+K86lreqO08Dz/ADCFM4DAH+I449BjFe0Zok7AUtZ0yPWdDv8ATJTtS9t5ICx7blIz+tfOHgj4n6j8HtIv/B3iLw7dXN3bXLva7DtB3dcnupIyCM9a+nKje3gllWSaCKSRfuu8YJX6E9KmMklZgeSfDq28eeMvE0fi/wAaTTaTplvu+waVHmMSEjG5l6lQD1PU9MV69Sk55NJSbuAUUUVIwooooEFFFFABRRRQAUUUUAFFFFABRRRQAUUUUAFFFFABRRRQBiUUUV+AnuACQQQcEdCK1LTVsYS659HH9ay6ltoTPcInqefpXs5Tj8ZhMQo4V6yaVujMatOE4+8dKjB1DLyCMilpFUKoA6DgVx2p/ECOG7uLbSLFrua089rkTt5AVYSA+0sPnPPGOPev3KN+Vc254x2VFchZ/EzQb3XrfRoxfC8nKqoaykCAlc4L42/jmuvqgCsvxKjSeGNRSO2+1M1u4EHP7zj7vHrWpRUyXMmi6c+Sal2Z87DR9RPXwEv5Sf416B8KrO5tLnUvtPh4aRuSPD4b95y3Hzen9a9EjuIZjiKVHOM4U574qUVx0sH7KfNzX+SPdxudvF0XS9mlfrdv82IEUMWCgE9SB1paKK7j58ZNLHbwPNO4SONSzsTgKByTXyF408Rx+LfGN/qsm5Ulk2QEc4jXhePpz+NezfHTxqulaCPDtjLi81Bf3+08xw//AGXT6Zr52A4/QUATm3YjdCyyp6r1H4Vt+ANCPiT4gaTp5TdCswuLjI4EcfzH8yAK54HacgkEdCDXunwE8PSJpd54nvV/eXp+z2hI58lT8zfi3/oNTN2iUevscsaSiiuIYUUUUAFFFFABRRRQAUUUUAFFFFABRRRQAUUUUAFFFFABRRRQAUUUUAFcV4z8X6l4U1S3LWsb6XPEy+aPvLLg4/Dp+tdrXL/EjT01DwLfAqC0KiZD6FT/AIZrKvzezbi9UenlfsXjIRrxvGTt9/U474f/ABD1C41xNN1+fz4rxiIJWUAo/wDd47HpXe+Mtb/sDwrd3oOJtvlxD/bPA/x/CvEbK1a78F3N5anbd6TeJKrKORG46/gyiun8a663jQ+G9KsGy92qSyqP4Xb5cH6YY159OvP2Ti93t8z6zGZTQnmEatONqab510XKr/ih+l+GL1/hLPqNmGOpXFyt8h6sVjPyj+Z/GofFfiePx3beHrDT4m+3tN+/jx/q24B/DqfpXsFraxWVnDawACKGNY0HoAMCuI8cahYeB4UvtG020j1a9cqJjH90fxHFbVKXJTvey0uedgsweLxT9zmqNycNbJXVrPyS1O+IwFHoKxfFXiW28K6KdRuo2lG9UWNOrE1laJ48sZPCNlq2v3EVpJO7xHGcMynBIHpjmuc+Ld7HfxaFZWzrKl3MXVlOQ3RQf/Hq3qV0qfNE8vB5bOeMVGuvdu7/APbt76/I9OhlE9vHKoIWRA4B9CM0+kVQiKijAUAAemBS10HjdQpVGWA9TTWZUUsxCqoySTgAVR0bXtM8Q2b3ei3cd3BHK0LSRnIDr1FWoScee2iEfL91qln4h8f+NvF/jGRJk0BWi0/T5DxJKXaOFdp6qCCxHrXrX7PHhuTRPhiL67Qrc6vcNdHI58vG1PzwW/4FVjxD8BPCviLxk3iC4e5gM8vm3NpFjy5nzkn1Ge9elxQx28McMEaxRRqEREGAqgYAH4VcppxshDhXCeL/AIN+D/GWpNqWo2ckF7J/rJrWTYZPdhggn3ru6KyTa2GY3hTwrpvg3w9Do2iLItrEzOPNfcxZjkkmtmiigAoopaQHgvja48bfFfxje+C9GtJdH8P2NwY7y7mUr5wU9Se4PUKOvBPt6/4R8KaX4K8N2+jaLGVghGXkb70rnq7e5/TpW3mkq3LSwBS5OOeR6GkoqQA80UUUgCiiigAooooAKKKKACiiigAooooAKKgvr620ywmvb+dLe2hUvJK5wFAry6H4/wCiz+IobFdOuRYTTCJb5sAZJxnb1xk/Wu/DZdisXCVSjBtR3IlUjB2Z6xS4qpqmpWujaRdalfPst7WJpZG9gM8e9eI2fiz4pePpLvVvCKR2OlwORDGQo8wjtlvvHHXHFb4HK6mMhKpzKMVpeTsr9hSqRjoez+ItLbW/C+qaUjiNr6zlt1c/wllIB/Wvnfwr8FvGupT6doHiyOKx8N6VdvcsqspNwzEZxjkkhQMnoK9L+HPxPutZ1eTwx4vthY65DkIdu0TEdRg9G7+4r089AD1rnxWFrYGq6NVa/mu6KjJTV0INqqFUBVUYUDsOwoZVdSjqGRhhlYZBHoRXD+L/AIp6R4V1P+yo4LjUtVxk2tqu4p35PbjtR4V+J0XiPV49LutD1LTLuRWZPtEJ2HAyfm7cVrLK8ZGh9YlC0d/l3F7SN7XOwtNNsNP3mwsre1L/AHvJiVN31xVmkrO1rX9K8O2X2zW76GzgzgNI33j6Ad64IU51ZKEFdvoi20ldmjR0rh4/jL4DeUJ/birk43NEwH54rotK8VaFrYX+y9WtLkt0VJQW/KumrgMVRV6lNr5EqUXszWopSKZJIkSF5XVFHVmOAK40m3ZFDqgvrC11SwnsdQgS4tbhCksUgyHB7VOCCMg5B6EUEhQSxAA5JPaizvYCGys7bTbGGysIEgtrdBHFEgwEUdAKn4NMM8PlCTzUCMMhtwwazbjxNoNpuF1rNjCV6h51B/LNaQo1Z/DFv5CukauKK5a5+Jvg20/13iGzPGflk3fyqXw58QPDvizUJrPQb03M0MfmP+7ZRtzjqfrW88DioQdSdNqK62Dmje1zo6KXOawPGXiRPC/h2W9IDTMfLhQnq56fgOtcMpKEeZm9CjOvVjSprVieIPGmjeGyEv7jdO3IhjG5/wAhVfw94+0nxHqBsbdbi3utpdYriPaXUdSKy/BHg5YoBrviGP7Vqt7+9PnDPlKeQMHvj8uldQfD+nv4hh1kxf6XBCYYyOAoJ5OPWsYutL3nt2PUrxy+jGVGN5SX2r6X8l28zTorzzUPG2tQfE210VLRI7J5liw6/NKp/iB/z0qzqfxV0mzvpra2tbm8MTFC8SfKSOKPrNPW7sR/Y2Mk4xhHmulLTs+5113q+n2F1DbXt5DBNOcRI7gF/pVxiFwGIUk4GT1rw+MXPxI+IySbGtIo1VnVzkxxqRn8ST+tdZr91Nqnxi0XSWmeO1tl+0FEcjcwBPP5VEcTza20vZHZiMmVKapufvKDlLy8j0Sojd24uhameMTldwi3fMR64qHVtVtNG06a+v5RHDGMnPf2FeW+B9QbxT8VrrV7hShS3cxIf4V4UD8jWtSqozjBbs4MLl86+Hq4l6Rgt+77HrtRXN3BZwSTXUqxRxrudmOAo9akZgqlnICjqT2rwz4hapNqvjK4ttIuZLiCWOONo4mLK7Lk4wPc1OIrexjdbmmU5a8xrODfLFK7Z2U/xf0iK/EcdrcS2+7BmAAGPUA816Crq0QkB+UjcD7V5b4P+GVw9xb6h4mARIcGKyHcjnLf4V1nxHvTZ+A79kkaJnURqyHB5IHB+lRTqVVTc6iOvHYXBTxlPC4J7uze6vc6cEHoQaK8J8D+J9WTxjpa3V3NJbTkWpWRyV24wPxBxzXu5GDitKFZVo8yOHNMtqZbWVKbTur6DJZEhheWVgiICWYngCuV8K+Lp/FGv6mttAq6TaKqRTfxSSE/yxXO/EPxJPqt/H4U0A+bLMwS4Knqf7ufT1ruPDOgQeGtCh0+DDMo3SyY++56mkqjnVtHZGs8LTwmC56y/eVNl2Xf59DWoooroPFCiiigDEopWUoxDDBFJX4E007M9wK1dHgyGmP0WstVLsFXqxwK6W3iEFuiDsOa+04RwHt8U8RJaQ29WceKnyx5V1Ja4HWYPF+q64sF14V0W70uG5JhuJrwlxHn723b1wBkZxXc/aoNsp81MQnEh3fcOM8+nFPSVJEV0cFXAKkHqK/WDzDhPCup+JbjVFimSaeIRr9uF3B5C20u45WLA+YbcevY55xXe03cv94dcdabLcRQIHlkVFLBQSe5OAPzNAElR3Efm20sZGd6FcZxnI9e1SUUAcYPDmsJBFFFKiQhlUiOXy5EQSbvvAYY4wM+h9a2vDun6jp8Fwuq3bXUjyblYtkYx29PpWzRQAVgeMfFlj4O8OzanfMCwG2CEH5pX7KP6+1WPEvibTPCmjyajrE4iiQfKg5aRuyqO5r5X8Z+MdR8da+17d7lhB2WtqDkRLnge5Pc0AZWs6xe+INYudT1SXzLq4fcx7KOyj2A4qjQ6NG7LICrKcEHqDTWkCIWboKYzS8PaDdeJ/ElnotjxLdP8744ijHLufoP1Ir670+wttK0u206xj8u2tYliiUdlAxXnvwc8Bt4Y0NtW1aHbq+pIGZWHNvF1WP69z+XavSa5KkrspBRRRWQBRRRQAUUUUAFFFFABRRRQAUUUUAFFFFABRRRQAUUUUAFFFFABRRRQAVS1u3+1aBfQ9d9u4x/wE1docAxkN0IwamSvFo1pTcJqS6M8U+EkUV3q2rabcrvhu7Eq6n2Yf8AxVdf4R+GieHNefUbm6FyYsi2AXG3PGT74Nc94M05/CPirWNU10Gy0+1VoluJRhXLuNuPXgV6t/aFt/Zhv1mVrbyzL5inIK4zmuHD0ouEXPdH1WdY2ssTUjhn7lS1+zdjnfiJb6hN4Qmm0m4lguLVhP8AumwWVeSP6/hXmvj7XB4ntPDlzDzLJbESIP8AnpuCkfmP1rpbz4tf6GZH0R2tLl2SB2kH71AcPx+NcHYRwaL8QrSPUG2WtteKxD8hFzkZ+mRmscTVjN8sXo7XPUyXB1sNTdStC06fM42tqrWa+Tsb/jnRBoll4U0aRiYwG81h/fdwX/n+lX7L4ea1beNdPgnYz6RYzedFOzcBc7tuOuSQK3PijpF3rcWizaTA10UuuWi5wDjBz6cV3/JOOufSt1h4yqvytY8utnFalgaSg03JT5r7ptvXyepSuNb0yz1SHTru+givLhGkjhZwGZVGScegAry+1+M82tfFew0HRLWJ9ImnNu07A75Dg/OPQDH4157408Qz658SNb/swGW+uZF0mwx1RM7XI+vI+hNdJ4E8LW+k/tAJpMOHXQtO3O+P9ZKUAZvzkOPYCv0yGS4XB4SpUr+9N07pdttfvaS+Z8H7aUpJR2udb8c/E9xpHha30TTXYX+tP5ShDhhHxnH1JA/E12HhDw/Z+CPBNnpu6OMW8W+4lYgBpCMuxP1/QV5gxHj/APaUQR/vdO8OrkkHK7o/8ZD/AOO1o/GzXBf3mkeCLe6itnv50nvLiR9qwxgnGf1P4VySwTnHD5bHTTnm/X/JfiVz25qnyR3OgePtF8TXl1FpTTNDbZzdyRlYXIOCFc8E1ow+JtFudUTTbfVbSW9kBKwJKCxA68V47Y/D/wCH0+p22jWfji7upJ3PlWcM4Csep6cZ4r0zwz8NfDHhO5W60nTx9rUEC4lYu4yMHB7V5+PwmW0ObknK7Wicbfe2aU5VJbo6hmEalnIVVGSSeAK861f4zaPb6lJp/h2wvNfuYzhzZJuQfj3rL+JWt3vijxba/Dzw/d/ZVdfN1a7DYEUXUrn6c475Aro9M1D4f/DzSUsbXUtPtVRfncSBpZD3LEck1ph8vpUKMalam6k5K6iui7t+fRBKo27J2RpeEPG1p4sWeH7Jc6dqFqAZ7O7Ta6qejD1HvXTVzfhzxp4a8WXV22hXK3Etmg82YxFcIT/eI6cV5H43+Jmp+MPF1l4Y8E3b2tu92kIuomw0z7sZB/uj9awo5TVxmInGEOSMVd3+z/XQbqqCV9T2Pxb4u0zwXov9o6u7bGcRxxxjLyMewH0rh4Pj7oG4C/0vVLNGPyyNDkVt/FXwnd+JfB0X9mkTalpUy3kCMMidlGCpHvXOeGPiLB458d2mhvpNmbCbTjJPFLCC8Nwud68joCMfjXXgcJg54J1pU3NxvzNStypbdOpE5S5+VOx3vh/xz4b8UOI9F1WC4lIyIc7X/wC+TzW/vTzDGHUuBkrnkD1rntP8B+GdH1ldY07R7e2vIlbZJGCMZGDx05Fcb8HFfXrzxD4u1CeWa+ub57VQXO2OJcEADp3A/CvMq4XDVKdTEUG1CNt97voaqUk1GR6Rq2rWWh6VPqWqzrb2luu6SRuwpNK1a11rRrbVLFmNrcx+ZG0ilDt9SD0rhPjzJs+Ed8uceZcQr/49n+lcp468SalcaF4U8A+HJGW+1KxtjdOpwVVkAC5HQcFj7CuvB5QsVQpyTs5OV30UYpNv8SZVeVtHsel67pettcjSL6G8+yyeVMYX3BG64rNm8feFbfUrnT7jXLSG6tG2TRyPt2t6c1F4T8K6R8OvCz28DhY41M95dPwZCByx9AAOBXknhzRNA+IPiLxF418Y+VZ6K0xjtkaQRbyMfMfcKB9S1Vg8uwleVWpJy9lGyTS1bb0VvvYp1JRsup6bqfxc8FaWjF9aiuJB0jtwXJ/Ktfwl4stfGOlyahYWd3bW6ybEa6i2eZxnK+ornPBXhn4canayX/hbTbW8SCcxGaVGbDAA8bvqK79I1ijCRqqKowqqMAD6Vx4/6hTXssPCXMnq5afKxcOd6sWilpK8c1ClpKKBHO+PvEUnhXwJqesW6q09vEPKDdN7EAH9ayPhx4n8RatHLp/i6yEd2ttFeQXUSERzxSDj2DA9RVD49SGP4R3wH/LS4hU/99Z/pXdaENnhvS0HG2zhH/kMV7ko0qeVxk4JynKWvVWS/wCCZK7qPXYvUUUda8Q1Pnr4nXHiPxN8Xv8AhC4r6RbC5khSO3U/Jt27i7Dvj5j+FT/FPRdNstT8GeCPD1uiOkwZwg+Y7mVQzHuThjXN63ruuN8fL+98NhX1Q3j21qsgBH3dmOfYGvUvAHw11Ow8Ry+LfHF0L3XJB+6QNuEOeM56ZxwAOBX6djKiy2lRqTkko09Irdzas215dzzopzbXmT/HvUGsPhbPDEeLu5ihJH90ZY/+g1N8MtYis/svgyG0CDTtHt7ySdW+9JL8zAj/AIFVL9oK2eb4Zo6gkQ30bNgdAQw/mag+Bsb6na674muFxJfXMdtH7RxIBj8z+leB7OH+ryqS6Sf/AIE+VL8Lm6v7exU+Onh2S0isfG+jDytQ06ZFmdP4lz8jH6Hj6GvUfDetReI/DWnavENq3kCylc/dJ+8PwOa5v4v3dvafCnWhdFf30QijB7uWGMflmk+DlrPafCXREuVKu6PIoP8AdZ2I/QiuLEydbKKNWp8UJOK842v+DLjpUaRwvwphuh8avFpeKGURyyrM85zNH+8O0rnscYP4V7kRySeT615R458D6rB4x/4Sv4f6hFBrjJ/pFiXA+0ADnA75wMg/WtT4f/E6TxNqc+geIdObS9etlLPEQQsgHUgHkHkcVvm1KeNX16i7xUY8y6xsrart57CpNQ9xnYeINZg8PeHr7VroForOFpCo/iwOB+J4rxeLSvF3xa8Nv4h1aC2X7FMLjSLRlwlwuf3iH1B2gAnvmvQvjISPhDrm3rsjH4eYtX/hqyv8L/DhToLCMflWWDrfUMuWLpRXO52v2SV9PW9glHnnyvY8+8Xaf4Z174J6lrWh6NbWF5ahRLEIgsltIrgPGfQ/0rS8E/C7wjqnhfw/4gWymivJbeKdminZQXHt9RR8XtMfQtH1LXNKj/0bVIfsmqwL91if9XOB/eBABPcH2rofg5MZvhHoe458uN4/piRhXdicViIZTGrSqPlc31vo1s/SxMYL2lmuhV8Y+M9b8K/ETQIJktm0DVpBbscHzEkJwTn8V/Wui8b+HIfE/hG+024aVMxmRGjbaQ6glfqM9q4X9oGIxeE9H1NPv2OqRsD6ZBP81r1WCX7TawzEjEsat+BGf615dWUaVLC4ukrPVPzcX/ky0ruUTz/4H6xc6t8M7dL2ZpZrK4kttznJ2g5XJ9gcVhfFXxHqWt+LbH4eeHJ2t5bsqb2dTggHnb9AoJP4VP8ABD/iV694z8OP9601DzlX0U5X+grJ+FSr4l+NHirxJICy25dIi3OCzbRj/gKGvYVCnh8bi8Y1pTV4rpeXw/mZ3coRh3Nj4keCdJ0z4crcSahqEcGhWHk28Ec5CyuTwWHc5P5VQ8BfBTw7qPgzTtT8Swzz395GJ3CylQoblVx9MVs/H2V4/hVMqnAlu4kb6ZJ/pW9r/h3XNa8L6NaeGNd/sURQJ5riPcZF2DAB7YrKjjcTDAUoqtyc8pe92SS0011bBwi5vS9iO0+EngiwYY0OByennOWz+tdPpujabo0Jj0qxt7RD1EMYXP1rgdK+Hs2haxba74v8bXV8bN/MjSSby4s4/iyeR7V6TG6SxLJGyujruVl6EHoa8bMq1a6j7d1Ivrra/lc2pxXawvavM/F4/wCEj+KWjaC2XtrX9/Mvr/Ef0A/OvTK8y8VW2qeFvHg8V2Vo17ayR7JUUHK8YP06da+dxN+Vdr6n0OS29vOz9/lfL6vT8rnppA4x0orhbT4t+Hp1UXX2i0cjlZIycfiKmm+KnhuMqsM01zIxAVIoWLEmrVek/tHPLKcfF2lSl9xg6/dR2/xqt575wsNrZO6sxwBhG/rVz4QWW7w/fXdzCCJ7s7GdckgAf1NbvijwJp/iy4tru4mlt5I12koB86nnBzXQafp1tpenw2VjGI4IV2qo/n9axp0ZKq5Pb/M9HFZlRlgI0aV+ZqKfly3/ADued/Dxlm+JHiedgFOdie3z/wD1qg8S38fhr4yQa1qccn2M2uEZFySduP51uR/DgR+NG1pNRkjt2nE5t48qWccgE9xmuxubG1vdv2y2in2nK+YgODUxozcLPRp3NK+Y4aGLdWPvwnBRa2a0S/Q8zhtdT+KGtpc30Utn4ft2yiHgyn/H37U61WHwz8azFsW3tL+Hy4sDCgkDA/NcfjXqKqsahY1VVAwFUYAqneaNp2o3UFzfWkc01s++F2HKN6itPq70knre9zm/tZS56Tjam4uKiunVPzd1qcd8XpL6HwtE9nO0UHnBZwpwWBHA+maw/g3ogaa81qYqSg8iFc5Izyx/kPzr0TxD4ftPE2mix1BpFj3h8xnByK4y8+HWqaNqLXngjUza78BoJG4/wP41nUpSVf2tro7cHjqE8reA51Cbe7WluzZ6QDzXmPxd1CS6l03QLQF5Z5N7Ivc9FH5k/lXoWjpqEWkW66zJHLehf3zxDCk1Qm8J6dceLovEM4ke6ij2IpPyj0OPXk1vXg6sOWPU8jLcRTwWKdapryp29enyPPvGfh3/AIRLS/DN5ZpvGmyf6Qyjq5IYn8TkVqeKPibDcWiWXhLfc3t0AA6qcxk9gO7V6Hd2lvf2r215Ck0MgwyOMg1maR4U0TQpmm0zT4opWPLkbmH0J6Vk6FRNqDsmd1PNMLUpxlioOVSF7dnd319GYPw/8EHw/CdS1XEmqXA5J58oHkjPqe5rtqBRXTTpxpx5Yni4rFVcXWdaq7thRRRVnKFFFFAHLeFPHGgePbQG1lW11FV/eWkhAcH2/vD3Fa1xZS27HcuV9RXyHDNLbTpPbSvDNGcq8bFSD7EV6p4T+OuqaZGlp4lt/wC07cYAmXAlA9+zV4+a8NYXHt1I+5Putn6o2p4iUNOh7dpUPmXW49EGfxrcxXLeHvHfhbXPk0zUYUnyN1vIdjgntg11IYMMqQR6iu7Jst/s3Cqi3d3u2RWqe0lc4uXwTfGGcLqCym8JkuklBCPIQ43DHOAHHH+wKfN4N1HyPKt9UwqyRmMEsPLRcMQCD137j9CB2rsqK9kxOSi8I3lvJC0d8HVSpkR2bDPzl/8AeHGO1VYfA99Glssuoify5UkfzWY4KyK25R6kLg545rt6KACjNIzBVyxAHqTXL698RvDPh7KXmpRyXGDi3gO9yR2wOn40AdTmuL8b/E3RfBlsySSrd6iR+7tImyfqx/hFeSeLfjprOseZa+H4v7LtSMGUnMzf0WvLXkeaV5ZnaSVzud3YlmPqT3oA2fFPi3VvF+qG+1mfdg4ihXhIh6KP696j0O70myuI7jVYbuWSGVZI0tyoBAOcHP0rI60MwRCzEADqTTGT6jd/bNRurxxtE0ry4J6ZJOK9O+Dvw3fWLyLxTr0GNPgbdYW8i/8AHw4/5akH+EHp6nmqvwx+FEvieSLWfEsDw6Mh3wWzcNeEdCfRP519DqiRRrHGioiAKqqMBQOgArCc1shjutJRRXOMKKKKQBRRRQAUUUUAFFFFABRRRQAUUUUAFFFFABRRRQAUUUUAFFFFABTZJFhheWQ7URSzE9gKdWJ4zMi+C9VMOd/2Z8Y+lTOXLFs3w9P21aNPu0jkB4p8WeK7ueTwdbRRadA5QTzf8tCKZr/ifxBJ4B1MX1jLp2o2ckaSSpwkiMTyp/D9a6P4YiIfDnSvJAGUctj+9vOaveNrH+0fBeqW+3cTbsw+oGf6Vy8kvZ8/M7tH0DxVCGOjh1Sioxmkn10fXvc881eWXV9F0DwbpUs19cTRpdTzzNkqGGcE+gyfyqXw9Nef8If4p8IuS13p8bNCo6lD1A/n+NQ/BxHutf1C8m+ZobVIlJ7Ak/0FbniHT9Q8P/EWy8Q6VZyXNteYgvI4lyeeM/yP4Vzwi5RVXvp8tj1q84UKssvVvc99N9Z35n960OAsvtOtf8I/ZWemTTw6YVE4Vc5Ly7mz7YrrB4Lk1j4qauuq2kn9nOrusuMAlsBdp9RzXoN1rGjaDI0LmK3dvmZI0wT9cVSfx3oy/ddz9ENNU6EdJyVzwMVxbSjOSpNQ0a31V3dv7yj4S8J6v4X1aeI6r9r0Zo8RQyA7kbPGPTit/wARaouh+GdS1Nv+XW2kkH1C8frisSb4iWC5EVvM/uQBXEfE3xbqHiDwLdaVo1iTNdSRq5L4IQNk/wAhXo4Cvg1iKcKk7Rur+h8ti88w+JqOUprmfbQ5b4CeGm1jxlceIrxS8WnA+WzD7079/wAASfxFdh468GeL7P4gTeKPAW15dStvs1wCwBiJXbu59gDnsRUfgnXD4O8JWmkW1nEzoC88m7mSRuSf6fQV0H/Cxbr/AJ9I/wDvo172M4vpyzGpiadnFrls1py/1qeVHM8CoKLkXfhl4AXwJokoupVuNVvWEl3MDkeyg9wMnnuTXm+k6Z4c8c/FXxdd+N7lEFrOILW2km8vIUlcj1AC/rXdf8LHuu1pH/31XHeItP8ADnijUzqGpaL5d2/+skgmKeZ7kevvWeX8SYX21apiakoyqL4orVa7fMJ5tgrJRe3kdNDc/Cr4fTfbLaSwju1+60bedIPp1xXpVrcR3dvDcW5LRTIJEOMZUjI/SvE9B0vwdoVwk8XhtJ5kOVe4lMmD9DxXdx/Ea3XAazdR22kcVxZlmmX1qkXRqym+rl+hvSzXCW+NI8l0TwXcfEeDxrqFvdNFrUepny1LYDqN3yN7HjB9RWx8GvCPhPxFpV6mraL5msaZP5V15zkq2ScEDt0Ix7UmuaDpt5r11q/hjWb/AMPz3pLXMcQOxyepGD+NdV4Ek8M+BdLkt7OS4uLi5cSXVzIvzSMOn4Dn86+px3EuFng2qGJ1k48qV046Wab7diKeMwjldzRl/GTWrbwf4Vh8OeG7WOyuNWB837MgUiFevT1PH0zXjng+ym1LxloVlbakumSzvsiuoR88Zy3X/aPT8RXrOh2puviTN4q8a6jDeeSrR2MEaEqqnIGR2wpP4mn614E8A6nfpfaVfXGjXKyCQm2Hy5BzwD0P0ruwvEWV4HDSwUql5SV3Napya/TRDliKE58ymrep7PGNkaqWLFVALHqTjrXjHhcWlr+1F4ghggEQa2kKhRgb8IzH8ea9MXxfooUD7XnAAyQeaxrdPCFt4zuvFUE//Eyu4RDISflAGOQPU4FfG4DMsPh6VeE5fHGy9bo7ZYrDycWprTzOzkcLbyO3RULH8BXlX7PoZvCOrT5/dy6rIUHp8q5rvm8S6PPbvE17GBIhU89MjFcd8L9Oj8D6TqOnahrFlcW8t2Z7byicgEYO7PrgcfWrw+Kwyy2tT51zOULLulcf1ijKompL7w+PkDz/AAtkdM4hvIWfHpyP61x/weibxV8UNS8TzofK0+0SGDIyFYqEX8lU/nXresXfhzX9FudL1O6hktrqMxyKHwceoPqDzVHwnYeFfBmjnTtGuowjOZJJJJAWkbpkmu+jnlCllEsIv4jbV/7rtf8AImU6Tq83Orepz3x71abT/h2LS3YodRukgdv9jBYj8cCubb4e/DLSorefWfEu6FI1aS1F2NrPtGSAOeTmvS/EaeFfFWktputywzwFg4+fDIw7g9jzXF2nwu+GVnN5ksklzg5CSXHy/pXVl2dYKhgo0XWlBptvlS969uvSxE6lPnb5k/mS6D8QrW/8UaZ4b+Geiq+kxSD7bctGUSOPuR7+5616vntXN6XqPhXQ7MW2kC1s4R/BCuM+59atHxZow/5e1r57MMdhK9XmoaJd3dvzb7msMVQivemjaxRisI+MdGH/AC8j8qafGuij/luf++a876xS/mRX17C/zo38UYrlLn4gaZCv7lJJT7LiqB+JCmQbLI7c925rN4ygnbmMJZpg4uzmjN+Py7vhPdEfw3UJP5mu78PyCbwvpUgOd9lCc/8AbMVyvxYhXWPg5q0kQJBgS5Uem1g38s1ofDbUYrv4YeHZmkUE2KRnJ7p8h/8AQa+mrNTyelJdJyX3pM7KetV26o6qgHBzR1GQeKUEV4dzezPle+STRf2iAX+Xy9dR+f7ruD/Jq+p2+/j8K8o+JHwpv/EvjTT9f8PywxyhoxdiRsY2MCHHrxxj2FernJbNfUcQYyjjY4arTevJZrs0c9CEoOSfcq6tZpqGjXlrJEkwlhcBHXIJ2nHB968n+DHizRND+G09prWowWM9jeTGaOZwrcnOQO/p+Fex1xOr/CHwbretSane6cwnlYtIsUhVZG9SP8K48vxWE+rzwuMbUW1JNa6q+nzuVOE+bmied395qPxy8ZQWWmxy2vhXTZN8s7gjzT6/7xHAHYEk17vDDFbW6QWyLHFEgSJFHCgDAH8qr6dptlo9jHZ6ZbQ2ltGPliiXAH+J96s71B+8B+NY5hmEMTKEKUeWnD4V+bfmyoU5LV7s+dvht4k0Dw9rHiHXPG9zJ/btrMywGZmZ2ByHVV9cjHsK6X4ZWmo+M/iTqHxD1G1NpZmM29pGRy/AX8cAcn1PtXdap8N/CGsa6dX1HS4Jbtjuc7yFkPqwBwa6WN7O2t0ggaGGKMbVjTAVR6Adq9bH5zhakJyw0Wp1ElK9rJdo+RlChUur9DnPiZZNf/DDXYFGT9kZwP8AdO7+lZvwXvBe/CTRyOsAeA/8Bc12UtzYyxvFPNC0bqVZWYEEHqKp6f8A2Ho1illpZtbO2jJKxRsAAScmvD+vQ/s/6o1rzcyfyszoVCo581mM8V6MfEPg/VNJUKXu7dkj3cAPj5f1xWZ8MvDl/wCFPh7Y6Tq2z7XC0jOEbcF3MSBmt/8AtfT/APn8h/77FH9r6f8A8/kP/fYrFYyf1b6rf3b83ztYv6vPm5rM5v4peFbvxj4ButL0wI14ZI5IhI20Eg88/TNdJpFrNY6DYWt0weaC3jjkYd2VQD/Kj+19P/5/If8AvsUo1bT+15D/AN9ilPFynh44d/DFtr52/wAgWHmnflZ418Qbm9+GnxNuPFOnwPLY63YvBKE4CzbcDJ+oDfnXSfAnw5Po3gSS/vkZLnVp/PwwwfLAwv58n8a72e50m8i8u6e1njznZLtYZ9cGphqFkAAtzCAOAAw4r1cVnKr4FYbltLTmffl+H7jKOFqRnzWZznxN8LS+MPAN/pdrzd/LNAM4DOpzj8RkfjXnFl44+KN5o9toWleGWt7y3iWB7yWM9FGM84AOB717X/aFp/z8xf8AfYpft1r/AM/Mf/fYrPBZvDD0VRqUo1EneN+je/rsE8NUburo8l0j4LX+r3SX3xH12fUZM7jZxyEoPYnp+Qr1+GKO3t44YEWOKNAiIowFUDAFR/bbT/n5i/77FJ9ttP8An5i/77FcmOzKtjpKVZrTZKyS9EVChKGyZPQcFSGGQeoNQi8tj0uIj/wMVIJYz0dT+NefdF8sl0M+68OaLesWudMtZD6mMCiy8N6Np0wlstMt4ZB0dU5H51pUVPJDexr9Zr8vJzu3a7FNJRRVmAUUUUCCiiigAooooAKKKKACiiigAooooAKKKKACiiigD4tqW3A8xpG6RKW+p7D867PxT8IvE3hnfNaxf2vYryJrZcuo/wBpOv5VxbuI4Fi5WRjudSMEegxXemnsSRZO/wAz+POdw65rf0jx34o0MoNO1q6VF6RyPvX8mzWB2opgem2Hx68WWqhbpLO7x3aMqT+RrUi/aJ1YL++0S2Y/7MpH9K8eooA9hm/aJ1ZlPkaJaoexaYn+lZV/8efFt0MWi2doPVYyx/U15nRQBvav458Ta2T/AGjrN1IhOTGj7F/IVhISknmKfnznJ9aSikBJcoBMJE+5KN6+3qPzqOpA/mW5hUM8qEFEUZJzwQAPeu48K/B3xL4jZJtQT+xbE4JkuFzK4/2U/wAaTkkBwsMctzdR2tpDJcXMp2xwxLuZj6YFe1fD74KfZ5YtX8bKksow8Omg5SM+sh/iPt0r0Pwl4C0LwZbgaVahroriS8l+aV+PXsPYV0vesJ1L7FWGr8qhUAAAwABwBS0dKKwAKKKKACiiigAooooAKKKKACiiigAooooAKKKKACiiigAooooAKKKKACiiigAqC9tUvrCe1k+7NG0Z/EYqeik0mrMqMnGSkt0eU+EfE8fgT7X4d8Sq8CQys9vMFJBB6j6dx9a7Pw74nh8Xw36W9nPFaxgIs0i4Eu4c4+la9/pGnapt/tGzhuNv3TIuSKsQW8NrAkNtEkUSDCoi4ArnhTqR91v3T18ZjMLiE6sabVV6t30v1aXmcb8OfCN54W/tQ6hszPKqxFWzlFzyfrmu26A/Sig/dP0raEFThyxPOxeJqYqrKvU+JnkHiS5N54jvHbja+wfQcVlYq9rWf7eveP8Als386z7mYWdnNdzAiOGNpGOOwGa+UcZVKjSWrZ+S1VKdZ92zJvPFuhafdSWt3qEcc8Rw6EHg+lUn+IXhtfu3rN/uxGsbwrpOo+Ldd/4SWWys1trgspt/K3s6j+L6+9ejQeEJXXEOiR4P/TuB/SvUq0MJRlyNOT627nqVMLhqcuTllJ9bd+xyK/EPw4et4w+sZqZPHnhpxxqka+zAiuxX4d3E550W35/vRKKH+EQmbMmjWX/fIFL2OFf2JFRwdKX/AC6mcvH4s0GYZXVbb8WxVxda0t8BNQtWJ6YlFac/wPtZ850i2Gf7j4rB1z4M6To9i99f6e8UEZAZo5umTgU/quGf86+QpYGjFc0lNL0NJLu2k+5cQt9HFSh42HDofoRXAnwT4V52XF9FnptfpVOTwbpK/wDHpqOqFu2CP8aX1HDv7bX/AG6zBYfCS2qP/wABPSdynpj86djP8NeZQ+B9UlfNteam6jpgNWtbeCNbXHzasfUvIwrOpgqMVdVL/Jilg6CWk7/JnbfhS7RXNweFdYj73A/35GNWP+Ef1cf8tpPzNcTpxT0ZxSopPT8jawaMH0rAuNE1tkIEs31RiCK57UNJ8Qwg+Vql/AewcZH54rWlh4VHZzsaUsPCfxSt8megEMOxowfQ15nDD4rJ2/8ACRhD/tqf8Kvx6T4zl5i8TWjn03D/AArpeXRX/L2J0vAU/wDn7H8TvdvqKXb7Vwn9jfEEfc1aB/8AP0pRpvxGHTUbY/gP8KX9nL/n7H7w/s9dKsTudvtS4rhf7M+Ix4Oo24/4CP8ACj+xPiG3/MWhH4f/AFqP7PX/AD9j94f2ev8An7H8TusUYrhv+Ef+IZ/5i0P5f/WoHhr4gN/zGoh+H/1qf9nxW9WIf2fHrVj+J3OM0bfauHHgnx1L9/XyP90N/hTh8OfGMxHmeIbk/RXo+oUlvWX4h9Qpf8/V9z/yO1OAOePqaQFdw+ZR681xsvwp8Q+WZLrXrwIvUlWwP1qhc/DmWGynmm8Q3beVGzkDPOBn1qlg8Le3tlf0ZccBh1OMXV1fkz1bXPiBDfeCZtI0yFJY5rFoHlkPXKEcCvNvAmtXN34Sgt5rhgtpI8aJuwFBO7+bGuTu/D0OleHotRutXulWQLtjTuT261W8J+Hm1u3uWj1Ga1WKQAKnfI6n8q+gcebAuEqvucye3XY/a8HH6pi4QpUPe5bWurvzPZU8RaqECjUp9qjAHm9BQdf1U/8AMQuP+/przk+Abofc124/HP8AjR/whGqL/q9fnH4n/GvL9jR6V/zPoVVrdcJ/6SejjXtX7ahcD/toaP8AhINYH/MRuP8Av4a83/4Q7XB08QS/99NT/wDhFPEI6a+x+pNL2FP/AJ/L8Q9tLrhH+B6N/wAJHrI/5iNx/wB/DS/8JHrX/QSuP++684/4RbxJ2139TTW8M+KF+5rin6k/4U/q8H/y+Qvb/wDUI/uR6M+v6tJ97ULg/wDbQ1C2pag/3r24P/bVq87Ok+K4G2HWVLkZUAZz+lb2mw61Fp6LqEoknBO5gRzXNWp+zjeNTm9Dvwlq0uWVDk0vdpWOhN1dN1uZj/20NNMs3eRz9WNZDLqH8LsPypV/tEfxMfriuPmZ6iw8VtY1CWb7xb86Ss0/2j7/AKVC8mpL/wAspW+mKE5MbpQju0a+PpS7fYflWEbjUf8An2uPwApPteoj/l1ufyFXyz7E8tL+ZG9s9h+VGz2H5VhC91L/AJ9bj/vmp47rUGxmGRf95al8y3Q404S2aNbFH4muX1W68QKw/s14WJOPLdMH86oKfHT9ok/75rtpYX2keZTS9WeViMb7Cp7OVKT9FdHb7m/vH86Mt6n864d9P8bS9b2NCfcU0+H/ABg/L6wg+jf/AFq1WCh1qx+853mM/s4eT+R3WW9T+dGW9T+dcP8A8Iz4qx/yGx/30aQeHfFyN+71lD9WP+FH1On/AM/kL+0av/QNL7kd0GdejMPoakW8ukIKXMy49JCK4NbPxzb523UUv1K0n2/xxbN+8sopRjsM/wAjT+ov7FSL+YPMqe1SjJf9unptt4o1u0I8rUZ8Dszbh+tdLo/xMvIZkj1eJJoScM6DDD3x3rw+Dx3dWkwj17S5LcE48xQePwNdfZ3tvqFolxaSLLG44IrOpDEYZpy2/AmNLLcxi4wir+lmj6NhmS4gSaFg8cihlYdwafXMfDy7N14NgVzlrd2i/AHI/Q109enCXNFSPzrEUnRqypvo7BRRRVGAUUUUAFFFFABRRRQAUUUUAFFFFABRRRQAUUUUAOztxjiuc8Q+A/DXifLatpcLyn/lvEPLkH/Ah1/GuhPQUYqrvoFjxbV/2eo/nfw7rbp12w3ibgPbcP8ACuL1L4P+N9OJ26Wl8nZrWUMT+HWvp6jNWqskFj4/uvDHiCxJF7oWoQ49bdj/ACrPe1u4/wDWWN0v1gYf0r7Q3H1NIeTyAfqM1ftmKx8Yx2t3MQsdjdMT6QN/hV+28L+Ir0gWWg6hMT0xAQP1r6/HynIAH0GKUknuaPbMLHzDp3we8bagx36dHZJ/fuZQD+Q5rt9G/Z8gRkfxHrUk/QtDZrsU/wDAjzXs1GKh1JMdjB8PeCPDnhgA6PpcEU3edl3yH33H+ldAOc5puKXNZttgJRRRSAKKKKACiiigAooooAKKKKACiiigAooooAKRmVEZ3YKqjLMTgAetLXl/x81650vwDBpWnSNFd65drZKy8HYfvfnwPxppXdgPR9N1Ox1iwS90u6iu7aQkJLE25WwcHn61ZrK8LeHLLwl4YsdE06PZDaxhWPdnPLMfcnJryX4weItTm+Lvgzw14f1GWCTzkkuI4XIyXkAG7HX5QTg+tUo3YHt9FKTnNJUAFFFFABSMyojO7BVUZLMcAD1pwGa8L/aT8dXGk6VZ+FdNmMMmooZbyRTyIQcBf+BHOfYe9VGPM7Aeh23xZ8D3eujSIPEFs10zbF5wjN0wG6V2FeAz/BXw3qvwPj1HQrO5g1lLM3kc9wdskrAZKsvQAgcfhXafAfxdP4s+GkP2+Uy3umSm0ldjlnUAFGP4HH4VTirXQHpVFLSVmAUUUUAFFFFAFSTSdPlkMklpCzscligyTXm3xzlttL+Hd7HbRJE0kRXKLg88f1r1UV4b+0hdhfDJhzyxjX/x7P8ASs+WCnFJbtHn4unTiopRV3JGv8BtO8vwpaXDDhbVQMjuxJ/lXrY46Vx/wtsfsHw70oEYMttG5GP9kV19FGKjG/dtmmCp+zo+bbf3sXNGaSitDtuxc1DdWsF9bPb3kSTQvwyOMg1LRQJpSVmYZ8FeHDydKg/I1zHgvS7CLxz4mtYrSFre3kTygyBtnHIGa9EFeGTfEWfwV4316Gy0K51ma9uGcrbn/Vqhxk/iavWR5VahRjiaSjFLf8j3BY0jUBEVR6AYrN8ReItH8K6PJqev3MdpaoQoZ+SzegHc15K/7Q162I7bwJqTSnjaxPX8q8y8aa14y+Mnjay0P+x2sZ7aJmhsGYrgHkyNuxzjFONK+56dl2PqzR9U07X9ItdS0p0mtbqMSRNtwSp9uoq26W6bfMWJSxwu7AyfQV8y6B8EvinpV3CbLWF0xVwNy3pIQf7oz/Ku7sfhN411PxPpV/4z8Y/a7TSplmhit8hnIOfQDnHJ9KHTgg5Y9j1828B6wJ/3yKa1naMMPbRkehQGvMPiJ8eNI8GaveaNaWkl/qNvEdxUgRxykfKrH+eKufB74qf8LH027i1CGK21SxYGSOP7rxnowz78H8Kj2XWwvZw7I66/8F+HtRDG40uEM38SLtP6VzN/8JdEds2t5NZs3Ch2BBNehZNeD/tOaxNaW3hizsppYro3MlwvlsR90KAePc0Rgm7WOWpgMLV+KCNufwP4p8Os1xo9wl9GvJQjJP8AwE/0rZ8K+MdP1O9Gma7p8Nhfj5RlMK59Oeh9q9At2ka1hMvEhiUv/vYGf1rh/ih4dt7vQpNYgQRXlnhvMXguueQfp1zU+zg3ZpHm1cF9SXtaGsVun28jshp1kP8Al0hP/ABThp9mOltEP+ACsrwVqsmteD7G8uDmYoUkPqVOM/pW4an2cF0PYpwozgpqK18iIWdqOkEf/fIpwt4R92JB/wABFPop8sexr7OHZCeWg6Iv5UuxP7oFFFOy7DUY9jI8Uhf+EYveP+WZrxPXQ58PX4iUs7W5UADk54r23xT/AMixe/8AXM15EteHj5cleMux8dnVT2WNp1LbJP8AE8r8Y29xB4d8PG6gkWFn+YMpGcAf0q38ObY/Y764XKxz3AVF7AD/APaxXoXxkUTfDLwvMOSt1In5qf8ACuV8IQNbeGLZHjMb5dmUjBzur6jG4eNHJKFZP+I3ddrM/V8hxUsfjpYlq1op/gkeqWvwvvpIw1xdxRZGcAFqup8K0x+81Js+0degW7brSFv70an9KfivKWFpJbHPPPcfJv37fI4MfCyzx82oS/8AfApf+FWWX/QQl/74Fd3iiq+rUuxj/bWP/wCfn5HC/wDCrLL/AJ/5v++BR/wq2xHW/m/74Fd1SGj6tS7C/tnH/wDPz8jyGXwTaL8S7bRRcSNG1m87PgZBB6V1SfC/Sh965uG/EVBbEz/HS5Pa30sgfUkf413mKzpYem76dT0MwzXGwdNKo/gi36vU4W/8GeFNEihk1i+a2SaUQxtNKFDueij3rSHw50EDPkzMPeSvLv2lJLy71LwZo+nkedc3TtFuOB5m5FTP/fVW/wDhVPxP1ZWk1r4gG2d+sMDNhfbgCuqOGpWvY8l5pjX/AMvGejjwJ4cTrb/nLU6+BtBXpYj/AL6NeUf8M861MTJd+PL55ezAv/8AFV6f8PtA1vwz4WXTPEmsf2tcxzN5c/JxHxtXJ5Pc/jVOjTS0SM/7Qxb3qP7y2fB+gRJuexjVe5ZsUo8GaC2CNPjIPI5NeZ/Gu+m1Tx94Q8ISX0tjpt7IZ72SJypZQccn2Ab865vTPj5NoM0cGn6Lc3fhCxn+yLfzyF5yOSCW6ZxyB6U/YRavYn69iv8An4/vZ7j/AMIboI/5h0f5mj/hDtBH/MOj/M1pafqVprGl22o6ZMs9pdRiSKRejKas4wOah0o9g+u4n/n5L72eP/EfRtNsvEGh2em2ywvcPh9vfLKB/M16G3gnQOR9gXg+privEmNT+NmjWZGUttjH2wS5/kK9S7nHTNctGnCUpystz3cyxeIpYfDQU3flu9e7f6GB/wAIRoH/AD4L/wB9Gj/hCPD/APz4L/30a6Ciun2dP+VHi/XsV/z8l95gf8IT4f8A+fBf++jSHwToB6WC/wDfRroKSj2VP+VC+vYr/n5L72ctP8OtBlU+XHLEfVX/AMaxrv4WptzZX7A+kq/4V6HRWcsPSlujqp5vjqW1Rv11PBvEfhC501DDrFqktvJ8ofGVP+FeZ+HRJ4f8b3WibybWYbogT04yP0yK+sPEmnR6n4fu7eQZJQsnsw5FfKWtDyPilpkneRFB/Mipp0+WNSk3o1deqPfo494pUsS1acZqLt1TPoT4UzZ0/UYCc7JUce2Rj+ld7Xmnwpc/2jqUfYwo35E/416XVYd3pI8HOoKGPqW7/oFFFFbnkBRRRQAUUUUAFFFFABRRRQAUUUUAFFFFABRRRQApNJQetFMAooopAFFFFABRRRQAUUUUAFFFFABRRRQAUUUUAFFFFABRRRQAUUUUAFFFFABRRRQAV4t+0DItrrvgK7vTtsIdTLSuei/NGcn8Afyr2msrxL4Y0nxhor6Vr9qLm2YhhzhkYdGU9jVRdnqBynjr4y+GfCOmO1peQ6rqUq/6PaWz7txPQsR0FfPPhrxBcaX8b4PE3xFeS3mjD3sysvzfNEfLUL26rgV7/afC74e/DmyufEU1hvWxjMrTXb+Zsx/dHTPYe9eN+BdEh+N/xl1fXdbXytPiIuZbYHlxwscefovP0Nbx5UnYR7Z8N/G+veOZL7Wb7Sk0vw9t22PmH95KwPLE9MY/Wu4ub+zs4TLd3cEMY5LvIABVPWfD1nrPhe50B91rZzw+QPsx2GJe23HTGBXla/s36TLIF1XxRql3Fn5YWfGR6ck1l7rYzttS+LfgXSmKXPiK0Zh1WJt5/Ss3R/jLoviPxFaaV4e07Ur/AM+UI9wluVjhH94k9qoP4A+E3gG2a41aGyXaPvX029j9F7/lWMvxaute1KLw/wDB3w8jjeBLfSweXDGoPXA7e5quVWA9rPtXhf7Q/hfSJbrQdakic393fw2Eh3/KYslunr1r3MBgih8bsDdjpnvXj37SBaHwtoF2o+WDWI2J9Plaoj8QHr12Ybexn3qFt44WyuOAoU/0rw79llCPDfiOUZET3sYT8EJP8xXdfGfxWnhn4V6jdJIEudQj+y2wB5LSDkj6Lk1X+Bfhx/Dnwl05bhClxqDNeyqRgjfwv/joU/jVbQYHolJRRWQBRRRQAUUUUAAr52/aNn3Wfl/9PMafkpP9a+iexr5r/aDfLqp76gv/AKAaz/5fU/X9Dzca/wB5SXn+h9AeGEEfhHSY1GNllCv/AI4K1KzvDx/4prTh6W6D/wAdFaNVHVHfS1pxfkFFFFUWFFFFAB2NcB8OIYj4m8U3ZRfPW8MYkx8wUsSRn0yAfwrvz901wHwyO+98TP8A3tQP82qlsedX/wB7pfP8j0ADuoAPsK8PDi3/AGzMHnz9OwPr5Gf/AGWvb68JsyNT/bMuXTkWFoQ34QBf5vVx2Z6DPdveobu5Wysbi7k+7bxPKfooJ/pUxHNc58RLhrT4Y+JbiPh49MnI/FCP61CV2B8gWdtJ4v17S7aRt174g1ZpLhz1VWcL19OXP4V61e20Pws/aesJbNBbaNrkaxbF4VQ+EI/B1U/jXDfAKzGqfGHRyy7k0+3lmOexCtj9XFetftK+H5LzwPYeILUEXGj3Q3OvVY3wM/gwWuiT96wHtB4zXzh8WQfFH7SfhrQFO6O2+zI69cZcyP8A+O4r3TwX4hi8V+CtJ1qJgftVspkx/DIBhx+DA14T8Nm/4TL9p7XfEB+eCxM8kbdRx+6T9Oayhpdgz6RPLtjpniuW+JFwLbwFqHODIFjH/AmH9K6ntXn3xiuPL8L28KnmW5Bx6hVJ/wAKz6nDmMuXCTflb7za+HMBg8A6cGGC6tJ+bE101Z/h+2+yeGtNt+nl20Y/8dFaFDOqhHkpRj2SCiiikahRRRQBl+JRnw3ej/pkf5V5AK9i8QLv8P3g/wCmTfyrx3PArwMz/ir0PieIV/tEX5EfxSxJ8GdHmHW31TH5q9ULtw88rp0Ykj8eauePv33wTugT/wAe+pQsPbcrCsyN/Nton/vRKf8Ax0V9Nj3z5Fg5dnNfkz9U4Hlz05/4Y/qfQmmNv0izb1t0/wDQRVmqWiHPh+wP/TtH/wCgirtc62PEmrTa8wooopkB2pB1pe1JTA4bw8DP8YvEkp5EVtEmfTOP8K7vt+NcL4K+f4i+L5Dz+8iX+ddz/jXPQ+B+r/M9XNdMQo9ow/8ASUeEftAXEVn4/wDh7c3MgjhhuzJI7HhVE0RJP4Cuu1X4/wDgHTrhkTU5LsgnJt4WYfnXF/Hm1g1n4reA9HvVL207hJVBxlXmVSPyFep6d8MPBWmRqlr4csvlH3pE3k/nXa2rK55JxFz+0r4RVP8AQ7HU7p/7oiC/zrpvh18R7jx7d3m7w9eaZaQRho7ifpIScbfr3rp7fwxoFo2620TT4m9Vtkz/ACrUUBUCqAqgYAAwBU3j0QHzl+1JBNa6x4c1KBmQtBPDvU46EcfkxrvfBnw/02H9n2HQtYEcaalaG7uZZMDZI43K2T3Ubfyrmv2qId3hPQZsDCXzpnHPKZ/pWZpvwZ8c+LtHs5fEnjQrp80KNHBHIz/uyowMDA6VovhQG/8Asy6tdXfgfVNNuJDJDpt4Ft37BXBJA/EZ/GvafSue8F+C9K8CeHU0jRlYoG3yyv8Aelf+8f8ACugPQ+wrGTTdx+R5doLf2l8eNSmYZFtG+D6YVV/rXqdeWfDE/bPHXiO/xyCwB/3pD/8AE16kOlcuF1hfu2e7numLVP8AljFfggope1JXSzwwooopCCiiigBGG6NgRnIr5I8aW5tfippsZ42y7fykNfXFfKvxZTyPjFY4GB5+fzYH+tEVeT/wy/I9nLalk4/3oP8AH/gnrXwsbGuXo9bf/wBmFeoV5Z8Lf+Rhuv8Ar2P/AKEK9Trlwv8ACRpn3+/z+X5BRRRXUeEFFFFABRRRQAUUUUAFFFFABRRRQAUUUUAFFFFAAetFKaSmAUUUUgCiiigAooooAKKKKACiiigYUVka34p0vw9faZaapP5MuqT+Rb/LkFvc9hyB+Na9aSpyjFSasnt5k3V7BRRRWYwooooAKKKKACiiigAooooAKKKKAClFJSigZ4Z+1D4hksvC+laDbyFf7QmaaYDukeMD/vps/hTf2XNFa28K6zrUseDeXKQRP6rGMn9W/Stv42/CnU/iHdaPdaLcQxy2geKVZjgbGIO4fTB4r0Twv4es/Cnhew0TTh+4s4gm7HLt1Zj7k5NbOS5LCNYVwHxJ+G9943vdOvdL8RXOjz2KsgERO1snrwevau+orJOwHkWifs7+H7e6W88T6he69c9SJnKpnPfkk/nXqOl6Rp2h2S2mj2UNnAv8EKBc/X1/GrlFNyb3AM1xnxZ8Gz+Ovh5daTYsq3iOtxb7jgM69s9sgkV2dFJOzuB87ad4J8d/E/xJo8fxCtG0/RtDiVGQjb9oK4BwO5bAyewr6JVUjjVI1CooCqoHAA6CiiqlJyAKKKKgAooooAKKKKAFFfMvx/P/ABMrVP72of8Asg/xr6Zr5n+P4/4qDTl/vX+f/HVrN/xoP1/I8zG/xKT9fyPoXwy2fDVl7RAflWnWP4TO7wxaH/ZP8zWxRT1gvQ7MM70YPyQUUUVobhRRRQAjHCEn0rgfhSu601yftJqDY/X/ABruL6UQafcSngRxMx/AZrjvhLEV8GPOw5uLuR/r0FV0POqa42C7Jncd68G+G8gl/al8bNc8TeXOEHsJYx/ICvea87svhfLY/HG78dQ6giWtzE2+1UHczsgU59uA31qotJM9A9FNct8TUaT4U+KEQEsdMmwB7LmupqK5t4ry0mtrlBJDPG0ciHoysMEfkalOzuM+Zv2WdOaXxZrepFfltrJYQcd3cH+SGvpHV9Jtdd0O80nUU32t7C0Mg9iOo9x1rJ8G+BtE8CabNZeH4GjS4l82V5G3Mx7DPoB0roqqUryugR8upq3jf4Gx6v4Wexe/0+8Vzp10qkqjMMb1x7dV9RXo37Pfga78K+EbrU9Yt2gv9XkVgjj5khUfLn0JJJ/KvW3RJQBIivg5G4Zwadn1oc7oLCV5f8XXNxqeh2K9Xdj+bKteoivLfHWbj4qeH7dh8oMX/own+lSjys1/gKPdpfieoKgjjVBwFAApaUjBpKk9XbQKKKKACiiigCtqUfm6Xcp/eiYfpXipr3GQboXHqp/lXidzGYbqWI9Ucr+RrxMzXvRZ8fxFH36cvUzPF7B/hdrcP92S3l/J8f8As1Zti27SbRvW3Q/+OCrnixj/AMITqyD+KJf0dTWXoT7/AA5ZtnP7gD8uP6V7tSTlw5h/KpNfgj77w9qc0Ki7L9T6O0QY8P2H/XtH/wCgirtVNIG3Q7IelvGP/HRVuoWyOSp8b9WFFFFMgO1JS9qazBEZj0UEmga1Zwnw8bzPFHi+XPJvVX8t1d9XnvwmxNa69fkgfadQO3nqAM/1r0GscPZ0kernKtjZrtZfckjwf4sfvP2ivAMXXa0J/wDI5/wr3g9TiuFvPhlaaj8XLbxve380rWsSrDZsPlR1GAwPpznHrXdd66W7pHkC0UUVAzyT9pTTzefCb7SoybK+ilPsCCn/ALMK6j4R6oNX+EPh24DbmS0EDn3jJT/2Wtnxl4ej8WeC9U0SZtgvICiOR91+qn8wK5P4O6BqfgTwA2keKJreGVLuSSJVlBwhx39yCfxrTmXJqNRk3ZI9FP3jUF5N9nsZ5j0jjZvyFV5dd0mIEy6laoPeUVheJPGOgroF9DHqlu8skDoio2SSVIFYSnFRep24fB16lWKUHuuhhfBeJX0rVrzHzTXKqfwXP/s1ek1wfwfhMXghmK4Ml07D3GAK7ys8MrUYnTnU+fMaz8/y0CiiitzyAooooAKKKKACvl/44IIvi1prDu6n9RX1AelfMPx6+X4k6c/cMP6VcPi+T/Jno4Hdv/D/AOlI9K+Fx/4qO5/69j/6EK9Uryr4Xf8AIy3P/Xs3/oQr1WuLCfwkdvEH+/y+X5BRRRXUeCFFFFABRRRQAUUUUAFFFFABRRRQAUUUUAFFFFACn+tJS/40lMAooopAFFFFABRRRQAUUUUAFFFFAzxP9oiZrGfwrfA4+zzyuPqCjf0r2qOQTRJKvR1DD8RmvHP2kbRpfC2j3QXKxXbof+BJn/2WvUPCt6NS8HaPeDkTWML5/wCACvpcwipZRg6i6cy/G5zQ/iyRq0Uvakr5o6QooooEFFFFABTJpUt4JJpmCxxqXdj2AGSafWb4lVn8I6wqfeaxmA+uw1rQgqlWMHs2hSdk2UvCHjCx8aaZPqGlQzpbRXDQK8q48zH8Q9ua6CvnDSPiHf8Ahv4SeHdF8KxqdWvHnaRtm4ookPQep5/AV618KvGkvjbwat3e7Rf20pgudowCwGQ2O2Qf517mZ5LWwsJYmK9zmaXfsr+plTrRk+XqdrQOvFeb+DfGN94p+MHiW1jm/wCJRpduIYoh0Zw+C/1OD+Fb3xI8VnwZ4FvtWhUNcjbFbg9N7HAJ+nJ/CuGWW1o4qOFfxSt+JaqR5eY53xF8dPDGiTzW1iJdUuYmKkQjCAg4I3H+lc9p3jb4ifEXf/wi0FjpVmpw0rOGdR/n2rpPBfw00a48H6fd+KtJtLjVbpPPmdVK/fO4A4PXBFdhonhPQfDckz6FpsVm84AkZM5YDp/OvbqYzKcFTcMNS5qi0vLVGPLUk7yeg/wxp2paT4dtrTW9R/tK+jB825243ZPH5DitWiob29ttNsZ72+lWG2t0Mkjt0VRXyz561TRat9DoVkibsT2HWkV0ckI6tjrg5rxOPUPGPxivrhtGu30HwxE5RZRkPNj6ck+3auv8G/C1fCOuJqaeIdQvWVGV4JW+R8jGSM9uteviMso4Wk1WrJVP5Um/k3smZRqOT0Wh31FZniTxBZeFvDt3q+pvtht0zgdXbso9ya8h8M/GDxLe+NtKTXbGG30bWpdlooXBUZ2hg3f5uDWGFyrE4qhOvTXux/G2rt30KlUjGSiz3GivLvGXxjl0DxdceHNH0Ga/vYWCgsSN5K5+UdSK0PA2u+PvEGtNdeI9Hg0rR/KO1GBEjPxjGe3WtKmTYqjh/rNW0YtXV2rv0QKrFy5Ueg0UVyHxM8ZjwT4OnvINrX8/7myQjOZCOuPQda87D4epiaqpU1dsuTUVdnX0VT0p7kaDYvqsim6+zxmd8bQXKjP05q5WMouLaGncKWkpaQBSVzF5490jS/Gcvh3VriKzlEEMkMkr481n3fL7Y2/rVtfGvho30dmutWbXEjBVjWUEljwBXS8JiEruDta+3Qnnje1zcr5p/aD48XaMv9653f8AoNfS3H0NfNn7Q6/8VroA9Zv/AGZa5F8a9H+RxYxaxfr+R754SGPC1p9G/wDQjWvWR4UGPC9p9G/9CNa9Z0f4UfQ3wv8Au8PRBRRRWp0BRRS0Acx8RL99P8C37R/flUQgjtuOP5U/wLDDYeCtMtvOjL+SHYBh1Y7v61r6vpVrremS2F8heGTGcHBBHQiuGl+EkSAtp+s3UL/w57fkapWtY8utHEU8S61OHMrW3PRhyM0cV5ofBPjK1XbaeI9wHTc5ph8MfEFfu62h/wCBj/ClbzF9eqrejI9Oory//hH/AIjKfl1VD/wMf4VIth8S7YZW7hlx2LKc0co/7Qkt6UvuPTKSvMxrPxGsmzcabHOBycLn+VB+IviS3JF14akJHBIDD+lFmH9qUl8Sa9Uz0ylxXmP/AAsfxHMf9G8NyfiGP9KVvHfjKP5pPDZKdSAjdKEmP+1MP5/cz0zNeX+MDt+MOgk9P3X/AKG1W7f4sxRME1fSbi2buV5x+dYPiPxJp+t+O9A1DTXMiRyRq4IwQfMz/WizOPG4uhXhBU5Xakj2Q/eNJSkYY5pKR9AFFFFAgooooAOoNeP+JIPs/iS9Tt5mR+PNevPLHEV8yRU3HaNxxk+leZ+PIPK8Ss46Sxhv6V5eZq9NPsz5ziGm3h4z7M4fxMm/wpqa/wDTuT+RB/pWB4VkD+FbXnlQ6n/vo10+sx+ZoGpJj71pJ/6Ca43wNL5vhYeqTOv8j/WuinV5skVP+Wpf74/8A+k8OZ/va0PL/I+p9K/5A1n/ANcI/wD0EVZqjoMgl8O6e45zbR/+gir1dcdkXU0m15sKKKKZmFJIgljZG6MCDS0UDTad0ebt8JntmY6Tr91bZJIUcDP4Gk/4R/4h6Oc6frEV8ij7sp5P516TRXP9Wp/Zuj2lneLl/GUZ+sV/w55qPFHj+yXbeeHo5z/eQHn8qP8AhPvFS8N4VlJ/H/CvS8kdDik+Y96XsZ9Jsf8AaeGfxYWP3tfqebjxx4ylOIPCzDP9/NNGq/Eu/fEOnW9oD3Yf4mvS+fWkI9TR7CT3mw/tShH4MND53f6nmi+EvHmqZ/tTX1tlbqsTdPyqRPhDBMM6nrN3ct35/wATXo9LR9Wp/a1+Y3nuNWlO0P8ADFI4KH4Q+HE/1jXMv1fFXrf4YeFreRXWw8zB/jcmuvpKtUKS+yc083zCe9aX3kdvbQWlukFrEsUSDCogwBUlFFbHmtuTuwooooJCiiigAooooAUV8xftADHxCsD6EfyWvp0da+ZP2gxt8c2bf7Sj9BVQ+NfP8mejgd5fL/0qJ6F8MD/xVc4/6dW/9CWvWK8n+GP/ACNc3/Xq3/oS16xXHhP4SO3iD/f5ei/IKKKK6jwQooooAKKKKACiiigAooooAKKKKACiiigAooooAWkpT2pKACiiigAooooAKKKKAGySRwwtLM6pGgyzMcBR6k023uYLyFZbSaOeNhlXjYMDVbWNKttc0W70u+DG3u4zHJtODg+hryV/gnrmjNv8IeLri3CfcilJUD244r1cFhcJiINVa3JLpdO33oicpReiue0Y9aSvEm1L4y+GCq3VpFq8CdWChy35c1LbfHq9sGEfifwrc20mcM0WRj8CK7pcO4uS5qDjUX92Sf4Gft49dDrvjLpP9q/CzVNo3SWmy6TH+y3P/jpNV/ghrH9qfC2xhZ90thI9s49ADuX9GFVP+F1+Bta0y4tL24nt1uImikSSE9GGD0rmf2cbmUXHiSxiJeyQxSo+OC2WX8yMflXdLB4iGSVKWIg4unNNX6p6OxHMnWvHqe50UUV8cdYUUUUCCiiigAqnrH/ICv8A/r3k/wDQTVyqOuv5fhzU5D/BaSt+SGt8PrXh6oUvhZ80/AywXUvilZeeN8VlBLOAeQONo/V67f4HXf8AZV/4405vlFjL5oXHQIZFP8hWL+zdbh/EusXZU5hs0jB92fP/ALLUd/qn/CDfEz4hQTYjXUdPnMH+074Zf/Qm/Kv0/MU8bjcThI6u0Gl6PX8zzYe5CMvU3v2cYfPh8Sam/wB+eaJSe+fmY/8AoVa37RQf/hXFsw+4L9Nw9flarH7P+l/Yvhqbtlw19dySgkdVXCD/ANBNavxk0GfxD8Mb+CzUvPbMlyiKMlgv3sfgTXzc8TB8RubenNb9DpUf3Bv2/iLR7GPTdOvdQt7e7ms0mjhkcA7Ao5qjpPxE0HXfF8nh7R5ZLyaKJpJLiNcxLjtu9a840mDwF8TdB0u78SXosdasbVLSdfO8sts4B56g9a6G08R+CPh5fad4f8K2y3t1qU6RSG0YOwycbnbv9K56uV0YQnFQnKrrpa0V3d+q7FRqO6vseoV5F8ftbaPR9L8OQzeV/ac++4b+7EmP0yc/hXrrdeK8e+IsEFx8efBsOpKrWc8DQkN0OSwI/UVyZAoLG+0mrqCb+5F178tkdV4I8ZeC5ksfDPhi+Vmgh2wxbCpcKOW9z1NdsOvFeI/BvSrbQPiZ4o8PS28U1xp/zW90Vy6qDtIB9wR+Ve3j261jnOGpYfGunSbadnd7u+twoybhdnivxtupfEPizw14Hs3J+1TrLOFPTcdq/kAxqv8AFy0itPiN8P8ATtPjEUcEiJEi8bVEqgD9DXm19rOvy+O7zxA9zNdz6Zc7Zb62TPloGKjHYAjIFd94i8SaX42+MfgC70WYyQ5j3qww0bCQkqw9eK+5eBqYL2MFrCFOd7fzNO9/0ORTU7vzPVfGXhFdcSLU9M223iDTm86yugMZZf4G9Vbp+Nef/CXxPq9z8Ste0XVJLlYmja4W1uHLG2cOMqCecckflXtH/LQ14r8LXGpfHXxvqD/MUDoren73H8lr5PAVXWy3Exqq/IlZvdarQ6ZrlqRt1Paa8V+KhGv/ABm8HeHGJaBHWWVOx3Pk/wDjqV7XXi+roG/ay0gN/BaqQPfynP8AWs8g92tVq9Y05Nfdb9R1vhS8zf8Aj5JeQ/C6aaymeLbeReYYzg7cnHI98V3OgXa6h4Z0y8R/ME9pE+7Oc5QVT8ZaH/wk3gzVNJIBa4t2EfHRxyv6gVx3wH19tU8AHSrkkXejTNbuh6hCSV/qPwrKUFWyiM4705a+klo/vQJ2q27nptA5NeYXviy91L9oTTPDljctHZafDI11Gh4kcxlvm+nyj6mvSri4js7Sa6nOIreNpXPoqjJrgxGCqYedOE95pO3rsaKaabPBNS8O2vxH/aC1/S9TkmjgtLcBJITypQKP1LGvSfDPwj8J+GZ47q2sTdXcZBSe5bcVI7gdBXE/B+8t0Xxf8QtekFvbXVzsEz9FXduP6so/CvQvD/xG8O+JvEM2j6JcSXM0MPnGQRkIRnHB9ea+lzjEY+LeHot+ypxUXba6Suc9JQer3Z1eMV82ftFHHjPQD6Sf+zLX0nXzN+0O+fFmjt/dnI/9BNfGx/iJev5GWL3gvX8j6H8OJs8O2g/2P61o1V0pPL0e1Udolz+VWqzpq0EjqorlpRXkgoooqzUKKKKACiisjxT4n07wjoE2q6rJtiThEH3pH7KPetaVKdaap01dvYG0ldmxRXheqan4r13w5c+MPFOq3Hh3QEx9lsbIfvpQThevr716P8OoLz/hHkvJdbn1ewvkSaya5QLLEpHKsR15/lXp4vK3haPtHNN3tZXtftfa66mUKvM7WOto5ryjxL8R9d1fxPL4a+Gdot3c2xxdXrDMaHpgHp+PrWx8KvHN/wCLdO1Cz12FI9V0qfypygwHByAcdjlSKK2UYmjhvrE7W0ur6pPZteY1WTlynf0yR44o2kmZVRBlmY4AFPyK5L4geFtR8Y6XaaXZakbCyafdf7fvSxAfdB+tefhqVOrWUKsuWPVlyuldajbr4p+CbO6NvPr9sJFODtOQPxFdRZ3dvqFpHdWE6XFvKu5JI2yrD61yifCvwXa6K9odFhMaxndK+S/A+9n171y/7PkszeEtVhLs9rDqLLb5PAG0E4/Q/jXrV8Hgp4SeIwjl7jSfNbW99vuMoylzKMj1G5sLK8Ui6tYZsjB3oDXN3Xw40GfUoLyCJrV4ZFcrEcK2DnpXW0leCKeHo1HeUUxTSUUUHQFZWv8AiPT/AA5YG51CYA9EjB+Zz6AVD4s8TW3hfRHvJ/mlb5YYu7t/hXLeGPB91rd0niTxkTPPJ89vaN92NexI/pWFSpLm5Ib/AJHq4XCU/ZfWcU7Q6LrJ9l+rLmhaz4u8R6hBepaQafpG8ErKCZJUz2rtZ5o7W3kmmbZHEpZmPYCnqAqgKAAOgHauF+KOozpptnolmcT6rMIsj+7kf1Ip39jTbbuwhCOY4uNOEVCPl0S1bffQ5Z7fxT8Q7w6jYzrFY2lyfspY7QMHIbHcjiuQ+IXizX4NR07RNPuEv9QRpIpbrZnzGJ+6PZfWvoPStIi0bw/Dpll8qwxbQcdWxyfz5r501WceG4LuQ2M114i+1GCBChKoDnLZ9ziuKcHTkk1dve+x24+rTzDL6/LTi40rcit3fxN+W79Sh4bn1a28WXvh/V737cGsjLI/Xy2IHH64qn8P4ZYdDlSVSAZiyk9xjH9KqXFrf6Vt0mGUzeI9dcNdyhuYYyfu57ep9hT/AAI80V9q9hcSbzaSCNfbazCtZp/V5qNraP7tLnncIqjDMJS2c1ol5LV/PofUHgmf7R4M05upWMofqCRW7XFfC+8E3h+4tT1t5yfwYZ/mDXa11U3eCZlj6bpYqpB92FFFFaHEFFFFABRRRQAUUUUAFGKKKACiiigAooooAKKKKACiiigAooooAKKKKBijrXzL+0UNvjC0P+0v/oIr6ZFfNH7R4x4psm/2l/kKun/EXz/Jndg3bn9F/wClI774X/8AI0y5/wCfRv8A0Ja9Zryb4Wgt4lmb0tD/AOhLXrNcWF/hHfn/APv8vRfkFFFFdR4IUUUUAFFFFABRRRQAUUUUAFFFFABRRRQAUUUUAKe1JSntSUAFFFFABRRRQAUUUUAFLUN1d29jZy3V7MkEEK7nkc4CiuFuPjb4It5zH/abyYP3kiJFdmHwOJxKbo03K3ZEucY7s7+uU1jxdoy+PdP8H3lkt1dXkLSl2QMseASAc+oBqjF8ZPA8qj/icBc+sZ4rzXwr4s0bUvjtq3inWdQhtrSGN0smlONw4Rcf8Byfxr2cBk+I5K1WtCUeWOm6vK+hlOrHRJ7nrl18NvB965e40G13k5yi7f5VsaPoel6BaG10ayis4iclY1xuPqT3rCu/ih4NsofMl122cYyFjO4n8KzLD40+EdT1u00y0nuDLdSiKNmhIXcTgDNck6GbVqP7xTcF3vYpOmno0d/RR7HrRXimwUUUUCCiiigBaw/G1x9l8A69N/d0+b/0Aituobyzg1CxmtLyMS286FJEPRlPUV0YapGlXhUnsmmKSumkeQ/s5aY8HhjVtTkjwLu5WONv7wRef1b9K6X4g/Ciw8d6laagbtrG6iXy5XVN3mx5zg+455rs9I0ix0PS4dP0q2W2tIRiONeg5zV2vUr5xXeYTxtB8rlf7jONJKCiylpGl22iaPa6ZYJ5dtaxiONfYf171c/l3oorxpSlKXM3qa2OE1z4NeDtdvnu5rFraaU5c2z7QT64q34W+FvhfwhqH27TLNpLsAhJp23FPp6V2NJXfPNcdOl7GVWXL2uQqcE72F+tcb8RfAY8baZam0uRZapYS+ba3P8AdPcH8h+VdjS1zYbFVcJWVak7NFSipKzOG+Hfw8fwdJf6jqt9/aGs6kf9IuOwGc4H1PJNdL4li1G48MajDobquoyW7JblzgByK1KTgH3q6uOq1sT9Zqayun5adLdhKCUeVHCfC7wD/wAIb4Qls9WSKe91BzJeL95cdAnvjn8TXKTfB270f4saTrfhoR/2Sl2s8qM2Db4PzAeoPavZ6r3l9a6fB517PHBHkDc5wMnpXbTzvF06lWpzfxL8y6a/5E+wUrRS2LGcua8Y+GFje6H8afGNhc2kgiuN0qz7cLjzSy898hv0r2fPFN2ruLADPc45rmwuN9hh6tBq6qJL0s7jlDmkn2HDivHvG+g6/bfHbQPEmh6e17EyJHIf4ExuVtx7fK2a9goowOOlgpylFX5ouLv2YThz2FBw3FeG64158IfivceI7ezkuPD+sg/aEiHCMTkj2IPI9ia9xqO4toLuBobqGOeJ/vRyKGB/A1pl2PjhJSjUjzQmrSW33eaFOHNtozxv4KaZd634r1/x1qULIt67x2xccnc25sewAUV3HxYvn0/4V67LESHe38oEdtzBT+hrqIns7QR2cLQQADEcKELgewpmraXaa1pNxpuoxCa1uEKSIe4reeZwr5lHF1I+6mtOyXQPZOFPl7nBfDa00NfgtpmnarJatbXUDtcxyyABizk8/p+VdD4N0rwjpUdzD4PFoSpHntA+9uegJ64riv8Ahn3w8bplGr3xiB3G33DgV1+m+H/D3wv8M39xpVsY02+ZK7tl5WA+UE/U/rXRmWIwfs6kqGIlLmd2rWj89Qo0qk6kYKOr0R1wGc5r5h+Pr+Zqdo4/h1BwD9FWvePAutajr/hdtT1RERpZ5PJCDH7sHA/rXgXxubzI4JfTUn/Uf/Wr5ijLmxFJLrf8jkzOnKhjadCW6bv9x9O2o22kC/8ATNf5VLUduQbaIjvGuPyqStWraHdHRIKKKKQwooooAP0HevGYI/8Ahbfxammn/eeGfDbbUT+G4mz+uSM/QD1r0D4j6zJoHw61m/gbbKlsUjb0ZvlB/WuP8G6hpfwv+CNjqeokefeIboRA/NPI/KqP+AgfSvpctp1KWFlXoq9Sb5I+WnvP7tPmYVJJy5XstTP/AGgtWWbT9G8K2DA3d3crI0S9l+6gP1LfpXfXei6hofwsk0Xw589/a6b5Fuc4LPtwT9eteEeCBqPjn45WV9rYZpll+2zIRxGiDKLjsM7RX1B65rrzr/hNWGwUbPk95+cn+hFH95zTZx3ww8JJ4O8F20FzEI7+ceffOTklzzgn2HH51x3wOf7f4k8b6tF/x73V6FjPqd7t/Ij86634r+Kl8J/D+9mR9t5eKba1A6lmHJ/AZNHwk8MN4W+HNlb3CbLu6JurgHqGcDA/BQBXNOtUeXV8TW+KtJJfLV/oikl7RJdDtMUUUuQF5OB3J7V8xZs6GcR8W/E48MfD68kjk23d6Da24HUlhyR9Bmp/hb4cbwx8PNOsp02XMqm5nHcO/OPwGB+FcFk/Fr4xoyfvPDnh08k/dlcH9ckfkvvXtgr6HMLYPB08D9p+/PyfRfJa/Mxp+9Nz6bBRS4pK+eNwoooPSgR5fcyReKPincNqLgaToKFnDH5Sw9fx/wDQafdeN/EPifUJbXwVaBbeE4a5dev58CuR8V297pHizVtL3+Tb6rcJIZDwGQsT19AWOfpXpv8AbfhrwR4bjt7S5hkEafKkTAtK/qfrXlQk5OSbt3Z95iaUKMaMqdP2jaSgt4pWV2/NtlTwJ4s1PUtW1DQ/EAX7dZjdvUYyAQCD+YpvxM0u9b+zdf01PNk0qUSPH6rkHP6VV+GmmXl3qepeKdRQxtfkiBSMZUtkn6cACur8Xa3BoXhu7up9pJQxxof42IwBXTG8sPeb/roeTVkqGbpYaKeyaW12rSS/Es+HdetfEejQ6jZ5CycMh6ow6qaxPiK1lpvgzUdWuIYwbZBIX2jc2CABn36VB8LNKm0vwVE1wCr3crXAU/wqQAP0Gawvi08viG7svB9kx/0oeZc47KOmfyJ/KqnNOinU6nlV8DTq4mth4P8Adx5rv+6tf+AeVeAtPmuprjxRqmWu71z5Of4Ez2/l9BWToX+jfEnxHb9A0jvj6uD/AFrubq+07QbGMXU0dtBEoWNSecDgYFeeaXqVvf8AxSvbyyYtb3aHYxGCSFGf1FcVCcqsK0mtGtPkeDwfWrVs3WIlFqL0Xa2yR7l8L7zydfubUni4hyB7qf8AAmvU68U8FXH2fxnpzZwGkMZ/FSK9rrswkm6dj6/iGkoY1yXVJhRRRXWfOhRRRQAUUUUALSZrkNS+KPhfSfFa6Be3226LBHYLlI2PQM3ausuLiG0tpLi5lSOGJS7yMeFXuc101cLXpcqqRa5ttN/QlSi1dMkpK4/wz8UfDfi3XJdJ0qeT7RGpZDIu0SgdStdhSr4athp+zrRcX2Y4yUldBRWV4o1T+xfCeqalu2m2tZHU+jBTj9a4/wCB17qWpfDr7Zq93JdSS3kux5GyQoxx+ea2jg5ywcsXfRSUfv1J5/f5T0WiiiuEsKKKKACiio52ZLaRoxl1UlR74o2KiruxzHinx9Y+G7pbMRSXd4y7hFH2HvXP/wDCaeNdQUtpvhwRp2aQHNP+GFna6rHqGs6gBc6sbp1kMvJiHYAdq9IJCRlmICgZJ7CuSMatVc7lZH0Vapg8vqfV40eecd3K9r+SXQ8qPxC8VaNIlx4h0qOOy8zynO0qc9ePwr1OJxNDHKn3XUMPoRmvLNauh8RPGEGmWjf8SfTWMlzP/C2Ov8sD8ag1Hxpreuz3reHrmLT9P09C4JI3SAdMZrKFf2bfM7rp+p2YrLfrfJ7OCpySvLeyu/dXq+x65XzX+0gP+KisD/tgfpXsWheOVl0bw5/akbm51fdEJEHyhgcZP1rx39pE41y2HdZE/wDQc16NCSlUi1/Wh4lPD1MO6iqK2n5SS/M9F+EyZ1G9k/u26r+Z/wDrV6fXm3wgTdaXs3qkQ/Q16TXNhv4aNM7lzY6fy/IKKKK6DxgooooAKKKKACiiigAooooAKKKKACiiigAooooAU9qSlPakoAKKKKACiiigAooooAxvF3hyHxZ4VvtFuJWhW5TCyL/CwOQfpkCvBtBj034e6y+g/Enw5DPbSufJ1Hyy3Hrnuv6ivpOs7W9B0zxHpzWOtWkd1A3QOOVPqD2NfQZXnDwtKWFrX9nLXR2kn3X+RjUpcz5lueVfEHSPh5pHw7uNa0nTrGaa6XyrJ4XJBdh1xnsOa4HwX8Gtd8VW8V7dEadp8nKyyjLOPVVrpfFvwJ1PT/3/AIUuTf2kUnmrYztyp9uxro9A+N0FtOml+N9Kk0W6TCeYqHy+OOnavr4YzFUMB/wmVHWbbbb1lFdFyvX5nK4Rc/3isXtO+AnhG0twt2Lq9l7yO+39BXSaH8N/Cnh26S60zSYxcxnKSyEuyn1Ga6OzvLbULSO6sbiO4gkGUkjbIIqevhsRm2Y1rwrVZa7q/wCh2Rpw3SEoooryTQKKKKACiiigAooooAKCcCiq+oS+RptzKP4Imb8hSeiuVCPNJR7nm138Vbu21G/eO2imtkk8m0j6MxU/M5Pp2rvfDeuReI/D9tqcK+X5qnemc7GBwRXj3w60hdWuNV1C5XfHZ2jlARn53DY/rWx4V8Sr4c+EFzMGAuDeSRQL/tEDn6DrXm0a8/iqPRp/gfbZnlOHf7nCx9+Moxf/AG8v0sdW3i+4vPiAdL04r/Z2nwyS30u3OcDoPoawh8VdSk331voLSaUr7fOBOcD9K1vhj4dbTPD0t/qCk3Wp/O+/r5fOAfrkn8anste0STwnrqWFmLbT9NaSEggbZWxk4/E4rW9RxUnK17s4eXBwrSpwo+0UXGN728m/VvY6XRtXtNe0mHUNPffDKOh6qR1B9xV2uD+EFtNB4KeWbcEuLl3iU/3eBn9K72uunJzgmzwcdRhh8TUpQd1FtHOeMvFcXhfTFdI/PvLg7LeHPU+p9qo+EtA1lb5dd8SajM91Ih2WitiOMN6j1/lWLqCLqfx1s7e+bMNpBviRuhYKWH6/yr0o+p6VhD95NyfTQ9DEuODw0KEF704qUn5PZLt5h1ry/wCImo2tx440jTdSm2abaL9ruV/vEHgY79K9PjkWTlGDDpkHNeGfEuPzPiUUkHyuIV/A8f41OKk4wTXc34foQq4qfP0jJ+fY6/Vvi9p8NiDo9pLPdFwBFMpQY9c13F5qaafocmo3qmNYofNkTuOM4rzz4gafaxeOPC9osEcNu9yN7KoGcEcGt74s3bWvw+vBH1ndYj9Cf/rURnNKfM9i6uDwtSphYUItKpvd3dr2Og8PayuveHLTVvJa3W5Qv5bnlcEj+lWbHUbPU4nksLmO4SNyjNG2QGHUV55q2ryjQtH8G+GiHvrm3jE7oeIUK5OT2PNHweKWn9tabLIouIp1OzPJAypOPqKqNe81D8fMwrZWoYWpib2s9I9eVuyb/Q9IuLiG0t3nuZFiijG53Y4CiuP8Y+NTYR2uneHsXepagoMJTkKp6N+PatD4hR+Z4B1Vf+mOT9MivOPBvh7VNR8KajrWnkNflfstoWP3UH3yvoccD8amvUnzezj2NsrwOHlQ+uV5bS5Untd7X8u5X0HRr3V/iJbRJeyXUlpIJby63ZVCp5AP6V7oxCqSTj+leb/Ci+tbaO90Oa0+zapA5eYt96UZ/pxXU+N9UOjeDr+6Q7ZCnlxn/abj+tLD8tOi53Kzd1cXmMMNa1rRXnfrp0fTyMXwLqlvrHiLxHfGffcPcLHHGT92FBhSB6E5rK+MOpyPbafodqcy3Um9lHfnCj8Sf0rkPAN2+g+KtKvbs+Xaah5kLOTgYzjn6Niuj0sDxl8ZpL7/AFllpnKnt8vC/m2T+FYRqupSUOrf/BPVqYKOCzCeJ3hCN16r3UvvPStN0+PR/D9tYRABbWAIMdyByfzr5n+LzeZoNu/rf5/8davqG+bbYzt6Ix/Svl/4qjd4Vhb0vF/9BavSwv8AyMqEPM/J8xqOWYUm93dn05pjb9IsmP8AFbxn/wAdFWqoaE/meHdNcfxWkR/8cFX62q/xJerPcWwUUUVmAUUUUAc7498NP4u8EajosMoiluEBjZum5WDAH2yMV5nYfDrULS3XxB8UryObT9Bth9m0+N8oRGuFB7c4HHc17dXj3xm1S68QaxpPw+0Ribi/lWS6I/hXsD7AZY/QV9RkeKxM39Tg0oayb6pW96z6XSOetGNuZ7jvgVpk982teNNQTbNqkxig4xhA2Wx7ZwP+A161dXUFjZy3V5KsMEKl5JHOAoHeoNH0m10LRbTS9PXZbWkQijHrjufcnn8a5H4m+D9d8aW+nabpOoR2enGQm+DfeYfwn3A54+lcdWrSzPMXOtLkg+vaK2X3Fxi6dOy3PGPE/wAQrXxX8SrXUr+znvNF0x/9Fso+suDkMfqeT7DFey+CPixpPjLUG01rebTdQALJbz/xgeh9cdq2vDHgLw/4TsEt9MsY2kAAe4lUM7n1yelR6t4D0jVPFGla/sNrfadLvDwAL5o7K3tXp5hmOVYuCoxpyioK0Xf815vdmdOnUi7t7nT1478Xfib9njn8JeGfMm1Kb91dSRKSYgeqDHc/pXsI6VnReHtIg1mbVotOt1v5/wDWXAT5m/GvFyvE4bCVvbV4c7XwrpfzNqkZSjZHg/g60+Kmi6Clh4b0aOyt2cyvJNGA8rHuSfbArcfXvjRpTeZc6VFeRr1Cxhv5Gvbj83XmgcdK9SpxDGrNyqYWDvvo7/fcyVCyspM8as/jte6fIIvF3he6sz3kiU4H4GvV9F1a117RbXVdPLG2uoxJGXXBx7irFxaW93HsureKdT1EiBv50+KKOCFYoUWONBhUQYCj0ArysdiMHXSeHpcj663XyNYxkt3cdRRRXlmhma34c0vxDbCHVLdZNv3XHDL9DWBY/C3w5Y3QnaKS4KnKpK2VH4V2VFZSo05Pma1O2lj8XRp+yp1Go9riIixqqRqFVRgKBgAelcZ4o8G3fibxbp088y/2VAmZYs8sQc4x78DNdrSHgVU6cZx5WZ4bFVcLUdSnvZr7/wBRq7YowEAVUXAA4AArzfwOp8Q+P9f8QS/NFGDbwZ9+P/QR+tejyx+dDJFnG9SufTIxWP4S8Mw+FdHNjFKZmeRpHkIxuJ4/kBUVIOU49kdGHrwpYStG/vzsvlu/yR86ePtAs9N8aQ6jq80k9rJqP2d4X4SKPHH681yc+oac/wASEn0YKlmHRE2jAOBgke1e7fEDR7W41q6tr63WaCfbJtYcZ6ZrwjxjZ2+l/EC3gsIVghSCNgiDvg5Nc2Faq89N3vFP0PmclzD2eLjCV+eGnla/5nrWgP5fifTGHa6j/nXvXc/Wvn3QZQ2qaXN6zRN/48K+g26mngvgZ9/xNb6xCXkNoooruPlAooooAK5f4h+MrfwT4Tnv5NrXcgMdrETy8hH8h1NdRjNeLR6fP8T/AI2Xsmqwuuh+HH8tIZAQJWDYH5kZPsBXsZVh6VSpKviP4dNXfn2XzZlVk0uVbs47V/Ar6f8ABG68T64jHWr+9inDSfeSNiRg+7Zz+Va/xL8a3h+GfhXQ4pGEmpadFc3cpPLIBtC/iQSfpXX/ALQl15Hw2it1I/0m+jQL7KrN/QVznxg0O00/4ReF5HgH9oRRwWizd1QxlmX86+1wOMWKlha+JV3Kc2l20VvkjknHlUlHyOFi0vWPB2n+G/HccCwW7zgRov3iq/xN/vjdX1VY3kOoafb3tqwaG4iWWNh3Vhkfzrzr4sWdnZfAprZgoS3jtVgH+0No4/DNdD8LxKPhX4e8/O/7IMZ/u5OP0xXg51iXmGDp42StJSlH1W6+42ox5JOBxHx48ZrbaM/hWzSU3F0qy3MgU7UizwM+5FdT8GYFt/hLo4To4kkP1MjU74u20T/C3XZvIjMy26gSbRuA3qcZpfg4wb4RaFg5xE4P/fxqyxFWnPIacacbWnr5u25UU1XbfY7aiiivlToCiiigYUUVR1nWLTQ9Mkvr+TZFGPxY9gKTaSuyoQlUkoQV29jg/Emlah4K1yTxRoGGspj/AKbak4B561W1PxPqfxAnTRvC0UkFqyg3U7cEA9vp/OiK21/4m3YnumfTtBVvlUdZB/X+VMvbZPhx44sJtJlzp2oEQz2+7JHIGf1z+dea291pB/19x9zTjTSUalpYqMXbtp0fRyS2LPi2zHgjwVbaVoxMK3kwjurzHzAdzWELW31y1TQPB9mYrBTuvdVnXBYDqc9h7V7LdWdveQtDeQxzRk5KyLkV514p1E6rqCeDvCoS3iPzX00QAWJByRkVVakou99Oxx5bjnWjy8r51eTk3p/ia6tbJbEfhezTxH4ns5rNWXQvDy+VasRjzpMY3f1rzH9oeXztb3f3blB/45XrVh4+8L+HIoNG02OaS1gIjNwifLu7sT35rxv45yrPfySI25WvMqfUY4rqwjj7SKTu9b/czPE06zVWdSDjHlSjftzLV+b3fqeyfB5caBdH1MY/8dr0KvOvg5IDod2ndTET/wB816LRh/4SPHzf/fqnr+gUUUVueWFFFFABRRRQAUUUUAFFFFABRRRQAUUUUAFFFFACntSUp7UlABRRRQAUUUUAFFFFABRWB4zt/ENz4alj8IXMdvqW9SrydCueQPevK5PiH8S/B52eJtDW9hX/AJbbDz/wJa9nBZRVxtPnozjzfyt2f4mUqqi9Ue6Vka94X0bxNZm21uwiuVIwHZcMv0PWvMrD9orSJV26jpF1A/cxsGFWbv8AaD0MR403S767nI+VCuBmuunkOcUKilTpyjJdU7fiT7ek1ZsoP4D8afDnUHvPAF4dS0xmy+nztyPbH9RXqnhnUNR1Tw/Bd63px029kz5lsW3bMHA59+tYfw61nxR4g0271PxTZx2EM0g+xWwUh1THJP1OMV2Ncua4upVn7KvGLnF6yW79baP1KpxSV4hRRRXimoUUUUAFFFFABRRRQAVz/jnURpngnU5y2C0JjX6tx/Wugqpqel2es2L2epQrPbvjch71E03FpHRhakKVeFSorpNNnK/DDQjp/ggNcptk1FjK4PZMYUflz+Nc9pPwtvh4ixqsinSLeZpI4w2fNyeOO3vXqsaLFEscahUQBVUdgKdWf1em1FPoeks4xMKlacH/ABN/L0+Q0qCmwDAxgAdq8lXwD4jkup9BEix6LNeNdSTg8sD2/Xp6163RVVKMalr9DnweY1cGpKml73fo1s15kFnZw2FhBaWiCOGBAkajsBU/WlFFa2sjzm3J3fU43xp4OudXu7fWNDmFvqtr91um8f41i/2Z8Q9eX7Lf3cWnQdJJIzgsPwr0ykrCWHhJ3TaPXo5tWpUlTcYy5dm1dr0M7QNFt/D+jx6fas7qpLNJI2WdickmuT8beCbvX/FulahZCMRRsguWY4IVW3Z9/Su9oq50oziovZHJh8dWw9aVaD95pp/Moanoun6zJbSahbrK9rKJYWPVWqPxHoVv4k0ObTrt2jWQhldeqsDwa06WqcYtNNbmMK9WnKMoy1jt5HOeFvBWn+FlkkgZri7l4e4k+9j0HoK0bXw/pllq02qW1pHHeTjEkq9WBOTWlSUo04RSSWxdXF1605TnNty38zm/iHL5Xw/1diM/ucfrTfhzb/Z/h5pQ27S0bOR9XJzXRzQRXMLQ3EayRuMMjjIYe9OjRIY1jiVURRhVUYAFL2f7zn8rGn1pfUvq1vtc1/lY8z8QxtoXxm0XUYRti1AeVIQOCcFT+mD+FXvjAty/ha2S1jeVWulDhBnscfriu7ns7a5kie4gjkeFt0bMuSh9RUjorD5gDznkZxWToXjKN9ztjmnLWoV+W8qat622+445fANjf+BdM0i+3RTW8QYSoPmV25b9TWt4X8LWHhXT3t7EM7yNullf7zn/AArb6mitVSgndLU4qmPxNWm6UpvlbvbzZT1g7dFuz6Qt/Kvmb4o/8ihB/wBfaf8AoLV9K6+ceH70/wDTFv5V8z/FJseEbcf9Pa/+gtTwjtm1D1Pjcw1zKkvI+lvDX/Io6R/14wf+ixWlWb4aGPCOkD/pyh/9FitKuit/Fl6v8z6RbBRRRWQBRRSM6r95gPqaAbS3HCuO034fwWPxN1PxjNdtcT3abIYmXiDIAOD9Bj8a6pry2jGXnjH1YVVl17S4j+8vYh/wKtqWNlh4TjCVlJWfoYznSVnKS+80KKyH8V6PH968Q/TmoH8aaKDxck/Ra5HXpL7SM3jMMt5r7zeornT440Yf8tXP0Q1G3jvSR0aQ/wDAal4mivtIh5hhV/y8R01LXLHx/pYHCyn/AIDUD/EOyH+rtpWqfrdD+Yh5ng1/y8R19LXCy/EX/njYn6s1UZ/iFfZ+SKGL/eNZvHUF1MJZxhFs7/I9Ho49a8luviDqHIe/ghHsRWRc/EAgnztcUewes/7Qhe0YtmLzqm9IU5P5HuBdR1YfnSean99fzr59n+INn/Hq8r/7pNVG+I1ipx9suj9M0vrs3tTYv7UxD+Ggz6N82P8Avr+dHmp/fX86+bj8SLLP/Hxdn86cPiXZf897v9af1yp/z7ZX9o4r/nwz6P8AMT++Pzo8xP7w/OvnH/hZdn/z93g/OnL8SLJut9dD65o+t1P+fbD+0sSv+XDPozzE/vj86cCD0Oa+eI/H1g/TVJR9SRV+DxxESBDrf5yGp+vSW8GZ/wBsVIv3qMju/iPbbbm0uQPvKUb+Y/rXzn8RRs+IdsR1a0T/ANmr1q58QPqUQjn1FZ1ByAZAa8n+JIz4907aQd1qgyP95qeXzU8TVkla8WceW1FXzSU4ppS/4B3WgHy001mONpiJ/MV9G5zz6185QoUgjUcFUUfpXu3hjWotc0O3nRwZVQJMueQwGKMFNXcT9f4loS5aVRLRKxr0UuKbuUdWH516R8bZsWimmWMdZF/76o82M/8ALRP++qLj5Zdh1NWNEZ2jRUZzliqgbj7+tHmx/wDPRf8Avqjzox1kX/voUc1luHLLseMftGMf7J8Oox/dG8cv+Q/pmuh+MOit4p+Fay6EVuvsbx3UXlHdvQAqcY9jn8K3/HXhXSfHGhLp2oXi25ilEsU6MCyHoePQg1c0OPRPDHhyz0ezvoRb2kflqXkBJ9Sfzr6WGa0aOGwsoP36TlddGm77/gZfV6s5SSW54vfarrXxovtH8P2NlLY6ZZxo19M4IG8DDH+eB7177bwWukaXFbxbYbW0hCLngIij/AVnp4g8P2eRFd2kIbkiPAz78VBceLvDcsMkM99FJHIpR1xkMCMEV5+YZpSxbhSguSlHZXu9d3fqzengcQrtQbb8jh/H/wAVfCF/4O1XS7O+a8nurdoo1iQ4LHoc+lN+A3ijTJfB9t4bNzu1SBppjDtPCFsjn8azz4G+FSXLSeZdMuciMOdo9q6vQdU8BeF0K6Hbx2zMMNIsZLN9Sa9PF5hkscueEwzk23zXdt9gjl2Pc+aVN/czvqK5n/hYOgf8/Lf98GkPxC8P/wDPw/8A37NfJ+1p90dSy/F/8+39x09LXKH4j6AP+Wsx+kdRN8S9EH3RcMf9yl7amupayzGvam/uOwrmPHPhOTxXpUNvBc+RJDJvG77rfWqDfE/Sx923uG/AVGfilYdrOc/iKznVozjyyeh2YbAZlhqsa1Km1JbFGPwX4weBLabxIsNsg2qsIxgCtLSPhrp9jfRXupXc+o3MR3KZj8oP0qH/AIWnY9rCb/voU5PijpzH57OcfTFYx+rJ3vc9Cp/bUouKhyp78qS/LUv/ABA8TyaBoqx2fzaheHy4FAyQT1P60vg7wfHoPh2SO8Xzb69Tddu3U5H3c+gzXMajqnh7XvF+m6veX08CWXIgaPIYg5HNd7beJdHvW/cajAx9C2P51cHGc3Nv0OTEQrYbCwoU4NN6ydnv0XojyCCx1bWI4/CVvpS2qRXjPLMI9uEB4ye+B+dcD8YU8pRGDlUvNg/AY/pX1YjRP80ZRiR95SOa+V/jOhSR1P8A0EG/rWmFpKniIa33/I7J5g8bhqy5eVJLTzbV2et/ByUgXkXY28Tflx/WvUa8r+DqkyXL9haxj8//ANVeqUYb+Gjys6VsdP5fkgoooroPGCiiigAooooAKKKKACiiigAooooAKKKKACiiigBT2pKU9qSgAooooAKKKKACiiigBsssdvA807rHFGpZ3Y4CgdSahtbuy1WxS4tJYru1mXKspDKwp17Zw6hYT2d2m+C4jaORfVSMEV5bcfCXWfD0n2n4f+JLi0K8i0uGyn0Felg8Ph68Wp1eSfS60+9bESlJPa6N/wAT/CDwt4kDyC0+wXbdJrb5efcdK8zFh4g+CmrJPd2cGr6DLIA0wiBK/j1U/oa6VfiR478LN5PjHws93Gv/AC82Y6j144qLXfjZ4f1zw3e6bNoOoTSXMLRiGSLjcRgHPsa+vwcc2ilh6y9tRejtJO3mnfSxyzVL4loz1jRtXs9e0a21PTJRLa3Kbkb+h9x0q7XnHwM0XVdF+HuzWVeL7RcvNBC/BRCAOnbJBNej18TjaMMPiZ0oO6TaTOuDvFNhRRRXIUFFFFABRRRQAUUUUAFFFFABRRRQAUUUUAFFFFAwooooEFFFFABRRRQAUUUUAFFFFABRRRQAUUUo/KgZk+JJ4ofD975sqJ+5b7zAdq+YPifqdnceG7aG2uY5ZBdAlUbOBtaux8Z3k98+rmWZ3G6TaCxwBk14frLBbOIgf8tB/KuXCy58XGst4lZrkSw+KpVpzu7H2FpHjrQLbw9p0TXZLJaxKQqnghBU0nxI8OxKWe4dVHcpXzS/xB0+00m3jtFee5ESqVC8KcYrlrzxJqmpSlnikYf3ScAVa+s1JuUla7PbxVLK8PFRhJzl+B9U3fxs8H2nBuppG9EjJrDu/j7o4yLO3kPozrXzSLjUj0tlA+tBl1Q9IUFaSpSkrc1j56tT9o/dbXoe73nxvacnbLMgPZExWJc/FczMSftcn1fFeReZqveKOhbi/LbTHz6Bc1zSwUX8Ur/M4llUKr1cn8z05/iTvOfskjf70lRN8RWzxYD/AL7rz+KDVZuI7WQk/wCxVtNC1+bpauM+oxWP1Oit/wAzePDNGe1Nv7zsj8RJccWCf990z/hYlxj5bGP/AL6NcunhDX5P+WYX6vip08Da2fvyRr/wOj6vhVu0dcOEYy2pP8Tdb4iXp+7Zwj8TUbeP9TP3Y4F/Csr/AIQLVj/y9R/99Goz8PdSPW5T8GNL2WDXVHRHg99KJpN471c9JIl/4BVeTxhrD9b/AG/7oFUj8O70n5rj8iaP+Fdz/wAVw35Gq5cEuq+46I8I1ltQj+A+TxDqUud2pSc9fnxVV7+4l+/eSN9ZKsD4ekffuZPfC1IPh/ABzcXA/CrVTBraX4HZDhXGr4aUV80ZzNvOWfcfdqacegrRPgGIfdu7gfhSDwMu7H9pSJ/vLWsamGl/y8/Bly4czKC0pfc0UAM9Oad5bnorflWunw61Dg22p7gemFPNWk+HvigD/R7tn9P3Z/wrVewfw1F+Jz/2Ti4r34Nfcc95b/3G/Kk2N/dNdQPhx45cZRnI/wBw/wCFB+GvjkDJDf8AfH/1qfJH/n4jN4CfZ/h/mcvtb+6aTDdwa6NvAfjeDnGfqn/1qhfwv4ziHzwxN/vJ/wDWp+zj0mg+oVP5ZfcYVJWpJoviuP8A1lhbt/wECq7ad4jXl9Gjb6Cj2Le0l95nLA1V9mX3MqhiOVJH0NUpmmuPEtkHkZzlQCxzjmtTytYj+/oGR3wDWZe3NzBrdnO+mtbSpjbFz8/Na0sPP3uW2z6kww0aNWE6isrq+j7nqS6gYhumICDqx7VHB4+j0i7f7FNPGwOC8Z4auA1bxTdzadLbzae8IfqxzxWHDrBWMK0LNjuK8qhgaijeW59ZnGfRU1TwyTXW6/Rnu7/ES5uIlLa443DON+CKrHxaJfvawzH3lNeLf21H/FA4pRrVv3RxWrwdTuzyo5/y7UYntaa00v3NQZv+2pqUXlwel1L+EhrxNNbtx0d1/CrUPigw4Md3KuPc1m8HV6XO6nxJS+3S+6x7H9suR/y9Tf8AfZoN5cN1uZT9XNeWQePbiPGbrf7Mma0IviOox50St7qCKylhK6PRp59l0/i09UegNLI33pXP1Y0wVx0fxH04/wCtjkX6CrSeP9Eb70kq/VDWTw9ZfZZ6FPNMBJe7UX5HT0Yrnl8c6C3/AC+Y+qmpl8Y6E3S/T8qj2FX+VnSsfhXtUX3o2qMVlx+JtGlOEv4fxOKspqthJ9y8g/7+Cl7Gp/Kx/XsMv+Xi+8t4oxSJLC6gpc25B/6ar/jTwuRlZIm+kin+tQ4SW6F9fwqV/aL7xuBRil2yHogP0YU0rOOltI30xUnPLOMvh8VaP3jqMUzbdn7ljKfxFMaPUz9ywP4yCjQ5Z8R5RDfER+8moqlMNdjH7vTFb/trWVdal4ht+X0dlHqATWkYc21jH/WjKH8NZP0Oh4NFcVJ4t1KNsSW6xn0ZCKQeMtQP/LOL8q1WHmWuIsBJaN/cegW+pXtowNtdzR+yua4j4pTSXOk280zF5GugWY9zg1DH40ulYedbxsM84OKzPF/iGDVdBji8to5VnVuenQ124GnOGIi5bf8AAOLMMywOIwk40naTt0t1Pon4Mxg6DcT92ES/+O5/rXo9cD8GUVvh9BcKQfNYHIPXCgV31dNGPLBI+UzKp7TFzku4UUUVqecFFFFABRRRQAUUUUAFFFFABRRRQAUUUUAFFFFACntSUp7UlABRRRQAUUUUAFFFYfjObVbfwbqcvh8oNQSEtEXOAuOp+oGSK2oUnWqxpp2u7a7Ck7K5qm+tVvxYm4jF2yGQQbhuK+uPSp6+Y/h94p1Sw8RTeK9V0vUtdcwG1juI/m8vkbh+WK9I/wCF7aahxc6Bq0R7gxV9DjeG8ZQq+zorntu136mEMRGSu9D1TAIwwBHoRVf+z7LzPMFpBvznd5S5/lXmv/C+/D4+/pmpr9Yahvfj7o4spf7M0rUJ7vb+7jeIhSfc1zQyPNb8saTVx+2p9z1jiiub8C+I9Q8UeHF1HVtKfS5WkZVicn5lGMMM84/wrpK8atSlRqOnPdG0WmroKKKKyGFFFFABRRRQAUUUUAFFFFABRRRQAUUUUAFFFFABRRRQAUUUUAFFFFABRRRQAUUUUAFFFFABTJ32W8j/AN1Sf0p9NljWWF43+66lT9DQ9iotKSbPnTUT9ot7w/8APQN+teL62P8AQ1HpJ/SvsV/hnoshbDTAH+ENXz/8WvBFt4Z0h2t7aVWF6EEjEkFSCa5cHTlTrKEt2etn+a4bEVaXs0+2xxEEESxIUjUEqMkD2qwkEsg/dxu/+6pNdX4m0Qra6CNPsyhnslZtq43fKvNew/CDwbaQeE47nUUWefzpPlIyBzUqpKp8O54cPbVMPHEU4aN21PBLLwxreoYNtplyVP8AEYiBW7bfDjVDg3Mcq+oSMmvq9YkRQqIqgdAB0pdg/uj8q0lSk+tj0sPXoU1+9pcz9bHzJD4CjtlLyWNzLtGTuQ1oaR4ea9txNpmlM8eSAyx55+tfQl8oOn3IwOYX7e1cZ8IH/wCKIZT/AA3co/lXLLDt1FFyPpKGaUYYSdelQScWl99/8jiIvCOuSY8vTZAPdcVaTwL4gb/lyIHuwr2nBqG8uo7HT7i8uGCxW8TSuT2CjJ/lWqwUO5zPibE/ZhFfeeQj4fa+f+XdB9XFSL8OddPVIR9XrR+HHxZtvEfhm81bxTd2OmD7dJHbI0gDGIAEEj8cZ9qvan8bfAemAg6yt04HCWyFyar+z4eZn/rLjeyMQfDXWz1a3H/A6kX4Y6wes1uP+BV1/gnx9pPjyC6l0eK7jW1ZQ/2iEpncDjGevSrPiPxtoXha6tLXV7zZdXjBYbeNS8j5OM7R296f1GmS+I8c+33HGL8LNRP3r2AD2Bq1F8K5P+Wuogf7qV6RyKMmj6nSXQyef49/a/BHBRfC20DATX8reyqBVF9D8D2fiq28N3OpPJq1yC0dsGyeBnnHTgGrHxf+Jsfw/wDDyxWW2XW74FbSLrsHQyEe3b1NZfwa+GkuiW58W+Ky9x4i1EGTMxy0Ct2/3j39OlbLC0kr2OaecY6e9RnZxfD/AMPxf8uhfH95iade+BdAu9Pltzp8UZdcCRR8yn1BroqD0o9jTt8KMf7QxfMpe0d/U8w+F/8Aomp6x4evUSVrKQvE7KCR820j+Rr00Ron3UVfoK8z8Ic/GTxEV+5tkz/32len1lhV+7+87c8b+uOX8yi/m0riDilpKWuk8QTaO4H5UxoIn+9EhHuoqSkosh8zXUqyaVYS/wCssoG+qCqM/hLQ7j/WadEP93itiipcIvdGsMTWh8M2vmzkLv4baNOD9nMtu3ba2a8M+L3hWfwx4u8ONJKs8UrHYwGCMOvX86+oq8S/aIhEl74WfofPkTPpylehlWAhiMQ6cdG4yt/4C2dTzTFSUYVZ3jdb+p5742SM6SAyjLSgZ9qh8G+FtM1PR5bi7tyzeeyAg44AH+NdJqOnW94TDdp5gjc9/wAKm8L2gs9FEargNPIwHtu4/lXycq0oUbRdncz4+9th1GtGVlJpK3kiqPA2hE82hP1apo/Bfh+P/mGwt/vc17Jo3hXSb7QbSaaD95JECzA9TTpvh/prjEMksf45qvYYtx5lL8T4F4DNJxUlUvfzPHj4T0HGP7Ktv++ajPg3w83XSrf8jXqVx8OnGTbXgPs4rMn8D6tF/q1jlH+y1YuGMh1ZwVMNmVPfm+883vvCvhyytTKNNijbOFKDkn0qO28F6fJDvuLVIiTwAM8V0finRtQsH0+K7tmXzbkKv+0avtp96jESWsw/4AaznUrpatnJKeJXxOV/mcn/AMIVpXaMZ/3RR/wh1kB8oQfWMVb1HxToulymK91CJJF4KA5IrMb4keGhwLxj/wBszRFYuWqT/EcaeNmrxUn94TeCreT/AJZwN9Y6zZ/h7bSZ/wBEjP8AuHFbKeP/AA5Im7+0lX2KkGorDx5Y6trEdhpFrcXeT88wXCoPU1vCeOgrq6sbU44+N2lJWObk+HdshybSbHs9RN4G05fvwXa/Rq9SI+tc34i8caV4ecwTs1xdY/1MXJH1PatKWPxtSXLCTbLo4zHVZcsG2zj/APhCdIxw98h+oqL/AIQuxH+rv71PwFa0HxStfPUajpE1tCx4kxXc2c1lqNnHdWflzQyjcrADmt6uOx1H+J+hvWxWYYf+LdfceXf8IiVP7rWLtfwNN/4RjVAx8vWbkj6tXrIhjHSFP++RTliGeIx+ArH+18R5P5I5/wC1cS/+GX+R5bYeE9avHaOPxFJE452szc1dPgLxKvTxGT/wNq6xYi/i7bBGeOoUf7NdEum3kn3LWVv+AGnLMsTfSK/8BRTzHEvZJ/I8w/4QTxR28Q/+RGpP+EI8Wr93xB/5EavWI/D2qyfdsZfxWrcfg/WnH/Hrj6mhZhi39hf+AmkcVjpbU1/4CeMTeDPF8nEmqxS/7zZ/pWfP4H8WRKxVYJvZWHNfQC+BdXYZKRj6tUVx4M1i3Td5CyD0RsmtlmGMj8VJW9DrjjMzpq/s9PQ+e7aFrO9jtvEum3lsHYKJYhkflWt448HWmk+Fnvba4lkdJEGGAxg8V6ndWcsLBLy3ZcHIEid65b4hQ+b4B1DPVNj/APj4pUMX7bF00o8t3qgpZrXrYmnH4ddUdp8IdWGlaPpNkhxa3EC5BPRiM5/OvZa+dfA1wR4V0aVfvLEv6HH9K+h4JPNtopB/GgP5itsHUcnOD6Nnq5RiJVPaU5O/Kx1FLSV3HuhRRRQIKKKKACiiigAooooAKKKKACiiigAooooAU9qSlPakoAKKKKACiiigBa5D4q6k2l/C3XLiNtrtB5Kn/fIX+RrrxXm/x4Lj4UXioSA9xCG+m7/9Verk9NVMxoRf8yM6rtTbNL4QaWulfCnRkAAa4iNzJ7lzn+WK7B7aB+Wgib6oDXI/CjXf7e+HtlKLJrSO1AtUyciQIoG4fjn8q7Qc1lmEqqxdXndnzO+vmFNJwRVbTrJx81nbn6xL/hSLptijbksrZW9ViXP8qt0Ac8Vx+1qbcz+8vlQlFY2jeK9K13V9U0ywlY3ely+VcRsuMH1HqO1bNFSnOlLlqKzBNNXQUUUVmMKKKKACiiigAooooAKKKKACiiigAopRya5/T/HHh7VfFF34e0/UUn1O0UtNCo+7g4PPTgkUwN+iud8deMbLwJ4Rutbv1Mnl4SGEHBlkPRf6n2FcJ8E/ilrnxE1TWYdatYY4rWNJInhUgKScbD6+v4U+V2uB67RRRUgFFFFABRRR9TigAorm/CnjjTPGV7q0WjCSSHS5xA1wR8krEc7T3xiukoAKKKKACiiigAooooAK8u/aEi3/AAu3bQSL6Ik49mr1GvOvjwm74R3rY/1dzAw/76x/WvZyK39p0b9ZIyrfw2c74lcNofhbHA/saAjH+4K7n4YtnwmwP8Ny4/lXnF/N5/hHwjIec6PEPy4/pXoPwuk3eHLlP7t0f1UV85UXLmFWPm/zPs8VH/hCoteX6na0lLSV1HyRBenGn3H/AFyb+VcV8IB/xRLk/wAV5Kf5V2moHGl3R/6Yv/6Ca4/4RDHgND63Mh/UVhL+PH0f6Hq0v+RZV/xR/KR3JOK8e+M3hbxLqul63qzeIGtNCsNPMsVjACGmcD5t59Ca9gauE+M2u6do3wr1mDUbgRS6jayW1qmMmSQjOBXVD4jyThfhF8IfB+vfDfSdb1mwa7u7kSM++Q7flkZRx9BXqem/D3wlpQH2Dw9YxlejGIMf1rxD4cePfHK/D3S9A8F+FftP2YOp1CfPlnMjNx24zivRvB/hv4iyeIrfWvGviJEhjz/xLLVRsbIIw306/hVSvfViPR44rezhby444IlG5gihQAB14r4p17xBrvjv4rXuraC0z3hkkezER+aOGMEjHphVzX1Z8Vtbbw98KtevkfZKbYwRMP78nyD/ANCzXi37LXh5bjXdZ1+ZMi0hW1hJH8T8t/46uPxqoWSbYHr/AMJPHI8d+BYLy4df7RtT9nvUHXeBw3/Ahz+dduWVFLOwVVGWY9ABXz1r9refAr4qDxDp0Ty+FdbkK3UK9IiTkr9RnK+2RXpPxS8X22nfBfUta0m6WVb63WC1ljP3jL8uR7gEn8Klx10GeV+DLf8A4W7+0BqPiS/XztH0h90CMMqQpxEv6F6+kic15Z+z14cGh/Cu3vJF23GrStdOSOdn3UH5DP416lSm9bAFB5HpRTZDtidv7qk1mNaux5r8PP8ASviF4ou+28qPxkP/AMTXpleafB8eadeu/wDnpcqP/Qj/AFr0uubC/wAJM9rPdMfKPZJfckFFFFdJ4gUUUUAFFFFAAK8a/aNTZougXI6x3jjP/AAf6V7KK8i/aPi/4oCxn6mK/H6xsP6V7OSVPZ4+EvJ/kyJ7fNfmcgH8yNXPJYBj+NXtMOdPhP1z+ZrLsG36dat6xIf/AB0Vo6Rzpyj0dx/48a/Pa1+U9bxIV8Fh5f3v0PbPCxz4Xsj/ANM/61q1j+EjnwrZ/wC6R+prYr6Wl/Dj6HjYf+DD0X5Cigd6BS+taG5wHxSzH/YNz2h1BD+oP9K6TxXpt7q/hXU9P0i5FnfXEDRwzn+Bj3rC+LMZPg3zx1t7mOT9cf1rsLV/NtoZB/HGrfmBVPZHnUFbE1U/J/geXeE/2ffC2k6ZE3iGE6vqTDdPJK52Bu+0envXDXXgzw/P+1Rb+Ho9Mt00uCzDPaqvyOfJLc/mPyr6RFeDalJ9h/bMsXHAvLVV+ubdl/8AZa0jJu53ndv8FfAEkof/AIR+EEHOAxxXR6d4P8PaTb+Rp2kWtvH6InJ+prZXj8qdWUve0lqKUYyVpK54P8ZJtW+Hev2fiXS3huNKvQbZ9PlT5I5Ahww+vX6iofgD8O9N1nQ5/GPiOBb+7vLh1gEwyFCnDNj1Jz+Vbn7TcBk+F1tKBnydSjJPplGFef8AgHVfizaeBtOTwZaw3WkOsiwsI1Jjbed2c981pCnFR0ViI0qcL8sUj2vx9o3g3TvBOpTeIrS0itRA4UlQHLY4Ce+cV5/+zVo/2zwLqU+p2wktzfYtTIv+yN+PbOPxzVbTPgv4u8a6pHqXxS1qQwqdws45Mk+3oo/WvdNL0qx0TS4NN0q3S2tLddkcSDAAqZRhycg3SptWcVYhGhaYvSyi/wC+akOm6dAjSfZIVCgknYOKu1h+NL1tP8G6lcIcMISqn3b5f61j7OC6Iwq06NKlKfKtF2OK+Gtsur+LNa1x4lEW4pEMcDcc/wAhXqCqF6KB+FcZ8KrAWfgaGUrh7qR5SfbOB/Ku0q7Iyy6kqeFj3ev3i0lGaKD0AooopgV73T7XUITFeQrIpHccivEfiroTaT4c1e3TLQtbl4yfQEGvdq4T4t6eLzwTetj5lt5F/Aqa5p04+0hU6pr8zycwwsJctdLWLR5D8O5fN8D6fzkoHX8mNfRmiSeZoVk3rCv8q+ZvhXMH8F7O8dy4/PBr6T8Mnd4bs2/6Z1zYeLji6sfP9Tgyr3cdXh5/qadFFFeifShRRRQAUUUUAFFFFABRRRQAUUUUAFFFFABRRRQAp7UlKe1JQAUUUUAFFFFABWX4j8P2XinQLnSNTVjb3AAYocMpByCD9RWpRV06k6U1Ug7NbMGk1ZnmF14jvtB1yD4ffDvS4bibTbVWmmuHwsanB59T8wJ+tdP4bbxs2oFvFA0xLPYcLbZL7u34VxGnzDQP2ntShvDtTWrMeQzdztUgf+OsK9fxX0OaTjQjGlCCfNFS5ne7bV3+Jz07t+guMCkNFFfNdDpPHNQlPhb9p2yeDC2+v2ypMo4BYgqD/wB9IPzr2M14r44K6p+0l4UsYSS1okbyY/hwWc/oBXtZr6LOo+7h5v4nTV/lovwMKP2l5iUUUV88bBRRRQAUUUUAFFFFABRRRQAUUUUAQ3twbPTbq6H/ACxheT8lJrx79m2whl8H6pr8sSte32oyBpmXLYABxn6kmvXdVt3u9FvraIZea2kjX6spFeL/AAJ8XaP4b+D2o/25eR2v9mX8plRj8xyoIAHUkkEVoleLApftVXbjS/DVkp+WSaeUqO5AUD+Zrvvgr4K/4Qv4d2yXMezUdRxdXWRyuR8q/gP1Jr5x8feK9Y8beJrPxdqds9vov2sW9irj5VVCGI9z3Jr7NiuIbqCO4tXWSGVFeN1OQykZBFVK6ikLqU9a1iy8P6LdarqkvlWlqm+V8ZwPpUum6hbatpdvqNhJ5lrcxiWKTplSMg1X8QaHZ+JfD17o+pKWtryIxyBTgj0I9wcGvCvFXwo8UeEfB17cWPjLULjSdPi3rZxAh9megx6ZqIpMZ694o+JHhXwhbs+sarCJQOLeFg8jH0wK5vwR4x8XeO/FA1OLTP7K8JRI6qLhf3t0f4SPTHWuD8FWPwZ0fToNd1PWhqd8UDsuoElkb02dzXqvgb4laT441K8tPD1hdLY2UYIu3j2RMc42qP1qnFJAdpjFcZ8WfE6+E/hjq1+r7biaI2tuO5kk+X9Bk/hXZ1w/xJ+HY+Ii6bBdXrQ2diZpHgUczSFMJz2waiNr6gYv7OtpFb/B20ljxvubqeSUjqSG2jP4KK9Rrxv9mnUTJ4D1LRphtuNL1Bgy9wHH+KtXslOfxMAoooqACiiigAooooAK4j4w25ufhNri4zsjR/yda7euY+JUfm/DDxEvX/QnP5c/0r0sqlyY+jL+8vzM6vwM8lt5BL8OfCL91sXjP/AZWFeifChs6bqC9hMp/Na8v0Kbzvhh4c/6ZtdR/lMT/WvTPhN/x66p/wBdY/5GvLx8eTN68f70vzPtamvD1N+n5noVJRRVHxxT1dtuiXxHa3f/ANBNcv8ACZNvw8tG/vSyE/8AfVdLrhx4fv8A/r3k/wDQTXPfCrj4dWH+9J/6Gawf8Zeh60NMsn/jj+UjsGrgvjW9lD8IdbnvoIpXWDy4GdQSkjsFBHoea7014/8AtCQavrOi6B4b0a0mmXU9QHnSRoSq7QAob05Yn/gNdUNWeS9jqPgxYtY/Bzw7G4wz25m/77dmH6EV3Aqtp1hFpWl2mnWwxDaQJCgHoqgD+VWh1pS1YHjn7Tl69t8MLW2Q4W71JFYeoVGb+YFav7Puh/2N8I7KZ12y6lK923HUE7V/8dUH8a2Pij8Ox8SNDsdOe9NkLW7E5cJu3DaVI+uDXW6dYQaVpltp9lHst7WJYYl9FUYH8qrm9ywWK3iDQdP8UaFc6RrMAmtbhdrA9QexB7EetfNuv/CH4gWksXgywle/8NSXguYJi3yw8EZb0wCeK+pMe1LzSjNoLFPTdPh0nSLPTrUYhtIEhQAdlUD+lWqQsB1OKQyRjq6j6mo0HZ9EOqvfsU026I7Qv/6CaV720j+/dQr9ZBWVrniHS7bRrwm/t2byHAVZASTtNZznFLc6KFGrOrFKL37HLfBhR/wjWoSd3vMH8EFei1wPwdhaPwVLKy4E127L7gKo/mK76owytRijtzmXNmNZ/wB4KKKK3PJCiiigAooooABXmH7QsPmfCiZz/wAs7yJv5j+ten15/wDHSLzfg/q3GdjRMP8AvsV6OWP/AGyn6kVPgZ5LoL+Z4fsH9YE/lW3pi4sgP9tj+prnvCzBvCunMP8AnkB+RIrqLVPLtIf9obvzNfEYpWk15nreIMubKsPLzX/pJ674Obd4VtB6Aj9TW3WH4M/5FW2+rfzrcr6Gj/Dj6HiYX/d4ei/IUUtIKXNanQct8SYRN8P9SXuqK35MK0/DU32nwrpU39+1jP8A46Kj8XwfaPB+qR9c2zn8hmqfw/l87wBpJznbDt/IkU/snBHTHS84r8GdL3rwbx+Ftv2rfBk3TzIYQT/wKQV7zXgXxgYRftD+AphwT9nUn/t4b/Grp9TuZ74p+Y0FgvUgUL941yPjZdTb7P5YlbTww4s+JvP/AOWZP+xu6/rUdRmd8cdHbWPg/rSRgtJaql0oH+wwJ/TNcz+zFrAvPhzfaYx+fT70kDP8MgBH6hq9WtbW6vvD32PxCsUktxAYrgRfdIYYP868R+CnhbXfAvxa8RaHdWk39mtbnbdFTsfa4MZB9SGNa/YsB77RRRWIBXDfFu5MPgxYVODPcIv5ZP8ASu5rzX4yOTZ6TCP4p2P5DH9acdzzs0ly4SXnZfidr4WtjZ+EtMgI5W2Qn6kZ/rWrUVrH5VnBGOAkaqPwFS0HdTjywUQooopFhRRRQAVheNLcXPhO9jI6xEfnxW7Wb4iXPh66/wBzNZ1fgbObF/7vP0Pl74St5en6pascmK4U/wAx/Svpzwg2/wAK2nsCP1r5g+Hym18aeJLQ8BZGYD6SEf1r6Z8Evv8ACtuP7pYfrXPtmFRd9TxsFZZlV80n+Ru0UUV2H0QUUUUAFFFFABRRRQAUUUUAFFFFABRRRQAUUUUAKaSiigAooooAKKKKACiiigDzX4yeEbzVtLs/EWghhrGit5qFB8zxg5IHuCM/nW/8PvHdp458PJcoViv4QFu7fPKN6gehrrOxBryPxd8M9W0jxAfFPw2m+y3hJaezBwsnc4HTn0r6HC1KOOwyweIlyzj8Entb+V/ozCScJc0dup63VLWNXstC0i41LU5lhtrdCzMT19h6k15Onxl8U2UX2bVfBlx9tUYJjVgrH1xVZfDHjb4ralDN4x3aPoUTb1tF4Z/oPX3NbU8hnRftcdJQprzTb8klvcTrJ6QWpP8ACKxu/FfjnWviFqsbIkzNDZK3vwcf7qgL+Jr2iq2n6faaTp1vp+mwLb2tugSONBwAKs15OZYz67iHVSstkuyWiRrTjyRsJRRRXnFhRRRQAUUUUAFFFFABRRRQAUUUUAKDivJ9Z+AHhG/8S3Ot3VzcW1nK5uLm0VwsW7qxz2HWvV68g/aM8XTaH4It9E09yt3rchjbafmEK43D8SVH51cL3sgZ4v8AFvx1beKbq20vw3ZLa+F9FkMNoETAdiOWz7gcD05r690pY00WyW3UJEtvGEVRwF2jAr5u+KXgm38C/AHQNOSJftkuopPeS45aVoWyM+g6D6V9GeHiW8K6Qx6tYwH/AMhitKlrKwkX6RlV0ZXUMrDDKwyCPQ0tFYDOKufg/wCA7u8a6l8OWvmM247chSfpXWadptlpFklpplpDaW6fdjhQKBVmindsApQcUlFIDyfwd4U1Hwj8evERtrZ/7D1m0N2soHyJJvB2/UEt+Br1mkopt3YBRRRSAKKKKACiiigArB8dJ5nw+15PXT5v/QDW/wBqy/E6B/B+sqehsJv/AEA12YF8uKpv+8vzIqfAz598Lvu+GWjKP4Lq7U/99Kf616p8J/8AUamP9uM/oa8k8IZ/4V5Yqf4b64H6RmvWPhO3/IUX2jP/AKFXPnCtnmI/xM+0evDkP66nolFFFZnxxW1KH7RpN3COskLqPxBrg/hnr1jpvgQw6ndx272lzIjLI2DgnPT869Frk7j4a+HbrVJL2aB8yMXaINhCT7VhUjPnUoHr4OvhfYTw+JbSbTTWu19PxM29+Ktj5xh0WxudQcHAKrhSaq/8JB4/1Y7rDR4rOM9DKOf1rvbLSrDToRHY2kUKj+6oq3S9lUl8U/uNvr+Co6UMOn5yd/wVkec/2f8AEmflr+2h9himtoPxEc861Ev0NekUUvqy/mf3i/tqotqUF/26jzkeGvHx6+IUFL/wi/js9fEgr0Wij6tHu/vF/bVf+SH/AIAjzn/hEfHDfe8TkfiaX/hB/Frff8VSe+M16LS0/q0Orf3h/bWJ+zGC/wC3Y/5HnP8AwrfW5ebnxTck+2aUfCuST/j58RXzn2bFei5pKPq1L+mH9uY7pJL0jH/I8/T4SaYP9fqN7Kfd6tx/Cfw4jBpFnlx/ek612tFUsPSXQylnOYS/5ev5aEFjY22m2MVnYwrDBEMIi9BU9FFbWS2PLlJyd3uFFFFBIUUUUAFFFFACiuJ+Ma7/AIQ6+PSFT+TCu1Fcn8VYxL8J/Eit/DYu35YNduAly4qm/NE1PhZ4N4Obd4RsP90/+hGu2ePy4LVf+mCN+YzXB+B2z4NtPbeP/HjXoV6MfZR6WsP/AKCK+Rxy/eT9Wd/HkubKML5tf+knpvgz/kVbb6t/Otysfwonl+F7If3kJ/U1sV7lH+HH0PLwytQgvJfkFFFB6VqdBn6//wAi5qGf+faT/wBBNYfwyOfh/p+exkH/AI+am+Ieqrpfgy9IOJLhfIjHqW6/pmsDwz4x0Hw14N0+zurvzLhYt0iRrnaSScfrVWdjx54ilTxrc3a0f1PRa8k+Mvw71zxTr/hzXPCwja902YK6yNgABw6v+BByPetmb4tWzMRZaXdTDscdajX4rTL/AKzQLkD1wf8ACnG8WbPMsL/N+B6MhJwXxuxzjpmggHrXnyfFmzU/6Rpd3H68dKtxfFjw+/8ArBcR/VKWpUcywkvtnbZoz9a5KP4neGXHN26exQ0//hZXhn/n+P8A3waNTT69hv50dVk0ZNck/wATvDKf8vbt9ENV5Piv4eT7n2iT/dSkS8fhV9tHa5rzT4vf67Q89POf+a1Yk+LVq/Fjpd1M3bisPWpfEPxAuLOEaK9pDDLuErZGM+pNNJp3PNx2LpYmj7Ki7ttfmevjt9KKbGnlxomc7VAz606pPfCiiigAooooAKo64M6Hd4/55N/Kr1VtRTfps4/2D/Koq/w36GOIV6M15M+VNGP2b4061COkysf0Vq+k/AvPhhP99q+bLhha/HND0+0Qj8cx4/pX0l4E/wCRZX/ro1c++KUu8EeFgdcbGXeCOiooorrPowooooAKKKKACiiigAooooAKKKKACiiigAooooAKKKKACiiigAooooAKKKKACiuS+IPxAs/AOlwT3Nu9zcXTMsEKnAO3qSew5FeZab8Q/iN47vJbfw0thaYXeVyNyrnGcn617mEyPFYmh9Zdo0+8nZGM60Yu3U7nw14xv734yeJvDOqFXggRZbJdoygAGR+O4GvQeT16e9fMOqaL4y0z4q6dDqmspa6zrSBFvojwAflwf++QPyqr4nj1yx1waLpviq917Uy22SO0ZiqH0z3NfSYjh6hiasPZVopOKel2tFZu+1rmEa7itUfUsk0USlpJY0A7s4FZX/CXeHv7Ui05dYtGu5mCRxLICWb04rxrw/8ABPxPq0KT+Kdbnson5NuspeT8ecCu/wDDfwb8K+G9St9Qjimu7uBw8ck752sO+PWvExGAyvCqSliHOXTlWl/U2jUqS+yd9RSnrSV80bhRRRQAUUUUAFFLXBWvjufU/iDqmnWr29nomgKf7QupzzI54Cqe2Dn8q6sPhKuIUnBfCrv+vMmUlHc7yiuAi+NfgybV0sEv5Bvk8sXDRkR5+vp7134O5QQQQRwRRiMJiMK0q8HFvuEZRl8LCilxSVylhXzz+0MVg+KXgm5vOLFdhdiPlGJwX/TFfQ1ct8QfAOm/EPw2dM1MmGWJvMtrlRloX/qD3FXB2YmedftR3CjwLotupDm41DzEIOdwEZ5H/fQr2PR4WttB0+B+GitYkP4IBXimgfALVj4h0+bxn4iOp6ZpbBra2UsdwByF56DgZr3cnJqptWsgQlFFFZDCilxRg07PcQlFVdT1O00fS7jUdRmWG1t0LyOewqDQNcsvEuhW2raWzNa3IJQuu08HB4+oq/ZT9n7S3u3tfzFdXsaNFLikqNhhRRRSAKKTcNxXI3DqM8inYp2ewCUUfSijYArO8R/8inrH/XjN/wCgGtGszxO4j8H6yzdBYTf+gGunCa4in6r8yZ/Cz538Ij/i31of+n+f/wBAjr0/4Uv/AMTLUU9YUP6mvM/CC/8AFtrRx0Oozj/xyOvRfhY2NfvF/vW38mH+NY51pntf/Ez7Wn73DkfT9T1Oiiisz4wKKKKACiiigAooooAKKKKACiiigAooooAKKKKACiiigAooooAKKKKACiiigBR1rlvicM/CvxP/ANg2X+VdRXMfEv8A5Jb4lz306Uf+O1tRly1IvzBq6sfO/gN8+D4f9mRxXot82ZYB6W8I/wDHBXmvw9OfCYHpM4/QV6BDN9pWGQfxKoH4DH9K+azDSvNf3jXjeV8swS7/AOR7Locfk6DZL/0yX+VX6itU8uxgQfwxqP0qWveirRSOemrQS8go60UVRZl6/wCHrDxHZLa6krFEcOu1sEHGKoaf4A8Oadgx2CSt/elO6ujoouznlhqE588opsghsrSBcQ20KD0CAVKY4j1jTHptFOopG6hFaJEEllaS/wCstoW+qCqk3h7R5xiTTrY/9sxWlRTuQ6NKW8V9xgv4J8OSHLaVB+Apv/CC+G/+gXD+VdBRRdmf1TD/APPtfcYcfgzw7F93Srf8VzVmPw3osI/d6ZbD/tmK06KLsaw1CO0F9xBFYWkH+ptYU/3UAqfoOOKKKRsoxj8KsHeiiigYUUUUAFFFFABUd0M2U3+6f5VJUdz/AMec3+6f5VM/hZnV/hy9GfJ3idRb/GTQ5R0lRAf++mWvpXwOMeGk93avmr4jk23jXw5dY6ORn6SD/GvpnwYu3wzB7sx/WueCvKlLvD8meDlqvVpT/uW+5m5RRRXUfRBRRRQAUUUUAFFFFABRRRQAUUUUAFFFFABRRRQAUUUUAFFFFABRRRQAUUUUAYPi7wdpXjTSPsGrxn5SWhmT70TeoryO20vxl8G7+WWwso9b0SQ5cpH86j3I5B/SveqCAVIYZB6g969rB5vVw9J4eouek/sv9H0Mp01J8y0Z89+PNf0z4p2ekT+GJ1tNbspijW104iYK3dW6HBH616r8Pvh/pvgnSE8tUuNSmUNc3p5LE9Qp7DNZ3jH4O+H/ABSz3Vqn9magefPgGAx/2lrziSy+KXwxkP2SSXU9OT+6DKhX/d6ivouanmeDjhMFW5EvsS0b8ubquxz2dOfNNXPojnvR9a8h8M/H3Sr6RbXxRaPpdxnaZVBaPPuOor1m1uYby0iubWVJoJlDRyIchge4r5LGZficDLkrwa/JnXCpGexLSUUVwFhRRRQIKKKKADcE+ZiAq8kk+lfMvhjw0/xG+JfiG1t9QeHRTdvd3RQ4MybyEAHvz9K968e3r6d8PdduYjh0spApHbIx/WvD/gXcDQvHU0d9KsMF5pH2ku52qFBDAkn8a+2yONWhlmJxVF+/ol8t36nJWtKpGL2Os+M/hbQPDnwjWLS9PgtmiuolikVfnJ5zk9TxmvTPCDTy+CdEa5z5zWEJfPXOwV5D4v1QfGD4haf4W0FjLo2nyeZd3Sj5W7MfoBwPUk17dcXFvpGly3DDy7azgLED+FEX/AVxZn7VYXD4as26rbk77rmtZfqXTteTWx4p4j8aeL/FPxPuvCvhG/TTRaGRI8nBmZBlsn88Vv8Aw7+I2rT+JpPBvjmDyNYjz5M2MebgZwffHII61znwVg1XV/iFqni670/FjqEczJcsBgOZBwv4ZFX/AIjgL+0H4LazC/am8rzSOpHmN1/DNexi6OGqVJ5eqcVyQupLdSSu7vqZRcklO+7O8+InjmDwL4bN6UE17OfLtIP77+p9hVH4Y2/jVbW8vfHN0HF3sktYCBujBBJz6dRxXI/GSSPTvih4P1bWomk0K3P70hcqr78nI/75P0Few2Oo2eqWaXem3UV1bvyskTbgf8K8HEU44XLacYQv7RXcu1nsu3mbRblUd3sT55rA8b+KYfBvhG81qZPMMICxR/33JworfzXk37RTMPh9ZJkhH1BA/v8AK1cGU4eGJx1OlU2b1Lqyag2jqfhprfiXxD4ek1DxVaQ23nMsln5YxvjIzkiua8V/ELxJe+Nrjwf4Aso3vbZQbi5l/g4BOAewyOa9L0uNItHso4f9WlvGq/QKMV5f8RtNu/BfjC1+I+hxl4lIh1W3X+OM8bv5fiBXo5dUw9XHVZOmrtPki/hv2/rqZ1FJQVmchr9n47svF2j6P4m8WTWzauD5U0JPlo2cBTj3rv8Awr4D8ZaD4gtrm98XyXunox862cE+aMdOelYnxlvrfVLzwDcabIsq3N8JIWU9VJSvZmPWuzMsxrLB0vcivaJ3XKt07adUTTguZ67HlH7QuoNb/DqCyjO1r69RD7hQTj88V6NoGnx6T4d02xhQRpb20ce0eoUZryj9oJvOuPCVl1E14xI/FB/WvaCAOF6A4Febjv3eV4WK680vxt+hcNakjzHwVrl4fjV400S/uZGjys9tG7cKowPlH0YV6bXjHjSX/hFv2i/DmsoQsOqxrBN6HJMZz+amvYb28h02xuLy6YLDbRNLIx/uqMn+VLNsOpVKNSktKkY7d9n+I6cnZp9Djtc+Iqad8SdJ8I2Fn9snu2H2qQN/qFOSP0GT7V2zSLGjSSHCoCzH0ArxH4JWc3ibxj4g8c6kCzvKYYNw6M/Jx9F2j8a9i1rI8O6mV4YWcxH/AHwaMywlDD4uGEp7pJSfeXX/ACCnJyi5M8J0efx/4t1/VPHHhGdFT7S1qtq7/K8ajjg8ccfia25Lf406432eaa30yM8NIhVePw5rY/Z5Ib4W4ByVv5gw98Ka9KvL210+3e4vriK3hQEs8rhQPzr18dmsqGLnh6eHg+V8qbjd2W3qZQpJx5nJnN+APCN74R0m4h1TWJtUubqQSu8hJVDjoua6qsvw/wCJNM8UWMt7ok/2i2jnaAybSAzL1x6jmtSvk8VUq1K0pVlaT30t+B1RSSsgrB8dP5fw915hxjT5v/QDW9XL/EyXy/hd4hOcf6Ey5+uB/WtsvV8ZSX95fmTU+BnjHhKHb8I9Nl7vqdz+ioP6V23wxfb4qkX+9bN/MVzXh238v4G6HJ/fv7hv/HiP6Vv/AA3bHjKIf3oJB/KuLOnfPKz/ALzPt8F7/DtvJ/mev0UUVJ8WFFFFABRRRQAUUUUAFFFFABRRRQAUUUUAFFFFABRRRQAUUUUAFFFFABRRRQAVy/xLGfhf4hHrYyfyrqK534gp5nw419T/AM+Ep/8AHTVQ+JFw+JHzT8OWz4YkH92dj/46K7nwk32zTtOPXewH/j+K4D4ft5fhG7cfwyOf/HRXe/C3/SLPSV64uCP/AB/NeLj4XxEn/eFxb7+CwET6BAwoA7UUuMUlewTawUUUUAFFFUNb13TfDumPf6zdpa26Dqx5Y+gHc1pTpzqSUIK7YNpasv0V43P8XPE/ia6eL4e+HJJ7dT/x9XC9cfoK6z4W+O7nxxod2+pW6QX9hP5MwjHytkZB9u4/CvUxOT4rC0Pb1ErK11dXV9rozjVhJ2R3Ncr4+8bweBdHtr2a3Ny9xcrAkStg4PU/gK6o5JHFfM/xu1uTxF41ng00M9t4fgxLIp4Dlhk/gSB+Fb5DlscwxfJP4Um3+i+bJrTcI3PpZH3xq2MBgCM0tZfhnUW1fwnpOoP9+5s45GPqSoz+tcZ8SPHur6PrFn4a8H2n2nWrqPzSSmQidBj36/TFcGGwFXFYh4enur3b2Vt2zSU1GN2ej0V4Tcaz8ZPDCjUtSt1vrYcyRBA+B+HIr0T4f/EvSvHdqY4f9F1KJczWjnnH95fUfyrqxeTYjDUvbRanDvF3t6kQqxk7bHZUUpFJXimwVHcXENpbvPcyLFFGMs7HAAqSvPPiNfSarqNh4UsX+e6fzLjb/Cg55/Ims6lT2ceY7cDhfrVdU27LdvsluzvbO8ttQtEurKZJ4JBlXQ5BqavPvg40n/CNX8RYtDHelYs9hgZrofGviGbwzoJvLWFZp2kWJEY9246d6UaqdP2jNK2AlHGywlN3d7I6AkKMscD1rKv/ABLpOmTQx3l7FG0+7ZzkHHWuKi8M+M/E0qyeINUNhatyYIDg49OK4r4g6Omg+IYbGASfZEgUxtIxJbJ+Y5+tc1XEzjDnUdD2cDkmGxGIVCdZOVm3y7fee46VrWn63A0umXUdwiHDbTyD9Kq3fiCx/tebQ1ZmvBbNOQBwqj1PrXBfDOH+xtL1fxLdqbexePbEhP3gpzn+g+tXfAME2oWWt+Kr4HztQZkhz2jXPT2z/KmqznBd2n9x52YZdSw1PEz5rxgrLzk+ny1ueK/FkbP7Euv4kuJFB/75NfS3gw58K2p/vAn8zmvmz4txF/DlnMP+Wd5j6ZU/4V9G/D5/N8A6TL18y2RvzFaYf3qVGXk1+J8LlGtOnLykvxR0VFFFdJ9AFFFFABRRRQAUUUUAFFFFABRRRQAUUUUAFFFFACZozTM0ZpgPzRmmZozQA/NGaZmjNAD80ZpmaM0APzRmmZozQA/dS7+MHpUeaM0Ac/r/AIA8MeJATqmlQtIRjzY12N+YrX0nTLXRNHtNM0+Py7W0jEcSE5wBVnNGa3qYmvVpqnUm3FbJvYSik7ofuozTM0ZrAY/NGaZmjNAD80ZpmaM0Ac78RYTc/DXXo1PP2Nz+XNeD6dpFprHiDwHZ3u8WmsaOLWRkbacqzjg/VRX0fqtr9v0W9s+P9It3i5/2lIr5k0q+NnZeCZZDifRdamspM9QDIrj/ANCNfccP1Z/U5wpuzTf4xdvxRyV0udXPo3wt4R0fwdpxstCthErHMkjcvIfUmsP4yar/AGX8KNWdSQ9wqwKR/tMAf0zXbE4Yg9c15t8ebaa7+E9yLeMuYbmKV8DogyCf1FfP5XOVfM6U6ru3Jbm1RWptI6P4dacui/DTRLaTEYSzWWQ9AC3zkn86838FM3xB+PGpeKsbtN0gGO2YjgnBRMfhub8ak8ZfEm3vvAWk+HfB8pu9V1a2it3SEcwrtCsv1JGPpk16H8P/AAlD4J8I22lrta5b97dSgffkI5/AdB9K9Orz4DDVq1VWq1m0l1Ub6v57Ga9+SS2Rtazo+n6/pslhq9sl1bScFGHT3Hoa8M1jT2+EvxE0iHwbqs1yuoTBZtLZt21SwGD9cnHfivc9XkvItFvX0uNZb1YHNujHAL4+X9a8x+F3w3v7TU5PFnjUtLrEjEwQyHcYs9XP+16elZZTiI4fCVZ1p3hsob3bW/lbuOpFuaUV8z118b+K8y/aAh874UytjmK7ifPtyP616UTk1wvxntxc/CTWARkxiOQfg4rz8lly5jR/xL8S6v8ADZ1HhW6+2+DdGuO8ljCxI/3BV3ULKDVNOuLC7QPBcxNG6kdQRiub+GUvnfC7w++c/wChKv5cf0rqc89cVxVr0cTLl3Un+DLWsT5j8PpfTfFLwv4SvyXi0DUpo4/UoHL/ANP1r6fZs7jXleleA9Ttvj9qHiaaJP7MZGlikzyzsgXGPbk16iTwa9viDFUsRWp+ytZRW3d6v8TKhFxTueMfHzMWveDbg8ol22f++0Ne2Nw2B615h8a/COreLdB0tdBgE1za3RJG7BCsMZ/AgV6NDvW3iWU5dUUMR645rnx9WFTAYVResVJNdtbjgmpyPH/2h4PIsvDusoDus7tlLDtnDD/0Gtn44eKFsfhmsUD4l1kqiAd48BmP5YH41tfFXw7J4n+HeoWdsm+5iAuIFA5Zk5wPqMivH/CWn6z8T/FWhQ63BJHpfh+2SKUyKQH2c45/iYgA+wr38s9jVwlDFVWrYdyuvxj+JjO6lKK6ntHwx8P/APCM/DnS7J02XEkf2i4H+2/zEfgMD8K6PUvm0m8U9GgcH6FTU2c+1MmjE8EkLHAkQqT9RivjpV5VcV7ae7lf8TqtaNkeB/CjwhN4q+HsktjrN3pN3Z6jKsclu3ysGRSQw7/Wug/4UhPeTef4s8W3V3axnc6btox7kniuY8MeIfE/wmTUvDx8Nz6gZLsywyqrbTxjOR1BAFax0L4k/Et1XxBc/wBh6Q5y0K/KWHptHJ/Gv0HESxlPEVKyrQp0m7qWjdvLqcUeVxStdnr3hm00ew8OWlv4b8r+zUUiFojkNzyc9znvWrmsvQNFtPDmg2mkacpW2tY9ibjknuSfqSTWjmvzmtLnqSle93u92dy2H5rhfjPdfZfhLrDf89fLiH4yCu3zXmH7QF6Lf4YiEn/X3sa49cBm/pXpZJDnzKiv7yf3GdZ2psybO3EHwC8MADDM5kP/AANnNTfDw48bWv8A1zk/9BrT1a0Fp8G/D0A/5Z29tn6mPJ/nWT8Pj/xW9r/uSf8AoJrwMwn7TNJz7yf5n3OX6ZBJeTPZc0ZpmaM10Hxg/NGaZmjNAh+aM0zNcL8WPGMvhbwoINNYnVdTf7NaKv3hngsPpnA9yK6cJhp4qvGjDd/1f5EzkoK7KPiz416R4c8Qx6VaW7agySBLqSNgFj5wQPUiu71vXLHw9ok+rapI0VpAoZ2C5PPAGPXmvnzxH4Gg8OXvgTQZQJL/AFK7We/mzkszOo259AMivo25ghuImhuI0libgo4yDXt5phcDhlh5UU3Fp37uztfyv0MqUpyvc85T48+GC48611GKPP8ArGg4+tdRoHxB8MeJXWPSdVhkmbpC52ufwNaz6Xp7p5ctjbsn90xDFeL/ABr8NaJocGkXOgWS2WsXl8Eje3O3gew9ytPD0cszCp7ClCUJO9ndNaa67CnKpBXZ7tmjNRRblhjWQ5cKAx9Tjmq+p6lb6RpV1qF62y3tYmlkPsBmvnIwlOShHVvQ6G0ldj9Q1Oy0mza61O6itYF6ySsAP/r1w918cPBlu7pDc3N2ynH7iEkGuO8N6DqPxk1WXxH4rmki0KGUpaWMbEB8H+Q7nua9a0/wtoOlWqQWOlWsSKOMRD+dfQ1MNluAfssTzTqLdRaSXlfW7ME6k9Y6Ir+EfGuneM7O4uNLiuY1t3COJ49uSRnj1roc1BDDFbptgiSNfRFxUma8GtKnKo3SVo9E9TaN7aj80ZpmabJKkUbSSsqIoyzMcACsStXsRalqdtpOny3t9II4YlyxNZnhXxbZeK7OeeySSMwSbGSTrzyD+NcXeTXfxK8QLa2u+DQLKTM0vTziD29af8JEWO/8RLEMRLOioPQAvj9K5FWk6qS+Fn0E8tpUsDOc3+9jZtdEm7Wfn18j04tgZNQxXttNIY4biKSQdVVwSPwrN8SaZc61osllZ3zWTuw3SqMnb3H415pfaAng3x14di027nkluJh5zO33gWAPHpgmtKtSVNrTQ5cFgaOKpu9S07NpW7K+rPYywUEtwBya4K++LWk2upm3it5p4I32Szr0XnGR6128i+ZG6HoykH8a8L1nw7quhWupaW9hvs3mWc32OiLnAz+NZ4mpOmk4nXkeDwmLlOOI30sr233fnbsd5471+6vr6z8L+H5SLq/wZZUPMcZ/lxz9K3PF1sLb4X61bB2k8nSZk3ucltsRGT+Vcp8LNMlu5bvxNqGWlmPk25bso+8R+QH4Gul+I05g+GPiNxwRp0w/Ncf1rpwMZVakZP7TRyZq6eHawtL7G77y6/dsfMfhJjD8P75x3Z8f98gV6H8Esyy2qHny7p8flmvOtH/c/DJj/wA9JT/MD+lek/AVS12/+xM5/wDHRXHiI81aT/vnn8RLnhhIdlH8T34mkzTCc0ZrvMWPzRmmZozSEY/i7xXY+DvDk+q6i2QnyxRA/NK56KK8u8P+C9a+KOpReJvH8skWm53WmnKSoZe3HYfqa3Pil4Z1XxB4m8LzW9kdQ0mzuQ13bq+3qw5PtgV6bgLhYwAq8AKOAK+khio5dg4PDNe1qXvLrFXtZdn5mDjzy97ZGPrd7YeC/BN9d2sMVrbWNsxjjRQoLY+UfUkiuG/Z/wBKls/Al1qdxnzNVvGlGR/Cvyg/ic1mfFvVp/F3ijTfh7ob7nklWW+deQncA/QZY/hXrWl6fbaNpNrptimy3tYlijHsBijEOWFyxUpv36z5n/hW33vUI2lUutkReItWGh+GtR1MjP2S2eUDGckDj9a8CsdEa3/Z48ReI73LXutTo+5uvliUY/NsmvoieGK6t5ILiNZYpFKujDIYHsa4D4z20Vv8HL+C0jWGGEwhY0GFVQ44ArTIcWoVKeGitZVItvyWy+8VeN7yfY6H4dE/8Kz8OZ6/2fH/ACrjPiVINE+LngjXAdqyytZykdwTj/2euy+HbB/hp4dZen9nx/yrlPj3p0tx4Et9UtlJm0q8ScEfwjpn88VllzX9qypvafPH77r8yp/w79j1Fj/CeR3Brwz4seE38F6ta+O/CQ+yvHcL9piThQx749D0I969h0LVYtc8P2GqW7ho7q3SXPuRz+ua4D4865b2Hw+bTCwa71KZFii77VYMT+gH40ZDOtRzCNBfDL3ZLpbrf03FWScOY9C8P6zFr/hyw1aAbUvIFl2/3SRyPwOa0M5rmvAWmz6N8P8ARbC8XZPFaL5in+Fj82PwziuizXhV4xjVkobJuxvHValHXdbttB0ee/vX2xxLwO7N2A+tcR4L0q7uk1TxdrCEXd9E4t0b/lnHg8/jXY63oFh4hhgi1OMyxwyiVUzgEj19RV54U+ytCqhU2FQAOgxXHOm5Tu9lserQxVOhh/Zw+KT95+S6L16nEfBs/wDFGTnub2TP5CrPxK0XUdTtdPvtJBll06fzvJ/v4wc474xWf8IZPJ0zWNNc/Pa3x49iP/rV3lxfWtmN11cRwgDPzsBxWdOKlh0mdmNrVMNm9SrBXd3p3T/4DMDwn46tPEhNpNG1pqMYy8D9/Uj/AArb1LRtO1fy/wC0bSK48s5XeucV5raTw+JfjNb3uhxj7LZqTcTKMB8AjP4k4r1N5FiRncgKoLEnsKqlJzi+bU58xorCV4uheLkk7X1i30PPfiNdPf3WneDdHAja6ZTKqDARAeB9Op/CuzlsodJ8JtZWq7Yra32KPoOtcN8PVOv+L9Z8T3A3AP5EGe2f/sQPzpfid4v1XSjJp2hJGzrZyXE29c5UdR+XNYp3hKo93ojfMsLVrR/s6jvCLcv8TV3/AJHlXxQTd4FkI6x3MbfzH9a90+FU3nfCnw7JnO6yXn6ZH9K8D1zU18R/Ci8vkTYSql1/usrjOK9p+CF0Ln4O6Hj/AJZpJH+UjV0YODWFjfeLaPgcli40uWW8W0egZozTM0Zrc94fmjNMzRmgB+aM0zNGaAH5ozTM0ZoAfmjNMzRmgB+aM0zNGaAH5ozTM0ZoAfmjNMzRmgBmaM0zNGaAH5ozTM0ZoAfmjNMzRmgB+aM0zNGaAH5ozTM0ZoAfmjNMzRmgB+aM0zNGaAH5ozTM0ZoAfmjNMzRmgB+aM0zNGaAJAa+VfihYXPhv4gajaKhW1ubtNQtgBwc9cfjkV9TZrO1TQNJ1uW3k1fT4Lt7Z98LSJkoa93Js0jl1SbnG8ZJr/JmNWnz2NC3kMtvFIwILIpIP0pZ4Yrq3kt7mJZYZFKujjIYHsRSk0ma8TmalzR0Nuhznh/4eeGfDGqPqOj6akV02cSMdxQHsueldOWyTUeaM1rXxFXET560nJ92JRUVZD80bqZmjNYDH5rC8caZPrngXWNNsxunuLVljU/xN1A/StrNGa2oVpUKsasd4tP7hSXMrM5X4W2Go6T8NNJsdYha3uoVcGJuqqXJGfwNdbmmZozSrVXWqyqP7Tb+8ErKw/NGaZmlrIofmjNMzWdqGu2WmahYWdyzeffy+VCijPOCcn24oempUISm7RVzTPNNSOOPPloqZOTtUDJoyarvf2sV9FZyzotzMC0cRPLgdcUczSsTy3empb3UZpmfaigQ4gN94A/UUuaZmkzTAkzSZpmaM0gH5rxv9o+cN4Z0a0H3pbt3x9EwP/Qq9hzXif7QhL6h4Wh7PLIPzZBX0HDiX9pQfZSf3JmNf+GzufHMP2bwHZwD/AJZeSn5LiuZ+HSFvGUbD+GFyf0FdT8TpVi8Owxd3nUD8Aa574YJu8Q3UmPuW3X6sP8K+Qqvmxlz7jCvkyKd/P9D1XNJmmZozXefGj80ZpmaM0APzXC6l4Jvda+Llj4g1OaOTStNtx9lt+/m88kfXn8BXb5pSePeurD4qphuZ0+qa+8mUVLc8h+Jj7/jd4DjJyFkUj/v5/wDWr2En5j9a8a8eSC8/aE8HWcILSW4R346DczfyFexFs16mbaUcKv7n/tzM6W8iO+vYdPsLi9umKw28ZlkIGcKBk8V85fEz4maZ4s1TRZ9Htpx/ZVwZt03Ak5UgY/4DX0gwDqyuAysMEEZBFeJftB6HZWmjaPfWNpDbN57wsYkC5BXI6e4ru4WnhVjVCpBubuk76bPdeZGJUuS6N3SfHfxF1jUrfy/CEMFpJIu95SVwhPJyT6Vv/F4yH4Ua15JO7Ym7H93eM1qeCNbXxB4G0jUUbcZbZVk56Oo2sPzFampafb6tplzp98m+3uomikHsRiuCeMpUswhUVJQVOWqV+j8zRRbhve54X4Y8X/EEeD9MsvB3h9RYWsPli4KBvNYE7m5Prmuh8PfF/W9P8QW2i/EPSfsL3DBEuQm0Ak4BI6EZ7isiwXx/8J5p9OsNP/tvRGkMkOATjP05U+o6UyfRvGXxa8QWE/iDTl0fSbJ9wJXBxkEgZ5JOK+rxNHCVlUnUhTVJ3ampe9d7ad77o5YykrJN37HvOaM1CZkjX53VQB3NV5dX0+L/AFl7Av1kFfmzaW56Uac5bIvZqOeGK5geGdBJG4wykcEVlv4p0SP72ow59jmqz+NtBX/l/U/RTUucOrN44XEN3jB/cbaQQWdo0dtEkUaocKgwBxXnvwey1trkp/iuV5/An+tb93440N7OdY7zLmNgBtPXBrkfhb4g03SdEvYr+5EUr3W8Ag8jaBXLKcPbRs9NT26GGxCy6upRd5OPT1PWD92vNZ2Gv/G62RPnh0qLcx7ZAz/Nh+Vb+sePtGsNInuLe7SadU/dxDOWbtXA+EfFumeHLG91K+L3erahIWZFH3Vznk+55/KlXrQcoxb03ZWW4DFQo1a0ab5muSPz3fyX5ntOcV598VdRlewstBsmzPqUoBUf3QRj8zj8q1vCOvarr3nXmo28NpZuALeMNmRj6n2xWLe6Brd/8W7fU2gA0+0KFJX5UqByAPXJNaVZc9JcvVnPl9BYTGSlWavTTe+8ui+8s+J9Wu/A+jaJpWiRQln/AHO6TgZA6/iTmvP/ABp4l8SNpV9pWs31u0N3ARKkW1to9Mjp0r2XXvD9h4jsDaajGWUNuRwcMh9Qa8z+I/grSfDHwv1S4s1eW5d4o/OlbLAFxkCuzAYatVzClGErJyWvb5GlLMMBDAy9tT5qmt7rdvZ3vpb0PIIv3Xw5sk/vyE/+PH/CvUf2f0z9uf8AuyN+oWvLbseV4L0mL13N+pr1f9nxf9D1Nv8Apr/QVyVF+9l/if5njZ1rXpR7KP5HteeKM0zPFGa6TmH5ozTM0ZoEOeRY42kkYKiAszE4AA714x4q+PgivZNP8I2IumyY1upMkM3QbVHXmvVPEOmPrfhvUNMjnNu13A0QlA+7kYrivAHwh0zwlOmo6g66jqS/cZkwkXuo9fevocrnltCjOvi1zzXwx/VmNRVG7R2OW+Bd5YxeKdYg1tJl8UXBLl7gclOrKM9Dnk+30r3MmvKPiL4E1y48Y2Pi3wVsXUogElUkDJGQG568HBr0Dw5FqsHh2zj8Q3EdxqSx/v5IxgFs0Z1KliZRxtOfxrWPWLXT07CpJxXKzWzXFfGGCS5+FGspEpYqqOQBzgOCf0rs6bJGs0bRyorowwysMgivJweI+q4mFe1+Vp/cazjzRaOX+Fdytz8K9AdM4W12c+oYiuk1PT7fV9LudPvk8y3uYmjkU+hFPggitoVhtoliiQYVEXAUewqTNRVrOWIlWhpd3XlqNR0seKadF8Qvhf52i6Rpg13SWdmtHIyY8np7fStHwt8Ota1/xSvi34kSB542DW1hnKpjkZHQAenrXrO4g/LRnjFexVzyrOElCnGM5fFJbv8Ayv1sZKir6vQeT3pM03NJmvnzYfmjOaZS0DPPtCim0P4x6pZhHFtqUJmVtvy5GD1/Eiuh8TeC9O8UXFvNfPMjQgr+7fG4Hsa3iq795VSwGA2ORTs1jGklFxeqPSq5hVlWjXp+7JJK/eytf5ooaJoWn6BZ/ZtMt1iU8s38TH1Jqt4yu3s/BupzxAl1gYDHuMf1rXzSOqyIUkUMrDBBGQatwXJyx0OWnXarqtU97VN36nKfC6z+x+AbR9u17l3mbI65OB+gFQfEfwVB4l0uW7W4e0uoYGTzFGdykdDXZoqxoqRKERRgKowBVTWhu0S7HrE38qylBRo27IMVj6yq1cVTdpPmf3nztqWjQaT8NtQ022JZIrVyWPVm6k/pXpH7O8/mfB+2TPMV5On6g/1rjtZi87w9qcZ/itJR/wCOmt79mu43/Dm8iz/q9Rf9UU0ZdNzwkm/5j5TI6kp05OW9z2PNJmm5pM10H0Q/NGaZmjNAD80ZpmaM0APzRmmZozQA/NGaZmjNAD80ZpmaM0APzRmmZozQA/NGaZmjNADc0ZpuaTNAD80ZpmaM0APzRmmZozQA/NGaZmjNAD80ZpmaM0APzRmmZozQA/NGaZmjNAD80ZpmaM0APzRmmZozQA/NGaZmjNAD80ZpmaM0APzRmmZozQAy7vIbGzlurpxHDEpZ2PYCvO4tT8U+O7mV9Fm/srSkYqsx+9JU3xQvp7kab4ds2KyahMN+O4zgD8z+ldvp1hDpmnwWVooSG3QIox6VzO9WbinZI9yly4HDRrOKdSd7X1SS0vbu2cp4OvNcsfE9/wCHtbmkvI4YVliuWX36ZrroNUsrm+uLKC5jkubbHnRKeUz0zUxCrlgBnHXFeK6F4hv7DxZrMej2i3eoajclULnhQrHNEpew5YvW5VLCPNPa1oJRcUvJX6vy7ntMt7bQzJDNcRJLJ9xGcAt9BTp50t7eSaU7UjUsxPYCvHdF0/UPFXxIlOvz+Xc6cVklSPp8pGFHtmvQvHl01r4G1SSM4Pk7ePfj+tOFZzhKdrWMq+XRo4qlhlO7la9tlf8AMh8E69f+JF1LUbjatgbjy7JAuDtXqSfc11Oa8703WP8AhE/gxY31uiNO0eUVujMzGuy0LU/7Y0Gy1DaFNxCHKjse4qqU7pRe9rmWPw7jOVaEbQ5nFfIh8U68nhzw/NqDAM64WJD0Zz0FeV654t8Q6hajXIbp7G1WYR20EZ/1jAcn3A/ritz4yXJMOl2pbajO8jY9sD+pqDwboMnie/tdTvY/L0nTcRWcB6OV7/nyfU1x1pznV9nE+gy+hh8Jl8cZVinzX37bJLzb69j1GzkllsYJJ12ytErOMdCQM15J8TdRvD46tI9PLLPawAxFPvAnJOPwFev7s815foW3X/jHqV1KBJFZxyKmRwCMJ/Vq3xKuowT1bPMyScaNWripxuoxenq7WOv8B6/J4g8JwXNy++5iYxTH1I6H8RiuY1ad5vjrpESnIhj28e6sT/Sqeg6lH8PvGGpaXqu6LTro+ZBJtyAR0P5cfgKk8CpN4j+IGpeJpUYW8e5Ydw/iPAH4KP1rJVOZQg976/I7vqscLPEYlL924e6+/Nsl6anqZakzTc55pM16J8gh+aM0zNGaQD80ZpmaM0APzXin7Qqsl14Yuv4UmkGffKHH6V7TmqmoaZY6rHHHqVpFdJG4kRZV3bWHcV6WWY1YHEqu1fRr71YipHnjY434qXO4adF2bdJj8BUfwsi+fU5vaNP5mqXxNnD61aQ/3IM4+rf/AFqpeC/FMHh17qO7id4rgq25OqkZr5pySxTkz7tYepPJI06au3/meu5ozXHf8LI0cD/V3B/4DUEvxNsFOIrSZvrgV2+3p9z5qOVY16KmzuM0V5xN8UZA37iwXH+29UJviRq7k+UkEYPouah4qmup1QyHHS3jb5nq9ISB1NeNTeN9emb/AI/Sn+4oFZ8+v6tcf62/nP8AwM1k8ZDsdkOGsQ/ikke1yw6et6t7NHbi6RdqzsBvUegNMl1vTYM+bfQDH+2K8Me6nlOZJnb6sajLE/eOaUswcuh1w4Yiviqfcj2qbxloUPW/jb/dBNcp421bwr4x8OS6VeTzg7hJFNHHzG47jPsSK8+4pcUUszr0Kiq0nZrVM6lw1hLWnJs7Pwt4n0jwd4at9G02G5uVhLMZZSF3sxyTirU/xQuW3C3sY19C7ZrgsUYrCrjq9abnN6vVnXTyLAU1blv6s6qb4ia9KpEcscQ/2ErNuPFOt3S4m1GbHcBsVj0VzOrUe7O+ngMJT1jTX3Fl766l/wBbcSv9XNQliepJqPPNTJbTy/6qGRvopqLt7nSlThtZDM0Vdi0LVZv9VYTt/wAAqynhTXZPu6dL+OKfLJ9DKWKoR3mvvMk8imJEkWdgxk5NbZ8H68Bn+zpPzFQv4Y1qMfPp0w+i5o5ZdgjjcO9FUX3mRNAk4G8dKEtokxtQcdzV2TTL+E/vbOdfrGarski/ejYfUYpW8jojWUlaMiSO4mjP7uV0PbaxFaFr4o1mz4g1Cbb6M2R+tZOfal/CqUpLZmNShRqfHFP5HZ2XxL1ODAu4YrhfptNZ/wAU/Gmna58Mbq3QPDcefCfLcdQG55rnOfSue8cqW8I3WOMOh/8AHhXsZTjqlDG0p72aPnc2yfCPDTqQVml0MHUpANB0dAcjyWP/AI9XsfwEHl6TcHvMzP8AkQK8Plffomk57W7D/wAfNe2fB2UWltYI/wAolhck/jms6srVdesn+p8BnFdLFU2+rX/pJ7JnikzjrxXO6t4xs9OJjgH2iUdl6D8a43UfFeqaiSPMMKf3U4pVcbSpuy1Z5mJzbD0HZO78j0q61aws/wDj4uY1x2zWLc+O9LhyIvMlI6bVrzZndzlyzH3puK4KmYVH8KseFUz6vL4IpHczfEPJ/c2fHbc1VH+IN8fuW8QrkaM1zPGV31OCWa4yT+M6k+PdTPRYx/wGmf8ACdar2Ef/AHzXM5oyaj61W/mI/tDFP7bOm/4TnVfSP/vmnjx5qo6pGfwrlqXmj6zW/mBZhi/52dWnj/Ul+9DE34VIPiFe/wAVrF+tchhvSjmrWKr9y1mWNX22dmPiHcDraR/gacPiJJ3s1/76riuaDx6fnVfW8R3KWZ43+Z/cdv8A8LEf/nzH/fVNPxEftZj/AL6riM/7S/nRu/2l/MUfWsT3KeaY5/a/A7F/iFeEfu7aMfU1Wfx3qrfd8tfoK5fP+0v5ikLgdXT/AL6FTLEYh9WZyzDGy3mzom8aaw3/AC2A+gqM+MNaP/LyfyFYHnxD700Y/wCBimm7th1uYR9XFR7TEPqzL61i39tnQf8ACW6z/wA/TfkKT/hLdZ/5+m/Kue+32YHN5bj/ALarUTaxpyfe1G1H1lFPnr92CxGMf2pHTjxfrQ6XR/ECiTxbrE0TRyT7kYYI2jmuJvPGWg2CFptRjkI/gi+YmsrwV4k1DXdU1I3GTYqS0DFcbeeF/Kuj2WL9lKrJtJd+p0WxzpSqSk0l36nYTR+bDJEOsiMp/EVJ+zNJs8Na7bMeUu43A+qkf+y1H5qx7pHYBVBJJ7Cm/s2RMbHxBcD/AFbSxKPr8x/ka93JKalgMRJ9OX8z1cgbtJHuWaM03NJmqPqh+aM0zNGaAH5ozTM0ZoAfmjNMzRmgB+aM0zNGaAH5ozTM0ZoAfmjNMzRmgB+aM0zNGaAG5ozTM0ZoAfmjNMzRmgB+aM0zNGaAH5ozTM0ZoAfmjNMzRmgB+aM0zNGaAH5ozTM0ZoAfmjNMzRmgB+aM0zNGaAH5ozTM0ZoAfmjNMzRmgB+aM0zNGaYHnfickfGPw+0n+r2rjPrlv64r0gnA/nXE+PfDV5q7WOp6Pg31jJuVScbhnI/Iisj7P498TjyL149KtTw7IcMR+FcUZSpzkrXuz6SpQp43D0antIxUY2d3qtei63PSkkSaPMTq4ORlTmvK/BehXlp8U72SWBlhtjM5kIwDuOFx69a9B8PaJB4d0WPTrd2kVCWLuclmJyTWlxkkAZPfFbSp+0cZS6HnUcY8LCtRp6qatf8AU4PVvC3iC18bTaz4YmhiF6oWZpOdnTPHfpXTeK9Ol1Xwnf2UY3SyQnaPVhz/ADFa2aM0/ZRSaXUiWYVZzp1GleFrPvba55Joeh6x4st7HS9Vjls9M0uMqcjBkfnHXqea9B8I6Hd+HNFNhd3gu1WVmhIXGxT2/r+NbQI7UbqinQUHfdm2OzSpi4uFlGF727Pv8zzHx9af258R9H0mTKpLDtDDtkkk/oKvfD7W20m6l8I6x+5uYZG+zE8B85JH9RXcvZWsl7HePBG1xEpVJSvzKD6GoptKsLjUYb+a1ie6h/1cpX5lpewtU9onqdE80hVwkcLOPupaeUk3r6O+pebO0464rjfAXhW80G81W71QL591LiMq2fkBJz+Oa7GjNbOmpSUn0PLp4mpTozox2na/yKWq6JputxomqWqThDlSRyPxqxY2NrptolrZQJBCnREGKkzRuq7RvdIxdWo4Km5Oy6dCQmkzTN1GaDMfmjNMzRmgB+aM0zNGaAHg0pNR5ozR1A8p+IsgbxY+TgJCo/rXn9v4q0i6mljW7VPK6s/Ab6V7L4r8Fza5qYvbSdEYoFdHHXFcTcfBFbiQvJb2ZY9cZGa4fYwc5Oon5WPuKGZRhhqUaU4ppWadzlW8SaQnW/h/76qB/F+iJ1vkP0BrrF+Bsani0tPxYmrEXwVVTg21ko+mafsMP2kW81rf8/IficK3jfQx/wAvJP0Wo28eaKv8cp+iV6fb/BaxDA3Btl9khzWpb/CLQI+Jk3/RAKpUKH8kvvRzzzmpH/l9H5RZ4w3xA0n/AJZx3D/RKjPj+1P+rsbpv+A17/bfDbwxbYxp6Pj+9WpB4U0K2x5OlWwx/sA1qsPQ/kf3nHPPa/Sf/kv/AAT5q/4TmWQ4ttGu5M9MKT/Spo/EOv3JxaeGL1/+2Tf4V9Ox6fZQ4ENnAmP7sYFWFCr91FH0FaRo4ZfY/E45Z5jHtP8ABHzLE3ju5/49vB9z9WQj+dWYtF+Jdyfk8NCP/fIH9a+lN7UhYmtVDDL/AJdr7zCWbY5/8vH+B86L4P8AihJ00u3Qe7rUy+Afie3W3s1/7aLX0IOO1GfauiFXDx/5cRfrf/MxeY41/wDL1nz+vw++JnGY7P8A77X/AAqzB4F+JMJz9nsG/wB9gf6V7vn2oyPSu2nmVKmrRw1P7n/mYyxmMlvWkeNQ+H/ijAAIY9Kj/wCAKf6VbTSvi/t+W/0+P6Ko/pXrWfajPpWqzi3w4emv+3Tlkpzd5zk/meTf2P8AGF/+Y5ap/u4/wpR4c+Lrn5/E8CfQ/wD1q9YzRmq/tup0o0//AAFGXsV3Z5SfCXxXcfN4xiH0JqM+Bvie3LeNB+DtXrWaXNH9u11tTh/4Ah+xj3Z5J/wr74kOP3njUfmxqCb4VeNbkEXHi2N89cqa9hzS5oee4l/Yh/4Av8i4xlH4ZNfM8Ok+B3ieQ5/4SiMH2Vv8arTfAnxbtJh8VxlgOAysM/rXvWaM1wVsbKvrKEV6RSOiNavH/l5L72fL+p/DbxppLEXmqSBR0dclT+Nc9rfh7WrXRbia81Zp4UXLxnPzc19fSKkiFJEVlPUEZrj/ABv4Q0698G6yLLTUkvHtX8pUHJbGePeuah7SdeEVZJtdEej9doSoSjUUua38zt9x8opY3smnWkq3REcgZY0HbDdPzruLXwj4pgt4lg8RNCFUbVBI2j0rrfD/AIPSx+Hul3eqab5V2LqVk81fmVD93I/A1oZya87MsVUw2KnRVm4t620+R8Fm2ZONZQpR2S316HDf8In4uzn/AISXP/Amo/4RbxgP+ZkH/fRru0VpGCoCzHoAOtdLpXgq7vNsl4fIjPY/eNcVPGYiq/dhH7jzqGIxeIlanBP5I8iHhzxoOI/EIJ/3jVu38FfEu7wLbU94PckgfqK+gdP8NaZYDKQB3H8b8mtUbVGFAH4V6NNVf+Xij9x79HA1XrW5flFHz5F8Lfig6gtrFsp9DL/9ap0+F3xMTrrVsf8Agf8A9avfM0Zrup1aUN6UX8jv+pUH9lfcjwb/AIVr8TP+grbf99f/AFqQ/DX4ln/mKW3/AH8/+tXveaTNdSxtJf8AMPD7v+CR9Qw/8q+5Hgo+F3xIPXWIF+kn/wBapB8HvH8/zS+JoYvbeTXu2aM1MsZTltQgv+3RrBUF9lfcjwr/AIUf4wm/4+PF6j/d3H+tKvwB198+b4wfHsjf417pmjNYSrKW0Ir5Gqw9JfZX3HhZ/Z51Tv4tlb/gB/xpv/DO+oHr4olP/AT/AI17tmjNZe0l5fcgdCB4R/wztff9DNL/AN8n/Gk/4Z11A/8AMzSf98n/ABr3jNG4UueX9JC+rx/qx4Sv7Ot4T83iiYf8BP8AjVhP2cVP+u8U3efZK9u3UbhVKpJf8Mi1Rijxdf2b7D+PxJfn/gIqZP2cdEH+u1rUXPsQK9i3CjcK0+sTXb7kVyR7HkY/Zy8NDrqeon/gY/wqRP2dPCQ/1l3qD/8AbQCvWNwo3Ck8RUfUfKux5hbfs/8Ag+1k3KlxMfSaTI/Kuhh+HGm20IitpGhjHRUUAV124UZrkqwVb+Jqc1XB0K38RX+ZyNx8ObC5tpYJriYxyoUcDAyCMGtfwp4U0rwbo/8AZuixNHEX3uztlnbGMk1r5ozVUl7GDp09E90XQwtHD/w1YkzSZpmaM0zoH5ozTM0ZoAfmjNMzRmgB+aM0zNGaAH5ozTM0ZoAfmjNMzRmgB+aM0zNGaAH5ozTM0ZoAZmjNMzRmgB+aM0zNGaAH5ozTM0ZoAfmjNMzRmgB+aM0zNGaAH5ozTM0ZoAfmjNMzRmgB+aM0zNGaAH5ozTM0ZoAfmjNMzRmgB+aM0zNGaAH5ozTM0ZoAfmjNMzRmmA/NGaZmjNIB+aM0zNGaAH5ozTM0ZoAfmjNMzRmgB+aM0zNGaAH5ozTM0ZoAfmjNMzRmgB+aM0zNGaAH5ozTM0ZoAfmjNMzRmgB+aM0zNGaYD80ZpmaM0APzRmmZozQA/NGaZmjNIB+aM0zNGaAH5ozTM0ZoAfmjNMzRmgB+aM0zNGaBj80ZpmaM0APzRmmZozQIfmjNMzRmgB+aM0zNGaBj80ZpmaM0APzRmmZozTEUdc0ldZ0xrbdsbIKtjpiuWHgC4J5u0x/u12+aXNctTC0qsuaS1OCvl+HxE+eotTL0jw5ZaRGNqCSbqZGHNbAYgmo80ZreMFBWijsp04Uo8sFZD80mabmkzVmg/NGaZmjNIQ/NGaZmjNAD80ZpmaM0APzRmmZozQA/NGaZmjNAD80ZpmaM0APzRmmZozQA/NGaZmjNAD80ZpmaM0DH5ozTM0ZoEPzRmmZozQA/NGaZmjNAD80ZpmaM0APzRmmZozQA/NGaZmjNAD80ZpmaM0APzRmmZozQA/NGaZmjNAD80ZpmaM0ANzRmmZozTAfmjNMzRmgB+aM0zNGaAH5ozTM0ZoAfmjNMzRmgB+aM0zNGaAH5ozTM0ZoAfmjNMzRmgB+aM0zNGaAH5ozTM0ZoAfmjNMzRmgB+aM0zNGaAH5ozTM0ZoAfmjNMzRmgB+aM0zNGaAH5ozTM0ZoAfmjNMzRmgB+aM0zNGaAH5ozTM0ZoAfmjNMzRmgB+aM0zNGaAH5ozTM0ZoAfmjNMzRmgB+aM0zNGaAH5ozTM0ZoAfmjNMzRmgB+aM0zNGaAH5ozTM0ZoAfmjNMzRmgB+aM0zNGaAH5ozTM0ZoAfmjNMzRmgB+aM0zNGaAH5ozTM0ZoAfmjNMzRmgB+aM0zNGaAH5ozTM0ZoAfmjNMzRmgB+aM0zNGaAH5ozTM0ZoAfmjNMzRmgB+aM0zNGaAH5ozTM0ZoAfmjNMzRmgB+aM0zNGaAH5ozTM0ZoAfmjNMzRmgB+aM0zNGaAH5ozTM0ZoAfmjNMzRmgB+aM0zNGeaBj80ZpmeaM0APzRmmZozQIfmjNMzRmgB+aM0zNGaAH5ozTM0ZoAfmjNMzRmgB+aM0zNGaAH5ozTM0ZoAbmjNMzRmgB+aM0zNGaAH5ozTM0ZoAfmjNMzRmgB+aM0zNGaAH5ozTM0ZoAfmjNMzRmgB+aM0zNGaAH5ozTM0ZoAfmjNMzRmgB+aM0zNGaAH5ozTM0ZoAfmjNMzRmgB+aM0zNGaAH5ozTM0ZoAfmjNMzRmgB+aM0zNGaAH5ozTM0ZoAfmjNMzRmgB+aM0zNGaAH5ozTM0ZoAfmjNMzRmgB+aM0zNGaAH5ozTM0ZoAfmjNMzRmgB+aM0zNGaAH5ozTM0ZoAfmjNMzRmgB+aM0zNGaAH5ozTM0ZoAfmjNMzRmgB+aM0zNGaAH5ozTM0ZoAfmjNMzRmgB+aM0zNGaAH5ozTM0ZoAfmjNMzRmgB+aM0zNGaAH5ozUYdScBhmlzQOzQ/NGaZmjNAh+aM0zNGaBj80ZqPcN23Iz6UCRWJCsCR1x2oCzJM0ZpmaM0CH5ozTM0ZoAfmjNMzRmgB+aM0zNGaAH5ozTM0ZoAfmjNMzRmgY/NGaZmjNAh+aM0zNGaAH5ozUTyLGu52Cr6k4pVdXUMrAqehBoH0uSZozTMntXO2fihrrxtc6LHCkkMMW4zISdrdwfzpOSWjNadGdRSlBfCrs6XNGaZuozVGI/NGaZmjNIB+aM0zNGaAH5ozTM0ZoAfmjNMzRmgB+aM0zNGaAH5ozTM0ZoAZmjNMzRmmA/NGaZmjNAD80ZpmaM0APzRmmZozQA/NGaZmjNAD80ZpmaM0APzRmmZozQA/NGaZmjNAD80ZpmaM0APzRmmZozQA/NGaZmjNAD80ZpmaM0APzRmmZozQA/NGaZmjNAD80ZpmaM0APzRmmZozQA/NGaZmjNAD80ZpmaM0APzRmqd/qdnpdr9o1C4SCLIXc/qegqyGDDIORSutinGSV7aD80ZpmaM0yR+aM0zNGaAH5ozTM0ZoAfmjNMzRmgB+aM0zNGaAH5ozTM1DBfW1zcT29vMsktuQJkH8BIyM0hpN6lnNGaZmjNMQ/NGaZmqupalb6Tp017eOFiiXJ9/QD3pPRXZcYynJRirtkt9qNpplqbi/nSCMfxMetVNK8SaTrUjR6deJLIoyU6HH415/pUUnxC8S3E+rM0VnaKpW1GRwen8sk1L4u0q28J6zpOq6Mn2YecEZF6H/9YyK5Pbya50vdPdWW0FL6tKb9ta/ktL2uenZozTc5rC8WeI08O6OZ1Ae5kOyFD3Pr9BXVKSirs8SjRnWqKnBas380Zrzzw14s1eHxDFpnicbftihoWZQpUnoOPXp9a793CKSxAx61NOopq6NsVhKmFqck9b6prZkmfejNeRapqWs61c6nrun3ckNrpsirEoJAIz/kn616XoupHVNCs79wFaaIM2OgPf8AWop1lNtI6MZl88LCMm076Pydr2Y/UdbtNMu7K1uWbzr2Xy4lUZ59T7VfzXBaTP8A8JL8Rrm/Hz2elIYoD2LnjP8AP9K7rPFVTk53Zhi6EcO40/tWu/V9PuH5ozTM0ZrU4x+aM0zNGaAH5ozTM0ZoAfmjNMzRmgB+aM0zNGaAHPIscbO7bVUZJPYVwl1rur+LdSk0/wALsbayiOJr09/pUvjrU57me08N6a2Li/YeaR/Cmf8AP4Cun0jS7bRdMisbNAqRjk45c9yfeuaV6kuVbLc9iioYOiq80nOXwp7Jd3+hzf8AwgE1tD59prd4b9PmWRpDtLe49K7QEhRnrjnFNBpGatYwjDY4K+Jq4izqO7Rh674wsNEnFqRJc3pGRbwLub8fSsKfxX4puJIo7TRo7QznbF9okwznrwK0tK0uLw5Hquray8TzSzvKZupWPsvNUfDS3PirX/8AhI79THZWuUsIT69C9YSc3JK9r9D2KUcLSpynGCkor4n1fZJf1YYbDx9qP+v1C3s1PB8sc102gaZc6NpPkX19Jey7zI0sh6Z7D24rSzTZVEkLof4lK/nW0aai73uzza+NlXioOMYx8lY8zk8UzCTWdeWRvNlf7BYRZ4A6s2Pypfhsb8eKr9JpXkRYMz5bI35GPx61gS+Gtfh1UWFvaySi2mby32/Jyc7s16f4T8Op4c0oxu3mXU7b55PVvT6Vw0lOdROXQ+lzGWFwuElCm03O1vRbfh+LOgzXNQ+IZ9S8df2bp+DZWcLG7kAyC54VQfameNdfk0jTEt7DLX943lQqvJGeM1b8K+H4vDujiJjvupj5lxIerOev4Cu1ycp8q6bnzlOlCjh3Wqby0ivzf+XmbuaM0zNGa1POH5ozTM0ZpgPzUVteW935htpklEbmNyjZ2sOo+tR3kjR2M7R/eWNiPriuZ+GrR/8ACGo4I3tcSmU9y241m5WmonVGhzYeVa+zS++/+R1+aM00mkzWhyj81QutasbHUILK6uVjnuDiJD1arM00cMLSTOERRkse1eX2GpjxP8Vre6j+a2hJEXuqqefzOaxqVFFpdz0cFgniI1KktIwi3fz6I9YyPwrB8S+LdP8ADqwrdCSSaY/JHF97Hc/rWtc3EdrbyTSttjjUsx9hXmvh/RB45vb/AFzWS4haUx20akjCj/P86VSo01GO5pgcNRqKVbEu1OPbdt7I7t/E2ix7ftGpW8RwDhpAf5VqRSrLGskbB0YZVgeorkoPhz4egkDtbNKQc4dyRXWRKI4kRQAqgAAD0q05W1Ry4mOGi0sO2+91Y8r8bavea34tXRLYukCyrEq9NzHgt+tbHw5uLm31bVtFlnMsNmfkyc4wSDj68VV8ambSvHGn6vBaNMqRkgKpwWGcZx9c1f8AA+mtomk32uayfJmul3tv4KoMnn65zXHHm9tdn0uKlSeWRjGKs0rLrzX1/rzNTxz4kbQtJ8uyy+oXJ2QIBz6Z/Wn+DvDS+HdJBuT5mo3R8y5kPJLHtn2rm/DEEni7xbceIr5W+x2r7LRG6bh0P4dT7mvQ/TNdNP33zv5Hj4xrC0lhIPXeT8+3y/MfnFGaYeKM1ueOPzRmmZozQA/NGaZmjNAD80ZpmaM0APzRmmZozQA/NGaZmjNAD80ZpmaM0AMzRmm5ozQA7NGabmjNADs0ZpuaM0AOzRmm5ozQA7NGabmjNADs0ZpuaM0AOzRmm5ozQA7NGabmjNADs0ZpuaM0AOzRmm5ozQA7NGabmjNADs0ZpuaM0AOzRmm5ozQA7NGabmjNADs0uaYTWB4y17+wvD8ksZ/0iX93CO+49/wqZSUY3ZtQozr1Y0obs5/xd49ubHUjbaJhltSDcSbcjP8AdrvreYXFpFOv3ZEDj8RmuAj8KfZPhrfC4Tff3UXnyseSMcgfgP1NdD4Hv/t/gywkJy0aeU+fVeP5YrnpOfPafXU9bH08P9XUsOvglyt99N/zOizWdrWvWOgWJutQl2L0VR95z6AVauLhLW2knmYLHGpZiewFcJ4ftG8aa7L4g1Zd1lbuY7KBvunH8WP88/Stak2rRjuziwuHhNSrVvgjv3b6JGtous+INd1iG5FkLHSFDbhKP3kvHH0re1fV7TRdPe8v5Qkajgd2PoPerEsyW9u8kpCJGpYnsAK4HS7aTx5rsmqajn+ybR9ltAekhHc/1qG5QXKnds3pwpYmbrTjyU49uvZerJtNsL3xtq0Wsa2hh0uFt1raH+P/AGj/AJ5rpJvEBh8YW2iNCAlxbtIspP8AEO2PpWsFAUKoCheAAOlcT4zb7F4v8N6j0UXBiY+xo5fZxvfXqVTqrHVnTkrRUXypdLK//DndZozUM88dvDJNKwWOMFix7AVyfgvxXceIdR1SO4K+XGyvbqBghCSMfp+tauaUlHuefTw1SpRnWS0ja/zNfVfEX9l+IdM094l8q+3BpmbGwgcVz83xKQ6/FaWdoJbN51hM5Jy2TgkVH8VVX+ybGVTiVZiF9SCOf6ViaBp0WpeK9Ls7MBrTSkE08o6PIeSf++sD8K5J1Z+15Is+gwuDwjwSxFRX0f3rr+SsetdDimtIqY3sFycDJ60hbmvIPHutXGoa/MtszfZ9OIUFTwH9fz4/CuirVVONzyMvwMsdUcE7JK9z2Ks/W9ZttC0uS+uz8qcKo6s3YCprK4+06fbz5z5kStn1yAa4fxbnXfHukaGcm3T97MueCOSf0H606k2o6bsnBYeNavy1Phim36IuaHN4q8QX8Gpz3C2Gm7wwtwuTIn4+vrXYR3dvLcy28UyNNCAXjDfMuemRT02ooVQFUcAAdK4DWpn8J/ECLWSCbG/QR3BA+7j/ACDU/wAJK+psksfUkoJRaXupdbdPWx22rahHpWk3N7McLDGW/SsXwHZSQeHjfXWftOpStcyE9eeg/Ks74jXwn8NWtrayK66hOiKynIZetdhbxLbW0UCcLGgUfgKa96p6ESXssFHvN/gv+CT5pM1VutRs7F4lvLmKAynCeY2NxqKHWdOuNQNjb3kUtyFLmNGzx61rzK9jhVObjzJOxoZri/icsp8P2zAE263KmcD+7XY5qG7tYb60ktrpBJFKpVlIqakeeDibYOusPXjVaukJYmzltI7qwCGOVFKugHzADiuH8YS/8JD4z0rQ7YhxA/mTkfw9z+g/Wsu41O/+H97d6XbyrdW06F7cM3MJPeur8GeHG0q2fUNQbztRvfnkfrtB5xXNze1appep7KorL74pyvde5536/L8zq88VwetwDWvinptjIfMt7WHznQdARk8/jiu5LcVxPgxRd+LfEeoyHdKJhCp9Bk/4CtqurjHzPPwEvZQq1luo2+ctCL4oWxittP1eDImtZguR+Y/UVteJrSXxD4PSewd1uPLW4i2Ngk7en4gmqvxHwfBc5P8ADIhH51r+FiT4S0rPX7Kn8qz5U6kod0dXtpQwdCut4Sa/Jnm9trdtb+An0C0imk1S6lIkj8s8ZP8AgBXR6xfzeGvBenaHbnfqdxEIlVeq56n8ziuumhsbPzL6SGFGjUs0uwZAA9a4vwpG3iPxJd+J9RAEELbLYP0X3/Afqaz5HD3b6vT0R2RxVKupVnC0Ivmd3fmm9l6HUeFtDXw9ocVqfmmY+ZM4/ic/4dK2s1yOpfETR7C68iIS3bD7xhGQPxrb0TW7bXtMS9swwjYlSrjlSOorphOHwRex4mJw+KX+0V4tcz3ZpZozTc0ZrU4R2aWmZrjPHeq6lpdxYNY3/wBkgl3LIxXKhuxJqJzUI8zOnC4eWJqqlF2v3O2z60ma8ma9N1htY8ZYT+5a5JrvfC+qWGoaV5emTXE0dqREZLgHc5xnOT1qKdZTdjqxeXyw0FK9++jt97SNzNGabmjNbHmDs0ZpuaM0AcPoC/2n8UNXvn5FmnlR57dv6Gu7LDuetef+D5ls/HPiO3uDtZj5oz3AYk/oaypTrPjfVdQu9PuXgtrPi3AYgMew+pHP5VxwqckNFdts+kxOD+sYh80uWEYx1e2qVvvPVc0fWuT8C+I5tb0uW3vz/ptmwWQnq69iffqK6nNdMZKUeZHhV6E8PVlSnujifiXO7Q6Xpxk8uG7uAJWzjjIH9c12lpbQ2NnFbWyhYokCIB2ArK8SaBB4i0s20x2Op3RyAcqa5jRPEuo+HNVi0LxQCY2ISC568dBz3H8qxv7Oo3LZnpqH1vBQhResLtx6u/Vd9D0EmjNMzg0ZrpPFH96OuT2pmax/Feqf2T4ZvLoNhxHsT/ePA/nUykoxbZrSpSq1I047t2Oc0Y/8JP8AES61N/ns9MHlwem71/ma73Oa5jwBp39neELd3GJLrM7n69P0qvq/xC0+wu3tbKKS9nQ4ZY+gPpmsYSVOF5dT1MTSqYzFOlh43UNF6Lr82dhmkzXHaJ4+h1LVI7C+spbGaY4iL9GPpXYE1rGcZq8TzsRhquGnyVVZjga5nxBr2tWd99j0bRpLolQfPY4TJ7V0eaM05JyVk7BQqwpT5pwUvJ/8A4V4PiBqXEs1tYo3UACsPwj4cl1LUL/TrvUbi3SwmBkggYqJDk5P6V6tn1rntI0SfTvF+sX52/ZrxEKY67hnNc7o+/F3bPZp5o3QqwUYw0VrLz/yudGDxRnFNzRmuo+eZyXiTSdb8Raumno5tdHUBpZlYZc+gFYug2Vvp/xWmtLRQsEEB2AdfuLnPvzXo2a88v5k0X4wW1zP+7t71Qm7Hdl2j9QK5KlO0lLrc+gweLnVo1KGiSg7JdXdNt+Z3OsWT6lo9zaRvsaaMqG9DiuD8M+LIvCtiND8RWk1mYXPlzKu4OCc5NejhsZqtfadZanEY722imXsHXNaypXlzx3ODD4qnCjKhXi3Bu+mjT7i6bq1jq0Xmafdx3CjrsPI+oq3mvLfFmjx+Cbm11fQJpIN8uHgydre3068V6XBKZYVcjG9QwHpkZpwk3dS3QsVh4Uoxq0neEtr76dGTMFb7wB+orgPH2p3Gp6hbeFtLJMtwQZiP4R2H5c13byCKNnPO1Sa4H4eW7anquq+ILpG8xpjFFuGCv8Aex+gqanvWguptl/LRjPFz+xsv7z2+7c7fTNOt9H0uKytxsjhTr6nufzqCbxFpEEohuNTgEvcF+lReJrS91Dw3eWumS+VcyphDnn1Iz26V5hBH4Wh0y4j1izvrPU1DAo2T8/UbfbPalUqOGkS8FgqeLUqlWTbv9nV+r8j2YOTGGDAqeQQc5FLmuR+HIvR4RX+0C2GlJgD9RHgY/XNdXmtoS5oqR5uIo+wqypXvZ2uOzRmm5ozVGA7NGabmjNADs0ZpuaM0AOzRmm5ozQA7NGabmjNADs0ZpuaM0ANzRmmZozQA/NGaZmjNAD80ZpmaM0APzRmmZozQA/NGaZmjNAD80ZpmaM0APzRmmZozQA/NGaZmjNAD80ZpmaM0APzRmmZozQA/NGaZmjNAD80ZpmaM0APzRmmZozQA/NGaZmjNAFTV9Vg0bS5b66DGOMchRknsBXl9/rOo+L9ft7jTtPM6WRDLbk5HXqa7zxrqcWl+F7mSRVkaUeVGjDOSfauX07wBcx6Na3tnfy2mpsu9hn5eeg/KuKvzznyx2PpsreGw9B16tlJtpN3ttrt+Zox33jm9by7jTrWOF/lcMcYB696b8OpmsbzWNDmJ328/mIPY8H+lRW/jDVvD9ytp4ts2aMnC3cQ6+/of51XN/bW3xQstQ06dJrbU4/Lcoe545/HFKLSkpX+80nSqTpVKTppRaunHZtefpc3viPePa+DZ/LbBmZYyfY//qrX8OWaaf4Z0+2jGAsCk+5Iyf51mePdOk1PwlcxwjMkWJQB1O3r+mal8Ia1Dq/hq1dHUzQxiKVM8qQMZ/Ec1utKzv2PKknLLocmyk7/AHKxa8UwTXXhfUIrbJkaFtoHesz4eXttceEYLeDCzWpKTJ3ySTn8a6KK4guDIsMschQ7XCsDtPoa4zWvCuoadqzaz4Sk8uViTLbdA34dPwomnGXtFqPDOFWg8JUfK73Te1+zO6zXLfEHTZNQ8MtLbgme0cTJgc8dai0bxH4ivb6G2v8AQfJQnEs+/aFHrjvXVnDLgjIPUGq0qxsYKNTAYiMnZta6O+nyPPbzXLvxuLbRtHV0heNWvpyMBfUf5604W8Hg34h2Xl5i0+9g8liTwG9z9cGu6t7S2s1ZbSCOEMcsEXGTUOpaXZavCsWo26TqjbgGHQ1n7F25m9Ts/tGkm6UYWpNNW63fX1X5HDfFaZvO02Enja7fyFdH4Ds7C18Lwy2EiyyTjdO467+6n0xXOfFaBj/Z1yo+RQ0Z9uhH8qpWaah4FFjqsRabTb2JDcR/3SR/P0P4VhzcteUmtD1HSWIymjRpytLWy72b09ex6jPMILaWVukaFj+AryjS7B9R8BeItScfvJpwyk/7JJP/AKFXpF9jW/Dsv9m3CgXcBEUvUcjrXl2t6BeeGpLazur2U6dOPmePIUNjkY/KrxPR2uv8zmyWMWpU+blnzJ27qOrR2XhTxbZvpujaUTJLeyR+WwRchNueSfoKq2zbvjTcb+q2vy/981F8LY7U2V84hT7VHKFMuOShHA+mQaf4xtLvR/Edp4n06MyCP5Z0HcdPyIOKLydKM30G6dKGNrYeno5RaV+rev8AwDv81U1PTLXV7B7S+TfG3r1B9RXOH4k+H/sYm86QSbcmHYdwPp6Vv6VfnU9LgvTA9v5y7hHJ94Dtn8Oa6lKFTRanhzw+IwtqkouLvp01PNtX8PP4f8QaLbm9kubaS6Uxxv0j+YV6wT8xrgPiQrQXGjX4HywXI3H05BH8q7xWyAQcgjINZUYqMpJHdmNWdehQqzd20/vuee65qEMtzdWHi/TrmdY5y9lcW8fRCOmRVfQrsaZM8nhnw1eTSyDb510+OPT2FekMFb7wB+opRgDAAAo9i+a9xrM4Kl7Lk07cz5fu/wCCNtZJpLSJ7pBHMyAyIpyFOORmsLxd4pHh+0WK2Xzr+4+WGMDOO2T/AJ5roM151rhudE8fNrV9YSX9psxBsGfLOMfmOfzp1pOMdDHLaEK9duavZNpd32LNp4Ga50W8vNekaXUrqMvkn/VHqPxrU+HWpS3/AIVEdwxZrSQwhj3Xgj+eKxr/AMZap4iibT/D+lTRNMNrTS/wjv7Cup8L6IPD2hx2W4PISXlcd2P+cVnSS57w2O7HzqrDOOKfvuSaXZfottDbzXD+F5f7I8da1pVz8hu38+En+PqePwP6V2ua53xR4Y/twQ3NnN9m1C3OYZh/I1tUi9JR6Hm4OpTSnRqu0Zq1+zWqZm/E27A0W306M5muphhB1IH/ANciuu0y2+w6TaWv/PCFIz+Ark9I8KahLriat4nu0upoRiFF6A+prss1NNNyc2ty8ZOnClTw1OXNy3bfS7/yOR+JWqNZeHRbRHD3b7Sc/wAI5P8ASqT+DtZuLW302DUUg0hY1yE+8xIyxPrkmuq1PQ9P1i4tpdQh8w2zboxnj8fWtHOOB0pOjzzblsXTzH6vQhTorVXbuur2a9EedL4Y16ygl0zTrGyiilJDXxOXZT/Lj0rtfD+jRaBo0NjCxfblnc/xMeprQzRmrhRjB3Rjicwq4qHLPTq/N92PzRmmZozWp54/NQ3NtBeQmK6iWWM9VcZFPzRmiw03F3RmxeGdFhkDpptuG9Sma0Y4ooYwkMaxqOgUYFLmjNJRS2RpOtUqfHJv1Y/NGaZmjNMyH5ozTM0ZoA4PxrYzaRrcPiOwQshHl3SjupGOfqOPyra8MS6Fp3hsNpt2v2fJkkaVgGUnnDfTpW/JFHPC0cyq6MMMrDIIrkbj4baPPdGSN54UY5MSP8tczpyjJygrnt08XRxFCNHEyceXqle6Wyfp0KPw+DXXibW9ShBFrIxVTjGSWyP0/nXoWao6dp1rpNktrYxCKJew7n1NWs1rShyQSZw47ELE15VIqy0S9ErGV4j8QDw7Zw3Mtu80LyiNyh+4D3rk/iJe2uq22kQ6e6zy3Em+MoeQp4/mf0rur6zg1CzktbuMSRSDDKa53RfAWn6PqovhLLO0ZJiWTolZ1YVJe6tn+B2YCvhaCVaV1ON7dpXWnpY6qMFYkVuSFAJ/Cn5pmaM10Hjj81wvxPmZtO0+xX/l5uR+OOP5mu3zXIePdLu7yCxvrCPzZbGXzDGB94ZB/pWFe/s3Y9LKpRjjIOTtv99tPxOut4hb2sUCDCxIEAHoBiuK1vV18NeNLZ5LdYtMlhYyNHACXc+/rWz4c8SyeIGm3adNaJEqkvL/ABMeoFbM0ENwu2eNZAOgZc02vaRTiTSl9UrSjXjfo1fucHaPL408ZWeoQ2zwabp53CR1wZD1x+deh5qJESJAkaKijoFGAKdmrpw5VruzLF4lYiS5Y8sYqyQ/NGaZmjNWcY/NGaZmjNAD80ZpmaM0APzUUtvBOyNNCkjRnKFlBKn2p2aM0WHqndD81n67qcmkaLNfQ2z3bx4/dIeSM81dzSHB6gGh3toODipJyV12POES98feJree5tZLfSrQ5KyDG4jBx7k/oK9K7DAwAMDFMGB90AfQUuazhDlvc68XivrDjFR5Yx0S7Ct8y4NJGiRLtjQIM5woxzSZozV21OPmaViUEDnp71VmsbW6l33FpFIR0ZlBNTA0inDHgH607LqClJfDoPXaqbCoCj7oXjFLmo+5/pS5oFr1H5ozTM0ZoAfmjNMzRmgB+aM0zNGaAH5ozTM0ZoAfmjNMzRmgB+aM0zNGaAGZozTM0ZpgPzRmmZozQA/NGaZmjNAD80ZpmaM0APzRmmZozQA/NGaZmjNAD80ZpmaM0APzRmmZozQA/NGaZmjNAD80ZpmaM0APzRmmZozQA/NGaZmjNAD80ZpmaM0APzRmmZozQBieIfDja9qGnSyXG23tJfMkhIz5npW8OevHoKZmjNSopNtdTWdWdSEYSekdhl1aQXsLQXcSzRMOVcZrnrXwFpNlrEV/b+apifesW7Kg9q6TNGaUoRk7tF0sTWoxcKcmk90OY7uvIPUVyGofD20uL57nT72ew8w/OkR+X8PSutzRmlOnGfxDw+KrYZt0pWuZ2gaBaeHbFrez3MZG3ySOcs59TWpmmZozVpJKyMak5VZOc3dsfmjNMzRmmQPzR1pmaM0AMubW3vIfKu4Umjzna4yM0y+sINR06WyuEBikTbj09MVNmjNS4plxnOLTT22Mjwvoc3h/Smspro3K+azxnGNintVrWtJg1vSZrK5HDj5W7q3Y1dzRmlyLl5eho69R1vb3969/mcH8PdN1HSNa1O1vIJEiCKN5HysQTjB78Gu+cK6lWAZSMEEdabmjNKnBQjyo0xeKliqzrSVm+xnr4b0ZLn7QunQCTOd2wVpg4GB09KZmjNUopbGE6tSpbnk36kOoWFrqlo1rfwiaFsEofarCAIgVRgKMAegpuaM07EOUmuW+g/dRmmZozTEPzSMAwwRke9NzRmgBygL90AfQUuaZmjNIY/NGaZmjNMQ/NGaZmjNAD80ZpmaM0APzRmmZozQA/NGaZmjNAD80ZpmaM0APzRmmZozQA/NGaZmjNAD80ZpmaM0APzRmmZozQA/NGaZmjNAD80ZpmaM0APzRmmZozQA/NGaZmjNADhgdBilzTM0ZoGPzRmmZozQIfmjNMzRmgB+aM0zNGaAH5ozTM0ZoAfmjNMzRmgB+aM0zNGaAH5ozTM0ZoAfmjNMzRmgB+aN1MzRmgNR+aM0zijNAaj80ZpmaM0APzRmmZozQA/NGaZmjNAD80ZpmaM0APzRmmZozQA/NGaZmjNADM0ZpuaM0AOzRmm5ozQA7NGabmjNADs0ZpuaM0AOzRmm5ozQA7NGabmjNADs0ZpuaM0AOzRmm5ozQA7NGabmjNADs0ZpuaM0AOzRmm5ozQA7NGabmjNADs0ZpuaM0AOzRmm5ozQA7NGabmjNADs0ZpuaM0AOzRmm5ozQA7NGabmjNADs0ZpuaM0AOzRmm5ozQA7NGabmjNADs0ZpuaM0AOzRmm5ozQA7NGabmjNADs0ZpuaM0AOzRmm5ozQA7NGabmjNADs0ZpuaM0AOzRmm5ozQA7NGabmjNADs0ZpuaM0AOzRmm5ozQA7NGabmjNADs0ZpuaM0AOzRmm5ozQA7NGabmjNADs0ZpuaM0AOzRmm5ozQA7NGabmjNADs0ZpuaM0AOzRmm5ozQA7NGabmjNADs0ZpuaM0AOzRmm5ozQA7NGabmjNADs0ZpuaM0AOzRmm5ozQA7NGabmjNADs0ZpuaM0AOzRmm5ozQA7NGabmjNADs0ZpuaM0AOzRmm5ozQA7NGabmjNADs0ZpuaM0AOzRmm5ozQA7NGabmjNADs0ZpuaM0AOzRmm5ozQB//2Q==)"
      ],
      "metadata": {
        "id": "yyjhoSnMJCOW"
      },
      "id": "yyjhoSnMJCOW"
    },
    {
      "cell_type": "code",
      "execution_count": 22,
      "id": "d898b9ff",
      "metadata": {
        "id": "d898b9ff"
      },
      "outputs": [],
      "source": [
        "t = 0.5\n",
        "predict_positive = (y_pred >= t)\n",
        "predict_negative = (y_pred < t)"
      ]
    },
    {
      "cell_type": "code",
      "execution_count": 23,
      "id": "ce46cfef",
      "metadata": {
        "id": "ce46cfef"
      },
      "outputs": [],
      "source": [
        "tp = (predict_positive & actual_positive).sum()\n",
        "tn = (predict_negative & actual_negative).sum()\n",
        "\n",
        "fp = (predict_positive & actual_negative).sum()\n",
        "fn = (predict_negative & actual_positive).sum()"
      ]
    },
    {
      "cell_type": "code",
      "execution_count": 24,
      "id": "778f4ef6",
      "metadata": {
        "colab": {
          "base_uri": "https://localhost:8080/"
        },
        "id": "778f4ef6",
        "outputId": "f6eb099d-b798-45fa-96c2-c7b9910f6e21"
      },
      "outputs": [
        {
          "output_type": "execute_result",
          "data": {
            "text/plain": [
              "array([[922, 101],\n",
              "       [176, 210]])"
            ]
          },
          "metadata": {},
          "execution_count": 24
        }
      ],
      "source": [
        "confusion_matrix = np.array([\n",
        "    [tn, fp],\n",
        "    [fn, tp]\n",
        "])\n",
        "confusion_matrix\n",
        "\n",
        "# False positive we lose money by sending the discount.\n",
        "# False negative we lose customers by not sending the discount. "
      ]
    },
    {
      "cell_type": "code",
      "execution_count": 25,
      "id": "4a7aab64",
      "metadata": {
        "colab": {
          "base_uri": "https://localhost:8080/"
        },
        "id": "4a7aab64",
        "outputId": "7969f1de-42a2-491b-ae70-43f33b483c83"
      },
      "outputs": [
        {
          "output_type": "execute_result",
          "data": {
            "text/plain": [
              "array([[0.65, 0.07],\n",
              "       [0.12, 0.15]])"
            ]
          },
          "metadata": {},
          "execution_count": 25
        }
      ],
      "source": [
        "(confusion_matrix / confusion_matrix.sum()).round(2)"
      ]
    },
    {
      "cell_type": "markdown",
      "id": "a37b1d4c",
      "metadata": {
        "id": "a37b1d4c"
      },
      "source": [
        "## 4.4 Precision and Recall"
      ]
    },
    {
      "cell_type": "markdown",
      "source": [
        "**Precision**\n",
        "\n",
        "TP / TP + FP"
      ],
      "metadata": {
        "id": "sPd8JSEYDvOP"
      },
      "id": "sPd8JSEYDvOP"
    },
    {
      "cell_type": "code",
      "execution_count": 26,
      "id": "7dfcf399",
      "metadata": {
        "colab": {
          "base_uri": "https://localhost:8080/"
        },
        "id": "7dfcf399",
        "outputId": "0378a1ef-e62c-4d8f-b724-345996f0dc4b"
      },
      "outputs": [
        {
          "output_type": "execute_result",
          "data": {
            "text/plain": [
              "0.6752411575562701"
            ]
          },
          "metadata": {},
          "execution_count": 26
        }
      ],
      "source": [
        "# TP = True positive, fp = False positive\n",
        "p = tp / (tp + fp)\n",
        "# 67% accuracy in predicting tp from possitive predictions. \n",
        "p"
      ]
    },
    {
      "cell_type": "markdown",
      "source": [
        "**Recall**\n",
        "\n",
        "TP / TP + FN"
      ],
      "metadata": {
        "id": "6hJQU9OLDpGy"
      },
      "id": "6hJQU9OLDpGy"
    },
    {
      "cell_type": "code",
      "execution_count": 27,
      "id": "4e180eec",
      "metadata": {
        "colab": {
          "base_uri": "https://localhost:8080/"
        },
        "id": "4e180eec",
        "outputId": "a9b75900-234b-4ff7-c64a-b3cb2d42f0ce"
      },
      "outputs": [
        {
          "output_type": "execute_result",
          "data": {
            "text/plain": [
              "0.5440414507772021"
            ]
          },
          "metadata": {},
          "execution_count": 27
        }
      ],
      "source": [
        "# fn = false negative\n",
        "r = tp / (tp + fn)\n",
        "# 54% accuracy for all actual positives. fn is a possitive that was missed.\n",
        "r"
      ]
    },
    {
      "cell_type": "markdown",
      "source": [
        "While accurancy was 80%, precision (67%) and recall (54%) show a different story. "
      ],
      "metadata": {
        "id": "2b8ogAxUEYEg"
      },
      "id": "2b8ogAxUEYEg"
    },
    {
      "cell_type": "markdown",
      "id": "5088b30e",
      "metadata": {
        "id": "5088b30e"
      },
      "source": [
        "## 4.5 ROC Curves - Receiver Characteristic Operator\n",
        "\n",
        "Analyticsvidhya: <br>\n",
        "https://www.analyticsvidhya.com/blog/2020/06/auc-roc-curve-machine-learning/\n",
        "\n",
        "Google:<br>\n",
        "https://developers.google.com/machine-learning/crash-course/classification/roc-and-auc \n"
      ]
    },
    {
      "cell_type": "markdown",
      "source": [
        "### TPR and FPR\n",
        "tpr = true possitive rate <br>\n",
        "fpr = false positive rate"
      ],
      "metadata": {
        "id": "DJuaZ3-ZXPoD"
      },
      "id": "DJuaZ3-ZXPoD"
    },
    {
      "cell_type": "code",
      "execution_count": 28,
      "id": "f8b9350d",
      "metadata": {
        "colab": {
          "base_uri": "https://localhost:8080/"
        },
        "id": "f8b9350d",
        "outputId": "143b6c8c-a123-4ee1-d4bd-170fc9580d6c"
      },
      "outputs": [
        {
          "output_type": "execute_result",
          "data": {
            "text/plain": [
              "0.5440414507772021"
            ]
          },
          "metadata": {},
          "execution_count": 28
        }
      ],
      "source": [
        "# Percentage of true possitives from actual positives\n",
        "# we want this to big as possible\n",
        "tpr = tp / (tp + fn)\n",
        "tpr"
      ]
    },
    {
      "cell_type": "code",
      "execution_count": 29,
      "id": "0a8b418e",
      "metadata": {
        "colab": {
          "base_uri": "https://localhost:8080/"
        },
        "id": "0a8b418e",
        "outputId": "e097efcc-85b3-42f5-ff4a-5e8523a7eb5c"
      },
      "outputs": [
        {
          "output_type": "execute_result",
          "data": {
            "text/plain": [
              "0.09872922776148582"
            ]
          },
          "metadata": {},
          "execution_count": 29
        }
      ],
      "source": [
        "# Percentance of false negatives from actual negative\n",
        "# we want this as small as possible\n",
        "fpr = fp / (fp + tn)\n",
        "fpr"
      ]
    },
    {
      "cell_type": "markdown",
      "source": [
        "**Plotting TPR and FPR**"
      ],
      "metadata": {
        "id": "EkAbCnm_SKar"
      },
      "id": "EkAbCnm_SKar"
    },
    {
      "cell_type": "code",
      "execution_count": 30,
      "id": "fc8e1021",
      "metadata": {
        "id": "fc8e1021"
      },
      "outputs": [],
      "source": [
        "scores = []\n",
        "\n",
        "thresholds = np.linspace(0, 1, 101)\n",
        "\n",
        "for t in thresholds:\n",
        "    actual_positive = (y_val == 1)\n",
        "    actual_negative = (y_val == 0)\n",
        "    \n",
        "    predict_positive = (y_pred >= t)\n",
        "    predict_negative = (y_pred < t)\n",
        "\n",
        "    tp = (predict_positive & actual_positive).sum()\n",
        "    tn = (predict_negative & actual_negative).sum()\n",
        "\n",
        "    fp = (predict_positive & actual_negative).sum()\n",
        "    fn = (predict_negative & actual_positive).sum()\n",
        "    \n",
        "    scores.append((t, tp, fp, fn, tn))"
      ]
    },
    {
      "cell_type": "code",
      "execution_count": 31,
      "id": "76beba9a",
      "metadata": {
        "id": "76beba9a"
      },
      "outputs": [],
      "source": [
        "columns = ['threshold', 'tp', 'fp', 'fn', 'tn']\n",
        "df_scores = pd.DataFrame(scores, columns=columns)\n",
        "\n",
        "df_scores['tpr'] = df_scores.tp / (df_scores.tp + df_scores.fn)\n",
        "df_scores['fpr'] = df_scores.fp / (df_scores.fp + df_scores.tn)"
      ]
    },
    {
      "cell_type": "code",
      "execution_count": 32,
      "id": "e125f2fe",
      "metadata": {
        "colab": {
          "base_uri": "https://localhost:8080/",
          "height": 282
        },
        "id": "e125f2fe",
        "outputId": "447f4e20-4507-436e-ddf2-0cb160f1463b"
      },
      "outputs": [
        {
          "output_type": "execute_result",
          "data": {
            "text/plain": [
              "<matplotlib.legend.Legend at 0x7f7af2cda3d0>"
            ]
          },
          "metadata": {},
          "execution_count": 32
        },
        {
          "output_type": "display_data",
          "data": {
            "text/plain": [
              "<Figure size 432x288 with 1 Axes>"
            ],
            "image/png": "[encoded data removed]"
          },
          "metadata": {
            "needs_background": "light"
          }
        }
      ],
      "source": [
        "plt.plot(df_scores.threshold, df_scores['tpr'], label='TPR')\n",
        "plt.plot(df_scores.threshold, df_scores['fpr'], label='FPR')\n",
        "plt.legend()"
      ]
    },
    {
      "cell_type": "markdown",
      "id": "f09dc644",
      "metadata": {
        "id": "f09dc644"
      },
      "source": [
        "### Random model\n"
      ]
    },
    {
      "cell_type": "markdown",
      "source": [
        "**Pick random customers to predict churn**"
      ],
      "metadata": {
        "id": "GD7ewsYcWJq7"
      },
      "id": "GD7ewsYcWJq7"
    },
    {
      "cell_type": "code",
      "execution_count": 33,
      "id": "b3a4b466",
      "metadata": {
        "id": "b3a4b466"
      },
      "outputs": [],
      "source": [
        "np.random.seed(1)\n",
        "y_rand = np.random.uniform(0, 1, size=len(y_val))"
      ]
    },
    {
      "cell_type": "code",
      "execution_count": 34,
      "id": "c6c24296",
      "metadata": {
        "colab": {
          "base_uri": "https://localhost:8080/"
        },
        "id": "c6c24296",
        "outputId": "d9418c51-0b15-456b-cec7-156aec978b2b"
      },
      "outputs": [
        {
          "output_type": "execute_result",
          "data": {
            "text/plain": [
              "0.5017743080198722"
            ]
          },
          "metadata": {},
          "execution_count": 34
        }
      ],
      "source": [
        "((y_rand >= 0.5) == y_val).mean()"
      ]
    },
    {
      "cell_type": "markdown",
      "source": [
        "**Code from above as a function**"
      ],
      "metadata": {
        "id": "6SJOAifAWQtl"
      },
      "id": "6SJOAifAWQtl"
    },
    {
      "cell_type": "code",
      "execution_count": 35,
      "id": "ba13786f",
      "metadata": {
        "id": "ba13786f"
      },
      "outputs": [],
      "source": [
        "def tpr_fpr_dataframe(y_val, y_pred):\n",
        "    scores = []\n",
        "\n",
        "    thresholds = np.linspace(0, 1, 101)\n",
        "\n",
        "    for t in thresholds:\n",
        "        actual_positive = (y_val == 1)\n",
        "        actual_negative = (y_val == 0)\n",
        "\n",
        "        predict_positive = (y_pred >= t)\n",
        "        predict_negative = (y_pred < t)\n",
        "\n",
        "        tp = (predict_positive & actual_positive).sum()\n",
        "        tn = (predict_negative & actual_negative).sum()\n",
        "\n",
        "        fp = (predict_positive & actual_negative).sum()\n",
        "        fn = (predict_negative & actual_positive).sum()\n",
        "\n",
        "        scores.append((t, tp, fp, fn, tn))\n",
        "\n",
        "    columns = ['threshold', 'tp', 'fp', 'fn', 'tn']\n",
        "    df_scores = pd.DataFrame(scores, columns=columns)\n",
        "\n",
        "    df_scores['tpr'] = df_scores.tp / (df_scores.tp + df_scores.fn)\n",
        "    df_scores['fpr'] = df_scores.fp / (df_scores.fp + df_scores.tn)\n",
        "    \n",
        "    return df_scores"
      ]
    },
    {
      "cell_type": "code",
      "execution_count": 36,
      "id": "f7af4bd1",
      "metadata": {
        "id": "f7af4bd1"
      },
      "outputs": [],
      "source": [
        "# Random predictions using the function\n",
        "df_rand = tpr_fpr_dataframe(y_val, y_rand) "
      ]
    },
    {
      "cell_type": "code",
      "execution_count": 37,
      "id": "6ea930c8",
      "metadata": {
        "colab": {
          "base_uri": "https://localhost:8080/",
          "height": 282
        },
        "id": "6ea930c8",
        "outputId": "9076034b-491b-47a7-86f2-4755d86527cd"
      },
      "outputs": [
        {
          "output_type": "execute_result",
          "data": {
            "text/plain": [
              "<matplotlib.legend.Legend at 0x7f7b0babd950>"
            ]
          },
          "metadata": {},
          "execution_count": 37
        },
        {
          "output_type": "display_data",
          "data": {
            "text/plain": [
              "<Figure size 432x288 with 1 Axes>"
            ],
            "image/png": "[encoded data removed]"
          },
          "metadata": {
            "needs_background": "light"
          }
        }
      ],
      "source": [
        "plt.plot(df_rand.threshold, df_rand['tpr'], label='TPR')\n",
        "plt.plot(df_rand.threshold, df_rand['fpr'], label='FPR')\n",
        "plt.legend()"
      ]
    },
    {
      "cell_type": "markdown",
      "id": "1958bf4d",
      "metadata": {
        "id": "1958bf4d"
      },
      "source": [
        "### Ideal model"
      ]
    },
    {
      "cell_type": "code",
      "execution_count": 38,
      "id": "b56b21df",
      "metadata": {
        "colab": {
          "base_uri": "https://localhost:8080/"
        },
        "id": "b56b21df",
        "outputId": "b3b22f92-10b9-4870-834d-49a0f47c391c"
      },
      "outputs": [
        {
          "output_type": "execute_result",
          "data": {
            "text/plain": [
              "(1023, 386)"
            ]
          },
          "metadata": {},
          "execution_count": 38
        }
      ],
      "source": [
        "num_neg = (y_val == 0).sum()\n",
        "num_pos = (y_val == 1).sum()\n",
        "num_neg, num_pos"
      ]
    },
    {
      "cell_type": "code",
      "execution_count": 39,
      "id": "7f051585",
      "metadata": {
        "id": "7f051585"
      },
      "outputs": [],
      "source": [
        "\n",
        "y_ideal = np.repeat([0, 1], [num_neg, num_pos])\n",
        "y_ideal\n",
        "\n",
        "y_ideal_pred = np.linspace(0, 1, len(y_val))"
      ]
    },
    {
      "cell_type": "code",
      "execution_count": 40,
      "id": "f7f9c21f",
      "metadata": {
        "colab": {
          "base_uri": "https://localhost:8080/"
        },
        "id": "f7f9c21f",
        "outputId": "69f8487e-4fb0-4b2b-9fc5-f1e7df0c4df9"
      },
      "outputs": [
        {
          "output_type": "execute_result",
          "data": {
            "text/plain": [
              "0.7260468417317246"
            ]
          },
          "metadata": {},
          "execution_count": 40
        }
      ],
      "source": [
        "1 - y_val.mean()"
      ]
    },
    {
      "cell_type": "code",
      "execution_count": 41,
      "id": "c85adf63",
      "metadata": {
        "colab": {
          "base_uri": "https://localhost:8080/"
        },
        "id": "c85adf63",
        "outputId": "d8bd16f2-3439-4ccc-bc6a-ecbf1dbc4947"
      },
      "outputs": [
        {
          "output_type": "execute_result",
          "data": {
            "text/plain": [
              "1.0"
            ]
          },
          "metadata": {},
          "execution_count": 41
        }
      ],
      "source": [
        "accuracy_score(y_ideal, y_ideal_pred >= 0.726)"
      ]
    },
    {
      "cell_type": "code",
      "execution_count": 42,
      "id": "b30738fe",
      "metadata": {
        "colab": {
          "base_uri": "https://localhost:8080/",
          "height": 394
        },
        "id": "b30738fe",
        "outputId": "1aa8039d-ea35-4188-c430-c1615a6e8e28"
      },
      "outputs": [
        {
          "output_type": "execute_result",
          "data": {
            "text/plain": [
              "     threshold   tp    fp   fn    tn       tpr       fpr\n",
              "0          0.0  386  1023    0     0  1.000000  1.000000\n",
              "10         0.1  386   882    0   141  1.000000  0.862170\n",
              "20         0.2  386   741    0   282  1.000000  0.724340\n",
              "30         0.3  386   600    0   423  1.000000  0.586510\n",
              "40         0.4  386   459    0   564  1.000000  0.448680\n",
              "50         0.5  386   319    0   704  1.000000  0.311828\n",
              "60         0.6  386   178    0   845  1.000000  0.173998\n",
              "70         0.7  386    37    0   986  1.000000  0.036168\n",
              "80         0.8  282     0  104  1023  0.730570  0.000000\n",
              "90         0.9  141     0  245  1023  0.365285  0.000000\n",
              "100        1.0    1     0  385  1023  0.002591  0.000000"
            ],
            "text/html": [
              "\n",
              "  <div id=\"df-b5f91d5a-9978-4526-9855-432f28734ba3\">\n",
              "    <div class=\"colab-df-container\">\n",
              "      <div>\n",
              "<style scoped>\n",
              "    .dataframe tbody tr th:only-of-type {\n",
              "        vertical-align: middle;\n",
              "    }\n",
              "\n",
              "    .dataframe tbody tr th {\n",
              "        vertical-align: top;\n",
              "    }\n",
              "\n",
              "    .dataframe thead th {\n",
              "        text-align: right;\n",
              "    }\n",
              "</style>\n",
              "<table border=\"1\" class=\"dataframe\">\n",
              "  <thead>\n",
              "    <tr style=\"text-align: right;\">\n",
              "      <th></th>\n",
              "      <th>threshold</th>\n",
              "      <th>tp</th>\n",
              "      <th>fp</th>\n",
              "      <th>fn</th>\n",
              "      <th>tn</th>\n",
              "      <th>tpr</th>\n",
              "      <th>fpr</th>\n",
              "    </tr>\n",
              "  </thead>\n",
              "  <tbody>\n",
              "    <tr>\n",
              "      <th>0</th>\n",
              "      <td>0.0</td>\n",
              "      <td>386</td>\n",
              "      <td>1023</td>\n",
              "      <td>0</td>\n",
              "      <td>0</td>\n",
              "      <td>1.000000</td>\n",
              "      <td>1.000000</td>\n",
              "    </tr>\n",
              "    <tr>\n",
              "      <th>10</th>\n",
              "      <td>0.1</td>\n",
              "      <td>386</td>\n",
              "      <td>882</td>\n",
              "      <td>0</td>\n",
              "      <td>141</td>\n",
              "      <td>1.000000</td>\n",
              "      <td>0.862170</td>\n",
              "    </tr>\n",
              "    <tr>\n",
              "      <th>20</th>\n",
              "      <td>0.2</td>\n",
              "      <td>386</td>\n",
              "      <td>741</td>\n",
              "      <td>0</td>\n",
              "      <td>282</td>\n",
              "      <td>1.000000</td>\n",
              "      <td>0.724340</td>\n",
              "    </tr>\n",
              "    <tr>\n",
              "      <th>30</th>\n",
              "      <td>0.3</td>\n",
              "      <td>386</td>\n",
              "      <td>600</td>\n",
              "      <td>0</td>\n",
              "      <td>423</td>\n",
              "      <td>1.000000</td>\n",
              "      <td>0.586510</td>\n",
              "    </tr>\n",
              "    <tr>\n",
              "      <th>40</th>\n",
              "      <td>0.4</td>\n",
              "      <td>386</td>\n",
              "      <td>459</td>\n",
              "      <td>0</td>\n",
              "      <td>564</td>\n",
              "      <td>1.000000</td>\n",
              "      <td>0.448680</td>\n",
              "    </tr>\n",
              "    <tr>\n",
              "      <th>50</th>\n",
              "      <td>0.5</td>\n",
              "      <td>386</td>\n",
              "      <td>319</td>\n",
              "      <td>0</td>\n",
              "      <td>704</td>\n",
              "      <td>1.000000</td>\n",
              "      <td>0.311828</td>\n",
              "    </tr>\n",
              "    <tr>\n",
              "      <th>60</th>\n",
              "      <td>0.6</td>\n",
              "      <td>386</td>\n",
              "      <td>178</td>\n",
              "      <td>0</td>\n",
              "      <td>845</td>\n",
              "      <td>1.000000</td>\n",
              "      <td>0.173998</td>\n",
              "    </tr>\n",
              "    <tr>\n",
              "      <th>70</th>\n",
              "      <td>0.7</td>\n",
              "      <td>386</td>\n",
              "      <td>37</td>\n",
              "      <td>0</td>\n",
              "      <td>986</td>\n",
              "      <td>1.000000</td>\n",
              "      <td>0.036168</td>\n",
              "    </tr>\n",
              "    <tr>\n",
              "      <th>80</th>\n",
              "      <td>0.8</td>\n",
              "      <td>282</td>\n",
              "      <td>0</td>\n",
              "      <td>104</td>\n",
              "      <td>1023</td>\n",
              "      <td>0.730570</td>\n",
              "      <td>0.000000</td>\n",
              "    </tr>\n",
              "    <tr>\n",
              "      <th>90</th>\n",
              "      <td>0.9</td>\n",
              "      <td>141</td>\n",
              "      <td>0</td>\n",
              "      <td>245</td>\n",
              "      <td>1023</td>\n",
              "      <td>0.365285</td>\n",
              "      <td>0.000000</td>\n",
              "    </tr>\n",
              "    <tr>\n",
              "      <th>100</th>\n",
              "      <td>1.0</td>\n",
              "      <td>1</td>\n",
              "      <td>0</td>\n",
              "      <td>385</td>\n",
              "      <td>1023</td>\n",
              "      <td>0.002591</td>\n",
              "      <td>0.000000</td>\n",
              "    </tr>\n",
              "  </tbody>\n",
              "</table>\n",
              "</div>\n",
              "      <button class=\"colab-df-convert\" onclick=\"convertToInteractive('df-b5f91d5a-9978-4526-9855-432f28734ba3')\"\n",
              "              title=\"Convert this dataframe to an interactive table.\"\n",
              "              style=\"display:none;\">\n",
              "        \n",
              "  <svg xmlns=\"http://www.w3.org/2000/svg\" height=\"24px\"viewBox=\"0 0 24 24\"\n",
              "       width=\"24px\">\n",
              "    <path d=\"M0 0h24v24H0V0z\" fill=\"none\"/>\n",
              "    <path d=\"M18.56 5.44l.94 2.06.94-2.06 2.06-.94-2.06-.94-.94-2.06-.94 2.06-2.06.94zm-11 1L8.5 8.5l.94-2.06 2.06-.94-2.06-.94L8.5 2.5l-.94 2.06-2.06.94zm10 10l.94 2.06.94-2.06 2.06-.94-2.06-.94-.94-2.06-.94 2.06-2.06.94z\"/><path d=\"M17.41 7.96l-1.37-1.37c-.4-.4-.92-.59-1.43-.59-.52 0-1.04.2-1.43.59L10.3 9.45l-7.72 7.72c-.78.78-.78 2.05 0 2.83L4 21.41c.39.39.9.59 1.41.59.51 0 1.02-.2 1.41-.59l7.78-7.78 2.81-2.81c.8-.78.8-2.07 0-2.86zM5.41 20L4 18.59l7.72-7.72 1.47 1.35L5.41 20z\"/>\n",
              "  </svg>\n",
              "      </button>\n",
              "      \n",
              "  <style>\n",
              "    .colab-df-container {\n",
              "      display:flex;\n",
              "      flex-wrap:wrap;\n",
              "      gap: 12px;\n",
              "    }\n",
              "\n",
              "    .colab-df-convert {\n",
              "      background-color: #E8F0FE;\n",
              "      border: none;\n",
              "      border-radius: 50%;\n",
              "      cursor: pointer;\n",
              "      display: none;\n",
              "      fill: #1967D2;\n",
              "      height: 32px;\n",
              "      padding: 0 0 0 0;\n",
              "      width: 32px;\n",
              "    }\n",
              "\n",
              "    .colab-df-convert:hover {\n",
              "      background-color: #E2EBFA;\n",
              "      box-shadow: 0px 1px 2px rgba(60, 64, 67, 0.3), 0px 1px 3px 1px rgba(60, 64, 67, 0.15);\n",
              "      fill: #174EA6;\n",
              "    }\n",
              "\n",
              "    [theme=dark] .colab-df-convert {\n",
              "      background-color: #3B4455;\n",
              "      fill: #D2E3FC;\n",
              "    }\n",
              "\n",
              "    [theme=dark] .colab-df-convert:hover {\n",
              "      background-color: #434B5C;\n",
              "      box-shadow: 0px 1px 3px 1px rgba(0, 0, 0, 0.15);\n",
              "      filter: drop-shadow(0px 1px 2px rgba(0, 0, 0, 0.3));\n",
              "      fill: #FFFFFF;\n",
              "    }\n",
              "  </style>\n",
              "\n",
              "      <script>\n",
              "        const buttonEl =\n",
              "          document.querySelector('#df-b5f91d5a-9978-4526-9855-432f28734ba3 button.colab-df-convert');\n",
              "        buttonEl.style.display =\n",
              "          google.colab.kernel.accessAllowed ? 'block' : 'none';\n",
              "\n",
              "        async function convertToInteractive(key) {\n",
              "          const element = document.querySelector('#df-b5f91d5a-9978-4526-9855-432f28734ba3');\n",
              "          const dataTable =\n",
              "            await google.colab.kernel.invokeFunction('convertToInteractive',\n",
              "                                                     [key], {});\n",
              "          if (!dataTable) return;\n",
              "\n",
              "          const docLinkHtml = 'Like what you see? Visit the ' +\n",
              "            '<a target=\"_blank\" href=https://colab.research.google.com/notebooks/data_table.ipynb>data table notebook</a>'\n",
              "            + ' to learn more about interactive tables.';\n",
              "          element.innerHTML = '';\n",
              "          dataTable['output_type'] = 'display_data';\n",
              "          await google.colab.output.renderOutput(dataTable, element);\n",
              "          const docLink = document.createElement('div');\n",
              "          docLink.innerHTML = docLinkHtml;\n",
              "          element.appendChild(docLink);\n",
              "        }\n",
              "      </script>\n",
              "    </div>\n",
              "  </div>\n",
              "  "
            ]
          },
          "metadata": {},
          "execution_count": 42
        }
      ],
      "source": [
        "df_ideal = tpr_fpr_dataframe(y_ideal, y_ideal_pred)\n",
        "df_ideal[::10]"
      ]
    },
    {
      "cell_type": "code",
      "execution_count": 43,
      "id": "60cb9f81",
      "metadata": {
        "colab": {
          "base_uri": "https://localhost:8080/",
          "height": 282
        },
        "id": "60cb9f81",
        "outputId": "065404da-6cdd-4c4a-8d8c-770e593681df"
      },
      "outputs": [
        {
          "output_type": "execute_result",
          "data": {
            "text/plain": [
              "<matplotlib.legend.Legend at 0x7f7af33a40d0>"
            ]
          },
          "metadata": {},
          "execution_count": 43
        },
        {
          "output_type": "display_data",
          "data": {
            "text/plain": [
              "<Figure size 432x288 with 1 Axes>"
            ],
            "image/png": "[encoded data removed]"
          },
          "metadata": {
            "needs_background": "light"
          }
        }
      ],
      "source": [
        "plt.plot(df_ideal.threshold, df_ideal['tpr'], label='TPR')\n",
        "plt.plot(df_ideal.threshold, df_ideal['fpr'], label='FPR')\n",
        "plt.legend()"
      ]
    },
    {
      "cell_type": "markdown",
      "id": "434d98c9",
      "metadata": {
        "id": "434d98c9"
      },
      "source": [
        "### Putting everything together"
      ]
    },
    {
      "cell_type": "code",
      "execution_count": 44,
      "id": "d7a28486",
      "metadata": {
        "colab": {
          "base_uri": "https://localhost:8080/",
          "height": 0
        },
        "id": "d7a28486",
        "outputId": "37f12d46-f493-46d2-bae8-deb64412e8d9"
      },
      "outputs": [
        {
          "output_type": "execute_result",
          "data": {
            "text/plain": [
              "<matplotlib.legend.Legend at 0x7f7af3137690>"
            ]
          },
          "metadata": {},
          "execution_count": 44
        },
        {
          "output_type": "display_data",
          "data": {
            "text/plain": [
              "<Figure size 432x288 with 1 Axes>"
            ],
            "image/png": "[encoded data removed]"
          },
          "metadata": {
            "needs_background": "light"
          }
        }
      ],
      "source": [
        "plt.plot(df_scores.threshold, df_scores['tpr'], label='TPR', color='black')\n",
        "plt.plot(df_scores.threshold, df_scores['fpr'], label='FPR', color='blue')\n",
        "\n",
        "plt.plot(df_ideal.threshold, df_ideal['tpr'], label='TPR ideal')\n",
        "plt.plot(df_ideal.threshold, df_ideal['fpr'], label='FPR ideal')\n",
        "\n",
        "# plt.plot(df_rand.threshold, df_rand['tpr'], label='TPR random', color='grey')\n",
        "# plt.plot(df_rand.threshold, df_rand['fpr'], label='FPR random', color='grey')\n",
        "\n",
        "plt.legend()"
      ]
    },
    {
      "cell_type": "code",
      "execution_count": 45,
      "id": "bc605391",
      "metadata": {
        "colab": {
          "base_uri": "https://localhost:8080/",
          "height": 0
        },
        "id": "bc605391",
        "outputId": "3da6e992-f74d-4e7c-ab64-b09103e7ee5f"
      },
      "outputs": [
        {
          "output_type": "execute_result",
          "data": {
            "text/plain": [
              "<matplotlib.legend.Legend at 0x7f7af311c6d0>"
            ]
          },
          "metadata": {},
          "execution_count": 45
        },
        {
          "output_type": "display_data",
          "data": {
            "text/plain": [
              "<Figure size 360x360 with 1 Axes>"
            ],
            "image/png": "[encoded data removed]"
          },
          "metadata": {
            "needs_background": "light"
          }
        }
      ],
      "source": [
        "plt.figure(figsize=(5, 5))\n",
        "\n",
        "plt.plot(df_scores.fpr, df_scores.tpr, label='Model')\n",
        "plt.plot([0, 1], [0, 1], label='Random', linestyle='--')\n",
        "\n",
        "plt.xlabel('FPR')\n",
        "plt.ylabel('TPR')\n",
        "\n",
        "plt.legend()"
      ]
    },
    {
      "cell_type": "code",
      "execution_count": 46,
      "id": "4a689523",
      "metadata": {
        "id": "4a689523"
      },
      "outputs": [],
      "source": [
        "from sklearn.metrics import roc_curve"
      ]
    },
    {
      "cell_type": "code",
      "execution_count": 47,
      "id": "37c94946",
      "metadata": {
        "id": "37c94946"
      },
      "outputs": [],
      "source": [
        "fpr, tpr, thresholds = roc_curve(y_val, y_pred)"
      ]
    },
    {
      "cell_type": "code",
      "execution_count": 48,
      "id": "5863648f",
      "metadata": {
        "colab": {
          "base_uri": "https://localhost:8080/",
          "height": 0
        },
        "id": "5863648f",
        "outputId": "5c86f949-6337-4352-a2e1-6908ef58a6a7"
      },
      "outputs": [
        {
          "output_type": "execute_result",
          "data": {
            "text/plain": [
              "<matplotlib.legend.Legend at 0x7f7aefc3a390>"
            ]
          },
          "metadata": {},
          "execution_count": 48
        },
        {
          "output_type": "display_data",
          "data": {
            "text/plain": [
              "<Figure size 360x360 with 1 Axes>"
            ],
            "image/png": "[encoded data removed]"
          },
          "metadata": {
            "needs_background": "light"
          }
        }
      ],
      "source": [
        "plt.figure(figsize=(5, 5))\n",
        "\n",
        "plt.plot(fpr, tpr, label='Model')\n",
        "plt.plot([0, 1], [0, 1], label='Random', linestyle='--')\n",
        "\n",
        "plt.xlabel('FPR')\n",
        "plt.ylabel('TPR')\n",
        "\n",
        "plt.legend()"
      ]
    },
    {
      "cell_type": "markdown",
      "id": "886f8028",
      "metadata": {
        "id": "886f8028"
      },
      "source": [
        "## 4.6 ROC AUC\n",
        "\n",
        "* Area under the ROC curve - useful metric\n",
        "* Interpretation of AUC"
      ]
    },
    {
      "cell_type": "code",
      "execution_count": 49,
      "id": "7509a4b6",
      "metadata": {
        "id": "7509a4b6"
      },
      "outputs": [],
      "source": [
        "from sklearn.metrics import auc"
      ]
    },
    {
      "cell_type": "code",
      "execution_count": 50,
      "id": "6643a6e6",
      "metadata": {
        "colab": {
          "base_uri": "https://localhost:8080/"
        },
        "id": "6643a6e6",
        "outputId": "dd64533c-0579-42ee-d87c-8814fb711a67"
      },
      "outputs": [
        {
          "output_type": "execute_result",
          "data": {
            "text/plain": [
              "0.8438530381535563"
            ]
          },
          "metadata": {},
          "execution_count": 50
        }
      ],
      "source": [
        "auc(fpr, tpr)"
      ]
    },
    {
      "cell_type": "code",
      "execution_count": 51,
      "id": "e1c0c11b",
      "metadata": {
        "colab": {
          "base_uri": "https://localhost:8080/"
        },
        "id": "e1c0c11b",
        "outputId": "898c9a48-52e8-45ff-eead-5e68c717119b"
      },
      "outputs": [
        {
          "output_type": "execute_result",
          "data": {
            "text/plain": [
              "0.8438732975754537"
            ]
          },
          "metadata": {},
          "execution_count": 51
        }
      ],
      "source": [
        "auc(df_scores.fpr, df_scores.tpr)"
      ]
    },
    {
      "cell_type": "code",
      "execution_count": 52,
      "id": "0774697c",
      "metadata": {
        "colab": {
          "base_uri": "https://localhost:8080/"
        },
        "id": "0774697c",
        "outputId": "7e279644-a83b-4157-e288-683657c17a7a"
      },
      "outputs": [
        {
          "output_type": "execute_result",
          "data": {
            "text/plain": [
              "0.9999430203759136"
            ]
          },
          "metadata": {},
          "execution_count": 52
        }
      ],
      "source": [
        "auc(df_ideal.fpr, df_ideal.tpr)"
      ]
    },
    {
      "cell_type": "code",
      "execution_count": 53,
      "id": "9f8658f5",
      "metadata": {
        "colab": {
          "base_uri": "https://localhost:8080/"
        },
        "id": "9f8658f5",
        "outputId": "c929a12f-2484-400b-fa94-c5f8a282d2cf"
      },
      "outputs": [
        {
          "output_type": "execute_result",
          "data": {
            "text/plain": [
              "0.8438530381535563"
            ]
          },
          "metadata": {},
          "execution_count": 53
        }
      ],
      "source": [
        "fpr, tpr, thresholds = roc_curve(y_val, y_pred)\n",
        "auc(fpr, tpr)"
      ]
    },
    {
      "cell_type": "code",
      "execution_count": 54,
      "id": "29cbdd64",
      "metadata": {
        "id": "29cbdd64"
      },
      "outputs": [],
      "source": [
        "from sklearn.metrics import roc_auc_score"
      ]
    },
    {
      "cell_type": "code",
      "execution_count": 55,
      "id": "9fd31898",
      "metadata": {
        "colab": {
          "base_uri": "https://localhost:8080/"
        },
        "id": "9fd31898",
        "outputId": "3e065ba2-4885-4f66-dc5c-ffe3387bbce2"
      },
      "outputs": [
        {
          "output_type": "execute_result",
          "data": {
            "text/plain": [
              "0.8438530381535563"
            ]
          },
          "metadata": {},
          "execution_count": 55
        }
      ],
      "source": [
        "roc_auc_score(y_val, y_pred)"
      ]
    },
    {
      "cell_type": "code",
      "execution_count": 56,
      "id": "02bb73e9",
      "metadata": {
        "id": "02bb73e9"
      },
      "outputs": [],
      "source": [
        "neg = y_pred[y_val == 0]\n",
        "pos = y_pred[y_val == 1]"
      ]
    },
    {
      "cell_type": "code",
      "execution_count": 57,
      "id": "cfeb22b1",
      "metadata": {
        "id": "cfeb22b1"
      },
      "outputs": [],
      "source": [
        "import random"
      ]
    },
    {
      "cell_type": "code",
      "execution_count": 58,
      "id": "ee7da8e1",
      "metadata": {
        "colab": {
          "base_uri": "https://localhost:8080/"
        },
        "id": "ee7da8e1",
        "outputId": "ec85ca0d-42c1-4169-9c63-b78656369b69"
      },
      "outputs": [
        {
          "output_type": "execute_result",
          "data": {
            "text/plain": [
              "0.84373"
            ]
          },
          "metadata": {},
          "execution_count": 58
        }
      ],
      "source": [
        "n = 100000\n",
        "success = 0 \n",
        "\n",
        "for i in range(n):\n",
        "    pos_ind = random.randint(0, len(pos) - 1)\n",
        "    neg_ind = random.randint(0, len(neg) - 1)\n",
        "\n",
        "    if pos[pos_ind] > neg[neg_ind]:\n",
        "        success = success + 1\n",
        "\n",
        "success / n"
      ]
    },
    {
      "cell_type": "code",
      "execution_count": 59,
      "id": "2b9e19e4",
      "metadata": {
        "colab": {
          "base_uri": "https://localhost:8080/"
        },
        "id": "2b9e19e4",
        "outputId": "c1e8b14d-0c39-4b9c-d366-87779da42280"
      },
      "outputs": [
        {
          "output_type": "execute_result",
          "data": {
            "text/plain": [
              "0.84646"
            ]
          },
          "metadata": {},
          "execution_count": 59
        }
      ],
      "source": [
        "n = 50000\n",
        "\n",
        "np.random.seed(1)\n",
        "pos_ind = np.random.randint(0, len(pos), size=n)\n",
        "neg_ind = np.random.randint(0, len(neg), size=n)\n",
        "\n",
        "(pos[pos_ind] > neg[neg_ind]).mean()"
      ]
    },
    {
      "cell_type": "markdown",
      "id": "6336a636",
      "metadata": {
        "id": "6336a636"
      },
      "source": [
        "## 4.7 Cross-Validation\n",
        "\n",
        "* Evaluating the same model on different subsets of data\n",
        "* Getting the average prediction and the spread within predictions"
      ]
    },
    {
      "cell_type": "code",
      "execution_count": 60,
      "id": "92708443",
      "metadata": {
        "id": "92708443"
      },
      "outputs": [],
      "source": [
        "def train(df_train, y_train, C=1.0):\n",
        "    dicts = df_train[categorical + numerical].to_dict(orient='records')\n",
        "\n",
        "    dv = DictVectorizer(sparse=False)\n",
        "    X_train = dv.fit_transform(dicts)\n",
        "\n",
        "    model = LogisticRegression(C=C, max_iter=1000)\n",
        "    model.fit(X_train, y_train)\n",
        "    \n",
        "    return dv, model"
      ]
    },
    {
      "cell_type": "code",
      "execution_count": 61,
      "id": "4689044d",
      "metadata": {
        "id": "4689044d"
      },
      "outputs": [],
      "source": [
        "dv, model = train(df_train, y_train, C=0.001)"
      ]
    },
    {
      "cell_type": "code",
      "execution_count": 62,
      "id": "08ac302c",
      "metadata": {
        "id": "08ac302c"
      },
      "outputs": [],
      "source": [
        "def predict(df, dv, model):\n",
        "    dicts = df[categorical + numerical].to_dict(orient='records')\n",
        "\n",
        "    X = dv.transform(dicts)\n",
        "    y_pred = model.predict_proba(X)[:, 1]\n",
        "\n",
        "    return y_pred"
      ]
    },
    {
      "cell_type": "code",
      "execution_count": 63,
      "id": "95d88ee1",
      "metadata": {
        "id": "95d88ee1"
      },
      "outputs": [],
      "source": [
        "y_pred = predict(df_val, dv, model)"
      ]
    },
    {
      "cell_type": "code",
      "execution_count": 64,
      "id": "e3c7e607",
      "metadata": {
        "id": "e3c7e607"
      },
      "outputs": [],
      "source": [
        "from sklearn.model_selection import KFold"
      ]
    },
    {
      "cell_type": "code",
      "execution_count": 64,
      "id": "e1d8a427",
      "metadata": {
        "id": "e1d8a427"
      },
      "outputs": [],
      "source": [
        "\n"
      ]
    },
    {
      "cell_type": "code",
      "execution_count": 65,
      "id": "d5c8e07d",
      "metadata": {
        "colab": {
          "base_uri": "https://localhost:8080/"
        },
        "id": "d5c8e07d",
        "outputId": "06698679-6116-43f7-c1a9-0d5f967d321f"
      },
      "outputs": [
        {
          "output_type": "stream",
          "name": "stdout",
          "text": [
            "Looking in indexes: https://pypi.org/simple, https://us-python.pkg.dev/colab-wheels/public/simple/\n",
            "Requirement already satisfied: tqdm in /usr/local/lib/python3.7/dist-packages (4.64.1)\n"
          ]
        }
      ],
      "source": [
        "!pip install tqdm"
      ]
    },
    {
      "cell_type": "code",
      "execution_count": 66,
      "id": "a8fe7363",
      "metadata": {
        "id": "a8fe7363"
      },
      "outputs": [],
      "source": [
        "from tqdm.auto import tqdm"
      ]
    },
    {
      "cell_type": "code",
      "execution_count": 67,
      "id": "ce936aca",
      "metadata": {
        "colab": {
          "base_uri": "https://localhost:8080/",
          "height": 0,
          "referenced_widgets": [
            "9aa54fdc119e4908af42716866d49a30",
            "b0b685e6fe2441b49d0317a53a36bd60",
            "da96bc57340c4726aa16c07f4fe9cbba",
            "d6f00aa6408546b09d4726043aab3cca",
            "9341c43bbaf245c5837d81ebe0d74619",
            "7e8901a9a34943e3a5e97b841e09d570",
            "75abc529f50c4a169ded6e0e501b8638",
            "a988b97725af446181a7a01468c47e88",
            "3d28d0626dc94a76b475964939da51c2",
            "8a62793f1dc64305a845fb246d69f9b0",
            "e33dc790aaf14e7b9edb4890039f7531"
          ]
        },
        "id": "ce936aca",
        "outputId": "ee06ad17-af24-4814-8282-75677e41d28b"
      },
      "outputs": [
        {
          "output_type": "display_data",
          "data": {
            "text/plain": [
              "  0%|          | 0/7 [00:00<?, ?it/s]"
            ],
            "application/vnd.jupyter.widget-view+json": {
              "version_major": 2,
              "version_minor": 0,
              "model_id": "9aa54fdc119e4908af42716866d49a30"
            }
          },
          "metadata": {}
        },
        {
          "output_type": "stream",
          "name": "stdout",
          "text": [
            "C=0.001 0.825 +- 0.009\n",
            "C=0.01 0.840 +- 0.009\n",
            "C=0.1 0.841 +- 0.007\n",
            "C=0.5 0.840 +- 0.006\n",
            "C=1 0.840 +- 0.008\n",
            "C=5 0.841 +- 0.008\n",
            "C=10 0.842 +- 0.008\n"
          ]
        }
      ],
      "source": [
        "n_splits = 5\n",
        "\n",
        "for C in tqdm([0.001, 0.01, 0.1, 0.5, 1, 5, 10]):\n",
        "    kfold = KFold(n_splits=n_splits, shuffle=True, random_state=1)\n",
        "\n",
        "    scores = []\n",
        "\n",
        "    for train_idx, val_idx in kfold.split(df_full_train):\n",
        "        df_train = df_full_train.iloc[train_idx]\n",
        "        df_val = df_full_train.iloc[val_idx]\n",
        "\n",
        "        y_train = df_train.churn.values\n",
        "        y_val = df_val.churn.values\n",
        "\n",
        "        dv, model = train(df_train, y_train, C=C)\n",
        "        y_pred = predict(df_val, dv, model)\n",
        "\n",
        "        auc = roc_auc_score(y_val, y_pred)\n",
        "        scores.append(auc)\n",
        "\n",
        "    print('C=%s %.3f +- %.3f' % (C, np.mean(scores), np.std(scores)))"
      ]
    },
    {
      "cell_type": "code",
      "execution_count": 68,
      "id": "2f72b194",
      "metadata": {
        "colab": {
          "base_uri": "https://localhost:8080/"
        },
        "id": "2f72b194",
        "outputId": "9d473ad7-7381-4a84-c241-f7d61259895f"
      },
      "outputs": [
        {
          "output_type": "execute_result",
          "data": {
            "text/plain": [
              "[0.8437252239169172,\n",
              " 0.8458461627598993,\n",
              " 0.8325265904073851,\n",
              " 0.8329702788258618,\n",
              " 0.8525462018763139]"
            ]
          },
          "metadata": {},
          "execution_count": 68
        }
      ],
      "source": [
        "scores"
      ]
    },
    {
      "cell_type": "code",
      "execution_count": 69,
      "id": "03e81326",
      "metadata": {
        "colab": {
          "base_uri": "https://localhost:8080/"
        },
        "id": "03e81326",
        "outputId": "eea14958-0272-48ff-81e1-8c09c085b0ad"
      },
      "outputs": [
        {
          "output_type": "execute_result",
          "data": {
            "text/plain": [
              "0.8572386167896259"
            ]
          },
          "metadata": {},
          "execution_count": 69
        }
      ],
      "source": [
        "dv, model = train(df_full_train, df_full_train.churn.values, C=1.0)\n",
        "y_pred = predict(df_test, dv, model)\n",
        "\n",
        "auc = roc_auc_score(y_test, y_pred)\n",
        "auc"
      ]
    },
    {
      "cell_type": "markdown",
      "id": "db242dff",
      "metadata": {
        "id": "db242dff"
      },
      "source": [
        "## 4.8 Summary\n",
        "\n",
        "* Metric - a single number that describes the performance of a model\n",
        "* Accuracy - fraction of correct answers; sometimes misleading \n",
        "* Precision and recall are less misleading when we have class inbalance\n",
        "* ROC Curve - a way to evaluate the performance at all thresholds; okay to use with imbalance\n",
        "* K-Fold CV - more reliable estimate for performance (mean + std)"
      ]
    },
    {
      "cell_type": "markdown",
      "id": "4941b0ca",
      "metadata": {
        "id": "4941b0ca"
      },
      "source": [
        "## 4.9 Explore more\n",
        "\n",
        "* Check the precision and recall of the dummy classifier that always predict \"FALSE\"\n",
        "* F1 score = 2 * P * R / (P + R)\n",
        "* Evaluate precision and recall at different thresholds, plot P vs R - this way you'll get the precision/recall curve (similar to ROC curve)\n",
        "* Area under the PR curve is also a useful metric\n",
        "\n",
        "Other projects:\n",
        "\n",
        "* Calculate the metrics for datasets from the previous week"
      ]
    },
    {
      "cell_type": "code",
      "execution_count": 69,
      "id": "ade60b8d",
      "metadata": {
        "id": "ade60b8d"
      },
      "outputs": [],
      "source": []
    }
  ],
  "metadata": {
    "kernelspec": {
      "display_name": "Python 3 (ipykernel)",
      "language": "python",
      "name": "python3"
    },
    "language_info": {
      "codemirror_mode": {
        "name": "ipython",
        "version": 3
      },
      "file_extension": ".py",
      "mimetype": "text/x-python",
      "name": "python",
      "nbconvert_exporter": "python",
      "pygments_lexer": "ipython3",
      "version": "3.8.11"
    },
    "colab": {
      "provenance": [],
      "include_colab_link": true
    },
    "widgets": {
      "application/vnd.jupyter.widget-state+json": {
        "9aa54fdc119e4908af42716866d49a30": {
          "model_module": "@jupyter-widgets/controls",
          "model_name": "HBoxModel",
          "model_module_version": "1.5.0",
          "state": {
            "_dom_classes": [],
            "_model_module": "@jupyter-widgets/controls",
            "_model_module_version": "1.5.0",
            "_model_name": "HBoxModel",
            "_view_count": null,
            "_view_module": "@jupyter-widgets/controls",
            "_view_module_version": "1.5.0",
            "_view_name": "HBoxView",
            "box_style": "",
            "children": [
              "IPY_MODEL_b0b685e6fe2441b49d0317a53a36bd60",
              "IPY_MODEL_da96bc57340c4726aa16c07f4fe9cbba",
              "IPY_MODEL_d6f00aa6408546b09d4726043aab3cca"
            ],
            "layout": "IPY_MODEL_9341c43bbaf245c5837d81ebe0d74619"
          }
        },
        "b0b685e6fe2441b49d0317a53a36bd60": {
          "model_module": "@jupyter-widgets/controls",
          "model_name": "HTMLModel",
          "model_module_version": "1.5.0",
          "state": {
            "_dom_classes": [],
            "_model_module": "@jupyter-widgets/controls",
            "_model_module_version": "1.5.0",
            "_model_name": "HTMLModel",
            "_view_count": null,
            "_view_module": "@jupyter-widgets/controls",
            "_view_module_version": "1.5.0",
            "_view_name": "HTMLView",
            "description": "",
            "description_tooltip": null,
            "layout": "IPY_MODEL_7e8901a9a34943e3a5e97b841e09d570",
            "placeholder": "​",
            "style": "IPY_MODEL_75abc529f50c4a169ded6e0e501b8638",
            "value": "100%"
          }
        },
        "da96bc57340c4726aa16c07f4fe9cbba": {
          "model_module": "@jupyter-widgets/controls",
          "model_name": "FloatProgressModel",
          "model_module_version": "1.5.0",
          "state": {
            "_dom_classes": [],
            "_model_module": "@jupyter-widgets/controls",
            "_model_module_version": "1.5.0",
            "_model_name": "FloatProgressModel",
            "_view_count": null,
            "_view_module": "@jupyter-widgets/controls",
            "_view_module_version": "1.5.0",
            "_view_name": "ProgressView",
            "bar_style": "success",
            "description": "",
            "description_tooltip": null,
            "layout": "IPY_MODEL_a988b97725af446181a7a01468c47e88",
            "max": 7,
            "min": 0,
            "orientation": "horizontal",
            "style": "IPY_MODEL_3d28d0626dc94a76b475964939da51c2",
            "value": 7
          }
        },
        "d6f00aa6408546b09d4726043aab3cca": {
          "model_module": "@jupyter-widgets/controls",
          "model_name": "HTMLModel",
          "model_module_version": "1.5.0",
          "state": {
            "_dom_classes": [],
            "_model_module": "@jupyter-widgets/controls",
            "_model_module_version": "1.5.0",
            "_model_name": "HTMLModel",
            "_view_count": null,
            "_view_module": "@jupyter-widgets/controls",
            "_view_module_version": "1.5.0",
            "_view_name": "HTMLView",
            "description": "",
            "description_tooltip": null,
            "layout": "IPY_MODEL_8a62793f1dc64305a845fb246d69f9b0",
            "placeholder": "​",
            "style": "IPY_MODEL_e33dc790aaf14e7b9edb4890039f7531",
            "value": " 7/7 [00:32&lt;00:00,  4.76s/it]"
          }
        },
        "9341c43bbaf245c5837d81ebe0d74619": {
          "model_module": "@jupyter-widgets/base",
          "model_name": "LayoutModel",
          "model_module_version": "1.2.0",
          "state": {
            "_model_module": "@jupyter-widgets/base",
            "_model_module_version": "1.2.0",
            "_model_name": "LayoutModel",
            "_view_count": null,
            "_view_module": "@jupyter-widgets/base",
            "_view_module_version": "1.2.0",
            "_view_name": "LayoutView",
            "align_content": null,
            "align_items": null,
            "align_self": null,
            "border": null,
            "bottom": null,
            "display": null,
            "flex": null,
            "flex_flow": null,
            "grid_area": null,
            "grid_auto_columns": null,
            "grid_auto_flow": null,
            "grid_auto_rows": null,
            "grid_column": null,
            "grid_gap": null,
            "grid_row": null,
            "grid_template_areas": null,
            "grid_template_columns": null,
            "grid_template_rows": null,
            "height": null,
            "justify_content": null,
            "justify_items": null,
            "left": null,
            "margin": null,
            "max_height": null,
            "max_width": null,
            "min_height": null,
            "min_width": null,
            "object_fit": null,
            "object_position": null,
            "order": null,
            "overflow": null,
            "overflow_x": null,
            "overflow_y": null,
            "padding": null,
            "right": null,
            "top": null,
            "visibility": null,
            "width": null
          }
        },
        "7e8901a9a34943e3a5e97b841e09d570": {
          "model_module": "@jupyter-widgets/base",
          "model_name": "LayoutModel",
          "model_module_version": "1.2.0",
          "state": {
            "_model_module": "@jupyter-widgets/base",
            "_model_module_version": "1.2.0",
            "_model_name": "LayoutModel",
            "_view_count": null,
            "_view_module": "@jupyter-widgets/base",
            "_view_module_version": "1.2.0",
            "_view_name": "LayoutView",
            "align_content": null,
            "align_items": null,
            "align_self": null,
            "border": null,
            "bottom": null,
            "display": null,
            "flex": null,
            "flex_flow": null,
            "grid_area": null,
            "grid_auto_columns": null,
            "grid_auto_flow": null,
            "grid_auto_rows": null,
            "grid_column": null,
            "grid_gap": null,
            "grid_row": null,
            "grid_template_areas": null,
            "grid_template_columns": null,
            "grid_template_rows": null,
            "height": null,
            "justify_content": null,
            "justify_items": null,
            "left": null,
            "margin": null,
            "max_height": null,
            "max_width": null,
            "min_height": null,
            "min_width": null,
            "object_fit": null,
            "object_position": null,
            "order": null,
            "overflow": null,
            "overflow_x": null,
            "overflow_y": null,
            "padding": null,
            "right": null,
            "top": null,
            "visibility": null,
            "width": null
          }
        },
        "75abc529f50c4a169ded6e0e501b8638": {
          "model_module": "@jupyter-widgets/controls",
          "model_name": "DescriptionStyleModel",
          "model_module_version": "1.5.0",
          "state": {
            "_model_module": "@jupyter-widgets/controls",
            "_model_module_version": "1.5.0",
            "_model_name": "DescriptionStyleModel",
            "_view_count": null,
            "_view_module": "@jupyter-widgets/base",
            "_view_module_version": "1.2.0",
            "_view_name": "StyleView",
            "description_width": ""
          }
        },
        "a988b97725af446181a7a01468c47e88": {
          "model_module": "@jupyter-widgets/base",
          "model_name": "LayoutModel",
          "model_module_version": "1.2.0",
          "state": {
            "_model_module": "@jupyter-widgets/base",
            "_model_module_version": "1.2.0",
            "_model_name": "LayoutModel",
            "_view_count": null,
            "_view_module": "@jupyter-widgets/base",
            "_view_module_version": "1.2.0",
            "_view_name": "LayoutView",
            "align_content": null,
            "align_items": null,
            "align_self": null,
            "border": null,
            "bottom": null,
            "display": null,
            "flex": null,
            "flex_flow": null,
            "grid_area": null,
            "grid_auto_columns": null,
            "grid_auto_flow": null,
            "grid_auto_rows": null,
            "grid_column": null,
            "grid_gap": null,
            "grid_row": null,
            "grid_template_areas": null,
            "grid_template_columns": null,
            "grid_template_rows": null,
            "height": null,
            "justify_content": null,
            "justify_items": null,
            "left": null,
            "margin": null,
            "max_height": null,
            "max_width": null,
            "min_height": null,
            "min_width": null,
            "object_fit": null,
            "object_position": null,
            "order": null,
            "overflow": null,
            "overflow_x": null,
            "overflow_y": null,
            "padding": null,
            "right": null,
            "top": null,
            "visibility": null,
            "width": null
          }
        },
        "3d28d0626dc94a76b475964939da51c2": {
          "model_module": "@jupyter-widgets/controls",
          "model_name": "ProgressStyleModel",
          "model_module_version": "1.5.0",
          "state": {
            "_model_module": "@jupyter-widgets/controls",
            "_model_module_version": "1.5.0",
            "_model_name": "ProgressStyleModel",
            "_view_count": null,
            "_view_module": "@jupyter-widgets/base",
            "_view_module_version": "1.2.0",
            "_view_name": "StyleView",
            "bar_color": null,
            "description_width": ""
          }
        },
        "8a62793f1dc64305a845fb246d69f9b0": {
          "model_module": "@jupyter-widgets/base",
          "model_name": "LayoutModel",
          "model_module_version": "1.2.0",
          "state": {
            "_model_module": "@jupyter-widgets/base",
            "_model_module_version": "1.2.0",
            "_model_name": "LayoutModel",
            "_view_count": null,
            "_view_module": "@jupyter-widgets/base",
            "_view_module_version": "1.2.0",
            "_view_name": "LayoutView",
            "align_content": null,
            "align_items": null,
            "align_self": null,
            "border": null,
            "bottom": null,
            "display": null,
            "flex": null,
            "flex_flow": null,
            "grid_area": null,
            "grid_auto_columns": null,
            "grid_auto_flow": null,
            "grid_auto_rows": null,
            "grid_column": null,
            "grid_gap": null,
            "grid_row": null,
            "grid_template_areas": null,
            "grid_template_columns": null,
            "grid_template_rows": null,
            "height": null,
            "justify_content": null,
            "justify_items": null,
            "left": null,
            "margin": null,
            "max_height": null,
            "max_width": null,
            "min_height": null,
            "min_width": null,
            "object_fit": null,
            "object_position": null,
            "order": null,
            "overflow": null,
            "overflow_x": null,
            "overflow_y": null,
            "padding": null,
            "right": null,
            "top": null,
            "visibility": null,
            "width": null
          }
        },
        "e33dc790aaf14e7b9edb4890039f7531": {
          "model_module": "@jupyter-widgets/controls",
          "model_name": "DescriptionStyleModel",
          "model_module_version": "1.5.0",
          "state": {
            "_model_module": "@jupyter-widgets/controls",
            "_model_module_version": "1.5.0",
            "_model_name": "DescriptionStyleModel",
            "_view_count": null,
            "_view_module": "@jupyter-widgets/base",
            "_view_module_version": "1.2.0",
            "_view_name": "StyleView",
            "description_width": ""
          }
        }
      }
    }
  },
  "nbformat": 4,
  "nbformat_minor": 5
}