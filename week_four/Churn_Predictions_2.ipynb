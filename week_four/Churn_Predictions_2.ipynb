{
  "nbformat": 4,
  "nbformat_minor": 0,
  "metadata": {
    "colab": {
      "provenance": [],
      "authorship_tag": "ABX9TyOyCd9ACqRW3J2r6EfIyB0N",
      "include_colab_link": true
    },
    "kernelspec": {
      "name": "python3",
      "display_name": "Python 3"
    },
    "language_info": {
      "name": "python"
    }
  },
  "cells": [
    {
      "cell_type": "markdown",
      "metadata": {
        "id": "view-in-github",
        "colab_type": "text"
      },
      "source": [
        "<a href=\"https://colab.research.google.com/github/gregorywmorris/MLZoom2022/blob/main/week_four/Churn_Predictions_2.ipynb\" target=\"_parent\"><img src=\"https://colab.research.google.com/assets/colab-badge.svg\" alt=\"Open In Colab\"/></a>"
      ]
    },
    {
      "cell_type": "markdown",
      "source": [
        "#Churn Predictions 2"
      ],
      "metadata": {
        "id": "0-odsFmlyvW9"
      }
    },
    {
      "cell_type": "code",
      "execution_count": 1,
      "metadata": {
        "id": "-bqO4dhgwqMf"
      },
      "outputs": [],
      "source": [
        "# Import Libraries\n",
        "import pandas as pd # Import Pandas library\n",
        "import numpy as np # Import NumPy library\n",
        "\n",
        "import seaborn as sns # Import Seaborn\n",
        "from matplotlib import pyplot as plt # Import Plotting tools\n",
        "%matplotlib inline\n",
        "\n",
        "from sklearn.model_selection import train_test_split\n",
        "from sklearn.feature_extraction import DictVectorizer\n",
        "from sklearn.linear_model import LogisticRegression"
      ]
    },
    {
      "cell_type": "code",
      "source": [],
      "metadata": {
        "id": "BPFuBaiwzAST"
      },
      "execution_count": null,
      "outputs": []
    }
  ]
}