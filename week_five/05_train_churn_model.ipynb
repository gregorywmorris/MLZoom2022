{
  "cells": [
    {
      "cell_type": "markdown",
      "metadata": {
        "id": "view-in-github",
        "colab_type": "text"
      },
      "source": [
        "<a href=\"https://colab.research.google.com/github/gregorywmorris/MLZoom2022/blob/main/week_five/05_train_churn_model.ipynb\" target=\"_parent\"><img src=\"https://colab.research.google.com/assets/colab-badge.svg\" alt=\"Open In Colab\"/></a>"
      ]
    },
    {
      "cell_type": "markdown",
      "id": "464b9b4a",
      "metadata": {
        "id": "464b9b4a"
      },
      "source": [
        "In the previous session we trained a model for predicting churn and evaluated it. Now let's deploy it"
      ]
    },
    {
      "cell_type": "markdown",
      "source": [
        "#5.1 through 5.3"
      ],
      "metadata": {
        "id": "NjJPanSdd4d1"
      },
      "id": "NjJPanSdd4d1"
    },
    {
      "cell_type": "code",
      "execution_count": null,
      "id": "b3ff7c44",
      "metadata": {
        "id": "b3ff7c44"
      },
      "outputs": [],
      "source": [
        "import pandas as pd\n",
        "import numpy as np\n",
        "\n",
        "from sklearn.model_selection import train_test_split\n",
        "from sklearn.model_selection import KFold\n",
        "\n",
        "from sklearn.feature_extraction import DictVectorizer\n",
        "from sklearn.linear_model import LogisticRegression\n",
        "from sklearn.metrics import roc_auc_score"
      ]
    },
    {
      "cell_type": "code",
      "source": [
        "data = 'https://raw.githubusercontent.com/alexeygrigorev/mlbookcamp-code/master/chapter-03-churn-prediction/WA_Fn-UseC_-Telco-Customer-Churn.csv'\n",
        "!wget $data -O data-week-3.csv\n"
      ],
      "metadata": {
        "colab": {
          "base_uri": "https://localhost:8080/"
        },
        "id": "oFYY7aVEVN3j",
        "outputId": "2c031220-1a14-46af-b1a8-125929f42c82"
      },
      "id": "oFYY7aVEVN3j",
      "execution_count": null,
      "outputs": [
        {
          "output_type": "stream",
          "name": "stdout",
          "text": [
            "--2022-10-01 20:56:30--  https://raw.githubusercontent.com/alexeygrigorev/mlbookcamp-code/master/chapter-03-churn-prediction/WA_Fn-UseC_-Telco-Customer-Churn.csv\n",
            "Resolving raw.githubusercontent.com (raw.githubusercontent.com)... 185.199.108.133, 185.199.109.133, 185.199.110.133, ...\n",
            "Connecting to raw.githubusercontent.com (raw.githubusercontent.com)|185.199.108.133|:443... connected.\n",
            "HTTP request sent, awaiting response... 200 OK\n",
            "Length: 977501 (955K) [text/plain]\n",
            "Saving to: ‘data-week-3.csv’\n",
            "\n",
            "data-week-3.csv     100%[===================>] 954.59K  --.-KB/s    in 0.03s   \n",
            "\n",
            "2022-10-01 20:56:30 (28.1 MB/s) - ‘data-week-3.csv’ saved [977501/977501]\n",
            "\n"
          ]
        }
      ]
    },
    {
      "cell_type": "code",
      "execution_count": null,
      "id": "81ee3ecc",
      "metadata": {
        "id": "81ee3ecc"
      },
      "outputs": [],
      "source": [
        "df = pd.read_csv('data-week-3.csv')\n",
        "\n",
        "df.columns = df.columns.str.lower().str.replace(' ', '_')\n",
        "\n",
        "categorical_columns = list(df.dtypes[df.dtypes == 'object'].index)\n",
        "\n",
        "for c in categorical_columns:\n",
        "    df[c] = df[c].str.lower().str.replace(' ', '_')\n",
        "\n",
        "df.totalcharges = pd.to_numeric(df.totalcharges, errors='coerce')\n",
        "df.totalcharges = df.totalcharges.fillna(0)\n",
        "\n",
        "df.churn = (df.churn == 'yes').astype(int)"
      ]
    },
    {
      "cell_type": "code",
      "execution_count": null,
      "id": "0b1903b3",
      "metadata": {
        "id": "0b1903b3"
      },
      "outputs": [],
      "source": [
        "df_full_train, df_test = train_test_split(df, test_size=0.2, random_state=1)"
      ]
    },
    {
      "cell_type": "code",
      "execution_count": null,
      "id": "ab4132a4",
      "metadata": {
        "id": "ab4132a4"
      },
      "outputs": [],
      "source": [
        "numerical = ['tenure', 'monthlycharges', 'totalcharges']\n",
        "\n",
        "categorical = [\n",
        "    'gender',\n",
        "    'seniorcitizen',\n",
        "    'partner',\n",
        "    'dependents',\n",
        "    'phoneservice',\n",
        "    'multiplelines',\n",
        "    'internetservice',\n",
        "    'onlinesecurity',\n",
        "    'onlinebackup',\n",
        "    'deviceprotection',\n",
        "    'techsupport',\n",
        "    'streamingtv',\n",
        "    'streamingmovies',\n",
        "    'contract',\n",
        "    'paperlessbilling',\n",
        "    'paymentmethod',\n",
        "]"
      ]
    },
    {
      "cell_type": "code",
      "execution_count": null,
      "id": "92708443",
      "metadata": {
        "id": "92708443"
      },
      "outputs": [],
      "source": [
        "def train(df_train, y_train, C=1.0):\n",
        "    dicts = df_train[categorical + numerical].to_dict(orient='records')\n",
        "\n",
        "    dv = DictVectorizer(sparse=False)\n",
        "    X_train = dv.fit_transform(dicts)\n",
        "\n",
        "    model = LogisticRegression(C=C, max_iter=1000)\n",
        "    model.fit(X_train, y_train)\n",
        "    \n",
        "    return dv, model"
      ]
    },
    {
      "cell_type": "code",
      "execution_count": null,
      "id": "08ac302c",
      "metadata": {
        "id": "08ac302c"
      },
      "outputs": [],
      "source": [
        "def predict(df, dv, model):\n",
        "    dicts = df[categorical + numerical].to_dict(orient='records')\n",
        "\n",
        "    X = dv.transform(dicts)\n",
        "    y_pred = model.predict_proba(X)[:, 1]\n",
        "\n",
        "    return y_pred"
      ]
    },
    {
      "cell_type": "code",
      "execution_count": null,
      "id": "2b01b2b1",
      "metadata": {
        "id": "2b01b2b1"
      },
      "outputs": [],
      "source": [
        "C = 1.0\n",
        "n_splits = 5"
      ]
    },
    {
      "cell_type": "code",
      "execution_count": null,
      "id": "ce936aca",
      "metadata": {
        "colab": {
          "base_uri": "https://localhost:8080/"
        },
        "id": "ce936aca",
        "outputId": "565c76a9-fba4-4231-e42e-ae7058292145"
      },
      "outputs": [
        {
          "output_type": "stream",
          "name": "stdout",
          "text": [
            "C=1.0 0.840 +- 0.008\n"
          ]
        }
      ],
      "source": [
        "kfold = KFold(n_splits=n_splits, shuffle=True, random_state=1)\n",
        "\n",
        "scores = []\n",
        "\n",
        "for train_idx, val_idx in kfold.split(df_full_train):\n",
        "    df_train = df_full_train.iloc[train_idx]\n",
        "    df_val = df_full_train.iloc[val_idx]\n",
        "\n",
        "    y_train = df_train.churn.values\n",
        "    y_val = df_val.churn.values\n",
        "\n",
        "    dv, model = train(df_train, y_train, C=C)\n",
        "    y_pred = predict(df_val, dv, model)\n",
        "\n",
        "    auc = roc_auc_score(y_val, y_pred)\n",
        "    scores.append(auc)\n",
        "\n",
        "print('C=%s %.3f +- %.3f' % (C, np.mean(scores), np.std(scores)))"
      ]
    },
    {
      "cell_type": "code",
      "execution_count": null,
      "id": "2f72b194",
      "metadata": {
        "colab": {
          "base_uri": "https://localhost:8080/"
        },
        "id": "2f72b194",
        "outputId": "dcd26b50-ab6c-4b95-a286-5f6d8369357e"
      },
      "outputs": [
        {
          "output_type": "execute_result",
          "data": {
            "text/plain": [
              "[0.8419943324096679,\n",
              " 0.8455854357038802,\n",
              " 0.8311739915713425,\n",
              " 0.8301684306452645,\n",
              " 0.851750023532365]"
            ]
          },
          "metadata": {},
          "execution_count": 11
        }
      ],
      "source": [
        "scores"
      ]
    },
    {
      "cell_type": "code",
      "execution_count": null,
      "id": "03e81326",
      "metadata": {
        "colab": {
          "base_uri": "https://localhost:8080/"
        },
        "id": "03e81326",
        "outputId": "efe36fd7-5ad0-4c31-de55-3725a3cd8237"
      },
      "outputs": [
        {
          "output_type": "execute_result",
          "data": {
            "text/plain": [
              "0.8572386167896259"
            ]
          },
          "metadata": {},
          "execution_count": 13
        }
      ],
      "source": [
        "dv, model = train(df_full_train, df_full_train.churn.values, C=1.0)\n",
        "y_pred = predict(df_test, dv, model)\n",
        "\n",
        "y_test = df_test.churn.values\n",
        "auc = roc_auc_score(y_test, y_pred)\n",
        "auc"
      ]
    },
    {
      "cell_type": "markdown",
      "id": "3847f586",
      "metadata": {
        "id": "3847f586"
      },
      "source": [
        "Save the model"
      ]
    },
    {
      "cell_type": "code",
      "execution_count": null,
      "id": "e3a452f1",
      "metadata": {
        "id": "e3a452f1"
      },
      "outputs": [],
      "source": [
        "import pickle"
      ]
    },
    {
      "cell_type": "code",
      "execution_count": null,
      "id": "b4d16a27",
      "metadata": {
        "id": "b4d16a27"
      },
      "outputs": [],
      "source": [
        "output_file = f'model_C={C}.bin'"
      ]
    },
    {
      "cell_type": "code",
      "execution_count": null,
      "id": "9533d28c",
      "metadata": {
        "id": "9533d28c",
        "outputId": "e0f20bfa-deb8-4770-f74b-9eb494b94b5e"
      },
      "outputs": [
        {
          "data": {
            "text/plain": [
              "'model_C=1.0.bin'"
            ]
          },
          "execution_count": 10,
          "metadata": {},
          "output_type": "execute_result"
        }
      ],
      "source": [
        "output_file"
      ]
    },
    {
      "cell_type": "code",
      "execution_count": null,
      "id": "f07f38d2",
      "metadata": {
        "id": "f07f38d2"
      },
      "outputs": [],
      "source": [
        "f_out = open(output_file, 'wb') \n",
        "pickle.dump((dv, model), f_out)\n",
        "f_out.close()"
      ]
    },
    {
      "cell_type": "code",
      "execution_count": null,
      "id": "8887621f",
      "metadata": {
        "id": "8887621f",
        "outputId": "ff5cf8c9-2535-44d5-f232-3faf486971ae"
      },
      "outputs": [
        {
          "name": "stdout",
          "output_type": "stream",
          "text": [
            "-rwxrwxrwx 1 alexey alexey 2.5K Sep 30 14:10 'model_C=1.0.bin'\r\n"
          ]
        }
      ],
      "source": [
        "!ls -lh *.bin"
      ]
    },
    {
      "cell_type": "code",
      "execution_count": null,
      "id": "8f85192f",
      "metadata": {
        "id": "8f85192f"
      },
      "outputs": [],
      "source": [
        "with open(output_file, 'wb') as f_out: \n",
        "    pickle.dump((dv, model), f_out)"
      ]
    },
    {
      "cell_type": "markdown",
      "id": "70d8a59e",
      "metadata": {
        "id": "70d8a59e"
      },
      "source": [
        "Load the model"
      ]
    },
    {
      "cell_type": "code",
      "execution_count": null,
      "id": "8fe3b3eb",
      "metadata": {
        "id": "8fe3b3eb"
      },
      "outputs": [],
      "source": [
        "import pickle"
      ]
    },
    {
      "cell_type": "code",
      "execution_count": null,
      "id": "007e9b49",
      "metadata": {
        "id": "007e9b49"
      },
      "outputs": [],
      "source": [
        "input_file = 'model_C=1.0.bin'"
      ]
    },
    {
      "cell_type": "code",
      "execution_count": null,
      "id": "e9dd11c3",
      "metadata": {
        "id": "e9dd11c3"
      },
      "outputs": [],
      "source": [
        "with open(input_file, 'rb') as f_in: \n",
        "    dv, model = pickle.load(f_in)"
      ]
    },
    {
      "cell_type": "code",
      "execution_count": null,
      "id": "5806ef9b",
      "metadata": {
        "id": "5806ef9b",
        "outputId": "82352070-715e-4625-f209-390757d26b7f"
      },
      "outputs": [
        {
          "data": {
            "text/plain": [
              "LogisticRegression(max_iter=1000)"
            ]
          },
          "execution_count": 8,
          "metadata": {},
          "output_type": "execute_result"
        }
      ],
      "source": [
        "model"
      ]
    },
    {
      "cell_type": "code",
      "execution_count": null,
      "id": "16d96d50",
      "metadata": {
        "id": "16d96d50"
      },
      "outputs": [],
      "source": [
        "customer = {\n",
        "    'gender': 'female',\n",
        "    'seniorcitizen': 0,\n",
        "    'partner': 'yes',\n",
        "    'dependents': 'no',\n",
        "    'phoneservice': 'no',\n",
        "    'multiplelines': 'no_phone_service',\n",
        "    'internetservice': 'dsl',\n",
        "    'onlinesecurity': 'no',\n",
        "    'onlinebackup': 'yes',\n",
        "    'deviceprotection': 'no',\n",
        "    'techsupport': 'no',\n",
        "    'streamingtv': 'no',\n",
        "    'streamingmovies': 'no',\n",
        "    'contract': 'month-to-month',\n",
        "    'paperlessbilling': 'yes',\n",
        "    'paymentmethod': 'electronic_check',\n",
        "    'tenure': 1,\n",
        "    'monthlycharges': 29.85,\n",
        "    'totalcharges': 29.85\n",
        "}"
      ]
    },
    {
      "cell_type": "code",
      "execution_count": null,
      "id": "17ad51a5",
      "metadata": {
        "id": "17ad51a5"
      },
      "outputs": [],
      "source": [
        "X = dv.transform([customer])"
      ]
    },
    {
      "cell_type": "code",
      "execution_count": null,
      "id": "d0758291",
      "metadata": {
        "id": "d0758291"
      },
      "outputs": [],
      "source": [
        "y_pred = model.predict_proba(X)[0, 1]"
      ]
    },
    {
      "cell_type": "code",
      "execution_count": null,
      "id": "79c7d951",
      "metadata": {
        "id": "79c7d951",
        "outputId": "c57757dd-8b8b-4baf-f973-cb2474eb115b"
      },
      "outputs": [
        {
          "name": "stdout",
          "output_type": "stream",
          "text": [
            "input: {'gender': 'female', 'seniorcitizen': 0, 'partner': 'yes', 'dependents': 'no', 'phoneservice': 'no', 'multiplelines': 'no_phone_service', 'internetservice': 'dsl', 'onlinesecurity': 'no', 'onlinebackup': 'yes', 'deviceprotection': 'no', 'techsupport': 'no', 'streamingtv': 'no', 'streamingmovies': 'no', 'contract': 'month-to-month', 'paperlessbilling': 'yes', 'paymentmethod': 'electronic_check', 'tenure': 1, 'monthlycharges': 29.85, 'totalcharges': 29.85}\n",
            "output: 0.5912433520805763\n"
          ]
        }
      ],
      "source": [
        "print('input:', customer)\n",
        "print('output:', y_pred)"
      ]
    },
    {
      "cell_type": "markdown",
      "id": "163bfa7d",
      "metadata": {
        "id": "163bfa7d"
      },
      "source": [
        "Making requests"
      ]
    },
    {
      "cell_type": "code",
      "execution_count": null,
      "id": "934c7834",
      "metadata": {
        "id": "934c7834"
      },
      "outputs": [],
      "source": [
        "import requests"
      ]
    },
    {
      "cell_type": "code",
      "execution_count": null,
      "id": "68bf9932",
      "metadata": {
        "id": "68bf9932"
      },
      "outputs": [],
      "source": [
        "url = 'http://localhost:9696/predict'"
      ]
    },
    {
      "cell_type": "code",
      "execution_count": null,
      "id": "506e09a2",
      "metadata": {
        "id": "506e09a2"
      },
      "outputs": [],
      "source": [
        "customer = {\n",
        "    'gender': 'female',\n",
        "    'seniorcitizen': 0,\n",
        "    'partner': 'yes',\n",
        "    'dependents': 'no',\n",
        "    'phoneservice': 'no',\n",
        "    'multiplelines': 'no_phone_service',\n",
        "    'internetservice': 'dsl',\n",
        "    'onlinesecurity': 'no',\n",
        "    'onlinebackup': 'yes',\n",
        "    'deviceprotection': 'no',\n",
        "    'techsupport': 'no',\n",
        "    'streamingtv': 'no',\n",
        "    'streamingmovies': 'no',\n",
        "    'contract': 'two_year',\n",
        "    'paperlessbilling': 'yes',\n",
        "    'paymentmethod': 'electronic_check',\n",
        "    'tenure': 1,\n",
        "    'monthlycharges': 29.85,\n",
        "    'totalcharges': 29.85\n",
        "}"
      ]
    },
    {
      "cell_type": "code",
      "execution_count": null,
      "id": "72f4135e",
      "metadata": {
        "id": "72f4135e"
      },
      "outputs": [],
      "source": [
        "response = requests.post(url, json=customer).json()"
      ]
    },
    {
      "cell_type": "code",
      "execution_count": null,
      "id": "4b2c002a",
      "metadata": {
        "id": "4b2c002a",
        "outputId": "c00e6d2f-ca5d-4336-ad27-8c3fa11720c5"
      },
      "outputs": [
        {
          "data": {
            "text/plain": [
              "{'churn': True, 'churn_probability': 0.5133820686195286}"
            ]
          },
          "execution_count": 39,
          "metadata": {},
          "output_type": "execute_result"
        }
      ],
      "source": [
        "response"
      ]
    },
    {
      "cell_type": "code",
      "execution_count": null,
      "id": "8db38caf",
      "metadata": {
        "id": "8db38caf",
        "outputId": "032e69e8-2c9e-45ee-aa2b-319ff2af1f52"
      },
      "outputs": [
        {
          "name": "stdout",
          "output_type": "stream",
          "text": [
            "sending email to asdx-123d\n"
          ]
        }
      ],
      "source": [
        "if response['churn']:\n",
        "    print('sending email to', 'asdx-123d')"
      ]
    },
    {
      "cell_type": "code",
      "execution_count": null,
      "id": "a4a9a70b",
      "metadata": {
        "id": "a4a9a70b"
      },
      "outputs": [],
      "source": []
    },
    {
      "cell_type": "markdown",
      "source": [
        "# 5.4"
      ],
      "metadata": {
        "id": "ZJBimLyvd6Ml"
      },
      "id": "ZJBimLyvd6Ml"
    },
    {
      "cell_type": "code",
      "source": [
        "import requests"
      ],
      "metadata": {
        "id": "Xy3FnxDpd9qW"
      },
      "id": "Xy3FnxDpd9qW",
      "execution_count": null,
      "outputs": []
    },
    {
      "cell_type": "code",
      "source": [
        "url = 'http://ec2-54-166-245-132.compute-1.amazonaws.com:8080/predict'"
      ],
      "metadata": {
        "id": "X-gd6gk4eAiN"
      },
      "id": "X-gd6gk4eAiN",
      "execution_count": null,
      "outputs": []
    },
    {
      "cell_type": "code",
      "source": [
        "customer = {\n",
        "    \"gender\": \"female\",\n",
        "    \"seniorcitizen\": 0,\n",
        "    \"partner\": \"yes\",\n",
        "    \"dependents\": \"no\",\n",
        "    \"phoneservice\": \"no\",\n",
        "    \"multiplelines\": \"no_phone_service\",\n",
        "    \"internetservice\": \"dsl\",\n",
        "    \"onlinesecurity\": \"no\",\n",
        "    \"onlinebackup\": \"yes\",\n",
        "    \"deviceprotection\": \"no\",\n",
        "    \"techsupport\": \"no\",\n",
        "    \"streamingtv\": \"no\",\n",
        "    \"streamingmovies\": \"no\",\n",
        "    \"contract\": \"month-to-month\",\n",
        "    \"paperlessbilling\": \"yes\",\n",
        "    \"paymentmethod\": \"electronic_check\",\n",
        "    \"tenure\": 1,\n",
        "    \"monthlycharges\": 29.85,\n",
        "    \"totalcharges\": 29.85\n",
        "}"
      ],
      "metadata": {
        "id": "mODLtr8EeTyP"
      },
      "id": "mODLtr8EeTyP",
      "execution_count": null,
      "outputs": []
    },
    {
      "cell_type": "code",
      "source": [
        "requests.post(url, json=customer).json()"
      ],
      "metadata": {
        "id": "KmJFmRIGecxy",
        "outputId": "d7cb3a2f-c767-46b8-d6d7-3c09e58d4000",
        "colab": {
          "base_uri": "https://localhost:8080/"
        }
      },
      "id": "KmJFmRIGecxy",
      "execution_count": null,
      "outputs": [
        {
          "output_type": "execute_result",
          "data": {
            "text/plain": [
              "{'churn': True, 'churn_probability': 0.6363584152718259}"
            ]
          },
          "metadata": {},
          "execution_count": 27
        }
      ]
    },
    {
      "cell_type": "markdown",
      "source": [
        "# 5.6"
      ],
      "metadata": {
        "id": "EHQ_ZBqQYTO2"
      },
      "id": "EHQ_ZBqQYTO2"
    },
    {
      "cell_type": "markdown",
      "source": [
        "###Installing Docker\n",
        "To isolate more our project file from our system machine, there is an option named Docker. With Docker you are able to pack all your project is a system that you want and run it in any system machine. For example if you want Ubuntu 20.4 you can have it in a mac or windows machine or other operating systems.\n",
        "To get started with Docker for the churn prediction project you can follow the instructions below.\n",
        "\n",
        "###Ubuntu\n",
        "sudo apt-get install docker.io\n",
        "To run docker without sudo, follow this instruction.\n",
        "\n",
        "Windows\n",
        "To install the Docker you can just follow the instruction by Andrew Lock in this link: https://andrewlock.net/installing-docker-desktop-for-windows/\n",
        "\n",
        "###MacOS\n",
        "Please send a PR!\n",
        "\n",
        "###Notes\n",
        "Once our project was packed in a Docker container, we're able to run our project on any machine.\n",
        "First we have to make a Docker image. In Docker image file there are settings and dependecies we have in our project. To find Docker images that you need you can simply search the Docker website.\n",
        "Here a Dockerfile (There should be no comments in Dockerfile, so remove the comments when you copy)\n",
        "\n",
        "\n",
        "```\n",
        "## First install the python 3.8, the slim version have less size\n",
        "FROM python:3.8.12-slim\n",
        "\n",
        "# Install pipenv library in Docker \n",
        "RUN pip install pipenv\n",
        "\n",
        "# we have created a directory in Docker named app and we're using it as work directory \n",
        "WORKDIR /app                                                                \n",
        "\n",
        "# Copy the Pip files into our working derectory \n",
        "COPY [\"Pipfile\", \"Pipfile.lock\", \"./\"]\n",
        "\n",
        "# install the pipenv dependecies we had from the project and deploy them \n",
        "RUN pipenv install --deploy --system\n",
        "\n",
        "# Copy any python files and the model we had to the working directory of Docker \n",
        "COPY [\"*.py\", \"churn-model.bin\", \"./\"]\n",
        "\n",
        "# We need to expose the 9696 port because we're not able to communicate with Docker outside it\n",
        "EXPOSE 9696\n",
        "\n",
        "# If we run the Docker image, we want our churn app to be running\n",
        "ENTRYPOINT [\"gunicorn\", \"--bind\", \"0.0.0.0:9696\", \"churn_serving:app\"]\n",
        "\n",
        "```\n",
        "If we don't put the last line `ENTRYPOINT`, we will be in a python shell. Note that for the entrypoint, we put our commands in doble quotes.\n",
        "\n",
        "After creating the Dockerfile, we need to build it:\n",
        "\n",
        "`docker build -t churn-prediction`\n",
        "\n",
        "We use the `-t` flag for specifying the tag name \"churn-prediction\"\n",
        "\n",
        "To run it, execute the command below:\n",
        "\n",
        "`docker run -it -p 9696:9696 churn-prediction:latest`\n",
        "\n",
        "Here we use:\n",
        "\n",
        "* `-it` in order to the Docker run from terminal and shows the result\n",
        "* `-p `to map the 9696 port of the Docker to 9696 port of our machine. (first 9696 is the port number of our machine and the last one is Docker container port.)"
      ],
      "metadata": {
        "id": "IrF9f_AzYXeI"
      },
      "id": "IrF9f_AzYXeI"
    },
    {
      "cell_type": "markdown",
      "source": [
        "# 5.7"
      ],
      "metadata": {
        "id": "VYR-HTnOYdY8"
      },
      "id": "VYR-HTnOYdY8"
    }
  ],
  "metadata": {
    "kernelspec": {
      "display_name": "Python 3 (ipykernel)",
      "language": "python",
      "name": "python3"
    },
    "language_info": {
      "codemirror_mode": {
        "name": "ipython",
        "version": 3
      },
      "file_extension": ".py",
      "mimetype": "text/x-python",
      "name": "python",
      "nbconvert_exporter": "python",
      "pygments_lexer": "ipython3",
      "version": "3.9.5"
    },
    "colab": {
      "provenance": [],
      "include_colab_link": true
    }
  },
  "nbformat": 4,
  "nbformat_minor": 5
}