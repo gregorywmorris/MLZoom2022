{
  "nbformat": 4,
  "nbformat_minor": 0,
  "metadata": {
    "colab": {
      "provenance": [],
      "authorship_tag": "ABX9TyN9HUidMvstGpbQPIhOJOLd",
      "include_colab_link": true
    },
    "kernelspec": {
      "name": "python3",
      "display_name": "Python 3"
    },
    "language_info": {
      "name": "python"
    }
  },
  "cells": [
    {
      "cell_type": "markdown",
      "metadata": {
        "id": "view-in-github",
        "colab_type": "text"
      },
      "source": [
        "<a href=\"https://colab.research.google.com/github/gregorywmorris/MLZoom2022/blob/main/capstone-1/LendingClub.ipynb\" target=\"_parent\"><img src=\"https://colab.research.google.com/assets/colab-badge.svg\" alt=\"Open In Colab\"/></a>"
      ]
    },
    {
      "cell_type": "code",
      "source": [
        "# Auto-save / Auto-reload\n",
        "%autosave 1\n",
        "\n",
        "%load_ext autoreload\n",
        "%autoreload 2"
      ],
      "metadata": {
        "colab": {
          "base_uri": "https://localhost:8080/",
          "height": 35
        },
        "id": "9iqNfgiRkmFM",
        "outputId": "558a89e9-c94e-4897-f329-b2acac1f9d4f"
      },
      "execution_count": 1,
      "outputs": [
        {
          "output_type": "display_data",
          "data": {
            "application/javascript": [
              "IPython.notebook.set_autosave_interval(1000)"
            ]
          },
          "metadata": {}
        },
        {
          "output_type": "stream",
          "name": "stdout",
          "text": [
            "Autosaving every 1 seconds\n"
          ]
        }
      ]
    },
    {
      "cell_type": "markdown",
      "source": [
        "Field descriptions: https://www.kaggle.com/code/faressayah/lending-club-loan-defaulters-prediction"
      ],
      "metadata": {
        "id": "CLt6A99etHu2"
      }
    },
    {
      "cell_type": "markdown",
      "source": [
        "# Environment set-up and data import"
      ],
      "metadata": {
        "id": "RJhqpypSkp-S"
      }
    },
    {
      "cell_type": "markdown",
      "source": [
        "## PIP"
      ],
      "metadata": {
        "id": "CPB0YkMQcqP0"
      }
    },
    {
      "cell_type": "code",
      "source": [
        "!pip install catboost"
      ],
      "metadata": {
        "id": "KkmqxD0y65tf",
        "outputId": "f0f67792-af7b-4728-bf83-15482438a609",
        "colab": {
          "base_uri": "https://localhost:8080/"
        }
      },
      "execution_count": 1,
      "outputs": [
        {
          "output_type": "stream",
          "name": "stdout",
          "text": [
            "Looking in indexes: https://pypi.org/simple, https://us-python.pkg.dev/colab-wheels/public/simple/\n",
            "Collecting catboost\n",
            "  Downloading catboost-1.1.1-cp38-none-manylinux1_x86_64.whl (76.6 MB)\n",
            "\u001b[K     |████████████████████████████████| 76.6 MB 17 kB/s \n",
            "\u001b[?25hRequirement already satisfied: scipy in /usr/local/lib/python3.8/dist-packages (from catboost) (1.7.3)\n",
            "Requirement already satisfied: graphviz in /usr/local/lib/python3.8/dist-packages (from catboost) (0.10.1)\n",
            "Requirement already satisfied: numpy>=1.16.0 in /usr/local/lib/python3.8/dist-packages (from catboost) (1.21.6)\n",
            "Requirement already satisfied: pandas>=0.24.0 in /usr/local/lib/python3.8/dist-packages (from catboost) (1.3.5)\n",
            "Requirement already satisfied: plotly in /usr/local/lib/python3.8/dist-packages (from catboost) (5.5.0)\n",
            "Requirement already satisfied: six in /usr/local/lib/python3.8/dist-packages (from catboost) (1.15.0)\n",
            "Requirement already satisfied: matplotlib in /usr/local/lib/python3.8/dist-packages (from catboost) (3.2.2)\n",
            "Requirement already satisfied: python-dateutil>=2.7.3 in /usr/local/lib/python3.8/dist-packages (from pandas>=0.24.0->catboost) (2.8.2)\n",
            "Requirement already satisfied: pytz>=2017.3 in /usr/local/lib/python3.8/dist-packages (from pandas>=0.24.0->catboost) (2022.6)\n",
            "Requirement already satisfied: pyparsing!=2.0.4,!=2.1.2,!=2.1.6,>=2.0.1 in /usr/local/lib/python3.8/dist-packages (from matplotlib->catboost) (3.0.9)\n",
            "Requirement already satisfied: cycler>=0.10 in /usr/local/lib/python3.8/dist-packages (from matplotlib->catboost) (0.11.0)\n",
            "Requirement already satisfied: kiwisolver>=1.0.1 in /usr/local/lib/python3.8/dist-packages (from matplotlib->catboost) (1.4.4)\n",
            "Requirement already satisfied: tenacity>=6.2.0 in /usr/local/lib/python3.8/dist-packages (from plotly->catboost) (8.1.0)\n",
            "Installing collected packages: catboost\n",
            "Successfully installed catboost-1.1.1\n"
          ]
        }
      ]
    },
    {
      "cell_type": "code",
      "source": [
        "!pip install dask"
      ],
      "metadata": {
        "colab": {
          "base_uri": "https://localhost:8080/"
        },
        "id": "8lXL_lPLdx34",
        "outputId": "fbd5e4e8-13fc-4822-9d73-aea3307d9968"
      },
      "execution_count": 2,
      "outputs": [
        {
          "output_type": "stream",
          "name": "stdout",
          "text": [
            "Looking in indexes: https://pypi.org/simple, https://us-python.pkg.dev/colab-wheels/public/simple/\n",
            "Requirement already satisfied: dask in /usr/local/lib/python3.8/dist-packages (2022.2.1)\n",
            "Requirement already satisfied: cloudpickle>=1.1.1 in /usr/local/lib/python3.8/dist-packages (from dask) (1.5.0)\n",
            "Requirement already satisfied: fsspec>=0.6.0 in /usr/local/lib/python3.8/dist-packages (from dask) (2022.11.0)\n",
            "Requirement already satisfied: toolz>=0.8.2 in /usr/local/lib/python3.8/dist-packages (from dask) (0.12.0)\n",
            "Requirement already satisfied: packaging>=20.0 in /usr/local/lib/python3.8/dist-packages (from dask) (21.3)\n",
            "Requirement already satisfied: pyyaml>=5.3.1 in /usr/local/lib/python3.8/dist-packages (from dask) (6.0)\n",
            "Requirement already satisfied: partd>=0.3.10 in /usr/local/lib/python3.8/dist-packages (from dask) (1.3.0)\n",
            "Requirement already satisfied: pyparsing!=3.0.5,>=2.0.2 in /usr/local/lib/python3.8/dist-packages (from packaging>=20.0->dask) (3.0.9)\n",
            "Requirement already satisfied: locket in /usr/local/lib/python3.8/dist-packages (from partd>=0.3.10->dask) (1.0.0)\n"
          ]
        }
      ]
    },
    {
      "cell_type": "code",
      "source": [
        "!pip install Jinja2"
      ],
      "metadata": {
        "id": "knlKd_Dc6h0k",
        "outputId": "b6f2fdd3-de81-43e1-f6de-ff88f9895de1",
        "colab": {
          "base_uri": "https://localhost:8080/"
        }
      },
      "execution_count": 4,
      "outputs": [
        {
          "output_type": "stream",
          "name": "stdout",
          "text": [
            "Looking in indexes: https://pypi.org/simple, https://us-python.pkg.dev/colab-wheels/public/simple/\n",
            "Requirement already satisfied: Jinja2 in /usr/local/lib/python3.8/dist-packages (3.0.0)\n",
            "Requirement already satisfied: MarkupSafe>=2.0.0rc2 in /usr/local/lib/python3.8/dist-packages (from Jinja2) (2.1.1)\n"
          ]
        }
      ]
    },
    {
      "cell_type": "code",
      "source": [
        "!pip install writefile"
      ],
      "metadata": {
        "id": "NUgM4yiO6bwl",
        "outputId": "5d6e9cc4-17b5-4142-96f5-01cdf6eecba3",
        "colab": {
          "base_uri": "https://localhost:8080/"
        }
      },
      "execution_count": 5,
      "outputs": [
        {
          "output_type": "stream",
          "name": "stdout",
          "text": [
            "Looking in indexes: https://pypi.org/simple, https://us-python.pkg.dev/colab-wheels/public/simple/\n",
            "Collecting writefile\n",
            "  Downloading writefile-0.2.tar.gz (2.4 kB)\n",
            "Building wheels for collected packages: writefile\n",
            "  Building wheel for writefile (setup.py) ... \u001b[?25l\u001b[?25hdone\n",
            "  Created wheel for writefile: filename=writefile-0.2-py3-none-any.whl size=2903 sha256=24ce471f2ec36f88b994df4db6213b34de31ce420dfb9a10737f22e43731909e\n",
            "  Stored in directory: /root/.cache/pip/wheels/f4/f6/99/56d389fac4665e36ee74470f9127213f6298c17edace78f694\n",
            "Successfully built writefile\n",
            "Installing collected packages: writefile\n",
            "Successfully installed writefile-0.2\n"
          ]
        }
      ]
    },
    {
      "cell_type": "markdown",
      "source": [
        "### Dataprep"
      ],
      "metadata": {
        "id": "0VY4778d7BMs"
      }
    },
    {
      "cell_type": "code",
      "execution_count": 3,
      "metadata": {
        "colab": {
          "base_uri": "https://localhost:8080/"
        },
        "id": "lxVVEAeHVTex",
        "outputId": "d438d001-3af3-46aa-c37c-d3d3ac91002d"
      },
      "outputs": [
        {
          "output_type": "stream",
          "name": "stdout",
          "text": [
            "Looking in indexes: https://pypi.org/simple, https://us-python.pkg.dev/colab-wheels/public/simple/\n",
            "Collecting dataprep\n",
            "  Downloading dataprep-0.4.5-py3-none-any.whl (9.9 MB)\n",
            "\u001b[K     |████████████████████████████████| 9.9 MB 4.1 MB/s \n",
            "\u001b[?25hCollecting metaphone<0.7,>=0.6\n",
            "  Downloading Metaphone-0.6.tar.gz (14 kB)\n",
            "Requirement already satisfied: ipywidgets<8.0,>=7.5 in /usr/local/lib/python3.8/dist-packages (from dataprep) (7.7.1)\n",
            "Collecting flask<3,>=2\n",
            "  Downloading Flask-2.2.2-py3-none-any.whl (101 kB)\n",
            "\u001b[K     |████████████████████████████████| 101 kB 9.3 MB/s \n",
            "\u001b[?25hCollecting jsonpath-ng<2.0,>=1.5\n",
            "  Downloading jsonpath_ng-1.5.3-py3-none-any.whl (29 kB)\n",
            "Requirement already satisfied: bokeh<3,>=2 in /usr/local/lib/python3.8/dist-packages (from dataprep) (2.3.3)\n",
            "Collecting python-stdnum<2.0,>=1.16\n",
            "  Downloading python_stdnum-1.18-py2.py3-none-any.whl (1.0 MB)\n",
            "\u001b[K     |████████████████████████████████| 1.0 MB 34.5 MB/s \n",
            "\u001b[?25hRequirement already satisfied: pydantic<2.0,>=1.6 in /usr/local/lib/python3.8/dist-packages (from dataprep) (1.10.2)\n",
            "Requirement already satisfied: pandas<2.0,>=1.1 in /usr/local/lib/python3.8/dist-packages (from dataprep) (1.3.5)\n",
            "Collecting varname<0.9.0,>=0.8.1\n",
            "  Downloading varname-0.8.3-py3-none-any.whl (21 kB)\n",
            "Collecting flask_cors<4.0.0,>=3.0.10\n",
            "  Downloading Flask_Cors-3.0.10-py2.py3-none-any.whl (14 kB)\n",
            "Requirement already satisfied: tqdm<5.0,>=4.48 in /usr/local/lib/python3.8/dist-packages (from dataprep) (4.64.1)\n",
            "Requirement already satisfied: aiohttp<4.0,>=3.6 in /usr/local/lib/python3.8/dist-packages (from dataprep) (3.8.3)\n",
            "Collecting pydot<2.0.0,>=1.4.2\n",
            "  Downloading pydot-1.4.2-py2.py3-none-any.whl (21 kB)\n",
            "Collecting regex<2022.0.0,>=2021.8.3\n",
            "  Downloading regex-2021.11.10-cp38-cp38-manylinux_2_17_x86_64.manylinux2014_x86_64.whl (764 kB)\n",
            "\u001b[K     |████████████████████████████████| 764 kB 43.9 MB/s \n",
            "\u001b[?25hCollecting sqlalchemy==1.3.24\n",
            "  Downloading SQLAlchemy-1.3.24-cp38-cp38-manylinux2010_x86_64.whl (1.3 MB)\n",
            "\u001b[K     |████████████████████████████████| 1.3 MB 47.2 MB/s \n",
            "\u001b[?25hCollecting dask[array,dataframe,delayed]>=2022.3.0\n",
            "  Downloading dask-2022.12.1-py3-none-any.whl (1.1 MB)\n",
            "\u001b[K     |████████████████████████████████| 1.1 MB 54.1 MB/s \n",
            "\u001b[?25hCollecting jinja2<3.1,>=3.0\n",
            "  Downloading Jinja2-3.0.3-py3-none-any.whl (133 kB)\n",
            "\u001b[K     |████████████████████████████████| 133 kB 60.8 MB/s \n",
            "\u001b[?25hCollecting python-crfsuite==0.9.8\n",
            "  Downloading python_crfsuite-0.9.8-cp38-cp38-manylinux_2_17_x86_64.manylinux2014_x86_64.whl (1.0 MB)\n",
            "\u001b[K     |████████████████████████████████| 1.0 MB 14.4 MB/s \n",
            "\u001b[?25hCollecting rapidfuzz<3.0.0,>=2.1.2\n",
            "  Downloading rapidfuzz-2.13.6-cp38-cp38-manylinux_2_17_x86_64.manylinux2014_x86_64.whl (2.2 MB)\n",
            "\u001b[K     |████████████████████████████████| 2.2 MB 58.6 MB/s \n",
            "\u001b[?25hRequirement already satisfied: wordcloud<2.0,>=1.8 in /usr/local/lib/python3.8/dist-packages (from dataprep) (1.8.2.2)\n",
            "Collecting scipy<2.0,>=1.8\n",
            "  Downloading scipy-1.9.3-cp38-cp38-manylinux_2_17_x86_64.manylinux2014_x86_64.whl (33.8 MB)\n",
            "\u001b[K     |████████████████████████████████| 33.8 MB 409 kB/s \n",
            "\u001b[?25hRequirement already satisfied: nltk<4.0.0,>=3.6.7 in /usr/local/lib/python3.8/dist-packages (from dataprep) (3.7)\n",
            "Requirement already satisfied: numpy<2.0,>=1.21 in /usr/local/lib/python3.8/dist-packages (from dataprep) (1.21.6)\n",
            "Requirement already satisfied: multidict<7.0,>=4.5 in /usr/local/lib/python3.8/dist-packages (from aiohttp<4.0,>=3.6->dataprep) (6.0.3)\n",
            "Requirement already satisfied: yarl<2.0,>=1.0 in /usr/local/lib/python3.8/dist-packages (from aiohttp<4.0,>=3.6->dataprep) (1.8.2)\n",
            "Requirement already satisfied: frozenlist>=1.1.1 in /usr/local/lib/python3.8/dist-packages (from aiohttp<4.0,>=3.6->dataprep) (1.3.3)\n",
            "Requirement already satisfied: charset-normalizer<3.0,>=2.0 in /usr/local/lib/python3.8/dist-packages (from aiohttp<4.0,>=3.6->dataprep) (2.1.1)\n",
            "Requirement already satisfied: aiosignal>=1.1.2 in /usr/local/lib/python3.8/dist-packages (from aiohttp<4.0,>=3.6->dataprep) (1.3.1)\n",
            "Requirement already satisfied: attrs>=17.3.0 in /usr/local/lib/python3.8/dist-packages (from aiohttp<4.0,>=3.6->dataprep) (22.1.0)\n",
            "Requirement already satisfied: async-timeout<5.0,>=4.0.0a3 in /usr/local/lib/python3.8/dist-packages (from aiohttp<4.0,>=3.6->dataprep) (4.0.2)\n",
            "Requirement already satisfied: tornado>=5.1 in /usr/local/lib/python3.8/dist-packages (from bokeh<3,>=2->dataprep) (6.0.4)\n",
            "Requirement already satisfied: pillow>=7.1.0 in /usr/local/lib/python3.8/dist-packages (from bokeh<3,>=2->dataprep) (7.1.2)\n",
            "Requirement already satisfied: python-dateutil>=2.1 in /usr/local/lib/python3.8/dist-packages (from bokeh<3,>=2->dataprep) (2.8.2)\n",
            "Requirement already satisfied: packaging>=16.8 in /usr/local/lib/python3.8/dist-packages (from bokeh<3,>=2->dataprep) (21.3)\n",
            "Requirement already satisfied: PyYAML>=3.10 in /usr/local/lib/python3.8/dist-packages (from bokeh<3,>=2->dataprep) (6.0)\n",
            "Requirement already satisfied: typing-extensions>=3.7.4 in /usr/local/lib/python3.8/dist-packages (from bokeh<3,>=2->dataprep) (4.4.0)\n",
            "Requirement already satisfied: fsspec>=0.6.0 in /usr/local/lib/python3.8/dist-packages (from dask[array,dataframe,delayed]>=2022.3.0->dataprep) (2022.11.0)\n",
            "Requirement already satisfied: partd>=0.3.10 in /usr/local/lib/python3.8/dist-packages (from dask[array,dataframe,delayed]>=2022.3.0->dataprep) (1.3.0)\n",
            "Requirement already satisfied: click>=7.0 in /usr/local/lib/python3.8/dist-packages (from dask[array,dataframe,delayed]>=2022.3.0->dataprep) (7.1.2)\n",
            "Requirement already satisfied: cloudpickle>=1.1.1 in /usr/local/lib/python3.8/dist-packages (from dask[array,dataframe,delayed]>=2022.3.0->dataprep) (1.5.0)\n",
            "Requirement already satisfied: toolz>=0.8.2 in /usr/local/lib/python3.8/dist-packages (from dask[array,dataframe,delayed]>=2022.3.0->dataprep) (0.12.0)\n",
            "Collecting click>=7.0\n",
            "  Downloading click-8.1.3-py3-none-any.whl (96 kB)\n",
            "\u001b[K     |████████████████████████████████| 96 kB 6.0 MB/s \n",
            "\u001b[?25hRequirement already satisfied: importlib-metadata>=3.6.0 in /usr/local/lib/python3.8/dist-packages (from flask<3,>=2->dataprep) (5.1.0)\n",
            "Collecting Werkzeug>=2.2.2\n",
            "  Downloading Werkzeug-2.2.2-py3-none-any.whl (232 kB)\n",
            "\u001b[K     |████████████████████████████████| 232 kB 53.7 MB/s \n",
            "\u001b[?25hCollecting itsdangerous>=2.0\n",
            "  Downloading itsdangerous-2.1.2-py3-none-any.whl (15 kB)\n",
            "Requirement already satisfied: Six in /usr/local/lib/python3.8/dist-packages (from flask_cors<4.0.0,>=3.0.10->dataprep) (1.15.0)\n",
            "Requirement already satisfied: zipp>=0.5 in /usr/local/lib/python3.8/dist-packages (from importlib-metadata>=3.6.0->flask<3,>=2->dataprep) (3.11.0)\n",
            "Requirement already satisfied: widgetsnbextension~=3.6.0 in /usr/local/lib/python3.8/dist-packages (from ipywidgets<8.0,>=7.5->dataprep) (3.6.1)\n",
            "Requirement already satisfied: ipython-genutils~=0.2.0 in /usr/local/lib/python3.8/dist-packages (from ipywidgets<8.0,>=7.5->dataprep) (0.2.0)\n",
            "Requirement already satisfied: jupyterlab-widgets>=1.0.0 in /usr/local/lib/python3.8/dist-packages (from ipywidgets<8.0,>=7.5->dataprep) (3.0.4)\n",
            "Requirement already satisfied: ipykernel>=4.5.1 in /usr/local/lib/python3.8/dist-packages (from ipywidgets<8.0,>=7.5->dataprep) (5.3.4)\n",
            "Requirement already satisfied: ipython>=4.0.0 in /usr/local/lib/python3.8/dist-packages (from ipywidgets<8.0,>=7.5->dataprep) (7.9.0)\n",
            "Requirement already satisfied: traitlets>=4.3.1 in /usr/local/lib/python3.8/dist-packages (from ipywidgets<8.0,>=7.5->dataprep) (5.7.1)\n",
            "Requirement already satisfied: jupyter-client in /usr/local/lib/python3.8/dist-packages (from ipykernel>=4.5.1->ipywidgets<8.0,>=7.5->dataprep) (6.1.12)\n",
            "Requirement already satisfied: decorator in /usr/local/lib/python3.8/dist-packages (from ipython>=4.0.0->ipywidgets<8.0,>=7.5->dataprep) (4.4.2)\n",
            "Requirement already satisfied: prompt-toolkit<2.1.0,>=2.0.0 in /usr/local/lib/python3.8/dist-packages (from ipython>=4.0.0->ipywidgets<8.0,>=7.5->dataprep) (2.0.10)\n",
            "Collecting jedi>=0.10\n",
            "  Downloading jedi-0.18.2-py2.py3-none-any.whl (1.6 MB)\n",
            "\u001b[K     |████████████████████████████████| 1.6 MB 18.0 MB/s \n",
            "\u001b[?25hRequirement already satisfied: pickleshare in /usr/local/lib/python3.8/dist-packages (from ipython>=4.0.0->ipywidgets<8.0,>=7.5->dataprep) (0.7.5)\n",
            "Requirement already satisfied: setuptools>=18.5 in /usr/local/lib/python3.8/dist-packages (from ipython>=4.0.0->ipywidgets<8.0,>=7.5->dataprep) (57.4.0)\n",
            "Requirement already satisfied: pygments in /usr/local/lib/python3.8/dist-packages (from ipython>=4.0.0->ipywidgets<8.0,>=7.5->dataprep) (2.6.1)\n",
            "Requirement already satisfied: backcall in /usr/local/lib/python3.8/dist-packages (from ipython>=4.0.0->ipywidgets<8.0,>=7.5->dataprep) (0.2.0)\n",
            "Requirement already satisfied: pexpect in /usr/local/lib/python3.8/dist-packages (from ipython>=4.0.0->ipywidgets<8.0,>=7.5->dataprep) (4.8.0)\n",
            "Requirement already satisfied: parso<0.9.0,>=0.8.0 in /usr/local/lib/python3.8/dist-packages (from jedi>=0.10->ipython>=4.0.0->ipywidgets<8.0,>=7.5->dataprep) (0.8.3)\n",
            "Requirement already satisfied: MarkupSafe>=2.0 in /usr/local/lib/python3.8/dist-packages (from jinja2<3.1,>=3.0->dataprep) (2.0.1)\n",
            "Collecting ply\n",
            "  Downloading ply-3.11-py2.py3-none-any.whl (49 kB)\n",
            "\u001b[K     |████████████████████████████████| 49 kB 5.8 MB/s \n",
            "\u001b[?25hRequirement already satisfied: joblib in /usr/local/lib/python3.8/dist-packages (from nltk<4.0.0,>=3.6.7->dataprep) (1.2.0)\n",
            "Requirement already satisfied: pyparsing!=3.0.5,>=2.0.2 in /usr/local/lib/python3.8/dist-packages (from packaging>=16.8->bokeh<3,>=2->dataprep) (3.0.9)\n",
            "Requirement already satisfied: pytz>=2017.3 in /usr/local/lib/python3.8/dist-packages (from pandas<2.0,>=1.1->dataprep) (2022.6)\n",
            "Requirement already satisfied: locket in /usr/local/lib/python3.8/dist-packages (from partd>=0.3.10->dask[array,dataframe,delayed]>=2022.3.0->dataprep) (1.0.0)\n",
            "Requirement already satisfied: wcwidth in /usr/local/lib/python3.8/dist-packages (from prompt-toolkit<2.1.0,>=2.0.0->ipython>=4.0.0->ipywidgets<8.0,>=7.5->dataprep) (0.2.5)\n",
            "Collecting asttokens<3.0.0,>=2.0.0\n",
            "  Downloading asttokens-2.2.1-py2.py3-none-any.whl (26 kB)\n",
            "Collecting pure_eval<1.0.0\n",
            "  Downloading pure_eval-0.2.2-py3-none-any.whl (11 kB)\n",
            "Collecting executing<0.9.0,>=0.8.3\n",
            "  Downloading executing-0.8.3-py2.py3-none-any.whl (16 kB)\n",
            "Collecting MarkupSafe>=2.0\n",
            "  Downloading MarkupSafe-2.1.1-cp38-cp38-manylinux_2_17_x86_64.manylinux2014_x86_64.whl (25 kB)\n",
            "Requirement already satisfied: notebook>=4.4.1 in /usr/local/lib/python3.8/dist-packages (from widgetsnbextension~=3.6.0->ipywidgets<8.0,>=7.5->dataprep) (5.7.16)\n",
            "Requirement already satisfied: nbformat in /usr/local/lib/python3.8/dist-packages (from notebook>=4.4.1->widgetsnbextension~=3.6.0->ipywidgets<8.0,>=7.5->dataprep) (5.7.0)\n",
            "Collecting jinja2<3.1,>=3.0\n",
            "  Downloading Jinja2-3.0.0-py3-none-any.whl (133 kB)\n",
            "\u001b[K     |████████████████████████████████| 133 kB 62.6 MB/s \n",
            "\u001b[?25hRequirement already satisfied: Send2Trash in /usr/local/lib/python3.8/dist-packages (from notebook>=4.4.1->widgetsnbextension~=3.6.0->ipywidgets<8.0,>=7.5->dataprep) (1.8.0)\n",
            "Requirement already satisfied: terminado>=0.8.1 in /usr/local/lib/python3.8/dist-packages (from notebook>=4.4.1->widgetsnbextension~=3.6.0->ipywidgets<8.0,>=7.5->dataprep) (0.13.3)\n",
            "Requirement already satisfied: nbconvert<6.0 in /usr/local/lib/python3.8/dist-packages (from notebook>=4.4.1->widgetsnbextension~=3.6.0->ipywidgets<8.0,>=7.5->dataprep) (5.6.1)\n",
            "Requirement already satisfied: pyzmq>=17 in /usr/local/lib/python3.8/dist-packages (from notebook>=4.4.1->widgetsnbextension~=3.6.0->ipywidgets<8.0,>=7.5->dataprep) (23.2.1)\n",
            "Requirement already satisfied: jupyter-core>=4.4.0 in /usr/local/lib/python3.8/dist-packages (from notebook>=4.4.1->widgetsnbextension~=3.6.0->ipywidgets<8.0,>=7.5->dataprep) (5.1.0)\n",
            "Requirement already satisfied: prometheus-client in /usr/local/lib/python3.8/dist-packages (from notebook>=4.4.1->widgetsnbextension~=3.6.0->ipywidgets<8.0,>=7.5->dataprep) (0.15.0)\n",
            "Requirement already satisfied: platformdirs>=2.5 in /usr/local/lib/python3.8/dist-packages (from jupyter-core>=4.4.0->notebook>=4.4.1->widgetsnbextension~=3.6.0->ipywidgets<8.0,>=7.5->dataprep) (2.6.0)\n",
            "Requirement already satisfied: testpath in /usr/local/lib/python3.8/dist-packages (from nbconvert<6.0->notebook>=4.4.1->widgetsnbextension~=3.6.0->ipywidgets<8.0,>=7.5->dataprep) (0.6.0)\n",
            "Requirement already satisfied: pandocfilters>=1.4.1 in /usr/local/lib/python3.8/dist-packages (from nbconvert<6.0->notebook>=4.4.1->widgetsnbextension~=3.6.0->ipywidgets<8.0,>=7.5->dataprep) (1.5.0)\n",
            "Requirement already satisfied: entrypoints>=0.2.2 in /usr/local/lib/python3.8/dist-packages (from nbconvert<6.0->notebook>=4.4.1->widgetsnbextension~=3.6.0->ipywidgets<8.0,>=7.5->dataprep) (0.4)\n",
            "Requirement already satisfied: bleach in /usr/local/lib/python3.8/dist-packages (from nbconvert<6.0->notebook>=4.4.1->widgetsnbextension~=3.6.0->ipywidgets<8.0,>=7.5->dataprep) (5.0.1)\n",
            "Requirement already satisfied: defusedxml in /usr/local/lib/python3.8/dist-packages (from nbconvert<6.0->notebook>=4.4.1->widgetsnbextension~=3.6.0->ipywidgets<8.0,>=7.5->dataprep) (0.7.1)\n",
            "Requirement already satisfied: mistune<2,>=0.8.1 in /usr/local/lib/python3.8/dist-packages (from nbconvert<6.0->notebook>=4.4.1->widgetsnbextension~=3.6.0->ipywidgets<8.0,>=7.5->dataprep) (0.8.4)\n",
            "Requirement already satisfied: jsonschema>=2.6 in /usr/local/lib/python3.8/dist-packages (from nbformat->notebook>=4.4.1->widgetsnbextension~=3.6.0->ipywidgets<8.0,>=7.5->dataprep) (4.3.3)\n",
            "Requirement already satisfied: fastjsonschema in /usr/local/lib/python3.8/dist-packages (from nbformat->notebook>=4.4.1->widgetsnbextension~=3.6.0->ipywidgets<8.0,>=7.5->dataprep) (2.16.2)\n",
            "Requirement already satisfied: pyrsistent!=0.17.0,!=0.17.1,!=0.17.2,>=0.14.0 in /usr/local/lib/python3.8/dist-packages (from jsonschema>=2.6->nbformat->notebook>=4.4.1->widgetsnbextension~=3.6.0->ipywidgets<8.0,>=7.5->dataprep) (0.19.2)\n",
            "Requirement already satisfied: importlib-resources>=1.4.0 in /usr/local/lib/python3.8/dist-packages (from jsonschema>=2.6->nbformat->notebook>=4.4.1->widgetsnbextension~=3.6.0->ipywidgets<8.0,>=7.5->dataprep) (5.10.1)\n",
            "Requirement already satisfied: ptyprocess in /usr/local/lib/python3.8/dist-packages (from terminado>=0.8.1->notebook>=4.4.1->widgetsnbextension~=3.6.0->ipywidgets<8.0,>=7.5->dataprep) (0.7.0)\n",
            "Requirement already satisfied: matplotlib in /usr/local/lib/python3.8/dist-packages (from wordcloud<2.0,>=1.8->dataprep) (3.2.2)\n",
            "Requirement already satisfied: idna>=2.0 in /usr/local/lib/python3.8/dist-packages (from yarl<2.0,>=1.0->aiohttp<4.0,>=3.6->dataprep) (2.10)\n",
            "Requirement already satisfied: webencodings in /usr/local/lib/python3.8/dist-packages (from bleach->nbconvert<6.0->notebook>=4.4.1->widgetsnbextension~=3.6.0->ipywidgets<8.0,>=7.5->dataprep) (0.5.1)\n",
            "Requirement already satisfied: cycler>=0.10 in /usr/local/lib/python3.8/dist-packages (from matplotlib->wordcloud<2.0,>=1.8->dataprep) (0.11.0)\n",
            "Requirement already satisfied: kiwisolver>=1.0.1 in /usr/local/lib/python3.8/dist-packages (from matplotlib->wordcloud<2.0,>=1.8->dataprep) (1.4.4)\n",
            "Building wheels for collected packages: metaphone\n",
            "  Building wheel for metaphone (setup.py) ... \u001b[?25l\u001b[?25hdone\n",
            "  Created wheel for metaphone: filename=Metaphone-0.6-py3-none-any.whl size=13919 sha256=a2d0c4a34e5aaaf1f9398936c62e272e3864baa0b4fa37b9999ff5d7db0d6cd3\n",
            "  Stored in directory: /root/.cache/pip/wheels/ea/4e/3b/0634f08a7980461ad630fa4147cbd25913b008b4a02992ba66\n",
            "Successfully built metaphone\n",
            "Installing collected packages: MarkupSafe, jedi, jinja2, Werkzeug, itsdangerous, click, regex, pure-eval, ply, flask, executing, dask, asttokens, varname, sqlalchemy, scipy, rapidfuzz, python-stdnum, python-crfsuite, pydot, metaphone, jsonpath-ng, flask-cors, dataprep\n",
            "  Attempting uninstall: MarkupSafe\n",
            "    Found existing installation: MarkupSafe 2.0.1\n",
            "    Uninstalling MarkupSafe-2.0.1:\n",
            "      Successfully uninstalled MarkupSafe-2.0.1\n",
            "  Attempting uninstall: jinja2\n",
            "    Found existing installation: Jinja2 2.11.3\n",
            "    Uninstalling Jinja2-2.11.3:\n",
            "      Successfully uninstalled Jinja2-2.11.3\n",
            "  Attempting uninstall: Werkzeug\n",
            "    Found existing installation: Werkzeug 1.0.1\n",
            "    Uninstalling Werkzeug-1.0.1:\n",
            "      Successfully uninstalled Werkzeug-1.0.1\n",
            "  Attempting uninstall: itsdangerous\n",
            "    Found existing installation: itsdangerous 1.1.0\n",
            "    Uninstalling itsdangerous-1.1.0:\n",
            "      Successfully uninstalled itsdangerous-1.1.0\n",
            "  Attempting uninstall: click\n",
            "    Found existing installation: click 7.1.2\n",
            "    Uninstalling click-7.1.2:\n",
            "      Successfully uninstalled click-7.1.2\n",
            "  Attempting uninstall: regex\n",
            "    Found existing installation: regex 2022.6.2\n",
            "    Uninstalling regex-2022.6.2:\n",
            "      Successfully uninstalled regex-2022.6.2\n",
            "  Attempting uninstall: flask\n",
            "    Found existing installation: Flask 1.1.4\n",
            "    Uninstalling Flask-1.1.4:\n",
            "      Successfully uninstalled Flask-1.1.4\n",
            "  Attempting uninstall: dask\n",
            "    Found existing installation: dask 2022.2.1\n",
            "    Uninstalling dask-2022.2.1:\n",
            "      Successfully uninstalled dask-2022.2.1\n",
            "  Attempting uninstall: sqlalchemy\n",
            "    Found existing installation: SQLAlchemy 1.4.45\n",
            "    Uninstalling SQLAlchemy-1.4.45:\n",
            "      Successfully uninstalled SQLAlchemy-1.4.45\n",
            "  Attempting uninstall: scipy\n",
            "    Found existing installation: scipy 1.7.3\n",
            "    Uninstalling scipy-1.7.3:\n",
            "      Successfully uninstalled scipy-1.7.3\n",
            "  Attempting uninstall: pydot\n",
            "    Found existing installation: pydot 1.3.0\n",
            "    Uninstalling pydot-1.3.0:\n",
            "      Successfully uninstalled pydot-1.3.0\n",
            "\u001b[31mERROR: pip's dependency resolver does not currently take into account all the packages that are installed. This behaviour is the source of the following dependency conflicts.\n",
            "distributed 2022.2.1 requires dask==2022.02.1, but you have dask 2022.12.1 which is incompatible.\u001b[0m\n",
            "Successfully installed MarkupSafe-2.1.1 Werkzeug-2.2.2 asttokens-2.2.1 click-8.1.3 dask-2022.12.1 dataprep-0.4.5 executing-0.8.3 flask-2.2.2 flask-cors-3.0.10 itsdangerous-2.1.2 jedi-0.18.2 jinja2-3.0.0 jsonpath-ng-1.5.3 metaphone-0.6 ply-3.11 pure-eval-0.2.2 pydot-1.4.2 python-crfsuite-0.9.8 python-stdnum-1.18 rapidfuzz-2.13.6 regex-2021.11.10 scipy-1.9.3 sqlalchemy-1.3.24 varname-0.8.3\n"
          ]
        }
      ],
      "source": [
        "!pip install dataprep"
      ]
    },
    {
      "cell_type": "markdown",
      "source": [
        "## Envrionment"
      ],
      "metadata": {
        "id": "96AsNWGhcuT7"
      }
    },
    {
      "cell_type": "code",
      "source": [
        "import numpy as np\n",
        "import pandas as pd\n",
        "from dataprep.eda import create_report, plot, plot_correlation\n",
        "import sys\n",
        "\n",
        "# visualization\n",
        "from IPython.display import display\n",
        "import seaborn as sns\n",
        "import matplotlib.pyplot as plt\n"
      ],
      "metadata": {
        "id": "I1tdVWryVZjj"
      },
      "execution_count": 6,
      "outputs": []
    },
    {
      "cell_type": "code",
      "source": [
        "sys.setrecursionlimit(10000)"
      ],
      "metadata": {
        "id": "IKKDCY7_dPS3"
      },
      "execution_count": 5,
      "outputs": []
    },
    {
      "cell_type": "code",
      "source": [
        "data1 = \"https://raw.githubusercontent.com/gregorywmorris/MLZoom2022/main/capstone-1/lendingclub-1.csv\""
      ],
      "metadata": {
        "id": "EOB3WQKCVhbE"
      },
      "execution_count": 6,
      "outputs": []
    },
    {
      "cell_type": "code",
      "source": [
        "data2 = \"https://raw.githubusercontent.com/gregorywmorris/MLZoom2022/main/capstone-1/lendingclub-2.csv\""
      ],
      "metadata": {
        "id": "6tKTs3HmVloL"
      },
      "execution_count": 7,
      "outputs": []
    },
    {
      "cell_type": "code",
      "source": [
        "!wget $data1 -O lendingclub-1.csv"
      ],
      "metadata": {
        "colab": {
          "base_uri": "https://localhost:8080/"
        },
        "id": "CvVziKeWVtAR",
        "outputId": "5444c2e1-ccd4-4ac1-b21a-c6a25cfe8a06"
      },
      "execution_count": 8,
      "outputs": [
        {
          "output_type": "stream",
          "name": "stdout",
          "text": [
            "--2022-12-18 15:37:25--  https://raw.githubusercontent.com/gregorywmorris/MLZoom2022/main/capstone-1/lendingclub-1.csv\n",
            "Resolving raw.githubusercontent.com (raw.githubusercontent.com)... 185.199.111.133, 185.199.108.133, 185.199.109.133, ...\n",
            "Connecting to raw.githubusercontent.com (raw.githubusercontent.com)|185.199.111.133|:443... connected.\n",
            "HTTP request sent, awaiting response... 200 OK\n",
            "Length: 13161065 (13M) [text/plain]\n",
            "Saving to: ‘lendingclub-1.csv’\n",
            "\n",
            "\rlendingclub-1.csv     0%[                    ]       0  --.-KB/s               \rlendingclub-1.csv   100%[===================>]  12.55M  69.1MB/s    in 0.2s    \n",
            "\n",
            "2022-12-18 15:37:25 (69.1 MB/s) - ‘lendingclub-1.csv’ saved [13161065/13161065]\n",
            "\n"
          ]
        }
      ]
    },
    {
      "cell_type": "code",
      "source": [
        "!!wget $data2 -O lendingclub-2.csv"
      ],
      "metadata": {
        "colab": {
          "base_uri": "https://localhost:8080/"
        },
        "id": "ou-dVSV0VzNJ",
        "outputId": "1351ddfd-ae31-4b3c-ee94-edbfdd1777b2"
      },
      "execution_count": 9,
      "outputs": [
        {
          "output_type": "execute_result",
          "data": {
            "text/plain": [
              "['--2022-12-18 15:37:28--  https://raw.githubusercontent.com/gregorywmorris/MLZoom2022/main/capstone-1/lendingclub-2.csv',\n",
              " 'Resolving raw.githubusercontent.com (raw.githubusercontent.com)... 185.199.110.133, 185.199.108.133, 185.199.109.133, ...',\n",
              " 'Connecting to raw.githubusercontent.com (raw.githubusercontent.com)|185.199.110.133|:443... connected.',\n",
              " 'HTTP request sent, awaiting response... 200 OK',\n",
              " 'Length: 15921810 (15M) [text/plain]',\n",
              " 'Saving to: ‘lendingclub-2.csv’',\n",
              " '',\n",
              " '',\n",
              " 'lendingclub-2.csv     0%[                    ]       0  --.-KB/s               ',\n",
              " 'lendingclub-2.csv     7%[>                   ]   1.12M  5.52MB/s               ',\n",
              " 'lendingclub-2.csv    14%[=>                  ]   2.24M  5.54MB/s               ',\n",
              " 'lendingclub-2.csv    68%[============>       ]  10.43M  17.1MB/s               ',\n",
              " 'lendingclub-2.csv   100%[===================>]  15.18M  21.9MB/s    in 0.7s    ',\n",
              " '',\n",
              " '2022-12-18 15:37:29 (21.9 MB/s) - ‘lendingclub-2.csv’ saved [15921810/15921810]',\n",
              " '']"
            ]
          },
          "metadata": {},
          "execution_count": 9
        }
      ]
    },
    {
      "cell_type": "code",
      "source": [
        "part1 = pd.read_csv(\"lendingclub-1.csv\")"
      ],
      "metadata": {
        "id": "pCEOFD-8V9iP"
      },
      "execution_count": 10,
      "outputs": []
    },
    {
      "cell_type": "code",
      "source": [
        "part2 = pd.read_csv(\"lendingclub-2.csv\")"
      ],
      "metadata": {
        "colab": {
          "base_uri": "https://localhost:8080/"
        },
        "id": "p_r-KEFoWJZf",
        "outputId": "321bfaf0-c9ae-45d8-92a4-b8869fc97602"
      },
      "execution_count": 11,
      "outputs": [
        {
          "output_type": "stream",
          "name": "stderr",
          "text": [
            "/usr/local/lib/python3.8/dist-packages/IPython/core/interactiveshell.py:3326: DtypeWarning: Columns (0,47) have mixed types.Specify dtype option on import or set low_memory=False.\n",
            "  exec(code_obj, self.user_global_ns, self.user_ns)\n"
          ]
        }
      ]
    },
    {
      "cell_type": "code",
      "source": [
        "bothParts = [part1,part2]\n",
        "df = pd.concat(bothParts)"
      ],
      "metadata": {
        "id": "H-P__GxlWO6Q"
      },
      "execution_count": 12,
      "outputs": []
    },
    {
      "cell_type": "markdown",
      "source": [
        "# EDA"
      ],
      "metadata": {
        "id": "f4HEvloFk4-O"
      }
    },
    {
      "cell_type": "markdown",
      "source": [
        "## Data Cleaning / Preprocessing"
      ],
      "metadata": {
        "id": "PoOfdyOtw_pq"
      }
    },
    {
      "cell_type": "code",
      "source": [
        "df.isnull().sum()"
      ],
      "metadata": {
        "colab": {
          "base_uri": "https://localhost:8080/"
        },
        "id": "egPxQPAKXrOM",
        "outputId": "76335225-66bb-41e1-e191-75bf358c0fbc"
      },
      "execution_count": 13,
      "outputs": [
        {
          "output_type": "execute_result",
          "data": {
            "text/plain": [
              "id                       42537\n",
              "member_id                42538\n",
              "loan_amnt                    3\n",
              "funded_amnt                  3\n",
              "funded_amnt_inv              3\n",
              "                         ...  \n",
              "settlement_status        42378\n",
              "settlement_date          42378\n",
              "settlement_amount        42378\n",
              "settlement_percentage    42378\n",
              "settlement_term          42378\n",
              "Length: 144, dtype: int64"
            ]
          },
          "metadata": {},
          "execution_count": 13
        }
      ]
    },
    {
      "cell_type": "code",
      "source": [
        "df.shape"
      ],
      "metadata": {
        "colab": {
          "base_uri": "https://localhost:8080/"
        },
        "id": "mjL-fTdTuuaf",
        "outputId": "3cf410a3-a746-41c2-e82e-4b23d35ff03c"
      },
      "execution_count": 14,
      "outputs": [
        {
          "output_type": "execute_result",
          "data": {
            "text/plain": [
              "(42538, 144)"
            ]
          },
          "metadata": {},
          "execution_count": 14
        }
      ]
    },
    {
      "cell_type": "code",
      "source": [
        "# drop columns that have no values\n",
        "for col in df.columns:\n",
        "  if df[col].isna().sum() >= 42537:\n",
        "    df.drop(col,inplace=True,axis=1)"
      ],
      "metadata": {
        "id": "Tuf_vQBftdsF"
      },
      "execution_count": 15,
      "outputs": []
    },
    {
      "cell_type": "code",
      "source": [
        "# confirm dropped columns\n",
        "df.shape"
      ],
      "metadata": {
        "colab": {
          "base_uri": "https://localhost:8080/"
        },
        "id": "jYhRJgQ6vC4n",
        "outputId": "74447b02-6cc2-4227-c5ce-2ac528c5a273"
      },
      "execution_count": 16,
      "outputs": [
        {
          "output_type": "execute_result",
          "data": {
            "text/plain": [
              "(42538, 62)"
            ]
          },
          "metadata": {},
          "execution_count": 16
        }
      ]
    },
    {
      "cell_type": "code",
      "source": [
        "# check dtypes\n",
        "df.dtypes"
      ],
      "metadata": {
        "colab": {
          "base_uri": "https://localhost:8080/"
        },
        "id": "oxH761ffdSgY",
        "outputId": "3b375136-39e9-4882-ee59-07311308da44"
      },
      "execution_count": 17,
      "outputs": [
        {
          "output_type": "execute_result",
          "data": {
            "text/plain": [
              "loan_amnt                float64\n",
              "funded_amnt              float64\n",
              "funded_amnt_inv          float64\n",
              "term                      object\n",
              "int_rate                  object\n",
              "                          ...   \n",
              "settlement_status         object\n",
              "settlement_date           object\n",
              "settlement_amount        float64\n",
              "settlement_percentage    float64\n",
              "settlement_term          float64\n",
              "Length: 62, dtype: object"
            ]
          },
          "metadata": {},
          "execution_count": 17
        }
      ]
    },
    {
      "cell_type": "code",
      "source": [
        "for obj in df.columns[df.dtypes == 'O']:\n",
        "    print(df[obj].value_counts())\n",
        "    print('************************')"
      ],
      "metadata": {
        "colab": {
          "base_uri": "https://localhost:8080/"
        },
        "id": "FzXDBwBIcP-Y",
        "outputId": "73b9b49e-c3e1-4991-c5d9-abde53c0869d"
      },
      "execution_count": 18,
      "outputs": [
        {
          "output_type": "stream",
          "name": "stdout",
          "text": [
            " 36 months    31534\n",
            " 60 months    11001\n",
            "Name: term, dtype: int64\n",
            "************************\n",
            "10.99%    970\n",
            "11.49%    837\n",
            "13.49%    832\n",
            "7.51%     787\n",
            "7.88%     742\n",
            "         ... \n",
            "17.46%      1\n",
            "21.48%      1\n",
            "24.40%      1\n",
            "16.83%      1\n",
            "16.20%      1\n",
            "Name: int_rate, Length: 394, dtype: int64\n",
            "************************\n",
            "B    12389\n",
            "A    10183\n",
            "C     8740\n",
            "D     6016\n",
            "E     3394\n",
            "F     1301\n",
            "G      512\n",
            "Name: grade, dtype: int64\n",
            "************************\n",
            "B3    2997\n",
            "A4    2905\n",
            "B5    2807\n",
            "A5    2793\n",
            "B4    2590\n",
            "C1    2264\n",
            "C2    2157\n",
            "B2    2113\n",
            "B1    1882\n",
            "A3    1823\n",
            "C3    1658\n",
            "A2    1520\n",
            "D2    1485\n",
            "C4    1370\n",
            "D3    1322\n",
            "C5    1291\n",
            "A1    1142\n",
            "D4    1140\n",
            "D1    1053\n",
            "D5    1016\n",
            "E1     884\n",
            "E2     791\n",
            "E3     668\n",
            "E4     552\n",
            "E5     499\n",
            "F1     392\n",
            "F2     308\n",
            "F3     236\n",
            "F4     211\n",
            "F5     154\n",
            "G1     141\n",
            "G2     107\n",
            "G4      99\n",
            "G5      86\n",
            "G3      79\n",
            "Name: sub_grade, dtype: int64\n",
            "************************\n",
            "US Army                             139\n",
            "Bank of America                     115\n",
            "IBM                                  72\n",
            "Kaiser Permanente                    61\n",
            "AT&T                                 61\n",
            "                                   ... \n",
            "Regional Elite Airlines Services      1\n",
            "Mass General Medical Group            1\n",
            "Kontera                               1\n",
            "Southeast Georgia Health ystem        1\n",
            "Homemaker                             1\n",
            "Name: emp_title, Length: 30658, dtype: int64\n",
            "************************\n",
            "10+ years    9369\n",
            "< 1 year     5062\n",
            "2 years      4743\n",
            "3 years      4364\n",
            "4 years      3649\n",
            "1 year       3595\n",
            "5 years      3458\n",
            "6 years      2375\n",
            "7 years      1875\n",
            "8 years      1592\n",
            "9 years      1341\n",
            "Name: emp_length, dtype: int64\n",
            "************************\n",
            "RENT        20181\n",
            "MORTGAGE    18959\n",
            "OWN          3251\n",
            "OTHER         136\n",
            "NONE            8\n",
            "Name: home_ownership, dtype: int64\n",
            "************************\n",
            "Not Verified       18758\n",
            "Verified           13471\n",
            "Source Verified    10306\n",
            "Name: verification_status, dtype: int64\n",
            "************************\n",
            "Dec-11    2267\n",
            "Nov-11    2232\n",
            "Oct-11    2118\n",
            "Sep-11    2067\n",
            "Aug-11    1934\n",
            "Jul-11    1875\n",
            "Jun-11    1835\n",
            "May-11    1704\n",
            "Apr-11    1563\n",
            "Mar-11    1448\n",
            "Jan-11    1380\n",
            "Dec-10    1335\n",
            "Feb-11    1298\n",
            "Oct-10    1232\n",
            "Nov-10    1224\n",
            "Jul-10    1204\n",
            "Sep-10    1189\n",
            "Aug-10    1175\n",
            "Jun-10    1105\n",
            "May-10     989\n",
            "Apr-10     912\n",
            "Mar-10     828\n",
            "Feb-10     682\n",
            "Jan-10     662\n",
            "Nov-09     662\n",
            "Dec-09     658\n",
            "Oct-09     604\n",
            "Sep-09     507\n",
            "Aug-09     446\n",
            "Jul-09     411\n",
            "Jun-09     406\n",
            "Mar-08     402\n",
            "May-09     359\n",
            "Apr-09     333\n",
            "Mar-09     324\n",
            "Feb-08     306\n",
            "Jan-08     305\n",
            "Feb-09     302\n",
            "Jan-09     269\n",
            "Apr-08     259\n",
            "Dec-08     253\n",
            "Nov-08     209\n",
            "Dec-07     172\n",
            "Jul-08     141\n",
            "Jun-08     124\n",
            "Oct-08     122\n",
            "May-08     115\n",
            "Nov-07     112\n",
            "Oct-07     105\n",
            "Aug-08     100\n",
            "Aug-07      74\n",
            "Jul-07      63\n",
            "Sep-08      57\n",
            "Sep-07      53\n",
            "Jun-07      24\n",
            "Name: issue_d, dtype: int64\n",
            "************************\n",
            "Fully Paid                                             34116\n",
            "Charged Off                                             5670\n",
            "Does not meet the credit policy. Status:Fully Paid      1988\n",
            "Does not meet the credit policy. Status:Charged Off      761\n",
            "Name: loan_status, dtype: int64\n",
            "************************\n",
            "n    42535\n",
            "Name: pymnt_plan, dtype: int64\n",
            "************************\n",
            "                                                                                                                                                                                                                                                                                                                                                                                                                                                                                                                                                 225\n",
            "Debt Consolidation                                                                                                                                                                                                                                                                                                                                                                                                                                                                                                                                11\n",
            "Camping Membership                                                                                                                                                                                                                                                                                                                                                                                                                                                                                                                                 8\n",
            "refinancing                                                                                                                                                                                                                                                                                                                                                                                                                                                                                                                                        5\n",
            "personal loan                                                                                                                                                                                                                                                                                                                                                                                                                                                                                                                                      3\n",
            "                                                                                                                                                                                                                                                                                                                                                                                                                                                                                                                                                ... \n",
            "  Borrower added on 04/13/11 > debt consolidation<br/> Borrower added on 04/13/11 > debt consolidation<br/>                                                                                                                                                                                                                                                                                                                                                                                                                                        1\n",
            "  Borrower added on 04/13/11 > I am looking to pay the difference in the sell of my home that I have up for sale and in contract. I am looking at paying $20000 of the difference so I can relocate closer to me and my wife's employers. We have no other debt, to include credit cards, with the exception of an auto loan at $19000. I plan on solely paying this debt off and ultimately purchasing a home again in a closer location. I initially needed a $12000 loan , but now I am only needing the requested amount. Thank you.<br/>      1\n",
            "  Borrower added on 04/18/11 > I am employed for 23 years at a major aerospace company.<br/>                                                                                                                                                                                                                                                                                                                                                                                                                                                       1\n",
            "I'm in the process of doing home remolding.                                                                                                                                                                                                                                                                                                                                                                                                                                                                                                        1\n",
            "I need to make several improvements around the house - fix garage, fix back fencing, and misc other.                                                                                                                                                                                                                                                                                                                                                                                                                                               1\n",
            "Name: desc, Length: 28963, dtype: int64\n",
            "************************\n",
            "debt_consolidation    19776\n",
            "credit_card            5477\n",
            "other                  4425\n",
            "home_improvement       3199\n",
            "major_purchase         2311\n",
            "small_business         1992\n",
            "car                    1615\n",
            "wedding                1004\n",
            "medical                 753\n",
            "moving                  629\n",
            "house                   426\n",
            "educational             422\n",
            "vacation                400\n",
            "renewable_energy        106\n",
            "Name: purpose, dtype: int64\n",
            "************************\n",
            "Debt Consolidation                  2259\n",
            "Debt Consolidation Loan             1760\n",
            "Personal Loan                        708\n",
            "Consolidation                        547\n",
            "debt consolidation                   532\n",
            "                                    ... \n",
            "Taxes Loan                             1\n",
            "Blazing in 5 years                     1\n",
            "I was scammed and now recovering       1\n",
            "ZIG                                    1\n",
            "Aroundthehouse                         1\n",
            "Name: title, Length: 21256, dtype: int64\n",
            "************************\n",
            "100xx    649\n",
            "945xx    559\n",
            "606xx    548\n",
            "112xx    538\n",
            "070xx    503\n",
            "        ... \n",
            "823xx      1\n",
            "965xx      1\n",
            "388xx      1\n",
            "386xx      1\n",
            "036xx      1\n",
            "Name: zip_code, Length: 837, dtype: int64\n",
            "************************\n",
            "CA    7429\n",
            "NY    4065\n",
            "FL    3104\n",
            "TX    2915\n",
            "NJ    1988\n",
            "IL    1672\n",
            "PA    1651\n",
            "GA    1503\n",
            "VA    1487\n",
            "MA    1438\n",
            "OH    1329\n",
            "MD    1125\n",
            "AZ     933\n",
            "WA     888\n",
            "CO     857\n",
            "NC     830\n",
            "CT     816\n",
            "MI     796\n",
            "MO     765\n",
            "MN     652\n",
            "NV     527\n",
            "WI     516\n",
            "SC     489\n",
            "AL     484\n",
            "OR     468\n",
            "LA     461\n",
            "KY     359\n",
            "OK     317\n",
            "KS     298\n",
            "UT     278\n",
            "AR     261\n",
            "DC     224\n",
            "RI     208\n",
            "NM     205\n",
            "NH     188\n",
            "WV     187\n",
            "HI     181\n",
            "DE     136\n",
            "MT      96\n",
            "WY      87\n",
            "AK      86\n",
            "SD      67\n",
            "VT      57\n",
            "TN      32\n",
            "MS      26\n",
            "IN      19\n",
            "IA      12\n",
            "NE      11\n",
            "ID       9\n",
            "ME       3\n",
            "Name: addr_state, dtype: int64\n",
            "************************\n",
            "Oct-99    393\n",
            "Nov-98    390\n",
            "Oct-00    370\n",
            "Dec-98    366\n",
            "Dec-97    348\n",
            "         ... \n",
            "Jul-64      1\n",
            "Mar-63      1\n",
            "Nov-65      1\n",
            "Apr-66      1\n",
            "Nov-59      1\n",
            "Name: earliest_cr_line, Length: 530, dtype: int64\n",
            "************************\n",
            "0%         1070\n",
            "40.70%       65\n",
            "0.20%        64\n",
            "63%          63\n",
            "66.60%       62\n",
            "           ... \n",
            "21.59%        1\n",
            "39.95%        1\n",
            "0.01%         1\n",
            "17.67%        1\n",
            "105.70%       1\n",
            "Name: revol_util, Length: 1119, dtype: int64\n",
            "************************\n",
            "f    42535\n",
            "Name: initial_list_status, dtype: int64\n",
            "************************\n",
            "Mar-13    1070\n",
            "Dec-14     949\n",
            "May-13     943\n",
            "Feb-13     906\n",
            "Mar-12     893\n",
            "          ... \n",
            "Jan-08      11\n",
            "Feb-08       8\n",
            "Feb-17       6\n",
            "Dec-07       2\n",
            "Apr-17       1\n",
            "Name: last_pymnt_d, Length: 112, dtype: int64\n",
            "************************\n",
            "Mar-11    107\n",
            "Apr-11    101\n",
            "Feb-11     91\n",
            "Jan-11     79\n",
            "May-11     77\n",
            "         ... \n",
            "Jul-14      2\n",
            "Feb-08      2\n",
            "Oct-14      2\n",
            "Mar-15      1\n",
            "May-08      1\n",
            "Name: next_pymnt_d, Length: 98, dtype: int64\n",
            "************************\n",
            "Jun-19    8446\n",
            "Oct-16    3861\n",
            "May-19    1073\n",
            "Apr-19     819\n",
            "Mar-19     700\n",
            "          ... \n",
            "Dec-07       2\n",
            "Feb-08       2\n",
            "Jul-08       1\n",
            "Jun-08       1\n",
            "Jul-07       1\n",
            "Name: last_credit_pull_d, Length: 143, dtype: int64\n",
            "************************\n",
            "Individual    42535\n",
            "Name: application_type, dtype: int64\n",
            "************************\n",
            "N    42535\n",
            "Name: hardship_flag, dtype: int64\n",
            "************************\n",
            "N    42375\n",
            "Y      160\n",
            "Name: debt_settlement_flag, dtype: int64\n",
            "************************\n",
            "Jun-17    18\n",
            "Jan-15     7\n",
            "Sep-15     6\n",
            "Jul-14     5\n",
            "May-14     5\n",
            "          ..\n",
            "Jun-16     1\n",
            "Aug-18     1\n",
            "Jul-17     1\n",
            "Jul-18     1\n",
            "Jan-18     1\n",
            "Name: debt_settlement_flag_date, Length: 65, dtype: int64\n",
            "************************\n",
            "COMPLETE    145\n",
            "BROKEN       14\n",
            "ACTIVE        1\n",
            "Name: settlement_status, dtype: int64\n",
            "************************\n",
            "Sep-13    8\n",
            "Oct-13    8\n",
            "Jan-15    8\n",
            "Mar-13    6\n",
            "Jul-14    6\n",
            "         ..\n",
            "Apr-15    1\n",
            "Feb-17    1\n",
            "Mar-16    1\n",
            "Aug-13    1\n",
            "Jan-16    1\n",
            "Name: settlement_date, Length: 61, dtype: int64\n",
            "************************\n"
          ]
        }
      ]
    },
    {
      "cell_type": "code",
      "source": [
        "# drop columns that either do no add informaiton or are documeted as part of the label 'loan_status'\n",
        "dropCatColumn = ['settlement_date','settlement_status','debt_settlement_flag','debt_settlement_flag_date','hardship_flag','application_type','next_pymnt_d','last_pymnt_d','initial_list_status','zip_code', 'addr_state', 'title',\n",
        "                 'desc','pymnt_plan','issue_d','term','int_rate']"
      ],
      "metadata": {
        "id": "kXM0hZd0ayCz"
      },
      "execution_count": 19,
      "outputs": []
    },
    {
      "cell_type": "code",
      "source": [
        "df.drop(dropCatColumn,inplace=True,axis=1)"
      ],
      "metadata": {
        "id": "MgwoPhA9imz2"
      },
      "execution_count": 20,
      "outputs": []
    },
    {
      "cell_type": "code",
      "source": [
        "for floats in df.columns[df.dtypes == 'float64']:\n",
        "    print(df[floats].value_counts())\n",
        "    print('************************')"
      ],
      "metadata": {
        "colab": {
          "base_uri": "https://localhost:8080/"
        },
        "id": "We-hqAjmeLwi",
        "outputId": "64e4dd5e-056c-49e6-89fb-0ac5ee847a00"
      },
      "execution_count": 21,
      "outputs": [
        {
          "output_type": "stream",
          "name": "stdout",
          "text": [
            "10000.0    3016\n",
            "12000.0    2439\n",
            "5000.0     2260\n",
            "6000.0     2037\n",
            "15000.0    2012\n",
            "           ... \n",
            "10350.0       1\n",
            "19100.0       1\n",
            "17975.0       1\n",
            "31150.0       1\n",
            "20425.0       1\n",
            "Name: loan_amnt, Length: 898, dtype: int64\n",
            "************************\n",
            "10000.0    2924\n",
            "12000.0    2347\n",
            "5000.0     2247\n",
            "6000.0     2023\n",
            "15000.0    1897\n",
            "           ... \n",
            "23625.0       1\n",
            "19625.0       1\n",
            "21425.0       1\n",
            "27750.0       1\n",
            "850.0         1\n",
            "Name: funded_amnt, Length: 1051, dtype: int64\n",
            "************************\n",
            "5000.000000     1369\n",
            "10000.000000    1302\n",
            "6000.000000     1241\n",
            "12000.000000    1084\n",
            "8000.000000      929\n",
            "                ... \n",
            "5480.733306        1\n",
            "14276.431140       1\n",
            "10141.459840       1\n",
            "10019.969440       1\n",
            "1099.996405        1\n",
            "Name: funded_amnt_inv, Length: 9244, dtype: int64\n",
            "************************\n",
            "311.11    68\n",
            "180.96    59\n",
            "311.02    54\n",
            "150.80    48\n",
            "368.45    46\n",
            "          ..\n",
            "357.77     1\n",
            "809.53     1\n",
            "48.93      1\n",
            "405.46     1\n",
            "204.84     1\n",
            "Name: installment, Length: 16459, dtype: int64\n",
            "************************\n",
            "60000.0     1591\n",
            "50000.0     1119\n",
            "40000.0      935\n",
            "45000.0      898\n",
            "30000.0      884\n",
            "            ... \n",
            "108820.0       1\n",
            "85634.0        1\n",
            "126996.0       1\n",
            "57110.0        1\n",
            "6500.0         1\n",
            "Name: annual_inc, Length: 5597, dtype: int64\n",
            "************************\n",
            "0.00     206\n",
            "12.00     54\n",
            "18.00     46\n",
            "10.00     46\n",
            "19.20     45\n",
            "        ... \n",
            "28.04      1\n",
            "27.44      1\n",
            "26.87      1\n",
            "27.58      1\n",
            "28.43      1\n",
            "Name: dti, Length: 2894, dtype: int64\n",
            "************************\n",
            "0.0     37771\n",
            "1.0      3595\n",
            "2.0       771\n",
            "3.0       244\n",
            "4.0        72\n",
            "5.0        27\n",
            "6.0        13\n",
            "7.0         6\n",
            "8.0         3\n",
            "11.0        2\n",
            "9.0         1\n",
            "13.0        1\n",
            "Name: delinq_2yrs, dtype: int64\n",
            "************************\n",
            "0.0     19657\n",
            "1.0     11247\n",
            "2.0      5987\n",
            "3.0      3182\n",
            "4.0      1056\n",
            "5.0       596\n",
            "6.0       339\n",
            "7.0       182\n",
            "8.0       115\n",
            "9.0        50\n",
            "10.0       24\n",
            "11.0       15\n",
            "12.0       15\n",
            "15.0        9\n",
            "13.0        6\n",
            "14.0        6\n",
            "18.0        4\n",
            "16.0        3\n",
            "17.0        2\n",
            "24.0        2\n",
            "19.0        2\n",
            "32.0        1\n",
            "33.0        1\n",
            "31.0        1\n",
            "28.0        1\n",
            "25.0        1\n",
            "27.0        1\n",
            "20.0        1\n",
            "Name: inq_last_6mths, dtype: int64\n",
            "************************\n",
            "0.0      821\n",
            "30.0     270\n",
            "19.0     266\n",
            "23.0     266\n",
            "15.0     263\n",
            "        ... \n",
            "89.0       1\n",
            "107.0      1\n",
            "85.0       1\n",
            "97.0       1\n",
            "95.0       1\n",
            "Name: mths_since_last_delinq, Length: 95, dtype: int64\n",
            "************************\n",
            "0.0      1275\n",
            "89.0       70\n",
            "113.0      68\n",
            "104.0      66\n",
            "87.0       62\n",
            "         ... \n",
            "120.0       1\n",
            "129.0       1\n",
            "5.0         1\n",
            "24.0        1\n",
            "19.0        1\n",
            "Name: mths_since_last_record, Length: 113, dtype: int64\n",
            "************************\n",
            "7.0     4252\n",
            "8.0     4176\n",
            "6.0     4172\n",
            "9.0     3922\n",
            "10.0    3386\n",
            "5.0     3368\n",
            "11.0    2944\n",
            "4.0     2508\n",
            "12.0    2398\n",
            "13.0    2060\n",
            "3.0     1608\n",
            "14.0    1597\n",
            "15.0    1290\n",
            "16.0    1022\n",
            "17.0     812\n",
            "2.0      692\n",
            "18.0     588\n",
            "19.0     442\n",
            "20.0     335\n",
            "21.0     276\n",
            "22.0     170\n",
            "23.0     121\n",
            "24.0      87\n",
            "25.0      63\n",
            "26.0      40\n",
            "1.0       39\n",
            "27.0      29\n",
            "28.0      29\n",
            "30.0      17\n",
            "29.0      16\n",
            "31.0      13\n",
            "34.0       8\n",
            "32.0       6\n",
            "33.0       5\n",
            "35.0       4\n",
            "36.0       2\n",
            "38.0       2\n",
            "37.0       1\n",
            "46.0       1\n",
            "39.0       1\n",
            "42.0       1\n",
            "41.0       1\n",
            "44.0       1\n",
            "47.0       1\n",
            "Name: open_acc, dtype: int64\n",
            "************************\n",
            "0.0    40130\n",
            "1.0     2298\n",
            "2.0       64\n",
            "3.0       11\n",
            "4.0        2\n",
            "5.0        1\n",
            "Name: pub_rec, dtype: int64\n",
            "************************\n",
            "0.0        1119\n",
            "255.0        14\n",
            "298.0        14\n",
            "1.0          13\n",
            "682.0        12\n",
            "           ... \n",
            "14170.0       1\n",
            "43734.0       1\n",
            "37778.0       1\n",
            "59797.0       1\n",
            "5251.0        1\n",
            "Name: revol_bal, Length: 22709, dtype: int64\n",
            "************************\n",
            "15.0    1552\n",
            "16.0    1547\n",
            "17.0    1543\n",
            "14.0    1531\n",
            "20.0    1504\n",
            "        ... \n",
            "74.0       1\n",
            "77.0       1\n",
            "78.0       1\n",
            "72.0       1\n",
            "90.0       1\n",
            "Name: total_acc, Length: 83, dtype: int64\n",
            "************************\n",
            "0.0    42535\n",
            "Name: out_prncp, dtype: int64\n",
            "************************\n",
            "0.0    42535\n",
            "Name: out_prncp_inv, dtype: int64\n",
            "************************\n",
            "11196.569430    26\n",
            "0.000000        19\n",
            "10956.775960    16\n",
            "11784.232230    16\n",
            "5478.387981     15\n",
            "                ..\n",
            "16139.907400     1\n",
            "13966.865470     1\n",
            "8192.258604      1\n",
            "35106.470040     1\n",
            "5619.762090      1\n",
            "Name: total_pymnt, Length: 40520, dtype: int64\n",
            "************************\n",
            "0.00        297\n",
            "6514.52      16\n",
            "13148.14     14\n",
            "5478.39      14\n",
            "6717.95      12\n",
            "           ... \n",
            "15378.30      1\n",
            "5295.45       1\n",
            "2350.76       1\n",
            "1179.29       1\n",
            "258.82        1\n",
            "Name: total_pymnt_inv, Length: 40102, dtype: int64\n",
            "************************\n",
            "10000.00    2432\n",
            "12000.00    1958\n",
            "5000.00     1861\n",
            "6000.00     1752\n",
            "15000.00    1529\n",
            "            ... \n",
            "3913.24        1\n",
            "1403.94        1\n",
            "371.71         1\n",
            "1124.52        1\n",
            "1791.32        1\n",
            "Name: total_rec_prncp, Length: 7691, dtype: int64\n",
            "************************\n",
            "0.00       83\n",
            "1196.57    26\n",
            "514.52     19\n",
            "956.78     17\n",
            "1148.14    17\n",
            "           ..\n",
            "279.64      1\n",
            "4872.67     1\n",
            "5586.05     1\n",
            "5174.34     1\n",
            "619.76      1\n",
            "Name: total_rec_int, Length: 37462, dtype: int64\n",
            "************************\n",
            "0.000000      40145\n",
            "15.000000       297\n",
            "15.000000        78\n",
            "30.000000        65\n",
            "15.000000        50\n",
            "              ...  \n",
            "79.011448         1\n",
            "44.971720         1\n",
            "26.308862         1\n",
            "38.895205         1\n",
            "120.000000        1\n",
            "Name: total_rec_late_fee, Length: 1557, dtype: int64\n",
            "************************\n",
            "0.00       36176\n",
            "0.30          14\n",
            "1.80          11\n",
            "0.96          10\n",
            "1.20          10\n",
            "           ...  \n",
            "3535.72        1\n",
            "1226.49        1\n",
            "364.47         1\n",
            "571.33         1\n",
            "4897.93        1\n",
            "Name: recoveries, Length: 5059, dtype: int64\n",
            "************************\n",
            "0.0000       38206\n",
            "2.0000          15\n",
            "1.2000          11\n",
            "1.6000          10\n",
            "1.8000           9\n",
            "             ...  \n",
            "3367.2394        1\n",
            "6.6200           1\n",
            "1.7372           1\n",
            "125.5230         1\n",
            "1714.2700        1\n",
            "Name: collection_recovery_fee, Length: 2896, dtype: int64\n",
            "************************\n",
            "0.00        96\n",
            "200.00      19\n",
            "100.00      17\n",
            "50.00       17\n",
            "150.00      13\n",
            "            ..\n",
            "275.03       1\n",
            "675.32       1\n",
            "12532.18     1\n",
            "3642.88      1\n",
            "156.39       1\n",
            "Name: last_pymnt_amnt, Length: 37260, dtype: int64\n",
            "************************\n",
            "0.0    42390\n",
            "Name: collections_12_mths_ex_med, dtype: int64\n",
            "************************\n",
            "1.0    42535\n",
            "Name: policy_code, dtype: int64\n",
            "************************\n",
            "0.0    42502\n",
            "1.0        4\n",
            "Name: acc_now_delinq, dtype: int64\n",
            "************************\n",
            "0.0    42390\n",
            "Name: chargeoff_within_12_mths, dtype: int64\n",
            "************************\n",
            "0.0       42504\n",
            "27.0          1\n",
            "6053.0        1\n",
            "Name: delinq_amnt, dtype: int64\n",
            "************************\n",
            "0.0    39316\n",
            "1.0     1846\n",
            "2.0        8\n",
            "Name: pub_rec_bankruptcies, dtype: int64\n",
            "************************\n",
            "0.0    42429\n",
            "1.0        1\n",
            "Name: tax_liens, dtype: int64\n",
            "************************\n",
            "5000.00    3\n",
            "8000.00    3\n",
            "1800.00    3\n",
            "6500.00    3\n",
            "1000.00    2\n",
            "          ..\n",
            "7274.80    1\n",
            "4152.00    1\n",
            "1736.16    1\n",
            "2287.78    1\n",
            "2067.00    1\n",
            "Name: settlement_amount, Length: 143, dtype: int64\n",
            "************************\n",
            "50.00    13\n",
            "40.00     8\n",
            "45.00     5\n",
            "65.00     4\n",
            "49.98     3\n",
            "         ..\n",
            "80.00     1\n",
            "47.10     1\n",
            "31.54     1\n",
            "46.34     1\n",
            "40.38     1\n",
            "Name: settlement_percentage, Length: 123, dtype: int64\n",
            "************************\n",
            "0.0     125\n",
            "1.0      17\n",
            "2.0       5\n",
            "6.0       3\n",
            "24.0      2\n",
            "18.0      2\n",
            "12.0      1\n",
            "23.0      1\n",
            "11.0      1\n",
            "8.0       1\n",
            "9.0       1\n",
            "10.0      1\n",
            "Name: settlement_term, dtype: int64\n",
            "************************\n"
          ]
        }
      ]
    },
    {
      "cell_type": "code",
      "source": [
        "# Future date/post approval, missing too much data to extrapolate\n",
        "dropFloats = ['settlement_term','settlement_percentage','settlement_amount','delinq_amnt','acc_now_delinq','policy_code','chargeoff_within_12_mths','collections_12_mths_ex_med','last_pymnt_amnt','collection_recovery_fee','total_rec_late_fee','total_rec_int',\n",
        "              'total_rec_prncp','total_pymnt_inv','total_pymnt','out_prncp_inv','out_prncp','mths_since_last_record','installment','funded_amnt_inv','funded_amnt','loan_amnt']"
      ],
      "metadata": {
        "id": "uznSQPmob_Gd"
      },
      "execution_count": 22,
      "outputs": []
    },
    {
      "cell_type": "code",
      "source": [
        "df.drop(dropFloats,inplace=True,axis=1)"
      ],
      "metadata": {
        "id": "65rMGvQXlRLT"
      },
      "execution_count": 23,
      "outputs": []
    },
    {
      "cell_type": "code",
      "source": [
        "df.shape"
      ],
      "metadata": {
        "colab": {
          "base_uri": "https://localhost:8080/"
        },
        "id": "DEJ4D3ib5Hto",
        "outputId": "cafd20b1-c78c-4076-be4b-05fd26657fcf"
      },
      "execution_count": 24,
      "outputs": [
        {
          "output_type": "execute_result",
          "data": {
            "text/plain": [
              "(42538, 23)"
            ]
          },
          "metadata": {},
          "execution_count": 24
        }
      ]
    },
    {
      "cell_type": "code",
      "source": [
        "df.isna().sum()"
      ],
      "metadata": {
        "colab": {
          "base_uri": "https://localhost:8080/"
        },
        "id": "lYJ00BfQ6Yr9",
        "outputId": "17292a20-f41e-4134-a483-93defe9936e4"
      },
      "execution_count": 25,
      "outputs": [
        {
          "output_type": "execute_result",
          "data": {
            "text/plain": [
              "grade                         3\n",
              "sub_grade                     3\n",
              "emp_title                  2629\n",
              "emp_length                 1115\n",
              "home_ownership                3\n",
              "annual_inc                    7\n",
              "verification_status           3\n",
              "loan_status                   3\n",
              "purpose                       3\n",
              "dti                           3\n",
              "delinq_2yrs                  32\n",
              "earliest_cr_line             32\n",
              "inq_last_6mths               32\n",
              "mths_since_last_delinq    26929\n",
              "open_acc                     32\n",
              "pub_rec                      32\n",
              "revol_bal                     3\n",
              "revol_util                   93\n",
              "total_acc                    32\n",
              "recoveries                    3\n",
              "last_credit_pull_d            7\n",
              "pub_rec_bankruptcies       1368\n",
              "tax_liens                   108\n",
              "dtype: int64"
            ]
          },
          "metadata": {},
          "execution_count": 25
        }
      ]
    },
    {
      "cell_type": "code",
      "source": [
        "# target value, we cannot use observations missing this value.\n",
        "df[df['loan_status'].isnull()]"
      ],
      "metadata": {
        "colab": {
          "base_uri": "https://localhost:8080/",
          "height": 0
        },
        "id": "OwdfMWBC9gci",
        "outputId": "7d075747-f225-40c2-aff5-7621b017a9e4"
      },
      "execution_count": 26,
      "outputs": [
        {
          "output_type": "execute_result",
          "data": {
            "text/plain": [
              "      grade sub_grade emp_title emp_length home_ownership  annual_inc  \\\n",
              "18286   NaN       NaN       NaN        NaN            NaN         NaN   \n",
              "18287   NaN       NaN       NaN        NaN            NaN         NaN   \n",
              "18288   NaN       NaN       NaN        NaN            NaN         NaN   \n",
              "\n",
              "      verification_status loan_status purpose  dti  ...  \\\n",
              "18286                 NaN         NaN     NaN  NaN  ...   \n",
              "18287                 NaN         NaN     NaN  NaN  ...   \n",
              "18288                 NaN         NaN     NaN  NaN  ...   \n",
              "\n",
              "       mths_since_last_delinq open_acc  pub_rec  revol_bal  revol_util  \\\n",
              "18286                     NaN      NaN      NaN        NaN         NaN   \n",
              "18287                     NaN      NaN      NaN        NaN         NaN   \n",
              "18288                     NaN      NaN      NaN        NaN         NaN   \n",
              "\n",
              "       total_acc  recoveries last_credit_pull_d  pub_rec_bankruptcies  \\\n",
              "18286        NaN         NaN                NaN                   NaN   \n",
              "18287        NaN         NaN                NaN                   NaN   \n",
              "18288        NaN         NaN                NaN                   NaN   \n",
              "\n",
              "       tax_liens  \n",
              "18286        NaN  \n",
              "18287        NaN  \n",
              "18288        NaN  \n",
              "\n",
              "[3 rows x 23 columns]"
            ],
            "text/html": [
              "\n",
              "  <div id=\"df-6b867934-1d72-45c0-baa2-f2f182ad59de\">\n",
              "    <div class=\"colab-df-container\">\n",
              "      <div>\n",
              "<style scoped>\n",
              "    .dataframe tbody tr th:only-of-type {\n",
              "        vertical-align: middle;\n",
              "    }\n",
              "\n",
              "    .dataframe tbody tr th {\n",
              "        vertical-align: top;\n",
              "    }\n",
              "\n",
              "    .dataframe thead th {\n",
              "        text-align: right;\n",
              "    }\n",
              "</style>\n",
              "<table border=\"1\" class=\"dataframe\">\n",
              "  <thead>\n",
              "    <tr style=\"text-align: right;\">\n",
              "      <th></th>\n",
              "      <th>grade</th>\n",
              "      <th>sub_grade</th>\n",
              "      <th>emp_title</th>\n",
              "      <th>emp_length</th>\n",
              "      <th>home_ownership</th>\n",
              "      <th>annual_inc</th>\n",
              "      <th>verification_status</th>\n",
              "      <th>loan_status</th>\n",
              "      <th>purpose</th>\n",
              "      <th>dti</th>\n",
              "      <th>...</th>\n",
              "      <th>mths_since_last_delinq</th>\n",
              "      <th>open_acc</th>\n",
              "      <th>pub_rec</th>\n",
              "      <th>revol_bal</th>\n",
              "      <th>revol_util</th>\n",
              "      <th>total_acc</th>\n",
              "      <th>recoveries</th>\n",
              "      <th>last_credit_pull_d</th>\n",
              "      <th>pub_rec_bankruptcies</th>\n",
              "      <th>tax_liens</th>\n",
              "    </tr>\n",
              "  </thead>\n",
              "  <tbody>\n",
              "    <tr>\n",
              "      <th>18286</th>\n",
              "      <td>NaN</td>\n",
              "      <td>NaN</td>\n",
              "      <td>NaN</td>\n",
              "      <td>NaN</td>\n",
              "      <td>NaN</td>\n",
              "      <td>NaN</td>\n",
              "      <td>NaN</td>\n",
              "      <td>NaN</td>\n",
              "      <td>NaN</td>\n",
              "      <td>NaN</td>\n",
              "      <td>...</td>\n",
              "      <td>NaN</td>\n",
              "      <td>NaN</td>\n",
              "      <td>NaN</td>\n",
              "      <td>NaN</td>\n",
              "      <td>NaN</td>\n",
              "      <td>NaN</td>\n",
              "      <td>NaN</td>\n",
              "      <td>NaN</td>\n",
              "      <td>NaN</td>\n",
              "      <td>NaN</td>\n",
              "    </tr>\n",
              "    <tr>\n",
              "      <th>18287</th>\n",
              "      <td>NaN</td>\n",
              "      <td>NaN</td>\n",
              "      <td>NaN</td>\n",
              "      <td>NaN</td>\n",
              "      <td>NaN</td>\n",
              "      <td>NaN</td>\n",
              "      <td>NaN</td>\n",
              "      <td>NaN</td>\n",
              "      <td>NaN</td>\n",
              "      <td>NaN</td>\n",
              "      <td>...</td>\n",
              "      <td>NaN</td>\n",
              "      <td>NaN</td>\n",
              "      <td>NaN</td>\n",
              "      <td>NaN</td>\n",
              "      <td>NaN</td>\n",
              "      <td>NaN</td>\n",
              "      <td>NaN</td>\n",
              "      <td>NaN</td>\n",
              "      <td>NaN</td>\n",
              "      <td>NaN</td>\n",
              "    </tr>\n",
              "    <tr>\n",
              "      <th>18288</th>\n",
              "      <td>NaN</td>\n",
              "      <td>NaN</td>\n",
              "      <td>NaN</td>\n",
              "      <td>NaN</td>\n",
              "      <td>NaN</td>\n",
              "      <td>NaN</td>\n",
              "      <td>NaN</td>\n",
              "      <td>NaN</td>\n",
              "      <td>NaN</td>\n",
              "      <td>NaN</td>\n",
              "      <td>...</td>\n",
              "      <td>NaN</td>\n",
              "      <td>NaN</td>\n",
              "      <td>NaN</td>\n",
              "      <td>NaN</td>\n",
              "      <td>NaN</td>\n",
              "      <td>NaN</td>\n",
              "      <td>NaN</td>\n",
              "      <td>NaN</td>\n",
              "      <td>NaN</td>\n",
              "      <td>NaN</td>\n",
              "    </tr>\n",
              "  </tbody>\n",
              "</table>\n",
              "<p>3 rows × 23 columns</p>\n",
              "</div>\n",
              "      <button class=\"colab-df-convert\" onclick=\"convertToInteractive('df-6b867934-1d72-45c0-baa2-f2f182ad59de')\"\n",
              "              title=\"Convert this dataframe to an interactive table.\"\n",
              "              style=\"display:none;\">\n",
              "        \n",
              "  <svg xmlns=\"http://www.w3.org/2000/svg\" height=\"24px\"viewBox=\"0 0 24 24\"\n",
              "       width=\"24px\">\n",
              "    <path d=\"M0 0h24v24H0V0z\" fill=\"none\"/>\n",
              "    <path d=\"M18.56 5.44l.94 2.06.94-2.06 2.06-.94-2.06-.94-.94-2.06-.94 2.06-2.06.94zm-11 1L8.5 8.5l.94-2.06 2.06-.94-2.06-.94L8.5 2.5l-.94 2.06-2.06.94zm10 10l.94 2.06.94-2.06 2.06-.94-2.06-.94-.94-2.06-.94 2.06-2.06.94z\"/><path d=\"M17.41 7.96l-1.37-1.37c-.4-.4-.92-.59-1.43-.59-.52 0-1.04.2-1.43.59L10.3 9.45l-7.72 7.72c-.78.78-.78 2.05 0 2.83L4 21.41c.39.39.9.59 1.41.59.51 0 1.02-.2 1.41-.59l7.78-7.78 2.81-2.81c.8-.78.8-2.07 0-2.86zM5.41 20L4 18.59l7.72-7.72 1.47 1.35L5.41 20z\"/>\n",
              "  </svg>\n",
              "      </button>\n",
              "      \n",
              "  <style>\n",
              "    .colab-df-container {\n",
              "      display:flex;\n",
              "      flex-wrap:wrap;\n",
              "      gap: 12px;\n",
              "    }\n",
              "\n",
              "    .colab-df-convert {\n",
              "      background-color: #E8F0FE;\n",
              "      border: none;\n",
              "      border-radius: 50%;\n",
              "      cursor: pointer;\n",
              "      display: none;\n",
              "      fill: #1967D2;\n",
              "      height: 32px;\n",
              "      padding: 0 0 0 0;\n",
              "      width: 32px;\n",
              "    }\n",
              "\n",
              "    .colab-df-convert:hover {\n",
              "      background-color: #E2EBFA;\n",
              "      box-shadow: 0px 1px 2px rgba(60, 64, 67, 0.3), 0px 1px 3px 1px rgba(60, 64, 67, 0.15);\n",
              "      fill: #174EA6;\n",
              "    }\n",
              "\n",
              "    [theme=dark] .colab-df-convert {\n",
              "      background-color: #3B4455;\n",
              "      fill: #D2E3FC;\n",
              "    }\n",
              "\n",
              "    [theme=dark] .colab-df-convert:hover {\n",
              "      background-color: #434B5C;\n",
              "      box-shadow: 0px 1px 3px 1px rgba(0, 0, 0, 0.15);\n",
              "      filter: drop-shadow(0px 1px 2px rgba(0, 0, 0, 0.3));\n",
              "      fill: #FFFFFF;\n",
              "    }\n",
              "  </style>\n",
              "\n",
              "      <script>\n",
              "        const buttonEl =\n",
              "          document.querySelector('#df-6b867934-1d72-45c0-baa2-f2f182ad59de button.colab-df-convert');\n",
              "        buttonEl.style.display =\n",
              "          google.colab.kernel.accessAllowed ? 'block' : 'none';\n",
              "\n",
              "        async function convertToInteractive(key) {\n",
              "          const element = document.querySelector('#df-6b867934-1d72-45c0-baa2-f2f182ad59de');\n",
              "          const dataTable =\n",
              "            await google.colab.kernel.invokeFunction('convertToInteractive',\n",
              "                                                     [key], {});\n",
              "          if (!dataTable) return;\n",
              "\n",
              "          const docLinkHtml = 'Like what you see? Visit the ' +\n",
              "            '<a target=\"_blank\" href=https://colab.research.google.com/notebooks/data_table.ipynb>data table notebook</a>'\n",
              "            + ' to learn more about interactive tables.';\n",
              "          element.innerHTML = '';\n",
              "          dataTable['output_type'] = 'display_data';\n",
              "          await google.colab.output.renderOutput(dataTable, element);\n",
              "          const docLink = document.createElement('div');\n",
              "          docLink.innerHTML = docLinkHtml;\n",
              "          element.appendChild(docLink);\n",
              "        }\n",
              "      </script>\n",
              "    </div>\n",
              "  </div>\n",
              "  "
            ]
          },
          "metadata": {},
          "execution_count": 26
        }
      ]
    },
    {
      "cell_type": "code",
      "source": [
        "# This reolves the missing target value, missing grade, and missing dti values\n",
        "df.drop([18286,18287,18288], inplace=True)"
      ],
      "metadata": {
        "id": "r7fsC_MpldK8"
      },
      "execution_count": 27,
      "outputs": []
    },
    {
      "cell_type": "code",
      "source": [
        "# It is reasonable to assume that no entry is likely a lack of occurance for these fields, although it could be a data entry error. It is unlikey the lendor did not look for these on the credit history.\n",
        "zero_out = ['tax_liens','pub_rec_bankruptcies','recoveries','mths_since_last_delinq','delinq_2yrs','inq_last_6mths','pub_rec']\n",
        "\n",
        "for zOut in zero_out:\n",
        "  df[zOut].fillna(0.0,inplace=True)"
      ],
      "metadata": {
        "id": "2i1Y5-7504W1"
      },
      "execution_count": 28,
      "outputs": []
    },
    {
      "cell_type": "code",
      "source": [
        "df.emp_title.value_counts()"
      ],
      "metadata": {
        "colab": {
          "base_uri": "https://localhost:8080/"
        },
        "id": "u4sOv3iU4Ky3",
        "outputId": "6f3cb0bf-129b-4535-885e-36fb641ef8e7"
      },
      "execution_count": 29,
      "outputs": [
        {
          "output_type": "execute_result",
          "data": {
            "text/plain": [
              "US Army                             139\n",
              "Bank of America                     115\n",
              "IBM                                  72\n",
              "AT&T                                 61\n",
              "Kaiser Permanente                    61\n",
              "                                   ... \n",
              "Regional Elite Airlines Services      1\n",
              "Mass General Medical Group            1\n",
              "Kontera                               1\n",
              "Southeast Georgia Health ystem        1\n",
              "Homemaker                             1\n",
              "Name: emp_title, Length: 30656, dtype: int64"
            ]
          },
          "metadata": {},
          "execution_count": 29
        }
      ]
    },
    {
      "cell_type": "code",
      "source": [
        "# emp_title is too diverse to be of use. Possible categorization, however 30k+ values makes that impraticle at this time.\n",
        "df.drop('emp_title',axis=1,inplace=True)"
      ],
      "metadata": {
        "id": "SfICRTtOnioj"
      },
      "execution_count": 30,
      "outputs": []
    },
    {
      "cell_type": "code",
      "source": [
        "df.home_ownership.value_counts()"
      ],
      "metadata": {
        "colab": {
          "base_uri": "https://localhost:8080/"
        },
        "id": "z48dvbB8oKNn",
        "outputId": "6333cbf4-23f5-4ffa-a48a-3c85e05a2c18"
      },
      "execution_count": 31,
      "outputs": [
        {
          "output_type": "execute_result",
          "data": {
            "text/plain": [
              "RENT        20180\n",
              "MORTGAGE    18957\n",
              "OWN          3251\n",
              "OTHER         136\n",
              "NONE            8\n",
              "Name: home_ownership, dtype: int64"
            ]
          },
          "metadata": {},
          "execution_count": 31
        }
      ]
    },
    {
      "cell_type": "code",
      "source": [
        "# NONE is ambiguous, OTHER category better fits homeless and those living with others.\n",
        "df['home_ownership'].replace('NONE','OTHER',inplace=True)"
      ],
      "metadata": {
        "id": "13hA967Doc30"
      },
      "execution_count": 32,
      "outputs": []
    },
    {
      "cell_type": "code",
      "source": [
        "df['home_ownership'].fillna('OTHER')\n",
        "df.home_ownership.value_counts()"
      ],
      "metadata": {
        "colab": {
          "base_uri": "https://localhost:8080/"
        },
        "id": "v9sRCZEIpUDA",
        "outputId": "96bce085-45aa-46f6-d765-146090de445a"
      },
      "execution_count": 33,
      "outputs": [
        {
          "output_type": "execute_result",
          "data": {
            "text/plain": [
              "RENT        20180\n",
              "MORTGAGE    18957\n",
              "OWN          3251\n",
              "OTHER         144\n",
              "Name: home_ownership, dtype: int64"
            ]
          },
          "metadata": {},
          "execution_count": 33
        }
      ]
    },
    {
      "cell_type": "code",
      "source": [
        "df.purpose.value_counts()"
      ],
      "metadata": {
        "colab": {
          "base_uri": "https://localhost:8080/"
        },
        "id": "uEbxvs_ivVWD",
        "outputId": "a64aa83f-5628-4ed3-a4d6-346900a0aed5"
      },
      "execution_count": 34,
      "outputs": [
        {
          "output_type": "execute_result",
          "data": {
            "text/plain": [
              "debt_consolidation    19775\n",
              "credit_card            5477\n",
              "other                  4425\n",
              "home_improvement       3199\n",
              "major_purchase         2310\n",
              "small_business         1991\n",
              "car                    1615\n",
              "wedding                1004\n",
              "medical                 753\n",
              "moving                  629\n",
              "house                   426\n",
              "educational             422\n",
              "vacation                400\n",
              "renewable_energy        106\n",
              "Name: purpose, dtype: int64"
            ]
          },
          "metadata": {},
          "execution_count": 34
        }
      ]
    },
    {
      "cell_type": "code",
      "source": [
        "# Replace empty fields with other category\n",
        "purposeNULL = df.purpose.isna()\n",
        "df = df.replace(purposeNULL,'other')"
      ],
      "metadata": {
        "id": "wih6lA2Svy6L"
      },
      "execution_count": 35,
      "outputs": []
    },
    {
      "cell_type": "code",
      "source": [
        "df.isna().sum()"
      ],
      "metadata": {
        "colab": {
          "base_uri": "https://localhost:8080/"
        },
        "id": "7covgz609vNH",
        "outputId": "80379ec4-a3d9-4493-d484-ab30c67dfce4"
      },
      "execution_count": 36,
      "outputs": [
        {
          "output_type": "execute_result",
          "data": {
            "text/plain": [
              "grade                        0\n",
              "sub_grade                    0\n",
              "emp_length                1112\n",
              "home_ownership               0\n",
              "annual_inc                   4\n",
              "verification_status          0\n",
              "loan_status                  0\n",
              "purpose                      0\n",
              "dti                          0\n",
              "delinq_2yrs                  0\n",
              "earliest_cr_line            29\n",
              "inq_last_6mths               0\n",
              "mths_since_last_delinq       0\n",
              "open_acc                    29\n",
              "pub_rec                      0\n",
              "revol_bal                    0\n",
              "revol_util                  90\n",
              "total_acc                   29\n",
              "recoveries                   0\n",
              "last_credit_pull_d           4\n",
              "pub_rec_bankruptcies         0\n",
              "tax_liens                    0\n",
              "dtype: int64"
            ]
          },
          "metadata": {},
          "execution_count": 36
        }
      ]
    },
    {
      "cell_type": "code",
      "source": [
        "df.last_credit_pull_d.value_counts()"
      ],
      "metadata": {
        "colab": {
          "base_uri": "https://localhost:8080/"
        },
        "id": "Ynu8O3nHugAs",
        "outputId": "fa7f547a-5eee-4d2e-bae9-2aff6cf0446d"
      },
      "execution_count": 37,
      "outputs": [
        {
          "output_type": "execute_result",
          "data": {
            "text/plain": [
              "Jun-19    8445\n",
              "Oct-16    3860\n",
              "May-19    1073\n",
              "Apr-19     819\n",
              "Mar-19     700\n",
              "          ... \n",
              "Dec-07       2\n",
              "Feb-08       2\n",
              "Jul-08       1\n",
              "Jun-08       1\n",
              "Jul-07       1\n",
              "Name: last_credit_pull_d, Length: 143, dtype: int64"
            ]
          },
          "metadata": {},
          "execution_count": 37
        }
      ]
    },
    {
      "cell_type": "code",
      "source": [
        "# these columns will take the median value for fillna\n",
        "median_fill = ['emp_length','annual_inc','open_acc','pub_rec','open_acc','revol_util','total_acc']\n",
        "for med in median_fill:\n",
        "  df[med].fillna(df[med].median,inplace=True)"
      ],
      "metadata": {
        "id": "QmKXLXUXqj8f"
      },
      "execution_count": 38,
      "outputs": []
    },
    {
      "cell_type": "markdown",
      "source": [
        "earliest_cr_line and last_credit_pull_d are date based and will be removed for now. They would be of greater use as categories for time periods of age of accounts."
      ],
      "metadata": {
        "id": "Orl1tXHdv8C-"
      }
    },
    {
      "cell_type": "code",
      "source": [
        "dates = ['earliest_cr_line','last_credit_pull_d']\n",
        "df.drop(dates,axis=1,inplace=True)"
      ],
      "metadata": {
        "id": "XELBKiiqwJme"
      },
      "execution_count": 39,
      "outputs": []
    },
    {
      "cell_type": "code",
      "source": [
        "df.isna().sum()"
      ],
      "metadata": {
        "colab": {
          "base_uri": "https://localhost:8080/"
        },
        "id": "-zhFZv6vvnFL",
        "outputId": "f1ec6a1a-63ca-48d7-c57f-b71fc8e570f5"
      },
      "execution_count": 40,
      "outputs": [
        {
          "output_type": "execute_result",
          "data": {
            "text/plain": [
              "grade                     0\n",
              "sub_grade                 0\n",
              "emp_length                0\n",
              "home_ownership            0\n",
              "annual_inc                0\n",
              "verification_status       0\n",
              "loan_status               0\n",
              "purpose                   0\n",
              "dti                       0\n",
              "delinq_2yrs               0\n",
              "inq_last_6mths            0\n",
              "mths_since_last_delinq    0\n",
              "open_acc                  0\n",
              "pub_rec                   0\n",
              "revol_bal                 0\n",
              "revol_util                0\n",
              "total_acc                 0\n",
              "recoveries                0\n",
              "pub_rec_bankruptcies      0\n",
              "tax_liens                 0\n",
              "dtype: int64"
            ]
          },
          "metadata": {},
          "execution_count": 40
        }
      ]
    },
    {
      "cell_type": "code",
      "source": [
        "df.reset_index(inplace=True) "
      ],
      "metadata": {
        "id": "Skv05S46BjCo"
      },
      "execution_count": 41,
      "outputs": []
    },
    {
      "cell_type": "code",
      "source": [
        "pd.options.display.max_columns = None"
      ],
      "metadata": {
        "id": "zglxovcEZ5rr"
      },
      "execution_count": 42,
      "outputs": []
    },
    {
      "cell_type": "markdown",
      "source": [
        "## Data Exploration"
      ],
      "metadata": {
        "id": "KocHCyBHxMN-"
      }
    },
    {
      "cell_type": "code",
      "source": [
        "create_report(df)"
      ],
      "metadata": {
        "colab": {
          "base_uri": "https://localhost:8080/",
          "height": 172
        },
        "id": "N7wUtiZrxR29",
        "outputId": "85c34872-e8a9-4702-88d7-cfe31504eb51"
      },
      "execution_count": 9,
      "outputs": [
        {
          "output_type": "error",
          "ename": "NameError",
          "evalue": "ignored",
          "traceback": [
            "\u001b[0;31m---------------------------------------------------------------------------\u001b[0m",
            "\u001b[0;31mNameError\u001b[0m                                 Traceback (most recent call last)",
            "\u001b[0;32m<ipython-input-9-463fb2fdfb17>\u001b[0m in \u001b[0;36m<module>\u001b[0;34m\u001b[0m\n\u001b[0;32m----> 1\u001b[0;31m \u001b[0mcreate_report\u001b[0m\u001b[0;34m(\u001b[0m\u001b[0mdf\u001b[0m\u001b[0;34m)\u001b[0m\u001b[0;34m\u001b[0m\u001b[0;34m\u001b[0m\u001b[0m\n\u001b[0m",
            "\u001b[0;31mNameError\u001b[0m: name 'df' is not defined"
          ]
        }
      ]
    },
    {
      "cell_type": "code",
      "source": [],
      "metadata": {
        "id": "TWf5A8qNxSO9"
      },
      "execution_count": null,
      "outputs": []
    }
  ]
}